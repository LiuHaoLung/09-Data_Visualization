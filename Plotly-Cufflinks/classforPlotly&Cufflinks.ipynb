{
 "cells": [
  {
   "cell_type": "markdown",
   "metadata": {},
   "source": [
    "# Plotly & Cufflinks\n",
    "\n",
    "1. Plotly is an interactive visualization library.\n",
    "2. Cufflinks connects Plotly with pandas."
   ]
  },
  {
   "cell_type": "code",
   "execution_count": 1,
   "metadata": {},
   "outputs": [],
   "source": [
    "import pandas as pd"
   ]
  },
  {
   "cell_type": "code",
   "execution_count": 2,
   "metadata": {},
   "outputs": [],
   "source": [
    "import numpy as np"
   ]
  },
  {
   "cell_type": "code",
   "execution_count": 3,
   "metadata": {},
   "outputs": [],
   "source": [
    "%matplotlib inline"
   ]
  },
  {
   "cell_type": "code",
   "execution_count": 4,
   "metadata": {},
   "outputs": [],
   "source": [
    "from plotly import __version__"
   ]
  },
  {
   "cell_type": "code",
   "execution_count": 5,
   "metadata": {},
   "outputs": [
    {
     "name": "stdout",
     "output_type": "stream",
     "text": [
      "4.1.1\n"
     ]
    }
   ],
   "source": [
    "print(__version__)"
   ]
  },
  {
   "cell_type": "code",
   "execution_count": 6,
   "metadata": {},
   "outputs": [],
   "source": [
    "import cufflinks as cf"
   ]
  },
  {
   "cell_type": "code",
   "execution_count": 7,
   "metadata": {},
   "outputs": [],
   "source": [
    "from plotly.offline import download_plotlyjs,init_notebook_mode,plot,iplot"
   ]
  },
  {
   "cell_type": "code",
   "execution_count": 8,
   "metadata": {},
   "outputs": [
    {
     "data": {
      "text/html": [
       "        <script type=\"text/javascript\">\n",
       "        window.PlotlyConfig = {MathJaxConfig: 'local'};\n",
       "        if (window.MathJax) {MathJax.Hub.Config({SVG: {font: \"STIX-Web\"}});}\n",
       "        if (typeof require !== 'undefined') {\n",
       "        require.undef(\"plotly\");\n",
       "        requirejs.config({\n",
       "            paths: {\n",
       "                'plotly': ['https://cdn.plot.ly/plotly-latest.min']\n",
       "            }\n",
       "        });\n",
       "        require(['plotly'], function(Plotly) {\n",
       "            window._Plotly = Plotly;\n",
       "        });\n",
       "        }\n",
       "        </script>\n",
       "        "
      ]
     },
     "metadata": {},
     "output_type": "display_data"
    }
   ],
   "source": [
    "# in order to use it in the notebook it have to connect\n",
    "\n",
    "init_notebook_mode(connected = True)"
   ]
  },
  {
   "cell_type": "code",
   "execution_count": 9,
   "metadata": {},
   "outputs": [
    {
     "data": {
      "text/html": [
       "        <script type=\"text/javascript\">\n",
       "        window.PlotlyConfig = {MathJaxConfig: 'local'};\n",
       "        if (window.MathJax) {MathJax.Hub.Config({SVG: {font: \"STIX-Web\"}});}\n",
       "        if (typeof require !== 'undefined') {\n",
       "        require.undef(\"plotly\");\n",
       "        requirejs.config({\n",
       "            paths: {\n",
       "                'plotly': ['https://cdn.plot.ly/plotly-latest.min']\n",
       "            }\n",
       "        });\n",
       "        require(['plotly'], function(Plotly) {\n",
       "            window._Plotly = Plotly;\n",
       "        });\n",
       "        }\n",
       "        </script>\n",
       "        "
      ]
     },
     "metadata": {},
     "output_type": "display_data"
    }
   ],
   "source": [
    "# can use cufflinks offline\n",
    "\n",
    "cf.go_offline()"
   ]
  },
  {
   "cell_type": "code",
   "execution_count": 10,
   "metadata": {},
   "outputs": [],
   "source": [
    "# Data\n",
    "# randn is normal distribution\n",
    "# 100 rows and the columns name is A B C D\n",
    "\n",
    "df = pd.DataFrame(np.random.randn(100,4), columns = 'A B C D'.split())"
   ]
  },
  {
   "cell_type": "code",
   "execution_count": 11,
   "metadata": {},
   "outputs": [
    {
     "data": {
      "text/html": [
       "<div>\n",
       "<style scoped>\n",
       "    .dataframe tbody tr th:only-of-type {\n",
       "        vertical-align: middle;\n",
       "    }\n",
       "\n",
       "    .dataframe tbody tr th {\n",
       "        vertical-align: top;\n",
       "    }\n",
       "\n",
       "    .dataframe thead th {\n",
       "        text-align: right;\n",
       "    }\n",
       "</style>\n",
       "<table border=\"1\" class=\"dataframe\">\n",
       "  <thead>\n",
       "    <tr style=\"text-align: right;\">\n",
       "      <th></th>\n",
       "      <th>A</th>\n",
       "      <th>B</th>\n",
       "      <th>C</th>\n",
       "      <th>D</th>\n",
       "    </tr>\n",
       "  </thead>\n",
       "  <tbody>\n",
       "    <tr>\n",
       "      <td>0</td>\n",
       "      <td>2.069081</td>\n",
       "      <td>0.537141</td>\n",
       "      <td>-0.685022</td>\n",
       "      <td>2.014247</td>\n",
       "    </tr>\n",
       "    <tr>\n",
       "      <td>1</td>\n",
       "      <td>-1.958699</td>\n",
       "      <td>-0.763036</td>\n",
       "      <td>-1.241252</td>\n",
       "      <td>-0.742821</td>\n",
       "    </tr>\n",
       "    <tr>\n",
       "      <td>2</td>\n",
       "      <td>0.316873</td>\n",
       "      <td>-2.485816</td>\n",
       "      <td>-0.394668</td>\n",
       "      <td>-1.309031</td>\n",
       "    </tr>\n",
       "    <tr>\n",
       "      <td>3</td>\n",
       "      <td>0.316393</td>\n",
       "      <td>1.259207</td>\n",
       "      <td>0.765185</td>\n",
       "      <td>-2.478093</td>\n",
       "    </tr>\n",
       "    <tr>\n",
       "      <td>4</td>\n",
       "      <td>-0.166239</td>\n",
       "      <td>0.959544</td>\n",
       "      <td>0.853905</td>\n",
       "      <td>-0.628010</td>\n",
       "    </tr>\n",
       "    <tr>\n",
       "      <td>...</td>\n",
       "      <td>...</td>\n",
       "      <td>...</td>\n",
       "      <td>...</td>\n",
       "      <td>...</td>\n",
       "    </tr>\n",
       "    <tr>\n",
       "      <td>95</td>\n",
       "      <td>0.967116</td>\n",
       "      <td>-0.393712</td>\n",
       "      <td>-0.642630</td>\n",
       "      <td>1.391634</td>\n",
       "    </tr>\n",
       "    <tr>\n",
       "      <td>96</td>\n",
       "      <td>0.521491</td>\n",
       "      <td>0.345362</td>\n",
       "      <td>-1.125606</td>\n",
       "      <td>-0.121019</td>\n",
       "    </tr>\n",
       "    <tr>\n",
       "      <td>97</td>\n",
       "      <td>0.950855</td>\n",
       "      <td>-0.786034</td>\n",
       "      <td>-0.281978</td>\n",
       "      <td>-1.741938</td>\n",
       "    </tr>\n",
       "    <tr>\n",
       "      <td>98</td>\n",
       "      <td>0.059603</td>\n",
       "      <td>1.900837</td>\n",
       "      <td>0.257926</td>\n",
       "      <td>0.370712</td>\n",
       "    </tr>\n",
       "    <tr>\n",
       "      <td>99</td>\n",
       "      <td>-0.015613</td>\n",
       "      <td>-0.637355</td>\n",
       "      <td>-1.303179</td>\n",
       "      <td>0.502478</td>\n",
       "    </tr>\n",
       "  </tbody>\n",
       "</table>\n",
       "<p>100 rows × 4 columns</p>\n",
       "</div>"
      ],
      "text/plain": [
       "           A         B         C         D\n",
       "0   2.069081  0.537141 -0.685022  2.014247\n",
       "1  -1.958699 -0.763036 -1.241252 -0.742821\n",
       "2   0.316873 -2.485816 -0.394668 -1.309031\n",
       "3   0.316393  1.259207  0.765185 -2.478093\n",
       "4  -0.166239  0.959544  0.853905 -0.628010\n",
       "..       ...       ...       ...       ...\n",
       "95  0.967116 -0.393712 -0.642630  1.391634\n",
       "96  0.521491  0.345362 -1.125606 -0.121019\n",
       "97  0.950855 -0.786034 -0.281978 -1.741938\n",
       "98  0.059603  1.900837  0.257926  0.370712\n",
       "99 -0.015613 -0.637355 -1.303179  0.502478\n",
       "\n",
       "[100 rows x 4 columns]"
      ]
     },
     "execution_count": 11,
     "metadata": {},
     "output_type": "execute_result"
    }
   ],
   "source": [
    "df"
   ]
  },
  {
   "cell_type": "code",
   "execution_count": 12,
   "metadata": {},
   "outputs": [],
   "source": [
    "df1 = pd.DataFrame({'Category':['A','B','C'], 'values':[32,43,50]})"
   ]
  },
  {
   "cell_type": "code",
   "execution_count": 13,
   "metadata": {},
   "outputs": [
    {
     "data": {
      "text/html": [
       "<div>\n",
       "<style scoped>\n",
       "    .dataframe tbody tr th:only-of-type {\n",
       "        vertical-align: middle;\n",
       "    }\n",
       "\n",
       "    .dataframe tbody tr th {\n",
       "        vertical-align: top;\n",
       "    }\n",
       "\n",
       "    .dataframe thead th {\n",
       "        text-align: right;\n",
       "    }\n",
       "</style>\n",
       "<table border=\"1\" class=\"dataframe\">\n",
       "  <thead>\n",
       "    <tr style=\"text-align: right;\">\n",
       "      <th></th>\n",
       "      <th>Category</th>\n",
       "      <th>values</th>\n",
       "    </tr>\n",
       "  </thead>\n",
       "  <tbody>\n",
       "    <tr>\n",
       "      <td>0</td>\n",
       "      <td>A</td>\n",
       "      <td>32</td>\n",
       "    </tr>\n",
       "    <tr>\n",
       "      <td>1</td>\n",
       "      <td>B</td>\n",
       "      <td>43</td>\n",
       "    </tr>\n",
       "    <tr>\n",
       "      <td>2</td>\n",
       "      <td>C</td>\n",
       "      <td>50</td>\n",
       "    </tr>\n",
       "  </tbody>\n",
       "</table>\n",
       "</div>"
      ],
      "text/plain": [
       "  Category  values\n",
       "0        A      32\n",
       "1        B      43\n",
       "2        C      50"
      ]
     },
     "execution_count": 13,
     "metadata": {},
     "output_type": "execute_result"
    }
   ],
   "source": [
    "df1"
   ]
  },
  {
   "cell_type": "markdown",
   "metadata": {},
   "source": [
    "### 1. lineplot"
   ]
  },
  {
   "cell_type": "code",
   "execution_count": 14,
   "metadata": {},
   "outputs": [
    {
     "data": {
      "text/plain": [
       "<matplotlib.axes._subplots.AxesSubplot at 0x1c20eaba10>"
      ]
     },
     "execution_count": 14,
     "metadata": {},
     "output_type": "execute_result"
    },
    {
     "data": {
      "image/png": "[encoded data removed]",
      "text/plain": [
       "<Figure size 432x288 with 1 Axes>"
      ]
     },
     "metadata": {
      "needs_background": "light"
     },
     "output_type": "display_data"
    }
   ],
   "source": [
    "df.plot()"
   ]
  },
  {
   "cell_type": "code",
   "execution_count": 15,
   "metadata": {},
   "outputs": [
    {
     "data": {
      "application/vnd.plotly.v1+json": {
       "config": {
        "linkText": "Export to plot.ly",
        "plotlyServerURL": "https://plot.ly",
        "showLink": true
       },
       "data": [
        {
         "line": {
          "color": "rgba(255, 153, 51, 1.0)",
          "dash": "solid",
          "shape": "linear",
          "width": 1.3
         },
         "mode": "lines",
         "name": "A",
         "text": "",
         "type": "scatter",
         "x": [
          0,
          1,
          2,
          3,
          4,
          5,
          6,
          7,
          8,
          9,
          10,
          11,
          12,
          13,
          14,
          15,
          16,
          17,
          18,
          19,
          20,
          21,
          22,
          23,
          24,
          25,
          26,
          27,
          28,
          29,
          30,
          31,
          32,
          33,
          34,
          35,
          36,
          37,
          38,
          39,
          40,
          41,
          42,
          43,
          44,
          45,
          46,
          47,
          48,
          49,
          50,
          51,
          52,
          53,
          54,
          55,
          56,
          57,
          58,
          59,
          60,
          61,
          62,
          63,
          64,
          65,
          66,
          67,
          68,
          69,
          70,
          71,
          72,
          73,
          74,
          75,
          76,
          77,
          78,
          79,
          80,
          81,
          82,
          83,
          84,
          85,
          86,
          87,
          88,
          89,
          90,
          91,
          92,
          93,
          94,
          95,
          96,
          97,
          98,
          99
         ],
         "y": [
          2.069081317248437,
          -1.9586988201017066,
          0.31687259557075065,
          0.3163933211791377,
          -0.16623943248273207,
          1.5497820365156982,
          -1.7297768914284835,
          0.5697825774153621,
          -0.7032361365794662,
          -0.8268251660691491,
          1.2467171956322265,
          -1.0757476486572177,
          -0.165999174967776,
          0.42843672539742184,
          -0.25675899385138395,
          0.22587079145601774,
          1.9166425271506045,
          -0.640237220836307,
          -0.6861772522003287,
          -0.5586527440178088,
          -2.5054824095350603,
          0.4409074736412183,
          -1.9900902601521533,
          -0.5210386202937979,
          -0.5080735923466261,
          -0.7618302051217163,
          0.8385206587443153,
          1.4112551979094434,
          -0.35899178289305833,
          -0.7583551270205274,
          0.1801450370472393,
          -1.668881029521964,
          -0.7631515357140278,
          -0.6703114133478807,
          -1.4410620768665687,
          0.8743716919027011,
          1.3712437328971603,
          1.8015066568239602,
          -1.3793914176363382,
          -0.310781082112185,
          0.21539737058955025,
          0.26100127321811867,
          -0.5720033350321432,
          2.132914188699778,
          -1.6315266835701523,
          0.6116058285290135,
          -1.375542976417157,
          0.5516327908947728,
          -0.8291435228557643,
          -0.10741096952517305,
          0.466848431170696,
          0.8433508517657493,
          0.11636175879694592,
          0.5598366538046764,
          0.24914272694522172,
          -0.06884643442780915,
          -0.4084858316707387,
          -1.4051726071742447,
          -0.30645623254003573,
          1.7389939017633762,
          -1.069248683755255,
          1.6834497814923641,
          1.346355028489932,
          -0.6762454051862051,
          0.9031060789060906,
          1.1356794877473801,
          -0.40881973318811055,
          0.7063794517678516,
          -0.4152686536633678,
          -0.996637064263391,
          -0.05603719295495405,
          0.3267743031922197,
          -0.7097067062730879,
          0.4433270622616412,
          0.379617908590977,
          -0.43494427079199754,
          1.7809685905508235,
          1.6966147780256329,
          1.4906595522423403,
          0.4809146675204936,
          -1.3864972445511055,
          -0.6595869670593304,
          -0.5506363437289727,
          0.5980724890985413,
          -1.1521791912703487,
          -0.3175929792191654,
          -1.8718075854411518,
          -0.27684143268620376,
          -1.6259350828226837,
          1.2269730494900373,
          -0.048869330284592144,
          1.5957901102313448,
          -0.040539979809508665,
          1.3204254982305588,
          -0.035534127153365694,
          0.9671163301831622,
          0.5214914391803923,
          0.9508548035963178,
          0.05960270547188383,
          -0.01561286021245415
         ]
        },
        {
         "line": {
          "color": "rgba(55, 128, 191, 1.0)",
          "dash": "solid",
          "shape": "linear",
          "width": 1.3
         },
         "mode": "lines",
         "name": "B",
         "text": "",
         "type": "scatter",
         "x": [
          0,
          1,
          2,
          3,
          4,
          5,
          6,
          7,
          8,
          9,
          10,
          11,
          12,
          13,
          14,
          15,
          16,
          17,
          18,
          19,
          20,
          21,
          22,
          23,
          24,
          25,
          26,
          27,
          28,
          29,
          30,
          31,
          32,
          33,
          34,
          35,
          36,
          37,
          38,
          39,
          40,
          41,
          42,
          43,
          44,
          45,
          46,
          47,
          48,
          49,
          50,
          51,
          52,
          53,
          54,
          55,
          56,
          57,
          58,
          59,
          60,
          61,
          62,
          63,
          64,
          65,
          66,
          67,
          68,
          69,
          70,
          71,
          72,
          73,
          74,
          75,
          76,
          77,
          78,
          79,
          80,
          81,
          82,
          83,
          84,
          85,
          86,
          87,
          88,
          89,
          90,
          91,
          92,
          93,
          94,
          95,
          96,
          97,
          98,
          99
         ],
         "y": [
          0.5371406102484116,
          -0.7630355998932787,
          -2.4858162864857523,
          1.2592066808607159,
          0.9595436226520081,
          -0.8081156938171563,
          0.9958728377864831,
          -0.04591061914796954,
          0.6904010738181772,
          -0.5511142392207588,
          1.4402893831504124,
          0.35305376609086747,
          0.7972779169691322,
          0.34537746993804025,
          1.31874407327095,
          1.6969578374319672,
          -2.380558289248379,
          -0.42479170062544036,
          0.7611985790453921,
          -1.4523150254476245,
          0.587450547772239,
          0.15513270402904678,
          0.3816171930588017,
          -0.3485622560270526,
          -0.2233077072848466,
          -0.06657166845739156,
          -0.4699219481124245,
          1.2162365035510758,
          -0.08247111159833434,
          -0.26576094186048205,
          0.6287146222239482,
          0.5464995934949134,
          -1.0413503318774242,
          -0.6133269467314942,
          1.7897861110849156,
          -1.4636448182885142,
          -0.6082089722636107,
          -0.18944182747086188,
          1.1535409107981895,
          -0.2610438758985015,
          0.7607204950976051,
          0.8689659293485391,
          -1.0408678834637686,
          -1.8697259764998884,
          0.052957623660512085,
          -0.4752375307599897,
          -0.6894315405633875,
          0.20660004628802267,
          0.41587696940825136,
          0.11794519060016996,
          -0.5483109902790982,
          0.2204585387263463,
          -0.0814497894297341,
          -0.4261861035950627,
          -0.021917182184465037,
          0.35222734994579635,
          -0.24159158765078223,
          -1.245418117537442,
          1.0216068651998909,
          0.2639425680704423,
          0.9241230815489991,
          1.0987810469821897,
          -1.2581918632792053,
          -0.3047137245763503,
          0.60914107898099,
          -0.9152188042552775,
          -0.26765853410307033,
          -2.0075144589553195,
          0.8147844678127948,
          -0.13131685638323615,
          -1.311225180991742,
          -0.04852659651473337,
          -1.218931042803003,
          -1.024830966258147,
          0.12385012282058273,
          -0.20982791576190235,
          -0.24678271085565104,
          0.5154062122960229,
          0.1544833714506777,
          -0.41404378573783396,
          -1.2860894727014949,
          -1.437949062500608,
          2.4274363130615795,
          -0.4573332199984909,
          0.7826881088936185,
          -0.10934943159905164,
          -0.5949196074311865,
          0.03144939194326923,
          1.524309150436032,
          -0.23392802647924565,
          0.5361360451160111,
          -0.7495155351889765,
          -0.18096629842077092,
          1.558544319601368,
          1.7517499105114092,
          -0.39371248209055115,
          0.345362285426185,
          -0.7860338813922241,
          1.900836644872969,
          -0.6373552719220384
         ]
        },
        {
         "line": {
          "color": "rgba(50, 171, 96, 1.0)",
          "dash": "solid",
          "shape": "linear",
          "width": 1.3
         },
         "mode": "lines",
         "name": "C",
         "text": "",
         "type": "scatter",
         "x": [
          0,
          1,
          2,
          3,
          4,
          5,
          6,
          7,
          8,
          9,
          10,
          11,
          12,
          13,
          14,
          15,
          16,
          17,
          18,
          19,
          20,
          21,
          22,
          23,
          24,
          25,
          26,
          27,
          28,
          29,
          30,
          31,
          32,
          33,
          34,
          35,
          36,
          37,
          38,
          39,
          40,
          41,
          42,
          43,
          44,
          45,
          46,
          47,
          48,
          49,
          50,
          51,
          52,
          53,
          54,
          55,
          56,
          57,
          58,
          59,
          60,
          61,
          62,
          63,
          64,
          65,
          66,
          67,
          68,
          69,
          70,
          71,
          72,
          73,
          74,
          75,
          76,
          77,
          78,
          79,
          80,
          81,
          82,
          83,
          84,
          85,
          86,
          87,
          88,
          89,
          90,
          91,
          92,
          93,
          94,
          95,
          96,
          97,
          98,
          99
         ],
         "y": [
          -0.6850215014043163,
          -1.2412518834652546,
          -0.3946676954847482,
          0.7651845615941001,
          0.8539049176742748,
          -0.37644014904789597,
          -0.32772970648204053,
          0.02834189527309373,
          -0.9504524445878754,
          0.8230972624100741,
          -1.7142178136821131,
          0.33112410774976675,
          0.016363052685521937,
          -0.43413069570491963,
          -1.5738282812386328,
          0.03489961725557421,
          -0.12246618896219813,
          -0.6146165254190183,
          0.43031162267834133,
          0.06397533316452905,
          -0.490651552827173,
          1.3735403366482595,
          0.8188391172357061,
          -0.02980846654887524,
          -0.31099894785936216,
          -0.2735335159583621,
          0.4179333738998075,
          -0.5715943544758427,
          0.1344414889806831,
          -1.521533327628918,
          -0.6689381159428938,
          0.15251369394908768,
          -0.36431107964479786,
          -0.10028586033516866,
          -2.6732007415098575,
          0.11324362012281179,
          -0.048704678642151784,
          1.4180214987115798,
          -0.8867526618791968,
          -1.5253768240139522,
          1.8287289167343548,
          -0.7592255448926566,
          -0.0671946927632733,
          0.1754235812981672,
          -1.0358340705530713,
          0.0019515411977063064,
          0.048488005484730506,
          -0.44430593841028115,
          -0.2331860016412143,
          1.1627105571515324,
          0.5660950651322101,
          -0.6786210624157247,
          -0.20721530694253,
          -0.07151740505683823,
          -0.6818973591112406,
          -1.324645088015891,
          -0.2310949839970945,
          -0.8492294245819209,
          0.210864914686496,
          -0.5009556142676546,
          1.1266769334653688,
          2.248449891487893,
          -1.9246130542716733,
          -1.1722170464527613,
          0.09141428654928084,
          1.1753076792060488,
          -0.43191016662870235,
          -1.1616224424459403,
          1.3823367200683663,
          -1.6837964741457006,
          -0.3211979035283138,
          0.10236534755693119,
          2.061701313426245,
          0.5473232701612604,
          -0.24896171576994267,
          0.6318260116940371,
          -0.8575144563857071,
          -0.06710741764459427,
          1.0667462425791259,
          1.2325174883238221,
          -1.2629602105446083,
          0.9494335560653758,
          1.413884715443827,
          0.5129628018179038,
          0.2560733737865519,
          -0.8923394405259693,
          0.8888377362062309,
          -0.688304615890909,
          1.1748715811398724,
          -0.7300124099889382,
          1.6207942045893935,
          0.07057876461498128,
          0.1381467197907667,
          -0.15809627739176416,
          -0.12616914469849583,
          -0.6426296324989368,
          -1.1256061558648365,
          -0.2819777712287155,
          0.25792572295089744,
          -1.3031790480572327
         ]
        },
        {
         "line": {
          "color": "rgba(128, 0, 128, 1.0)",
          "dash": "solid",
          "shape": "linear",
          "width": 1.3
         },
         "mode": "lines",
         "name": "D",
         "text": "",
         "type": "scatter",
         "x": [
          0,
          1,
          2,
          3,
          4,
          5,
          6,
          7,
          8,
          9,
          10,
          11,
          12,
          13,
          14,
          15,
          16,
          17,
          18,
          19,
          20,
          21,
          22,
          23,
          24,
          25,
          26,
          27,
          28,
          29,
          30,
          31,
          32,
          33,
          34,
          35,
          36,
          37,
          38,
          39,
          40,
          41,
          42,
          43,
          44,
          45,
          46,
          47,
          48,
          49,
          50,
          51,
          52,
          53,
          54,
          55,
          56,
          57,
          58,
          59,
          60,
          61,
          62,
          63,
          64,
          65,
          66,
          67,
          68,
          69,
          70,
          71,
          72,
          73,
          74,
          75,
          76,
          77,
          78,
          79,
          80,
          81,
          82,
          83,
          84,
          85,
          86,
          87,
          88,
          89,
          90,
          91,
          92,
          93,
          94,
          95,
          96,
          97,
          98,
          99
         ],
         "y": [
          2.014247115270905,
          -0.7428208160857449,
          -1.309030944216816,
          -2.478092924371268,
          -0.6280100446363561,
          1.0291618666179578,
          -0.26691667588585155,
          1.313422842184512,
          -1.970495819360091,
          0.11411545090210919,
          0.9181163750127501,
          -0.29858708158689656,
          -0.26612821659138275,
          -0.973581285673536,
          -0.20814284985497686,
          -0.2558327791930005,
          0.37891920212858315,
          1.1085200274370157,
          -1.0002458133975058,
          -0.33242083339553374,
          -0.9749877501914137,
          1.15811018558237,
          0.5169718463650118,
          -1.274743874217198,
          2.006624857298406,
          0.25511767166704996,
          -0.30164693812853194,
          0.06354489502755675,
          -1.0197590712944298,
          0.3253988257390908,
          -0.7933307740387828,
          -0.8036699362969526,
          0.1043611568074112,
          1.3437747133382383,
          -0.5894175974959336,
          -0.49893973790798285,
          -0.47525780077383467,
          -0.9390740838969601,
          1.4442447945726926,
          -0.7540442676823031,
          1.5830342653142089,
          0.6438885132208334,
          0.2990209607177709,
          0.17577833233795892,
          1.4195280629117475,
          1.3131698831594645,
          1.0031714131683982,
          1.7632422224160416,
          0.11073442737923893,
          -0.5828009953990801,
          -0.486770021231336,
          -0.3839996428127627,
          -0.4391568257246189,
          -0.44417511214167693,
          -0.3318415514093242,
          0.11211566642523081,
          0.6104668682054902,
          -0.49044106556725764,
          -0.8714167589345827,
          -1.6880287466088721,
          1.3880439298208682,
          0.007243106345136585,
          -0.7003319230422439,
          0.9207544153619949,
          1.8122011583635331,
          0.21520079658506217,
          1.338945422952007,
          -1.3559156793828218,
          1.0675500203465638,
          0.22685073583400517,
          1.3147667676333779,
          -0.8512121329769073,
          -1.00825773280854,
          -0.05585947679402678,
          -1.9087662048270295,
          -1.1700986548099093,
          -0.14527278661267826,
          0.22093226813171887,
          1.624520241139117,
          1.508494359617955,
          0.6357187352707607,
          0.4533273679564344,
          0.07956108166066125,
          -0.8250424975633813,
          -1.6091491496953354,
          0.8742516509758052,
          -2.491823621271737,
          -0.042188676755759956,
          1.2969695278585485,
          0.42802263329645285,
          1.3549457569635972,
          0.011100810382680232,
          -0.5876763575631399,
          -0.34431210228354003,
          -0.6782744890719055,
          1.3916341438432032,
          -0.12101914607071254,
          -1.7419381441262538,
          0.3707115678108203,
          0.5024782457297611
         ]
        }
       ],
       "layout": {
        "legend": {
         "bgcolor": "#F5F6F9",
         "font": {
          "color": "#4D5663"
         }
        },
        "paper_bgcolor": "#F5F6F9",
        "plot_bgcolor": "#F5F6F9",
        "template": {
         "data": {
          "bar": [
           {
            "error_x": {
             "color": "#2a3f5f"
            },
            "error_y": {
             "color": "#2a3f5f"
            },
            "marker": {
             "line": {
              "color": "#E5ECF6",
              "width": 0.5
             }
            },
            "type": "bar"
           }
          ],
          "barpolar": [
           {
            "marker": {
             "line": {
              "color": "#E5ECF6",
              "width": 0.5
             }
            },
            "type": "barpolar"
           }
          ],
          "carpet": [
           {
            "aaxis": {
             "endlinecolor": "#2a3f5f",
             "gridcolor": "white",
             "linecolor": "white",
             "minorgridcolor": "white",
             "startlinecolor": "#2a3f5f"
            },
            "baxis": {
             "endlinecolor": "#2a3f5f",
             "gridcolor": "white",
             "linecolor": "white",
             "minorgridcolor": "white",
             "startlinecolor": "#2a3f5f"
            },
            "type": "carpet"
           }
          ],
          "choropleth": [
           {
            "colorbar": {
             "outlinewidth": 0,
             "ticks": ""
            },
            "type": "choropleth"
           }
          ],
          "contour": [
           {
            "colorbar": {
             "outlinewidth": 0,
             "ticks": ""
            },
            "colorscale": [
             [
              0,
              "#0d0887"
             ],
             [
              0.1111111111111111,
              "#46039f"
             ],
             [
              0.2222222222222222,
              "#7201a8"
             ],
             [
              0.3333333333333333,
              "#9c179e"
             ],
             [
              0.4444444444444444,
              "#bd3786"
             ],
             [
              0.5555555555555556,
              "#d8576b"
             ],
             [
              0.6666666666666666,
              "#ed7953"
             ],
             [
              0.7777777777777778,
              "#fb9f3a"
             ],
             [
              0.8888888888888888,
              "#fdca26"
             ],
             [
              1,
              "#f0f921"
             ]
            ],
            "type": "contour"
           }
          ],
          "contourcarpet": [
           {
            "colorbar": {
             "outlinewidth": 0,
             "ticks": ""
            },
            "type": "contourcarpet"
           }
          ],
          "heatmap": [
           {
            "colorbar": {
             "outlinewidth": 0,
             "ticks": ""
            },
            "colorscale": [
             [
              0,
              "#0d0887"
             ],
             [
              0.1111111111111111,
              "#46039f"
             ],
             [
              0.2222222222222222,
              "#7201a8"
             ],
             [
              0.3333333333333333,
              "#9c179e"
             ],
             [
              0.4444444444444444,
              "#bd3786"
             ],
             [
              0.5555555555555556,
              "#d8576b"
             ],
             [
              0.6666666666666666,
              "#ed7953"
             ],
             [
              0.7777777777777778,
              "#fb9f3a"
             ],
             [
              0.8888888888888888,
              "#fdca26"
             ],
             [
              1,
              "#f0f921"
             ]
            ],
            "type": "heatmap"
           }
          ],
          "heatmapgl": [
           {
            "colorbar": {
             "outlinewidth": 0,
             "ticks": ""
            },
            "colorscale": [
             [
              0,
              "#0d0887"
             ],
             [
              0.1111111111111111,
              "#46039f"
             ],
             [
              0.2222222222222222,
              "#7201a8"
             ],
             [
              0.3333333333333333,
              "#9c179e"
             ],
             [
              0.4444444444444444,
              "#bd3786"
             ],
             [
              0.5555555555555556,
              "#d8576b"
             ],
             [
              0.6666666666666666,
              "#ed7953"
             ],
             [
              0.7777777777777778,
              "#fb9f3a"
             ],
             [
              0.8888888888888888,
              "#fdca26"
             ],
             [
              1,
              "#f0f921"
             ]
            ],
            "type": "heatmapgl"
           }
          ],
          "histogram": [
           {
            "marker": {
             "colorbar": {
              "outlinewidth": 0,
              "ticks": ""
             }
            },
            "type": "histogram"
           }
          ],
          "histogram2d": [
           {
            "colorbar": {
             "outlinewidth": 0,
             "ticks": ""
            },
            "colorscale": [
             [
              0,
              "#0d0887"
             ],
             [
              0.1111111111111111,
              "#46039f"
             ],
             [
              0.2222222222222222,
              "#7201a8"
             ],
             [
              0.3333333333333333,
              "#9c179e"
             ],
             [
              0.4444444444444444,
              "#bd3786"
             ],
             [
              0.5555555555555556,
              "#d8576b"
             ],
             [
              0.6666666666666666,
              "#ed7953"
             ],
             [
              0.7777777777777778,
              "#fb9f3a"
             ],
             [
              0.8888888888888888,
              "#fdca26"
             ],
             [
              1,
              "#f0f921"
             ]
            ],
            "type": "histogram2d"
           }
          ],
          "histogram2dcontour": [
           {
            "colorbar": {
             "outlinewidth": 0,
             "ticks": ""
            },
            "colorscale": [
             [
              0,
              "#0d0887"
             ],
             [
              0.1111111111111111,
              "#46039f"
             ],
             [
              0.2222222222222222,
              "#7201a8"
             ],
             [
              0.3333333333333333,
              "#9c179e"
             ],
             [
              0.4444444444444444,
              "#bd3786"
             ],
             [
              0.5555555555555556,
              "#d8576b"
             ],
             [
              0.6666666666666666,
              "#ed7953"
             ],
             [
              0.7777777777777778,
              "#fb9f3a"
             ],
             [
              0.8888888888888888,
              "#fdca26"
             ],
             [
              1,
              "#f0f921"
             ]
            ],
            "type": "histogram2dcontour"
           }
          ],
          "mesh3d": [
           {
            "colorbar": {
             "outlinewidth": 0,
             "ticks": ""
            },
            "type": "mesh3d"
           }
          ],
          "parcoords": [
           {
            "line": {
             "colorbar": {
              "outlinewidth": 0,
              "ticks": ""
             }
            },
            "type": "parcoords"
           }
          ],
          "scatter": [
           {
            "marker": {
             "colorbar": {
              "outlinewidth": 0,
              "ticks": ""
             }
            },
            "type": "scatter"
           }
          ],
          "scatter3d": [
           {
            "line": {
             "colorbar": {
              "outlinewidth": 0,
              "ticks": ""
             }
            },
            "marker": {
             "colorbar": {
              "outlinewidth": 0,
              "ticks": ""
             }
            },
            "type": "scatter3d"
           }
          ],
          "scattercarpet": [
           {
            "marker": {
             "colorbar": {
              "outlinewidth": 0,
              "ticks": ""
             }
            },
            "type": "scattercarpet"
           }
          ],
          "scattergeo": [
           {
            "marker": {
             "colorbar": {
              "outlinewidth": 0,
              "ticks": ""
             }
            },
            "type": "scattergeo"
           }
          ],
          "scattergl": [
           {
            "marker": {
             "colorbar": {
              "outlinewidth": 0,
              "ticks": ""
             }
            },
            "type": "scattergl"
           }
          ],
          "scattermapbox": [
           {
            "marker": {
             "colorbar": {
              "outlinewidth": 0,
              "ticks": ""
             }
            },
            "type": "scattermapbox"
           }
          ],
          "scatterpolar": [
           {
            "marker": {
             "colorbar": {
              "outlinewidth": 0,
              "ticks": ""
             }
            },
            "type": "scatterpolar"
           }
          ],
          "scatterpolargl": [
           {
            "marker": {
             "colorbar": {
              "outlinewidth": 0,
              "ticks": ""
             }
            },
            "type": "scatterpolargl"
           }
          ],
          "scatterternary": [
           {
            "marker": {
             "colorbar": {
              "outlinewidth": 0,
              "ticks": ""
             }
            },
            "type": "scatterternary"
           }
          ],
          "surface": [
           {
            "colorbar": {
             "outlinewidth": 0,
             "ticks": ""
            },
            "colorscale": [
             [
              0,
              "#0d0887"
             ],
             [
              0.1111111111111111,
              "#46039f"
             ],
             [
              0.2222222222222222,
              "#7201a8"
             ],
             [
              0.3333333333333333,
              "#9c179e"
             ],
             [
              0.4444444444444444,
              "#bd3786"
             ],
             [
              0.5555555555555556,
              "#d8576b"
             ],
             [
              0.6666666666666666,
              "#ed7953"
             ],
             [
              0.7777777777777778,
              "#fb9f3a"
             ],
             [
              0.8888888888888888,
              "#fdca26"
             ],
             [
              1,
              "#f0f921"
             ]
            ],
            "type": "surface"
           }
          ],
          "table": [
           {
            "cells": {
             "fill": {
              "color": "#EBF0F8"
             },
             "line": {
              "color": "white"
             }
            },
            "header": {
             "fill": {
              "color": "#C8D4E3"
             },
             "line": {
              "color": "white"
             }
            },
            "type": "table"
           }
          ]
         },
         "layout": {
          "annotationdefaults": {
           "arrowcolor": "#2a3f5f",
           "arrowhead": 0,
           "arrowwidth": 1
          },
          "colorscale": {
           "diverging": [
            [
             0,
             "#8e0152"
            ],
            [
             0.1,
             "#c51b7d"
            ],
            [
             0.2,
             "#de77ae"
            ],
            [
             0.3,
             "#f1b6da"
            ],
            [
             0.4,
             "#fde0ef"
            ],
            [
             0.5,
             "#f7f7f7"
            ],
            [
             0.6,
             "#e6f5d0"
            ],
            [
             0.7,
             "#b8e186"
            ],
            [
             0.8,
             "#7fbc41"
            ],
            [
             0.9,
             "#4d9221"
            ],
            [
             1,
             "#276419"
            ]
           ],
           "sequential": [
            [
             0,
             "#0d0887"
            ],
            [
             0.1111111111111111,
             "#46039f"
            ],
            [
             0.2222222222222222,
             "#7201a8"
            ],
            [
             0.3333333333333333,
             "#9c179e"
            ],
            [
             0.4444444444444444,
             "#bd3786"
            ],
            [
             0.5555555555555556,
             "#d8576b"
            ],
            [
             0.6666666666666666,
             "#ed7953"
            ],
            [
             0.7777777777777778,
             "#fb9f3a"
            ],
            [
             0.8888888888888888,
             "#fdca26"
            ],
            [
             1,
             "#f0f921"
            ]
           ],
           "sequentialminus": [
            [
             0,
             "#0d0887"
            ],
            [
             0.1111111111111111,
             "#46039f"
            ],
            [
             0.2222222222222222,
             "#7201a8"
            ],
            [
             0.3333333333333333,
             "#9c179e"
            ],
            [
             0.4444444444444444,
             "#bd3786"
            ],
            [
             0.5555555555555556,
             "#d8576b"
            ],
            [
             0.6666666666666666,
             "#ed7953"
            ],
            [
             0.7777777777777778,
             "#fb9f3a"
            ],
            [
             0.8888888888888888,
             "#fdca26"
            ],
            [
             1,
             "#f0f921"
            ]
           ]
          },
          "colorway": [
           "#636efa",
           "#EF553B",
           "#00cc96",
           "#ab63fa",
           "#FFA15A",
           "#19d3f3",
           "#FF6692",
           "#B6E880",
           "#FF97FF",
           "#FECB52"
          ],
          "font": {
           "color": "#2a3f5f"
          },
          "geo": {
           "bgcolor": "white",
           "lakecolor": "white",
           "landcolor": "#E5ECF6",
           "showlakes": true,
           "showland": true,
           "subunitcolor": "white"
          },
          "hoverlabel": {
           "align": "left"
          },
          "hovermode": "closest",
          "mapbox": {
           "style": "light"
          },
          "paper_bgcolor": "white",
          "plot_bgcolor": "#E5ECF6",
          "polar": {
           "angularaxis": {
            "gridcolor": "white",
            "linecolor": "white",
            "ticks": ""
           },
           "bgcolor": "#E5ECF6",
           "radialaxis": {
            "gridcolor": "white",
            "linecolor": "white",
            "ticks": ""
           }
          },
          "scene": {
           "xaxis": {
            "backgroundcolor": "#E5ECF6",
            "gridcolor": "white",
            "gridwidth": 2,
            "linecolor": "white",
            "showbackground": true,
            "ticks": "",
            "zerolinecolor": "white"
           },
           "yaxis": {
            "backgroundcolor": "#E5ECF6",
            "gridcolor": "white",
            "gridwidth": 2,
            "linecolor": "white",
            "showbackground": true,
            "ticks": "",
            "zerolinecolor": "white"
           },
           "zaxis": {
            "backgroundcolor": "#E5ECF6",
            "gridcolor": "white",
            "gridwidth": 2,
            "linecolor": "white",
            "showbackground": true,
            "ticks": "",
            "zerolinecolor": "white"
           }
          },
          "shapedefaults": {
           "line": {
            "color": "#2a3f5f"
           }
          },
          "ternary": {
           "aaxis": {
            "gridcolor": "white",
            "linecolor": "white",
            "ticks": ""
           },
           "baxis": {
            "gridcolor": "white",
            "linecolor": "white",
            "ticks": ""
           },
           "bgcolor": "#E5ECF6",
           "caxis": {
            "gridcolor": "white",
            "linecolor": "white",
            "ticks": ""
           }
          },
          "title": {
           "x": 0.05
          },
          "xaxis": {
           "automargin": true,
           "gridcolor": "white",
           "linecolor": "white",
           "ticks": "",
           "zerolinecolor": "white",
           "zerolinewidth": 2
          },
          "yaxis": {
           "automargin": true,
           "gridcolor": "white",
           "linecolor": "white",
           "ticks": "",
           "zerolinecolor": "white",
           "zerolinewidth": 2
          }
         }
        },
        "title": {
         "font": {
          "color": "#4D5663"
         }
        },
        "xaxis": {
         "gridcolor": "#E1E5ED",
         "showgrid": true,
         "tickfont": {
          "color": "#4D5663"
         },
         "title": {
          "font": {
           "color": "#4D5663"
          },
          "text": ""
         },
         "zerolinecolor": "#E1E5ED"
        },
        "yaxis": {
         "gridcolor": "#E1E5ED",
         "showgrid": true,
         "tickfont": {
          "color": "#4D5663"
         },
         "title": {
          "font": {
           "color": "#4D5663"
          },
          "text": ""
         },
         "zerolinecolor": "#E1E5ED"
        }
       }
      },
      "text/html": [
       "<div>\n",
       "        \n",
       "        \n",
       "            <div id=\"91224e7a-7a0d-4f9a-bd31-d183afd4c5c2\" class=\"plotly-graph-div\" style=\"height:525px; width:100%;\"></div>\n",
       "            <script type=\"text/javascript\">\n",
       "                require([\"plotly\"], function(Plotly) {\n",
       "                    window.PLOTLYENV=window.PLOTLYENV || {};\n",
       "                    window.PLOTLYENV.BASE_URL='https://plot.ly';\n",
       "                    \n",
       "                if (document.getElementById(\"91224e7a-7a0d-4f9a-bd31-d183afd4c5c2\")) {\n",
       "                    Plotly.newPlot(\n",
       "                        '91224e7a-7a0d-4f9a-bd31-d183afd4c5c2',\n",
       "                        [{\"line\": {\"color\": \"rgba(255, 153, 51, 1.0)\", \"dash\": \"solid\", \"shape\": \"linear\", \"width\": 1.3}, \"mode\": \"lines\", \"name\": \"A\", \"text\": \"\", \"type\": \"scatter\", \"x\": [0, 1, 2, 3, 4, 5, 6, 7, 8, 9, 10, 11, 12, 13, 14, 15, 16, 17, 18, 19, 20, 21, 22, 23, 24, 25, 26, 27, 28, 29, 30, 31, 32, 33, 34, 35, 36, 37, 38, 39, 40, 41, 42, 43, 44, 45, 46, 47, 48, 49, 50, 51, 52, 53, 54, 55, 56, 57, 58, 59, 60, 61, 62, 63, 64, 65, 66, 67, 68, 69, 70, 71, 72, 73, 74, 75, 76, 77, 78, 79, 80, 81, 82, 83, 84, 85, 86, 87, 88, 89, 90, 91, 92, 93, 94, 95, 96, 97, 98, 99], \"y\": [2.069081317248437, -1.9586988201017066, 0.31687259557075065, 0.3163933211791377, -0.16623943248273207, 1.5497820365156982, -1.7297768914284835, 0.5697825774153621, -0.7032361365794662, -0.8268251660691491, 1.2467171956322265, -1.0757476486572177, -0.165999174967776, 0.42843672539742184, -0.25675899385138395, 0.22587079145601774, 1.9166425271506045, -0.640237220836307, -0.6861772522003287, -0.5586527440178088, -2.5054824095350603, 0.4409074736412183, -1.9900902601521533, -0.5210386202937979, -0.5080735923466261, -0.7618302051217163, 0.8385206587443153, 1.4112551979094434, -0.35899178289305833, -0.7583551270205274, 0.1801450370472393, -1.668881029521964, -0.7631515357140278, -0.6703114133478807, -1.4410620768665687, 0.8743716919027011, 1.3712437328971603, 1.8015066568239602, -1.3793914176363382, -0.310781082112185, 0.21539737058955025, 0.26100127321811867, -0.5720033350321432, 2.132914188699778, -1.6315266835701523, 0.6116058285290135, -1.375542976417157, 0.5516327908947728, -0.8291435228557643, -0.10741096952517305, 0.466848431170696, 0.8433508517657493, 0.11636175879694592, 0.5598366538046764, 0.24914272694522172, -0.06884643442780915, -0.4084858316707387, -1.4051726071742447, -0.30645623254003573, 1.7389939017633762, -1.069248683755255, 1.6834497814923641, 1.346355028489932, -0.6762454051862051, 0.9031060789060906, 1.1356794877473801, -0.40881973318811055, 0.7063794517678516, -0.4152686536633678, -0.996637064263391, -0.05603719295495405, 0.3267743031922197, -0.7097067062730879, 0.4433270622616412, 0.379617908590977, -0.43494427079199754, 1.7809685905508235, 1.6966147780256329, 1.4906595522423403, 0.4809146675204936, -1.3864972445511055, -0.6595869670593304, -0.5506363437289727, 0.5980724890985413, -1.1521791912703487, -0.3175929792191654, -1.8718075854411518, -0.27684143268620376, -1.6259350828226837, 1.2269730494900373, -0.048869330284592144, 1.5957901102313448, -0.040539979809508665, 1.3204254982305588, -0.035534127153365694, 0.9671163301831622, 0.5214914391803923, 0.9508548035963178, 0.05960270547188383, -0.01561286021245415]}, {\"line\": {\"color\": \"rgba(55, 128, 191, 1.0)\", \"dash\": \"solid\", \"shape\": \"linear\", \"width\": 1.3}, \"mode\": \"lines\", \"name\": \"B\", \"text\": \"\", \"type\": \"scatter\", \"x\": [0, 1, 2, 3, 4, 5, 6, 7, 8, 9, 10, 11, 12, 13, 14, 15, 16, 17, 18, 19, 20, 21, 22, 23, 24, 25, 26, 27, 28, 29, 30, 31, 32, 33, 34, 35, 36, 37, 38, 39, 40, 41, 42, 43, 44, 45, 46, 47, 48, 49, 50, 51, 52, 53, 54, 55, 56, 57, 58, 59, 60, 61, 62, 63, 64, 65, 66, 67, 68, 69, 70, 71, 72, 73, 74, 75, 76, 77, 78, 79, 80, 81, 82, 83, 84, 85, 86, 87, 88, 89, 90, 91, 92, 93, 94, 95, 96, 97, 98, 99], \"y\": [0.5371406102484116, -0.7630355998932787, -2.4858162864857523, 1.2592066808607159, 0.9595436226520081, -0.8081156938171563, 0.9958728377864831, -0.04591061914796954, 0.6904010738181772, -0.5511142392207588, 1.4402893831504124, 0.35305376609086747, 0.7972779169691322, 0.34537746993804025, 1.31874407327095, 1.6969578374319672, -2.380558289248379, -0.42479170062544036, 0.7611985790453921, -1.4523150254476245, 0.587450547772239, 0.15513270402904678, 0.3816171930588017, -0.3485622560270526, -0.2233077072848466, -0.06657166845739156, -0.4699219481124245, 1.2162365035510758, -0.08247111159833434, -0.26576094186048205, 0.6287146222239482, 0.5464995934949134, -1.0413503318774242, -0.6133269467314942, 1.7897861110849156, -1.4636448182885142, -0.6082089722636107, -0.18944182747086188, 1.1535409107981895, -0.2610438758985015, 0.7607204950976051, 0.8689659293485391, -1.0408678834637686, -1.8697259764998884, 0.052957623660512085, -0.4752375307599897, -0.6894315405633875, 0.20660004628802267, 0.41587696940825136, 0.11794519060016996, -0.5483109902790982, 0.2204585387263463, -0.0814497894297341, -0.4261861035950627, -0.021917182184465037, 0.35222734994579635, -0.24159158765078223, -1.245418117537442, 1.0216068651998909, 0.2639425680704423, 0.9241230815489991, 1.0987810469821897, -1.2581918632792053, -0.3047137245763503, 0.60914107898099, -0.9152188042552775, -0.26765853410307033, -2.0075144589553195, 0.8147844678127948, -0.13131685638323615, -1.311225180991742, -0.04852659651473337, -1.218931042803003, -1.024830966258147, 0.12385012282058273, -0.20982791576190235, -0.24678271085565104, 0.5154062122960229, 0.1544833714506777, -0.41404378573783396, -1.2860894727014949, -1.437949062500608, 2.4274363130615795, -0.4573332199984909, 0.7826881088936185, -0.10934943159905164, -0.5949196074311865, 0.03144939194326923, 1.524309150436032, -0.23392802647924565, 0.5361360451160111, -0.7495155351889765, -0.18096629842077092, 1.558544319601368, 1.7517499105114092, -0.39371248209055115, 0.345362285426185, -0.7860338813922241, 1.900836644872969, -0.6373552719220384]}, {\"line\": {\"color\": \"rgba(50, 171, 96, 1.0)\", \"dash\": \"solid\", \"shape\": \"linear\", \"width\": 1.3}, \"mode\": \"lines\", \"name\": \"C\", \"text\": \"\", \"type\": \"scatter\", \"x\": [0, 1, 2, 3, 4, 5, 6, 7, 8, 9, 10, 11, 12, 13, 14, 15, 16, 17, 18, 19, 20, 21, 22, 23, 24, 25, 26, 27, 28, 29, 30, 31, 32, 33, 34, 35, 36, 37, 38, 39, 40, 41, 42, 43, 44, 45, 46, 47, 48, 49, 50, 51, 52, 53, 54, 55, 56, 57, 58, 59, 60, 61, 62, 63, 64, 65, 66, 67, 68, 69, 70, 71, 72, 73, 74, 75, 76, 77, 78, 79, 80, 81, 82, 83, 84, 85, 86, 87, 88, 89, 90, 91, 92, 93, 94, 95, 96, 97, 98, 99], \"y\": [-0.6850215014043163, -1.2412518834652546, -0.3946676954847482, 0.7651845615941001, 0.8539049176742748, -0.37644014904789597, -0.32772970648204053, 0.02834189527309373, -0.9504524445878754, 0.8230972624100741, -1.7142178136821131, 0.33112410774976675, 0.016363052685521937, -0.43413069570491963, -1.5738282812386328, 0.03489961725557421, -0.12246618896219813, -0.6146165254190183, 0.43031162267834133, 0.06397533316452905, -0.490651552827173, 1.3735403366482595, 0.8188391172357061, -0.02980846654887524, -0.31099894785936216, -0.2735335159583621, 0.4179333738998075, -0.5715943544758427, 0.1344414889806831, -1.521533327628918, -0.6689381159428938, 0.15251369394908768, -0.36431107964479786, -0.10028586033516866, -2.6732007415098575, 0.11324362012281179, -0.048704678642151784, 1.4180214987115798, -0.8867526618791968, -1.5253768240139522, 1.8287289167343548, -0.7592255448926566, -0.0671946927632733, 0.1754235812981672, -1.0358340705530713, 0.0019515411977063064, 0.048488005484730506, -0.44430593841028115, -0.2331860016412143, 1.1627105571515324, 0.5660950651322101, -0.6786210624157247, -0.20721530694253, -0.07151740505683823, -0.6818973591112406, -1.324645088015891, -0.2310949839970945, -0.8492294245819209, 0.210864914686496, -0.5009556142676546, 1.1266769334653688, 2.248449891487893, -1.9246130542716733, -1.1722170464527613, 0.09141428654928084, 1.1753076792060488, -0.43191016662870235, -1.1616224424459403, 1.3823367200683663, -1.6837964741457006, -0.3211979035283138, 0.10236534755693119, 2.061701313426245, 0.5473232701612604, -0.24896171576994267, 0.6318260116940371, -0.8575144563857071, -0.06710741764459427, 1.0667462425791259, 1.2325174883238221, -1.2629602105446083, 0.9494335560653758, 1.413884715443827, 0.5129628018179038, 0.2560733737865519, -0.8923394405259693, 0.8888377362062309, -0.688304615890909, 1.1748715811398724, -0.7300124099889382, 1.6207942045893935, 0.07057876461498128, 0.1381467197907667, -0.15809627739176416, -0.12616914469849583, -0.6426296324989368, -1.1256061558648365, -0.2819777712287155, 0.25792572295089744, -1.3031790480572327]}, {\"line\": {\"color\": \"rgba(128, 0, 128, 1.0)\", \"dash\": \"solid\", \"shape\": \"linear\", \"width\": 1.3}, \"mode\": \"lines\", \"name\": \"D\", \"text\": \"\", \"type\": \"scatter\", \"x\": [0, 1, 2, 3, 4, 5, 6, 7, 8, 9, 10, 11, 12, 13, 14, 15, 16, 17, 18, 19, 20, 21, 22, 23, 24, 25, 26, 27, 28, 29, 30, 31, 32, 33, 34, 35, 36, 37, 38, 39, 40, 41, 42, 43, 44, 45, 46, 47, 48, 49, 50, 51, 52, 53, 54, 55, 56, 57, 58, 59, 60, 61, 62, 63, 64, 65, 66, 67, 68, 69, 70, 71, 72, 73, 74, 75, 76, 77, 78, 79, 80, 81, 82, 83, 84, 85, 86, 87, 88, 89, 90, 91, 92, 93, 94, 95, 96, 97, 98, 99], \"y\": [2.014247115270905, -0.7428208160857449, -1.309030944216816, -2.478092924371268, -0.6280100446363561, 1.0291618666179578, -0.26691667588585155, 1.313422842184512, -1.970495819360091, 0.11411545090210919, 0.9181163750127501, -0.29858708158689656, -0.26612821659138275, -0.973581285673536, -0.20814284985497686, -0.2558327791930005, 0.37891920212858315, 1.1085200274370157, -1.0002458133975058, -0.33242083339553374, -0.9749877501914137, 1.15811018558237, 0.5169718463650118, -1.274743874217198, 2.006624857298406, 0.25511767166704996, -0.30164693812853194, 0.06354489502755675, -1.0197590712944298, 0.3253988257390908, -0.7933307740387828, -0.8036699362969526, 0.1043611568074112, 1.3437747133382383, -0.5894175974959336, -0.49893973790798285, -0.47525780077383467, -0.9390740838969601, 1.4442447945726926, -0.7540442676823031, 1.5830342653142089, 0.6438885132208334, 0.2990209607177709, 0.17577833233795892, 1.4195280629117475, 1.3131698831594645, 1.0031714131683982, 1.7632422224160416, 0.11073442737923893, -0.5828009953990801, -0.486770021231336, -0.3839996428127627, -0.4391568257246189, -0.44417511214167693, -0.3318415514093242, 0.11211566642523081, 0.6104668682054902, -0.49044106556725764, -0.8714167589345827, -1.6880287466088721, 1.3880439298208682, 0.007243106345136585, -0.7003319230422439, 0.9207544153619949, 1.8122011583635331, 0.21520079658506217, 1.338945422952007, -1.3559156793828218, 1.0675500203465638, 0.22685073583400517, 1.3147667676333779, -0.8512121329769073, -1.00825773280854, -0.05585947679402678, -1.9087662048270295, -1.1700986548099093, -0.14527278661267826, 0.22093226813171887, 1.624520241139117, 1.508494359617955, 0.6357187352707607, 0.4533273679564344, 0.07956108166066125, -0.8250424975633813, -1.6091491496953354, 0.8742516509758052, -2.491823621271737, -0.042188676755759956, 1.2969695278585485, 0.42802263329645285, 1.3549457569635972, 0.011100810382680232, -0.5876763575631399, -0.34431210228354003, -0.6782744890719055, 1.3916341438432032, -0.12101914607071254, -1.7419381441262538, 0.3707115678108203, 0.5024782457297611]}],\n",
       "                        {\"legend\": {\"bgcolor\": \"#F5F6F9\", \"font\": {\"color\": \"#4D5663\"}}, \"paper_bgcolor\": \"#F5F6F9\", \"plot_bgcolor\": \"#F5F6F9\", \"template\": {\"data\": {\"bar\": [{\"error_x\": {\"color\": \"#2a3f5f\"}, \"error_y\": {\"color\": \"#2a3f5f\"}, \"marker\": {\"line\": {\"color\": \"#E5ECF6\", \"width\": 0.5}}, \"type\": \"bar\"}], \"barpolar\": [{\"marker\": {\"line\": {\"color\": \"#E5ECF6\", \"width\": 0.5}}, \"type\": \"barpolar\"}], \"carpet\": [{\"aaxis\": {\"endlinecolor\": \"#2a3f5f\", \"gridcolor\": \"white\", \"linecolor\": \"white\", \"minorgridcolor\": \"white\", \"startlinecolor\": \"#2a3f5f\"}, \"baxis\": {\"endlinecolor\": \"#2a3f5f\", \"gridcolor\": \"white\", \"linecolor\": \"white\", \"minorgridcolor\": \"white\", \"startlinecolor\": \"#2a3f5f\"}, \"type\": \"carpet\"}], \"choropleth\": [{\"colorbar\": {\"outlinewidth\": 0, \"ticks\": \"\"}, \"type\": \"choropleth\"}], \"contour\": [{\"colorbar\": {\"outlinewidth\": 0, \"ticks\": \"\"}, \"colorscale\": [[0.0, \"#0d0887\"], [0.1111111111111111, \"#46039f\"], [0.2222222222222222, \"#7201a8\"], [0.3333333333333333, \"#9c179e\"], [0.4444444444444444, \"#bd3786\"], [0.5555555555555556, \"#d8576b\"], [0.6666666666666666, \"#ed7953\"], [0.7777777777777778, \"#fb9f3a\"], [0.8888888888888888, \"#fdca26\"], [1.0, \"#f0f921\"]], \"type\": \"contour\"}], \"contourcarpet\": [{\"colorbar\": {\"outlinewidth\": 0, \"ticks\": \"\"}, \"type\": \"contourcarpet\"}], \"heatmap\": [{\"colorbar\": {\"outlinewidth\": 0, \"ticks\": \"\"}, \"colorscale\": [[0.0, \"#0d0887\"], [0.1111111111111111, \"#46039f\"], [0.2222222222222222, \"#7201a8\"], [0.3333333333333333, \"#9c179e\"], [0.4444444444444444, \"#bd3786\"], [0.5555555555555556, \"#d8576b\"], [0.6666666666666666, \"#ed7953\"], [0.7777777777777778, \"#fb9f3a\"], [0.8888888888888888, \"#fdca26\"], [1.0, \"#f0f921\"]], \"type\": \"heatmap\"}], \"heatmapgl\": [{\"colorbar\": {\"outlinewidth\": 0, \"ticks\": \"\"}, \"colorscale\": [[0.0, \"#0d0887\"], [0.1111111111111111, \"#46039f\"], [0.2222222222222222, \"#7201a8\"], [0.3333333333333333, \"#9c179e\"], [0.4444444444444444, \"#bd3786\"], [0.5555555555555556, \"#d8576b\"], [0.6666666666666666, \"#ed7953\"], [0.7777777777777778, \"#fb9f3a\"], [0.8888888888888888, \"#fdca26\"], [1.0, \"#f0f921\"]], \"type\": \"heatmapgl\"}], \"histogram\": [{\"marker\": {\"colorbar\": {\"outlinewidth\": 0, \"ticks\": \"\"}}, \"type\": \"histogram\"}], \"histogram2d\": [{\"colorbar\": {\"outlinewidth\": 0, \"ticks\": \"\"}, \"colorscale\": [[0.0, \"#0d0887\"], [0.1111111111111111, \"#46039f\"], [0.2222222222222222, \"#7201a8\"], [0.3333333333333333, \"#9c179e\"], [0.4444444444444444, \"#bd3786\"], [0.5555555555555556, \"#d8576b\"], [0.6666666666666666, \"#ed7953\"], [0.7777777777777778, \"#fb9f3a\"], [0.8888888888888888, \"#fdca26\"], [1.0, \"#f0f921\"]], \"type\": \"histogram2d\"}], \"histogram2dcontour\": [{\"colorbar\": {\"outlinewidth\": 0, \"ticks\": \"\"}, \"colorscale\": [[0.0, \"#0d0887\"], [0.1111111111111111, \"#46039f\"], [0.2222222222222222, \"#7201a8\"], [0.3333333333333333, \"#9c179e\"], [0.4444444444444444, \"#bd3786\"], [0.5555555555555556, \"#d8576b\"], [0.6666666666666666, \"#ed7953\"], [0.7777777777777778, \"#fb9f3a\"], [0.8888888888888888, \"#fdca26\"], [1.0, \"#f0f921\"]], \"type\": \"histogram2dcontour\"}], \"mesh3d\": [{\"colorbar\": {\"outlinewidth\": 0, \"ticks\": \"\"}, \"type\": \"mesh3d\"}], \"parcoords\": [{\"line\": {\"colorbar\": {\"outlinewidth\": 0, \"ticks\": \"\"}}, \"type\": \"parcoords\"}], \"scatter\": [{\"marker\": {\"colorbar\": {\"outlinewidth\": 0, \"ticks\": \"\"}}, \"type\": \"scatter\"}], \"scatter3d\": [{\"line\": {\"colorbar\": {\"outlinewidth\": 0, \"ticks\": \"\"}}, \"marker\": {\"colorbar\": {\"outlinewidth\": 0, \"ticks\": \"\"}}, \"type\": \"scatter3d\"}], \"scattercarpet\": [{\"marker\": {\"colorbar\": {\"outlinewidth\": 0, \"ticks\": \"\"}}, \"type\": \"scattercarpet\"}], \"scattergeo\": [{\"marker\": {\"colorbar\": {\"outlinewidth\": 0, \"ticks\": \"\"}}, \"type\": \"scattergeo\"}], \"scattergl\": [{\"marker\": {\"colorbar\": {\"outlinewidth\": 0, \"ticks\": \"\"}}, \"type\": \"scattergl\"}], \"scattermapbox\": [{\"marker\": {\"colorbar\": {\"outlinewidth\": 0, \"ticks\": \"\"}}, \"type\": \"scattermapbox\"}], \"scatterpolar\": [{\"marker\": {\"colorbar\": {\"outlinewidth\": 0, \"ticks\": \"\"}}, \"type\": \"scatterpolar\"}], \"scatterpolargl\": [{\"marker\": {\"colorbar\": {\"outlinewidth\": 0, \"ticks\": \"\"}}, \"type\": \"scatterpolargl\"}], \"scatterternary\": [{\"marker\": {\"colorbar\": {\"outlinewidth\": 0, \"ticks\": \"\"}}, \"type\": \"scatterternary\"}], \"surface\": [{\"colorbar\": {\"outlinewidth\": 0, \"ticks\": \"\"}, \"colorscale\": [[0.0, \"#0d0887\"], [0.1111111111111111, \"#46039f\"], [0.2222222222222222, \"#7201a8\"], [0.3333333333333333, \"#9c179e\"], [0.4444444444444444, \"#bd3786\"], [0.5555555555555556, \"#d8576b\"], [0.6666666666666666, \"#ed7953\"], [0.7777777777777778, \"#fb9f3a\"], [0.8888888888888888, \"#fdca26\"], [1.0, \"#f0f921\"]], \"type\": \"surface\"}], \"table\": [{\"cells\": {\"fill\": {\"color\": \"#EBF0F8\"}, \"line\": {\"color\": \"white\"}}, \"header\": {\"fill\": {\"color\": \"#C8D4E3\"}, \"line\": {\"color\": \"white\"}}, \"type\": \"table\"}]}, \"layout\": {\"annotationdefaults\": {\"arrowcolor\": \"#2a3f5f\", \"arrowhead\": 0, \"arrowwidth\": 1}, \"colorscale\": {\"diverging\": [[0, \"#8e0152\"], [0.1, \"#c51b7d\"], [0.2, \"#de77ae\"], [0.3, \"#f1b6da\"], [0.4, \"#fde0ef\"], [0.5, \"#f7f7f7\"], [0.6, \"#e6f5d0\"], [0.7, \"#b8e186\"], [0.8, \"#7fbc41\"], [0.9, \"#4d9221\"], [1, \"#276419\"]], \"sequential\": [[0.0, \"#0d0887\"], [0.1111111111111111, \"#46039f\"], [0.2222222222222222, \"#7201a8\"], [0.3333333333333333, \"#9c179e\"], [0.4444444444444444, \"#bd3786\"], [0.5555555555555556, \"#d8576b\"], [0.6666666666666666, \"#ed7953\"], [0.7777777777777778, \"#fb9f3a\"], [0.8888888888888888, \"#fdca26\"], [1.0, \"#f0f921\"]], \"sequentialminus\": [[0.0, \"#0d0887\"], [0.1111111111111111, \"#46039f\"], [0.2222222222222222, \"#7201a8\"], [0.3333333333333333, \"#9c179e\"], [0.4444444444444444, \"#bd3786\"], [0.5555555555555556, \"#d8576b\"], [0.6666666666666666, \"#ed7953\"], [0.7777777777777778, \"#fb9f3a\"], [0.8888888888888888, \"#fdca26\"], [1.0, \"#f0f921\"]]}, \"colorway\": [\"#636efa\", \"#EF553B\", \"#00cc96\", \"#ab63fa\", \"#FFA15A\", \"#19d3f3\", \"#FF6692\", \"#B6E880\", \"#FF97FF\", \"#FECB52\"], \"font\": {\"color\": \"#2a3f5f\"}, \"geo\": {\"bgcolor\": \"white\", \"lakecolor\": \"white\", \"landcolor\": \"#E5ECF6\", \"showlakes\": true, \"showland\": true, \"subunitcolor\": \"white\"}, \"hoverlabel\": {\"align\": \"left\"}, \"hovermode\": \"closest\", \"mapbox\": {\"style\": \"light\"}, \"paper_bgcolor\": \"white\", \"plot_bgcolor\": \"#E5ECF6\", \"polar\": {\"angularaxis\": {\"gridcolor\": \"white\", \"linecolor\": \"white\", \"ticks\": \"\"}, \"bgcolor\": \"#E5ECF6\", \"radialaxis\": {\"gridcolor\": \"white\", \"linecolor\": \"white\", \"ticks\": \"\"}}, \"scene\": {\"xaxis\": {\"backgroundcolor\": \"#E5ECF6\", \"gridcolor\": \"white\", \"gridwidth\": 2, \"linecolor\": \"white\", \"showbackground\": true, \"ticks\": \"\", \"zerolinecolor\": \"white\"}, \"yaxis\": {\"backgroundcolor\": \"#E5ECF6\", \"gridcolor\": \"white\", \"gridwidth\": 2, \"linecolor\": \"white\", \"showbackground\": true, \"ticks\": \"\", \"zerolinecolor\": \"white\"}, \"zaxis\": {\"backgroundcolor\": \"#E5ECF6\", \"gridcolor\": \"white\", \"gridwidth\": 2, \"linecolor\": \"white\", \"showbackground\": true, \"ticks\": \"\", \"zerolinecolor\": \"white\"}}, \"shapedefaults\": {\"line\": {\"color\": \"#2a3f5f\"}}, \"ternary\": {\"aaxis\": {\"gridcolor\": \"white\", \"linecolor\": \"white\", \"ticks\": \"\"}, \"baxis\": {\"gridcolor\": \"white\", \"linecolor\": \"white\", \"ticks\": \"\"}, \"bgcolor\": \"#E5ECF6\", \"caxis\": {\"gridcolor\": \"white\", \"linecolor\": \"white\", \"ticks\": \"\"}}, \"title\": {\"x\": 0.05}, \"xaxis\": {\"automargin\": true, \"gridcolor\": \"white\", \"linecolor\": \"white\", \"ticks\": \"\", \"zerolinecolor\": \"white\", \"zerolinewidth\": 2}, \"yaxis\": {\"automargin\": true, \"gridcolor\": \"white\", \"linecolor\": \"white\", \"ticks\": \"\", \"zerolinecolor\": \"white\", \"zerolinewidth\": 2}}}, \"title\": {\"font\": {\"color\": \"#4D5663\"}}, \"xaxis\": {\"gridcolor\": \"#E1E5ED\", \"showgrid\": true, \"tickfont\": {\"color\": \"#4D5663\"}, \"title\": {\"font\": {\"color\": \"#4D5663\"}, \"text\": \"\"}, \"zerolinecolor\": \"#E1E5ED\"}, \"yaxis\": {\"gridcolor\": \"#E1E5ED\", \"showgrid\": true, \"tickfont\": {\"color\": \"#4D5663\"}, \"title\": {\"font\": {\"color\": \"#4D5663\"}, \"text\": \"\"}, \"zerolinecolor\": \"#E1E5ED\"}},\n",
       "                        {\"showLink\": true, \"linkText\": \"Export to plot.ly\", \"plotlyServerURL\": \"https://plot.ly\", \"responsive\": true}\n",
       "                    ).then(function(){\n",
       "                            \n",
       "var gd = document.getElementById('91224e7a-7a0d-4f9a-bd31-d183afd4c5c2');\n",
       "var x = new MutationObserver(function (mutations, observer) {{\n",
       "        var display = window.getComputedStyle(gd).display;\n",
       "        if (!display || display === 'none') {{\n",
       "            console.log([gd, 'removed!']);\n",
       "            Plotly.purge(gd);\n",
       "            observer.disconnect();\n",
       "        }}\n",
       "}});\n",
       "\n",
       "// Listen for the removal of the full notebook cells\n",
       "var notebookContainer = gd.closest('#notebook-container');\n",
       "if (notebookContainer) {{\n",
       "    x.observe(notebookContainer, {childList: true});\n",
       "}}\n",
       "\n",
       "// Listen for the clearing of the current output cell\n",
       "var outputEl = gd.closest('.output');\n",
       "if (outputEl) {{\n",
       "    x.observe(outputEl, {childList: true});\n",
       "}}\n",
       "\n",
       "                        })\n",
       "                };\n",
       "                });\n",
       "            </script>\n",
       "        </div>"
      ]
     },
     "metadata": {},
     "output_type": "display_data"
    }
   ],
   "source": [
    "# the plot now been converted to a plotline interactive image\n",
    "# it is the same plot but it can interactive\n",
    "\n",
    "df.iplot()"
   ]
  },
  {
   "cell_type": "code",
   "execution_count": 16,
   "metadata": {},
   "outputs": [
    {
     "data": {
      "application/vnd.plotly.v1+json": {
       "config": {
        "linkText": "Export to plot.ly",
        "plotlyServerURL": "https://plot.ly",
        "showLink": true
       },
       "data": [
        {
         "line": {
          "color": "rgba(255, 153, 51, 1.0)",
          "dash": "solid",
          "shape": "linear",
          "width": 1.3
         },
         "mode": "lines",
         "name": "B",
         "text": "",
         "type": "scatter",
         "x": [
          2.069081317248437,
          -1.9586988201017066,
          0.31687259557075065,
          0.3163933211791377,
          -0.16623943248273207,
          1.5497820365156982,
          -1.7297768914284835,
          0.5697825774153621,
          -0.7032361365794662,
          -0.8268251660691491,
          1.2467171956322265,
          -1.0757476486572177,
          -0.165999174967776,
          0.42843672539742184,
          -0.25675899385138395,
          0.22587079145601774,
          1.9166425271506045,
          -0.640237220836307,
          -0.6861772522003287,
          -0.5586527440178088,
          -2.5054824095350603,
          0.4409074736412183,
          -1.9900902601521533,
          -0.5210386202937979,
          -0.5080735923466261,
          -0.7618302051217163,
          0.8385206587443153,
          1.4112551979094434,
          -0.35899178289305833,
          -0.7583551270205274,
          0.1801450370472393,
          -1.668881029521964,
          -0.7631515357140278,
          -0.6703114133478807,
          -1.4410620768665687,
          0.8743716919027011,
          1.3712437328971603,
          1.8015066568239602,
          -1.3793914176363382,
          -0.310781082112185,
          0.21539737058955025,
          0.26100127321811867,
          -0.5720033350321432,
          2.132914188699778,
          -1.6315266835701523,
          0.6116058285290135,
          -1.375542976417157,
          0.5516327908947728,
          -0.8291435228557643,
          -0.10741096952517305,
          0.466848431170696,
          0.8433508517657493,
          0.11636175879694592,
          0.5598366538046764,
          0.24914272694522172,
          -0.06884643442780915,
          -0.4084858316707387,
          -1.4051726071742447,
          -0.30645623254003573,
          1.7389939017633762,
          -1.069248683755255,
          1.6834497814923641,
          1.346355028489932,
          -0.6762454051862051,
          0.9031060789060906,
          1.1356794877473801,
          -0.40881973318811055,
          0.7063794517678516,
          -0.4152686536633678,
          -0.996637064263391,
          -0.05603719295495405,
          0.3267743031922197,
          -0.7097067062730879,
          0.4433270622616412,
          0.379617908590977,
          -0.43494427079199754,
          1.7809685905508235,
          1.6966147780256329,
          1.4906595522423403,
          0.4809146675204936,
          -1.3864972445511055,
          -0.6595869670593304,
          -0.5506363437289727,
          0.5980724890985413,
          -1.1521791912703487,
          -0.3175929792191654,
          -1.8718075854411518,
          -0.27684143268620376,
          -1.6259350828226837,
          1.2269730494900373,
          -0.048869330284592144,
          1.5957901102313448,
          -0.040539979809508665,
          1.3204254982305588,
          -0.035534127153365694,
          0.9671163301831622,
          0.5214914391803923,
          0.9508548035963178,
          0.05960270547188383,
          -0.01561286021245415
         ],
         "y": [
          0.5371406102484116,
          -0.7630355998932787,
          -2.4858162864857523,
          1.2592066808607159,
          0.9595436226520081,
          -0.8081156938171563,
          0.9958728377864831,
          -0.04591061914796954,
          0.6904010738181772,
          -0.5511142392207588,
          1.4402893831504124,
          0.35305376609086747,
          0.7972779169691322,
          0.34537746993804025,
          1.31874407327095,
          1.6969578374319672,
          -2.380558289248379,
          -0.42479170062544036,
          0.7611985790453921,
          -1.4523150254476245,
          0.587450547772239,
          0.15513270402904678,
          0.3816171930588017,
          -0.3485622560270526,
          -0.2233077072848466,
          -0.06657166845739156,
          -0.4699219481124245,
          1.2162365035510758,
          -0.08247111159833434,
          -0.26576094186048205,
          0.6287146222239482,
          0.5464995934949134,
          -1.0413503318774242,
          -0.6133269467314942,
          1.7897861110849156,
          -1.4636448182885142,
          -0.6082089722636107,
          -0.18944182747086188,
          1.1535409107981895,
          -0.2610438758985015,
          0.7607204950976051,
          0.8689659293485391,
          -1.0408678834637686,
          -1.8697259764998884,
          0.052957623660512085,
          -0.4752375307599897,
          -0.6894315405633875,
          0.20660004628802267,
          0.41587696940825136,
          0.11794519060016996,
          -0.5483109902790982,
          0.2204585387263463,
          -0.0814497894297341,
          -0.4261861035950627,
          -0.021917182184465037,
          0.35222734994579635,
          -0.24159158765078223,
          -1.245418117537442,
          1.0216068651998909,
          0.2639425680704423,
          0.9241230815489991,
          1.0987810469821897,
          -1.2581918632792053,
          -0.3047137245763503,
          0.60914107898099,
          -0.9152188042552775,
          -0.26765853410307033,
          -2.0075144589553195,
          0.8147844678127948,
          -0.13131685638323615,
          -1.311225180991742,
          -0.04852659651473337,
          -1.218931042803003,
          -1.024830966258147,
          0.12385012282058273,
          -0.20982791576190235,
          -0.24678271085565104,
          0.5154062122960229,
          0.1544833714506777,
          -0.41404378573783396,
          -1.2860894727014949,
          -1.437949062500608,
          2.4274363130615795,
          -0.4573332199984909,
          0.7826881088936185,
          -0.10934943159905164,
          -0.5949196074311865,
          0.03144939194326923,
          1.524309150436032,
          -0.23392802647924565,
          0.5361360451160111,
          -0.7495155351889765,
          -0.18096629842077092,
          1.558544319601368,
          1.7517499105114092,
          -0.39371248209055115,
          0.345362285426185,
          -0.7860338813922241,
          1.900836644872969,
          -0.6373552719220384
         ]
        }
       ],
       "layout": {
        "legend": {
         "bgcolor": "#F5F6F9",
         "font": {
          "color": "#4D5663"
         }
        },
        "paper_bgcolor": "#F5F6F9",
        "plot_bgcolor": "#F5F6F9",
        "template": {
         "data": {
          "bar": [
           {
            "error_x": {
             "color": "#2a3f5f"
            },
            "error_y": {
             "color": "#2a3f5f"
            },
            "marker": {
             "line": {
              "color": "#E5ECF6",
              "width": 0.5
             }
            },
            "type": "bar"
           }
          ],
          "barpolar": [
           {
            "marker": {
             "line": {
              "color": "#E5ECF6",
              "width": 0.5
             }
            },
            "type": "barpolar"
           }
          ],
          "carpet": [
           {
            "aaxis": {
             "endlinecolor": "#2a3f5f",
             "gridcolor": "white",
             "linecolor": "white",
             "minorgridcolor": "white",
             "startlinecolor": "#2a3f5f"
            },
            "baxis": {
             "endlinecolor": "#2a3f5f",
             "gridcolor": "white",
             "linecolor": "white",
             "minorgridcolor": "white",
             "startlinecolor": "#2a3f5f"
            },
            "type": "carpet"
           }
          ],
          "choropleth": [
           {
            "colorbar": {
             "outlinewidth": 0,
             "ticks": ""
            },
            "type": "choropleth"
           }
          ],
          "contour": [
           {
            "colorbar": {
             "outlinewidth": 0,
             "ticks": ""
            },
            "colorscale": [
             [
              0,
              "#0d0887"
             ],
             [
              0.1111111111111111,
              "#46039f"
             ],
             [
              0.2222222222222222,
              "#7201a8"
             ],
             [
              0.3333333333333333,
              "#9c179e"
             ],
             [
              0.4444444444444444,
              "#bd3786"
             ],
             [
              0.5555555555555556,
              "#d8576b"
             ],
             [
              0.6666666666666666,
              "#ed7953"
             ],
             [
              0.7777777777777778,
              "#fb9f3a"
             ],
             [
              0.8888888888888888,
              "#fdca26"
             ],
             [
              1,
              "#f0f921"
             ]
            ],
            "type": "contour"
           }
          ],
          "contourcarpet": [
           {
            "colorbar": {
             "outlinewidth": 0,
             "ticks": ""
            },
            "type": "contourcarpet"
           }
          ],
          "heatmap": [
           {
            "colorbar": {
             "outlinewidth": 0,
             "ticks": ""
            },
            "colorscale": [
             [
              0,
              "#0d0887"
             ],
             [
              0.1111111111111111,
              "#46039f"
             ],
             [
              0.2222222222222222,
              "#7201a8"
             ],
             [
              0.3333333333333333,
              "#9c179e"
             ],
             [
              0.4444444444444444,
              "#bd3786"
             ],
             [
              0.5555555555555556,
              "#d8576b"
             ],
             [
              0.6666666666666666,
              "#ed7953"
             ],
             [
              0.7777777777777778,
              "#fb9f3a"
             ],
             [
              0.8888888888888888,
              "#fdca26"
             ],
             [
              1,
              "#f0f921"
             ]
            ],
            "type": "heatmap"
           }
          ],
          "heatmapgl": [
           {
            "colorbar": {
             "outlinewidth": 0,
             "ticks": ""
            },
            "colorscale": [
             [
              0,
              "#0d0887"
             ],
             [
              0.1111111111111111,
              "#46039f"
             ],
             [
              0.2222222222222222,
              "#7201a8"
             ],
             [
              0.3333333333333333,
              "#9c179e"
             ],
             [
              0.4444444444444444,
              "#bd3786"
             ],
             [
              0.5555555555555556,
              "#d8576b"
             ],
             [
              0.6666666666666666,
              "#ed7953"
             ],
             [
              0.7777777777777778,
              "#fb9f3a"
             ],
             [
              0.8888888888888888,
              "#fdca26"
             ],
             [
              1,
              "#f0f921"
             ]
            ],
            "type": "heatmapgl"
           }
          ],
          "histogram": [
           {
            "marker": {
             "colorbar": {
              "outlinewidth": 0,
              "ticks": ""
             }
            },
            "type": "histogram"
           }
          ],
          "histogram2d": [
           {
            "colorbar": {
             "outlinewidth": 0,
             "ticks": ""
            },
            "colorscale": [
             [
              0,
              "#0d0887"
             ],
             [
              0.1111111111111111,
              "#46039f"
             ],
             [
              0.2222222222222222,
              "#7201a8"
             ],
             [
              0.3333333333333333,
              "#9c179e"
             ],
             [
              0.4444444444444444,
              "#bd3786"
             ],
             [
              0.5555555555555556,
              "#d8576b"
             ],
             [
              0.6666666666666666,
              "#ed7953"
             ],
             [
              0.7777777777777778,
              "#fb9f3a"
             ],
             [
              0.8888888888888888,
              "#fdca26"
             ],
             [
              1,
              "#f0f921"
             ]
            ],
            "type": "histogram2d"
           }
          ],
          "histogram2dcontour": [
           {
            "colorbar": {
             "outlinewidth": 0,
             "ticks": ""
            },
            "colorscale": [
             [
              0,
              "#0d0887"
             ],
             [
              0.1111111111111111,
              "#46039f"
             ],
             [
              0.2222222222222222,
              "#7201a8"
             ],
             [
              0.3333333333333333,
              "#9c179e"
             ],
             [
              0.4444444444444444,
              "#bd3786"
             ],
             [
              0.5555555555555556,
              "#d8576b"
             ],
             [
              0.6666666666666666,
              "#ed7953"
             ],
             [
              0.7777777777777778,
              "#fb9f3a"
             ],
             [
              0.8888888888888888,
              "#fdca26"
             ],
             [
              1,
              "#f0f921"
             ]
            ],
            "type": "histogram2dcontour"
           }
          ],
          "mesh3d": [
           {
            "colorbar": {
             "outlinewidth": 0,
             "ticks": ""
            },
            "type": "mesh3d"
           }
          ],
          "parcoords": [
           {
            "line": {
             "colorbar": {
              "outlinewidth": 0,
              "ticks": ""
             }
            },
            "type": "parcoords"
           }
          ],
          "scatter": [
           {
            "marker": {
             "colorbar": {
              "outlinewidth": 0,
              "ticks": ""
             }
            },
            "type": "scatter"
           }
          ],
          "scatter3d": [
           {
            "line": {
             "colorbar": {
              "outlinewidth": 0,
              "ticks": ""
             }
            },
            "marker": {
             "colorbar": {
              "outlinewidth": 0,
              "ticks": ""
             }
            },
            "type": "scatter3d"
           }
          ],
          "scattercarpet": [
           {
            "marker": {
             "colorbar": {
              "outlinewidth": 0,
              "ticks": ""
             }
            },
            "type": "scattercarpet"
           }
          ],
          "scattergeo": [
           {
            "marker": {
             "colorbar": {
              "outlinewidth": 0,
              "ticks": ""
             }
            },
            "type": "scattergeo"
           }
          ],
          "scattergl": [
           {
            "marker": {
             "colorbar": {
              "outlinewidth": 0,
              "ticks": ""
             }
            },
            "type": "scattergl"
           }
          ],
          "scattermapbox": [
           {
            "marker": {
             "colorbar": {
              "outlinewidth": 0,
              "ticks": ""
             }
            },
            "type": "scattermapbox"
           }
          ],
          "scatterpolar": [
           {
            "marker": {
             "colorbar": {
              "outlinewidth": 0,
              "ticks": ""
             }
            },
            "type": "scatterpolar"
           }
          ],
          "scatterpolargl": [
           {
            "marker": {
             "colorbar": {
              "outlinewidth": 0,
              "ticks": ""
             }
            },
            "type": "scatterpolargl"
           }
          ],
          "scatterternary": [
           {
            "marker": {
             "colorbar": {
              "outlinewidth": 0,
              "ticks": ""
             }
            },
            "type": "scatterternary"
           }
          ],
          "surface": [
           {
            "colorbar": {
             "outlinewidth": 0,
             "ticks": ""
            },
            "colorscale": [
             [
              0,
              "#0d0887"
             ],
             [
              0.1111111111111111,
              "#46039f"
             ],
             [
              0.2222222222222222,
              "#7201a8"
             ],
             [
              0.3333333333333333,
              "#9c179e"
             ],
             [
              0.4444444444444444,
              "#bd3786"
             ],
             [
              0.5555555555555556,
              "#d8576b"
             ],
             [
              0.6666666666666666,
              "#ed7953"
             ],
             [
              0.7777777777777778,
              "#fb9f3a"
             ],
             [
              0.8888888888888888,
              "#fdca26"
             ],
             [
              1,
              "#f0f921"
             ]
            ],
            "type": "surface"
           }
          ],
          "table": [
           {
            "cells": {
             "fill": {
              "color": "#EBF0F8"
             },
             "line": {
              "color": "white"
             }
            },
            "header": {
             "fill": {
              "color": "#C8D4E3"
             },
             "line": {
              "color": "white"
             }
            },
            "type": "table"
           }
          ]
         },
         "layout": {
          "annotationdefaults": {
           "arrowcolor": "#2a3f5f",
           "arrowhead": 0,
           "arrowwidth": 1
          },
          "colorscale": {
           "diverging": [
            [
             0,
             "#8e0152"
            ],
            [
             0.1,
             "#c51b7d"
            ],
            [
             0.2,
             "#de77ae"
            ],
            [
             0.3,
             "#f1b6da"
            ],
            [
             0.4,
             "#fde0ef"
            ],
            [
             0.5,
             "#f7f7f7"
            ],
            [
             0.6,
             "#e6f5d0"
            ],
            [
             0.7,
             "#b8e186"
            ],
            [
             0.8,
             "#7fbc41"
            ],
            [
             0.9,
             "#4d9221"
            ],
            [
             1,
             "#276419"
            ]
           ],
           "sequential": [
            [
             0,
             "#0d0887"
            ],
            [
             0.1111111111111111,
             "#46039f"
            ],
            [
             0.2222222222222222,
             "#7201a8"
            ],
            [
             0.3333333333333333,
             "#9c179e"
            ],
            [
             0.4444444444444444,
             "#bd3786"
            ],
            [
             0.5555555555555556,
             "#d8576b"
            ],
            [
             0.6666666666666666,
             "#ed7953"
            ],
            [
             0.7777777777777778,
             "#fb9f3a"
            ],
            [
             0.8888888888888888,
             "#fdca26"
            ],
            [
             1,
             "#f0f921"
            ]
           ],
           "sequentialminus": [
            [
             0,
             "#0d0887"
            ],
            [
             0.1111111111111111,
             "#46039f"
            ],
            [
             0.2222222222222222,
             "#7201a8"
            ],
            [
             0.3333333333333333,
             "#9c179e"
            ],
            [
             0.4444444444444444,
             "#bd3786"
            ],
            [
             0.5555555555555556,
             "#d8576b"
            ],
            [
             0.6666666666666666,
             "#ed7953"
            ],
            [
             0.7777777777777778,
             "#fb9f3a"
            ],
            [
             0.8888888888888888,
             "#fdca26"
            ],
            [
             1,
             "#f0f921"
            ]
           ]
          },
          "colorway": [
           "#636efa",
           "#EF553B",
           "#00cc96",
           "#ab63fa",
           "#FFA15A",
           "#19d3f3",
           "#FF6692",
           "#B6E880",
           "#FF97FF",
           "#FECB52"
          ],
          "font": {
           "color": "#2a3f5f"
          },
          "geo": {
           "bgcolor": "white",
           "lakecolor": "white",
           "landcolor": "#E5ECF6",
           "showlakes": true,
           "showland": true,
           "subunitcolor": "white"
          },
          "hoverlabel": {
           "align": "left"
          },
          "hovermode": "closest",
          "mapbox": {
           "style": "light"
          },
          "paper_bgcolor": "white",
          "plot_bgcolor": "#E5ECF6",
          "polar": {
           "angularaxis": {
            "gridcolor": "white",
            "linecolor": "white",
            "ticks": ""
           },
           "bgcolor": "#E5ECF6",
           "radialaxis": {
            "gridcolor": "white",
            "linecolor": "white",
            "ticks": ""
           }
          },
          "scene": {
           "xaxis": {
            "backgroundcolor": "#E5ECF6",
            "gridcolor": "white",
            "gridwidth": 2,
            "linecolor": "white",
            "showbackground": true,
            "ticks": "",
            "zerolinecolor": "white"
           },
           "yaxis": {
            "backgroundcolor": "#E5ECF6",
            "gridcolor": "white",
            "gridwidth": 2,
            "linecolor": "white",
            "showbackground": true,
            "ticks": "",
            "zerolinecolor": "white"
           },
           "zaxis": {
            "backgroundcolor": "#E5ECF6",
            "gridcolor": "white",
            "gridwidth": 2,
            "linecolor": "white",
            "showbackground": true,
            "ticks": "",
            "zerolinecolor": "white"
           }
          },
          "shapedefaults": {
           "line": {
            "color": "#2a3f5f"
           }
          },
          "ternary": {
           "aaxis": {
            "gridcolor": "white",
            "linecolor": "white",
            "ticks": ""
           },
           "baxis": {
            "gridcolor": "white",
            "linecolor": "white",
            "ticks": ""
           },
           "bgcolor": "#E5ECF6",
           "caxis": {
            "gridcolor": "white",
            "linecolor": "white",
            "ticks": ""
           }
          },
          "title": {
           "x": 0.05
          },
          "xaxis": {
           "automargin": true,
           "gridcolor": "white",
           "linecolor": "white",
           "ticks": "",
           "zerolinecolor": "white",
           "zerolinewidth": 2
          },
          "yaxis": {
           "automargin": true,
           "gridcolor": "white",
           "linecolor": "white",
           "ticks": "",
           "zerolinecolor": "white",
           "zerolinewidth": 2
          }
         }
        },
        "title": {
         "font": {
          "color": "#4D5663"
         }
        },
        "xaxis": {
         "gridcolor": "#E1E5ED",
         "showgrid": true,
         "tickfont": {
          "color": "#4D5663"
         },
         "title": {
          "font": {
           "color": "#4D5663"
          },
          "text": ""
         },
         "zerolinecolor": "#E1E5ED"
        },
        "yaxis": {
         "gridcolor": "#E1E5ED",
         "showgrid": true,
         "tickfont": {
          "color": "#4D5663"
         },
         "title": {
          "font": {
           "color": "#4D5663"
          },
          "text": ""
         },
         "zerolinecolor": "#E1E5ED"
        }
       }
      },
      "text/html": [
       "<div>\n",
       "        \n",
       "        \n",
       "            <div id=\"962f4482-6138-49af-837f-4c1ed9d127e5\" class=\"plotly-graph-div\" style=\"height:525px; width:100%;\"></div>\n",
       "            <script type=\"text/javascript\">\n",
       "                require([\"plotly\"], function(Plotly) {\n",
       "                    window.PLOTLYENV=window.PLOTLYENV || {};\n",
       "                    window.PLOTLYENV.BASE_URL='https://plot.ly';\n",
       "                    \n",
       "                if (document.getElementById(\"962f4482-6138-49af-837f-4c1ed9d127e5\")) {\n",
       "                    Plotly.newPlot(\n",
       "                        '962f4482-6138-49af-837f-4c1ed9d127e5',\n",
       "                        [{\"line\": {\"color\": \"rgba(255, 153, 51, 1.0)\", \"dash\": \"solid\", \"shape\": \"linear\", \"width\": 1.3}, \"mode\": \"lines\", \"name\": \"B\", \"text\": \"\", \"type\": \"scatter\", \"x\": [2.069081317248437, -1.9586988201017066, 0.31687259557075065, 0.3163933211791377, -0.16623943248273207, 1.5497820365156982, -1.7297768914284835, 0.5697825774153621, -0.7032361365794662, -0.8268251660691491, 1.2467171956322265, -1.0757476486572177, -0.165999174967776, 0.42843672539742184, -0.25675899385138395, 0.22587079145601774, 1.9166425271506045, -0.640237220836307, -0.6861772522003287, -0.5586527440178088, -2.5054824095350603, 0.4409074736412183, -1.9900902601521533, -0.5210386202937979, -0.5080735923466261, -0.7618302051217163, 0.8385206587443153, 1.4112551979094434, -0.35899178289305833, -0.7583551270205274, 0.1801450370472393, -1.668881029521964, -0.7631515357140278, -0.6703114133478807, -1.4410620768665687, 0.8743716919027011, 1.3712437328971603, 1.8015066568239602, -1.3793914176363382, -0.310781082112185, 0.21539737058955025, 0.26100127321811867, -0.5720033350321432, 2.132914188699778, -1.6315266835701523, 0.6116058285290135, -1.375542976417157, 0.5516327908947728, -0.8291435228557643, -0.10741096952517305, 0.466848431170696, 0.8433508517657493, 0.11636175879694592, 0.5598366538046764, 0.24914272694522172, -0.06884643442780915, -0.4084858316707387, -1.4051726071742447, -0.30645623254003573, 1.7389939017633762, -1.069248683755255, 1.6834497814923641, 1.346355028489932, -0.6762454051862051, 0.9031060789060906, 1.1356794877473801, -0.40881973318811055, 0.7063794517678516, -0.4152686536633678, -0.996637064263391, -0.05603719295495405, 0.3267743031922197, -0.7097067062730879, 0.4433270622616412, 0.379617908590977, -0.43494427079199754, 1.7809685905508235, 1.6966147780256329, 1.4906595522423403, 0.4809146675204936, -1.3864972445511055, -0.6595869670593304, -0.5506363437289727, 0.5980724890985413, -1.1521791912703487, -0.3175929792191654, -1.8718075854411518, -0.27684143268620376, -1.6259350828226837, 1.2269730494900373, -0.048869330284592144, 1.5957901102313448, -0.040539979809508665, 1.3204254982305588, -0.035534127153365694, 0.9671163301831622, 0.5214914391803923, 0.9508548035963178, 0.05960270547188383, -0.01561286021245415], \"y\": [0.5371406102484116, -0.7630355998932787, -2.4858162864857523, 1.2592066808607159, 0.9595436226520081, -0.8081156938171563, 0.9958728377864831, -0.04591061914796954, 0.6904010738181772, -0.5511142392207588, 1.4402893831504124, 0.35305376609086747, 0.7972779169691322, 0.34537746993804025, 1.31874407327095, 1.6969578374319672, -2.380558289248379, -0.42479170062544036, 0.7611985790453921, -1.4523150254476245, 0.587450547772239, 0.15513270402904678, 0.3816171930588017, -0.3485622560270526, -0.2233077072848466, -0.06657166845739156, -0.4699219481124245, 1.2162365035510758, -0.08247111159833434, -0.26576094186048205, 0.6287146222239482, 0.5464995934949134, -1.0413503318774242, -0.6133269467314942, 1.7897861110849156, -1.4636448182885142, -0.6082089722636107, -0.18944182747086188, 1.1535409107981895, -0.2610438758985015, 0.7607204950976051, 0.8689659293485391, -1.0408678834637686, -1.8697259764998884, 0.052957623660512085, -0.4752375307599897, -0.6894315405633875, 0.20660004628802267, 0.41587696940825136, 0.11794519060016996, -0.5483109902790982, 0.2204585387263463, -0.0814497894297341, -0.4261861035950627, -0.021917182184465037, 0.35222734994579635, -0.24159158765078223, -1.245418117537442, 1.0216068651998909, 0.2639425680704423, 0.9241230815489991, 1.0987810469821897, -1.2581918632792053, -0.3047137245763503, 0.60914107898099, -0.9152188042552775, -0.26765853410307033, -2.0075144589553195, 0.8147844678127948, -0.13131685638323615, -1.311225180991742, -0.04852659651473337, -1.218931042803003, -1.024830966258147, 0.12385012282058273, -0.20982791576190235, -0.24678271085565104, 0.5154062122960229, 0.1544833714506777, -0.41404378573783396, -1.2860894727014949, -1.437949062500608, 2.4274363130615795, -0.4573332199984909, 0.7826881088936185, -0.10934943159905164, -0.5949196074311865, 0.03144939194326923, 1.524309150436032, -0.23392802647924565, 0.5361360451160111, -0.7495155351889765, -0.18096629842077092, 1.558544319601368, 1.7517499105114092, -0.39371248209055115, 0.345362285426185, -0.7860338813922241, 1.900836644872969, -0.6373552719220384]}],\n",
       "                        {\"legend\": {\"bgcolor\": \"#F5F6F9\", \"font\": {\"color\": \"#4D5663\"}}, \"paper_bgcolor\": \"#F5F6F9\", \"plot_bgcolor\": \"#F5F6F9\", \"template\": {\"data\": {\"bar\": [{\"error_x\": {\"color\": \"#2a3f5f\"}, \"error_y\": {\"color\": \"#2a3f5f\"}, \"marker\": {\"line\": {\"color\": \"#E5ECF6\", \"width\": 0.5}}, \"type\": \"bar\"}], \"barpolar\": [{\"marker\": {\"line\": {\"color\": \"#E5ECF6\", \"width\": 0.5}}, \"type\": \"barpolar\"}], \"carpet\": [{\"aaxis\": {\"endlinecolor\": \"#2a3f5f\", \"gridcolor\": \"white\", \"linecolor\": \"white\", \"minorgridcolor\": \"white\", \"startlinecolor\": \"#2a3f5f\"}, \"baxis\": {\"endlinecolor\": \"#2a3f5f\", \"gridcolor\": \"white\", \"linecolor\": \"white\", \"minorgridcolor\": \"white\", \"startlinecolor\": \"#2a3f5f\"}, \"type\": \"carpet\"}], \"choropleth\": [{\"colorbar\": {\"outlinewidth\": 0, \"ticks\": \"\"}, \"type\": \"choropleth\"}], \"contour\": [{\"colorbar\": {\"outlinewidth\": 0, \"ticks\": \"\"}, \"colorscale\": [[0.0, \"#0d0887\"], [0.1111111111111111, \"#46039f\"], [0.2222222222222222, \"#7201a8\"], [0.3333333333333333, \"#9c179e\"], [0.4444444444444444, \"#bd3786\"], [0.5555555555555556, \"#d8576b\"], [0.6666666666666666, \"#ed7953\"], [0.7777777777777778, \"#fb9f3a\"], [0.8888888888888888, \"#fdca26\"], [1.0, \"#f0f921\"]], \"type\": \"contour\"}], \"contourcarpet\": [{\"colorbar\": {\"outlinewidth\": 0, \"ticks\": \"\"}, \"type\": \"contourcarpet\"}], \"heatmap\": [{\"colorbar\": {\"outlinewidth\": 0, \"ticks\": \"\"}, \"colorscale\": [[0.0, \"#0d0887\"], [0.1111111111111111, \"#46039f\"], [0.2222222222222222, \"#7201a8\"], [0.3333333333333333, \"#9c179e\"], [0.4444444444444444, \"#bd3786\"], [0.5555555555555556, \"#d8576b\"], [0.6666666666666666, \"#ed7953\"], [0.7777777777777778, \"#fb9f3a\"], [0.8888888888888888, \"#fdca26\"], [1.0, \"#f0f921\"]], \"type\": \"heatmap\"}], \"heatmapgl\": [{\"colorbar\": {\"outlinewidth\": 0, \"ticks\": \"\"}, \"colorscale\": [[0.0, \"#0d0887\"], [0.1111111111111111, \"#46039f\"], [0.2222222222222222, \"#7201a8\"], [0.3333333333333333, \"#9c179e\"], [0.4444444444444444, \"#bd3786\"], [0.5555555555555556, \"#d8576b\"], [0.6666666666666666, \"#ed7953\"], [0.7777777777777778, \"#fb9f3a\"], [0.8888888888888888, \"#fdca26\"], [1.0, \"#f0f921\"]], \"type\": \"heatmapgl\"}], \"histogram\": [{\"marker\": {\"colorbar\": {\"outlinewidth\": 0, \"ticks\": \"\"}}, \"type\": \"histogram\"}], \"histogram2d\": [{\"colorbar\": {\"outlinewidth\": 0, \"ticks\": \"\"}, \"colorscale\": [[0.0, \"#0d0887\"], [0.1111111111111111, \"#46039f\"], [0.2222222222222222, \"#7201a8\"], [0.3333333333333333, \"#9c179e\"], [0.4444444444444444, \"#bd3786\"], [0.5555555555555556, \"#d8576b\"], [0.6666666666666666, \"#ed7953\"], [0.7777777777777778, \"#fb9f3a\"], [0.8888888888888888, \"#fdca26\"], [1.0, \"#f0f921\"]], \"type\": \"histogram2d\"}], \"histogram2dcontour\": [{\"colorbar\": {\"outlinewidth\": 0, \"ticks\": \"\"}, \"colorscale\": [[0.0, \"#0d0887\"], [0.1111111111111111, \"#46039f\"], [0.2222222222222222, \"#7201a8\"], [0.3333333333333333, \"#9c179e\"], [0.4444444444444444, \"#bd3786\"], [0.5555555555555556, \"#d8576b\"], [0.6666666666666666, \"#ed7953\"], [0.7777777777777778, \"#fb9f3a\"], [0.8888888888888888, \"#fdca26\"], [1.0, \"#f0f921\"]], \"type\": \"histogram2dcontour\"}], \"mesh3d\": [{\"colorbar\": {\"outlinewidth\": 0, \"ticks\": \"\"}, \"type\": \"mesh3d\"}], \"parcoords\": [{\"line\": {\"colorbar\": {\"outlinewidth\": 0, \"ticks\": \"\"}}, \"type\": \"parcoords\"}], \"scatter\": [{\"marker\": {\"colorbar\": {\"outlinewidth\": 0, \"ticks\": \"\"}}, \"type\": \"scatter\"}], \"scatter3d\": [{\"line\": {\"colorbar\": {\"outlinewidth\": 0, \"ticks\": \"\"}}, \"marker\": {\"colorbar\": {\"outlinewidth\": 0, \"ticks\": \"\"}}, \"type\": \"scatter3d\"}], \"scattercarpet\": [{\"marker\": {\"colorbar\": {\"outlinewidth\": 0, \"ticks\": \"\"}}, \"type\": \"scattercarpet\"}], \"scattergeo\": [{\"marker\": {\"colorbar\": {\"outlinewidth\": 0, \"ticks\": \"\"}}, \"type\": \"scattergeo\"}], \"scattergl\": [{\"marker\": {\"colorbar\": {\"outlinewidth\": 0, \"ticks\": \"\"}}, \"type\": \"scattergl\"}], \"scattermapbox\": [{\"marker\": {\"colorbar\": {\"outlinewidth\": 0, \"ticks\": \"\"}}, \"type\": \"scattermapbox\"}], \"scatterpolar\": [{\"marker\": {\"colorbar\": {\"outlinewidth\": 0, \"ticks\": \"\"}}, \"type\": \"scatterpolar\"}], \"scatterpolargl\": [{\"marker\": {\"colorbar\": {\"outlinewidth\": 0, \"ticks\": \"\"}}, \"type\": \"scatterpolargl\"}], \"scatterternary\": [{\"marker\": {\"colorbar\": {\"outlinewidth\": 0, \"ticks\": \"\"}}, \"type\": \"scatterternary\"}], \"surface\": [{\"colorbar\": {\"outlinewidth\": 0, \"ticks\": \"\"}, \"colorscale\": [[0.0, \"#0d0887\"], [0.1111111111111111, \"#46039f\"], [0.2222222222222222, \"#7201a8\"], [0.3333333333333333, \"#9c179e\"], [0.4444444444444444, \"#bd3786\"], [0.5555555555555556, \"#d8576b\"], [0.6666666666666666, \"#ed7953\"], [0.7777777777777778, \"#fb9f3a\"], [0.8888888888888888, \"#fdca26\"], [1.0, \"#f0f921\"]], \"type\": \"surface\"}], \"table\": [{\"cells\": {\"fill\": {\"color\": \"#EBF0F8\"}, \"line\": {\"color\": \"white\"}}, \"header\": {\"fill\": {\"color\": \"#C8D4E3\"}, \"line\": {\"color\": \"white\"}}, \"type\": \"table\"}]}, \"layout\": {\"annotationdefaults\": {\"arrowcolor\": \"#2a3f5f\", \"arrowhead\": 0, \"arrowwidth\": 1}, \"colorscale\": {\"diverging\": [[0, \"#8e0152\"], [0.1, \"#c51b7d\"], [0.2, \"#de77ae\"], [0.3, \"#f1b6da\"], [0.4, \"#fde0ef\"], [0.5, \"#f7f7f7\"], [0.6, \"#e6f5d0\"], [0.7, \"#b8e186\"], [0.8, \"#7fbc41\"], [0.9, \"#4d9221\"], [1, \"#276419\"]], \"sequential\": [[0.0, \"#0d0887\"], [0.1111111111111111, \"#46039f\"], [0.2222222222222222, \"#7201a8\"], [0.3333333333333333, \"#9c179e\"], [0.4444444444444444, \"#bd3786\"], [0.5555555555555556, \"#d8576b\"], [0.6666666666666666, \"#ed7953\"], [0.7777777777777778, \"#fb9f3a\"], [0.8888888888888888, \"#fdca26\"], [1.0, \"#f0f921\"]], \"sequentialminus\": [[0.0, \"#0d0887\"], [0.1111111111111111, \"#46039f\"], [0.2222222222222222, \"#7201a8\"], [0.3333333333333333, \"#9c179e\"], [0.4444444444444444, \"#bd3786\"], [0.5555555555555556, \"#d8576b\"], [0.6666666666666666, \"#ed7953\"], [0.7777777777777778, \"#fb9f3a\"], [0.8888888888888888, \"#fdca26\"], [1.0, \"#f0f921\"]]}, \"colorway\": [\"#636efa\", \"#EF553B\", \"#00cc96\", \"#ab63fa\", \"#FFA15A\", \"#19d3f3\", \"#FF6692\", \"#B6E880\", \"#FF97FF\", \"#FECB52\"], \"font\": {\"color\": \"#2a3f5f\"}, \"geo\": {\"bgcolor\": \"white\", \"lakecolor\": \"white\", \"landcolor\": \"#E5ECF6\", \"showlakes\": true, \"showland\": true, \"subunitcolor\": \"white\"}, \"hoverlabel\": {\"align\": \"left\"}, \"hovermode\": \"closest\", \"mapbox\": {\"style\": \"light\"}, \"paper_bgcolor\": \"white\", \"plot_bgcolor\": \"#E5ECF6\", \"polar\": {\"angularaxis\": {\"gridcolor\": \"white\", \"linecolor\": \"white\", \"ticks\": \"\"}, \"bgcolor\": \"#E5ECF6\", \"radialaxis\": {\"gridcolor\": \"white\", \"linecolor\": \"white\", \"ticks\": \"\"}}, \"scene\": {\"xaxis\": {\"backgroundcolor\": \"#E5ECF6\", \"gridcolor\": \"white\", \"gridwidth\": 2, \"linecolor\": \"white\", \"showbackground\": true, \"ticks\": \"\", \"zerolinecolor\": \"white\"}, \"yaxis\": {\"backgroundcolor\": \"#E5ECF6\", \"gridcolor\": \"white\", \"gridwidth\": 2, \"linecolor\": \"white\", \"showbackground\": true, \"ticks\": \"\", \"zerolinecolor\": \"white\"}, \"zaxis\": {\"backgroundcolor\": \"#E5ECF6\", \"gridcolor\": \"white\", \"gridwidth\": 2, \"linecolor\": \"white\", \"showbackground\": true, \"ticks\": \"\", \"zerolinecolor\": \"white\"}}, \"shapedefaults\": {\"line\": {\"color\": \"#2a3f5f\"}}, \"ternary\": {\"aaxis\": {\"gridcolor\": \"white\", \"linecolor\": \"white\", \"ticks\": \"\"}, \"baxis\": {\"gridcolor\": \"white\", \"linecolor\": \"white\", \"ticks\": \"\"}, \"bgcolor\": \"#E5ECF6\", \"caxis\": {\"gridcolor\": \"white\", \"linecolor\": \"white\", \"ticks\": \"\"}}, \"title\": {\"x\": 0.05}, \"xaxis\": {\"automargin\": true, \"gridcolor\": \"white\", \"linecolor\": \"white\", \"ticks\": \"\", \"zerolinecolor\": \"white\", \"zerolinewidth\": 2}, \"yaxis\": {\"automargin\": true, \"gridcolor\": \"white\", \"linecolor\": \"white\", \"ticks\": \"\", \"zerolinecolor\": \"white\", \"zerolinewidth\": 2}}}, \"title\": {\"font\": {\"color\": \"#4D5663\"}}, \"xaxis\": {\"gridcolor\": \"#E1E5ED\", \"showgrid\": true, \"tickfont\": {\"color\": \"#4D5663\"}, \"title\": {\"font\": {\"color\": \"#4D5663\"}, \"text\": \"\"}, \"zerolinecolor\": \"#E1E5ED\"}, \"yaxis\": {\"gridcolor\": \"#E1E5ED\", \"showgrid\": true, \"tickfont\": {\"color\": \"#4D5663\"}, \"title\": {\"font\": {\"color\": \"#4D5663\"}, \"text\": \"\"}, \"zerolinecolor\": \"#E1E5ED\"}},\n",
       "                        {\"showLink\": true, \"linkText\": \"Export to plot.ly\", \"plotlyServerURL\": \"https://plot.ly\", \"responsive\": true}\n",
       "                    ).then(function(){\n",
       "                            \n",
       "var gd = document.getElementById('962f4482-6138-49af-837f-4c1ed9d127e5');\n",
       "var x = new MutationObserver(function (mutations, observer) {{\n",
       "        var display = window.getComputedStyle(gd).display;\n",
       "        if (!display || display === 'none') {{\n",
       "            console.log([gd, 'removed!']);\n",
       "            Plotly.purge(gd);\n",
       "            observer.disconnect();\n",
       "        }}\n",
       "}});\n",
       "\n",
       "// Listen for the removal of the full notebook cells\n",
       "var notebookContainer = gd.closest('#notebook-container');\n",
       "if (notebookContainer) {{\n",
       "    x.observe(notebookContainer, {childList: true});\n",
       "}}\n",
       "\n",
       "// Listen for the clearing of the current output cell\n",
       "var outputEl = gd.closest('.output');\n",
       "if (outputEl) {{\n",
       "    x.observe(outputEl, {childList: true});\n",
       "}}\n",
       "\n",
       "                        })\n",
       "                };\n",
       "                });\n",
       "            </script>\n",
       "        </div>"
      ]
     },
     "metadata": {},
     "output_type": "display_data"
    }
   ],
   "source": [
    "# use the kind argument to change the plot\n",
    "# scatter plot need to specify the x and y\n",
    "# the default plot is going to try to make a line to connect all these points\n",
    "\n",
    "df.iplot(kind = 'scatter', x = 'A',y = 'B')"
   ]
  },
  {
   "cell_type": "markdown",
   "metadata": {},
   "source": [
    "### 2. scatterplot"
   ]
  },
  {
   "cell_type": "code",
   "execution_count": 17,
   "metadata": {},
   "outputs": [
    {
     "data": {
      "application/vnd.plotly.v1+json": {
       "config": {
        "linkText": "Export to plot.ly",
        "plotlyServerURL": "https://plot.ly",
        "showLink": true
       },
       "data": [
        {
         "line": {
          "color": "rgba(255, 153, 51, 1.0)",
          "dash": "solid",
          "shape": "linear",
          "width": 1.3
         },
         "marker": {
          "size": 12,
          "symbol": "circle"
         },
         "mode": "markers",
         "name": "B",
         "text": "",
         "type": "scatter",
         "x": [
          2.069081317248437,
          -1.9586988201017066,
          0.31687259557075065,
          0.3163933211791377,
          -0.16623943248273207,
          1.5497820365156982,
          -1.7297768914284835,
          0.5697825774153621,
          -0.7032361365794662,
          -0.8268251660691491,
          1.2467171956322265,
          -1.0757476486572177,
          -0.165999174967776,
          0.42843672539742184,
          -0.25675899385138395,
          0.22587079145601774,
          1.9166425271506045,
          -0.640237220836307,
          -0.6861772522003287,
          -0.5586527440178088,
          -2.5054824095350603,
          0.4409074736412183,
          -1.9900902601521533,
          -0.5210386202937979,
          -0.5080735923466261,
          -0.7618302051217163,
          0.8385206587443153,
          1.4112551979094434,
          -0.35899178289305833,
          -0.7583551270205274,
          0.1801450370472393,
          -1.668881029521964,
          -0.7631515357140278,
          -0.6703114133478807,
          -1.4410620768665687,
          0.8743716919027011,
          1.3712437328971603,
          1.8015066568239602,
          -1.3793914176363382,
          -0.310781082112185,
          0.21539737058955025,
          0.26100127321811867,
          -0.5720033350321432,
          2.132914188699778,
          -1.6315266835701523,
          0.6116058285290135,
          -1.375542976417157,
          0.5516327908947728,
          -0.8291435228557643,
          -0.10741096952517305,
          0.466848431170696,
          0.8433508517657493,
          0.11636175879694592,
          0.5598366538046764,
          0.24914272694522172,
          -0.06884643442780915,
          -0.4084858316707387,
          -1.4051726071742447,
          -0.30645623254003573,
          1.7389939017633762,
          -1.069248683755255,
          1.6834497814923641,
          1.346355028489932,
          -0.6762454051862051,
          0.9031060789060906,
          1.1356794877473801,
          -0.40881973318811055,
          0.7063794517678516,
          -0.4152686536633678,
          -0.996637064263391,
          -0.05603719295495405,
          0.3267743031922197,
          -0.7097067062730879,
          0.4433270622616412,
          0.379617908590977,
          -0.43494427079199754,
          1.7809685905508235,
          1.6966147780256329,
          1.4906595522423403,
          0.4809146675204936,
          -1.3864972445511055,
          -0.6595869670593304,
          -0.5506363437289727,
          0.5980724890985413,
          -1.1521791912703487,
          -0.3175929792191654,
          -1.8718075854411518,
          -0.27684143268620376,
          -1.6259350828226837,
          1.2269730494900373,
          -0.048869330284592144,
          1.5957901102313448,
          -0.040539979809508665,
          1.3204254982305588,
          -0.035534127153365694,
          0.9671163301831622,
          0.5214914391803923,
          0.9508548035963178,
          0.05960270547188383,
          -0.01561286021245415
         ],
         "y": [
          0.5371406102484116,
          -0.7630355998932787,
          -2.4858162864857523,
          1.2592066808607159,
          0.9595436226520081,
          -0.8081156938171563,
          0.9958728377864831,
          -0.04591061914796954,
          0.6904010738181772,
          -0.5511142392207588,
          1.4402893831504124,
          0.35305376609086747,
          0.7972779169691322,
          0.34537746993804025,
          1.31874407327095,
          1.6969578374319672,
          -2.380558289248379,
          -0.42479170062544036,
          0.7611985790453921,
          -1.4523150254476245,
          0.587450547772239,
          0.15513270402904678,
          0.3816171930588017,
          -0.3485622560270526,
          -0.2233077072848466,
          -0.06657166845739156,
          -0.4699219481124245,
          1.2162365035510758,
          -0.08247111159833434,
          -0.26576094186048205,
          0.6287146222239482,
          0.5464995934949134,
          -1.0413503318774242,
          -0.6133269467314942,
          1.7897861110849156,
          -1.4636448182885142,
          -0.6082089722636107,
          -0.18944182747086188,
          1.1535409107981895,
          -0.2610438758985015,
          0.7607204950976051,
          0.8689659293485391,
          -1.0408678834637686,
          -1.8697259764998884,
          0.052957623660512085,
          -0.4752375307599897,
          -0.6894315405633875,
          0.20660004628802267,
          0.41587696940825136,
          0.11794519060016996,
          -0.5483109902790982,
          0.2204585387263463,
          -0.0814497894297341,
          -0.4261861035950627,
          -0.021917182184465037,
          0.35222734994579635,
          -0.24159158765078223,
          -1.245418117537442,
          1.0216068651998909,
          0.2639425680704423,
          0.9241230815489991,
          1.0987810469821897,
          -1.2581918632792053,
          -0.3047137245763503,
          0.60914107898099,
          -0.9152188042552775,
          -0.26765853410307033,
          -2.0075144589553195,
          0.8147844678127948,
          -0.13131685638323615,
          -1.311225180991742,
          -0.04852659651473337,
          -1.218931042803003,
          -1.024830966258147,
          0.12385012282058273,
          -0.20982791576190235,
          -0.24678271085565104,
          0.5154062122960229,
          0.1544833714506777,
          -0.41404378573783396,
          -1.2860894727014949,
          -1.437949062500608,
          2.4274363130615795,
          -0.4573332199984909,
          0.7826881088936185,
          -0.10934943159905164,
          -0.5949196074311865,
          0.03144939194326923,
          1.524309150436032,
          -0.23392802647924565,
          0.5361360451160111,
          -0.7495155351889765,
          -0.18096629842077092,
          1.558544319601368,
          1.7517499105114092,
          -0.39371248209055115,
          0.345362285426185,
          -0.7860338813922241,
          1.900836644872969,
          -0.6373552719220384
         ]
        }
       ],
       "layout": {
        "legend": {
         "bgcolor": "#F5F6F9",
         "font": {
          "color": "#4D5663"
         }
        },
        "paper_bgcolor": "#F5F6F9",
        "plot_bgcolor": "#F5F6F9",
        "template": {
         "data": {
          "bar": [
           {
            "error_x": {
             "color": "#2a3f5f"
            },
            "error_y": {
             "color": "#2a3f5f"
            },
            "marker": {
             "line": {
              "color": "#E5ECF6",
              "width": 0.5
             }
            },
            "type": "bar"
           }
          ],
          "barpolar": [
           {
            "marker": {
             "line": {
              "color": "#E5ECF6",
              "width": 0.5
             }
            },
            "type": "barpolar"
           }
          ],
          "carpet": [
           {
            "aaxis": {
             "endlinecolor": "#2a3f5f",
             "gridcolor": "white",
             "linecolor": "white",
             "minorgridcolor": "white",
             "startlinecolor": "#2a3f5f"
            },
            "baxis": {
             "endlinecolor": "#2a3f5f",
             "gridcolor": "white",
             "linecolor": "white",
             "minorgridcolor": "white",
             "startlinecolor": "#2a3f5f"
            },
            "type": "carpet"
           }
          ],
          "choropleth": [
           {
            "colorbar": {
             "outlinewidth": 0,
             "ticks": ""
            },
            "type": "choropleth"
           }
          ],
          "contour": [
           {
            "colorbar": {
             "outlinewidth": 0,
             "ticks": ""
            },
            "colorscale": [
             [
              0,
              "#0d0887"
             ],
             [
              0.1111111111111111,
              "#46039f"
             ],
             [
              0.2222222222222222,
              "#7201a8"
             ],
             [
              0.3333333333333333,
              "#9c179e"
             ],
             [
              0.4444444444444444,
              "#bd3786"
             ],
             [
              0.5555555555555556,
              "#d8576b"
             ],
             [
              0.6666666666666666,
              "#ed7953"
             ],
             [
              0.7777777777777778,
              "#fb9f3a"
             ],
             [
              0.8888888888888888,
              "#fdca26"
             ],
             [
              1,
              "#f0f921"
             ]
            ],
            "type": "contour"
           }
          ],
          "contourcarpet": [
           {
            "colorbar": {
             "outlinewidth": 0,
             "ticks": ""
            },
            "type": "contourcarpet"
           }
          ],
          "heatmap": [
           {
            "colorbar": {
             "outlinewidth": 0,
             "ticks": ""
            },
            "colorscale": [
             [
              0,
              "#0d0887"
             ],
             [
              0.1111111111111111,
              "#46039f"
             ],
             [
              0.2222222222222222,
              "#7201a8"
             ],
             [
              0.3333333333333333,
              "#9c179e"
             ],
             [
              0.4444444444444444,
              "#bd3786"
             ],
             [
              0.5555555555555556,
              "#d8576b"
             ],
             [
              0.6666666666666666,
              "#ed7953"
             ],
             [
              0.7777777777777778,
              "#fb9f3a"
             ],
             [
              0.8888888888888888,
              "#fdca26"
             ],
             [
              1,
              "#f0f921"
             ]
            ],
            "type": "heatmap"
           }
          ],
          "heatmapgl": [
           {
            "colorbar": {
             "outlinewidth": 0,
             "ticks": ""
            },
            "colorscale": [
             [
              0,
              "#0d0887"
             ],
             [
              0.1111111111111111,
              "#46039f"
             ],
             [
              0.2222222222222222,
              "#7201a8"
             ],
             [
              0.3333333333333333,
              "#9c179e"
             ],
             [
              0.4444444444444444,
              "#bd3786"
             ],
             [
              0.5555555555555556,
              "#d8576b"
             ],
             [
              0.6666666666666666,
              "#ed7953"
             ],
             [
              0.7777777777777778,
              "#fb9f3a"
             ],
             [
              0.8888888888888888,
              "#fdca26"
             ],
             [
              1,
              "#f0f921"
             ]
            ],
            "type": "heatmapgl"
           }
          ],
          "histogram": [
           {
            "marker": {
             "colorbar": {
              "outlinewidth": 0,
              "ticks": ""
             }
            },
            "type": "histogram"
           }
          ],
          "histogram2d": [
           {
            "colorbar": {
             "outlinewidth": 0,
             "ticks": ""
            },
            "colorscale": [
             [
              0,
              "#0d0887"
             ],
             [
              0.1111111111111111,
              "#46039f"
             ],
             [
              0.2222222222222222,
              "#7201a8"
             ],
             [
              0.3333333333333333,
              "#9c179e"
             ],
             [
              0.4444444444444444,
              "#bd3786"
             ],
             [
              0.5555555555555556,
              "#d8576b"
             ],
             [
              0.6666666666666666,
              "#ed7953"
             ],
             [
              0.7777777777777778,
              "#fb9f3a"
             ],
             [
              0.8888888888888888,
              "#fdca26"
             ],
             [
              1,
              "#f0f921"
             ]
            ],
            "type": "histogram2d"
           }
          ],
          "histogram2dcontour": [
           {
            "colorbar": {
             "outlinewidth": 0,
             "ticks": ""
            },
            "colorscale": [
             [
              0,
              "#0d0887"
             ],
             [
              0.1111111111111111,
              "#46039f"
             ],
             [
              0.2222222222222222,
              "#7201a8"
             ],
             [
              0.3333333333333333,
              "#9c179e"
             ],
             [
              0.4444444444444444,
              "#bd3786"
             ],
             [
              0.5555555555555556,
              "#d8576b"
             ],
             [
              0.6666666666666666,
              "#ed7953"
             ],
             [
              0.7777777777777778,
              "#fb9f3a"
             ],
             [
              0.8888888888888888,
              "#fdca26"
             ],
             [
              1,
              "#f0f921"
             ]
            ],
            "type": "histogram2dcontour"
           }
          ],
          "mesh3d": [
           {
            "colorbar": {
             "outlinewidth": 0,
             "ticks": ""
            },
            "type": "mesh3d"
           }
          ],
          "parcoords": [
           {
            "line": {
             "colorbar": {
              "outlinewidth": 0,
              "ticks": ""
             }
            },
            "type": "parcoords"
           }
          ],
          "scatter": [
           {
            "marker": {
             "colorbar": {
              "outlinewidth": 0,
              "ticks": ""
             }
            },
            "type": "scatter"
           }
          ],
          "scatter3d": [
           {
            "line": {
             "colorbar": {
              "outlinewidth": 0,
              "ticks": ""
             }
            },
            "marker": {
             "colorbar": {
              "outlinewidth": 0,
              "ticks": ""
             }
            },
            "type": "scatter3d"
           }
          ],
          "scattercarpet": [
           {
            "marker": {
             "colorbar": {
              "outlinewidth": 0,
              "ticks": ""
             }
            },
            "type": "scattercarpet"
           }
          ],
          "scattergeo": [
           {
            "marker": {
             "colorbar": {
              "outlinewidth": 0,
              "ticks": ""
             }
            },
            "type": "scattergeo"
           }
          ],
          "scattergl": [
           {
            "marker": {
             "colorbar": {
              "outlinewidth": 0,
              "ticks": ""
             }
            },
            "type": "scattergl"
           }
          ],
          "scattermapbox": [
           {
            "marker": {
             "colorbar": {
              "outlinewidth": 0,
              "ticks": ""
             }
            },
            "type": "scattermapbox"
           }
          ],
          "scatterpolar": [
           {
            "marker": {
             "colorbar": {
              "outlinewidth": 0,
              "ticks": ""
             }
            },
            "type": "scatterpolar"
           }
          ],
          "scatterpolargl": [
           {
            "marker": {
             "colorbar": {
              "outlinewidth": 0,
              "ticks": ""
             }
            },
            "type": "scatterpolargl"
           }
          ],
          "scatterternary": [
           {
            "marker": {
             "colorbar": {
              "outlinewidth": 0,
              "ticks": ""
             }
            },
            "type": "scatterternary"
           }
          ],
          "surface": [
           {
            "colorbar": {
             "outlinewidth": 0,
             "ticks": ""
            },
            "colorscale": [
             [
              0,
              "#0d0887"
             ],
             [
              0.1111111111111111,
              "#46039f"
             ],
             [
              0.2222222222222222,
              "#7201a8"
             ],
             [
              0.3333333333333333,
              "#9c179e"
             ],
             [
              0.4444444444444444,
              "#bd3786"
             ],
             [
              0.5555555555555556,
              "#d8576b"
             ],
             [
              0.6666666666666666,
              "#ed7953"
             ],
             [
              0.7777777777777778,
              "#fb9f3a"
             ],
             [
              0.8888888888888888,
              "#fdca26"
             ],
             [
              1,
              "#f0f921"
             ]
            ],
            "type": "surface"
           }
          ],
          "table": [
           {
            "cells": {
             "fill": {
              "color": "#EBF0F8"
             },
             "line": {
              "color": "white"
             }
            },
            "header": {
             "fill": {
              "color": "#C8D4E3"
             },
             "line": {
              "color": "white"
             }
            },
            "type": "table"
           }
          ]
         },
         "layout": {
          "annotationdefaults": {
           "arrowcolor": "#2a3f5f",
           "arrowhead": 0,
           "arrowwidth": 1
          },
          "colorscale": {
           "diverging": [
            [
             0,
             "#8e0152"
            ],
            [
             0.1,
             "#c51b7d"
            ],
            [
             0.2,
             "#de77ae"
            ],
            [
             0.3,
             "#f1b6da"
            ],
            [
             0.4,
             "#fde0ef"
            ],
            [
             0.5,
             "#f7f7f7"
            ],
            [
             0.6,
             "#e6f5d0"
            ],
            [
             0.7,
             "#b8e186"
            ],
            [
             0.8,
             "#7fbc41"
            ],
            [
             0.9,
             "#4d9221"
            ],
            [
             1,
             "#276419"
            ]
           ],
           "sequential": [
            [
             0,
             "#0d0887"
            ],
            [
             0.1111111111111111,
             "#46039f"
            ],
            [
             0.2222222222222222,
             "#7201a8"
            ],
            [
             0.3333333333333333,
             "#9c179e"
            ],
            [
             0.4444444444444444,
             "#bd3786"
            ],
            [
             0.5555555555555556,
             "#d8576b"
            ],
            [
             0.6666666666666666,
             "#ed7953"
            ],
            [
             0.7777777777777778,
             "#fb9f3a"
            ],
            [
             0.8888888888888888,
             "#fdca26"
            ],
            [
             1,
             "#f0f921"
            ]
           ],
           "sequentialminus": [
            [
             0,
             "#0d0887"
            ],
            [
             0.1111111111111111,
             "#46039f"
            ],
            [
             0.2222222222222222,
             "#7201a8"
            ],
            [
             0.3333333333333333,
             "#9c179e"
            ],
            [
             0.4444444444444444,
             "#bd3786"
            ],
            [
             0.5555555555555556,
             "#d8576b"
            ],
            [
             0.6666666666666666,
             "#ed7953"
            ],
            [
             0.7777777777777778,
             "#fb9f3a"
            ],
            [
             0.8888888888888888,
             "#fdca26"
            ],
            [
             1,
             "#f0f921"
            ]
           ]
          },
          "colorway": [
           "#636efa",
           "#EF553B",
           "#00cc96",
           "#ab63fa",
           "#FFA15A",
           "#19d3f3",
           "#FF6692",
           "#B6E880",
           "#FF97FF",
           "#FECB52"
          ],
          "font": {
           "color": "#2a3f5f"
          },
          "geo": {
           "bgcolor": "white",
           "lakecolor": "white",
           "landcolor": "#E5ECF6",
           "showlakes": true,
           "showland": true,
           "subunitcolor": "white"
          },
          "hoverlabel": {
           "align": "left"
          },
          "hovermode": "closest",
          "mapbox": {
           "style": "light"
          },
          "paper_bgcolor": "white",
          "plot_bgcolor": "#E5ECF6",
          "polar": {
           "angularaxis": {
            "gridcolor": "white",
            "linecolor": "white",
            "ticks": ""
           },
           "bgcolor": "#E5ECF6",
           "radialaxis": {
            "gridcolor": "white",
            "linecolor": "white",
            "ticks": ""
           }
          },
          "scene": {
           "xaxis": {
            "backgroundcolor": "#E5ECF6",
            "gridcolor": "white",
            "gridwidth": 2,
            "linecolor": "white",
            "showbackground": true,
            "ticks": "",
            "zerolinecolor": "white"
           },
           "yaxis": {
            "backgroundcolor": "#E5ECF6",
            "gridcolor": "white",
            "gridwidth": 2,
            "linecolor": "white",
            "showbackground": true,
            "ticks": "",
            "zerolinecolor": "white"
           },
           "zaxis": {
            "backgroundcolor": "#E5ECF6",
            "gridcolor": "white",
            "gridwidth": 2,
            "linecolor": "white",
            "showbackground": true,
            "ticks": "",
            "zerolinecolor": "white"
           }
          },
          "shapedefaults": {
           "line": {
            "color": "#2a3f5f"
           }
          },
          "ternary": {
           "aaxis": {
            "gridcolor": "white",
            "linecolor": "white",
            "ticks": ""
           },
           "baxis": {
            "gridcolor": "white",
            "linecolor": "white",
            "ticks": ""
           },
           "bgcolor": "#E5ECF6",
           "caxis": {
            "gridcolor": "white",
            "linecolor": "white",
            "ticks": ""
           }
          },
          "title": {
           "x": 0.05
          },
          "xaxis": {
           "automargin": true,
           "gridcolor": "white",
           "linecolor": "white",
           "ticks": "",
           "zerolinecolor": "white",
           "zerolinewidth": 2
          },
          "yaxis": {
           "automargin": true,
           "gridcolor": "white",
           "linecolor": "white",
           "ticks": "",
           "zerolinecolor": "white",
           "zerolinewidth": 2
          }
         }
        },
        "title": {
         "font": {
          "color": "#4D5663"
         }
        },
        "xaxis": {
         "gridcolor": "#E1E5ED",
         "showgrid": true,
         "tickfont": {
          "color": "#4D5663"
         },
         "title": {
          "font": {
           "color": "#4D5663"
          },
          "text": ""
         },
         "zerolinecolor": "#E1E5ED"
        },
        "yaxis": {
         "gridcolor": "#E1E5ED",
         "showgrid": true,
         "tickfont": {
          "color": "#4D5663"
         },
         "title": {
          "font": {
           "color": "#4D5663"
          },
          "text": ""
         },
         "zerolinecolor": "#E1E5ED"
        }
       }
      },
      "text/html": [
       "<div>\n",
       "        \n",
       "        \n",
       "            <div id=\"7a6bebbc-8a6d-4d95-bcaf-32837f9fad45\" class=\"plotly-graph-div\" style=\"height:525px; width:100%;\"></div>\n",
       "            <script type=\"text/javascript\">\n",
       "                require([\"plotly\"], function(Plotly) {\n",
       "                    window.PLOTLYENV=window.PLOTLYENV || {};\n",
       "                    window.PLOTLYENV.BASE_URL='https://plot.ly';\n",
       "                    \n",
       "                if (document.getElementById(\"7a6bebbc-8a6d-4d95-bcaf-32837f9fad45\")) {\n",
       "                    Plotly.newPlot(\n",
       "                        '7a6bebbc-8a6d-4d95-bcaf-32837f9fad45',\n",
       "                        [{\"line\": {\"color\": \"rgba(255, 153, 51, 1.0)\", \"dash\": \"solid\", \"shape\": \"linear\", \"width\": 1.3}, \"marker\": {\"size\": 12, \"symbol\": \"circle\"}, \"mode\": \"markers\", \"name\": \"B\", \"text\": \"\", \"type\": \"scatter\", \"x\": [2.069081317248437, -1.9586988201017066, 0.31687259557075065, 0.3163933211791377, -0.16623943248273207, 1.5497820365156982, -1.7297768914284835, 0.5697825774153621, -0.7032361365794662, -0.8268251660691491, 1.2467171956322265, -1.0757476486572177, -0.165999174967776, 0.42843672539742184, -0.25675899385138395, 0.22587079145601774, 1.9166425271506045, -0.640237220836307, -0.6861772522003287, -0.5586527440178088, -2.5054824095350603, 0.4409074736412183, -1.9900902601521533, -0.5210386202937979, -0.5080735923466261, -0.7618302051217163, 0.8385206587443153, 1.4112551979094434, -0.35899178289305833, -0.7583551270205274, 0.1801450370472393, -1.668881029521964, -0.7631515357140278, -0.6703114133478807, -1.4410620768665687, 0.8743716919027011, 1.3712437328971603, 1.8015066568239602, -1.3793914176363382, -0.310781082112185, 0.21539737058955025, 0.26100127321811867, -0.5720033350321432, 2.132914188699778, -1.6315266835701523, 0.6116058285290135, -1.375542976417157, 0.5516327908947728, -0.8291435228557643, -0.10741096952517305, 0.466848431170696, 0.8433508517657493, 0.11636175879694592, 0.5598366538046764, 0.24914272694522172, -0.06884643442780915, -0.4084858316707387, -1.4051726071742447, -0.30645623254003573, 1.7389939017633762, -1.069248683755255, 1.6834497814923641, 1.346355028489932, -0.6762454051862051, 0.9031060789060906, 1.1356794877473801, -0.40881973318811055, 0.7063794517678516, -0.4152686536633678, -0.996637064263391, -0.05603719295495405, 0.3267743031922197, -0.7097067062730879, 0.4433270622616412, 0.379617908590977, -0.43494427079199754, 1.7809685905508235, 1.6966147780256329, 1.4906595522423403, 0.4809146675204936, -1.3864972445511055, -0.6595869670593304, -0.5506363437289727, 0.5980724890985413, -1.1521791912703487, -0.3175929792191654, -1.8718075854411518, -0.27684143268620376, -1.6259350828226837, 1.2269730494900373, -0.048869330284592144, 1.5957901102313448, -0.040539979809508665, 1.3204254982305588, -0.035534127153365694, 0.9671163301831622, 0.5214914391803923, 0.9508548035963178, 0.05960270547188383, -0.01561286021245415], \"y\": [0.5371406102484116, -0.7630355998932787, -2.4858162864857523, 1.2592066808607159, 0.9595436226520081, -0.8081156938171563, 0.9958728377864831, -0.04591061914796954, 0.6904010738181772, -0.5511142392207588, 1.4402893831504124, 0.35305376609086747, 0.7972779169691322, 0.34537746993804025, 1.31874407327095, 1.6969578374319672, -2.380558289248379, -0.42479170062544036, 0.7611985790453921, -1.4523150254476245, 0.587450547772239, 0.15513270402904678, 0.3816171930588017, -0.3485622560270526, -0.2233077072848466, -0.06657166845739156, -0.4699219481124245, 1.2162365035510758, -0.08247111159833434, -0.26576094186048205, 0.6287146222239482, 0.5464995934949134, -1.0413503318774242, -0.6133269467314942, 1.7897861110849156, -1.4636448182885142, -0.6082089722636107, -0.18944182747086188, 1.1535409107981895, -0.2610438758985015, 0.7607204950976051, 0.8689659293485391, -1.0408678834637686, -1.8697259764998884, 0.052957623660512085, -0.4752375307599897, -0.6894315405633875, 0.20660004628802267, 0.41587696940825136, 0.11794519060016996, -0.5483109902790982, 0.2204585387263463, -0.0814497894297341, -0.4261861035950627, -0.021917182184465037, 0.35222734994579635, -0.24159158765078223, -1.245418117537442, 1.0216068651998909, 0.2639425680704423, 0.9241230815489991, 1.0987810469821897, -1.2581918632792053, -0.3047137245763503, 0.60914107898099, -0.9152188042552775, -0.26765853410307033, -2.0075144589553195, 0.8147844678127948, -0.13131685638323615, -1.311225180991742, -0.04852659651473337, -1.218931042803003, -1.024830966258147, 0.12385012282058273, -0.20982791576190235, -0.24678271085565104, 0.5154062122960229, 0.1544833714506777, -0.41404378573783396, -1.2860894727014949, -1.437949062500608, 2.4274363130615795, -0.4573332199984909, 0.7826881088936185, -0.10934943159905164, -0.5949196074311865, 0.03144939194326923, 1.524309150436032, -0.23392802647924565, 0.5361360451160111, -0.7495155351889765, -0.18096629842077092, 1.558544319601368, 1.7517499105114092, -0.39371248209055115, 0.345362285426185, -0.7860338813922241, 1.900836644872969, -0.6373552719220384]}],\n",
       "                        {\"legend\": {\"bgcolor\": \"#F5F6F9\", \"font\": {\"color\": \"#4D5663\"}}, \"paper_bgcolor\": \"#F5F6F9\", \"plot_bgcolor\": \"#F5F6F9\", \"template\": {\"data\": {\"bar\": [{\"error_x\": {\"color\": \"#2a3f5f\"}, \"error_y\": {\"color\": \"#2a3f5f\"}, \"marker\": {\"line\": {\"color\": \"#E5ECF6\", \"width\": 0.5}}, \"type\": \"bar\"}], \"barpolar\": [{\"marker\": {\"line\": {\"color\": \"#E5ECF6\", \"width\": 0.5}}, \"type\": \"barpolar\"}], \"carpet\": [{\"aaxis\": {\"endlinecolor\": \"#2a3f5f\", \"gridcolor\": \"white\", \"linecolor\": \"white\", \"minorgridcolor\": \"white\", \"startlinecolor\": \"#2a3f5f\"}, \"baxis\": {\"endlinecolor\": \"#2a3f5f\", \"gridcolor\": \"white\", \"linecolor\": \"white\", \"minorgridcolor\": \"white\", \"startlinecolor\": \"#2a3f5f\"}, \"type\": \"carpet\"}], \"choropleth\": [{\"colorbar\": {\"outlinewidth\": 0, \"ticks\": \"\"}, \"type\": \"choropleth\"}], \"contour\": [{\"colorbar\": {\"outlinewidth\": 0, \"ticks\": \"\"}, \"colorscale\": [[0.0, \"#0d0887\"], [0.1111111111111111, \"#46039f\"], [0.2222222222222222, \"#7201a8\"], [0.3333333333333333, \"#9c179e\"], [0.4444444444444444, \"#bd3786\"], [0.5555555555555556, \"#d8576b\"], [0.6666666666666666, \"#ed7953\"], [0.7777777777777778, \"#fb9f3a\"], [0.8888888888888888, \"#fdca26\"], [1.0, \"#f0f921\"]], \"type\": \"contour\"}], \"contourcarpet\": [{\"colorbar\": {\"outlinewidth\": 0, \"ticks\": \"\"}, \"type\": \"contourcarpet\"}], \"heatmap\": [{\"colorbar\": {\"outlinewidth\": 0, \"ticks\": \"\"}, \"colorscale\": [[0.0, \"#0d0887\"], [0.1111111111111111, \"#46039f\"], [0.2222222222222222, \"#7201a8\"], [0.3333333333333333, \"#9c179e\"], [0.4444444444444444, \"#bd3786\"], [0.5555555555555556, \"#d8576b\"], [0.6666666666666666, \"#ed7953\"], [0.7777777777777778, \"#fb9f3a\"], [0.8888888888888888, \"#fdca26\"], [1.0, \"#f0f921\"]], \"type\": \"heatmap\"}], \"heatmapgl\": [{\"colorbar\": {\"outlinewidth\": 0, \"ticks\": \"\"}, \"colorscale\": [[0.0, \"#0d0887\"], [0.1111111111111111, \"#46039f\"], [0.2222222222222222, \"#7201a8\"], [0.3333333333333333, \"#9c179e\"], [0.4444444444444444, \"#bd3786\"], [0.5555555555555556, \"#d8576b\"], [0.6666666666666666, \"#ed7953\"], [0.7777777777777778, \"#fb9f3a\"], [0.8888888888888888, \"#fdca26\"], [1.0, \"#f0f921\"]], \"type\": \"heatmapgl\"}], \"histogram\": [{\"marker\": {\"colorbar\": {\"outlinewidth\": 0, \"ticks\": \"\"}}, \"type\": \"histogram\"}], \"histogram2d\": [{\"colorbar\": {\"outlinewidth\": 0, \"ticks\": \"\"}, \"colorscale\": [[0.0, \"#0d0887\"], [0.1111111111111111, \"#46039f\"], [0.2222222222222222, \"#7201a8\"], [0.3333333333333333, \"#9c179e\"], [0.4444444444444444, \"#bd3786\"], [0.5555555555555556, \"#d8576b\"], [0.6666666666666666, \"#ed7953\"], [0.7777777777777778, \"#fb9f3a\"], [0.8888888888888888, \"#fdca26\"], [1.0, \"#f0f921\"]], \"type\": \"histogram2d\"}], \"histogram2dcontour\": [{\"colorbar\": {\"outlinewidth\": 0, \"ticks\": \"\"}, \"colorscale\": [[0.0, \"#0d0887\"], [0.1111111111111111, \"#46039f\"], [0.2222222222222222, \"#7201a8\"], [0.3333333333333333, \"#9c179e\"], [0.4444444444444444, \"#bd3786\"], [0.5555555555555556, \"#d8576b\"], [0.6666666666666666, \"#ed7953\"], [0.7777777777777778, \"#fb9f3a\"], [0.8888888888888888, \"#fdca26\"], [1.0, \"#f0f921\"]], \"type\": \"histogram2dcontour\"}], \"mesh3d\": [{\"colorbar\": {\"outlinewidth\": 0, \"ticks\": \"\"}, \"type\": \"mesh3d\"}], \"parcoords\": [{\"line\": {\"colorbar\": {\"outlinewidth\": 0, \"ticks\": \"\"}}, \"type\": \"parcoords\"}], \"scatter\": [{\"marker\": {\"colorbar\": {\"outlinewidth\": 0, \"ticks\": \"\"}}, \"type\": \"scatter\"}], \"scatter3d\": [{\"line\": {\"colorbar\": {\"outlinewidth\": 0, \"ticks\": \"\"}}, \"marker\": {\"colorbar\": {\"outlinewidth\": 0, \"ticks\": \"\"}}, \"type\": \"scatter3d\"}], \"scattercarpet\": [{\"marker\": {\"colorbar\": {\"outlinewidth\": 0, \"ticks\": \"\"}}, \"type\": \"scattercarpet\"}], \"scattergeo\": [{\"marker\": {\"colorbar\": {\"outlinewidth\": 0, \"ticks\": \"\"}}, \"type\": \"scattergeo\"}], \"scattergl\": [{\"marker\": {\"colorbar\": {\"outlinewidth\": 0, \"ticks\": \"\"}}, \"type\": \"scattergl\"}], \"scattermapbox\": [{\"marker\": {\"colorbar\": {\"outlinewidth\": 0, \"ticks\": \"\"}}, \"type\": \"scattermapbox\"}], \"scatterpolar\": [{\"marker\": {\"colorbar\": {\"outlinewidth\": 0, \"ticks\": \"\"}}, \"type\": \"scatterpolar\"}], \"scatterpolargl\": [{\"marker\": {\"colorbar\": {\"outlinewidth\": 0, \"ticks\": \"\"}}, \"type\": \"scatterpolargl\"}], \"scatterternary\": [{\"marker\": {\"colorbar\": {\"outlinewidth\": 0, \"ticks\": \"\"}}, \"type\": \"scatterternary\"}], \"surface\": [{\"colorbar\": {\"outlinewidth\": 0, \"ticks\": \"\"}, \"colorscale\": [[0.0, \"#0d0887\"], [0.1111111111111111, \"#46039f\"], [0.2222222222222222, \"#7201a8\"], [0.3333333333333333, \"#9c179e\"], [0.4444444444444444, \"#bd3786\"], [0.5555555555555556, \"#d8576b\"], [0.6666666666666666, \"#ed7953\"], [0.7777777777777778, \"#fb9f3a\"], [0.8888888888888888, \"#fdca26\"], [1.0, \"#f0f921\"]], \"type\": \"surface\"}], \"table\": [{\"cells\": {\"fill\": {\"color\": \"#EBF0F8\"}, \"line\": {\"color\": \"white\"}}, \"header\": {\"fill\": {\"color\": \"#C8D4E3\"}, \"line\": {\"color\": \"white\"}}, \"type\": \"table\"}]}, \"layout\": {\"annotationdefaults\": {\"arrowcolor\": \"#2a3f5f\", \"arrowhead\": 0, \"arrowwidth\": 1}, \"colorscale\": {\"diverging\": [[0, \"#8e0152\"], [0.1, \"#c51b7d\"], [0.2, \"#de77ae\"], [0.3, \"#f1b6da\"], [0.4, \"#fde0ef\"], [0.5, \"#f7f7f7\"], [0.6, \"#e6f5d0\"], [0.7, \"#b8e186\"], [0.8, \"#7fbc41\"], [0.9, \"#4d9221\"], [1, \"#276419\"]], \"sequential\": [[0.0, \"#0d0887\"], [0.1111111111111111, \"#46039f\"], [0.2222222222222222, \"#7201a8\"], [0.3333333333333333, \"#9c179e\"], [0.4444444444444444, \"#bd3786\"], [0.5555555555555556, \"#d8576b\"], [0.6666666666666666, \"#ed7953\"], [0.7777777777777778, \"#fb9f3a\"], [0.8888888888888888, \"#fdca26\"], [1.0, \"#f0f921\"]], \"sequentialminus\": [[0.0, \"#0d0887\"], [0.1111111111111111, \"#46039f\"], [0.2222222222222222, \"#7201a8\"], [0.3333333333333333, \"#9c179e\"], [0.4444444444444444, \"#bd3786\"], [0.5555555555555556, \"#d8576b\"], [0.6666666666666666, \"#ed7953\"], [0.7777777777777778, \"#fb9f3a\"], [0.8888888888888888, \"#fdca26\"], [1.0, \"#f0f921\"]]}, \"colorway\": [\"#636efa\", \"#EF553B\", \"#00cc96\", \"#ab63fa\", \"#FFA15A\", \"#19d3f3\", \"#FF6692\", \"#B6E880\", \"#FF97FF\", \"#FECB52\"], \"font\": {\"color\": \"#2a3f5f\"}, \"geo\": {\"bgcolor\": \"white\", \"lakecolor\": \"white\", \"landcolor\": \"#E5ECF6\", \"showlakes\": true, \"showland\": true, \"subunitcolor\": \"white\"}, \"hoverlabel\": {\"align\": \"left\"}, \"hovermode\": \"closest\", \"mapbox\": {\"style\": \"light\"}, \"paper_bgcolor\": \"white\", \"plot_bgcolor\": \"#E5ECF6\", \"polar\": {\"angularaxis\": {\"gridcolor\": \"white\", \"linecolor\": \"white\", \"ticks\": \"\"}, \"bgcolor\": \"#E5ECF6\", \"radialaxis\": {\"gridcolor\": \"white\", \"linecolor\": \"white\", \"ticks\": \"\"}}, \"scene\": {\"xaxis\": {\"backgroundcolor\": \"#E5ECF6\", \"gridcolor\": \"white\", \"gridwidth\": 2, \"linecolor\": \"white\", \"showbackground\": true, \"ticks\": \"\", \"zerolinecolor\": \"white\"}, \"yaxis\": {\"backgroundcolor\": \"#E5ECF6\", \"gridcolor\": \"white\", \"gridwidth\": 2, \"linecolor\": \"white\", \"showbackground\": true, \"ticks\": \"\", \"zerolinecolor\": \"white\"}, \"zaxis\": {\"backgroundcolor\": \"#E5ECF6\", \"gridcolor\": \"white\", \"gridwidth\": 2, \"linecolor\": \"white\", \"showbackground\": true, \"ticks\": \"\", \"zerolinecolor\": \"white\"}}, \"shapedefaults\": {\"line\": {\"color\": \"#2a3f5f\"}}, \"ternary\": {\"aaxis\": {\"gridcolor\": \"white\", \"linecolor\": \"white\", \"ticks\": \"\"}, \"baxis\": {\"gridcolor\": \"white\", \"linecolor\": \"white\", \"ticks\": \"\"}, \"bgcolor\": \"#E5ECF6\", \"caxis\": {\"gridcolor\": \"white\", \"linecolor\": \"white\", \"ticks\": \"\"}}, \"title\": {\"x\": 0.05}, \"xaxis\": {\"automargin\": true, \"gridcolor\": \"white\", \"linecolor\": \"white\", \"ticks\": \"\", \"zerolinecolor\": \"white\", \"zerolinewidth\": 2}, \"yaxis\": {\"automargin\": true, \"gridcolor\": \"white\", \"linecolor\": \"white\", \"ticks\": \"\", \"zerolinecolor\": \"white\", \"zerolinewidth\": 2}}}, \"title\": {\"font\": {\"color\": \"#4D5663\"}}, \"xaxis\": {\"gridcolor\": \"#E1E5ED\", \"showgrid\": true, \"tickfont\": {\"color\": \"#4D5663\"}, \"title\": {\"font\": {\"color\": \"#4D5663\"}, \"text\": \"\"}, \"zerolinecolor\": \"#E1E5ED\"}, \"yaxis\": {\"gridcolor\": \"#E1E5ED\", \"showgrid\": true, \"tickfont\": {\"color\": \"#4D5663\"}, \"title\": {\"font\": {\"color\": \"#4D5663\"}, \"text\": \"\"}, \"zerolinecolor\": \"#E1E5ED\"}},\n",
       "                        {\"showLink\": true, \"linkText\": \"Export to plot.ly\", \"plotlyServerURL\": \"https://plot.ly\", \"responsive\": true}\n",
       "                    ).then(function(){\n",
       "                            \n",
       "var gd = document.getElementById('7a6bebbc-8a6d-4d95-bcaf-32837f9fad45');\n",
       "var x = new MutationObserver(function (mutations, observer) {{\n",
       "        var display = window.getComputedStyle(gd).display;\n",
       "        if (!display || display === 'none') {{\n",
       "            console.log([gd, 'removed!']);\n",
       "            Plotly.purge(gd);\n",
       "            observer.disconnect();\n",
       "        }}\n",
       "}});\n",
       "\n",
       "// Listen for the removal of the full notebook cells\n",
       "var notebookContainer = gd.closest('#notebook-container');\n",
       "if (notebookContainer) {{\n",
       "    x.observe(notebookContainer, {childList: true});\n",
       "}}\n",
       "\n",
       "// Listen for the clearing of the current output cell\n",
       "var outputEl = gd.closest('.output');\n",
       "if (outputEl) {{\n",
       "    x.observe(outputEl, {childList: true});\n",
       "}}\n",
       "\n",
       "                        })\n",
       "                };\n",
       "                });\n",
       "            </script>\n",
       "        </div>"
      ]
     },
     "metadata": {},
     "output_type": "display_data"
    }
   ],
   "source": [
    "# mode argument can change the marker\n",
    "\n",
    "df.iplot(kind = 'scatter', x = 'A',y = 'B', mode = 'markers')"
   ]
  },
  {
   "cell_type": "code",
   "execution_count": 18,
   "metadata": {},
   "outputs": [
    {
     "data": {
      "application/vnd.plotly.v1+json": {
       "config": {
        "linkText": "Export to plot.ly",
        "plotlyServerURL": "https://plot.ly",
        "showLink": true
       },
       "data": [
        {
         "line": {
          "color": "rgba(255, 153, 51, 1.0)",
          "dash": "solid",
          "shape": "linear",
          "width": 1.3
         },
         "marker": {
          "size": 20,
          "symbol": "circle"
         },
         "mode": "markers",
         "name": "B",
         "text": "",
         "type": "scatter",
         "x": [
          2.069081317248437,
          -1.9586988201017066,
          0.31687259557075065,
          0.3163933211791377,
          -0.16623943248273207,
          1.5497820365156982,
          -1.7297768914284835,
          0.5697825774153621,
          -0.7032361365794662,
          -0.8268251660691491,
          1.2467171956322265,
          -1.0757476486572177,
          -0.165999174967776,
          0.42843672539742184,
          -0.25675899385138395,
          0.22587079145601774,
          1.9166425271506045,
          -0.640237220836307,
          -0.6861772522003287,
          -0.5586527440178088,
          -2.5054824095350603,
          0.4409074736412183,
          -1.9900902601521533,
          -0.5210386202937979,
          -0.5080735923466261,
          -0.7618302051217163,
          0.8385206587443153,
          1.4112551979094434,
          -0.35899178289305833,
          -0.7583551270205274,
          0.1801450370472393,
          -1.668881029521964,
          -0.7631515357140278,
          -0.6703114133478807,
          -1.4410620768665687,
          0.8743716919027011,
          1.3712437328971603,
          1.8015066568239602,
          -1.3793914176363382,
          -0.310781082112185,
          0.21539737058955025,
          0.26100127321811867,
          -0.5720033350321432,
          2.132914188699778,
          -1.6315266835701523,
          0.6116058285290135,
          -1.375542976417157,
          0.5516327908947728,
          -0.8291435228557643,
          -0.10741096952517305,
          0.466848431170696,
          0.8433508517657493,
          0.11636175879694592,
          0.5598366538046764,
          0.24914272694522172,
          -0.06884643442780915,
          -0.4084858316707387,
          -1.4051726071742447,
          -0.30645623254003573,
          1.7389939017633762,
          -1.069248683755255,
          1.6834497814923641,
          1.346355028489932,
          -0.6762454051862051,
          0.9031060789060906,
          1.1356794877473801,
          -0.40881973318811055,
          0.7063794517678516,
          -0.4152686536633678,
          -0.996637064263391,
          -0.05603719295495405,
          0.3267743031922197,
          -0.7097067062730879,
          0.4433270622616412,
          0.379617908590977,
          -0.43494427079199754,
          1.7809685905508235,
          1.6966147780256329,
          1.4906595522423403,
          0.4809146675204936,
          -1.3864972445511055,
          -0.6595869670593304,
          -0.5506363437289727,
          0.5980724890985413,
          -1.1521791912703487,
          -0.3175929792191654,
          -1.8718075854411518,
          -0.27684143268620376,
          -1.6259350828226837,
          1.2269730494900373,
          -0.048869330284592144,
          1.5957901102313448,
          -0.040539979809508665,
          1.3204254982305588,
          -0.035534127153365694,
          0.9671163301831622,
          0.5214914391803923,
          0.9508548035963178,
          0.05960270547188383,
          -0.01561286021245415
         ],
         "y": [
          0.5371406102484116,
          -0.7630355998932787,
          -2.4858162864857523,
          1.2592066808607159,
          0.9595436226520081,
          -0.8081156938171563,
          0.9958728377864831,
          -0.04591061914796954,
          0.6904010738181772,
          -0.5511142392207588,
          1.4402893831504124,
          0.35305376609086747,
          0.7972779169691322,
          0.34537746993804025,
          1.31874407327095,
          1.6969578374319672,
          -2.380558289248379,
          -0.42479170062544036,
          0.7611985790453921,
          -1.4523150254476245,
          0.587450547772239,
          0.15513270402904678,
          0.3816171930588017,
          -0.3485622560270526,
          -0.2233077072848466,
          -0.06657166845739156,
          -0.4699219481124245,
          1.2162365035510758,
          -0.08247111159833434,
          -0.26576094186048205,
          0.6287146222239482,
          0.5464995934949134,
          -1.0413503318774242,
          -0.6133269467314942,
          1.7897861110849156,
          -1.4636448182885142,
          -0.6082089722636107,
          -0.18944182747086188,
          1.1535409107981895,
          -0.2610438758985015,
          0.7607204950976051,
          0.8689659293485391,
          -1.0408678834637686,
          -1.8697259764998884,
          0.052957623660512085,
          -0.4752375307599897,
          -0.6894315405633875,
          0.20660004628802267,
          0.41587696940825136,
          0.11794519060016996,
          -0.5483109902790982,
          0.2204585387263463,
          -0.0814497894297341,
          -0.4261861035950627,
          -0.021917182184465037,
          0.35222734994579635,
          -0.24159158765078223,
          -1.245418117537442,
          1.0216068651998909,
          0.2639425680704423,
          0.9241230815489991,
          1.0987810469821897,
          -1.2581918632792053,
          -0.3047137245763503,
          0.60914107898099,
          -0.9152188042552775,
          -0.26765853410307033,
          -2.0075144589553195,
          0.8147844678127948,
          -0.13131685638323615,
          -1.311225180991742,
          -0.04852659651473337,
          -1.218931042803003,
          -1.024830966258147,
          0.12385012282058273,
          -0.20982791576190235,
          -0.24678271085565104,
          0.5154062122960229,
          0.1544833714506777,
          -0.41404378573783396,
          -1.2860894727014949,
          -1.437949062500608,
          2.4274363130615795,
          -0.4573332199984909,
          0.7826881088936185,
          -0.10934943159905164,
          -0.5949196074311865,
          0.03144939194326923,
          1.524309150436032,
          -0.23392802647924565,
          0.5361360451160111,
          -0.7495155351889765,
          -0.18096629842077092,
          1.558544319601368,
          1.7517499105114092,
          -0.39371248209055115,
          0.345362285426185,
          -0.7860338813922241,
          1.900836644872969,
          -0.6373552719220384
         ]
        }
       ],
       "layout": {
        "legend": {
         "bgcolor": "#F5F6F9",
         "font": {
          "color": "#4D5663"
         }
        },
        "paper_bgcolor": "#F5F6F9",
        "plot_bgcolor": "#F5F6F9",
        "template": {
         "data": {
          "bar": [
           {
            "error_x": {
             "color": "#2a3f5f"
            },
            "error_y": {
             "color": "#2a3f5f"
            },
            "marker": {
             "line": {
              "color": "#E5ECF6",
              "width": 0.5
             }
            },
            "type": "bar"
           }
          ],
          "barpolar": [
           {
            "marker": {
             "line": {
              "color": "#E5ECF6",
              "width": 0.5
             }
            },
            "type": "barpolar"
           }
          ],
          "carpet": [
           {
            "aaxis": {
             "endlinecolor": "#2a3f5f",
             "gridcolor": "white",
             "linecolor": "white",
             "minorgridcolor": "white",
             "startlinecolor": "#2a3f5f"
            },
            "baxis": {
             "endlinecolor": "#2a3f5f",
             "gridcolor": "white",
             "linecolor": "white",
             "minorgridcolor": "white",
             "startlinecolor": "#2a3f5f"
            },
            "type": "carpet"
           }
          ],
          "choropleth": [
           {
            "colorbar": {
             "outlinewidth": 0,
             "ticks": ""
            },
            "type": "choropleth"
           }
          ],
          "contour": [
           {
            "colorbar": {
             "outlinewidth": 0,
             "ticks": ""
            },
            "colorscale": [
             [
              0,
              "#0d0887"
             ],
             [
              0.1111111111111111,
              "#46039f"
             ],
             [
              0.2222222222222222,
              "#7201a8"
             ],
             [
              0.3333333333333333,
              "#9c179e"
             ],
             [
              0.4444444444444444,
              "#bd3786"
             ],
             [
              0.5555555555555556,
              "#d8576b"
             ],
             [
              0.6666666666666666,
              "#ed7953"
             ],
             [
              0.7777777777777778,
              "#fb9f3a"
             ],
             [
              0.8888888888888888,
              "#fdca26"
             ],
             [
              1,
              "#f0f921"
             ]
            ],
            "type": "contour"
           }
          ],
          "contourcarpet": [
           {
            "colorbar": {
             "outlinewidth": 0,
             "ticks": ""
            },
            "type": "contourcarpet"
           }
          ],
          "heatmap": [
           {
            "colorbar": {
             "outlinewidth": 0,
             "ticks": ""
            },
            "colorscale": [
             [
              0,
              "#0d0887"
             ],
             [
              0.1111111111111111,
              "#46039f"
             ],
             [
              0.2222222222222222,
              "#7201a8"
             ],
             [
              0.3333333333333333,
              "#9c179e"
             ],
             [
              0.4444444444444444,
              "#bd3786"
             ],
             [
              0.5555555555555556,
              "#d8576b"
             ],
             [
              0.6666666666666666,
              "#ed7953"
             ],
             [
              0.7777777777777778,
              "#fb9f3a"
             ],
             [
              0.8888888888888888,
              "#fdca26"
             ],
             [
              1,
              "#f0f921"
             ]
            ],
            "type": "heatmap"
           }
          ],
          "heatmapgl": [
           {
            "colorbar": {
             "outlinewidth": 0,
             "ticks": ""
            },
            "colorscale": [
             [
              0,
              "#0d0887"
             ],
             [
              0.1111111111111111,
              "#46039f"
             ],
             [
              0.2222222222222222,
              "#7201a8"
             ],
             [
              0.3333333333333333,
              "#9c179e"
             ],
             [
              0.4444444444444444,
              "#bd3786"
             ],
             [
              0.5555555555555556,
              "#d8576b"
             ],
             [
              0.6666666666666666,
              "#ed7953"
             ],
             [
              0.7777777777777778,
              "#fb9f3a"
             ],
             [
              0.8888888888888888,
              "#fdca26"
             ],
             [
              1,
              "#f0f921"
             ]
            ],
            "type": "heatmapgl"
           }
          ],
          "histogram": [
           {
            "marker": {
             "colorbar": {
              "outlinewidth": 0,
              "ticks": ""
             }
            },
            "type": "histogram"
           }
          ],
          "histogram2d": [
           {
            "colorbar": {
             "outlinewidth": 0,
             "ticks": ""
            },
            "colorscale": [
             [
              0,
              "#0d0887"
             ],
             [
              0.1111111111111111,
              "#46039f"
             ],
             [
              0.2222222222222222,
              "#7201a8"
             ],
             [
              0.3333333333333333,
              "#9c179e"
             ],
             [
              0.4444444444444444,
              "#bd3786"
             ],
             [
              0.5555555555555556,
              "#d8576b"
             ],
             [
              0.6666666666666666,
              "#ed7953"
             ],
             [
              0.7777777777777778,
              "#fb9f3a"
             ],
             [
              0.8888888888888888,
              "#fdca26"
             ],
             [
              1,
              "#f0f921"
             ]
            ],
            "type": "histogram2d"
           }
          ],
          "histogram2dcontour": [
           {
            "colorbar": {
             "outlinewidth": 0,
             "ticks": ""
            },
            "colorscale": [
             [
              0,
              "#0d0887"
             ],
             [
              0.1111111111111111,
              "#46039f"
             ],
             [
              0.2222222222222222,
              "#7201a8"
             ],
             [
              0.3333333333333333,
              "#9c179e"
             ],
             [
              0.4444444444444444,
              "#bd3786"
             ],
             [
              0.5555555555555556,
              "#d8576b"
             ],
             [
              0.6666666666666666,
              "#ed7953"
             ],
             [
              0.7777777777777778,
              "#fb9f3a"
             ],
             [
              0.8888888888888888,
              "#fdca26"
             ],
             [
              1,
              "#f0f921"
             ]
            ],
            "type": "histogram2dcontour"
           }
          ],
          "mesh3d": [
           {
            "colorbar": {
             "outlinewidth": 0,
             "ticks": ""
            },
            "type": "mesh3d"
           }
          ],
          "parcoords": [
           {
            "line": {
             "colorbar": {
              "outlinewidth": 0,
              "ticks": ""
             }
            },
            "type": "parcoords"
           }
          ],
          "scatter": [
           {
            "marker": {
             "colorbar": {
              "outlinewidth": 0,
              "ticks": ""
             }
            },
            "type": "scatter"
           }
          ],
          "scatter3d": [
           {
            "line": {
             "colorbar": {
              "outlinewidth": 0,
              "ticks": ""
             }
            },
            "marker": {
             "colorbar": {
              "outlinewidth": 0,
              "ticks": ""
             }
            },
            "type": "scatter3d"
           }
          ],
          "scattercarpet": [
           {
            "marker": {
             "colorbar": {
              "outlinewidth": 0,
              "ticks": ""
             }
            },
            "type": "scattercarpet"
           }
          ],
          "scattergeo": [
           {
            "marker": {
             "colorbar": {
              "outlinewidth": 0,
              "ticks": ""
             }
            },
            "type": "scattergeo"
           }
          ],
          "scattergl": [
           {
            "marker": {
             "colorbar": {
              "outlinewidth": 0,
              "ticks": ""
             }
            },
            "type": "scattergl"
           }
          ],
          "scattermapbox": [
           {
            "marker": {
             "colorbar": {
              "outlinewidth": 0,
              "ticks": ""
             }
            },
            "type": "scattermapbox"
           }
          ],
          "scatterpolar": [
           {
            "marker": {
             "colorbar": {
              "outlinewidth": 0,
              "ticks": ""
             }
            },
            "type": "scatterpolar"
           }
          ],
          "scatterpolargl": [
           {
            "marker": {
             "colorbar": {
              "outlinewidth": 0,
              "ticks": ""
             }
            },
            "type": "scatterpolargl"
           }
          ],
          "scatterternary": [
           {
            "marker": {
             "colorbar": {
              "outlinewidth": 0,
              "ticks": ""
             }
            },
            "type": "scatterternary"
           }
          ],
          "surface": [
           {
            "colorbar": {
             "outlinewidth": 0,
             "ticks": ""
            },
            "colorscale": [
             [
              0,
              "#0d0887"
             ],
             [
              0.1111111111111111,
              "#46039f"
             ],
             [
              0.2222222222222222,
              "#7201a8"
             ],
             [
              0.3333333333333333,
              "#9c179e"
             ],
             [
              0.4444444444444444,
              "#bd3786"
             ],
             [
              0.5555555555555556,
              "#d8576b"
             ],
             [
              0.6666666666666666,
              "#ed7953"
             ],
             [
              0.7777777777777778,
              "#fb9f3a"
             ],
             [
              0.8888888888888888,
              "#fdca26"
             ],
             [
              1,
              "#f0f921"
             ]
            ],
            "type": "surface"
           }
          ],
          "table": [
           {
            "cells": {
             "fill": {
              "color": "#EBF0F8"
             },
             "line": {
              "color": "white"
             }
            },
            "header": {
             "fill": {
              "color": "#C8D4E3"
             },
             "line": {
              "color": "white"
             }
            },
            "type": "table"
           }
          ]
         },
         "layout": {
          "annotationdefaults": {
           "arrowcolor": "#2a3f5f",
           "arrowhead": 0,
           "arrowwidth": 1
          },
          "colorscale": {
           "diverging": [
            [
             0,
             "#8e0152"
            ],
            [
             0.1,
             "#c51b7d"
            ],
            [
             0.2,
             "#de77ae"
            ],
            [
             0.3,
             "#f1b6da"
            ],
            [
             0.4,
             "#fde0ef"
            ],
            [
             0.5,
             "#f7f7f7"
            ],
            [
             0.6,
             "#e6f5d0"
            ],
            [
             0.7,
             "#b8e186"
            ],
            [
             0.8,
             "#7fbc41"
            ],
            [
             0.9,
             "#4d9221"
            ],
            [
             1,
             "#276419"
            ]
           ],
           "sequential": [
            [
             0,
             "#0d0887"
            ],
            [
             0.1111111111111111,
             "#46039f"
            ],
            [
             0.2222222222222222,
             "#7201a8"
            ],
            [
             0.3333333333333333,
             "#9c179e"
            ],
            [
             0.4444444444444444,
             "#bd3786"
            ],
            [
             0.5555555555555556,
             "#d8576b"
            ],
            [
             0.6666666666666666,
             "#ed7953"
            ],
            [
             0.7777777777777778,
             "#fb9f3a"
            ],
            [
             0.8888888888888888,
             "#fdca26"
            ],
            [
             1,
             "#f0f921"
            ]
           ],
           "sequentialminus": [
            [
             0,
             "#0d0887"
            ],
            [
             0.1111111111111111,
             "#46039f"
            ],
            [
             0.2222222222222222,
             "#7201a8"
            ],
            [
             0.3333333333333333,
             "#9c179e"
            ],
            [
             0.4444444444444444,
             "#bd3786"
            ],
            [
             0.5555555555555556,
             "#d8576b"
            ],
            [
             0.6666666666666666,
             "#ed7953"
            ],
            [
             0.7777777777777778,
             "#fb9f3a"
            ],
            [
             0.8888888888888888,
             "#fdca26"
            ],
            [
             1,
             "#f0f921"
            ]
           ]
          },
          "colorway": [
           "#636efa",
           "#EF553B",
           "#00cc96",
           "#ab63fa",
           "#FFA15A",
           "#19d3f3",
           "#FF6692",
           "#B6E880",
           "#FF97FF",
           "#FECB52"
          ],
          "font": {
           "color": "#2a3f5f"
          },
          "geo": {
           "bgcolor": "white",
           "lakecolor": "white",
           "landcolor": "#E5ECF6",
           "showlakes": true,
           "showland": true,
           "subunitcolor": "white"
          },
          "hoverlabel": {
           "align": "left"
          },
          "hovermode": "closest",
          "mapbox": {
           "style": "light"
          },
          "paper_bgcolor": "white",
          "plot_bgcolor": "#E5ECF6",
          "polar": {
           "angularaxis": {
            "gridcolor": "white",
            "linecolor": "white",
            "ticks": ""
           },
           "bgcolor": "#E5ECF6",
           "radialaxis": {
            "gridcolor": "white",
            "linecolor": "white",
            "ticks": ""
           }
          },
          "scene": {
           "xaxis": {
            "backgroundcolor": "#E5ECF6",
            "gridcolor": "white",
            "gridwidth": 2,
            "linecolor": "white",
            "showbackground": true,
            "ticks": "",
            "zerolinecolor": "white"
           },
           "yaxis": {
            "backgroundcolor": "#E5ECF6",
            "gridcolor": "white",
            "gridwidth": 2,
            "linecolor": "white",
            "showbackground": true,
            "ticks": "",
            "zerolinecolor": "white"
           },
           "zaxis": {
            "backgroundcolor": "#E5ECF6",
            "gridcolor": "white",
            "gridwidth": 2,
            "linecolor": "white",
            "showbackground": true,
            "ticks": "",
            "zerolinecolor": "white"
           }
          },
          "shapedefaults": {
           "line": {
            "color": "#2a3f5f"
           }
          },
          "ternary": {
           "aaxis": {
            "gridcolor": "white",
            "linecolor": "white",
            "ticks": ""
           },
           "baxis": {
            "gridcolor": "white",
            "linecolor": "white",
            "ticks": ""
           },
           "bgcolor": "#E5ECF6",
           "caxis": {
            "gridcolor": "white",
            "linecolor": "white",
            "ticks": ""
           }
          },
          "title": {
           "x": 0.05
          },
          "xaxis": {
           "automargin": true,
           "gridcolor": "white",
           "linecolor": "white",
           "ticks": "",
           "zerolinecolor": "white",
           "zerolinewidth": 2
          },
          "yaxis": {
           "automargin": true,
           "gridcolor": "white",
           "linecolor": "white",
           "ticks": "",
           "zerolinecolor": "white",
           "zerolinewidth": 2
          }
         }
        },
        "title": {
         "font": {
          "color": "#4D5663"
         }
        },
        "xaxis": {
         "gridcolor": "#E1E5ED",
         "showgrid": true,
         "tickfont": {
          "color": "#4D5663"
         },
         "title": {
          "font": {
           "color": "#4D5663"
          },
          "text": ""
         },
         "zerolinecolor": "#E1E5ED"
        },
        "yaxis": {
         "gridcolor": "#E1E5ED",
         "showgrid": true,
         "tickfont": {
          "color": "#4D5663"
         },
         "title": {
          "font": {
           "color": "#4D5663"
          },
          "text": ""
         },
         "zerolinecolor": "#E1E5ED"
        }
       }
      },
      "text/html": [
       "<div>\n",
       "        \n",
       "        \n",
       "            <div id=\"9edf7dea-3b7d-49e8-ab75-7ebdb393d5a1\" class=\"plotly-graph-div\" style=\"height:525px; width:100%;\"></div>\n",
       "            <script type=\"text/javascript\">\n",
       "                require([\"plotly\"], function(Plotly) {\n",
       "                    window.PLOTLYENV=window.PLOTLYENV || {};\n",
       "                    window.PLOTLYENV.BASE_URL='https://plot.ly';\n",
       "                    \n",
       "                if (document.getElementById(\"9edf7dea-3b7d-49e8-ab75-7ebdb393d5a1\")) {\n",
       "                    Plotly.newPlot(\n",
       "                        '9edf7dea-3b7d-49e8-ab75-7ebdb393d5a1',\n",
       "                        [{\"line\": {\"color\": \"rgba(255, 153, 51, 1.0)\", \"dash\": \"solid\", \"shape\": \"linear\", \"width\": 1.3}, \"marker\": {\"size\": 20, \"symbol\": \"circle\"}, \"mode\": \"markers\", \"name\": \"B\", \"text\": \"\", \"type\": \"scatter\", \"x\": [2.069081317248437, -1.9586988201017066, 0.31687259557075065, 0.3163933211791377, -0.16623943248273207, 1.5497820365156982, -1.7297768914284835, 0.5697825774153621, -0.7032361365794662, -0.8268251660691491, 1.2467171956322265, -1.0757476486572177, -0.165999174967776, 0.42843672539742184, -0.25675899385138395, 0.22587079145601774, 1.9166425271506045, -0.640237220836307, -0.6861772522003287, -0.5586527440178088, -2.5054824095350603, 0.4409074736412183, -1.9900902601521533, -0.5210386202937979, -0.5080735923466261, -0.7618302051217163, 0.8385206587443153, 1.4112551979094434, -0.35899178289305833, -0.7583551270205274, 0.1801450370472393, -1.668881029521964, -0.7631515357140278, -0.6703114133478807, -1.4410620768665687, 0.8743716919027011, 1.3712437328971603, 1.8015066568239602, -1.3793914176363382, -0.310781082112185, 0.21539737058955025, 0.26100127321811867, -0.5720033350321432, 2.132914188699778, -1.6315266835701523, 0.6116058285290135, -1.375542976417157, 0.5516327908947728, -0.8291435228557643, -0.10741096952517305, 0.466848431170696, 0.8433508517657493, 0.11636175879694592, 0.5598366538046764, 0.24914272694522172, -0.06884643442780915, -0.4084858316707387, -1.4051726071742447, -0.30645623254003573, 1.7389939017633762, -1.069248683755255, 1.6834497814923641, 1.346355028489932, -0.6762454051862051, 0.9031060789060906, 1.1356794877473801, -0.40881973318811055, 0.7063794517678516, -0.4152686536633678, -0.996637064263391, -0.05603719295495405, 0.3267743031922197, -0.7097067062730879, 0.4433270622616412, 0.379617908590977, -0.43494427079199754, 1.7809685905508235, 1.6966147780256329, 1.4906595522423403, 0.4809146675204936, -1.3864972445511055, -0.6595869670593304, -0.5506363437289727, 0.5980724890985413, -1.1521791912703487, -0.3175929792191654, -1.8718075854411518, -0.27684143268620376, -1.6259350828226837, 1.2269730494900373, -0.048869330284592144, 1.5957901102313448, -0.040539979809508665, 1.3204254982305588, -0.035534127153365694, 0.9671163301831622, 0.5214914391803923, 0.9508548035963178, 0.05960270547188383, -0.01561286021245415], \"y\": [0.5371406102484116, -0.7630355998932787, -2.4858162864857523, 1.2592066808607159, 0.9595436226520081, -0.8081156938171563, 0.9958728377864831, -0.04591061914796954, 0.6904010738181772, -0.5511142392207588, 1.4402893831504124, 0.35305376609086747, 0.7972779169691322, 0.34537746993804025, 1.31874407327095, 1.6969578374319672, -2.380558289248379, -0.42479170062544036, 0.7611985790453921, -1.4523150254476245, 0.587450547772239, 0.15513270402904678, 0.3816171930588017, -0.3485622560270526, -0.2233077072848466, -0.06657166845739156, -0.4699219481124245, 1.2162365035510758, -0.08247111159833434, -0.26576094186048205, 0.6287146222239482, 0.5464995934949134, -1.0413503318774242, -0.6133269467314942, 1.7897861110849156, -1.4636448182885142, -0.6082089722636107, -0.18944182747086188, 1.1535409107981895, -0.2610438758985015, 0.7607204950976051, 0.8689659293485391, -1.0408678834637686, -1.8697259764998884, 0.052957623660512085, -0.4752375307599897, -0.6894315405633875, 0.20660004628802267, 0.41587696940825136, 0.11794519060016996, -0.5483109902790982, 0.2204585387263463, -0.0814497894297341, -0.4261861035950627, -0.021917182184465037, 0.35222734994579635, -0.24159158765078223, -1.245418117537442, 1.0216068651998909, 0.2639425680704423, 0.9241230815489991, 1.0987810469821897, -1.2581918632792053, -0.3047137245763503, 0.60914107898099, -0.9152188042552775, -0.26765853410307033, -2.0075144589553195, 0.8147844678127948, -0.13131685638323615, -1.311225180991742, -0.04852659651473337, -1.218931042803003, -1.024830966258147, 0.12385012282058273, -0.20982791576190235, -0.24678271085565104, 0.5154062122960229, 0.1544833714506777, -0.41404378573783396, -1.2860894727014949, -1.437949062500608, 2.4274363130615795, -0.4573332199984909, 0.7826881088936185, -0.10934943159905164, -0.5949196074311865, 0.03144939194326923, 1.524309150436032, -0.23392802647924565, 0.5361360451160111, -0.7495155351889765, -0.18096629842077092, 1.558544319601368, 1.7517499105114092, -0.39371248209055115, 0.345362285426185, -0.7860338813922241, 1.900836644872969, -0.6373552719220384]}],\n",
       "                        {\"legend\": {\"bgcolor\": \"#F5F6F9\", \"font\": {\"color\": \"#4D5663\"}}, \"paper_bgcolor\": \"#F5F6F9\", \"plot_bgcolor\": \"#F5F6F9\", \"template\": {\"data\": {\"bar\": [{\"error_x\": {\"color\": \"#2a3f5f\"}, \"error_y\": {\"color\": \"#2a3f5f\"}, \"marker\": {\"line\": {\"color\": \"#E5ECF6\", \"width\": 0.5}}, \"type\": \"bar\"}], \"barpolar\": [{\"marker\": {\"line\": {\"color\": \"#E5ECF6\", \"width\": 0.5}}, \"type\": \"barpolar\"}], \"carpet\": [{\"aaxis\": {\"endlinecolor\": \"#2a3f5f\", \"gridcolor\": \"white\", \"linecolor\": \"white\", \"minorgridcolor\": \"white\", \"startlinecolor\": \"#2a3f5f\"}, \"baxis\": {\"endlinecolor\": \"#2a3f5f\", \"gridcolor\": \"white\", \"linecolor\": \"white\", \"minorgridcolor\": \"white\", \"startlinecolor\": \"#2a3f5f\"}, \"type\": \"carpet\"}], \"choropleth\": [{\"colorbar\": {\"outlinewidth\": 0, \"ticks\": \"\"}, \"type\": \"choropleth\"}], \"contour\": [{\"colorbar\": {\"outlinewidth\": 0, \"ticks\": \"\"}, \"colorscale\": [[0.0, \"#0d0887\"], [0.1111111111111111, \"#46039f\"], [0.2222222222222222, \"#7201a8\"], [0.3333333333333333, \"#9c179e\"], [0.4444444444444444, \"#bd3786\"], [0.5555555555555556, \"#d8576b\"], [0.6666666666666666, \"#ed7953\"], [0.7777777777777778, \"#fb9f3a\"], [0.8888888888888888, \"#fdca26\"], [1.0, \"#f0f921\"]], \"type\": \"contour\"}], \"contourcarpet\": [{\"colorbar\": {\"outlinewidth\": 0, \"ticks\": \"\"}, \"type\": \"contourcarpet\"}], \"heatmap\": [{\"colorbar\": {\"outlinewidth\": 0, \"ticks\": \"\"}, \"colorscale\": [[0.0, \"#0d0887\"], [0.1111111111111111, \"#46039f\"], [0.2222222222222222, \"#7201a8\"], [0.3333333333333333, \"#9c179e\"], [0.4444444444444444, \"#bd3786\"], [0.5555555555555556, \"#d8576b\"], [0.6666666666666666, \"#ed7953\"], [0.7777777777777778, \"#fb9f3a\"], [0.8888888888888888, \"#fdca26\"], [1.0, \"#f0f921\"]], \"type\": \"heatmap\"}], \"heatmapgl\": [{\"colorbar\": {\"outlinewidth\": 0, \"ticks\": \"\"}, \"colorscale\": [[0.0, \"#0d0887\"], [0.1111111111111111, \"#46039f\"], [0.2222222222222222, \"#7201a8\"], [0.3333333333333333, \"#9c179e\"], [0.4444444444444444, \"#bd3786\"], [0.5555555555555556, \"#d8576b\"], [0.6666666666666666, \"#ed7953\"], [0.7777777777777778, \"#fb9f3a\"], [0.8888888888888888, \"#fdca26\"], [1.0, \"#f0f921\"]], \"type\": \"heatmapgl\"}], \"histogram\": [{\"marker\": {\"colorbar\": {\"outlinewidth\": 0, \"ticks\": \"\"}}, \"type\": \"histogram\"}], \"histogram2d\": [{\"colorbar\": {\"outlinewidth\": 0, \"ticks\": \"\"}, \"colorscale\": [[0.0, \"#0d0887\"], [0.1111111111111111, \"#46039f\"], [0.2222222222222222, \"#7201a8\"], [0.3333333333333333, \"#9c179e\"], [0.4444444444444444, \"#bd3786\"], [0.5555555555555556, \"#d8576b\"], [0.6666666666666666, \"#ed7953\"], [0.7777777777777778, \"#fb9f3a\"], [0.8888888888888888, \"#fdca26\"], [1.0, \"#f0f921\"]], \"type\": \"histogram2d\"}], \"histogram2dcontour\": [{\"colorbar\": {\"outlinewidth\": 0, \"ticks\": \"\"}, \"colorscale\": [[0.0, \"#0d0887\"], [0.1111111111111111, \"#46039f\"], [0.2222222222222222, \"#7201a8\"], [0.3333333333333333, \"#9c179e\"], [0.4444444444444444, \"#bd3786\"], [0.5555555555555556, \"#d8576b\"], [0.6666666666666666, \"#ed7953\"], [0.7777777777777778, \"#fb9f3a\"], [0.8888888888888888, \"#fdca26\"], [1.0, \"#f0f921\"]], \"type\": \"histogram2dcontour\"}], \"mesh3d\": [{\"colorbar\": {\"outlinewidth\": 0, \"ticks\": \"\"}, \"type\": \"mesh3d\"}], \"parcoords\": [{\"line\": {\"colorbar\": {\"outlinewidth\": 0, \"ticks\": \"\"}}, \"type\": \"parcoords\"}], \"scatter\": [{\"marker\": {\"colorbar\": {\"outlinewidth\": 0, \"ticks\": \"\"}}, \"type\": \"scatter\"}], \"scatter3d\": [{\"line\": {\"colorbar\": {\"outlinewidth\": 0, \"ticks\": \"\"}}, \"marker\": {\"colorbar\": {\"outlinewidth\": 0, \"ticks\": \"\"}}, \"type\": \"scatter3d\"}], \"scattercarpet\": [{\"marker\": {\"colorbar\": {\"outlinewidth\": 0, \"ticks\": \"\"}}, \"type\": \"scattercarpet\"}], \"scattergeo\": [{\"marker\": {\"colorbar\": {\"outlinewidth\": 0, \"ticks\": \"\"}}, \"type\": \"scattergeo\"}], \"scattergl\": [{\"marker\": {\"colorbar\": {\"outlinewidth\": 0, \"ticks\": \"\"}}, \"type\": \"scattergl\"}], \"scattermapbox\": [{\"marker\": {\"colorbar\": {\"outlinewidth\": 0, \"ticks\": \"\"}}, \"type\": \"scattermapbox\"}], \"scatterpolar\": [{\"marker\": {\"colorbar\": {\"outlinewidth\": 0, \"ticks\": \"\"}}, \"type\": \"scatterpolar\"}], \"scatterpolargl\": [{\"marker\": {\"colorbar\": {\"outlinewidth\": 0, \"ticks\": \"\"}}, \"type\": \"scatterpolargl\"}], \"scatterternary\": [{\"marker\": {\"colorbar\": {\"outlinewidth\": 0, \"ticks\": \"\"}}, \"type\": \"scatterternary\"}], \"surface\": [{\"colorbar\": {\"outlinewidth\": 0, \"ticks\": \"\"}, \"colorscale\": [[0.0, \"#0d0887\"], [0.1111111111111111, \"#46039f\"], [0.2222222222222222, \"#7201a8\"], [0.3333333333333333, \"#9c179e\"], [0.4444444444444444, \"#bd3786\"], [0.5555555555555556, \"#d8576b\"], [0.6666666666666666, \"#ed7953\"], [0.7777777777777778, \"#fb9f3a\"], [0.8888888888888888, \"#fdca26\"], [1.0, \"#f0f921\"]], \"type\": \"surface\"}], \"table\": [{\"cells\": {\"fill\": {\"color\": \"#EBF0F8\"}, \"line\": {\"color\": \"white\"}}, \"header\": {\"fill\": {\"color\": \"#C8D4E3\"}, \"line\": {\"color\": \"white\"}}, \"type\": \"table\"}]}, \"layout\": {\"annotationdefaults\": {\"arrowcolor\": \"#2a3f5f\", \"arrowhead\": 0, \"arrowwidth\": 1}, \"colorscale\": {\"diverging\": [[0, \"#8e0152\"], [0.1, \"#c51b7d\"], [0.2, \"#de77ae\"], [0.3, \"#f1b6da\"], [0.4, \"#fde0ef\"], [0.5, \"#f7f7f7\"], [0.6, \"#e6f5d0\"], [0.7, \"#b8e186\"], [0.8, \"#7fbc41\"], [0.9, \"#4d9221\"], [1, \"#276419\"]], \"sequential\": [[0.0, \"#0d0887\"], [0.1111111111111111, \"#46039f\"], [0.2222222222222222, \"#7201a8\"], [0.3333333333333333, \"#9c179e\"], [0.4444444444444444, \"#bd3786\"], [0.5555555555555556, \"#d8576b\"], [0.6666666666666666, \"#ed7953\"], [0.7777777777777778, \"#fb9f3a\"], [0.8888888888888888, \"#fdca26\"], [1.0, \"#f0f921\"]], \"sequentialminus\": [[0.0, \"#0d0887\"], [0.1111111111111111, \"#46039f\"], [0.2222222222222222, \"#7201a8\"], [0.3333333333333333, \"#9c179e\"], [0.4444444444444444, \"#bd3786\"], [0.5555555555555556, \"#d8576b\"], [0.6666666666666666, \"#ed7953\"], [0.7777777777777778, \"#fb9f3a\"], [0.8888888888888888, \"#fdca26\"], [1.0, \"#f0f921\"]]}, \"colorway\": [\"#636efa\", \"#EF553B\", \"#00cc96\", \"#ab63fa\", \"#FFA15A\", \"#19d3f3\", \"#FF6692\", \"#B6E880\", \"#FF97FF\", \"#FECB52\"], \"font\": {\"color\": \"#2a3f5f\"}, \"geo\": {\"bgcolor\": \"white\", \"lakecolor\": \"white\", \"landcolor\": \"#E5ECF6\", \"showlakes\": true, \"showland\": true, \"subunitcolor\": \"white\"}, \"hoverlabel\": {\"align\": \"left\"}, \"hovermode\": \"closest\", \"mapbox\": {\"style\": \"light\"}, \"paper_bgcolor\": \"white\", \"plot_bgcolor\": \"#E5ECF6\", \"polar\": {\"angularaxis\": {\"gridcolor\": \"white\", \"linecolor\": \"white\", \"ticks\": \"\"}, \"bgcolor\": \"#E5ECF6\", \"radialaxis\": {\"gridcolor\": \"white\", \"linecolor\": \"white\", \"ticks\": \"\"}}, \"scene\": {\"xaxis\": {\"backgroundcolor\": \"#E5ECF6\", \"gridcolor\": \"white\", \"gridwidth\": 2, \"linecolor\": \"white\", \"showbackground\": true, \"ticks\": \"\", \"zerolinecolor\": \"white\"}, \"yaxis\": {\"backgroundcolor\": \"#E5ECF6\", \"gridcolor\": \"white\", \"gridwidth\": 2, \"linecolor\": \"white\", \"showbackground\": true, \"ticks\": \"\", \"zerolinecolor\": \"white\"}, \"zaxis\": {\"backgroundcolor\": \"#E5ECF6\", \"gridcolor\": \"white\", \"gridwidth\": 2, \"linecolor\": \"white\", \"showbackground\": true, \"ticks\": \"\", \"zerolinecolor\": \"white\"}}, \"shapedefaults\": {\"line\": {\"color\": \"#2a3f5f\"}}, \"ternary\": {\"aaxis\": {\"gridcolor\": \"white\", \"linecolor\": \"white\", \"ticks\": \"\"}, \"baxis\": {\"gridcolor\": \"white\", \"linecolor\": \"white\", \"ticks\": \"\"}, \"bgcolor\": \"#E5ECF6\", \"caxis\": {\"gridcolor\": \"white\", \"linecolor\": \"white\", \"ticks\": \"\"}}, \"title\": {\"x\": 0.05}, \"xaxis\": {\"automargin\": true, \"gridcolor\": \"white\", \"linecolor\": \"white\", \"ticks\": \"\", \"zerolinecolor\": \"white\", \"zerolinewidth\": 2}, \"yaxis\": {\"automargin\": true, \"gridcolor\": \"white\", \"linecolor\": \"white\", \"ticks\": \"\", \"zerolinecolor\": \"white\", \"zerolinewidth\": 2}}}, \"title\": {\"font\": {\"color\": \"#4D5663\"}}, \"xaxis\": {\"gridcolor\": \"#E1E5ED\", \"showgrid\": true, \"tickfont\": {\"color\": \"#4D5663\"}, \"title\": {\"font\": {\"color\": \"#4D5663\"}, \"text\": \"\"}, \"zerolinecolor\": \"#E1E5ED\"}, \"yaxis\": {\"gridcolor\": \"#E1E5ED\", \"showgrid\": true, \"tickfont\": {\"color\": \"#4D5663\"}, \"title\": {\"font\": {\"color\": \"#4D5663\"}, \"text\": \"\"}, \"zerolinecolor\": \"#E1E5ED\"}},\n",
       "                        {\"showLink\": true, \"linkText\": \"Export to plot.ly\", \"plotlyServerURL\": \"https://plot.ly\", \"responsive\": true}\n",
       "                    ).then(function(){\n",
       "                            \n",
       "var gd = document.getElementById('9edf7dea-3b7d-49e8-ab75-7ebdb393d5a1');\n",
       "var x = new MutationObserver(function (mutations, observer) {{\n",
       "        var display = window.getComputedStyle(gd).display;\n",
       "        if (!display || display === 'none') {{\n",
       "            console.log([gd, 'removed!']);\n",
       "            Plotly.purge(gd);\n",
       "            observer.disconnect();\n",
       "        }}\n",
       "}});\n",
       "\n",
       "// Listen for the removal of the full notebook cells\n",
       "var notebookContainer = gd.closest('#notebook-container');\n",
       "if (notebookContainer) {{\n",
       "    x.observe(notebookContainer, {childList: true});\n",
       "}}\n",
       "\n",
       "// Listen for the clearing of the current output cell\n",
       "var outputEl = gd.closest('.output');\n",
       "if (outputEl) {{\n",
       "    x.observe(outputEl, {childList: true});\n",
       "}}\n",
       "\n",
       "                        })\n",
       "                };\n",
       "                });\n",
       "            </script>\n",
       "        </div>"
      ]
     },
     "metadata": {},
     "output_type": "display_data"
    }
   ],
   "source": [
    "# size can change the marker size\n",
    "\n",
    "df.iplot(kind = 'scatter', x = 'A',y = 'B', mode = 'markers', size = 20)"
   ]
  },
  {
   "cell_type": "markdown",
   "metadata": {},
   "source": [
    "### 3. barplot"
   ]
  },
  {
   "cell_type": "code",
   "execution_count": 19,
   "metadata": {},
   "outputs": [
    {
     "data": {
      "application/vnd.plotly.v1+json": {
       "config": {
        "linkText": "Export to plot.ly",
        "plotlyServerURL": "https://plot.ly",
        "showLink": true
       },
       "data": [
        {
         "marker": {
          "color": "rgba(255, 153, 51, 0.6)",
          "line": {
           "color": "rgba(255, 153, 51, 1.0)",
           "width": 1
          }
         },
         "name": "values",
         "orientation": "v",
         "text": "",
         "type": "bar",
         "x": [
          "A",
          "B",
          "C"
         ],
         "y": [
          32,
          43,
          50
         ]
        }
       ],
       "layout": {
        "legend": {
         "bgcolor": "#F5F6F9",
         "font": {
          "color": "#4D5663"
         }
        },
        "paper_bgcolor": "#F5F6F9",
        "plot_bgcolor": "#F5F6F9",
        "template": {
         "data": {
          "bar": [
           {
            "error_x": {
             "color": "#2a3f5f"
            },
            "error_y": {
             "color": "#2a3f5f"
            },
            "marker": {
             "line": {
              "color": "#E5ECF6",
              "width": 0.5
             }
            },
            "type": "bar"
           }
          ],
          "barpolar": [
           {
            "marker": {
             "line": {
              "color": "#E5ECF6",
              "width": 0.5
             }
            },
            "type": "barpolar"
           }
          ],
          "carpet": [
           {
            "aaxis": {
             "endlinecolor": "#2a3f5f",
             "gridcolor": "white",
             "linecolor": "white",
             "minorgridcolor": "white",
             "startlinecolor": "#2a3f5f"
            },
            "baxis": {
             "endlinecolor": "#2a3f5f",
             "gridcolor": "white",
             "linecolor": "white",
             "minorgridcolor": "white",
             "startlinecolor": "#2a3f5f"
            },
            "type": "carpet"
           }
          ],
          "choropleth": [
           {
            "colorbar": {
             "outlinewidth": 0,
             "ticks": ""
            },
            "type": "choropleth"
           }
          ],
          "contour": [
           {
            "colorbar": {
             "outlinewidth": 0,
             "ticks": ""
            },
            "colorscale": [
             [
              0,
              "#0d0887"
             ],
             [
              0.1111111111111111,
              "#46039f"
             ],
             [
              0.2222222222222222,
              "#7201a8"
             ],
             [
              0.3333333333333333,
              "#9c179e"
             ],
             [
              0.4444444444444444,
              "#bd3786"
             ],
             [
              0.5555555555555556,
              "#d8576b"
             ],
             [
              0.6666666666666666,
              "#ed7953"
             ],
             [
              0.7777777777777778,
              "#fb9f3a"
             ],
             [
              0.8888888888888888,
              "#fdca26"
             ],
             [
              1,
              "#f0f921"
             ]
            ],
            "type": "contour"
           }
          ],
          "contourcarpet": [
           {
            "colorbar": {
             "outlinewidth": 0,
             "ticks": ""
            },
            "type": "contourcarpet"
           }
          ],
          "heatmap": [
           {
            "colorbar": {
             "outlinewidth": 0,
             "ticks": ""
            },
            "colorscale": [
             [
              0,
              "#0d0887"
             ],
             [
              0.1111111111111111,
              "#46039f"
             ],
             [
              0.2222222222222222,
              "#7201a8"
             ],
             [
              0.3333333333333333,
              "#9c179e"
             ],
             [
              0.4444444444444444,
              "#bd3786"
             ],
             [
              0.5555555555555556,
              "#d8576b"
             ],
             [
              0.6666666666666666,
              "#ed7953"
             ],
             [
              0.7777777777777778,
              "#fb9f3a"
             ],
             [
              0.8888888888888888,
              "#fdca26"
             ],
             [
              1,
              "#f0f921"
             ]
            ],
            "type": "heatmap"
           }
          ],
          "heatmapgl": [
           {
            "colorbar": {
             "outlinewidth": 0,
             "ticks": ""
            },
            "colorscale": [
             [
              0,
              "#0d0887"
             ],
             [
              0.1111111111111111,
              "#46039f"
             ],
             [
              0.2222222222222222,
              "#7201a8"
             ],
             [
              0.3333333333333333,
              "#9c179e"
             ],
             [
              0.4444444444444444,
              "#bd3786"
             ],
             [
              0.5555555555555556,
              "#d8576b"
             ],
             [
              0.6666666666666666,
              "#ed7953"
             ],
             [
              0.7777777777777778,
              "#fb9f3a"
             ],
             [
              0.8888888888888888,
              "#fdca26"
             ],
             [
              1,
              "#f0f921"
             ]
            ],
            "type": "heatmapgl"
           }
          ],
          "histogram": [
           {
            "marker": {
             "colorbar": {
              "outlinewidth": 0,
              "ticks": ""
             }
            },
            "type": "histogram"
           }
          ],
          "histogram2d": [
           {
            "colorbar": {
             "outlinewidth": 0,
             "ticks": ""
            },
            "colorscale": [
             [
              0,
              "#0d0887"
             ],
             [
              0.1111111111111111,
              "#46039f"
             ],
             [
              0.2222222222222222,
              "#7201a8"
             ],
             [
              0.3333333333333333,
              "#9c179e"
             ],
             [
              0.4444444444444444,
              "#bd3786"
             ],
             [
              0.5555555555555556,
              "#d8576b"
             ],
             [
              0.6666666666666666,
              "#ed7953"
             ],
             [
              0.7777777777777778,
              "#fb9f3a"
             ],
             [
              0.8888888888888888,
              "#fdca26"
             ],
             [
              1,
              "#f0f921"
             ]
            ],
            "type": "histogram2d"
           }
          ],
          "histogram2dcontour": [
           {
            "colorbar": {
             "outlinewidth": 0,
             "ticks": ""
            },
            "colorscale": [
             [
              0,
              "#0d0887"
             ],
             [
              0.1111111111111111,
              "#46039f"
             ],
             [
              0.2222222222222222,
              "#7201a8"
             ],
             [
              0.3333333333333333,
              "#9c179e"
             ],
             [
              0.4444444444444444,
              "#bd3786"
             ],
             [
              0.5555555555555556,
              "#d8576b"
             ],
             [
              0.6666666666666666,
              "#ed7953"
             ],
             [
              0.7777777777777778,
              "#fb9f3a"
             ],
             [
              0.8888888888888888,
              "#fdca26"
             ],
             [
              1,
              "#f0f921"
             ]
            ],
            "type": "histogram2dcontour"
           }
          ],
          "mesh3d": [
           {
            "colorbar": {
             "outlinewidth": 0,
             "ticks": ""
            },
            "type": "mesh3d"
           }
          ],
          "parcoords": [
           {
            "line": {
             "colorbar": {
              "outlinewidth": 0,
              "ticks": ""
             }
            },
            "type": "parcoords"
           }
          ],
          "scatter": [
           {
            "marker": {
             "colorbar": {
              "outlinewidth": 0,
              "ticks": ""
             }
            },
            "type": "scatter"
           }
          ],
          "scatter3d": [
           {
            "line": {
             "colorbar": {
              "outlinewidth": 0,
              "ticks": ""
             }
            },
            "marker": {
             "colorbar": {
              "outlinewidth": 0,
              "ticks": ""
             }
            },
            "type": "scatter3d"
           }
          ],
          "scattercarpet": [
           {
            "marker": {
             "colorbar": {
              "outlinewidth": 0,
              "ticks": ""
             }
            },
            "type": "scattercarpet"
           }
          ],
          "scattergeo": [
           {
            "marker": {
             "colorbar": {
              "outlinewidth": 0,
              "ticks": ""
             }
            },
            "type": "scattergeo"
           }
          ],
          "scattergl": [
           {
            "marker": {
             "colorbar": {
              "outlinewidth": 0,
              "ticks": ""
             }
            },
            "type": "scattergl"
           }
          ],
          "scattermapbox": [
           {
            "marker": {
             "colorbar": {
              "outlinewidth": 0,
              "ticks": ""
             }
            },
            "type": "scattermapbox"
           }
          ],
          "scatterpolar": [
           {
            "marker": {
             "colorbar": {
              "outlinewidth": 0,
              "ticks": ""
             }
            },
            "type": "scatterpolar"
           }
          ],
          "scatterpolargl": [
           {
            "marker": {
             "colorbar": {
              "outlinewidth": 0,
              "ticks": ""
             }
            },
            "type": "scatterpolargl"
           }
          ],
          "scatterternary": [
           {
            "marker": {
             "colorbar": {
              "outlinewidth": 0,
              "ticks": ""
             }
            },
            "type": "scatterternary"
           }
          ],
          "surface": [
           {
            "colorbar": {
             "outlinewidth": 0,
             "ticks": ""
            },
            "colorscale": [
             [
              0,
              "#0d0887"
             ],
             [
              0.1111111111111111,
              "#46039f"
             ],
             [
              0.2222222222222222,
              "#7201a8"
             ],
             [
              0.3333333333333333,
              "#9c179e"
             ],
             [
              0.4444444444444444,
              "#bd3786"
             ],
             [
              0.5555555555555556,
              "#d8576b"
             ],
             [
              0.6666666666666666,
              "#ed7953"
             ],
             [
              0.7777777777777778,
              "#fb9f3a"
             ],
             [
              0.8888888888888888,
              "#fdca26"
             ],
             [
              1,
              "#f0f921"
             ]
            ],
            "type": "surface"
           }
          ],
          "table": [
           {
            "cells": {
             "fill": {
              "color": "#EBF0F8"
             },
             "line": {
              "color": "white"
             }
            },
            "header": {
             "fill": {
              "color": "#C8D4E3"
             },
             "line": {
              "color": "white"
             }
            },
            "type": "table"
           }
          ]
         },
         "layout": {
          "annotationdefaults": {
           "arrowcolor": "#2a3f5f",
           "arrowhead": 0,
           "arrowwidth": 1
          },
          "colorscale": {
           "diverging": [
            [
             0,
             "#8e0152"
            ],
            [
             0.1,
             "#c51b7d"
            ],
            [
             0.2,
             "#de77ae"
            ],
            [
             0.3,
             "#f1b6da"
            ],
            [
             0.4,
             "#fde0ef"
            ],
            [
             0.5,
             "#f7f7f7"
            ],
            [
             0.6,
             "#e6f5d0"
            ],
            [
             0.7,
             "#b8e186"
            ],
            [
             0.8,
             "#7fbc41"
            ],
            [
             0.9,
             "#4d9221"
            ],
            [
             1,
             "#276419"
            ]
           ],
           "sequential": [
            [
             0,
             "#0d0887"
            ],
            [
             0.1111111111111111,
             "#46039f"
            ],
            [
             0.2222222222222222,
             "#7201a8"
            ],
            [
             0.3333333333333333,
             "#9c179e"
            ],
            [
             0.4444444444444444,
             "#bd3786"
            ],
            [
             0.5555555555555556,
             "#d8576b"
            ],
            [
             0.6666666666666666,
             "#ed7953"
            ],
            [
             0.7777777777777778,
             "#fb9f3a"
            ],
            [
             0.8888888888888888,
             "#fdca26"
            ],
            [
             1,
             "#f0f921"
            ]
           ],
           "sequentialminus": [
            [
             0,
             "#0d0887"
            ],
            [
             0.1111111111111111,
             "#46039f"
            ],
            [
             0.2222222222222222,
             "#7201a8"
            ],
            [
             0.3333333333333333,
             "#9c179e"
            ],
            [
             0.4444444444444444,
             "#bd3786"
            ],
            [
             0.5555555555555556,
             "#d8576b"
            ],
            [
             0.6666666666666666,
             "#ed7953"
            ],
            [
             0.7777777777777778,
             "#fb9f3a"
            ],
            [
             0.8888888888888888,
             "#fdca26"
            ],
            [
             1,
             "#f0f921"
            ]
           ]
          },
          "colorway": [
           "#636efa",
           "#EF553B",
           "#00cc96",
           "#ab63fa",
           "#FFA15A",
           "#19d3f3",
           "#FF6692",
           "#B6E880",
           "#FF97FF",
           "#FECB52"
          ],
          "font": {
           "color": "#2a3f5f"
          },
          "geo": {
           "bgcolor": "white",
           "lakecolor": "white",
           "landcolor": "#E5ECF6",
           "showlakes": true,
           "showland": true,
           "subunitcolor": "white"
          },
          "hoverlabel": {
           "align": "left"
          },
          "hovermode": "closest",
          "mapbox": {
           "style": "light"
          },
          "paper_bgcolor": "white",
          "plot_bgcolor": "#E5ECF6",
          "polar": {
           "angularaxis": {
            "gridcolor": "white",
            "linecolor": "white",
            "ticks": ""
           },
           "bgcolor": "#E5ECF6",
           "radialaxis": {
            "gridcolor": "white",
            "linecolor": "white",
            "ticks": ""
           }
          },
          "scene": {
           "xaxis": {
            "backgroundcolor": "#E5ECF6",
            "gridcolor": "white",
            "gridwidth": 2,
            "linecolor": "white",
            "showbackground": true,
            "ticks": "",
            "zerolinecolor": "white"
           },
           "yaxis": {
            "backgroundcolor": "#E5ECF6",
            "gridcolor": "white",
            "gridwidth": 2,
            "linecolor": "white",
            "showbackground": true,
            "ticks": "",
            "zerolinecolor": "white"
           },
           "zaxis": {
            "backgroundcolor": "#E5ECF6",
            "gridcolor": "white",
            "gridwidth": 2,
            "linecolor": "white",
            "showbackground": true,
            "ticks": "",
            "zerolinecolor": "white"
           }
          },
          "shapedefaults": {
           "line": {
            "color": "#2a3f5f"
           }
          },
          "ternary": {
           "aaxis": {
            "gridcolor": "white",
            "linecolor": "white",
            "ticks": ""
           },
           "baxis": {
            "gridcolor": "white",
            "linecolor": "white",
            "ticks": ""
           },
           "bgcolor": "#E5ECF6",
           "caxis": {
            "gridcolor": "white",
            "linecolor": "white",
            "ticks": ""
           }
          },
          "title": {
           "x": 0.05
          },
          "xaxis": {
           "automargin": true,
           "gridcolor": "white",
           "linecolor": "white",
           "ticks": "",
           "zerolinecolor": "white",
           "zerolinewidth": 2
          },
          "yaxis": {
           "automargin": true,
           "gridcolor": "white",
           "linecolor": "white",
           "ticks": "",
           "zerolinecolor": "white",
           "zerolinewidth": 2
          }
         }
        },
        "title": {
         "font": {
          "color": "#4D5663"
         }
        },
        "xaxis": {
         "gridcolor": "#E1E5ED",
         "showgrid": true,
         "tickfont": {
          "color": "#4D5663"
         },
         "title": {
          "font": {
           "color": "#4D5663"
          },
          "text": ""
         },
         "zerolinecolor": "#E1E5ED"
        },
        "yaxis": {
         "gridcolor": "#E1E5ED",
         "showgrid": true,
         "tickfont": {
          "color": "#4D5663"
         },
         "title": {
          "font": {
           "color": "#4D5663"
          },
          "text": ""
         },
         "zerolinecolor": "#E1E5ED"
        }
       }
      },
      "text/html": [
       "<div>\n",
       "        \n",
       "        \n",
       "            <div id=\"b0e4bae0-f967-41cf-91d1-4e6ce404c6f6\" class=\"plotly-graph-div\" style=\"height:525px; width:100%;\"></div>\n",
       "            <script type=\"text/javascript\">\n",
       "                require([\"plotly\"], function(Plotly) {\n",
       "                    window.PLOTLYENV=window.PLOTLYENV || {};\n",
       "                    window.PLOTLYENV.BASE_URL='https://plot.ly';\n",
       "                    \n",
       "                if (document.getElementById(\"b0e4bae0-f967-41cf-91d1-4e6ce404c6f6\")) {\n",
       "                    Plotly.newPlot(\n",
       "                        'b0e4bae0-f967-41cf-91d1-4e6ce404c6f6',\n",
       "                        [{\"marker\": {\"color\": \"rgba(255, 153, 51, 0.6)\", \"line\": {\"color\": \"rgba(255, 153, 51, 1.0)\", \"width\": 1}}, \"name\": \"values\", \"orientation\": \"v\", \"text\": \"\", \"type\": \"bar\", \"x\": [\"A\", \"B\", \"C\"], \"y\": [32, 43, 50]}],\n",
       "                        {\"legend\": {\"bgcolor\": \"#F5F6F9\", \"font\": {\"color\": \"#4D5663\"}}, \"paper_bgcolor\": \"#F5F6F9\", \"plot_bgcolor\": \"#F5F6F9\", \"template\": {\"data\": {\"bar\": [{\"error_x\": {\"color\": \"#2a3f5f\"}, \"error_y\": {\"color\": \"#2a3f5f\"}, \"marker\": {\"line\": {\"color\": \"#E5ECF6\", \"width\": 0.5}}, \"type\": \"bar\"}], \"barpolar\": [{\"marker\": {\"line\": {\"color\": \"#E5ECF6\", \"width\": 0.5}}, \"type\": \"barpolar\"}], \"carpet\": [{\"aaxis\": {\"endlinecolor\": \"#2a3f5f\", \"gridcolor\": \"white\", \"linecolor\": \"white\", \"minorgridcolor\": \"white\", \"startlinecolor\": \"#2a3f5f\"}, \"baxis\": {\"endlinecolor\": \"#2a3f5f\", \"gridcolor\": \"white\", \"linecolor\": \"white\", \"minorgridcolor\": \"white\", \"startlinecolor\": \"#2a3f5f\"}, \"type\": \"carpet\"}], \"choropleth\": [{\"colorbar\": {\"outlinewidth\": 0, \"ticks\": \"\"}, \"type\": \"choropleth\"}], \"contour\": [{\"colorbar\": {\"outlinewidth\": 0, \"ticks\": \"\"}, \"colorscale\": [[0.0, \"#0d0887\"], [0.1111111111111111, \"#46039f\"], [0.2222222222222222, \"#7201a8\"], [0.3333333333333333, \"#9c179e\"], [0.4444444444444444, \"#bd3786\"], [0.5555555555555556, \"#d8576b\"], [0.6666666666666666, \"#ed7953\"], [0.7777777777777778, \"#fb9f3a\"], [0.8888888888888888, \"#fdca26\"], [1.0, \"#f0f921\"]], \"type\": \"contour\"}], \"contourcarpet\": [{\"colorbar\": {\"outlinewidth\": 0, \"ticks\": \"\"}, \"type\": \"contourcarpet\"}], \"heatmap\": [{\"colorbar\": {\"outlinewidth\": 0, \"ticks\": \"\"}, \"colorscale\": [[0.0, \"#0d0887\"], [0.1111111111111111, \"#46039f\"], [0.2222222222222222, \"#7201a8\"], [0.3333333333333333, \"#9c179e\"], [0.4444444444444444, \"#bd3786\"], [0.5555555555555556, \"#d8576b\"], [0.6666666666666666, \"#ed7953\"], [0.7777777777777778, \"#fb9f3a\"], [0.8888888888888888, \"#fdca26\"], [1.0, \"#f0f921\"]], \"type\": \"heatmap\"}], \"heatmapgl\": [{\"colorbar\": {\"outlinewidth\": 0, \"ticks\": \"\"}, \"colorscale\": [[0.0, \"#0d0887\"], [0.1111111111111111, \"#46039f\"], [0.2222222222222222, \"#7201a8\"], [0.3333333333333333, \"#9c179e\"], [0.4444444444444444, \"#bd3786\"], [0.5555555555555556, \"#d8576b\"], [0.6666666666666666, \"#ed7953\"], [0.7777777777777778, \"#fb9f3a\"], [0.8888888888888888, \"#fdca26\"], [1.0, \"#f0f921\"]], \"type\": \"heatmapgl\"}], \"histogram\": [{\"marker\": {\"colorbar\": {\"outlinewidth\": 0, \"ticks\": \"\"}}, \"type\": \"histogram\"}], \"histogram2d\": [{\"colorbar\": {\"outlinewidth\": 0, \"ticks\": \"\"}, \"colorscale\": [[0.0, \"#0d0887\"], [0.1111111111111111, \"#46039f\"], [0.2222222222222222, \"#7201a8\"], [0.3333333333333333, \"#9c179e\"], [0.4444444444444444, \"#bd3786\"], [0.5555555555555556, \"#d8576b\"], [0.6666666666666666, \"#ed7953\"], [0.7777777777777778, \"#fb9f3a\"], [0.8888888888888888, \"#fdca26\"], [1.0, \"#f0f921\"]], \"type\": \"histogram2d\"}], \"histogram2dcontour\": [{\"colorbar\": {\"outlinewidth\": 0, \"ticks\": \"\"}, \"colorscale\": [[0.0, \"#0d0887\"], [0.1111111111111111, \"#46039f\"], [0.2222222222222222, \"#7201a8\"], [0.3333333333333333, \"#9c179e\"], [0.4444444444444444, \"#bd3786\"], [0.5555555555555556, \"#d8576b\"], [0.6666666666666666, \"#ed7953\"], [0.7777777777777778, \"#fb9f3a\"], [0.8888888888888888, \"#fdca26\"], [1.0, \"#f0f921\"]], \"type\": \"histogram2dcontour\"}], \"mesh3d\": [{\"colorbar\": {\"outlinewidth\": 0, \"ticks\": \"\"}, \"type\": \"mesh3d\"}], \"parcoords\": [{\"line\": {\"colorbar\": {\"outlinewidth\": 0, \"ticks\": \"\"}}, \"type\": \"parcoords\"}], \"scatter\": [{\"marker\": {\"colorbar\": {\"outlinewidth\": 0, \"ticks\": \"\"}}, \"type\": \"scatter\"}], \"scatter3d\": [{\"line\": {\"colorbar\": {\"outlinewidth\": 0, \"ticks\": \"\"}}, \"marker\": {\"colorbar\": {\"outlinewidth\": 0, \"ticks\": \"\"}}, \"type\": \"scatter3d\"}], \"scattercarpet\": [{\"marker\": {\"colorbar\": {\"outlinewidth\": 0, \"ticks\": \"\"}}, \"type\": \"scattercarpet\"}], \"scattergeo\": [{\"marker\": {\"colorbar\": {\"outlinewidth\": 0, \"ticks\": \"\"}}, \"type\": \"scattergeo\"}], \"scattergl\": [{\"marker\": {\"colorbar\": {\"outlinewidth\": 0, \"ticks\": \"\"}}, \"type\": \"scattergl\"}], \"scattermapbox\": [{\"marker\": {\"colorbar\": {\"outlinewidth\": 0, \"ticks\": \"\"}}, \"type\": \"scattermapbox\"}], \"scatterpolar\": [{\"marker\": {\"colorbar\": {\"outlinewidth\": 0, \"ticks\": \"\"}}, \"type\": \"scatterpolar\"}], \"scatterpolargl\": [{\"marker\": {\"colorbar\": {\"outlinewidth\": 0, \"ticks\": \"\"}}, \"type\": \"scatterpolargl\"}], \"scatterternary\": [{\"marker\": {\"colorbar\": {\"outlinewidth\": 0, \"ticks\": \"\"}}, \"type\": \"scatterternary\"}], \"surface\": [{\"colorbar\": {\"outlinewidth\": 0, \"ticks\": \"\"}, \"colorscale\": [[0.0, \"#0d0887\"], [0.1111111111111111, \"#46039f\"], [0.2222222222222222, \"#7201a8\"], [0.3333333333333333, \"#9c179e\"], [0.4444444444444444, \"#bd3786\"], [0.5555555555555556, \"#d8576b\"], [0.6666666666666666, \"#ed7953\"], [0.7777777777777778, \"#fb9f3a\"], [0.8888888888888888, \"#fdca26\"], [1.0, \"#f0f921\"]], \"type\": \"surface\"}], \"table\": [{\"cells\": {\"fill\": {\"color\": \"#EBF0F8\"}, \"line\": {\"color\": \"white\"}}, \"header\": {\"fill\": {\"color\": \"#C8D4E3\"}, \"line\": {\"color\": \"white\"}}, \"type\": \"table\"}]}, \"layout\": {\"annotationdefaults\": {\"arrowcolor\": \"#2a3f5f\", \"arrowhead\": 0, \"arrowwidth\": 1}, \"colorscale\": {\"diverging\": [[0, \"#8e0152\"], [0.1, \"#c51b7d\"], [0.2, \"#de77ae\"], [0.3, \"#f1b6da\"], [0.4, \"#fde0ef\"], [0.5, \"#f7f7f7\"], [0.6, \"#e6f5d0\"], [0.7, \"#b8e186\"], [0.8, \"#7fbc41\"], [0.9, \"#4d9221\"], [1, \"#276419\"]], \"sequential\": [[0.0, \"#0d0887\"], [0.1111111111111111, \"#46039f\"], [0.2222222222222222, \"#7201a8\"], [0.3333333333333333, \"#9c179e\"], [0.4444444444444444, \"#bd3786\"], [0.5555555555555556, \"#d8576b\"], [0.6666666666666666, \"#ed7953\"], [0.7777777777777778, \"#fb9f3a\"], [0.8888888888888888, \"#fdca26\"], [1.0, \"#f0f921\"]], \"sequentialminus\": [[0.0, \"#0d0887\"], [0.1111111111111111, \"#46039f\"], [0.2222222222222222, \"#7201a8\"], [0.3333333333333333, \"#9c179e\"], [0.4444444444444444, \"#bd3786\"], [0.5555555555555556, \"#d8576b\"], [0.6666666666666666, \"#ed7953\"], [0.7777777777777778, \"#fb9f3a\"], [0.8888888888888888, \"#fdca26\"], [1.0, \"#f0f921\"]]}, \"colorway\": [\"#636efa\", \"#EF553B\", \"#00cc96\", \"#ab63fa\", \"#FFA15A\", \"#19d3f3\", \"#FF6692\", \"#B6E880\", \"#FF97FF\", \"#FECB52\"], \"font\": {\"color\": \"#2a3f5f\"}, \"geo\": {\"bgcolor\": \"white\", \"lakecolor\": \"white\", \"landcolor\": \"#E5ECF6\", \"showlakes\": true, \"showland\": true, \"subunitcolor\": \"white\"}, \"hoverlabel\": {\"align\": \"left\"}, \"hovermode\": \"closest\", \"mapbox\": {\"style\": \"light\"}, \"paper_bgcolor\": \"white\", \"plot_bgcolor\": \"#E5ECF6\", \"polar\": {\"angularaxis\": {\"gridcolor\": \"white\", \"linecolor\": \"white\", \"ticks\": \"\"}, \"bgcolor\": \"#E5ECF6\", \"radialaxis\": {\"gridcolor\": \"white\", \"linecolor\": \"white\", \"ticks\": \"\"}}, \"scene\": {\"xaxis\": {\"backgroundcolor\": \"#E5ECF6\", \"gridcolor\": \"white\", \"gridwidth\": 2, \"linecolor\": \"white\", \"showbackground\": true, \"ticks\": \"\", \"zerolinecolor\": \"white\"}, \"yaxis\": {\"backgroundcolor\": \"#E5ECF6\", \"gridcolor\": \"white\", \"gridwidth\": 2, \"linecolor\": \"white\", \"showbackground\": true, \"ticks\": \"\", \"zerolinecolor\": \"white\"}, \"zaxis\": {\"backgroundcolor\": \"#E5ECF6\", \"gridcolor\": \"white\", \"gridwidth\": 2, \"linecolor\": \"white\", \"showbackground\": true, \"ticks\": \"\", \"zerolinecolor\": \"white\"}}, \"shapedefaults\": {\"line\": {\"color\": \"#2a3f5f\"}}, \"ternary\": {\"aaxis\": {\"gridcolor\": \"white\", \"linecolor\": \"white\", \"ticks\": \"\"}, \"baxis\": {\"gridcolor\": \"white\", \"linecolor\": \"white\", \"ticks\": \"\"}, \"bgcolor\": \"#E5ECF6\", \"caxis\": {\"gridcolor\": \"white\", \"linecolor\": \"white\", \"ticks\": \"\"}}, \"title\": {\"x\": 0.05}, \"xaxis\": {\"automargin\": true, \"gridcolor\": \"white\", \"linecolor\": \"white\", \"ticks\": \"\", \"zerolinecolor\": \"white\", \"zerolinewidth\": 2}, \"yaxis\": {\"automargin\": true, \"gridcolor\": \"white\", \"linecolor\": \"white\", \"ticks\": \"\", \"zerolinecolor\": \"white\", \"zerolinewidth\": 2}}}, \"title\": {\"font\": {\"color\": \"#4D5663\"}}, \"xaxis\": {\"gridcolor\": \"#E1E5ED\", \"showgrid\": true, \"tickfont\": {\"color\": \"#4D5663\"}, \"title\": {\"font\": {\"color\": \"#4D5663\"}, \"text\": \"\"}, \"zerolinecolor\": \"#E1E5ED\"}, \"yaxis\": {\"gridcolor\": \"#E1E5ED\", \"showgrid\": true, \"tickfont\": {\"color\": \"#4D5663\"}, \"title\": {\"font\": {\"color\": \"#4D5663\"}, \"text\": \"\"}, \"zerolinecolor\": \"#E1E5ED\"}},\n",
       "                        {\"showLink\": true, \"linkText\": \"Export to plot.ly\", \"plotlyServerURL\": \"https://plot.ly\", \"responsive\": true}\n",
       "                    ).then(function(){\n",
       "                            \n",
       "var gd = document.getElementById('b0e4bae0-f967-41cf-91d1-4e6ce404c6f6');\n",
       "var x = new MutationObserver(function (mutations, observer) {{\n",
       "        var display = window.getComputedStyle(gd).display;\n",
       "        if (!display || display === 'none') {{\n",
       "            console.log([gd, 'removed!']);\n",
       "            Plotly.purge(gd);\n",
       "            observer.disconnect();\n",
       "        }}\n",
       "}});\n",
       "\n",
       "// Listen for the removal of the full notebook cells\n",
       "var notebookContainer = gd.closest('#notebook-container');\n",
       "if (notebookContainer) {{\n",
       "    x.observe(notebookContainer, {childList: true});\n",
       "}}\n",
       "\n",
       "// Listen for the clearing of the current output cell\n",
       "var outputEl = gd.closest('.output');\n",
       "if (outputEl) {{\n",
       "    x.observe(outputEl, {childList: true});\n",
       "}}\n",
       "\n",
       "                        })\n",
       "                };\n",
       "                });\n",
       "            </script>\n",
       "        </div>"
      ]
     },
     "metadata": {},
     "output_type": "display_data"
    }
   ],
   "source": [
    "# bar plot need to specify the x and y\n",
    "\n",
    "df1.iplot(kind = 'bar', x = 'Category', y = 'values')"
   ]
  },
  {
   "cell_type": "code",
   "execution_count": 20,
   "metadata": {},
   "outputs": [
    {
     "data": {
      "application/vnd.plotly.v1+json": {
       "config": {
        "linkText": "Export to plot.ly",
        "plotlyServerURL": "https://plot.ly",
        "showLink": true
       },
       "data": [
        {
         "marker": {
          "color": "rgba(255, 153, 51, 0.6)",
          "line": {
           "color": "rgba(255, 153, 51, 1.0)",
           "width": 1
          }
         },
         "name": "None",
         "orientation": "v",
         "text": "",
         "type": "bar",
         "x": [
          "A",
          "B",
          "C",
          "D"
         ],
         "y": [
          100,
          100,
          100,
          100
         ]
        }
       ],
       "layout": {
        "legend": {
         "bgcolor": "#F5F6F9",
         "font": {
          "color": "#4D5663"
         }
        },
        "paper_bgcolor": "#F5F6F9",
        "plot_bgcolor": "#F5F6F9",
        "template": {
         "data": {
          "bar": [
           {
            "error_x": {
             "color": "#2a3f5f"
            },
            "error_y": {
             "color": "#2a3f5f"
            },
            "marker": {
             "line": {
              "color": "#E5ECF6",
              "width": 0.5
             }
            },
            "type": "bar"
           }
          ],
          "barpolar": [
           {
            "marker": {
             "line": {
              "color": "#E5ECF6",
              "width": 0.5
             }
            },
            "type": "barpolar"
           }
          ],
          "carpet": [
           {
            "aaxis": {
             "endlinecolor": "#2a3f5f",
             "gridcolor": "white",
             "linecolor": "white",
             "minorgridcolor": "white",
             "startlinecolor": "#2a3f5f"
            },
            "baxis": {
             "endlinecolor": "#2a3f5f",
             "gridcolor": "white",
             "linecolor": "white",
             "minorgridcolor": "white",
             "startlinecolor": "#2a3f5f"
            },
            "type": "carpet"
           }
          ],
          "choropleth": [
           {
            "colorbar": {
             "outlinewidth": 0,
             "ticks": ""
            },
            "type": "choropleth"
           }
          ],
          "contour": [
           {
            "colorbar": {
             "outlinewidth": 0,
             "ticks": ""
            },
            "colorscale": [
             [
              0,
              "#0d0887"
             ],
             [
              0.1111111111111111,
              "#46039f"
             ],
             [
              0.2222222222222222,
              "#7201a8"
             ],
             [
              0.3333333333333333,
              "#9c179e"
             ],
             [
              0.4444444444444444,
              "#bd3786"
             ],
             [
              0.5555555555555556,
              "#d8576b"
             ],
             [
              0.6666666666666666,
              "#ed7953"
             ],
             [
              0.7777777777777778,
              "#fb9f3a"
             ],
             [
              0.8888888888888888,
              "#fdca26"
             ],
             [
              1,
              "#f0f921"
             ]
            ],
            "type": "contour"
           }
          ],
          "contourcarpet": [
           {
            "colorbar": {
             "outlinewidth": 0,
             "ticks": ""
            },
            "type": "contourcarpet"
           }
          ],
          "heatmap": [
           {
            "colorbar": {
             "outlinewidth": 0,
             "ticks": ""
            },
            "colorscale": [
             [
              0,
              "#0d0887"
             ],
             [
              0.1111111111111111,
              "#46039f"
             ],
             [
              0.2222222222222222,
              "#7201a8"
             ],
             [
              0.3333333333333333,
              "#9c179e"
             ],
             [
              0.4444444444444444,
              "#bd3786"
             ],
             [
              0.5555555555555556,
              "#d8576b"
             ],
             [
              0.6666666666666666,
              "#ed7953"
             ],
             [
              0.7777777777777778,
              "#fb9f3a"
             ],
             [
              0.8888888888888888,
              "#fdca26"
             ],
             [
              1,
              "#f0f921"
             ]
            ],
            "type": "heatmap"
           }
          ],
          "heatmapgl": [
           {
            "colorbar": {
             "outlinewidth": 0,
             "ticks": ""
            },
            "colorscale": [
             [
              0,
              "#0d0887"
             ],
             [
              0.1111111111111111,
              "#46039f"
             ],
             [
              0.2222222222222222,
              "#7201a8"
             ],
             [
              0.3333333333333333,
              "#9c179e"
             ],
             [
              0.4444444444444444,
              "#bd3786"
             ],
             [
              0.5555555555555556,
              "#d8576b"
             ],
             [
              0.6666666666666666,
              "#ed7953"
             ],
             [
              0.7777777777777778,
              "#fb9f3a"
             ],
             [
              0.8888888888888888,
              "#fdca26"
             ],
             [
              1,
              "#f0f921"
             ]
            ],
            "type": "heatmapgl"
           }
          ],
          "histogram": [
           {
            "marker": {
             "colorbar": {
              "outlinewidth": 0,
              "ticks": ""
             }
            },
            "type": "histogram"
           }
          ],
          "histogram2d": [
           {
            "colorbar": {
             "outlinewidth": 0,
             "ticks": ""
            },
            "colorscale": [
             [
              0,
              "#0d0887"
             ],
             [
              0.1111111111111111,
              "#46039f"
             ],
             [
              0.2222222222222222,
              "#7201a8"
             ],
             [
              0.3333333333333333,
              "#9c179e"
             ],
             [
              0.4444444444444444,
              "#bd3786"
             ],
             [
              0.5555555555555556,
              "#d8576b"
             ],
             [
              0.6666666666666666,
              "#ed7953"
             ],
             [
              0.7777777777777778,
              "#fb9f3a"
             ],
             [
              0.8888888888888888,
              "#fdca26"
             ],
             [
              1,
              "#f0f921"
             ]
            ],
            "type": "histogram2d"
           }
          ],
          "histogram2dcontour": [
           {
            "colorbar": {
             "outlinewidth": 0,
             "ticks": ""
            },
            "colorscale": [
             [
              0,
              "#0d0887"
             ],
             [
              0.1111111111111111,
              "#46039f"
             ],
             [
              0.2222222222222222,
              "#7201a8"
             ],
             [
              0.3333333333333333,
              "#9c179e"
             ],
             [
              0.4444444444444444,
              "#bd3786"
             ],
             [
              0.5555555555555556,
              "#d8576b"
             ],
             [
              0.6666666666666666,
              "#ed7953"
             ],
             [
              0.7777777777777778,
              "#fb9f3a"
             ],
             [
              0.8888888888888888,
              "#fdca26"
             ],
             [
              1,
              "#f0f921"
             ]
            ],
            "type": "histogram2dcontour"
           }
          ],
          "mesh3d": [
           {
            "colorbar": {
             "outlinewidth": 0,
             "ticks": ""
            },
            "type": "mesh3d"
           }
          ],
          "parcoords": [
           {
            "line": {
             "colorbar": {
              "outlinewidth": 0,
              "ticks": ""
             }
            },
            "type": "parcoords"
           }
          ],
          "scatter": [
           {
            "marker": {
             "colorbar": {
              "outlinewidth": 0,
              "ticks": ""
             }
            },
            "type": "scatter"
           }
          ],
          "scatter3d": [
           {
            "line": {
             "colorbar": {
              "outlinewidth": 0,
              "ticks": ""
             }
            },
            "marker": {
             "colorbar": {
              "outlinewidth": 0,
              "ticks": ""
             }
            },
            "type": "scatter3d"
           }
          ],
          "scattercarpet": [
           {
            "marker": {
             "colorbar": {
              "outlinewidth": 0,
              "ticks": ""
             }
            },
            "type": "scattercarpet"
           }
          ],
          "scattergeo": [
           {
            "marker": {
             "colorbar": {
              "outlinewidth": 0,
              "ticks": ""
             }
            },
            "type": "scattergeo"
           }
          ],
          "scattergl": [
           {
            "marker": {
             "colorbar": {
              "outlinewidth": 0,
              "ticks": ""
             }
            },
            "type": "scattergl"
           }
          ],
          "scattermapbox": [
           {
            "marker": {
             "colorbar": {
              "outlinewidth": 0,
              "ticks": ""
             }
            },
            "type": "scattermapbox"
           }
          ],
          "scatterpolar": [
           {
            "marker": {
             "colorbar": {
              "outlinewidth": 0,
              "ticks": ""
             }
            },
            "type": "scatterpolar"
           }
          ],
          "scatterpolargl": [
           {
            "marker": {
             "colorbar": {
              "outlinewidth": 0,
              "ticks": ""
             }
            },
            "type": "scatterpolargl"
           }
          ],
          "scatterternary": [
           {
            "marker": {
             "colorbar": {
              "outlinewidth": 0,
              "ticks": ""
             }
            },
            "type": "scatterternary"
           }
          ],
          "surface": [
           {
            "colorbar": {
             "outlinewidth": 0,
             "ticks": ""
            },
            "colorscale": [
             [
              0,
              "#0d0887"
             ],
             [
              0.1111111111111111,
              "#46039f"
             ],
             [
              0.2222222222222222,
              "#7201a8"
             ],
             [
              0.3333333333333333,
              "#9c179e"
             ],
             [
              0.4444444444444444,
              "#bd3786"
             ],
             [
              0.5555555555555556,
              "#d8576b"
             ],
             [
              0.6666666666666666,
              "#ed7953"
             ],
             [
              0.7777777777777778,
              "#fb9f3a"
             ],
             [
              0.8888888888888888,
              "#fdca26"
             ],
             [
              1,
              "#f0f921"
             ]
            ],
            "type": "surface"
           }
          ],
          "table": [
           {
            "cells": {
             "fill": {
              "color": "#EBF0F8"
             },
             "line": {
              "color": "white"
             }
            },
            "header": {
             "fill": {
              "color": "#C8D4E3"
             },
             "line": {
              "color": "white"
             }
            },
            "type": "table"
           }
          ]
         },
         "layout": {
          "annotationdefaults": {
           "arrowcolor": "#2a3f5f",
           "arrowhead": 0,
           "arrowwidth": 1
          },
          "colorscale": {
           "diverging": [
            [
             0,
             "#8e0152"
            ],
            [
             0.1,
             "#c51b7d"
            ],
            [
             0.2,
             "#de77ae"
            ],
            [
             0.3,
             "#f1b6da"
            ],
            [
             0.4,
             "#fde0ef"
            ],
            [
             0.5,
             "#f7f7f7"
            ],
            [
             0.6,
             "#e6f5d0"
            ],
            [
             0.7,
             "#b8e186"
            ],
            [
             0.8,
             "#7fbc41"
            ],
            [
             0.9,
             "#4d9221"
            ],
            [
             1,
             "#276419"
            ]
           ],
           "sequential": [
            [
             0,
             "#0d0887"
            ],
            [
             0.1111111111111111,
             "#46039f"
            ],
            [
             0.2222222222222222,
             "#7201a8"
            ],
            [
             0.3333333333333333,
             "#9c179e"
            ],
            [
             0.4444444444444444,
             "#bd3786"
            ],
            [
             0.5555555555555556,
             "#d8576b"
            ],
            [
             0.6666666666666666,
             "#ed7953"
            ],
            [
             0.7777777777777778,
             "#fb9f3a"
            ],
            [
             0.8888888888888888,
             "#fdca26"
            ],
            [
             1,
             "#f0f921"
            ]
           ],
           "sequentialminus": [
            [
             0,
             "#0d0887"
            ],
            [
             0.1111111111111111,
             "#46039f"
            ],
            [
             0.2222222222222222,
             "#7201a8"
            ],
            [
             0.3333333333333333,
             "#9c179e"
            ],
            [
             0.4444444444444444,
             "#bd3786"
            ],
            [
             0.5555555555555556,
             "#d8576b"
            ],
            [
             0.6666666666666666,
             "#ed7953"
            ],
            [
             0.7777777777777778,
             "#fb9f3a"
            ],
            [
             0.8888888888888888,
             "#fdca26"
            ],
            [
             1,
             "#f0f921"
            ]
           ]
          },
          "colorway": [
           "#636efa",
           "#EF553B",
           "#00cc96",
           "#ab63fa",
           "#FFA15A",
           "#19d3f3",
           "#FF6692",
           "#B6E880",
           "#FF97FF",
           "#FECB52"
          ],
          "font": {
           "color": "#2a3f5f"
          },
          "geo": {
           "bgcolor": "white",
           "lakecolor": "white",
           "landcolor": "#E5ECF6",
           "showlakes": true,
           "showland": true,
           "subunitcolor": "white"
          },
          "hoverlabel": {
           "align": "left"
          },
          "hovermode": "closest",
          "mapbox": {
           "style": "light"
          },
          "paper_bgcolor": "white",
          "plot_bgcolor": "#E5ECF6",
          "polar": {
           "angularaxis": {
            "gridcolor": "white",
            "linecolor": "white",
            "ticks": ""
           },
           "bgcolor": "#E5ECF6",
           "radialaxis": {
            "gridcolor": "white",
            "linecolor": "white",
            "ticks": ""
           }
          },
          "scene": {
           "xaxis": {
            "backgroundcolor": "#E5ECF6",
            "gridcolor": "white",
            "gridwidth": 2,
            "linecolor": "white",
            "showbackground": true,
            "ticks": "",
            "zerolinecolor": "white"
           },
           "yaxis": {
            "backgroundcolor": "#E5ECF6",
            "gridcolor": "white",
            "gridwidth": 2,
            "linecolor": "white",
            "showbackground": true,
            "ticks": "",
            "zerolinecolor": "white"
           },
           "zaxis": {
            "backgroundcolor": "#E5ECF6",
            "gridcolor": "white",
            "gridwidth": 2,
            "linecolor": "white",
            "showbackground": true,
            "ticks": "",
            "zerolinecolor": "white"
           }
          },
          "shapedefaults": {
           "line": {
            "color": "#2a3f5f"
           }
          },
          "ternary": {
           "aaxis": {
            "gridcolor": "white",
            "linecolor": "white",
            "ticks": ""
           },
           "baxis": {
            "gridcolor": "white",
            "linecolor": "white",
            "ticks": ""
           },
           "bgcolor": "#E5ECF6",
           "caxis": {
            "gridcolor": "white",
            "linecolor": "white",
            "ticks": ""
           }
          },
          "title": {
           "x": 0.05
          },
          "xaxis": {
           "automargin": true,
           "gridcolor": "white",
           "linecolor": "white",
           "ticks": "",
           "zerolinecolor": "white",
           "zerolinewidth": 2
          },
          "yaxis": {
           "automargin": true,
           "gridcolor": "white",
           "linecolor": "white",
           "ticks": "",
           "zerolinecolor": "white",
           "zerolinewidth": 2
          }
         }
        },
        "title": {
         "font": {
          "color": "#4D5663"
         }
        },
        "xaxis": {
         "gridcolor": "#E1E5ED",
         "showgrid": true,
         "tickfont": {
          "color": "#4D5663"
         },
         "title": {
          "font": {
           "color": "#4D5663"
          },
          "text": ""
         },
         "zerolinecolor": "#E1E5ED"
        },
        "yaxis": {
         "gridcolor": "#E1E5ED",
         "showgrid": true,
         "tickfont": {
          "color": "#4D5663"
         },
         "title": {
          "font": {
           "color": "#4D5663"
          },
          "text": ""
         },
         "zerolinecolor": "#E1E5ED"
        }
       }
      },
      "text/html": [
       "<div>\n",
       "        \n",
       "        \n",
       "            <div id=\"b35087ef-a5b7-4267-8a88-a24a078aa5f6\" class=\"plotly-graph-div\" style=\"height:525px; width:100%;\"></div>\n",
       "            <script type=\"text/javascript\">\n",
       "                require([\"plotly\"], function(Plotly) {\n",
       "                    window.PLOTLYENV=window.PLOTLYENV || {};\n",
       "                    window.PLOTLYENV.BASE_URL='https://plot.ly';\n",
       "                    \n",
       "                if (document.getElementById(\"b35087ef-a5b7-4267-8a88-a24a078aa5f6\")) {\n",
       "                    Plotly.newPlot(\n",
       "                        'b35087ef-a5b7-4267-8a88-a24a078aa5f6',\n",
       "                        [{\"marker\": {\"color\": \"rgba(255, 153, 51, 0.6)\", \"line\": {\"color\": \"rgba(255, 153, 51, 1.0)\", \"width\": 1}}, \"name\": \"None\", \"orientation\": \"v\", \"text\": \"\", \"type\": \"bar\", \"x\": [\"A\", \"B\", \"C\", \"D\"], \"y\": [100, 100, 100, 100]}],\n",
       "                        {\"legend\": {\"bgcolor\": \"#F5F6F9\", \"font\": {\"color\": \"#4D5663\"}}, \"paper_bgcolor\": \"#F5F6F9\", \"plot_bgcolor\": \"#F5F6F9\", \"template\": {\"data\": {\"bar\": [{\"error_x\": {\"color\": \"#2a3f5f\"}, \"error_y\": {\"color\": \"#2a3f5f\"}, \"marker\": {\"line\": {\"color\": \"#E5ECF6\", \"width\": 0.5}}, \"type\": \"bar\"}], \"barpolar\": [{\"marker\": {\"line\": {\"color\": \"#E5ECF6\", \"width\": 0.5}}, \"type\": \"barpolar\"}], \"carpet\": [{\"aaxis\": {\"endlinecolor\": \"#2a3f5f\", \"gridcolor\": \"white\", \"linecolor\": \"white\", \"minorgridcolor\": \"white\", \"startlinecolor\": \"#2a3f5f\"}, \"baxis\": {\"endlinecolor\": \"#2a3f5f\", \"gridcolor\": \"white\", \"linecolor\": \"white\", \"minorgridcolor\": \"white\", \"startlinecolor\": \"#2a3f5f\"}, \"type\": \"carpet\"}], \"choropleth\": [{\"colorbar\": {\"outlinewidth\": 0, \"ticks\": \"\"}, \"type\": \"choropleth\"}], \"contour\": [{\"colorbar\": {\"outlinewidth\": 0, \"ticks\": \"\"}, \"colorscale\": [[0.0, \"#0d0887\"], [0.1111111111111111, \"#46039f\"], [0.2222222222222222, \"#7201a8\"], [0.3333333333333333, \"#9c179e\"], [0.4444444444444444, \"#bd3786\"], [0.5555555555555556, \"#d8576b\"], [0.6666666666666666, \"#ed7953\"], [0.7777777777777778, \"#fb9f3a\"], [0.8888888888888888, \"#fdca26\"], [1.0, \"#f0f921\"]], \"type\": \"contour\"}], \"contourcarpet\": [{\"colorbar\": {\"outlinewidth\": 0, \"ticks\": \"\"}, \"type\": \"contourcarpet\"}], \"heatmap\": [{\"colorbar\": {\"outlinewidth\": 0, \"ticks\": \"\"}, \"colorscale\": [[0.0, \"#0d0887\"], [0.1111111111111111, \"#46039f\"], [0.2222222222222222, \"#7201a8\"], [0.3333333333333333, \"#9c179e\"], [0.4444444444444444, \"#bd3786\"], [0.5555555555555556, \"#d8576b\"], [0.6666666666666666, \"#ed7953\"], [0.7777777777777778, \"#fb9f3a\"], [0.8888888888888888, \"#fdca26\"], [1.0, \"#f0f921\"]], \"type\": \"heatmap\"}], \"heatmapgl\": [{\"colorbar\": {\"outlinewidth\": 0, \"ticks\": \"\"}, \"colorscale\": [[0.0, \"#0d0887\"], [0.1111111111111111, \"#46039f\"], [0.2222222222222222, \"#7201a8\"], [0.3333333333333333, \"#9c179e\"], [0.4444444444444444, \"#bd3786\"], [0.5555555555555556, \"#d8576b\"], [0.6666666666666666, \"#ed7953\"], [0.7777777777777778, \"#fb9f3a\"], [0.8888888888888888, \"#fdca26\"], [1.0, \"#f0f921\"]], \"type\": \"heatmapgl\"}], \"histogram\": [{\"marker\": {\"colorbar\": {\"outlinewidth\": 0, \"ticks\": \"\"}}, \"type\": \"histogram\"}], \"histogram2d\": [{\"colorbar\": {\"outlinewidth\": 0, \"ticks\": \"\"}, \"colorscale\": [[0.0, \"#0d0887\"], [0.1111111111111111, \"#46039f\"], [0.2222222222222222, \"#7201a8\"], [0.3333333333333333, \"#9c179e\"], [0.4444444444444444, \"#bd3786\"], [0.5555555555555556, \"#d8576b\"], [0.6666666666666666, \"#ed7953\"], [0.7777777777777778, \"#fb9f3a\"], [0.8888888888888888, \"#fdca26\"], [1.0, \"#f0f921\"]], \"type\": \"histogram2d\"}], \"histogram2dcontour\": [{\"colorbar\": {\"outlinewidth\": 0, \"ticks\": \"\"}, \"colorscale\": [[0.0, \"#0d0887\"], [0.1111111111111111, \"#46039f\"], [0.2222222222222222, \"#7201a8\"], [0.3333333333333333, \"#9c179e\"], [0.4444444444444444, \"#bd3786\"], [0.5555555555555556, \"#d8576b\"], [0.6666666666666666, \"#ed7953\"], [0.7777777777777778, \"#fb9f3a\"], [0.8888888888888888, \"#fdca26\"], [1.0, \"#f0f921\"]], \"type\": \"histogram2dcontour\"}], \"mesh3d\": [{\"colorbar\": {\"outlinewidth\": 0, \"ticks\": \"\"}, \"type\": \"mesh3d\"}], \"parcoords\": [{\"line\": {\"colorbar\": {\"outlinewidth\": 0, \"ticks\": \"\"}}, \"type\": \"parcoords\"}], \"scatter\": [{\"marker\": {\"colorbar\": {\"outlinewidth\": 0, \"ticks\": \"\"}}, \"type\": \"scatter\"}], \"scatter3d\": [{\"line\": {\"colorbar\": {\"outlinewidth\": 0, \"ticks\": \"\"}}, \"marker\": {\"colorbar\": {\"outlinewidth\": 0, \"ticks\": \"\"}}, \"type\": \"scatter3d\"}], \"scattercarpet\": [{\"marker\": {\"colorbar\": {\"outlinewidth\": 0, \"ticks\": \"\"}}, \"type\": \"scattercarpet\"}], \"scattergeo\": [{\"marker\": {\"colorbar\": {\"outlinewidth\": 0, \"ticks\": \"\"}}, \"type\": \"scattergeo\"}], \"scattergl\": [{\"marker\": {\"colorbar\": {\"outlinewidth\": 0, \"ticks\": \"\"}}, \"type\": \"scattergl\"}], \"scattermapbox\": [{\"marker\": {\"colorbar\": {\"outlinewidth\": 0, \"ticks\": \"\"}}, \"type\": \"scattermapbox\"}], \"scatterpolar\": [{\"marker\": {\"colorbar\": {\"outlinewidth\": 0, \"ticks\": \"\"}}, \"type\": \"scatterpolar\"}], \"scatterpolargl\": [{\"marker\": {\"colorbar\": {\"outlinewidth\": 0, \"ticks\": \"\"}}, \"type\": \"scatterpolargl\"}], \"scatterternary\": [{\"marker\": {\"colorbar\": {\"outlinewidth\": 0, \"ticks\": \"\"}}, \"type\": \"scatterternary\"}], \"surface\": [{\"colorbar\": {\"outlinewidth\": 0, \"ticks\": \"\"}, \"colorscale\": [[0.0, \"#0d0887\"], [0.1111111111111111, \"#46039f\"], [0.2222222222222222, \"#7201a8\"], [0.3333333333333333, \"#9c179e\"], [0.4444444444444444, \"#bd3786\"], [0.5555555555555556, \"#d8576b\"], [0.6666666666666666, \"#ed7953\"], [0.7777777777777778, \"#fb9f3a\"], [0.8888888888888888, \"#fdca26\"], [1.0, \"#f0f921\"]], \"type\": \"surface\"}], \"table\": [{\"cells\": {\"fill\": {\"color\": \"#EBF0F8\"}, \"line\": {\"color\": \"white\"}}, \"header\": {\"fill\": {\"color\": \"#C8D4E3\"}, \"line\": {\"color\": \"white\"}}, \"type\": \"table\"}]}, \"layout\": {\"annotationdefaults\": {\"arrowcolor\": \"#2a3f5f\", \"arrowhead\": 0, \"arrowwidth\": 1}, \"colorscale\": {\"diverging\": [[0, \"#8e0152\"], [0.1, \"#c51b7d\"], [0.2, \"#de77ae\"], [0.3, \"#f1b6da\"], [0.4, \"#fde0ef\"], [0.5, \"#f7f7f7\"], [0.6, \"#e6f5d0\"], [0.7, \"#b8e186\"], [0.8, \"#7fbc41\"], [0.9, \"#4d9221\"], [1, \"#276419\"]], \"sequential\": [[0.0, \"#0d0887\"], [0.1111111111111111, \"#46039f\"], [0.2222222222222222, \"#7201a8\"], [0.3333333333333333, \"#9c179e\"], [0.4444444444444444, \"#bd3786\"], [0.5555555555555556, \"#d8576b\"], [0.6666666666666666, \"#ed7953\"], [0.7777777777777778, \"#fb9f3a\"], [0.8888888888888888, \"#fdca26\"], [1.0, \"#f0f921\"]], \"sequentialminus\": [[0.0, \"#0d0887\"], [0.1111111111111111, \"#46039f\"], [0.2222222222222222, \"#7201a8\"], [0.3333333333333333, \"#9c179e\"], [0.4444444444444444, \"#bd3786\"], [0.5555555555555556, \"#d8576b\"], [0.6666666666666666, \"#ed7953\"], [0.7777777777777778, \"#fb9f3a\"], [0.8888888888888888, \"#fdca26\"], [1.0, \"#f0f921\"]]}, \"colorway\": [\"#636efa\", \"#EF553B\", \"#00cc96\", \"#ab63fa\", \"#FFA15A\", \"#19d3f3\", \"#FF6692\", \"#B6E880\", \"#FF97FF\", \"#FECB52\"], \"font\": {\"color\": \"#2a3f5f\"}, \"geo\": {\"bgcolor\": \"white\", \"lakecolor\": \"white\", \"landcolor\": \"#E5ECF6\", \"showlakes\": true, \"showland\": true, \"subunitcolor\": \"white\"}, \"hoverlabel\": {\"align\": \"left\"}, \"hovermode\": \"closest\", \"mapbox\": {\"style\": \"light\"}, \"paper_bgcolor\": \"white\", \"plot_bgcolor\": \"#E5ECF6\", \"polar\": {\"angularaxis\": {\"gridcolor\": \"white\", \"linecolor\": \"white\", \"ticks\": \"\"}, \"bgcolor\": \"#E5ECF6\", \"radialaxis\": {\"gridcolor\": \"white\", \"linecolor\": \"white\", \"ticks\": \"\"}}, \"scene\": {\"xaxis\": {\"backgroundcolor\": \"#E5ECF6\", \"gridcolor\": \"white\", \"gridwidth\": 2, \"linecolor\": \"white\", \"showbackground\": true, \"ticks\": \"\", \"zerolinecolor\": \"white\"}, \"yaxis\": {\"backgroundcolor\": \"#E5ECF6\", \"gridcolor\": \"white\", \"gridwidth\": 2, \"linecolor\": \"white\", \"showbackground\": true, \"ticks\": \"\", \"zerolinecolor\": \"white\"}, \"zaxis\": {\"backgroundcolor\": \"#E5ECF6\", \"gridcolor\": \"white\", \"gridwidth\": 2, \"linecolor\": \"white\", \"showbackground\": true, \"ticks\": \"\", \"zerolinecolor\": \"white\"}}, \"shapedefaults\": {\"line\": {\"color\": \"#2a3f5f\"}}, \"ternary\": {\"aaxis\": {\"gridcolor\": \"white\", \"linecolor\": \"white\", \"ticks\": \"\"}, \"baxis\": {\"gridcolor\": \"white\", \"linecolor\": \"white\", \"ticks\": \"\"}, \"bgcolor\": \"#E5ECF6\", \"caxis\": {\"gridcolor\": \"white\", \"linecolor\": \"white\", \"ticks\": \"\"}}, \"title\": {\"x\": 0.05}, \"xaxis\": {\"automargin\": true, \"gridcolor\": \"white\", \"linecolor\": \"white\", \"ticks\": \"\", \"zerolinecolor\": \"white\", \"zerolinewidth\": 2}, \"yaxis\": {\"automargin\": true, \"gridcolor\": \"white\", \"linecolor\": \"white\", \"ticks\": \"\", \"zerolinecolor\": \"white\", \"zerolinewidth\": 2}}}, \"title\": {\"font\": {\"color\": \"#4D5663\"}}, \"xaxis\": {\"gridcolor\": \"#E1E5ED\", \"showgrid\": true, \"tickfont\": {\"color\": \"#4D5663\"}, \"title\": {\"font\": {\"color\": \"#4D5663\"}, \"text\": \"\"}, \"zerolinecolor\": \"#E1E5ED\"}, \"yaxis\": {\"gridcolor\": \"#E1E5ED\", \"showgrid\": true, \"tickfont\": {\"color\": \"#4D5663\"}, \"title\": {\"font\": {\"color\": \"#4D5663\"}, \"text\": \"\"}, \"zerolinecolor\": \"#E1E5ED\"}},\n",
       "                        {\"showLink\": true, \"linkText\": \"Export to plot.ly\", \"plotlyServerURL\": \"https://plot.ly\", \"responsive\": true}\n",
       "                    ).then(function(){\n",
       "                            \n",
       "var gd = document.getElementById('b35087ef-a5b7-4267-8a88-a24a078aa5f6');\n",
       "var x = new MutationObserver(function (mutations, observer) {{\n",
       "        var display = window.getComputedStyle(gd).display;\n",
       "        if (!display || display === 'none') {{\n",
       "            console.log([gd, 'removed!']);\n",
       "            Plotly.purge(gd);\n",
       "            observer.disconnect();\n",
       "        }}\n",
       "}});\n",
       "\n",
       "// Listen for the removal of the full notebook cells\n",
       "var notebookContainer = gd.closest('#notebook-container');\n",
       "if (notebookContainer) {{\n",
       "    x.observe(notebookContainer, {childList: true});\n",
       "}}\n",
       "\n",
       "// Listen for the clearing of the current output cell\n",
       "var outputEl = gd.closest('.output');\n",
       "if (outputEl) {{\n",
       "    x.observe(outputEl, {childList: true});\n",
       "}}\n",
       "\n",
       "                        })\n",
       "                };\n",
       "                });\n",
       "            </script>\n",
       "        </div>"
      ]
     },
     "metadata": {},
     "output_type": "display_data"
    }
   ],
   "source": [
    "# count the columns\n",
    "\n",
    "df.count().iplot(kind = 'bar')"
   ]
  },
  {
   "cell_type": "code",
   "execution_count": 21,
   "metadata": {},
   "outputs": [
    {
     "data": {
      "application/vnd.plotly.v1+json": {
       "config": {
        "linkText": "Export to plot.ly",
        "plotlyServerURL": "https://plot.ly",
        "showLink": true
       },
       "data": [
        {
         "marker": {
          "color": "rgba(255, 153, 51, 0.6)",
          "line": {
           "color": "rgba(255, 153, 51, 1.0)",
           "width": 1
          }
         },
         "name": "None",
         "orientation": "v",
         "text": "",
         "type": "bar",
         "x": [
          "A",
          "B",
          "C",
          "D"
         ],
         "y": [
          1.059868967696844,
          -0.4169161265450635,
          -9.345478446716113,
          1.6620797734293906
         ]
        }
       ],
       "layout": {
        "legend": {
         "bgcolor": "#F5F6F9",
         "font": {
          "color": "#4D5663"
         }
        },
        "paper_bgcolor": "#F5F6F9",
        "plot_bgcolor": "#F5F6F9",
        "template": {
         "data": {
          "bar": [
           {
            "error_x": {
             "color": "#2a3f5f"
            },
            "error_y": {
             "color": "#2a3f5f"
            },
            "marker": {
             "line": {
              "color": "#E5ECF6",
              "width": 0.5
             }
            },
            "type": "bar"
           }
          ],
          "barpolar": [
           {
            "marker": {
             "line": {
              "color": "#E5ECF6",
              "width": 0.5
             }
            },
            "type": "barpolar"
           }
          ],
          "carpet": [
           {
            "aaxis": {
             "endlinecolor": "#2a3f5f",
             "gridcolor": "white",
             "linecolor": "white",
             "minorgridcolor": "white",
             "startlinecolor": "#2a3f5f"
            },
            "baxis": {
             "endlinecolor": "#2a3f5f",
             "gridcolor": "white",
             "linecolor": "white",
             "minorgridcolor": "white",
             "startlinecolor": "#2a3f5f"
            },
            "type": "carpet"
           }
          ],
          "choropleth": [
           {
            "colorbar": {
             "outlinewidth": 0,
             "ticks": ""
            },
            "type": "choropleth"
           }
          ],
          "contour": [
           {
            "colorbar": {
             "outlinewidth": 0,
             "ticks": ""
            },
            "colorscale": [
             [
              0,
              "#0d0887"
             ],
             [
              0.1111111111111111,
              "#46039f"
             ],
             [
              0.2222222222222222,
              "#7201a8"
             ],
             [
              0.3333333333333333,
              "#9c179e"
             ],
             [
              0.4444444444444444,
              "#bd3786"
             ],
             [
              0.5555555555555556,
              "#d8576b"
             ],
             [
              0.6666666666666666,
              "#ed7953"
             ],
             [
              0.7777777777777778,
              "#fb9f3a"
             ],
             [
              0.8888888888888888,
              "#fdca26"
             ],
             [
              1,
              "#f0f921"
             ]
            ],
            "type": "contour"
           }
          ],
          "contourcarpet": [
           {
            "colorbar": {
             "outlinewidth": 0,
             "ticks": ""
            },
            "type": "contourcarpet"
           }
          ],
          "heatmap": [
           {
            "colorbar": {
             "outlinewidth": 0,
             "ticks": ""
            },
            "colorscale": [
             [
              0,
              "#0d0887"
             ],
             [
              0.1111111111111111,
              "#46039f"
             ],
             [
              0.2222222222222222,
              "#7201a8"
             ],
             [
              0.3333333333333333,
              "#9c179e"
             ],
             [
              0.4444444444444444,
              "#bd3786"
             ],
             [
              0.5555555555555556,
              "#d8576b"
             ],
             [
              0.6666666666666666,
              "#ed7953"
             ],
             [
              0.7777777777777778,
              "#fb9f3a"
             ],
             [
              0.8888888888888888,
              "#fdca26"
             ],
             [
              1,
              "#f0f921"
             ]
            ],
            "type": "heatmap"
           }
          ],
          "heatmapgl": [
           {
            "colorbar": {
             "outlinewidth": 0,
             "ticks": ""
            },
            "colorscale": [
             [
              0,
              "#0d0887"
             ],
             [
              0.1111111111111111,
              "#46039f"
             ],
             [
              0.2222222222222222,
              "#7201a8"
             ],
             [
              0.3333333333333333,
              "#9c179e"
             ],
             [
              0.4444444444444444,
              "#bd3786"
             ],
             [
              0.5555555555555556,
              "#d8576b"
             ],
             [
              0.6666666666666666,
              "#ed7953"
             ],
             [
              0.7777777777777778,
              "#fb9f3a"
             ],
             [
              0.8888888888888888,
              "#fdca26"
             ],
             [
              1,
              "#f0f921"
             ]
            ],
            "type": "heatmapgl"
           }
          ],
          "histogram": [
           {
            "marker": {
             "colorbar": {
              "outlinewidth": 0,
              "ticks": ""
             }
            },
            "type": "histogram"
           }
          ],
          "histogram2d": [
           {
            "colorbar": {
             "outlinewidth": 0,
             "ticks": ""
            },
            "colorscale": [
             [
              0,
              "#0d0887"
             ],
             [
              0.1111111111111111,
              "#46039f"
             ],
             [
              0.2222222222222222,
              "#7201a8"
             ],
             [
              0.3333333333333333,
              "#9c179e"
             ],
             [
              0.4444444444444444,
              "#bd3786"
             ],
             [
              0.5555555555555556,
              "#d8576b"
             ],
             [
              0.6666666666666666,
              "#ed7953"
             ],
             [
              0.7777777777777778,
              "#fb9f3a"
             ],
             [
              0.8888888888888888,
              "#fdca26"
             ],
             [
              1,
              "#f0f921"
             ]
            ],
            "type": "histogram2d"
           }
          ],
          "histogram2dcontour": [
           {
            "colorbar": {
             "outlinewidth": 0,
             "ticks": ""
            },
            "colorscale": [
             [
              0,
              "#0d0887"
             ],
             [
              0.1111111111111111,
              "#46039f"
             ],
             [
              0.2222222222222222,
              "#7201a8"
             ],
             [
              0.3333333333333333,
              "#9c179e"
             ],
             [
              0.4444444444444444,
              "#bd3786"
             ],
             [
              0.5555555555555556,
              "#d8576b"
             ],
             [
              0.6666666666666666,
              "#ed7953"
             ],
             [
              0.7777777777777778,
              "#fb9f3a"
             ],
             [
              0.8888888888888888,
              "#fdca26"
             ],
             [
              1,
              "#f0f921"
             ]
            ],
            "type": "histogram2dcontour"
           }
          ],
          "mesh3d": [
           {
            "colorbar": {
             "outlinewidth": 0,
             "ticks": ""
            },
            "type": "mesh3d"
           }
          ],
          "parcoords": [
           {
            "line": {
             "colorbar": {
              "outlinewidth": 0,
              "ticks": ""
             }
            },
            "type": "parcoords"
           }
          ],
          "scatter": [
           {
            "marker": {
             "colorbar": {
              "outlinewidth": 0,
              "ticks": ""
             }
            },
            "type": "scatter"
           }
          ],
          "scatter3d": [
           {
            "line": {
             "colorbar": {
              "outlinewidth": 0,
              "ticks": ""
             }
            },
            "marker": {
             "colorbar": {
              "outlinewidth": 0,
              "ticks": ""
             }
            },
            "type": "scatter3d"
           }
          ],
          "scattercarpet": [
           {
            "marker": {
             "colorbar": {
              "outlinewidth": 0,
              "ticks": ""
             }
            },
            "type": "scattercarpet"
           }
          ],
          "scattergeo": [
           {
            "marker": {
             "colorbar": {
              "outlinewidth": 0,
              "ticks": ""
             }
            },
            "type": "scattergeo"
           }
          ],
          "scattergl": [
           {
            "marker": {
             "colorbar": {
              "outlinewidth": 0,
              "ticks": ""
             }
            },
            "type": "scattergl"
           }
          ],
          "scattermapbox": [
           {
            "marker": {
             "colorbar": {
              "outlinewidth": 0,
              "ticks": ""
             }
            },
            "type": "scattermapbox"
           }
          ],
          "scatterpolar": [
           {
            "marker": {
             "colorbar": {
              "outlinewidth": 0,
              "ticks": ""
             }
            },
            "type": "scatterpolar"
           }
          ],
          "scatterpolargl": [
           {
            "marker": {
             "colorbar": {
              "outlinewidth": 0,
              "ticks": ""
             }
            },
            "type": "scatterpolargl"
           }
          ],
          "scatterternary": [
           {
            "marker": {
             "colorbar": {
              "outlinewidth": 0,
              "ticks": ""
             }
            },
            "type": "scatterternary"
           }
          ],
          "surface": [
           {
            "colorbar": {
             "outlinewidth": 0,
             "ticks": ""
            },
            "colorscale": [
             [
              0,
              "#0d0887"
             ],
             [
              0.1111111111111111,
              "#46039f"
             ],
             [
              0.2222222222222222,
              "#7201a8"
             ],
             [
              0.3333333333333333,
              "#9c179e"
             ],
             [
              0.4444444444444444,
              "#bd3786"
             ],
             [
              0.5555555555555556,
              "#d8576b"
             ],
             [
              0.6666666666666666,
              "#ed7953"
             ],
             [
              0.7777777777777778,
              "#fb9f3a"
             ],
             [
              0.8888888888888888,
              "#fdca26"
             ],
             [
              1,
              "#f0f921"
             ]
            ],
            "type": "surface"
           }
          ],
          "table": [
           {
            "cells": {
             "fill": {
              "color": "#EBF0F8"
             },
             "line": {
              "color": "white"
             }
            },
            "header": {
             "fill": {
              "color": "#C8D4E3"
             },
             "line": {
              "color": "white"
             }
            },
            "type": "table"
           }
          ]
         },
         "layout": {
          "annotationdefaults": {
           "arrowcolor": "#2a3f5f",
           "arrowhead": 0,
           "arrowwidth": 1
          },
          "colorscale": {
           "diverging": [
            [
             0,
             "#8e0152"
            ],
            [
             0.1,
             "#c51b7d"
            ],
            [
             0.2,
             "#de77ae"
            ],
            [
             0.3,
             "#f1b6da"
            ],
            [
             0.4,
             "#fde0ef"
            ],
            [
             0.5,
             "#f7f7f7"
            ],
            [
             0.6,
             "#e6f5d0"
            ],
            [
             0.7,
             "#b8e186"
            ],
            [
             0.8,
             "#7fbc41"
            ],
            [
             0.9,
             "#4d9221"
            ],
            [
             1,
             "#276419"
            ]
           ],
           "sequential": [
            [
             0,
             "#0d0887"
            ],
            [
             0.1111111111111111,
             "#46039f"
            ],
            [
             0.2222222222222222,
             "#7201a8"
            ],
            [
             0.3333333333333333,
             "#9c179e"
            ],
            [
             0.4444444444444444,
             "#bd3786"
            ],
            [
             0.5555555555555556,
             "#d8576b"
            ],
            [
             0.6666666666666666,
             "#ed7953"
            ],
            [
             0.7777777777777778,
             "#fb9f3a"
            ],
            [
             0.8888888888888888,
             "#fdca26"
            ],
            [
             1,
             "#f0f921"
            ]
           ],
           "sequentialminus": [
            [
             0,
             "#0d0887"
            ],
            [
             0.1111111111111111,
             "#46039f"
            ],
            [
             0.2222222222222222,
             "#7201a8"
            ],
            [
             0.3333333333333333,
             "#9c179e"
            ],
            [
             0.4444444444444444,
             "#bd3786"
            ],
            [
             0.5555555555555556,
             "#d8576b"
            ],
            [
             0.6666666666666666,
             "#ed7953"
            ],
            [
             0.7777777777777778,
             "#fb9f3a"
            ],
            [
             0.8888888888888888,
             "#fdca26"
            ],
            [
             1,
             "#f0f921"
            ]
           ]
          },
          "colorway": [
           "#636efa",
           "#EF553B",
           "#00cc96",
           "#ab63fa",
           "#FFA15A",
           "#19d3f3",
           "#FF6692",
           "#B6E880",
           "#FF97FF",
           "#FECB52"
          ],
          "font": {
           "color": "#2a3f5f"
          },
          "geo": {
           "bgcolor": "white",
           "lakecolor": "white",
           "landcolor": "#E5ECF6",
           "showlakes": true,
           "showland": true,
           "subunitcolor": "white"
          },
          "hoverlabel": {
           "align": "left"
          },
          "hovermode": "closest",
          "mapbox": {
           "style": "light"
          },
          "paper_bgcolor": "white",
          "plot_bgcolor": "#E5ECF6",
          "polar": {
           "angularaxis": {
            "gridcolor": "white",
            "linecolor": "white",
            "ticks": ""
           },
           "bgcolor": "#E5ECF6",
           "radialaxis": {
            "gridcolor": "white",
            "linecolor": "white",
            "ticks": ""
           }
          },
          "scene": {
           "xaxis": {
            "backgroundcolor": "#E5ECF6",
            "gridcolor": "white",
            "gridwidth": 2,
            "linecolor": "white",
            "showbackground": true,
            "ticks": "",
            "zerolinecolor": "white"
           },
           "yaxis": {
            "backgroundcolor": "#E5ECF6",
            "gridcolor": "white",
            "gridwidth": 2,
            "linecolor": "white",
            "showbackground": true,
            "ticks": "",
            "zerolinecolor": "white"
           },
           "zaxis": {
            "backgroundcolor": "#E5ECF6",
            "gridcolor": "white",
            "gridwidth": 2,
            "linecolor": "white",
            "showbackground": true,
            "ticks": "",
            "zerolinecolor": "white"
           }
          },
          "shapedefaults": {
           "line": {
            "color": "#2a3f5f"
           }
          },
          "ternary": {
           "aaxis": {
            "gridcolor": "white",
            "linecolor": "white",
            "ticks": ""
           },
           "baxis": {
            "gridcolor": "white",
            "linecolor": "white",
            "ticks": ""
           },
           "bgcolor": "#E5ECF6",
           "caxis": {
            "gridcolor": "white",
            "linecolor": "white",
            "ticks": ""
           }
          },
          "title": {
           "x": 0.05
          },
          "xaxis": {
           "automargin": true,
           "gridcolor": "white",
           "linecolor": "white",
           "ticks": "",
           "zerolinecolor": "white",
           "zerolinewidth": 2
          },
          "yaxis": {
           "automargin": true,
           "gridcolor": "white",
           "linecolor": "white",
           "ticks": "",
           "zerolinecolor": "white",
           "zerolinewidth": 2
          }
         }
        },
        "title": {
         "font": {
          "color": "#4D5663"
         }
        },
        "xaxis": {
         "gridcolor": "#E1E5ED",
         "showgrid": true,
         "tickfont": {
          "color": "#4D5663"
         },
         "title": {
          "font": {
           "color": "#4D5663"
          },
          "text": ""
         },
         "zerolinecolor": "#E1E5ED"
        },
        "yaxis": {
         "gridcolor": "#E1E5ED",
         "showgrid": true,
         "tickfont": {
          "color": "#4D5663"
         },
         "title": {
          "font": {
           "color": "#4D5663"
          },
          "text": ""
         },
         "zerolinecolor": "#E1E5ED"
        }
       }
      },
      "text/html": [
       "<div>\n",
       "        \n",
       "        \n",
       "            <div id=\"1b075720-0a8c-44a5-bc5c-cf87d080821f\" class=\"plotly-graph-div\" style=\"height:525px; width:100%;\"></div>\n",
       "            <script type=\"text/javascript\">\n",
       "                require([\"plotly\"], function(Plotly) {\n",
       "                    window.PLOTLYENV=window.PLOTLYENV || {};\n",
       "                    window.PLOTLYENV.BASE_URL='https://plot.ly';\n",
       "                    \n",
       "                if (document.getElementById(\"1b075720-0a8c-44a5-bc5c-cf87d080821f\")) {\n",
       "                    Plotly.newPlot(\n",
       "                        '1b075720-0a8c-44a5-bc5c-cf87d080821f',\n",
       "                        [{\"marker\": {\"color\": \"rgba(255, 153, 51, 0.6)\", \"line\": {\"color\": \"rgba(255, 153, 51, 1.0)\", \"width\": 1}}, \"name\": \"None\", \"orientation\": \"v\", \"text\": \"\", \"type\": \"bar\", \"x\": [\"A\", \"B\", \"C\", \"D\"], \"y\": [1.059868967696844, -0.4169161265450635, -9.345478446716113, 1.6620797734293906]}],\n",
       "                        {\"legend\": {\"bgcolor\": \"#F5F6F9\", \"font\": {\"color\": \"#4D5663\"}}, \"paper_bgcolor\": \"#F5F6F9\", \"plot_bgcolor\": \"#F5F6F9\", \"template\": {\"data\": {\"bar\": [{\"error_x\": {\"color\": \"#2a3f5f\"}, \"error_y\": {\"color\": \"#2a3f5f\"}, \"marker\": {\"line\": {\"color\": \"#E5ECF6\", \"width\": 0.5}}, \"type\": \"bar\"}], \"barpolar\": [{\"marker\": {\"line\": {\"color\": \"#E5ECF6\", \"width\": 0.5}}, \"type\": \"barpolar\"}], \"carpet\": [{\"aaxis\": {\"endlinecolor\": \"#2a3f5f\", \"gridcolor\": \"white\", \"linecolor\": \"white\", \"minorgridcolor\": \"white\", \"startlinecolor\": \"#2a3f5f\"}, \"baxis\": {\"endlinecolor\": \"#2a3f5f\", \"gridcolor\": \"white\", \"linecolor\": \"white\", \"minorgridcolor\": \"white\", \"startlinecolor\": \"#2a3f5f\"}, \"type\": \"carpet\"}], \"choropleth\": [{\"colorbar\": {\"outlinewidth\": 0, \"ticks\": \"\"}, \"type\": \"choropleth\"}], \"contour\": [{\"colorbar\": {\"outlinewidth\": 0, \"ticks\": \"\"}, \"colorscale\": [[0.0, \"#0d0887\"], [0.1111111111111111, \"#46039f\"], [0.2222222222222222, \"#7201a8\"], [0.3333333333333333, \"#9c179e\"], [0.4444444444444444, \"#bd3786\"], [0.5555555555555556, \"#d8576b\"], [0.6666666666666666, \"#ed7953\"], [0.7777777777777778, \"#fb9f3a\"], [0.8888888888888888, \"#fdca26\"], [1.0, \"#f0f921\"]], \"type\": \"contour\"}], \"contourcarpet\": [{\"colorbar\": {\"outlinewidth\": 0, \"ticks\": \"\"}, \"type\": \"contourcarpet\"}], \"heatmap\": [{\"colorbar\": {\"outlinewidth\": 0, \"ticks\": \"\"}, \"colorscale\": [[0.0, \"#0d0887\"], [0.1111111111111111, \"#46039f\"], [0.2222222222222222, \"#7201a8\"], [0.3333333333333333, \"#9c179e\"], [0.4444444444444444, \"#bd3786\"], [0.5555555555555556, \"#d8576b\"], [0.6666666666666666, \"#ed7953\"], [0.7777777777777778, \"#fb9f3a\"], [0.8888888888888888, \"#fdca26\"], [1.0, \"#f0f921\"]], \"type\": \"heatmap\"}], \"heatmapgl\": [{\"colorbar\": {\"outlinewidth\": 0, \"ticks\": \"\"}, \"colorscale\": [[0.0, \"#0d0887\"], [0.1111111111111111, \"#46039f\"], [0.2222222222222222, \"#7201a8\"], [0.3333333333333333, \"#9c179e\"], [0.4444444444444444, \"#bd3786\"], [0.5555555555555556, \"#d8576b\"], [0.6666666666666666, \"#ed7953\"], [0.7777777777777778, \"#fb9f3a\"], [0.8888888888888888, \"#fdca26\"], [1.0, \"#f0f921\"]], \"type\": \"heatmapgl\"}], \"histogram\": [{\"marker\": {\"colorbar\": {\"outlinewidth\": 0, \"ticks\": \"\"}}, \"type\": \"histogram\"}], \"histogram2d\": [{\"colorbar\": {\"outlinewidth\": 0, \"ticks\": \"\"}, \"colorscale\": [[0.0, \"#0d0887\"], [0.1111111111111111, \"#46039f\"], [0.2222222222222222, \"#7201a8\"], [0.3333333333333333, \"#9c179e\"], [0.4444444444444444, \"#bd3786\"], [0.5555555555555556, \"#d8576b\"], [0.6666666666666666, \"#ed7953\"], [0.7777777777777778, \"#fb9f3a\"], [0.8888888888888888, \"#fdca26\"], [1.0, \"#f0f921\"]], \"type\": \"histogram2d\"}], \"histogram2dcontour\": [{\"colorbar\": {\"outlinewidth\": 0, \"ticks\": \"\"}, \"colorscale\": [[0.0, \"#0d0887\"], [0.1111111111111111, \"#46039f\"], [0.2222222222222222, \"#7201a8\"], [0.3333333333333333, \"#9c179e\"], [0.4444444444444444, \"#bd3786\"], [0.5555555555555556, \"#d8576b\"], [0.6666666666666666, \"#ed7953\"], [0.7777777777777778, \"#fb9f3a\"], [0.8888888888888888, \"#fdca26\"], [1.0, \"#f0f921\"]], \"type\": \"histogram2dcontour\"}], \"mesh3d\": [{\"colorbar\": {\"outlinewidth\": 0, \"ticks\": \"\"}, \"type\": \"mesh3d\"}], \"parcoords\": [{\"line\": {\"colorbar\": {\"outlinewidth\": 0, \"ticks\": \"\"}}, \"type\": \"parcoords\"}], \"scatter\": [{\"marker\": {\"colorbar\": {\"outlinewidth\": 0, \"ticks\": \"\"}}, \"type\": \"scatter\"}], \"scatter3d\": [{\"line\": {\"colorbar\": {\"outlinewidth\": 0, \"ticks\": \"\"}}, \"marker\": {\"colorbar\": {\"outlinewidth\": 0, \"ticks\": \"\"}}, \"type\": \"scatter3d\"}], \"scattercarpet\": [{\"marker\": {\"colorbar\": {\"outlinewidth\": 0, \"ticks\": \"\"}}, \"type\": \"scattercarpet\"}], \"scattergeo\": [{\"marker\": {\"colorbar\": {\"outlinewidth\": 0, \"ticks\": \"\"}}, \"type\": \"scattergeo\"}], \"scattergl\": [{\"marker\": {\"colorbar\": {\"outlinewidth\": 0, \"ticks\": \"\"}}, \"type\": \"scattergl\"}], \"scattermapbox\": [{\"marker\": {\"colorbar\": {\"outlinewidth\": 0, \"ticks\": \"\"}}, \"type\": \"scattermapbox\"}], \"scatterpolar\": [{\"marker\": {\"colorbar\": {\"outlinewidth\": 0, \"ticks\": \"\"}}, \"type\": \"scatterpolar\"}], \"scatterpolargl\": [{\"marker\": {\"colorbar\": {\"outlinewidth\": 0, \"ticks\": \"\"}}, \"type\": \"scatterpolargl\"}], \"scatterternary\": [{\"marker\": {\"colorbar\": {\"outlinewidth\": 0, \"ticks\": \"\"}}, \"type\": \"scatterternary\"}], \"surface\": [{\"colorbar\": {\"outlinewidth\": 0, \"ticks\": \"\"}, \"colorscale\": [[0.0, \"#0d0887\"], [0.1111111111111111, \"#46039f\"], [0.2222222222222222, \"#7201a8\"], [0.3333333333333333, \"#9c179e\"], [0.4444444444444444, \"#bd3786\"], [0.5555555555555556, \"#d8576b\"], [0.6666666666666666, \"#ed7953\"], [0.7777777777777778, \"#fb9f3a\"], [0.8888888888888888, \"#fdca26\"], [1.0, \"#f0f921\"]], \"type\": \"surface\"}], \"table\": [{\"cells\": {\"fill\": {\"color\": \"#EBF0F8\"}, \"line\": {\"color\": \"white\"}}, \"header\": {\"fill\": {\"color\": \"#C8D4E3\"}, \"line\": {\"color\": \"white\"}}, \"type\": \"table\"}]}, \"layout\": {\"annotationdefaults\": {\"arrowcolor\": \"#2a3f5f\", \"arrowhead\": 0, \"arrowwidth\": 1}, \"colorscale\": {\"diverging\": [[0, \"#8e0152\"], [0.1, \"#c51b7d\"], [0.2, \"#de77ae\"], [0.3, \"#f1b6da\"], [0.4, \"#fde0ef\"], [0.5, \"#f7f7f7\"], [0.6, \"#e6f5d0\"], [0.7, \"#b8e186\"], [0.8, \"#7fbc41\"], [0.9, \"#4d9221\"], [1, \"#276419\"]], \"sequential\": [[0.0, \"#0d0887\"], [0.1111111111111111, \"#46039f\"], [0.2222222222222222, \"#7201a8\"], [0.3333333333333333, \"#9c179e\"], [0.4444444444444444, \"#bd3786\"], [0.5555555555555556, \"#d8576b\"], [0.6666666666666666, \"#ed7953\"], [0.7777777777777778, \"#fb9f3a\"], [0.8888888888888888, \"#fdca26\"], [1.0, \"#f0f921\"]], \"sequentialminus\": [[0.0, \"#0d0887\"], [0.1111111111111111, \"#46039f\"], [0.2222222222222222, \"#7201a8\"], [0.3333333333333333, \"#9c179e\"], [0.4444444444444444, \"#bd3786\"], [0.5555555555555556, \"#d8576b\"], [0.6666666666666666, \"#ed7953\"], [0.7777777777777778, \"#fb9f3a\"], [0.8888888888888888, \"#fdca26\"], [1.0, \"#f0f921\"]]}, \"colorway\": [\"#636efa\", \"#EF553B\", \"#00cc96\", \"#ab63fa\", \"#FFA15A\", \"#19d3f3\", \"#FF6692\", \"#B6E880\", \"#FF97FF\", \"#FECB52\"], \"font\": {\"color\": \"#2a3f5f\"}, \"geo\": {\"bgcolor\": \"white\", \"lakecolor\": \"white\", \"landcolor\": \"#E5ECF6\", \"showlakes\": true, \"showland\": true, \"subunitcolor\": \"white\"}, \"hoverlabel\": {\"align\": \"left\"}, \"hovermode\": \"closest\", \"mapbox\": {\"style\": \"light\"}, \"paper_bgcolor\": \"white\", \"plot_bgcolor\": \"#E5ECF6\", \"polar\": {\"angularaxis\": {\"gridcolor\": \"white\", \"linecolor\": \"white\", \"ticks\": \"\"}, \"bgcolor\": \"#E5ECF6\", \"radialaxis\": {\"gridcolor\": \"white\", \"linecolor\": \"white\", \"ticks\": \"\"}}, \"scene\": {\"xaxis\": {\"backgroundcolor\": \"#E5ECF6\", \"gridcolor\": \"white\", \"gridwidth\": 2, \"linecolor\": \"white\", \"showbackground\": true, \"ticks\": \"\", \"zerolinecolor\": \"white\"}, \"yaxis\": {\"backgroundcolor\": \"#E5ECF6\", \"gridcolor\": \"white\", \"gridwidth\": 2, \"linecolor\": \"white\", \"showbackground\": true, \"ticks\": \"\", \"zerolinecolor\": \"white\"}, \"zaxis\": {\"backgroundcolor\": \"#E5ECF6\", \"gridcolor\": \"white\", \"gridwidth\": 2, \"linecolor\": \"white\", \"showbackground\": true, \"ticks\": \"\", \"zerolinecolor\": \"white\"}}, \"shapedefaults\": {\"line\": {\"color\": \"#2a3f5f\"}}, \"ternary\": {\"aaxis\": {\"gridcolor\": \"white\", \"linecolor\": \"white\", \"ticks\": \"\"}, \"baxis\": {\"gridcolor\": \"white\", \"linecolor\": \"white\", \"ticks\": \"\"}, \"bgcolor\": \"#E5ECF6\", \"caxis\": {\"gridcolor\": \"white\", \"linecolor\": \"white\", \"ticks\": \"\"}}, \"title\": {\"x\": 0.05}, \"xaxis\": {\"automargin\": true, \"gridcolor\": \"white\", \"linecolor\": \"white\", \"ticks\": \"\", \"zerolinecolor\": \"white\", \"zerolinewidth\": 2}, \"yaxis\": {\"automargin\": true, \"gridcolor\": \"white\", \"linecolor\": \"white\", \"ticks\": \"\", \"zerolinecolor\": \"white\", \"zerolinewidth\": 2}}}, \"title\": {\"font\": {\"color\": \"#4D5663\"}}, \"xaxis\": {\"gridcolor\": \"#E1E5ED\", \"showgrid\": true, \"tickfont\": {\"color\": \"#4D5663\"}, \"title\": {\"font\": {\"color\": \"#4D5663\"}, \"text\": \"\"}, \"zerolinecolor\": \"#E1E5ED\"}, \"yaxis\": {\"gridcolor\": \"#E1E5ED\", \"showgrid\": true, \"tickfont\": {\"color\": \"#4D5663\"}, \"title\": {\"font\": {\"color\": \"#4D5663\"}, \"text\": \"\"}, \"zerolinecolor\": \"#E1E5ED\"}},\n",
       "                        {\"showLink\": true, \"linkText\": \"Export to plot.ly\", \"plotlyServerURL\": \"https://plot.ly\", \"responsive\": true}\n",
       "                    ).then(function(){\n",
       "                            \n",
       "var gd = document.getElementById('1b075720-0a8c-44a5-bc5c-cf87d080821f');\n",
       "var x = new MutationObserver(function (mutations, observer) {{\n",
       "        var display = window.getComputedStyle(gd).display;\n",
       "        if (!display || display === 'none') {{\n",
       "            console.log([gd, 'removed!']);\n",
       "            Plotly.purge(gd);\n",
       "            observer.disconnect();\n",
       "        }}\n",
       "}});\n",
       "\n",
       "// Listen for the removal of the full notebook cells\n",
       "var notebookContainer = gd.closest('#notebook-container');\n",
       "if (notebookContainer) {{\n",
       "    x.observe(notebookContainer, {childList: true});\n",
       "}}\n",
       "\n",
       "// Listen for the clearing of the current output cell\n",
       "var outputEl = gd.closest('.output');\n",
       "if (outputEl) {{\n",
       "    x.observe(outputEl, {childList: true});\n",
       "}}\n",
       "\n",
       "                        })\n",
       "                };\n",
       "                });\n",
       "            </script>\n",
       "        </div>"
      ]
     },
     "metadata": {},
     "output_type": "display_data"
    }
   ],
   "source": [
    "# sum the columns value\n",
    "\n",
    "df.sum().iplot(kind = 'bar')"
   ]
  },
  {
   "cell_type": "markdown",
   "metadata": {},
   "source": [
    "### 4. boxplot"
   ]
  },
  {
   "cell_type": "code",
   "execution_count": 22,
   "metadata": {},
   "outputs": [
    {
     "data": {
      "application/vnd.plotly.v1+json": {
       "config": {
        "linkText": "Export to plot.ly",
        "plotlyServerURL": "https://plot.ly",
        "showLink": true
       },
       "data": [
        {
         "boxpoints": false,
         "line": {
          "width": 1.3
         },
         "marker": {
          "color": "rgba(255, 153, 51, 1.0)"
         },
         "name": "A",
         "orientation": "v",
         "type": "box",
         "y": [
          2.069081317248437,
          -1.9586988201017066,
          0.31687259557075065,
          0.3163933211791377,
          -0.16623943248273207,
          1.5497820365156982,
          -1.7297768914284835,
          0.5697825774153621,
          -0.7032361365794662,
          -0.8268251660691491,
          1.2467171956322265,
          -1.0757476486572177,
          -0.165999174967776,
          0.42843672539742184,
          -0.25675899385138395,
          0.22587079145601774,
          1.9166425271506045,
          -0.640237220836307,
          -0.6861772522003287,
          -0.5586527440178088,
          -2.5054824095350603,
          0.4409074736412183,
          -1.9900902601521533,
          -0.5210386202937979,
          -0.5080735923466261,
          -0.7618302051217163,
          0.8385206587443153,
          1.4112551979094434,
          -0.35899178289305833,
          -0.7583551270205274,
          0.1801450370472393,
          -1.668881029521964,
          -0.7631515357140278,
          -0.6703114133478807,
          -1.4410620768665687,
          0.8743716919027011,
          1.3712437328971603,
          1.8015066568239602,
          -1.3793914176363382,
          -0.310781082112185,
          0.21539737058955025,
          0.26100127321811867,
          -0.5720033350321432,
          2.132914188699778,
          -1.6315266835701523,
          0.6116058285290135,
          -1.375542976417157,
          0.5516327908947728,
          -0.8291435228557643,
          -0.10741096952517305,
          0.466848431170696,
          0.8433508517657493,
          0.11636175879694592,
          0.5598366538046764,
          0.24914272694522172,
          -0.06884643442780915,
          -0.4084858316707387,
          -1.4051726071742447,
          -0.30645623254003573,
          1.7389939017633762,
          -1.069248683755255,
          1.6834497814923641,
          1.346355028489932,
          -0.6762454051862051,
          0.9031060789060906,
          1.1356794877473801,
          -0.40881973318811055,
          0.7063794517678516,
          -0.4152686536633678,
          -0.996637064263391,
          -0.05603719295495405,
          0.3267743031922197,
          -0.7097067062730879,
          0.4433270622616412,
          0.379617908590977,
          -0.43494427079199754,
          1.7809685905508235,
          1.6966147780256329,
          1.4906595522423403,
          0.4809146675204936,
          -1.3864972445511055,
          -0.6595869670593304,
          -0.5506363437289727,
          0.5980724890985413,
          -1.1521791912703487,
          -0.3175929792191654,
          -1.8718075854411518,
          -0.27684143268620376,
          -1.6259350828226837,
          1.2269730494900373,
          -0.048869330284592144,
          1.5957901102313448,
          -0.040539979809508665,
          1.3204254982305588,
          -0.035534127153365694,
          0.9671163301831622,
          0.5214914391803923,
          0.9508548035963178,
          0.05960270547188383,
          -0.01561286021245415
         ]
        },
        {
         "boxpoints": false,
         "line": {
          "width": 1.3
         },
         "marker": {
          "color": "rgba(55, 128, 191, 1.0)"
         },
         "name": "B",
         "orientation": "v",
         "type": "box",
         "y": [
          0.5371406102484116,
          -0.7630355998932787,
          -2.4858162864857523,
          1.2592066808607159,
          0.9595436226520081,
          -0.8081156938171563,
          0.9958728377864831,
          -0.04591061914796954,
          0.6904010738181772,
          -0.5511142392207588,
          1.4402893831504124,
          0.35305376609086747,
          0.7972779169691322,
          0.34537746993804025,
          1.31874407327095,
          1.6969578374319672,
          -2.380558289248379,
          -0.42479170062544036,
          0.7611985790453921,
          -1.4523150254476245,
          0.587450547772239,
          0.15513270402904678,
          0.3816171930588017,
          -0.3485622560270526,
          -0.2233077072848466,
          -0.06657166845739156,
          -0.4699219481124245,
          1.2162365035510758,
          -0.08247111159833434,
          -0.26576094186048205,
          0.6287146222239482,
          0.5464995934949134,
          -1.0413503318774242,
          -0.6133269467314942,
          1.7897861110849156,
          -1.4636448182885142,
          -0.6082089722636107,
          -0.18944182747086188,
          1.1535409107981895,
          -0.2610438758985015,
          0.7607204950976051,
          0.8689659293485391,
          -1.0408678834637686,
          -1.8697259764998884,
          0.052957623660512085,
          -0.4752375307599897,
          -0.6894315405633875,
          0.20660004628802267,
          0.41587696940825136,
          0.11794519060016996,
          -0.5483109902790982,
          0.2204585387263463,
          -0.0814497894297341,
          -0.4261861035950627,
          -0.021917182184465037,
          0.35222734994579635,
          -0.24159158765078223,
          -1.245418117537442,
          1.0216068651998909,
          0.2639425680704423,
          0.9241230815489991,
          1.0987810469821897,
          -1.2581918632792053,
          -0.3047137245763503,
          0.60914107898099,
          -0.9152188042552775,
          -0.26765853410307033,
          -2.0075144589553195,
          0.8147844678127948,
          -0.13131685638323615,
          -1.311225180991742,
          -0.04852659651473337,
          -1.218931042803003,
          -1.024830966258147,
          0.12385012282058273,
          -0.20982791576190235,
          -0.24678271085565104,
          0.5154062122960229,
          0.1544833714506777,
          -0.41404378573783396,
          -1.2860894727014949,
          -1.437949062500608,
          2.4274363130615795,
          -0.4573332199984909,
          0.7826881088936185,
          -0.10934943159905164,
          -0.5949196074311865,
          0.03144939194326923,
          1.524309150436032,
          -0.23392802647924565,
          0.5361360451160111,
          -0.7495155351889765,
          -0.18096629842077092,
          1.558544319601368,
          1.7517499105114092,
          -0.39371248209055115,
          0.345362285426185,
          -0.7860338813922241,
          1.900836644872969,
          -0.6373552719220384
         ]
        },
        {
         "boxpoints": false,
         "line": {
          "width": 1.3
         },
         "marker": {
          "color": "rgba(50, 171, 96, 1.0)"
         },
         "name": "C",
         "orientation": "v",
         "type": "box",
         "y": [
          -0.6850215014043163,
          -1.2412518834652546,
          -0.3946676954847482,
          0.7651845615941001,
          0.8539049176742748,
          -0.37644014904789597,
          -0.32772970648204053,
          0.02834189527309373,
          -0.9504524445878754,
          0.8230972624100741,
          -1.7142178136821131,
          0.33112410774976675,
          0.016363052685521937,
          -0.43413069570491963,
          -1.5738282812386328,
          0.03489961725557421,
          -0.12246618896219813,
          -0.6146165254190183,
          0.43031162267834133,
          0.06397533316452905,
          -0.490651552827173,
          1.3735403366482595,
          0.8188391172357061,
          -0.02980846654887524,
          -0.31099894785936216,
          -0.2735335159583621,
          0.4179333738998075,
          -0.5715943544758427,
          0.1344414889806831,
          -1.521533327628918,
          -0.6689381159428938,
          0.15251369394908768,
          -0.36431107964479786,
          -0.10028586033516866,
          -2.6732007415098575,
          0.11324362012281179,
          -0.048704678642151784,
          1.4180214987115798,
          -0.8867526618791968,
          -1.5253768240139522,
          1.8287289167343548,
          -0.7592255448926566,
          -0.0671946927632733,
          0.1754235812981672,
          -1.0358340705530713,
          0.0019515411977063064,
          0.048488005484730506,
          -0.44430593841028115,
          -0.2331860016412143,
          1.1627105571515324,
          0.5660950651322101,
          -0.6786210624157247,
          -0.20721530694253,
          -0.07151740505683823,
          -0.6818973591112406,
          -1.324645088015891,
          -0.2310949839970945,
          -0.8492294245819209,
          0.210864914686496,
          -0.5009556142676546,
          1.1266769334653688,
          2.248449891487893,
          -1.9246130542716733,
          -1.1722170464527613,
          0.09141428654928084,
          1.1753076792060488,
          -0.43191016662870235,
          -1.1616224424459403,
          1.3823367200683663,
          -1.6837964741457006,
          -0.3211979035283138,
          0.10236534755693119,
          2.061701313426245,
          0.5473232701612604,
          -0.24896171576994267,
          0.6318260116940371,
          -0.8575144563857071,
          -0.06710741764459427,
          1.0667462425791259,
          1.2325174883238221,
          -1.2629602105446083,
          0.9494335560653758,
          1.413884715443827,
          0.5129628018179038,
          0.2560733737865519,
          -0.8923394405259693,
          0.8888377362062309,
          -0.688304615890909,
          1.1748715811398724,
          -0.7300124099889382,
          1.6207942045893935,
          0.07057876461498128,
          0.1381467197907667,
          -0.15809627739176416,
          -0.12616914469849583,
          -0.6426296324989368,
          -1.1256061558648365,
          -0.2819777712287155,
          0.25792572295089744,
          -1.3031790480572327
         ]
        },
        {
         "boxpoints": false,
         "line": {
          "width": 1.3
         },
         "marker": {
          "color": "rgba(128, 0, 128, 1.0)"
         },
         "name": "D",
         "orientation": "v",
         "type": "box",
         "y": [
          2.014247115270905,
          -0.7428208160857449,
          -1.309030944216816,
          -2.478092924371268,
          -0.6280100446363561,
          1.0291618666179578,
          -0.26691667588585155,
          1.313422842184512,
          -1.970495819360091,
          0.11411545090210919,
          0.9181163750127501,
          -0.29858708158689656,
          -0.26612821659138275,
          -0.973581285673536,
          -0.20814284985497686,
          -0.2558327791930005,
          0.37891920212858315,
          1.1085200274370157,
          -1.0002458133975058,
          -0.33242083339553374,
          -0.9749877501914137,
          1.15811018558237,
          0.5169718463650118,
          -1.274743874217198,
          2.006624857298406,
          0.25511767166704996,
          -0.30164693812853194,
          0.06354489502755675,
          -1.0197590712944298,
          0.3253988257390908,
          -0.7933307740387828,
          -0.8036699362969526,
          0.1043611568074112,
          1.3437747133382383,
          -0.5894175974959336,
          -0.49893973790798285,
          -0.47525780077383467,
          -0.9390740838969601,
          1.4442447945726926,
          -0.7540442676823031,
          1.5830342653142089,
          0.6438885132208334,
          0.2990209607177709,
          0.17577833233795892,
          1.4195280629117475,
          1.3131698831594645,
          1.0031714131683982,
          1.7632422224160416,
          0.11073442737923893,
          -0.5828009953990801,
          -0.486770021231336,
          -0.3839996428127627,
          -0.4391568257246189,
          -0.44417511214167693,
          -0.3318415514093242,
          0.11211566642523081,
          0.6104668682054902,
          -0.49044106556725764,
          -0.8714167589345827,
          -1.6880287466088721,
          1.3880439298208682,
          0.007243106345136585,
          -0.7003319230422439,
          0.9207544153619949,
          1.8122011583635331,
          0.21520079658506217,
          1.338945422952007,
          -1.3559156793828218,
          1.0675500203465638,
          0.22685073583400517,
          1.3147667676333779,
          -0.8512121329769073,
          -1.00825773280854,
          -0.05585947679402678,
          -1.9087662048270295,
          -1.1700986548099093,
          -0.14527278661267826,
          0.22093226813171887,
          1.624520241139117,
          1.508494359617955,
          0.6357187352707607,
          0.4533273679564344,
          0.07956108166066125,
          -0.8250424975633813,
          -1.6091491496953354,
          0.8742516509758052,
          -2.491823621271737,
          -0.042188676755759956,
          1.2969695278585485,
          0.42802263329645285,
          1.3549457569635972,
          0.011100810382680232,
          -0.5876763575631399,
          -0.34431210228354003,
          -0.6782744890719055,
          1.3916341438432032,
          -0.12101914607071254,
          -1.7419381441262538,
          0.3707115678108203,
          0.5024782457297611
         ]
        }
       ],
       "layout": {
        "legend": {
         "bgcolor": "#F5F6F9",
         "font": {
          "color": "#4D5663"
         }
        },
        "paper_bgcolor": "#F5F6F9",
        "plot_bgcolor": "#F5F6F9",
        "template": {
         "data": {
          "bar": [
           {
            "error_x": {
             "color": "#2a3f5f"
            },
            "error_y": {
             "color": "#2a3f5f"
            },
            "marker": {
             "line": {
              "color": "#E5ECF6",
              "width": 0.5
             }
            },
            "type": "bar"
           }
          ],
          "barpolar": [
           {
            "marker": {
             "line": {
              "color": "#E5ECF6",
              "width": 0.5
             }
            },
            "type": "barpolar"
           }
          ],
          "carpet": [
           {
            "aaxis": {
             "endlinecolor": "#2a3f5f",
             "gridcolor": "white",
             "linecolor": "white",
             "minorgridcolor": "white",
             "startlinecolor": "#2a3f5f"
            },
            "baxis": {
             "endlinecolor": "#2a3f5f",
             "gridcolor": "white",
             "linecolor": "white",
             "minorgridcolor": "white",
             "startlinecolor": "#2a3f5f"
            },
            "type": "carpet"
           }
          ],
          "choropleth": [
           {
            "colorbar": {
             "outlinewidth": 0,
             "ticks": ""
            },
            "type": "choropleth"
           }
          ],
          "contour": [
           {
            "colorbar": {
             "outlinewidth": 0,
             "ticks": ""
            },
            "colorscale": [
             [
              0,
              "#0d0887"
             ],
             [
              0.1111111111111111,
              "#46039f"
             ],
             [
              0.2222222222222222,
              "#7201a8"
             ],
             [
              0.3333333333333333,
              "#9c179e"
             ],
             [
              0.4444444444444444,
              "#bd3786"
             ],
             [
              0.5555555555555556,
              "#d8576b"
             ],
             [
              0.6666666666666666,
              "#ed7953"
             ],
             [
              0.7777777777777778,
              "#fb9f3a"
             ],
             [
              0.8888888888888888,
              "#fdca26"
             ],
             [
              1,
              "#f0f921"
             ]
            ],
            "type": "contour"
           }
          ],
          "contourcarpet": [
           {
            "colorbar": {
             "outlinewidth": 0,
             "ticks": ""
            },
            "type": "contourcarpet"
           }
          ],
          "heatmap": [
           {
            "colorbar": {
             "outlinewidth": 0,
             "ticks": ""
            },
            "colorscale": [
             [
              0,
              "#0d0887"
             ],
             [
              0.1111111111111111,
              "#46039f"
             ],
             [
              0.2222222222222222,
              "#7201a8"
             ],
             [
              0.3333333333333333,
              "#9c179e"
             ],
             [
              0.4444444444444444,
              "#bd3786"
             ],
             [
              0.5555555555555556,
              "#d8576b"
             ],
             [
              0.6666666666666666,
              "#ed7953"
             ],
             [
              0.7777777777777778,
              "#fb9f3a"
             ],
             [
              0.8888888888888888,
              "#fdca26"
             ],
             [
              1,
              "#f0f921"
             ]
            ],
            "type": "heatmap"
           }
          ],
          "heatmapgl": [
           {
            "colorbar": {
             "outlinewidth": 0,
             "ticks": ""
            },
            "colorscale": [
             [
              0,
              "#0d0887"
             ],
             [
              0.1111111111111111,
              "#46039f"
             ],
             [
              0.2222222222222222,
              "#7201a8"
             ],
             [
              0.3333333333333333,
              "#9c179e"
             ],
             [
              0.4444444444444444,
              "#bd3786"
             ],
             [
              0.5555555555555556,
              "#d8576b"
             ],
             [
              0.6666666666666666,
              "#ed7953"
             ],
             [
              0.7777777777777778,
              "#fb9f3a"
             ],
             [
              0.8888888888888888,
              "#fdca26"
             ],
             [
              1,
              "#f0f921"
             ]
            ],
            "type": "heatmapgl"
           }
          ],
          "histogram": [
           {
            "marker": {
             "colorbar": {
              "outlinewidth": 0,
              "ticks": ""
             }
            },
            "type": "histogram"
           }
          ],
          "histogram2d": [
           {
            "colorbar": {
             "outlinewidth": 0,
             "ticks": ""
            },
            "colorscale": [
             [
              0,
              "#0d0887"
             ],
             [
              0.1111111111111111,
              "#46039f"
             ],
             [
              0.2222222222222222,
              "#7201a8"
             ],
             [
              0.3333333333333333,
              "#9c179e"
             ],
             [
              0.4444444444444444,
              "#bd3786"
             ],
             [
              0.5555555555555556,
              "#d8576b"
             ],
             [
              0.6666666666666666,
              "#ed7953"
             ],
             [
              0.7777777777777778,
              "#fb9f3a"
             ],
             [
              0.8888888888888888,
              "#fdca26"
             ],
             [
              1,
              "#f0f921"
             ]
            ],
            "type": "histogram2d"
           }
          ],
          "histogram2dcontour": [
           {
            "colorbar": {
             "outlinewidth": 0,
             "ticks": ""
            },
            "colorscale": [
             [
              0,
              "#0d0887"
             ],
             [
              0.1111111111111111,
              "#46039f"
             ],
             [
              0.2222222222222222,
              "#7201a8"
             ],
             [
              0.3333333333333333,
              "#9c179e"
             ],
             [
              0.4444444444444444,
              "#bd3786"
             ],
             [
              0.5555555555555556,
              "#d8576b"
             ],
             [
              0.6666666666666666,
              "#ed7953"
             ],
             [
              0.7777777777777778,
              "#fb9f3a"
             ],
             [
              0.8888888888888888,
              "#fdca26"
             ],
             [
              1,
              "#f0f921"
             ]
            ],
            "type": "histogram2dcontour"
           }
          ],
          "mesh3d": [
           {
            "colorbar": {
             "outlinewidth": 0,
             "ticks": ""
            },
            "type": "mesh3d"
           }
          ],
          "parcoords": [
           {
            "line": {
             "colorbar": {
              "outlinewidth": 0,
              "ticks": ""
             }
            },
            "type": "parcoords"
           }
          ],
          "scatter": [
           {
            "marker": {
             "colorbar": {
              "outlinewidth": 0,
              "ticks": ""
             }
            },
            "type": "scatter"
           }
          ],
          "scatter3d": [
           {
            "line": {
             "colorbar": {
              "outlinewidth": 0,
              "ticks": ""
             }
            },
            "marker": {
             "colorbar": {
              "outlinewidth": 0,
              "ticks": ""
             }
            },
            "type": "scatter3d"
           }
          ],
          "scattercarpet": [
           {
            "marker": {
             "colorbar": {
              "outlinewidth": 0,
              "ticks": ""
             }
            },
            "type": "scattercarpet"
           }
          ],
          "scattergeo": [
           {
            "marker": {
             "colorbar": {
              "outlinewidth": 0,
              "ticks": ""
             }
            },
            "type": "scattergeo"
           }
          ],
          "scattergl": [
           {
            "marker": {
             "colorbar": {
              "outlinewidth": 0,
              "ticks": ""
             }
            },
            "type": "scattergl"
           }
          ],
          "scattermapbox": [
           {
            "marker": {
             "colorbar": {
              "outlinewidth": 0,
              "ticks": ""
             }
            },
            "type": "scattermapbox"
           }
          ],
          "scatterpolar": [
           {
            "marker": {
             "colorbar": {
              "outlinewidth": 0,
              "ticks": ""
             }
            },
            "type": "scatterpolar"
           }
          ],
          "scatterpolargl": [
           {
            "marker": {
             "colorbar": {
              "outlinewidth": 0,
              "ticks": ""
             }
            },
            "type": "scatterpolargl"
           }
          ],
          "scatterternary": [
           {
            "marker": {
             "colorbar": {
              "outlinewidth": 0,
              "ticks": ""
             }
            },
            "type": "scatterternary"
           }
          ],
          "surface": [
           {
            "colorbar": {
             "outlinewidth": 0,
             "ticks": ""
            },
            "colorscale": [
             [
              0,
              "#0d0887"
             ],
             [
              0.1111111111111111,
              "#46039f"
             ],
             [
              0.2222222222222222,
              "#7201a8"
             ],
             [
              0.3333333333333333,
              "#9c179e"
             ],
             [
              0.4444444444444444,
              "#bd3786"
             ],
             [
              0.5555555555555556,
              "#d8576b"
             ],
             [
              0.6666666666666666,
              "#ed7953"
             ],
             [
              0.7777777777777778,
              "#fb9f3a"
             ],
             [
              0.8888888888888888,
              "#fdca26"
             ],
             [
              1,
              "#f0f921"
             ]
            ],
            "type": "surface"
           }
          ],
          "table": [
           {
            "cells": {
             "fill": {
              "color": "#EBF0F8"
             },
             "line": {
              "color": "white"
             }
            },
            "header": {
             "fill": {
              "color": "#C8D4E3"
             },
             "line": {
              "color": "white"
             }
            },
            "type": "table"
           }
          ]
         },
         "layout": {
          "annotationdefaults": {
           "arrowcolor": "#2a3f5f",
           "arrowhead": 0,
           "arrowwidth": 1
          },
          "colorscale": {
           "diverging": [
            [
             0,
             "#8e0152"
            ],
            [
             0.1,
             "#c51b7d"
            ],
            [
             0.2,
             "#de77ae"
            ],
            [
             0.3,
             "#f1b6da"
            ],
            [
             0.4,
             "#fde0ef"
            ],
            [
             0.5,
             "#f7f7f7"
            ],
            [
             0.6,
             "#e6f5d0"
            ],
            [
             0.7,
             "#b8e186"
            ],
            [
             0.8,
             "#7fbc41"
            ],
            [
             0.9,
             "#4d9221"
            ],
            [
             1,
             "#276419"
            ]
           ],
           "sequential": [
            [
             0,
             "#0d0887"
            ],
            [
             0.1111111111111111,
             "#46039f"
            ],
            [
             0.2222222222222222,
             "#7201a8"
            ],
            [
             0.3333333333333333,
             "#9c179e"
            ],
            [
             0.4444444444444444,
             "#bd3786"
            ],
            [
             0.5555555555555556,
             "#d8576b"
            ],
            [
             0.6666666666666666,
             "#ed7953"
            ],
            [
             0.7777777777777778,
             "#fb9f3a"
            ],
            [
             0.8888888888888888,
             "#fdca26"
            ],
            [
             1,
             "#f0f921"
            ]
           ],
           "sequentialminus": [
            [
             0,
             "#0d0887"
            ],
            [
             0.1111111111111111,
             "#46039f"
            ],
            [
             0.2222222222222222,
             "#7201a8"
            ],
            [
             0.3333333333333333,
             "#9c179e"
            ],
            [
             0.4444444444444444,
             "#bd3786"
            ],
            [
             0.5555555555555556,
             "#d8576b"
            ],
            [
             0.6666666666666666,
             "#ed7953"
            ],
            [
             0.7777777777777778,
             "#fb9f3a"
            ],
            [
             0.8888888888888888,
             "#fdca26"
            ],
            [
             1,
             "#f0f921"
            ]
           ]
          },
          "colorway": [
           "#636efa",
           "#EF553B",
           "#00cc96",
           "#ab63fa",
           "#FFA15A",
           "#19d3f3",
           "#FF6692",
           "#B6E880",
           "#FF97FF",
           "#FECB52"
          ],
          "font": {
           "color": "#2a3f5f"
          },
          "geo": {
           "bgcolor": "white",
           "lakecolor": "white",
           "landcolor": "#E5ECF6",
           "showlakes": true,
           "showland": true,
           "subunitcolor": "white"
          },
          "hoverlabel": {
           "align": "left"
          },
          "hovermode": "closest",
          "mapbox": {
           "style": "light"
          },
          "paper_bgcolor": "white",
          "plot_bgcolor": "#E5ECF6",
          "polar": {
           "angularaxis": {
            "gridcolor": "white",
            "linecolor": "white",
            "ticks": ""
           },
           "bgcolor": "#E5ECF6",
           "radialaxis": {
            "gridcolor": "white",
            "linecolor": "white",
            "ticks": ""
           }
          },
          "scene": {
           "xaxis": {
            "backgroundcolor": "#E5ECF6",
            "gridcolor": "white",
            "gridwidth": 2,
            "linecolor": "white",
            "showbackground": true,
            "ticks": "",
            "zerolinecolor": "white"
           },
           "yaxis": {
            "backgroundcolor": "#E5ECF6",
            "gridcolor": "white",
            "gridwidth": 2,
            "linecolor": "white",
            "showbackground": true,
            "ticks": "",
            "zerolinecolor": "white"
           },
           "zaxis": {
            "backgroundcolor": "#E5ECF6",
            "gridcolor": "white",
            "gridwidth": 2,
            "linecolor": "white",
            "showbackground": true,
            "ticks": "",
            "zerolinecolor": "white"
           }
          },
          "shapedefaults": {
           "line": {
            "color": "#2a3f5f"
           }
          },
          "ternary": {
           "aaxis": {
            "gridcolor": "white",
            "linecolor": "white",
            "ticks": ""
           },
           "baxis": {
            "gridcolor": "white",
            "linecolor": "white",
            "ticks": ""
           },
           "bgcolor": "#E5ECF6",
           "caxis": {
            "gridcolor": "white",
            "linecolor": "white",
            "ticks": ""
           }
          },
          "title": {
           "x": 0.05
          },
          "xaxis": {
           "automargin": true,
           "gridcolor": "white",
           "linecolor": "white",
           "ticks": "",
           "zerolinecolor": "white",
           "zerolinewidth": 2
          },
          "yaxis": {
           "automargin": true,
           "gridcolor": "white",
           "linecolor": "white",
           "ticks": "",
           "zerolinecolor": "white",
           "zerolinewidth": 2
          }
         }
        },
        "title": {
         "font": {
          "color": "#4D5663"
         }
        },
        "xaxis": {
         "gridcolor": "#E1E5ED",
         "showgrid": true,
         "tickfont": {
          "color": "#4D5663"
         },
         "title": {
          "font": {
           "color": "#4D5663"
          },
          "text": ""
         },
         "zerolinecolor": "#E1E5ED"
        },
        "yaxis": {
         "gridcolor": "#E1E5ED",
         "showgrid": true,
         "tickfont": {
          "color": "#4D5663"
         },
         "title": {
          "font": {
           "color": "#4D5663"
          },
          "text": ""
         },
         "zerolinecolor": "#E1E5ED"
        }
       }
      },
      "text/html": [
       "<div>\n",
       "        \n",
       "        \n",
       "            <div id=\"922e0051-f07f-4284-8469-4822dc88d3d2\" class=\"plotly-graph-div\" style=\"height:525px; width:100%;\"></div>\n",
       "            <script type=\"text/javascript\">\n",
       "                require([\"plotly\"], function(Plotly) {\n",
       "                    window.PLOTLYENV=window.PLOTLYENV || {};\n",
       "                    window.PLOTLYENV.BASE_URL='https://plot.ly';\n",
       "                    \n",
       "                if (document.getElementById(\"922e0051-f07f-4284-8469-4822dc88d3d2\")) {\n",
       "                    Plotly.newPlot(\n",
       "                        '922e0051-f07f-4284-8469-4822dc88d3d2',\n",
       "                        [{\"boxpoints\": false, \"line\": {\"width\": 1.3}, \"marker\": {\"color\": \"rgba(255, 153, 51, 1.0)\"}, \"name\": \"A\", \"orientation\": \"v\", \"type\": \"box\", \"y\": [2.069081317248437, -1.9586988201017066, 0.31687259557075065, 0.3163933211791377, -0.16623943248273207, 1.5497820365156982, -1.7297768914284835, 0.5697825774153621, -0.7032361365794662, -0.8268251660691491, 1.2467171956322265, -1.0757476486572177, -0.165999174967776, 0.42843672539742184, -0.25675899385138395, 0.22587079145601774, 1.9166425271506045, -0.640237220836307, -0.6861772522003287, -0.5586527440178088, -2.5054824095350603, 0.4409074736412183, -1.9900902601521533, -0.5210386202937979, -0.5080735923466261, -0.7618302051217163, 0.8385206587443153, 1.4112551979094434, -0.35899178289305833, -0.7583551270205274, 0.1801450370472393, -1.668881029521964, -0.7631515357140278, -0.6703114133478807, -1.4410620768665687, 0.8743716919027011, 1.3712437328971603, 1.8015066568239602, -1.3793914176363382, -0.310781082112185, 0.21539737058955025, 0.26100127321811867, -0.5720033350321432, 2.132914188699778, -1.6315266835701523, 0.6116058285290135, -1.375542976417157, 0.5516327908947728, -0.8291435228557643, -0.10741096952517305, 0.466848431170696, 0.8433508517657493, 0.11636175879694592, 0.5598366538046764, 0.24914272694522172, -0.06884643442780915, -0.4084858316707387, -1.4051726071742447, -0.30645623254003573, 1.7389939017633762, -1.069248683755255, 1.6834497814923641, 1.346355028489932, -0.6762454051862051, 0.9031060789060906, 1.1356794877473801, -0.40881973318811055, 0.7063794517678516, -0.4152686536633678, -0.996637064263391, -0.05603719295495405, 0.3267743031922197, -0.7097067062730879, 0.4433270622616412, 0.379617908590977, -0.43494427079199754, 1.7809685905508235, 1.6966147780256329, 1.4906595522423403, 0.4809146675204936, -1.3864972445511055, -0.6595869670593304, -0.5506363437289727, 0.5980724890985413, -1.1521791912703487, -0.3175929792191654, -1.8718075854411518, -0.27684143268620376, -1.6259350828226837, 1.2269730494900373, -0.048869330284592144, 1.5957901102313448, -0.040539979809508665, 1.3204254982305588, -0.035534127153365694, 0.9671163301831622, 0.5214914391803923, 0.9508548035963178, 0.05960270547188383, -0.01561286021245415]}, {\"boxpoints\": false, \"line\": {\"width\": 1.3}, \"marker\": {\"color\": \"rgba(55, 128, 191, 1.0)\"}, \"name\": \"B\", \"orientation\": \"v\", \"type\": \"box\", \"y\": [0.5371406102484116, -0.7630355998932787, -2.4858162864857523, 1.2592066808607159, 0.9595436226520081, -0.8081156938171563, 0.9958728377864831, -0.04591061914796954, 0.6904010738181772, -0.5511142392207588, 1.4402893831504124, 0.35305376609086747, 0.7972779169691322, 0.34537746993804025, 1.31874407327095, 1.6969578374319672, -2.380558289248379, -0.42479170062544036, 0.7611985790453921, -1.4523150254476245, 0.587450547772239, 0.15513270402904678, 0.3816171930588017, -0.3485622560270526, -0.2233077072848466, -0.06657166845739156, -0.4699219481124245, 1.2162365035510758, -0.08247111159833434, -0.26576094186048205, 0.6287146222239482, 0.5464995934949134, -1.0413503318774242, -0.6133269467314942, 1.7897861110849156, -1.4636448182885142, -0.6082089722636107, -0.18944182747086188, 1.1535409107981895, -0.2610438758985015, 0.7607204950976051, 0.8689659293485391, -1.0408678834637686, -1.8697259764998884, 0.052957623660512085, -0.4752375307599897, -0.6894315405633875, 0.20660004628802267, 0.41587696940825136, 0.11794519060016996, -0.5483109902790982, 0.2204585387263463, -0.0814497894297341, -0.4261861035950627, -0.021917182184465037, 0.35222734994579635, -0.24159158765078223, -1.245418117537442, 1.0216068651998909, 0.2639425680704423, 0.9241230815489991, 1.0987810469821897, -1.2581918632792053, -0.3047137245763503, 0.60914107898099, -0.9152188042552775, -0.26765853410307033, -2.0075144589553195, 0.8147844678127948, -0.13131685638323615, -1.311225180991742, -0.04852659651473337, -1.218931042803003, -1.024830966258147, 0.12385012282058273, -0.20982791576190235, -0.24678271085565104, 0.5154062122960229, 0.1544833714506777, -0.41404378573783396, -1.2860894727014949, -1.437949062500608, 2.4274363130615795, -0.4573332199984909, 0.7826881088936185, -0.10934943159905164, -0.5949196074311865, 0.03144939194326923, 1.524309150436032, -0.23392802647924565, 0.5361360451160111, -0.7495155351889765, -0.18096629842077092, 1.558544319601368, 1.7517499105114092, -0.39371248209055115, 0.345362285426185, -0.7860338813922241, 1.900836644872969, -0.6373552719220384]}, {\"boxpoints\": false, \"line\": {\"width\": 1.3}, \"marker\": {\"color\": \"rgba(50, 171, 96, 1.0)\"}, \"name\": \"C\", \"orientation\": \"v\", \"type\": \"box\", \"y\": [-0.6850215014043163, -1.2412518834652546, -0.3946676954847482, 0.7651845615941001, 0.8539049176742748, -0.37644014904789597, -0.32772970648204053, 0.02834189527309373, -0.9504524445878754, 0.8230972624100741, -1.7142178136821131, 0.33112410774976675, 0.016363052685521937, -0.43413069570491963, -1.5738282812386328, 0.03489961725557421, -0.12246618896219813, -0.6146165254190183, 0.43031162267834133, 0.06397533316452905, -0.490651552827173, 1.3735403366482595, 0.8188391172357061, -0.02980846654887524, -0.31099894785936216, -0.2735335159583621, 0.4179333738998075, -0.5715943544758427, 0.1344414889806831, -1.521533327628918, -0.6689381159428938, 0.15251369394908768, -0.36431107964479786, -0.10028586033516866, -2.6732007415098575, 0.11324362012281179, -0.048704678642151784, 1.4180214987115798, -0.8867526618791968, -1.5253768240139522, 1.8287289167343548, -0.7592255448926566, -0.0671946927632733, 0.1754235812981672, -1.0358340705530713, 0.0019515411977063064, 0.048488005484730506, -0.44430593841028115, -0.2331860016412143, 1.1627105571515324, 0.5660950651322101, -0.6786210624157247, -0.20721530694253, -0.07151740505683823, -0.6818973591112406, -1.324645088015891, -0.2310949839970945, -0.8492294245819209, 0.210864914686496, -0.5009556142676546, 1.1266769334653688, 2.248449891487893, -1.9246130542716733, -1.1722170464527613, 0.09141428654928084, 1.1753076792060488, -0.43191016662870235, -1.1616224424459403, 1.3823367200683663, -1.6837964741457006, -0.3211979035283138, 0.10236534755693119, 2.061701313426245, 0.5473232701612604, -0.24896171576994267, 0.6318260116940371, -0.8575144563857071, -0.06710741764459427, 1.0667462425791259, 1.2325174883238221, -1.2629602105446083, 0.9494335560653758, 1.413884715443827, 0.5129628018179038, 0.2560733737865519, -0.8923394405259693, 0.8888377362062309, -0.688304615890909, 1.1748715811398724, -0.7300124099889382, 1.6207942045893935, 0.07057876461498128, 0.1381467197907667, -0.15809627739176416, -0.12616914469849583, -0.6426296324989368, -1.1256061558648365, -0.2819777712287155, 0.25792572295089744, -1.3031790480572327]}, {\"boxpoints\": false, \"line\": {\"width\": 1.3}, \"marker\": {\"color\": \"rgba(128, 0, 128, 1.0)\"}, \"name\": \"D\", \"orientation\": \"v\", \"type\": \"box\", \"y\": [2.014247115270905, -0.7428208160857449, -1.309030944216816, -2.478092924371268, -0.6280100446363561, 1.0291618666179578, -0.26691667588585155, 1.313422842184512, -1.970495819360091, 0.11411545090210919, 0.9181163750127501, -0.29858708158689656, -0.26612821659138275, -0.973581285673536, -0.20814284985497686, -0.2558327791930005, 0.37891920212858315, 1.1085200274370157, -1.0002458133975058, -0.33242083339553374, -0.9749877501914137, 1.15811018558237, 0.5169718463650118, -1.274743874217198, 2.006624857298406, 0.25511767166704996, -0.30164693812853194, 0.06354489502755675, -1.0197590712944298, 0.3253988257390908, -0.7933307740387828, -0.8036699362969526, 0.1043611568074112, 1.3437747133382383, -0.5894175974959336, -0.49893973790798285, -0.47525780077383467, -0.9390740838969601, 1.4442447945726926, -0.7540442676823031, 1.5830342653142089, 0.6438885132208334, 0.2990209607177709, 0.17577833233795892, 1.4195280629117475, 1.3131698831594645, 1.0031714131683982, 1.7632422224160416, 0.11073442737923893, -0.5828009953990801, -0.486770021231336, -0.3839996428127627, -0.4391568257246189, -0.44417511214167693, -0.3318415514093242, 0.11211566642523081, 0.6104668682054902, -0.49044106556725764, -0.8714167589345827, -1.6880287466088721, 1.3880439298208682, 0.007243106345136585, -0.7003319230422439, 0.9207544153619949, 1.8122011583635331, 0.21520079658506217, 1.338945422952007, -1.3559156793828218, 1.0675500203465638, 0.22685073583400517, 1.3147667676333779, -0.8512121329769073, -1.00825773280854, -0.05585947679402678, -1.9087662048270295, -1.1700986548099093, -0.14527278661267826, 0.22093226813171887, 1.624520241139117, 1.508494359617955, 0.6357187352707607, 0.4533273679564344, 0.07956108166066125, -0.8250424975633813, -1.6091491496953354, 0.8742516509758052, -2.491823621271737, -0.042188676755759956, 1.2969695278585485, 0.42802263329645285, 1.3549457569635972, 0.011100810382680232, -0.5876763575631399, -0.34431210228354003, -0.6782744890719055, 1.3916341438432032, -0.12101914607071254, -1.7419381441262538, 0.3707115678108203, 0.5024782457297611]}],\n",
       "                        {\"legend\": {\"bgcolor\": \"#F5F6F9\", \"font\": {\"color\": \"#4D5663\"}}, \"paper_bgcolor\": \"#F5F6F9\", \"plot_bgcolor\": \"#F5F6F9\", \"template\": {\"data\": {\"bar\": [{\"error_x\": {\"color\": \"#2a3f5f\"}, \"error_y\": {\"color\": \"#2a3f5f\"}, \"marker\": {\"line\": {\"color\": \"#E5ECF6\", \"width\": 0.5}}, \"type\": \"bar\"}], \"barpolar\": [{\"marker\": {\"line\": {\"color\": \"#E5ECF6\", \"width\": 0.5}}, \"type\": \"barpolar\"}], \"carpet\": [{\"aaxis\": {\"endlinecolor\": \"#2a3f5f\", \"gridcolor\": \"white\", \"linecolor\": \"white\", \"minorgridcolor\": \"white\", \"startlinecolor\": \"#2a3f5f\"}, \"baxis\": {\"endlinecolor\": \"#2a3f5f\", \"gridcolor\": \"white\", \"linecolor\": \"white\", \"minorgridcolor\": \"white\", \"startlinecolor\": \"#2a3f5f\"}, \"type\": \"carpet\"}], \"choropleth\": [{\"colorbar\": {\"outlinewidth\": 0, \"ticks\": \"\"}, \"type\": \"choropleth\"}], \"contour\": [{\"colorbar\": {\"outlinewidth\": 0, \"ticks\": \"\"}, \"colorscale\": [[0.0, \"#0d0887\"], [0.1111111111111111, \"#46039f\"], [0.2222222222222222, \"#7201a8\"], [0.3333333333333333, \"#9c179e\"], [0.4444444444444444, \"#bd3786\"], [0.5555555555555556, \"#d8576b\"], [0.6666666666666666, \"#ed7953\"], [0.7777777777777778, \"#fb9f3a\"], [0.8888888888888888, \"#fdca26\"], [1.0, \"#f0f921\"]], \"type\": \"contour\"}], \"contourcarpet\": [{\"colorbar\": {\"outlinewidth\": 0, \"ticks\": \"\"}, \"type\": \"contourcarpet\"}], \"heatmap\": [{\"colorbar\": {\"outlinewidth\": 0, \"ticks\": \"\"}, \"colorscale\": [[0.0, \"#0d0887\"], [0.1111111111111111, \"#46039f\"], [0.2222222222222222, \"#7201a8\"], [0.3333333333333333, \"#9c179e\"], [0.4444444444444444, \"#bd3786\"], [0.5555555555555556, \"#d8576b\"], [0.6666666666666666, \"#ed7953\"], [0.7777777777777778, \"#fb9f3a\"], [0.8888888888888888, \"#fdca26\"], [1.0, \"#f0f921\"]], \"type\": \"heatmap\"}], \"heatmapgl\": [{\"colorbar\": {\"outlinewidth\": 0, \"ticks\": \"\"}, \"colorscale\": [[0.0, \"#0d0887\"], [0.1111111111111111, \"#46039f\"], [0.2222222222222222, \"#7201a8\"], [0.3333333333333333, \"#9c179e\"], [0.4444444444444444, \"#bd3786\"], [0.5555555555555556, \"#d8576b\"], [0.6666666666666666, \"#ed7953\"], [0.7777777777777778, \"#fb9f3a\"], [0.8888888888888888, \"#fdca26\"], [1.0, \"#f0f921\"]], \"type\": \"heatmapgl\"}], \"histogram\": [{\"marker\": {\"colorbar\": {\"outlinewidth\": 0, \"ticks\": \"\"}}, \"type\": \"histogram\"}], \"histogram2d\": [{\"colorbar\": {\"outlinewidth\": 0, \"ticks\": \"\"}, \"colorscale\": [[0.0, \"#0d0887\"], [0.1111111111111111, \"#46039f\"], [0.2222222222222222, \"#7201a8\"], [0.3333333333333333, \"#9c179e\"], [0.4444444444444444, \"#bd3786\"], [0.5555555555555556, \"#d8576b\"], [0.6666666666666666, \"#ed7953\"], [0.7777777777777778, \"#fb9f3a\"], [0.8888888888888888, \"#fdca26\"], [1.0, \"#f0f921\"]], \"type\": \"histogram2d\"}], \"histogram2dcontour\": [{\"colorbar\": {\"outlinewidth\": 0, \"ticks\": \"\"}, \"colorscale\": [[0.0, \"#0d0887\"], [0.1111111111111111, \"#46039f\"], [0.2222222222222222, \"#7201a8\"], [0.3333333333333333, \"#9c179e\"], [0.4444444444444444, \"#bd3786\"], [0.5555555555555556, \"#d8576b\"], [0.6666666666666666, \"#ed7953\"], [0.7777777777777778, \"#fb9f3a\"], [0.8888888888888888, \"#fdca26\"], [1.0, \"#f0f921\"]], \"type\": \"histogram2dcontour\"}], \"mesh3d\": [{\"colorbar\": {\"outlinewidth\": 0, \"ticks\": \"\"}, \"type\": \"mesh3d\"}], \"parcoords\": [{\"line\": {\"colorbar\": {\"outlinewidth\": 0, \"ticks\": \"\"}}, \"type\": \"parcoords\"}], \"scatter\": [{\"marker\": {\"colorbar\": {\"outlinewidth\": 0, \"ticks\": \"\"}}, \"type\": \"scatter\"}], \"scatter3d\": [{\"line\": {\"colorbar\": {\"outlinewidth\": 0, \"ticks\": \"\"}}, \"marker\": {\"colorbar\": {\"outlinewidth\": 0, \"ticks\": \"\"}}, \"type\": \"scatter3d\"}], \"scattercarpet\": [{\"marker\": {\"colorbar\": {\"outlinewidth\": 0, \"ticks\": \"\"}}, \"type\": \"scattercarpet\"}], \"scattergeo\": [{\"marker\": {\"colorbar\": {\"outlinewidth\": 0, \"ticks\": \"\"}}, \"type\": \"scattergeo\"}], \"scattergl\": [{\"marker\": {\"colorbar\": {\"outlinewidth\": 0, \"ticks\": \"\"}}, \"type\": \"scattergl\"}], \"scattermapbox\": [{\"marker\": {\"colorbar\": {\"outlinewidth\": 0, \"ticks\": \"\"}}, \"type\": \"scattermapbox\"}], \"scatterpolar\": [{\"marker\": {\"colorbar\": {\"outlinewidth\": 0, \"ticks\": \"\"}}, \"type\": \"scatterpolar\"}], \"scatterpolargl\": [{\"marker\": {\"colorbar\": {\"outlinewidth\": 0, \"ticks\": \"\"}}, \"type\": \"scatterpolargl\"}], \"scatterternary\": [{\"marker\": {\"colorbar\": {\"outlinewidth\": 0, \"ticks\": \"\"}}, \"type\": \"scatterternary\"}], \"surface\": [{\"colorbar\": {\"outlinewidth\": 0, \"ticks\": \"\"}, \"colorscale\": [[0.0, \"#0d0887\"], [0.1111111111111111, \"#46039f\"], [0.2222222222222222, \"#7201a8\"], [0.3333333333333333, \"#9c179e\"], [0.4444444444444444, \"#bd3786\"], [0.5555555555555556, \"#d8576b\"], [0.6666666666666666, \"#ed7953\"], [0.7777777777777778, \"#fb9f3a\"], [0.8888888888888888, \"#fdca26\"], [1.0, \"#f0f921\"]], \"type\": \"surface\"}], \"table\": [{\"cells\": {\"fill\": {\"color\": \"#EBF0F8\"}, \"line\": {\"color\": \"white\"}}, \"header\": {\"fill\": {\"color\": \"#C8D4E3\"}, \"line\": {\"color\": \"white\"}}, \"type\": \"table\"}]}, \"layout\": {\"annotationdefaults\": {\"arrowcolor\": \"#2a3f5f\", \"arrowhead\": 0, \"arrowwidth\": 1}, \"colorscale\": {\"diverging\": [[0, \"#8e0152\"], [0.1, \"#c51b7d\"], [0.2, \"#de77ae\"], [0.3, \"#f1b6da\"], [0.4, \"#fde0ef\"], [0.5, \"#f7f7f7\"], [0.6, \"#e6f5d0\"], [0.7, \"#b8e186\"], [0.8, \"#7fbc41\"], [0.9, \"#4d9221\"], [1, \"#276419\"]], \"sequential\": [[0.0, \"#0d0887\"], [0.1111111111111111, \"#46039f\"], [0.2222222222222222, \"#7201a8\"], [0.3333333333333333, \"#9c179e\"], [0.4444444444444444, \"#bd3786\"], [0.5555555555555556, \"#d8576b\"], [0.6666666666666666, \"#ed7953\"], [0.7777777777777778, \"#fb9f3a\"], [0.8888888888888888, \"#fdca26\"], [1.0, \"#f0f921\"]], \"sequentialminus\": [[0.0, \"#0d0887\"], [0.1111111111111111, \"#46039f\"], [0.2222222222222222, \"#7201a8\"], [0.3333333333333333, \"#9c179e\"], [0.4444444444444444, \"#bd3786\"], [0.5555555555555556, \"#d8576b\"], [0.6666666666666666, \"#ed7953\"], [0.7777777777777778, \"#fb9f3a\"], [0.8888888888888888, \"#fdca26\"], [1.0, \"#f0f921\"]]}, \"colorway\": [\"#636efa\", \"#EF553B\", \"#00cc96\", \"#ab63fa\", \"#FFA15A\", \"#19d3f3\", \"#FF6692\", \"#B6E880\", \"#FF97FF\", \"#FECB52\"], \"font\": {\"color\": \"#2a3f5f\"}, \"geo\": {\"bgcolor\": \"white\", \"lakecolor\": \"white\", \"landcolor\": \"#E5ECF6\", \"showlakes\": true, \"showland\": true, \"subunitcolor\": \"white\"}, \"hoverlabel\": {\"align\": \"left\"}, \"hovermode\": \"closest\", \"mapbox\": {\"style\": \"light\"}, \"paper_bgcolor\": \"white\", \"plot_bgcolor\": \"#E5ECF6\", \"polar\": {\"angularaxis\": {\"gridcolor\": \"white\", \"linecolor\": \"white\", \"ticks\": \"\"}, \"bgcolor\": \"#E5ECF6\", \"radialaxis\": {\"gridcolor\": \"white\", \"linecolor\": \"white\", \"ticks\": \"\"}}, \"scene\": {\"xaxis\": {\"backgroundcolor\": \"#E5ECF6\", \"gridcolor\": \"white\", \"gridwidth\": 2, \"linecolor\": \"white\", \"showbackground\": true, \"ticks\": \"\", \"zerolinecolor\": \"white\"}, \"yaxis\": {\"backgroundcolor\": \"#E5ECF6\", \"gridcolor\": \"white\", \"gridwidth\": 2, \"linecolor\": \"white\", \"showbackground\": true, \"ticks\": \"\", \"zerolinecolor\": \"white\"}, \"zaxis\": {\"backgroundcolor\": \"#E5ECF6\", \"gridcolor\": \"white\", \"gridwidth\": 2, \"linecolor\": \"white\", \"showbackground\": true, \"ticks\": \"\", \"zerolinecolor\": \"white\"}}, \"shapedefaults\": {\"line\": {\"color\": \"#2a3f5f\"}}, \"ternary\": {\"aaxis\": {\"gridcolor\": \"white\", \"linecolor\": \"white\", \"ticks\": \"\"}, \"baxis\": {\"gridcolor\": \"white\", \"linecolor\": \"white\", \"ticks\": \"\"}, \"bgcolor\": \"#E5ECF6\", \"caxis\": {\"gridcolor\": \"white\", \"linecolor\": \"white\", \"ticks\": \"\"}}, \"title\": {\"x\": 0.05}, \"xaxis\": {\"automargin\": true, \"gridcolor\": \"white\", \"linecolor\": \"white\", \"ticks\": \"\", \"zerolinecolor\": \"white\", \"zerolinewidth\": 2}, \"yaxis\": {\"automargin\": true, \"gridcolor\": \"white\", \"linecolor\": \"white\", \"ticks\": \"\", \"zerolinecolor\": \"white\", \"zerolinewidth\": 2}}}, \"title\": {\"font\": {\"color\": \"#4D5663\"}}, \"xaxis\": {\"gridcolor\": \"#E1E5ED\", \"showgrid\": true, \"tickfont\": {\"color\": \"#4D5663\"}, \"title\": {\"font\": {\"color\": \"#4D5663\"}, \"text\": \"\"}, \"zerolinecolor\": \"#E1E5ED\"}, \"yaxis\": {\"gridcolor\": \"#E1E5ED\", \"showgrid\": true, \"tickfont\": {\"color\": \"#4D5663\"}, \"title\": {\"font\": {\"color\": \"#4D5663\"}, \"text\": \"\"}, \"zerolinecolor\": \"#E1E5ED\"}},\n",
       "                        {\"showLink\": true, \"linkText\": \"Export to plot.ly\", \"plotlyServerURL\": \"https://plot.ly\", \"responsive\": true}\n",
       "                    ).then(function(){\n",
       "                            \n",
       "var gd = document.getElementById('922e0051-f07f-4284-8469-4822dc88d3d2');\n",
       "var x = new MutationObserver(function (mutations, observer) {{\n",
       "        var display = window.getComputedStyle(gd).display;\n",
       "        if (!display || display === 'none') {{\n",
       "            console.log([gd, 'removed!']);\n",
       "            Plotly.purge(gd);\n",
       "            observer.disconnect();\n",
       "        }}\n",
       "}});\n",
       "\n",
       "// Listen for the removal of the full notebook cells\n",
       "var notebookContainer = gd.closest('#notebook-container');\n",
       "if (notebookContainer) {{\n",
       "    x.observe(notebookContainer, {childList: true});\n",
       "}}\n",
       "\n",
       "// Listen for the clearing of the current output cell\n",
       "var outputEl = gd.closest('.output');\n",
       "if (outputEl) {{\n",
       "    x.observe(outputEl, {childList: true});\n",
       "}}\n",
       "\n",
       "                        })\n",
       "                };\n",
       "                });\n",
       "            </script>\n",
       "        </div>"
      ]
     },
     "metadata": {},
     "output_type": "display_data"
    }
   ],
   "source": [
    "# boxplot will automatically do that sort of aggregation for distribution\n",
    "\n",
    "df.iplot(kind = 'box')"
   ]
  },
  {
   "cell_type": "markdown",
   "metadata": {},
   "source": [
    "### 5. surfaceplot\n",
    "\n",
    "three dimensional"
   ]
  },
  {
   "cell_type": "code",
   "execution_count": 23,
   "metadata": {},
   "outputs": [],
   "source": [
    "df2 = pd.DataFrame({'x':[1,2,3,4,5],'y':[10,20,30,20,10],'z':[500,400,300,200,100]})"
   ]
  },
  {
   "cell_type": "code",
   "execution_count": 24,
   "metadata": {},
   "outputs": [
    {
     "data": {
      "text/html": [
       "<div>\n",
       "<style scoped>\n",
       "    .dataframe tbody tr th:only-of-type {\n",
       "        vertical-align: middle;\n",
       "    }\n",
       "\n",
       "    .dataframe tbody tr th {\n",
       "        vertical-align: top;\n",
       "    }\n",
       "\n",
       "    .dataframe thead th {\n",
       "        text-align: right;\n",
       "    }\n",
       "</style>\n",
       "<table border=\"1\" class=\"dataframe\">\n",
       "  <thead>\n",
       "    <tr style=\"text-align: right;\">\n",
       "      <th></th>\n",
       "      <th>x</th>\n",
       "      <th>y</th>\n",
       "      <th>z</th>\n",
       "    </tr>\n",
       "  </thead>\n",
       "  <tbody>\n",
       "    <tr>\n",
       "      <td>0</td>\n",
       "      <td>1</td>\n",
       "      <td>10</td>\n",
       "      <td>500</td>\n",
       "    </tr>\n",
       "    <tr>\n",
       "      <td>1</td>\n",
       "      <td>2</td>\n",
       "      <td>20</td>\n",
       "      <td>400</td>\n",
       "    </tr>\n",
       "    <tr>\n",
       "      <td>2</td>\n",
       "      <td>3</td>\n",
       "      <td>30</td>\n",
       "      <td>300</td>\n",
       "    </tr>\n",
       "    <tr>\n",
       "      <td>3</td>\n",
       "      <td>4</td>\n",
       "      <td>20</td>\n",
       "      <td>200</td>\n",
       "    </tr>\n",
       "    <tr>\n",
       "      <td>4</td>\n",
       "      <td>5</td>\n",
       "      <td>10</td>\n",
       "      <td>100</td>\n",
       "    </tr>\n",
       "  </tbody>\n",
       "</table>\n",
       "</div>"
      ],
      "text/plain": [
       "   x   y    z\n",
       "0  1  10  500\n",
       "1  2  20  400\n",
       "2  3  30  300\n",
       "3  4  20  200\n",
       "4  5  10  100"
      ]
     },
     "execution_count": 24,
     "metadata": {},
     "output_type": "execute_result"
    }
   ],
   "source": [
    "df2"
   ]
  },
  {
   "cell_type": "code",
   "execution_count": 25,
   "metadata": {},
   "outputs": [
    {
     "data": {
      "application/vnd.plotly.v1+json": {
       "config": {
        "linkText": "Export to plot.ly",
        "plotlyServerURL": "https://plot.ly",
        "showLink": true
       },
       "data": [
        {
         "colorscale": [
          [
           0,
           "rgb(255, 153, 51)"
          ],
          [
           0.1111111111111111,
           "rgb(55, 128, 191)"
          ],
          [
           0.2222222222222222,
           "rgb(50, 171, 96)"
          ],
          [
           0.3333333333333333,
           "rgb(128, 0, 128)"
          ],
          [
           0.4444444444444444,
           "rgb(219, 64, 82)"
          ],
          [
           0.5555555555555556,
           "rgb(0, 128, 128)"
          ],
          [
           0.6666666666666666,
           "rgb(255, 255, 51)"
          ],
          [
           0.7777777777777778,
           "rgb(128, 128, 0)"
          ],
          [
           0.8888888888888888,
           "rgb(251, 128, 114)"
          ],
          [
           1,
           "rgb(128, 177, 211)"
          ]
         ],
         "type": "surface",
         "x": [
          0,
          1,
          2,
          3,
          4
         ],
         "y": [
          "x",
          "y",
          "z"
         ],
         "z": [
          [
           1,
           2,
           3,
           4,
           5
          ],
          [
           10,
           20,
           30,
           20,
           10
          ],
          [
           500,
           400,
           300,
           200,
           100
          ]
         ]
        }
       ],
       "layout": {
        "legend": {
         "bgcolor": "#F5F6F9",
         "font": {
          "color": "#4D5663"
         }
        },
        "paper_bgcolor": "#F5F6F9",
        "plot_bgcolor": "#F5F6F9",
        "template": {
         "data": {
          "bar": [
           {
            "error_x": {
             "color": "#2a3f5f"
            },
            "error_y": {
             "color": "#2a3f5f"
            },
            "marker": {
             "line": {
              "color": "#E5ECF6",
              "width": 0.5
             }
            },
            "type": "bar"
           }
          ],
          "barpolar": [
           {
            "marker": {
             "line": {
              "color": "#E5ECF6",
              "width": 0.5
             }
            },
            "type": "barpolar"
           }
          ],
          "carpet": [
           {
            "aaxis": {
             "endlinecolor": "#2a3f5f",
             "gridcolor": "white",
             "linecolor": "white",
             "minorgridcolor": "white",
             "startlinecolor": "#2a3f5f"
            },
            "baxis": {
             "endlinecolor": "#2a3f5f",
             "gridcolor": "white",
             "linecolor": "white",
             "minorgridcolor": "white",
             "startlinecolor": "#2a3f5f"
            },
            "type": "carpet"
           }
          ],
          "choropleth": [
           {
            "colorbar": {
             "outlinewidth": 0,
             "ticks": ""
            },
            "type": "choropleth"
           }
          ],
          "contour": [
           {
            "colorbar": {
             "outlinewidth": 0,
             "ticks": ""
            },
            "colorscale": [
             [
              0,
              "#0d0887"
             ],
             [
              0.1111111111111111,
              "#46039f"
             ],
             [
              0.2222222222222222,
              "#7201a8"
             ],
             [
              0.3333333333333333,
              "#9c179e"
             ],
             [
              0.4444444444444444,
              "#bd3786"
             ],
             [
              0.5555555555555556,
              "#d8576b"
             ],
             [
              0.6666666666666666,
              "#ed7953"
             ],
             [
              0.7777777777777778,
              "#fb9f3a"
             ],
             [
              0.8888888888888888,
              "#fdca26"
             ],
             [
              1,
              "#f0f921"
             ]
            ],
            "type": "contour"
           }
          ],
          "contourcarpet": [
           {
            "colorbar": {
             "outlinewidth": 0,
             "ticks": ""
            },
            "type": "contourcarpet"
           }
          ],
          "heatmap": [
           {
            "colorbar": {
             "outlinewidth": 0,
             "ticks": ""
            },
            "colorscale": [
             [
              0,
              "#0d0887"
             ],
             [
              0.1111111111111111,
              "#46039f"
             ],
             [
              0.2222222222222222,
              "#7201a8"
             ],
             [
              0.3333333333333333,
              "#9c179e"
             ],
             [
              0.4444444444444444,
              "#bd3786"
             ],
             [
              0.5555555555555556,
              "#d8576b"
             ],
             [
              0.6666666666666666,
              "#ed7953"
             ],
             [
              0.7777777777777778,
              "#fb9f3a"
             ],
             [
              0.8888888888888888,
              "#fdca26"
             ],
             [
              1,
              "#f0f921"
             ]
            ],
            "type": "heatmap"
           }
          ],
          "heatmapgl": [
           {
            "colorbar": {
             "outlinewidth": 0,
             "ticks": ""
            },
            "colorscale": [
             [
              0,
              "#0d0887"
             ],
             [
              0.1111111111111111,
              "#46039f"
             ],
             [
              0.2222222222222222,
              "#7201a8"
             ],
             [
              0.3333333333333333,
              "#9c179e"
             ],
             [
              0.4444444444444444,
              "#bd3786"
             ],
             [
              0.5555555555555556,
              "#d8576b"
             ],
             [
              0.6666666666666666,
              "#ed7953"
             ],
             [
              0.7777777777777778,
              "#fb9f3a"
             ],
             [
              0.8888888888888888,
              "#fdca26"
             ],
             [
              1,
              "#f0f921"
             ]
            ],
            "type": "heatmapgl"
           }
          ],
          "histogram": [
           {
            "marker": {
             "colorbar": {
              "outlinewidth": 0,
              "ticks": ""
             }
            },
            "type": "histogram"
           }
          ],
          "histogram2d": [
           {
            "colorbar": {
             "outlinewidth": 0,
             "ticks": ""
            },
            "colorscale": [
             [
              0,
              "#0d0887"
             ],
             [
              0.1111111111111111,
              "#46039f"
             ],
             [
              0.2222222222222222,
              "#7201a8"
             ],
             [
              0.3333333333333333,
              "#9c179e"
             ],
             [
              0.4444444444444444,
              "#bd3786"
             ],
             [
              0.5555555555555556,
              "#d8576b"
             ],
             [
              0.6666666666666666,
              "#ed7953"
             ],
             [
              0.7777777777777778,
              "#fb9f3a"
             ],
             [
              0.8888888888888888,
              "#fdca26"
             ],
             [
              1,
              "#f0f921"
             ]
            ],
            "type": "histogram2d"
           }
          ],
          "histogram2dcontour": [
           {
            "colorbar": {
             "outlinewidth": 0,
             "ticks": ""
            },
            "colorscale": [
             [
              0,
              "#0d0887"
             ],
             [
              0.1111111111111111,
              "#46039f"
             ],
             [
              0.2222222222222222,
              "#7201a8"
             ],
             [
              0.3333333333333333,
              "#9c179e"
             ],
             [
              0.4444444444444444,
              "#bd3786"
             ],
             [
              0.5555555555555556,
              "#d8576b"
             ],
             [
              0.6666666666666666,
              "#ed7953"
             ],
             [
              0.7777777777777778,
              "#fb9f3a"
             ],
             [
              0.8888888888888888,
              "#fdca26"
             ],
             [
              1,
              "#f0f921"
             ]
            ],
            "type": "histogram2dcontour"
           }
          ],
          "mesh3d": [
           {
            "colorbar": {
             "outlinewidth": 0,
             "ticks": ""
            },
            "type": "mesh3d"
           }
          ],
          "parcoords": [
           {
            "line": {
             "colorbar": {
              "outlinewidth": 0,
              "ticks": ""
             }
            },
            "type": "parcoords"
           }
          ],
          "scatter": [
           {
            "marker": {
             "colorbar": {
              "outlinewidth": 0,
              "ticks": ""
             }
            },
            "type": "scatter"
           }
          ],
          "scatter3d": [
           {
            "line": {
             "colorbar": {
              "outlinewidth": 0,
              "ticks": ""
             }
            },
            "marker": {
             "colorbar": {
              "outlinewidth": 0,
              "ticks": ""
             }
            },
            "type": "scatter3d"
           }
          ],
          "scattercarpet": [
           {
            "marker": {
             "colorbar": {
              "outlinewidth": 0,
              "ticks": ""
             }
            },
            "type": "scattercarpet"
           }
          ],
          "scattergeo": [
           {
            "marker": {
             "colorbar": {
              "outlinewidth": 0,
              "ticks": ""
             }
            },
            "type": "scattergeo"
           }
          ],
          "scattergl": [
           {
            "marker": {
             "colorbar": {
              "outlinewidth": 0,
              "ticks": ""
             }
            },
            "type": "scattergl"
           }
          ],
          "scattermapbox": [
           {
            "marker": {
             "colorbar": {
              "outlinewidth": 0,
              "ticks": ""
             }
            },
            "type": "scattermapbox"
           }
          ],
          "scatterpolar": [
           {
            "marker": {
             "colorbar": {
              "outlinewidth": 0,
              "ticks": ""
             }
            },
            "type": "scatterpolar"
           }
          ],
          "scatterpolargl": [
           {
            "marker": {
             "colorbar": {
              "outlinewidth": 0,
              "ticks": ""
             }
            },
            "type": "scatterpolargl"
           }
          ],
          "scatterternary": [
           {
            "marker": {
             "colorbar": {
              "outlinewidth": 0,
              "ticks": ""
             }
            },
            "type": "scatterternary"
           }
          ],
          "surface": [
           {
            "colorbar": {
             "outlinewidth": 0,
             "ticks": ""
            },
            "colorscale": [
             [
              0,
              "#0d0887"
             ],
             [
              0.1111111111111111,
              "#46039f"
             ],
             [
              0.2222222222222222,
              "#7201a8"
             ],
             [
              0.3333333333333333,
              "#9c179e"
             ],
             [
              0.4444444444444444,
              "#bd3786"
             ],
             [
              0.5555555555555556,
              "#d8576b"
             ],
             [
              0.6666666666666666,
              "#ed7953"
             ],
             [
              0.7777777777777778,
              "#fb9f3a"
             ],
             [
              0.8888888888888888,
              "#fdca26"
             ],
             [
              1,
              "#f0f921"
             ]
            ],
            "type": "surface"
           }
          ],
          "table": [
           {
            "cells": {
             "fill": {
              "color": "#EBF0F8"
             },
             "line": {
              "color": "white"
             }
            },
            "header": {
             "fill": {
              "color": "#C8D4E3"
             },
             "line": {
              "color": "white"
             }
            },
            "type": "table"
           }
          ]
         },
         "layout": {
          "annotationdefaults": {
           "arrowcolor": "#2a3f5f",
           "arrowhead": 0,
           "arrowwidth": 1
          },
          "colorscale": {
           "diverging": [
            [
             0,
             "#8e0152"
            ],
            [
             0.1,
             "#c51b7d"
            ],
            [
             0.2,
             "#de77ae"
            ],
            [
             0.3,
             "#f1b6da"
            ],
            [
             0.4,
             "#fde0ef"
            ],
            [
             0.5,
             "#f7f7f7"
            ],
            [
             0.6,
             "#e6f5d0"
            ],
            [
             0.7,
             "#b8e186"
            ],
            [
             0.8,
             "#7fbc41"
            ],
            [
             0.9,
             "#4d9221"
            ],
            [
             1,
             "#276419"
            ]
           ],
           "sequential": [
            [
             0,
             "#0d0887"
            ],
            [
             0.1111111111111111,
             "#46039f"
            ],
            [
             0.2222222222222222,
             "#7201a8"
            ],
            [
             0.3333333333333333,
             "#9c179e"
            ],
            [
             0.4444444444444444,
             "#bd3786"
            ],
            [
             0.5555555555555556,
             "#d8576b"
            ],
            [
             0.6666666666666666,
             "#ed7953"
            ],
            [
             0.7777777777777778,
             "#fb9f3a"
            ],
            [
             0.8888888888888888,
             "#fdca26"
            ],
            [
             1,
             "#f0f921"
            ]
           ],
           "sequentialminus": [
            [
             0,
             "#0d0887"
            ],
            [
             0.1111111111111111,
             "#46039f"
            ],
            [
             0.2222222222222222,
             "#7201a8"
            ],
            [
             0.3333333333333333,
             "#9c179e"
            ],
            [
             0.4444444444444444,
             "#bd3786"
            ],
            [
             0.5555555555555556,
             "#d8576b"
            ],
            [
             0.6666666666666666,
             "#ed7953"
            ],
            [
             0.7777777777777778,
             "#fb9f3a"
            ],
            [
             0.8888888888888888,
             "#fdca26"
            ],
            [
             1,
             "#f0f921"
            ]
           ]
          },
          "colorway": [
           "#636efa",
           "#EF553B",
           "#00cc96",
           "#ab63fa",
           "#FFA15A",
           "#19d3f3",
           "#FF6692",
           "#B6E880",
           "#FF97FF",
           "#FECB52"
          ],
          "font": {
           "color": "#2a3f5f"
          },
          "geo": {
           "bgcolor": "white",
           "lakecolor": "white",
           "landcolor": "#E5ECF6",
           "showlakes": true,
           "showland": true,
           "subunitcolor": "white"
          },
          "hoverlabel": {
           "align": "left"
          },
          "hovermode": "closest",
          "mapbox": {
           "style": "light"
          },
          "paper_bgcolor": "white",
          "plot_bgcolor": "#E5ECF6",
          "polar": {
           "angularaxis": {
            "gridcolor": "white",
            "linecolor": "white",
            "ticks": ""
           },
           "bgcolor": "#E5ECF6",
           "radialaxis": {
            "gridcolor": "white",
            "linecolor": "white",
            "ticks": ""
           }
          },
          "scene": {
           "xaxis": {
            "backgroundcolor": "#E5ECF6",
            "gridcolor": "white",
            "gridwidth": 2,
            "linecolor": "white",
            "showbackground": true,
            "ticks": "",
            "zerolinecolor": "white"
           },
           "yaxis": {
            "backgroundcolor": "#E5ECF6",
            "gridcolor": "white",
            "gridwidth": 2,
            "linecolor": "white",
            "showbackground": true,
            "ticks": "",
            "zerolinecolor": "white"
           },
           "zaxis": {
            "backgroundcolor": "#E5ECF6",
            "gridcolor": "white",
            "gridwidth": 2,
            "linecolor": "white",
            "showbackground": true,
            "ticks": "",
            "zerolinecolor": "white"
           }
          },
          "shapedefaults": {
           "line": {
            "color": "#2a3f5f"
           }
          },
          "ternary": {
           "aaxis": {
            "gridcolor": "white",
            "linecolor": "white",
            "ticks": ""
           },
           "baxis": {
            "gridcolor": "white",
            "linecolor": "white",
            "ticks": ""
           },
           "bgcolor": "#E5ECF6",
           "caxis": {
            "gridcolor": "white",
            "linecolor": "white",
            "ticks": ""
           }
          },
          "title": {
           "x": 0.05
          },
          "xaxis": {
           "automargin": true,
           "gridcolor": "white",
           "linecolor": "white",
           "ticks": "",
           "zerolinecolor": "white",
           "zerolinewidth": 2
          },
          "yaxis": {
           "automargin": true,
           "gridcolor": "white",
           "linecolor": "white",
           "ticks": "",
           "zerolinecolor": "white",
           "zerolinewidth": 2
          }
         }
        },
        "title": {
         "font": {
          "color": "#4D5663"
         }
        },
        "xaxis": {
         "gridcolor": "#E1E5ED",
         "showgrid": true,
         "tickfont": {
          "color": "#4D5663"
         },
         "title": {
          "font": {
           "color": "#4D5663"
          },
          "text": ""
         },
         "zerolinecolor": "#E1E5ED"
        },
        "yaxis": {
         "gridcolor": "#E1E5ED",
         "showgrid": true,
         "tickfont": {
          "color": "#4D5663"
         },
         "title": {
          "font": {
           "color": "#4D5663"
          },
          "text": ""
         },
         "zerolinecolor": "#E1E5ED"
        }
       }
      },
      "text/html": [
       "<div>\n",
       "        \n",
       "        \n",
       "            <div id=\"8ee0092b-54ef-4ae3-98e1-192f82474582\" class=\"plotly-graph-div\" style=\"height:525px; width:100%;\"></div>\n",
       "            <script type=\"text/javascript\">\n",
       "                require([\"plotly\"], function(Plotly) {\n",
       "                    window.PLOTLYENV=window.PLOTLYENV || {};\n",
       "                    window.PLOTLYENV.BASE_URL='https://plot.ly';\n",
       "                    \n",
       "                if (document.getElementById(\"8ee0092b-54ef-4ae3-98e1-192f82474582\")) {\n",
       "                    Plotly.newPlot(\n",
       "                        '8ee0092b-54ef-4ae3-98e1-192f82474582',\n",
       "                        [{\"colorscale\": [[0.0, \"rgb(255, 153, 51)\"], [0.1111111111111111, \"rgb(55, 128, 191)\"], [0.2222222222222222, \"rgb(50, 171, 96)\"], [0.3333333333333333, \"rgb(128, 0, 128)\"], [0.4444444444444444, \"rgb(219, 64, 82)\"], [0.5555555555555556, \"rgb(0, 128, 128)\"], [0.6666666666666666, \"rgb(255, 255, 51)\"], [0.7777777777777778, \"rgb(128, 128, 0)\"], [0.8888888888888888, \"rgb(251, 128, 114)\"], [1.0, \"rgb(128, 177, 211)\"]], \"type\": \"surface\", \"x\": [0, 1, 2, 3, 4], \"y\": [\"x\", \"y\", \"z\"], \"z\": [[1, 2, 3, 4, 5], [10, 20, 30, 20, 10], [500, 400, 300, 200, 100]]}],\n",
       "                        {\"legend\": {\"bgcolor\": \"#F5F6F9\", \"font\": {\"color\": \"#4D5663\"}}, \"paper_bgcolor\": \"#F5F6F9\", \"plot_bgcolor\": \"#F5F6F9\", \"template\": {\"data\": {\"bar\": [{\"error_x\": {\"color\": \"#2a3f5f\"}, \"error_y\": {\"color\": \"#2a3f5f\"}, \"marker\": {\"line\": {\"color\": \"#E5ECF6\", \"width\": 0.5}}, \"type\": \"bar\"}], \"barpolar\": [{\"marker\": {\"line\": {\"color\": \"#E5ECF6\", \"width\": 0.5}}, \"type\": \"barpolar\"}], \"carpet\": [{\"aaxis\": {\"endlinecolor\": \"#2a3f5f\", \"gridcolor\": \"white\", \"linecolor\": \"white\", \"minorgridcolor\": \"white\", \"startlinecolor\": \"#2a3f5f\"}, \"baxis\": {\"endlinecolor\": \"#2a3f5f\", \"gridcolor\": \"white\", \"linecolor\": \"white\", \"minorgridcolor\": \"white\", \"startlinecolor\": \"#2a3f5f\"}, \"type\": \"carpet\"}], \"choropleth\": [{\"colorbar\": {\"outlinewidth\": 0, \"ticks\": \"\"}, \"type\": \"choropleth\"}], \"contour\": [{\"colorbar\": {\"outlinewidth\": 0, \"ticks\": \"\"}, \"colorscale\": [[0.0, \"#0d0887\"], [0.1111111111111111, \"#46039f\"], [0.2222222222222222, \"#7201a8\"], [0.3333333333333333, \"#9c179e\"], [0.4444444444444444, \"#bd3786\"], [0.5555555555555556, \"#d8576b\"], [0.6666666666666666, \"#ed7953\"], [0.7777777777777778, \"#fb9f3a\"], [0.8888888888888888, \"#fdca26\"], [1.0, \"#f0f921\"]], \"type\": \"contour\"}], \"contourcarpet\": [{\"colorbar\": {\"outlinewidth\": 0, \"ticks\": \"\"}, \"type\": \"contourcarpet\"}], \"heatmap\": [{\"colorbar\": {\"outlinewidth\": 0, \"ticks\": \"\"}, \"colorscale\": [[0.0, \"#0d0887\"], [0.1111111111111111, \"#46039f\"], [0.2222222222222222, \"#7201a8\"], [0.3333333333333333, \"#9c179e\"], [0.4444444444444444, \"#bd3786\"], [0.5555555555555556, \"#d8576b\"], [0.6666666666666666, \"#ed7953\"], [0.7777777777777778, \"#fb9f3a\"], [0.8888888888888888, \"#fdca26\"], [1.0, \"#f0f921\"]], \"type\": \"heatmap\"}], \"heatmapgl\": [{\"colorbar\": {\"outlinewidth\": 0, \"ticks\": \"\"}, \"colorscale\": [[0.0, \"#0d0887\"], [0.1111111111111111, \"#46039f\"], [0.2222222222222222, \"#7201a8\"], [0.3333333333333333, \"#9c179e\"], [0.4444444444444444, \"#bd3786\"], [0.5555555555555556, \"#d8576b\"], [0.6666666666666666, \"#ed7953\"], [0.7777777777777778, \"#fb9f3a\"], [0.8888888888888888, \"#fdca26\"], [1.0, \"#f0f921\"]], \"type\": \"heatmapgl\"}], \"histogram\": [{\"marker\": {\"colorbar\": {\"outlinewidth\": 0, \"ticks\": \"\"}}, \"type\": \"histogram\"}], \"histogram2d\": [{\"colorbar\": {\"outlinewidth\": 0, \"ticks\": \"\"}, \"colorscale\": [[0.0, \"#0d0887\"], [0.1111111111111111, \"#46039f\"], [0.2222222222222222, \"#7201a8\"], [0.3333333333333333, \"#9c179e\"], [0.4444444444444444, \"#bd3786\"], [0.5555555555555556, \"#d8576b\"], [0.6666666666666666, \"#ed7953\"], [0.7777777777777778, \"#fb9f3a\"], [0.8888888888888888, \"#fdca26\"], [1.0, \"#f0f921\"]], \"type\": \"histogram2d\"}], \"histogram2dcontour\": [{\"colorbar\": {\"outlinewidth\": 0, \"ticks\": \"\"}, \"colorscale\": [[0.0, \"#0d0887\"], [0.1111111111111111, \"#46039f\"], [0.2222222222222222, \"#7201a8\"], [0.3333333333333333, \"#9c179e\"], [0.4444444444444444, \"#bd3786\"], [0.5555555555555556, \"#d8576b\"], [0.6666666666666666, \"#ed7953\"], [0.7777777777777778, \"#fb9f3a\"], [0.8888888888888888, \"#fdca26\"], [1.0, \"#f0f921\"]], \"type\": \"histogram2dcontour\"}], \"mesh3d\": [{\"colorbar\": {\"outlinewidth\": 0, \"ticks\": \"\"}, \"type\": \"mesh3d\"}], \"parcoords\": [{\"line\": {\"colorbar\": {\"outlinewidth\": 0, \"ticks\": \"\"}}, \"type\": \"parcoords\"}], \"scatter\": [{\"marker\": {\"colorbar\": {\"outlinewidth\": 0, \"ticks\": \"\"}}, \"type\": \"scatter\"}], \"scatter3d\": [{\"line\": {\"colorbar\": {\"outlinewidth\": 0, \"ticks\": \"\"}}, \"marker\": {\"colorbar\": {\"outlinewidth\": 0, \"ticks\": \"\"}}, \"type\": \"scatter3d\"}], \"scattercarpet\": [{\"marker\": {\"colorbar\": {\"outlinewidth\": 0, \"ticks\": \"\"}}, \"type\": \"scattercarpet\"}], \"scattergeo\": [{\"marker\": {\"colorbar\": {\"outlinewidth\": 0, \"ticks\": \"\"}}, \"type\": \"scattergeo\"}], \"scattergl\": [{\"marker\": {\"colorbar\": {\"outlinewidth\": 0, \"ticks\": \"\"}}, \"type\": \"scattergl\"}], \"scattermapbox\": [{\"marker\": {\"colorbar\": {\"outlinewidth\": 0, \"ticks\": \"\"}}, \"type\": \"scattermapbox\"}], \"scatterpolar\": [{\"marker\": {\"colorbar\": {\"outlinewidth\": 0, \"ticks\": \"\"}}, \"type\": \"scatterpolar\"}], \"scatterpolargl\": [{\"marker\": {\"colorbar\": {\"outlinewidth\": 0, \"ticks\": \"\"}}, \"type\": \"scatterpolargl\"}], \"scatterternary\": [{\"marker\": {\"colorbar\": {\"outlinewidth\": 0, \"ticks\": \"\"}}, \"type\": \"scatterternary\"}], \"surface\": [{\"colorbar\": {\"outlinewidth\": 0, \"ticks\": \"\"}, \"colorscale\": [[0.0, \"#0d0887\"], [0.1111111111111111, \"#46039f\"], [0.2222222222222222, \"#7201a8\"], [0.3333333333333333, \"#9c179e\"], [0.4444444444444444, \"#bd3786\"], [0.5555555555555556, \"#d8576b\"], [0.6666666666666666, \"#ed7953\"], [0.7777777777777778, \"#fb9f3a\"], [0.8888888888888888, \"#fdca26\"], [1.0, \"#f0f921\"]], \"type\": \"surface\"}], \"table\": [{\"cells\": {\"fill\": {\"color\": \"#EBF0F8\"}, \"line\": {\"color\": \"white\"}}, \"header\": {\"fill\": {\"color\": \"#C8D4E3\"}, \"line\": {\"color\": \"white\"}}, \"type\": \"table\"}]}, \"layout\": {\"annotationdefaults\": {\"arrowcolor\": \"#2a3f5f\", \"arrowhead\": 0, \"arrowwidth\": 1}, \"colorscale\": {\"diverging\": [[0, \"#8e0152\"], [0.1, \"#c51b7d\"], [0.2, \"#de77ae\"], [0.3, \"#f1b6da\"], [0.4, \"#fde0ef\"], [0.5, \"#f7f7f7\"], [0.6, \"#e6f5d0\"], [0.7, \"#b8e186\"], [0.8, \"#7fbc41\"], [0.9, \"#4d9221\"], [1, \"#276419\"]], \"sequential\": [[0.0, \"#0d0887\"], [0.1111111111111111, \"#46039f\"], [0.2222222222222222, \"#7201a8\"], [0.3333333333333333, \"#9c179e\"], [0.4444444444444444, \"#bd3786\"], [0.5555555555555556, \"#d8576b\"], [0.6666666666666666, \"#ed7953\"], [0.7777777777777778, \"#fb9f3a\"], [0.8888888888888888, \"#fdca26\"], [1.0, \"#f0f921\"]], \"sequentialminus\": [[0.0, \"#0d0887\"], [0.1111111111111111, \"#46039f\"], [0.2222222222222222, \"#7201a8\"], [0.3333333333333333, \"#9c179e\"], [0.4444444444444444, \"#bd3786\"], [0.5555555555555556, \"#d8576b\"], [0.6666666666666666, \"#ed7953\"], [0.7777777777777778, \"#fb9f3a\"], [0.8888888888888888, \"#fdca26\"], [1.0, \"#f0f921\"]]}, \"colorway\": [\"#636efa\", \"#EF553B\", \"#00cc96\", \"#ab63fa\", \"#FFA15A\", \"#19d3f3\", \"#FF6692\", \"#B6E880\", \"#FF97FF\", \"#FECB52\"], \"font\": {\"color\": \"#2a3f5f\"}, \"geo\": {\"bgcolor\": \"white\", \"lakecolor\": \"white\", \"landcolor\": \"#E5ECF6\", \"showlakes\": true, \"showland\": true, \"subunitcolor\": \"white\"}, \"hoverlabel\": {\"align\": \"left\"}, \"hovermode\": \"closest\", \"mapbox\": {\"style\": \"light\"}, \"paper_bgcolor\": \"white\", \"plot_bgcolor\": \"#E5ECF6\", \"polar\": {\"angularaxis\": {\"gridcolor\": \"white\", \"linecolor\": \"white\", \"ticks\": \"\"}, \"bgcolor\": \"#E5ECF6\", \"radialaxis\": {\"gridcolor\": \"white\", \"linecolor\": \"white\", \"ticks\": \"\"}}, \"scene\": {\"xaxis\": {\"backgroundcolor\": \"#E5ECF6\", \"gridcolor\": \"white\", \"gridwidth\": 2, \"linecolor\": \"white\", \"showbackground\": true, \"ticks\": \"\", \"zerolinecolor\": \"white\"}, \"yaxis\": {\"backgroundcolor\": \"#E5ECF6\", \"gridcolor\": \"white\", \"gridwidth\": 2, \"linecolor\": \"white\", \"showbackground\": true, \"ticks\": \"\", \"zerolinecolor\": \"white\"}, \"zaxis\": {\"backgroundcolor\": \"#E5ECF6\", \"gridcolor\": \"white\", \"gridwidth\": 2, \"linecolor\": \"white\", \"showbackground\": true, \"ticks\": \"\", \"zerolinecolor\": \"white\"}}, \"shapedefaults\": {\"line\": {\"color\": \"#2a3f5f\"}}, \"ternary\": {\"aaxis\": {\"gridcolor\": \"white\", \"linecolor\": \"white\", \"ticks\": \"\"}, \"baxis\": {\"gridcolor\": \"white\", \"linecolor\": \"white\", \"ticks\": \"\"}, \"bgcolor\": \"#E5ECF6\", \"caxis\": {\"gridcolor\": \"white\", \"linecolor\": \"white\", \"ticks\": \"\"}}, \"title\": {\"x\": 0.05}, \"xaxis\": {\"automargin\": true, \"gridcolor\": \"white\", \"linecolor\": \"white\", \"ticks\": \"\", \"zerolinecolor\": \"white\", \"zerolinewidth\": 2}, \"yaxis\": {\"automargin\": true, \"gridcolor\": \"white\", \"linecolor\": \"white\", \"ticks\": \"\", \"zerolinecolor\": \"white\", \"zerolinewidth\": 2}}}, \"title\": {\"font\": {\"color\": \"#4D5663\"}}, \"xaxis\": {\"gridcolor\": \"#E1E5ED\", \"showgrid\": true, \"tickfont\": {\"color\": \"#4D5663\"}, \"title\": {\"font\": {\"color\": \"#4D5663\"}, \"text\": \"\"}, \"zerolinecolor\": \"#E1E5ED\"}, \"yaxis\": {\"gridcolor\": \"#E1E5ED\", \"showgrid\": true, \"tickfont\": {\"color\": \"#4D5663\"}, \"title\": {\"font\": {\"color\": \"#4D5663\"}, \"text\": \"\"}, \"zerolinecolor\": \"#E1E5ED\"}},\n",
       "                        {\"showLink\": true, \"linkText\": \"Export to plot.ly\", \"plotlyServerURL\": \"https://plot.ly\", \"responsive\": true}\n",
       "                    ).then(function(){\n",
       "                            \n",
       "var gd = document.getElementById('8ee0092b-54ef-4ae3-98e1-192f82474582');\n",
       "var x = new MutationObserver(function (mutations, observer) {{\n",
       "        var display = window.getComputedStyle(gd).display;\n",
       "        if (!display || display === 'none') {{\n",
       "            console.log([gd, 'removed!']);\n",
       "            Plotly.purge(gd);\n",
       "            observer.disconnect();\n",
       "        }}\n",
       "}});\n",
       "\n",
       "// Listen for the removal of the full notebook cells\n",
       "var notebookContainer = gd.closest('#notebook-container');\n",
       "if (notebookContainer) {{\n",
       "    x.observe(notebookContainer, {childList: true});\n",
       "}}\n",
       "\n",
       "// Listen for the clearing of the current output cell\n",
       "var outputEl = gd.closest('.output');\n",
       "if (outputEl) {{\n",
       "    x.observe(outputEl, {childList: true});\n",
       "}}\n",
       "\n",
       "                        })\n",
       "                };\n",
       "                });\n",
       "            </script>\n",
       "        </div>"
      ]
     },
     "metadata": {},
     "output_type": "display_data"
    }
   ],
   "source": [
    "df2.iplot(kind = 'surface')"
   ]
  },
  {
   "cell_type": "code",
   "execution_count": 26,
   "metadata": {},
   "outputs": [],
   "source": [
    "df2 = pd.DataFrame({'x':[1,2,3,4,5],'y':[10,20,30,20,10],'z':[5,4,3,2,1]})"
   ]
  },
  {
   "cell_type": "code",
   "execution_count": 27,
   "metadata": {},
   "outputs": [
    {
     "data": {
      "application/vnd.plotly.v1+json": {
       "config": {
        "linkText": "Export to plot.ly",
        "plotlyServerURL": "https://plot.ly",
        "showLink": true
       },
       "data": [
        {
         "colorscale": [
          [
           0,
           "rgb(255, 153, 51)"
          ],
          [
           0.1111111111111111,
           "rgb(55, 128, 191)"
          ],
          [
           0.2222222222222222,
           "rgb(50, 171, 96)"
          ],
          [
           0.3333333333333333,
           "rgb(128, 0, 128)"
          ],
          [
           0.4444444444444444,
           "rgb(219, 64, 82)"
          ],
          [
           0.5555555555555556,
           "rgb(0, 128, 128)"
          ],
          [
           0.6666666666666666,
           "rgb(255, 255, 51)"
          ],
          [
           0.7777777777777778,
           "rgb(128, 128, 0)"
          ],
          [
           0.8888888888888888,
           "rgb(251, 128, 114)"
          ],
          [
           1,
           "rgb(128, 177, 211)"
          ]
         ],
         "type": "surface",
         "x": [
          0,
          1,
          2,
          3,
          4
         ],
         "y": [
          "x",
          "y",
          "z"
         ],
         "z": [
          [
           1,
           2,
           3,
           4,
           5
          ],
          [
           10,
           20,
           30,
           20,
           10
          ],
          [
           5,
           4,
           3,
           2,
           1
          ]
         ]
        }
       ],
       "layout": {
        "legend": {
         "bgcolor": "#F5F6F9",
         "font": {
          "color": "#4D5663"
         }
        },
        "paper_bgcolor": "#F5F6F9",
        "plot_bgcolor": "#F5F6F9",
        "template": {
         "data": {
          "bar": [
           {
            "error_x": {
             "color": "#2a3f5f"
            },
            "error_y": {
             "color": "#2a3f5f"
            },
            "marker": {
             "line": {
              "color": "#E5ECF6",
              "width": 0.5
             }
            },
            "type": "bar"
           }
          ],
          "barpolar": [
           {
            "marker": {
             "line": {
              "color": "#E5ECF6",
              "width": 0.5
             }
            },
            "type": "barpolar"
           }
          ],
          "carpet": [
           {
            "aaxis": {
             "endlinecolor": "#2a3f5f",
             "gridcolor": "white",
             "linecolor": "white",
             "minorgridcolor": "white",
             "startlinecolor": "#2a3f5f"
            },
            "baxis": {
             "endlinecolor": "#2a3f5f",
             "gridcolor": "white",
             "linecolor": "white",
             "minorgridcolor": "white",
             "startlinecolor": "#2a3f5f"
            },
            "type": "carpet"
           }
          ],
          "choropleth": [
           {
            "colorbar": {
             "outlinewidth": 0,
             "ticks": ""
            },
            "type": "choropleth"
           }
          ],
          "contour": [
           {
            "colorbar": {
             "outlinewidth": 0,
             "ticks": ""
            },
            "colorscale": [
             [
              0,
              "#0d0887"
             ],
             [
              0.1111111111111111,
              "#46039f"
             ],
             [
              0.2222222222222222,
              "#7201a8"
             ],
             [
              0.3333333333333333,
              "#9c179e"
             ],
             [
              0.4444444444444444,
              "#bd3786"
             ],
             [
              0.5555555555555556,
              "#d8576b"
             ],
             [
              0.6666666666666666,
              "#ed7953"
             ],
             [
              0.7777777777777778,
              "#fb9f3a"
             ],
             [
              0.8888888888888888,
              "#fdca26"
             ],
             [
              1,
              "#f0f921"
             ]
            ],
            "type": "contour"
           }
          ],
          "contourcarpet": [
           {
            "colorbar": {
             "outlinewidth": 0,
             "ticks": ""
            },
            "type": "contourcarpet"
           }
          ],
          "heatmap": [
           {
            "colorbar": {
             "outlinewidth": 0,
             "ticks": ""
            },
            "colorscale": [
             [
              0,
              "#0d0887"
             ],
             [
              0.1111111111111111,
              "#46039f"
             ],
             [
              0.2222222222222222,
              "#7201a8"
             ],
             [
              0.3333333333333333,
              "#9c179e"
             ],
             [
              0.4444444444444444,
              "#bd3786"
             ],
             [
              0.5555555555555556,
              "#d8576b"
             ],
             [
              0.6666666666666666,
              "#ed7953"
             ],
             [
              0.7777777777777778,
              "#fb9f3a"
             ],
             [
              0.8888888888888888,
              "#fdca26"
             ],
             [
              1,
              "#f0f921"
             ]
            ],
            "type": "heatmap"
           }
          ],
          "heatmapgl": [
           {
            "colorbar": {
             "outlinewidth": 0,
             "ticks": ""
            },
            "colorscale": [
             [
              0,
              "#0d0887"
             ],
             [
              0.1111111111111111,
              "#46039f"
             ],
             [
              0.2222222222222222,
              "#7201a8"
             ],
             [
              0.3333333333333333,
              "#9c179e"
             ],
             [
              0.4444444444444444,
              "#bd3786"
             ],
             [
              0.5555555555555556,
              "#d8576b"
             ],
             [
              0.6666666666666666,
              "#ed7953"
             ],
             [
              0.7777777777777778,
              "#fb9f3a"
             ],
             [
              0.8888888888888888,
              "#fdca26"
             ],
             [
              1,
              "#f0f921"
             ]
            ],
            "type": "heatmapgl"
           }
          ],
          "histogram": [
           {
            "marker": {
             "colorbar": {
              "outlinewidth": 0,
              "ticks": ""
             }
            },
            "type": "histogram"
           }
          ],
          "histogram2d": [
           {
            "colorbar": {
             "outlinewidth": 0,
             "ticks": ""
            },
            "colorscale": [
             [
              0,
              "#0d0887"
             ],
             [
              0.1111111111111111,
              "#46039f"
             ],
             [
              0.2222222222222222,
              "#7201a8"
             ],
             [
              0.3333333333333333,
              "#9c179e"
             ],
             [
              0.4444444444444444,
              "#bd3786"
             ],
             [
              0.5555555555555556,
              "#d8576b"
             ],
             [
              0.6666666666666666,
              "#ed7953"
             ],
             [
              0.7777777777777778,
              "#fb9f3a"
             ],
             [
              0.8888888888888888,
              "#fdca26"
             ],
             [
              1,
              "#f0f921"
             ]
            ],
            "type": "histogram2d"
           }
          ],
          "histogram2dcontour": [
           {
            "colorbar": {
             "outlinewidth": 0,
             "ticks": ""
            },
            "colorscale": [
             [
              0,
              "#0d0887"
             ],
             [
              0.1111111111111111,
              "#46039f"
             ],
             [
              0.2222222222222222,
              "#7201a8"
             ],
             [
              0.3333333333333333,
              "#9c179e"
             ],
             [
              0.4444444444444444,
              "#bd3786"
             ],
             [
              0.5555555555555556,
              "#d8576b"
             ],
             [
              0.6666666666666666,
              "#ed7953"
             ],
             [
              0.7777777777777778,
              "#fb9f3a"
             ],
             [
              0.8888888888888888,
              "#fdca26"
             ],
             [
              1,
              "#f0f921"
             ]
            ],
            "type": "histogram2dcontour"
           }
          ],
          "mesh3d": [
           {
            "colorbar": {
             "outlinewidth": 0,
             "ticks": ""
            },
            "type": "mesh3d"
           }
          ],
          "parcoords": [
           {
            "line": {
             "colorbar": {
              "outlinewidth": 0,
              "ticks": ""
             }
            },
            "type": "parcoords"
           }
          ],
          "scatter": [
           {
            "marker": {
             "colorbar": {
              "outlinewidth": 0,
              "ticks": ""
             }
            },
            "type": "scatter"
           }
          ],
          "scatter3d": [
           {
            "line": {
             "colorbar": {
              "outlinewidth": 0,
              "ticks": ""
             }
            },
            "marker": {
             "colorbar": {
              "outlinewidth": 0,
              "ticks": ""
             }
            },
            "type": "scatter3d"
           }
          ],
          "scattercarpet": [
           {
            "marker": {
             "colorbar": {
              "outlinewidth": 0,
              "ticks": ""
             }
            },
            "type": "scattercarpet"
           }
          ],
          "scattergeo": [
           {
            "marker": {
             "colorbar": {
              "outlinewidth": 0,
              "ticks": ""
             }
            },
            "type": "scattergeo"
           }
          ],
          "scattergl": [
           {
            "marker": {
             "colorbar": {
              "outlinewidth": 0,
              "ticks": ""
             }
            },
            "type": "scattergl"
           }
          ],
          "scattermapbox": [
           {
            "marker": {
             "colorbar": {
              "outlinewidth": 0,
              "ticks": ""
             }
            },
            "type": "scattermapbox"
           }
          ],
          "scatterpolar": [
           {
            "marker": {
             "colorbar": {
              "outlinewidth": 0,
              "ticks": ""
             }
            },
            "type": "scatterpolar"
           }
          ],
          "scatterpolargl": [
           {
            "marker": {
             "colorbar": {
              "outlinewidth": 0,
              "ticks": ""
             }
            },
            "type": "scatterpolargl"
           }
          ],
          "scatterternary": [
           {
            "marker": {
             "colorbar": {
              "outlinewidth": 0,
              "ticks": ""
             }
            },
            "type": "scatterternary"
           }
          ],
          "surface": [
           {
            "colorbar": {
             "outlinewidth": 0,
             "ticks": ""
            },
            "colorscale": [
             [
              0,
              "#0d0887"
             ],
             [
              0.1111111111111111,
              "#46039f"
             ],
             [
              0.2222222222222222,
              "#7201a8"
             ],
             [
              0.3333333333333333,
              "#9c179e"
             ],
             [
              0.4444444444444444,
              "#bd3786"
             ],
             [
              0.5555555555555556,
              "#d8576b"
             ],
             [
              0.6666666666666666,
              "#ed7953"
             ],
             [
              0.7777777777777778,
              "#fb9f3a"
             ],
             [
              0.8888888888888888,
              "#fdca26"
             ],
             [
              1,
              "#f0f921"
             ]
            ],
            "type": "surface"
           }
          ],
          "table": [
           {
            "cells": {
             "fill": {
              "color": "#EBF0F8"
             },
             "line": {
              "color": "white"
             }
            },
            "header": {
             "fill": {
              "color": "#C8D4E3"
             },
             "line": {
              "color": "white"
             }
            },
            "type": "table"
           }
          ]
         },
         "layout": {
          "annotationdefaults": {
           "arrowcolor": "#2a3f5f",
           "arrowhead": 0,
           "arrowwidth": 1
          },
          "colorscale": {
           "diverging": [
            [
             0,
             "#8e0152"
            ],
            [
             0.1,
             "#c51b7d"
            ],
            [
             0.2,
             "#de77ae"
            ],
            [
             0.3,
             "#f1b6da"
            ],
            [
             0.4,
             "#fde0ef"
            ],
            [
             0.5,
             "#f7f7f7"
            ],
            [
             0.6,
             "#e6f5d0"
            ],
            [
             0.7,
             "#b8e186"
            ],
            [
             0.8,
             "#7fbc41"
            ],
            [
             0.9,
             "#4d9221"
            ],
            [
             1,
             "#276419"
            ]
           ],
           "sequential": [
            [
             0,
             "#0d0887"
            ],
            [
             0.1111111111111111,
             "#46039f"
            ],
            [
             0.2222222222222222,
             "#7201a8"
            ],
            [
             0.3333333333333333,
             "#9c179e"
            ],
            [
             0.4444444444444444,
             "#bd3786"
            ],
            [
             0.5555555555555556,
             "#d8576b"
            ],
            [
             0.6666666666666666,
             "#ed7953"
            ],
            [
             0.7777777777777778,
             "#fb9f3a"
            ],
            [
             0.8888888888888888,
             "#fdca26"
            ],
            [
             1,
             "#f0f921"
            ]
           ],
           "sequentialminus": [
            [
             0,
             "#0d0887"
            ],
            [
             0.1111111111111111,
             "#46039f"
            ],
            [
             0.2222222222222222,
             "#7201a8"
            ],
            [
             0.3333333333333333,
             "#9c179e"
            ],
            [
             0.4444444444444444,
             "#bd3786"
            ],
            [
             0.5555555555555556,
             "#d8576b"
            ],
            [
             0.6666666666666666,
             "#ed7953"
            ],
            [
             0.7777777777777778,
             "#fb9f3a"
            ],
            [
             0.8888888888888888,
             "#fdca26"
            ],
            [
             1,
             "#f0f921"
            ]
           ]
          },
          "colorway": [
           "#636efa",
           "#EF553B",
           "#00cc96",
           "#ab63fa",
           "#FFA15A",
           "#19d3f3",
           "#FF6692",
           "#B6E880",
           "#FF97FF",
           "#FECB52"
          ],
          "font": {
           "color": "#2a3f5f"
          },
          "geo": {
           "bgcolor": "white",
           "lakecolor": "white",
           "landcolor": "#E5ECF6",
           "showlakes": true,
           "showland": true,
           "subunitcolor": "white"
          },
          "hoverlabel": {
           "align": "left"
          },
          "hovermode": "closest",
          "mapbox": {
           "style": "light"
          },
          "paper_bgcolor": "white",
          "plot_bgcolor": "#E5ECF6",
          "polar": {
           "angularaxis": {
            "gridcolor": "white",
            "linecolor": "white",
            "ticks": ""
           },
           "bgcolor": "#E5ECF6",
           "radialaxis": {
            "gridcolor": "white",
            "linecolor": "white",
            "ticks": ""
           }
          },
          "scene": {
           "xaxis": {
            "backgroundcolor": "#E5ECF6",
            "gridcolor": "white",
            "gridwidth": 2,
            "linecolor": "white",
            "showbackground": true,
            "ticks": "",
            "zerolinecolor": "white"
           },
           "yaxis": {
            "backgroundcolor": "#E5ECF6",
            "gridcolor": "white",
            "gridwidth": 2,
            "linecolor": "white",
            "showbackground": true,
            "ticks": "",
            "zerolinecolor": "white"
           },
           "zaxis": {
            "backgroundcolor": "#E5ECF6",
            "gridcolor": "white",
            "gridwidth": 2,
            "linecolor": "white",
            "showbackground": true,
            "ticks": "",
            "zerolinecolor": "white"
           }
          },
          "shapedefaults": {
           "line": {
            "color": "#2a3f5f"
           }
          },
          "ternary": {
           "aaxis": {
            "gridcolor": "white",
            "linecolor": "white",
            "ticks": ""
           },
           "baxis": {
            "gridcolor": "white",
            "linecolor": "white",
            "ticks": ""
           },
           "bgcolor": "#E5ECF6",
           "caxis": {
            "gridcolor": "white",
            "linecolor": "white",
            "ticks": ""
           }
          },
          "title": {
           "x": 0.05
          },
          "xaxis": {
           "automargin": true,
           "gridcolor": "white",
           "linecolor": "white",
           "ticks": "",
           "zerolinecolor": "white",
           "zerolinewidth": 2
          },
          "yaxis": {
           "automargin": true,
           "gridcolor": "white",
           "linecolor": "white",
           "ticks": "",
           "zerolinecolor": "white",
           "zerolinewidth": 2
          }
         }
        },
        "title": {
         "font": {
          "color": "#4D5663"
         }
        },
        "xaxis": {
         "gridcolor": "#E1E5ED",
         "showgrid": true,
         "tickfont": {
          "color": "#4D5663"
         },
         "title": {
          "font": {
           "color": "#4D5663"
          },
          "text": ""
         },
         "zerolinecolor": "#E1E5ED"
        },
        "yaxis": {
         "gridcolor": "#E1E5ED",
         "showgrid": true,
         "tickfont": {
          "color": "#4D5663"
         },
         "title": {
          "font": {
           "color": "#4D5663"
          },
          "text": ""
         },
         "zerolinecolor": "#E1E5ED"
        }
       }
      },
      "text/html": [
       "<div>\n",
       "        \n",
       "        \n",
       "            <div id=\"5a7ae168-2434-4a9b-b410-92e261750e40\" class=\"plotly-graph-div\" style=\"height:525px; width:100%;\"></div>\n",
       "            <script type=\"text/javascript\">\n",
       "                require([\"plotly\"], function(Plotly) {\n",
       "                    window.PLOTLYENV=window.PLOTLYENV || {};\n",
       "                    window.PLOTLYENV.BASE_URL='https://plot.ly';\n",
       "                    \n",
       "                if (document.getElementById(\"5a7ae168-2434-4a9b-b410-92e261750e40\")) {\n",
       "                    Plotly.newPlot(\n",
       "                        '5a7ae168-2434-4a9b-b410-92e261750e40',\n",
       "                        [{\"colorscale\": [[0.0, \"rgb(255, 153, 51)\"], [0.1111111111111111, \"rgb(55, 128, 191)\"], [0.2222222222222222, \"rgb(50, 171, 96)\"], [0.3333333333333333, \"rgb(128, 0, 128)\"], [0.4444444444444444, \"rgb(219, 64, 82)\"], [0.5555555555555556, \"rgb(0, 128, 128)\"], [0.6666666666666666, \"rgb(255, 255, 51)\"], [0.7777777777777778, \"rgb(128, 128, 0)\"], [0.8888888888888888, \"rgb(251, 128, 114)\"], [1.0, \"rgb(128, 177, 211)\"]], \"type\": \"surface\", \"x\": [0, 1, 2, 3, 4], \"y\": [\"x\", \"y\", \"z\"], \"z\": [[1, 2, 3, 4, 5], [10, 20, 30, 20, 10], [5, 4, 3, 2, 1]]}],\n",
       "                        {\"legend\": {\"bgcolor\": \"#F5F6F9\", \"font\": {\"color\": \"#4D5663\"}}, \"paper_bgcolor\": \"#F5F6F9\", \"plot_bgcolor\": \"#F5F6F9\", \"template\": {\"data\": {\"bar\": [{\"error_x\": {\"color\": \"#2a3f5f\"}, \"error_y\": {\"color\": \"#2a3f5f\"}, \"marker\": {\"line\": {\"color\": \"#E5ECF6\", \"width\": 0.5}}, \"type\": \"bar\"}], \"barpolar\": [{\"marker\": {\"line\": {\"color\": \"#E5ECF6\", \"width\": 0.5}}, \"type\": \"barpolar\"}], \"carpet\": [{\"aaxis\": {\"endlinecolor\": \"#2a3f5f\", \"gridcolor\": \"white\", \"linecolor\": \"white\", \"minorgridcolor\": \"white\", \"startlinecolor\": \"#2a3f5f\"}, \"baxis\": {\"endlinecolor\": \"#2a3f5f\", \"gridcolor\": \"white\", \"linecolor\": \"white\", \"minorgridcolor\": \"white\", \"startlinecolor\": \"#2a3f5f\"}, \"type\": \"carpet\"}], \"choropleth\": [{\"colorbar\": {\"outlinewidth\": 0, \"ticks\": \"\"}, \"type\": \"choropleth\"}], \"contour\": [{\"colorbar\": {\"outlinewidth\": 0, \"ticks\": \"\"}, \"colorscale\": [[0.0, \"#0d0887\"], [0.1111111111111111, \"#46039f\"], [0.2222222222222222, \"#7201a8\"], [0.3333333333333333, \"#9c179e\"], [0.4444444444444444, \"#bd3786\"], [0.5555555555555556, \"#d8576b\"], [0.6666666666666666, \"#ed7953\"], [0.7777777777777778, \"#fb9f3a\"], [0.8888888888888888, \"#fdca26\"], [1.0, \"#f0f921\"]], \"type\": \"contour\"}], \"contourcarpet\": [{\"colorbar\": {\"outlinewidth\": 0, \"ticks\": \"\"}, \"type\": \"contourcarpet\"}], \"heatmap\": [{\"colorbar\": {\"outlinewidth\": 0, \"ticks\": \"\"}, \"colorscale\": [[0.0, \"#0d0887\"], [0.1111111111111111, \"#46039f\"], [0.2222222222222222, \"#7201a8\"], [0.3333333333333333, \"#9c179e\"], [0.4444444444444444, \"#bd3786\"], [0.5555555555555556, \"#d8576b\"], [0.6666666666666666, \"#ed7953\"], [0.7777777777777778, \"#fb9f3a\"], [0.8888888888888888, \"#fdca26\"], [1.0, \"#f0f921\"]], \"type\": \"heatmap\"}], \"heatmapgl\": [{\"colorbar\": {\"outlinewidth\": 0, \"ticks\": \"\"}, \"colorscale\": [[0.0, \"#0d0887\"], [0.1111111111111111, \"#46039f\"], [0.2222222222222222, \"#7201a8\"], [0.3333333333333333, \"#9c179e\"], [0.4444444444444444, \"#bd3786\"], [0.5555555555555556, \"#d8576b\"], [0.6666666666666666, \"#ed7953\"], [0.7777777777777778, \"#fb9f3a\"], [0.8888888888888888, \"#fdca26\"], [1.0, \"#f0f921\"]], \"type\": \"heatmapgl\"}], \"histogram\": [{\"marker\": {\"colorbar\": {\"outlinewidth\": 0, \"ticks\": \"\"}}, \"type\": \"histogram\"}], \"histogram2d\": [{\"colorbar\": {\"outlinewidth\": 0, \"ticks\": \"\"}, \"colorscale\": [[0.0, \"#0d0887\"], [0.1111111111111111, \"#46039f\"], [0.2222222222222222, \"#7201a8\"], [0.3333333333333333, \"#9c179e\"], [0.4444444444444444, \"#bd3786\"], [0.5555555555555556, \"#d8576b\"], [0.6666666666666666, \"#ed7953\"], [0.7777777777777778, \"#fb9f3a\"], [0.8888888888888888, \"#fdca26\"], [1.0, \"#f0f921\"]], \"type\": \"histogram2d\"}], \"histogram2dcontour\": [{\"colorbar\": {\"outlinewidth\": 0, \"ticks\": \"\"}, \"colorscale\": [[0.0, \"#0d0887\"], [0.1111111111111111, \"#46039f\"], [0.2222222222222222, \"#7201a8\"], [0.3333333333333333, \"#9c179e\"], [0.4444444444444444, \"#bd3786\"], [0.5555555555555556, \"#d8576b\"], [0.6666666666666666, \"#ed7953\"], [0.7777777777777778, \"#fb9f3a\"], [0.8888888888888888, \"#fdca26\"], [1.0, \"#f0f921\"]], \"type\": \"histogram2dcontour\"}], \"mesh3d\": [{\"colorbar\": {\"outlinewidth\": 0, \"ticks\": \"\"}, \"type\": \"mesh3d\"}], \"parcoords\": [{\"line\": {\"colorbar\": {\"outlinewidth\": 0, \"ticks\": \"\"}}, \"type\": \"parcoords\"}], \"scatter\": [{\"marker\": {\"colorbar\": {\"outlinewidth\": 0, \"ticks\": \"\"}}, \"type\": \"scatter\"}], \"scatter3d\": [{\"line\": {\"colorbar\": {\"outlinewidth\": 0, \"ticks\": \"\"}}, \"marker\": {\"colorbar\": {\"outlinewidth\": 0, \"ticks\": \"\"}}, \"type\": \"scatter3d\"}], \"scattercarpet\": [{\"marker\": {\"colorbar\": {\"outlinewidth\": 0, \"ticks\": \"\"}}, \"type\": \"scattercarpet\"}], \"scattergeo\": [{\"marker\": {\"colorbar\": {\"outlinewidth\": 0, \"ticks\": \"\"}}, \"type\": \"scattergeo\"}], \"scattergl\": [{\"marker\": {\"colorbar\": {\"outlinewidth\": 0, \"ticks\": \"\"}}, \"type\": \"scattergl\"}], \"scattermapbox\": [{\"marker\": {\"colorbar\": {\"outlinewidth\": 0, \"ticks\": \"\"}}, \"type\": \"scattermapbox\"}], \"scatterpolar\": [{\"marker\": {\"colorbar\": {\"outlinewidth\": 0, \"ticks\": \"\"}}, \"type\": \"scatterpolar\"}], \"scatterpolargl\": [{\"marker\": {\"colorbar\": {\"outlinewidth\": 0, \"ticks\": \"\"}}, \"type\": \"scatterpolargl\"}], \"scatterternary\": [{\"marker\": {\"colorbar\": {\"outlinewidth\": 0, \"ticks\": \"\"}}, \"type\": \"scatterternary\"}], \"surface\": [{\"colorbar\": {\"outlinewidth\": 0, \"ticks\": \"\"}, \"colorscale\": [[0.0, \"#0d0887\"], [0.1111111111111111, \"#46039f\"], [0.2222222222222222, \"#7201a8\"], [0.3333333333333333, \"#9c179e\"], [0.4444444444444444, \"#bd3786\"], [0.5555555555555556, \"#d8576b\"], [0.6666666666666666, \"#ed7953\"], [0.7777777777777778, \"#fb9f3a\"], [0.8888888888888888, \"#fdca26\"], [1.0, \"#f0f921\"]], \"type\": \"surface\"}], \"table\": [{\"cells\": {\"fill\": {\"color\": \"#EBF0F8\"}, \"line\": {\"color\": \"white\"}}, \"header\": {\"fill\": {\"color\": \"#C8D4E3\"}, \"line\": {\"color\": \"white\"}}, \"type\": \"table\"}]}, \"layout\": {\"annotationdefaults\": {\"arrowcolor\": \"#2a3f5f\", \"arrowhead\": 0, \"arrowwidth\": 1}, \"colorscale\": {\"diverging\": [[0, \"#8e0152\"], [0.1, \"#c51b7d\"], [0.2, \"#de77ae\"], [0.3, \"#f1b6da\"], [0.4, \"#fde0ef\"], [0.5, \"#f7f7f7\"], [0.6, \"#e6f5d0\"], [0.7, \"#b8e186\"], [0.8, \"#7fbc41\"], [0.9, \"#4d9221\"], [1, \"#276419\"]], \"sequential\": [[0.0, \"#0d0887\"], [0.1111111111111111, \"#46039f\"], [0.2222222222222222, \"#7201a8\"], [0.3333333333333333, \"#9c179e\"], [0.4444444444444444, \"#bd3786\"], [0.5555555555555556, \"#d8576b\"], [0.6666666666666666, \"#ed7953\"], [0.7777777777777778, \"#fb9f3a\"], [0.8888888888888888, \"#fdca26\"], [1.0, \"#f0f921\"]], \"sequentialminus\": [[0.0, \"#0d0887\"], [0.1111111111111111, \"#46039f\"], [0.2222222222222222, \"#7201a8\"], [0.3333333333333333, \"#9c179e\"], [0.4444444444444444, \"#bd3786\"], [0.5555555555555556, \"#d8576b\"], [0.6666666666666666, \"#ed7953\"], [0.7777777777777778, \"#fb9f3a\"], [0.8888888888888888, \"#fdca26\"], [1.0, \"#f0f921\"]]}, \"colorway\": [\"#636efa\", \"#EF553B\", \"#00cc96\", \"#ab63fa\", \"#FFA15A\", \"#19d3f3\", \"#FF6692\", \"#B6E880\", \"#FF97FF\", \"#FECB52\"], \"font\": {\"color\": \"#2a3f5f\"}, \"geo\": {\"bgcolor\": \"white\", \"lakecolor\": \"white\", \"landcolor\": \"#E5ECF6\", \"showlakes\": true, \"showland\": true, \"subunitcolor\": \"white\"}, \"hoverlabel\": {\"align\": \"left\"}, \"hovermode\": \"closest\", \"mapbox\": {\"style\": \"light\"}, \"paper_bgcolor\": \"white\", \"plot_bgcolor\": \"#E5ECF6\", \"polar\": {\"angularaxis\": {\"gridcolor\": \"white\", \"linecolor\": \"white\", \"ticks\": \"\"}, \"bgcolor\": \"#E5ECF6\", \"radialaxis\": {\"gridcolor\": \"white\", \"linecolor\": \"white\", \"ticks\": \"\"}}, \"scene\": {\"xaxis\": {\"backgroundcolor\": \"#E5ECF6\", \"gridcolor\": \"white\", \"gridwidth\": 2, \"linecolor\": \"white\", \"showbackground\": true, \"ticks\": \"\", \"zerolinecolor\": \"white\"}, \"yaxis\": {\"backgroundcolor\": \"#E5ECF6\", \"gridcolor\": \"white\", \"gridwidth\": 2, \"linecolor\": \"white\", \"showbackground\": true, \"ticks\": \"\", \"zerolinecolor\": \"white\"}, \"zaxis\": {\"backgroundcolor\": \"#E5ECF6\", \"gridcolor\": \"white\", \"gridwidth\": 2, \"linecolor\": \"white\", \"showbackground\": true, \"ticks\": \"\", \"zerolinecolor\": \"white\"}}, \"shapedefaults\": {\"line\": {\"color\": \"#2a3f5f\"}}, \"ternary\": {\"aaxis\": {\"gridcolor\": \"white\", \"linecolor\": \"white\", \"ticks\": \"\"}, \"baxis\": {\"gridcolor\": \"white\", \"linecolor\": \"white\", \"ticks\": \"\"}, \"bgcolor\": \"#E5ECF6\", \"caxis\": {\"gridcolor\": \"white\", \"linecolor\": \"white\", \"ticks\": \"\"}}, \"title\": {\"x\": 0.05}, \"xaxis\": {\"automargin\": true, \"gridcolor\": \"white\", \"linecolor\": \"white\", \"ticks\": \"\", \"zerolinecolor\": \"white\", \"zerolinewidth\": 2}, \"yaxis\": {\"automargin\": true, \"gridcolor\": \"white\", \"linecolor\": \"white\", \"ticks\": \"\", \"zerolinecolor\": \"white\", \"zerolinewidth\": 2}}}, \"title\": {\"font\": {\"color\": \"#4D5663\"}}, \"xaxis\": {\"gridcolor\": \"#E1E5ED\", \"showgrid\": true, \"tickfont\": {\"color\": \"#4D5663\"}, \"title\": {\"font\": {\"color\": \"#4D5663\"}, \"text\": \"\"}, \"zerolinecolor\": \"#E1E5ED\"}, \"yaxis\": {\"gridcolor\": \"#E1E5ED\", \"showgrid\": true, \"tickfont\": {\"color\": \"#4D5663\"}, \"title\": {\"font\": {\"color\": \"#4D5663\"}, \"text\": \"\"}, \"zerolinecolor\": \"#E1E5ED\"}},\n",
       "                        {\"showLink\": true, \"linkText\": \"Export to plot.ly\", \"plotlyServerURL\": \"https://plot.ly\", \"responsive\": true}\n",
       "                    ).then(function(){\n",
       "                            \n",
       "var gd = document.getElementById('5a7ae168-2434-4a9b-b410-92e261750e40');\n",
       "var x = new MutationObserver(function (mutations, observer) {{\n",
       "        var display = window.getComputedStyle(gd).display;\n",
       "        if (!display || display === 'none') {{\n",
       "            console.log([gd, 'removed!']);\n",
       "            Plotly.purge(gd);\n",
       "            observer.disconnect();\n",
       "        }}\n",
       "}});\n",
       "\n",
       "// Listen for the removal of the full notebook cells\n",
       "var notebookContainer = gd.closest('#notebook-container');\n",
       "if (notebookContainer) {{\n",
       "    x.observe(notebookContainer, {childList: true});\n",
       "}}\n",
       "\n",
       "// Listen for the clearing of the current output cell\n",
       "var outputEl = gd.closest('.output');\n",
       "if (outputEl) {{\n",
       "    x.observe(outputEl, {childList: true});\n",
       "}}\n",
       "\n",
       "                        })\n",
       "                };\n",
       "                });\n",
       "            </script>\n",
       "        </div>"
      ]
     },
     "metadata": {},
     "output_type": "display_data"
    }
   ],
   "source": [
    "df2.iplot(kind = 'surface')"
   ]
  },
  {
   "cell_type": "code",
   "execution_count": 28,
   "metadata": {},
   "outputs": [
    {
     "data": {
      "application/vnd.plotly.v1+json": {
       "config": {
        "linkText": "Export to plot.ly",
        "plotlyServerURL": "https://plot.ly",
        "showLink": true
       },
       "data": [
        {
         "colorscale": [
          [
           0,
           "rgb(165,0,38)"
          ],
          [
           0.1,
           "rgb(215,48,39)"
          ],
          [
           0.2,
           "rgb(244,109,67)"
          ],
          [
           0.3,
           "rgb(253,174,97)"
          ],
          [
           0.4,
           "rgb(254,224,144)"
          ],
          [
           0.5,
           "rgb(255,255,191)"
          ],
          [
           0.6,
           "rgb(224,243,248)"
          ],
          [
           0.7,
           "rgb(171,217,233)"
          ],
          [
           0.8,
           "rgb(116,173,209)"
          ],
          [
           0.9,
           "rgb(69,117,180)"
          ],
          [
           1,
           "rgb(49,54,149)"
          ]
         ],
         "type": "surface",
         "x": [
          0,
          1,
          2,
          3,
          4
         ],
         "y": [
          "x",
          "y",
          "z"
         ],
         "z": [
          [
           1,
           2,
           3,
           4,
           5
          ],
          [
           10,
           20,
           30,
           20,
           10
          ],
          [
           5,
           4,
           3,
           2,
           1
          ]
         ]
        }
       ],
       "layout": {
        "legend": {
         "bgcolor": "#F5F6F9",
         "font": {
          "color": "#4D5663"
         }
        },
        "paper_bgcolor": "#F5F6F9",
        "plot_bgcolor": "#F5F6F9",
        "template": {
         "data": {
          "bar": [
           {
            "error_x": {
             "color": "#2a3f5f"
            },
            "error_y": {
             "color": "#2a3f5f"
            },
            "marker": {
             "line": {
              "color": "#E5ECF6",
              "width": 0.5
             }
            },
            "type": "bar"
           }
          ],
          "barpolar": [
           {
            "marker": {
             "line": {
              "color": "#E5ECF6",
              "width": 0.5
             }
            },
            "type": "barpolar"
           }
          ],
          "carpet": [
           {
            "aaxis": {
             "endlinecolor": "#2a3f5f",
             "gridcolor": "white",
             "linecolor": "white",
             "minorgridcolor": "white",
             "startlinecolor": "#2a3f5f"
            },
            "baxis": {
             "endlinecolor": "#2a3f5f",
             "gridcolor": "white",
             "linecolor": "white",
             "minorgridcolor": "white",
             "startlinecolor": "#2a3f5f"
            },
            "type": "carpet"
           }
          ],
          "choropleth": [
           {
            "colorbar": {
             "outlinewidth": 0,
             "ticks": ""
            },
            "type": "choropleth"
           }
          ],
          "contour": [
           {
            "colorbar": {
             "outlinewidth": 0,
             "ticks": ""
            },
            "colorscale": [
             [
              0,
              "#0d0887"
             ],
             [
              0.1111111111111111,
              "#46039f"
             ],
             [
              0.2222222222222222,
              "#7201a8"
             ],
             [
              0.3333333333333333,
              "#9c179e"
             ],
             [
              0.4444444444444444,
              "#bd3786"
             ],
             [
              0.5555555555555556,
              "#d8576b"
             ],
             [
              0.6666666666666666,
              "#ed7953"
             ],
             [
              0.7777777777777778,
              "#fb9f3a"
             ],
             [
              0.8888888888888888,
              "#fdca26"
             ],
             [
              1,
              "#f0f921"
             ]
            ],
            "type": "contour"
           }
          ],
          "contourcarpet": [
           {
            "colorbar": {
             "outlinewidth": 0,
             "ticks": ""
            },
            "type": "contourcarpet"
           }
          ],
          "heatmap": [
           {
            "colorbar": {
             "outlinewidth": 0,
             "ticks": ""
            },
            "colorscale": [
             [
              0,
              "#0d0887"
             ],
             [
              0.1111111111111111,
              "#46039f"
             ],
             [
              0.2222222222222222,
              "#7201a8"
             ],
             [
              0.3333333333333333,
              "#9c179e"
             ],
             [
              0.4444444444444444,
              "#bd3786"
             ],
             [
              0.5555555555555556,
              "#d8576b"
             ],
             [
              0.6666666666666666,
              "#ed7953"
             ],
             [
              0.7777777777777778,
              "#fb9f3a"
             ],
             [
              0.8888888888888888,
              "#fdca26"
             ],
             [
              1,
              "#f0f921"
             ]
            ],
            "type": "heatmap"
           }
          ],
          "heatmapgl": [
           {
            "colorbar": {
             "outlinewidth": 0,
             "ticks": ""
            },
            "colorscale": [
             [
              0,
              "#0d0887"
             ],
             [
              0.1111111111111111,
              "#46039f"
             ],
             [
              0.2222222222222222,
              "#7201a8"
             ],
             [
              0.3333333333333333,
              "#9c179e"
             ],
             [
              0.4444444444444444,
              "#bd3786"
             ],
             [
              0.5555555555555556,
              "#d8576b"
             ],
             [
              0.6666666666666666,
              "#ed7953"
             ],
             [
              0.7777777777777778,
              "#fb9f3a"
             ],
             [
              0.8888888888888888,
              "#fdca26"
             ],
             [
              1,
              "#f0f921"
             ]
            ],
            "type": "heatmapgl"
           }
          ],
          "histogram": [
           {
            "marker": {
             "colorbar": {
              "outlinewidth": 0,
              "ticks": ""
             }
            },
            "type": "histogram"
           }
          ],
          "histogram2d": [
           {
            "colorbar": {
             "outlinewidth": 0,
             "ticks": ""
            },
            "colorscale": [
             [
              0,
              "#0d0887"
             ],
             [
              0.1111111111111111,
              "#46039f"
             ],
             [
              0.2222222222222222,
              "#7201a8"
             ],
             [
              0.3333333333333333,
              "#9c179e"
             ],
             [
              0.4444444444444444,
              "#bd3786"
             ],
             [
              0.5555555555555556,
              "#d8576b"
             ],
             [
              0.6666666666666666,
              "#ed7953"
             ],
             [
              0.7777777777777778,
              "#fb9f3a"
             ],
             [
              0.8888888888888888,
              "#fdca26"
             ],
             [
              1,
              "#f0f921"
             ]
            ],
            "type": "histogram2d"
           }
          ],
          "histogram2dcontour": [
           {
            "colorbar": {
             "outlinewidth": 0,
             "ticks": ""
            },
            "colorscale": [
             [
              0,
              "#0d0887"
             ],
             [
              0.1111111111111111,
              "#46039f"
             ],
             [
              0.2222222222222222,
              "#7201a8"
             ],
             [
              0.3333333333333333,
              "#9c179e"
             ],
             [
              0.4444444444444444,
              "#bd3786"
             ],
             [
              0.5555555555555556,
              "#d8576b"
             ],
             [
              0.6666666666666666,
              "#ed7953"
             ],
             [
              0.7777777777777778,
              "#fb9f3a"
             ],
             [
              0.8888888888888888,
              "#fdca26"
             ],
             [
              1,
              "#f0f921"
             ]
            ],
            "type": "histogram2dcontour"
           }
          ],
          "mesh3d": [
           {
            "colorbar": {
             "outlinewidth": 0,
             "ticks": ""
            },
            "type": "mesh3d"
           }
          ],
          "parcoords": [
           {
            "line": {
             "colorbar": {
              "outlinewidth": 0,
              "ticks": ""
             }
            },
            "type": "parcoords"
           }
          ],
          "scatter": [
           {
            "marker": {
             "colorbar": {
              "outlinewidth": 0,
              "ticks": ""
             }
            },
            "type": "scatter"
           }
          ],
          "scatter3d": [
           {
            "line": {
             "colorbar": {
              "outlinewidth": 0,
              "ticks": ""
             }
            },
            "marker": {
             "colorbar": {
              "outlinewidth": 0,
              "ticks": ""
             }
            },
            "type": "scatter3d"
           }
          ],
          "scattercarpet": [
           {
            "marker": {
             "colorbar": {
              "outlinewidth": 0,
              "ticks": ""
             }
            },
            "type": "scattercarpet"
           }
          ],
          "scattergeo": [
           {
            "marker": {
             "colorbar": {
              "outlinewidth": 0,
              "ticks": ""
             }
            },
            "type": "scattergeo"
           }
          ],
          "scattergl": [
           {
            "marker": {
             "colorbar": {
              "outlinewidth": 0,
              "ticks": ""
             }
            },
            "type": "scattergl"
           }
          ],
          "scattermapbox": [
           {
            "marker": {
             "colorbar": {
              "outlinewidth": 0,
              "ticks": ""
             }
            },
            "type": "scattermapbox"
           }
          ],
          "scatterpolar": [
           {
            "marker": {
             "colorbar": {
              "outlinewidth": 0,
              "ticks": ""
             }
            },
            "type": "scatterpolar"
           }
          ],
          "scatterpolargl": [
           {
            "marker": {
             "colorbar": {
              "outlinewidth": 0,
              "ticks": ""
             }
            },
            "type": "scatterpolargl"
           }
          ],
          "scatterternary": [
           {
            "marker": {
             "colorbar": {
              "outlinewidth": 0,
              "ticks": ""
             }
            },
            "type": "scatterternary"
           }
          ],
          "surface": [
           {
            "colorbar": {
             "outlinewidth": 0,
             "ticks": ""
            },
            "colorscale": [
             [
              0,
              "#0d0887"
             ],
             [
              0.1111111111111111,
              "#46039f"
             ],
             [
              0.2222222222222222,
              "#7201a8"
             ],
             [
              0.3333333333333333,
              "#9c179e"
             ],
             [
              0.4444444444444444,
              "#bd3786"
             ],
             [
              0.5555555555555556,
              "#d8576b"
             ],
             [
              0.6666666666666666,
              "#ed7953"
             ],
             [
              0.7777777777777778,
              "#fb9f3a"
             ],
             [
              0.8888888888888888,
              "#fdca26"
             ],
             [
              1,
              "#f0f921"
             ]
            ],
            "type": "surface"
           }
          ],
          "table": [
           {
            "cells": {
             "fill": {
              "color": "#EBF0F8"
             },
             "line": {
              "color": "white"
             }
            },
            "header": {
             "fill": {
              "color": "#C8D4E3"
             },
             "line": {
              "color": "white"
             }
            },
            "type": "table"
           }
          ]
         },
         "layout": {
          "annotationdefaults": {
           "arrowcolor": "#2a3f5f",
           "arrowhead": 0,
           "arrowwidth": 1
          },
          "colorscale": {
           "diverging": [
            [
             0,
             "#8e0152"
            ],
            [
             0.1,
             "#c51b7d"
            ],
            [
             0.2,
             "#de77ae"
            ],
            [
             0.3,
             "#f1b6da"
            ],
            [
             0.4,
             "#fde0ef"
            ],
            [
             0.5,
             "#f7f7f7"
            ],
            [
             0.6,
             "#e6f5d0"
            ],
            [
             0.7,
             "#b8e186"
            ],
            [
             0.8,
             "#7fbc41"
            ],
            [
             0.9,
             "#4d9221"
            ],
            [
             1,
             "#276419"
            ]
           ],
           "sequential": [
            [
             0,
             "#0d0887"
            ],
            [
             0.1111111111111111,
             "#46039f"
            ],
            [
             0.2222222222222222,
             "#7201a8"
            ],
            [
             0.3333333333333333,
             "#9c179e"
            ],
            [
             0.4444444444444444,
             "#bd3786"
            ],
            [
             0.5555555555555556,
             "#d8576b"
            ],
            [
             0.6666666666666666,
             "#ed7953"
            ],
            [
             0.7777777777777778,
             "#fb9f3a"
            ],
            [
             0.8888888888888888,
             "#fdca26"
            ],
            [
             1,
             "#f0f921"
            ]
           ],
           "sequentialminus": [
            [
             0,
             "#0d0887"
            ],
            [
             0.1111111111111111,
             "#46039f"
            ],
            [
             0.2222222222222222,
             "#7201a8"
            ],
            [
             0.3333333333333333,
             "#9c179e"
            ],
            [
             0.4444444444444444,
             "#bd3786"
            ],
            [
             0.5555555555555556,
             "#d8576b"
            ],
            [
             0.6666666666666666,
             "#ed7953"
            ],
            [
             0.7777777777777778,
             "#fb9f3a"
            ],
            [
             0.8888888888888888,
             "#fdca26"
            ],
            [
             1,
             "#f0f921"
            ]
           ]
          },
          "colorway": [
           "#636efa",
           "#EF553B",
           "#00cc96",
           "#ab63fa",
           "#FFA15A",
           "#19d3f3",
           "#FF6692",
           "#B6E880",
           "#FF97FF",
           "#FECB52"
          ],
          "font": {
           "color": "#2a3f5f"
          },
          "geo": {
           "bgcolor": "white",
           "lakecolor": "white",
           "landcolor": "#E5ECF6",
           "showlakes": true,
           "showland": true,
           "subunitcolor": "white"
          },
          "hoverlabel": {
           "align": "left"
          },
          "hovermode": "closest",
          "mapbox": {
           "style": "light"
          },
          "paper_bgcolor": "white",
          "plot_bgcolor": "#E5ECF6",
          "polar": {
           "angularaxis": {
            "gridcolor": "white",
            "linecolor": "white",
            "ticks": ""
           },
           "bgcolor": "#E5ECF6",
           "radialaxis": {
            "gridcolor": "white",
            "linecolor": "white",
            "ticks": ""
           }
          },
          "scene": {
           "xaxis": {
            "backgroundcolor": "#E5ECF6",
            "gridcolor": "white",
            "gridwidth": 2,
            "linecolor": "white",
            "showbackground": true,
            "ticks": "",
            "zerolinecolor": "white"
           },
           "yaxis": {
            "backgroundcolor": "#E5ECF6",
            "gridcolor": "white",
            "gridwidth": 2,
            "linecolor": "white",
            "showbackground": true,
            "ticks": "",
            "zerolinecolor": "white"
           },
           "zaxis": {
            "backgroundcolor": "#E5ECF6",
            "gridcolor": "white",
            "gridwidth": 2,
            "linecolor": "white",
            "showbackground": true,
            "ticks": "",
            "zerolinecolor": "white"
           }
          },
          "shapedefaults": {
           "line": {
            "color": "#2a3f5f"
           }
          },
          "ternary": {
           "aaxis": {
            "gridcolor": "white",
            "linecolor": "white",
            "ticks": ""
           },
           "baxis": {
            "gridcolor": "white",
            "linecolor": "white",
            "ticks": ""
           },
           "bgcolor": "#E5ECF6",
           "caxis": {
            "gridcolor": "white",
            "linecolor": "white",
            "ticks": ""
           }
          },
          "title": {
           "x": 0.05
          },
          "xaxis": {
           "automargin": true,
           "gridcolor": "white",
           "linecolor": "white",
           "ticks": "",
           "zerolinecolor": "white",
           "zerolinewidth": 2
          },
          "yaxis": {
           "automargin": true,
           "gridcolor": "white",
           "linecolor": "white",
           "ticks": "",
           "zerolinecolor": "white",
           "zerolinewidth": 2
          }
         }
        },
        "title": {
         "font": {
          "color": "#4D5663"
         }
        },
        "xaxis": {
         "gridcolor": "#E1E5ED",
         "showgrid": true,
         "tickfont": {
          "color": "#4D5663"
         },
         "title": {
          "font": {
           "color": "#4D5663"
          },
          "text": ""
         },
         "zerolinecolor": "#E1E5ED"
        },
        "yaxis": {
         "gridcolor": "#E1E5ED",
         "showgrid": true,
         "tickfont": {
          "color": "#4D5663"
         },
         "title": {
          "font": {
           "color": "#4D5663"
          },
          "text": ""
         },
         "zerolinecolor": "#E1E5ED"
        }
       }
      },
      "text/html": [
       "<div>\n",
       "        \n",
       "        \n",
       "            <div id=\"f915d222-fa9c-439d-82ee-b786076a6ffd\" class=\"plotly-graph-div\" style=\"height:525px; width:100%;\"></div>\n",
       "            <script type=\"text/javascript\">\n",
       "                require([\"plotly\"], function(Plotly) {\n",
       "                    window.PLOTLYENV=window.PLOTLYENV || {};\n",
       "                    window.PLOTLYENV.BASE_URL='https://plot.ly';\n",
       "                    \n",
       "                if (document.getElementById(\"f915d222-fa9c-439d-82ee-b786076a6ffd\")) {\n",
       "                    Plotly.newPlot(\n",
       "                        'f915d222-fa9c-439d-82ee-b786076a6ffd',\n",
       "                        [{\"colorscale\": [[0.0, \"rgb(165,0,38)\"], [0.1, \"rgb(215,48,39)\"], [0.2, \"rgb(244,109,67)\"], [0.3, \"rgb(253,174,97)\"], [0.4, \"rgb(254,224,144)\"], [0.5, \"rgb(255,255,191)\"], [0.6, \"rgb(224,243,248)\"], [0.7, \"rgb(171,217,233)\"], [0.8, \"rgb(116,173,209)\"], [0.9, \"rgb(69,117,180)\"], [1.0, \"rgb(49,54,149)\"]], \"type\": \"surface\", \"x\": [0, 1, 2, 3, 4], \"y\": [\"x\", \"y\", \"z\"], \"z\": [[1, 2, 3, 4, 5], [10, 20, 30, 20, 10], [5, 4, 3, 2, 1]]}],\n",
       "                        {\"legend\": {\"bgcolor\": \"#F5F6F9\", \"font\": {\"color\": \"#4D5663\"}}, \"paper_bgcolor\": \"#F5F6F9\", \"plot_bgcolor\": \"#F5F6F9\", \"template\": {\"data\": {\"bar\": [{\"error_x\": {\"color\": \"#2a3f5f\"}, \"error_y\": {\"color\": \"#2a3f5f\"}, \"marker\": {\"line\": {\"color\": \"#E5ECF6\", \"width\": 0.5}}, \"type\": \"bar\"}], \"barpolar\": [{\"marker\": {\"line\": {\"color\": \"#E5ECF6\", \"width\": 0.5}}, \"type\": \"barpolar\"}], \"carpet\": [{\"aaxis\": {\"endlinecolor\": \"#2a3f5f\", \"gridcolor\": \"white\", \"linecolor\": \"white\", \"minorgridcolor\": \"white\", \"startlinecolor\": \"#2a3f5f\"}, \"baxis\": {\"endlinecolor\": \"#2a3f5f\", \"gridcolor\": \"white\", \"linecolor\": \"white\", \"minorgridcolor\": \"white\", \"startlinecolor\": \"#2a3f5f\"}, \"type\": \"carpet\"}], \"choropleth\": [{\"colorbar\": {\"outlinewidth\": 0, \"ticks\": \"\"}, \"type\": \"choropleth\"}], \"contour\": [{\"colorbar\": {\"outlinewidth\": 0, \"ticks\": \"\"}, \"colorscale\": [[0.0, \"#0d0887\"], [0.1111111111111111, \"#46039f\"], [0.2222222222222222, \"#7201a8\"], [0.3333333333333333, \"#9c179e\"], [0.4444444444444444, \"#bd3786\"], [0.5555555555555556, \"#d8576b\"], [0.6666666666666666, \"#ed7953\"], [0.7777777777777778, \"#fb9f3a\"], [0.8888888888888888, \"#fdca26\"], [1.0, \"#f0f921\"]], \"type\": \"contour\"}], \"contourcarpet\": [{\"colorbar\": {\"outlinewidth\": 0, \"ticks\": \"\"}, \"type\": \"contourcarpet\"}], \"heatmap\": [{\"colorbar\": {\"outlinewidth\": 0, \"ticks\": \"\"}, \"colorscale\": [[0.0, \"#0d0887\"], [0.1111111111111111, \"#46039f\"], [0.2222222222222222, \"#7201a8\"], [0.3333333333333333, \"#9c179e\"], [0.4444444444444444, \"#bd3786\"], [0.5555555555555556, \"#d8576b\"], [0.6666666666666666, \"#ed7953\"], [0.7777777777777778, \"#fb9f3a\"], [0.8888888888888888, \"#fdca26\"], [1.0, \"#f0f921\"]], \"type\": \"heatmap\"}], \"heatmapgl\": [{\"colorbar\": {\"outlinewidth\": 0, \"ticks\": \"\"}, \"colorscale\": [[0.0, \"#0d0887\"], [0.1111111111111111, \"#46039f\"], [0.2222222222222222, \"#7201a8\"], [0.3333333333333333, \"#9c179e\"], [0.4444444444444444, \"#bd3786\"], [0.5555555555555556, \"#d8576b\"], [0.6666666666666666, \"#ed7953\"], [0.7777777777777778, \"#fb9f3a\"], [0.8888888888888888, \"#fdca26\"], [1.0, \"#f0f921\"]], \"type\": \"heatmapgl\"}], \"histogram\": [{\"marker\": {\"colorbar\": {\"outlinewidth\": 0, \"ticks\": \"\"}}, \"type\": \"histogram\"}], \"histogram2d\": [{\"colorbar\": {\"outlinewidth\": 0, \"ticks\": \"\"}, \"colorscale\": [[0.0, \"#0d0887\"], [0.1111111111111111, \"#46039f\"], [0.2222222222222222, \"#7201a8\"], [0.3333333333333333, \"#9c179e\"], [0.4444444444444444, \"#bd3786\"], [0.5555555555555556, \"#d8576b\"], [0.6666666666666666, \"#ed7953\"], [0.7777777777777778, \"#fb9f3a\"], [0.8888888888888888, \"#fdca26\"], [1.0, \"#f0f921\"]], \"type\": \"histogram2d\"}], \"histogram2dcontour\": [{\"colorbar\": {\"outlinewidth\": 0, \"ticks\": \"\"}, \"colorscale\": [[0.0, \"#0d0887\"], [0.1111111111111111, \"#46039f\"], [0.2222222222222222, \"#7201a8\"], [0.3333333333333333, \"#9c179e\"], [0.4444444444444444, \"#bd3786\"], [0.5555555555555556, \"#d8576b\"], [0.6666666666666666, \"#ed7953\"], [0.7777777777777778, \"#fb9f3a\"], [0.8888888888888888, \"#fdca26\"], [1.0, \"#f0f921\"]], \"type\": \"histogram2dcontour\"}], \"mesh3d\": [{\"colorbar\": {\"outlinewidth\": 0, \"ticks\": \"\"}, \"type\": \"mesh3d\"}], \"parcoords\": [{\"line\": {\"colorbar\": {\"outlinewidth\": 0, \"ticks\": \"\"}}, \"type\": \"parcoords\"}], \"scatter\": [{\"marker\": {\"colorbar\": {\"outlinewidth\": 0, \"ticks\": \"\"}}, \"type\": \"scatter\"}], \"scatter3d\": [{\"line\": {\"colorbar\": {\"outlinewidth\": 0, \"ticks\": \"\"}}, \"marker\": {\"colorbar\": {\"outlinewidth\": 0, \"ticks\": \"\"}}, \"type\": \"scatter3d\"}], \"scattercarpet\": [{\"marker\": {\"colorbar\": {\"outlinewidth\": 0, \"ticks\": \"\"}}, \"type\": \"scattercarpet\"}], \"scattergeo\": [{\"marker\": {\"colorbar\": {\"outlinewidth\": 0, \"ticks\": \"\"}}, \"type\": \"scattergeo\"}], \"scattergl\": [{\"marker\": {\"colorbar\": {\"outlinewidth\": 0, \"ticks\": \"\"}}, \"type\": \"scattergl\"}], \"scattermapbox\": [{\"marker\": {\"colorbar\": {\"outlinewidth\": 0, \"ticks\": \"\"}}, \"type\": \"scattermapbox\"}], \"scatterpolar\": [{\"marker\": {\"colorbar\": {\"outlinewidth\": 0, \"ticks\": \"\"}}, \"type\": \"scatterpolar\"}], \"scatterpolargl\": [{\"marker\": {\"colorbar\": {\"outlinewidth\": 0, \"ticks\": \"\"}}, \"type\": \"scatterpolargl\"}], \"scatterternary\": [{\"marker\": {\"colorbar\": {\"outlinewidth\": 0, \"ticks\": \"\"}}, \"type\": \"scatterternary\"}], \"surface\": [{\"colorbar\": {\"outlinewidth\": 0, \"ticks\": \"\"}, \"colorscale\": [[0.0, \"#0d0887\"], [0.1111111111111111, \"#46039f\"], [0.2222222222222222, \"#7201a8\"], [0.3333333333333333, \"#9c179e\"], [0.4444444444444444, \"#bd3786\"], [0.5555555555555556, \"#d8576b\"], [0.6666666666666666, \"#ed7953\"], [0.7777777777777778, \"#fb9f3a\"], [0.8888888888888888, \"#fdca26\"], [1.0, \"#f0f921\"]], \"type\": \"surface\"}], \"table\": [{\"cells\": {\"fill\": {\"color\": \"#EBF0F8\"}, \"line\": {\"color\": \"white\"}}, \"header\": {\"fill\": {\"color\": \"#C8D4E3\"}, \"line\": {\"color\": \"white\"}}, \"type\": \"table\"}]}, \"layout\": {\"annotationdefaults\": {\"arrowcolor\": \"#2a3f5f\", \"arrowhead\": 0, \"arrowwidth\": 1}, \"colorscale\": {\"diverging\": [[0, \"#8e0152\"], [0.1, \"#c51b7d\"], [0.2, \"#de77ae\"], [0.3, \"#f1b6da\"], [0.4, \"#fde0ef\"], [0.5, \"#f7f7f7\"], [0.6, \"#e6f5d0\"], [0.7, \"#b8e186\"], [0.8, \"#7fbc41\"], [0.9, \"#4d9221\"], [1, \"#276419\"]], \"sequential\": [[0.0, \"#0d0887\"], [0.1111111111111111, \"#46039f\"], [0.2222222222222222, \"#7201a8\"], [0.3333333333333333, \"#9c179e\"], [0.4444444444444444, \"#bd3786\"], [0.5555555555555556, \"#d8576b\"], [0.6666666666666666, \"#ed7953\"], [0.7777777777777778, \"#fb9f3a\"], [0.8888888888888888, \"#fdca26\"], [1.0, \"#f0f921\"]], \"sequentialminus\": [[0.0, \"#0d0887\"], [0.1111111111111111, \"#46039f\"], [0.2222222222222222, \"#7201a8\"], [0.3333333333333333, \"#9c179e\"], [0.4444444444444444, \"#bd3786\"], [0.5555555555555556, \"#d8576b\"], [0.6666666666666666, \"#ed7953\"], [0.7777777777777778, \"#fb9f3a\"], [0.8888888888888888, \"#fdca26\"], [1.0, \"#f0f921\"]]}, \"colorway\": [\"#636efa\", \"#EF553B\", \"#00cc96\", \"#ab63fa\", \"#FFA15A\", \"#19d3f3\", \"#FF6692\", \"#B6E880\", \"#FF97FF\", \"#FECB52\"], \"font\": {\"color\": \"#2a3f5f\"}, \"geo\": {\"bgcolor\": \"white\", \"lakecolor\": \"white\", \"landcolor\": \"#E5ECF6\", \"showlakes\": true, \"showland\": true, \"subunitcolor\": \"white\"}, \"hoverlabel\": {\"align\": \"left\"}, \"hovermode\": \"closest\", \"mapbox\": {\"style\": \"light\"}, \"paper_bgcolor\": \"white\", \"plot_bgcolor\": \"#E5ECF6\", \"polar\": {\"angularaxis\": {\"gridcolor\": \"white\", \"linecolor\": \"white\", \"ticks\": \"\"}, \"bgcolor\": \"#E5ECF6\", \"radialaxis\": {\"gridcolor\": \"white\", \"linecolor\": \"white\", \"ticks\": \"\"}}, \"scene\": {\"xaxis\": {\"backgroundcolor\": \"#E5ECF6\", \"gridcolor\": \"white\", \"gridwidth\": 2, \"linecolor\": \"white\", \"showbackground\": true, \"ticks\": \"\", \"zerolinecolor\": \"white\"}, \"yaxis\": {\"backgroundcolor\": \"#E5ECF6\", \"gridcolor\": \"white\", \"gridwidth\": 2, \"linecolor\": \"white\", \"showbackground\": true, \"ticks\": \"\", \"zerolinecolor\": \"white\"}, \"zaxis\": {\"backgroundcolor\": \"#E5ECF6\", \"gridcolor\": \"white\", \"gridwidth\": 2, \"linecolor\": \"white\", \"showbackground\": true, \"ticks\": \"\", \"zerolinecolor\": \"white\"}}, \"shapedefaults\": {\"line\": {\"color\": \"#2a3f5f\"}}, \"ternary\": {\"aaxis\": {\"gridcolor\": \"white\", \"linecolor\": \"white\", \"ticks\": \"\"}, \"baxis\": {\"gridcolor\": \"white\", \"linecolor\": \"white\", \"ticks\": \"\"}, \"bgcolor\": \"#E5ECF6\", \"caxis\": {\"gridcolor\": \"white\", \"linecolor\": \"white\", \"ticks\": \"\"}}, \"title\": {\"x\": 0.05}, \"xaxis\": {\"automargin\": true, \"gridcolor\": \"white\", \"linecolor\": \"white\", \"ticks\": \"\", \"zerolinecolor\": \"white\", \"zerolinewidth\": 2}, \"yaxis\": {\"automargin\": true, \"gridcolor\": \"white\", \"linecolor\": \"white\", \"ticks\": \"\", \"zerolinecolor\": \"white\", \"zerolinewidth\": 2}}}, \"title\": {\"font\": {\"color\": \"#4D5663\"}}, \"xaxis\": {\"gridcolor\": \"#E1E5ED\", \"showgrid\": true, \"tickfont\": {\"color\": \"#4D5663\"}, \"title\": {\"font\": {\"color\": \"#4D5663\"}, \"text\": \"\"}, \"zerolinecolor\": \"#E1E5ED\"}, \"yaxis\": {\"gridcolor\": \"#E1E5ED\", \"showgrid\": true, \"tickfont\": {\"color\": \"#4D5663\"}, \"title\": {\"font\": {\"color\": \"#4D5663\"}, \"text\": \"\"}, \"zerolinecolor\": \"#E1E5ED\"}},\n",
       "                        {\"showLink\": true, \"linkText\": \"Export to plot.ly\", \"plotlyServerURL\": \"https://plot.ly\", \"responsive\": true}\n",
       "                    ).then(function(){\n",
       "                            \n",
       "var gd = document.getElementById('f915d222-fa9c-439d-82ee-b786076a6ffd');\n",
       "var x = new MutationObserver(function (mutations, observer) {{\n",
       "        var display = window.getComputedStyle(gd).display;\n",
       "        if (!display || display === 'none') {{\n",
       "            console.log([gd, 'removed!']);\n",
       "            Plotly.purge(gd);\n",
       "            observer.disconnect();\n",
       "        }}\n",
       "}});\n",
       "\n",
       "// Listen for the removal of the full notebook cells\n",
       "var notebookContainer = gd.closest('#notebook-container');\n",
       "if (notebookContainer) {{\n",
       "    x.observe(notebookContainer, {childList: true});\n",
       "}}\n",
       "\n",
       "// Listen for the clearing of the current output cell\n",
       "var outputEl = gd.closest('.output');\n",
       "if (outputEl) {{\n",
       "    x.observe(outputEl, {childList: true});\n",
       "}}\n",
       "\n",
       "                        })\n",
       "                };\n",
       "                });\n",
       "            </script>\n",
       "        </div>"
      ]
     },
     "metadata": {},
     "output_type": "display_data"
    }
   ],
   "source": [
    "# colorscale can change the plot color\n",
    "\n",
    "df2.iplot(kind = 'surface',colorscale = 'rdylbu')"
   ]
  },
  {
   "cell_type": "markdown",
   "metadata": {},
   "source": [
    "### 6. histplot"
   ]
  },
  {
   "cell_type": "code",
   "execution_count": 29,
   "metadata": {},
   "outputs": [
    {
     "data": {
      "application/vnd.plotly.v1+json": {
       "config": {
        "linkText": "Export to plot.ly",
        "plotlyServerURL": "https://plot.ly",
        "showLink": true
       },
       "data": [
        {
         "histfunc": "count",
         "histnorm": "",
         "marker": {
          "color": "rgba(255, 153, 51, 1.0)",
          "line": {
           "color": "#4D5663",
           "width": 1.3
          }
         },
         "name": "A",
         "opacity": 0.8,
         "orientation": "v",
         "type": "histogram",
         "x": [
          2.069081317248437,
          -1.9586988201017066,
          0.31687259557075065,
          0.3163933211791377,
          -0.16623943248273207,
          1.5497820365156982,
          -1.7297768914284835,
          0.5697825774153621,
          -0.7032361365794662,
          -0.8268251660691491,
          1.2467171956322265,
          -1.0757476486572177,
          -0.165999174967776,
          0.42843672539742184,
          -0.25675899385138395,
          0.22587079145601774,
          1.9166425271506045,
          -0.640237220836307,
          -0.6861772522003287,
          -0.5586527440178088,
          -2.5054824095350603,
          0.4409074736412183,
          -1.9900902601521533,
          -0.5210386202937979,
          -0.5080735923466261,
          -0.7618302051217163,
          0.8385206587443153,
          1.4112551979094434,
          -0.35899178289305833,
          -0.7583551270205274,
          0.1801450370472393,
          -1.668881029521964,
          -0.7631515357140278,
          -0.6703114133478807,
          -1.4410620768665687,
          0.8743716919027011,
          1.3712437328971603,
          1.8015066568239602,
          -1.3793914176363382,
          -0.310781082112185,
          0.21539737058955025,
          0.26100127321811867,
          -0.5720033350321432,
          2.132914188699778,
          -1.6315266835701523,
          0.6116058285290135,
          -1.375542976417157,
          0.5516327908947728,
          -0.8291435228557643,
          -0.10741096952517305,
          0.466848431170696,
          0.8433508517657493,
          0.11636175879694592,
          0.5598366538046764,
          0.24914272694522172,
          -0.06884643442780915,
          -0.4084858316707387,
          -1.4051726071742447,
          -0.30645623254003573,
          1.7389939017633762,
          -1.069248683755255,
          1.6834497814923641,
          1.346355028489932,
          -0.6762454051862051,
          0.9031060789060906,
          1.1356794877473801,
          -0.40881973318811055,
          0.7063794517678516,
          -0.4152686536633678,
          -0.996637064263391,
          -0.05603719295495405,
          0.3267743031922197,
          -0.7097067062730879,
          0.4433270622616412,
          0.379617908590977,
          -0.43494427079199754,
          1.7809685905508235,
          1.6966147780256329,
          1.4906595522423403,
          0.4809146675204936,
          -1.3864972445511055,
          -0.6595869670593304,
          -0.5506363437289727,
          0.5980724890985413,
          -1.1521791912703487,
          -0.3175929792191654,
          -1.8718075854411518,
          -0.27684143268620376,
          -1.6259350828226837,
          1.2269730494900373,
          -0.048869330284592144,
          1.5957901102313448,
          -0.040539979809508665,
          1.3204254982305588,
          -0.035534127153365694,
          0.9671163301831622,
          0.5214914391803923,
          0.9508548035963178,
          0.05960270547188383,
          -0.01561286021245415
         ]
        }
       ],
       "layout": {
        "barmode": "overlay",
        "legend": {
         "bgcolor": "#F5F6F9",
         "font": {
          "color": "#4D5663"
         }
        },
        "paper_bgcolor": "#F5F6F9",
        "plot_bgcolor": "#F5F6F9",
        "template": {
         "data": {
          "bar": [
           {
            "error_x": {
             "color": "#2a3f5f"
            },
            "error_y": {
             "color": "#2a3f5f"
            },
            "marker": {
             "line": {
              "color": "#E5ECF6",
              "width": 0.5
             }
            },
            "type": "bar"
           }
          ],
          "barpolar": [
           {
            "marker": {
             "line": {
              "color": "#E5ECF6",
              "width": 0.5
             }
            },
            "type": "barpolar"
           }
          ],
          "carpet": [
           {
            "aaxis": {
             "endlinecolor": "#2a3f5f",
             "gridcolor": "white",
             "linecolor": "white",
             "minorgridcolor": "white",
             "startlinecolor": "#2a3f5f"
            },
            "baxis": {
             "endlinecolor": "#2a3f5f",
             "gridcolor": "white",
             "linecolor": "white",
             "minorgridcolor": "white",
             "startlinecolor": "#2a3f5f"
            },
            "type": "carpet"
           }
          ],
          "choropleth": [
           {
            "colorbar": {
             "outlinewidth": 0,
             "ticks": ""
            },
            "type": "choropleth"
           }
          ],
          "contour": [
           {
            "colorbar": {
             "outlinewidth": 0,
             "ticks": ""
            },
            "colorscale": [
             [
              0,
              "#0d0887"
             ],
             [
              0.1111111111111111,
              "#46039f"
             ],
             [
              0.2222222222222222,
              "#7201a8"
             ],
             [
              0.3333333333333333,
              "#9c179e"
             ],
             [
              0.4444444444444444,
              "#bd3786"
             ],
             [
              0.5555555555555556,
              "#d8576b"
             ],
             [
              0.6666666666666666,
              "#ed7953"
             ],
             [
              0.7777777777777778,
              "#fb9f3a"
             ],
             [
              0.8888888888888888,
              "#fdca26"
             ],
             [
              1,
              "#f0f921"
             ]
            ],
            "type": "contour"
           }
          ],
          "contourcarpet": [
           {
            "colorbar": {
             "outlinewidth": 0,
             "ticks": ""
            },
            "type": "contourcarpet"
           }
          ],
          "heatmap": [
           {
            "colorbar": {
             "outlinewidth": 0,
             "ticks": ""
            },
            "colorscale": [
             [
              0,
              "#0d0887"
             ],
             [
              0.1111111111111111,
              "#46039f"
             ],
             [
              0.2222222222222222,
              "#7201a8"
             ],
             [
              0.3333333333333333,
              "#9c179e"
             ],
             [
              0.4444444444444444,
              "#bd3786"
             ],
             [
              0.5555555555555556,
              "#d8576b"
             ],
             [
              0.6666666666666666,
              "#ed7953"
             ],
             [
              0.7777777777777778,
              "#fb9f3a"
             ],
             [
              0.8888888888888888,
              "#fdca26"
             ],
             [
              1,
              "#f0f921"
             ]
            ],
            "type": "heatmap"
           }
          ],
          "heatmapgl": [
           {
            "colorbar": {
             "outlinewidth": 0,
             "ticks": ""
            },
            "colorscale": [
             [
              0,
              "#0d0887"
             ],
             [
              0.1111111111111111,
              "#46039f"
             ],
             [
              0.2222222222222222,
              "#7201a8"
             ],
             [
              0.3333333333333333,
              "#9c179e"
             ],
             [
              0.4444444444444444,
              "#bd3786"
             ],
             [
              0.5555555555555556,
              "#d8576b"
             ],
             [
              0.6666666666666666,
              "#ed7953"
             ],
             [
              0.7777777777777778,
              "#fb9f3a"
             ],
             [
              0.8888888888888888,
              "#fdca26"
             ],
             [
              1,
              "#f0f921"
             ]
            ],
            "type": "heatmapgl"
           }
          ],
          "histogram": [
           {
            "marker": {
             "colorbar": {
              "outlinewidth": 0,
              "ticks": ""
             }
            },
            "type": "histogram"
           }
          ],
          "histogram2d": [
           {
            "colorbar": {
             "outlinewidth": 0,
             "ticks": ""
            },
            "colorscale": [
             [
              0,
              "#0d0887"
             ],
             [
              0.1111111111111111,
              "#46039f"
             ],
             [
              0.2222222222222222,
              "#7201a8"
             ],
             [
              0.3333333333333333,
              "#9c179e"
             ],
             [
              0.4444444444444444,
              "#bd3786"
             ],
             [
              0.5555555555555556,
              "#d8576b"
             ],
             [
              0.6666666666666666,
              "#ed7953"
             ],
             [
              0.7777777777777778,
              "#fb9f3a"
             ],
             [
              0.8888888888888888,
              "#fdca26"
             ],
             [
              1,
              "#f0f921"
             ]
            ],
            "type": "histogram2d"
           }
          ],
          "histogram2dcontour": [
           {
            "colorbar": {
             "outlinewidth": 0,
             "ticks": ""
            },
            "colorscale": [
             [
              0,
              "#0d0887"
             ],
             [
              0.1111111111111111,
              "#46039f"
             ],
             [
              0.2222222222222222,
              "#7201a8"
             ],
             [
              0.3333333333333333,
              "#9c179e"
             ],
             [
              0.4444444444444444,
              "#bd3786"
             ],
             [
              0.5555555555555556,
              "#d8576b"
             ],
             [
              0.6666666666666666,
              "#ed7953"
             ],
             [
              0.7777777777777778,
              "#fb9f3a"
             ],
             [
              0.8888888888888888,
              "#fdca26"
             ],
             [
              1,
              "#f0f921"
             ]
            ],
            "type": "histogram2dcontour"
           }
          ],
          "mesh3d": [
           {
            "colorbar": {
             "outlinewidth": 0,
             "ticks": ""
            },
            "type": "mesh3d"
           }
          ],
          "parcoords": [
           {
            "line": {
             "colorbar": {
              "outlinewidth": 0,
              "ticks": ""
             }
            },
            "type": "parcoords"
           }
          ],
          "scatter": [
           {
            "marker": {
             "colorbar": {
              "outlinewidth": 0,
              "ticks": ""
             }
            },
            "type": "scatter"
           }
          ],
          "scatter3d": [
           {
            "line": {
             "colorbar": {
              "outlinewidth": 0,
              "ticks": ""
             }
            },
            "marker": {
             "colorbar": {
              "outlinewidth": 0,
              "ticks": ""
             }
            },
            "type": "scatter3d"
           }
          ],
          "scattercarpet": [
           {
            "marker": {
             "colorbar": {
              "outlinewidth": 0,
              "ticks": ""
             }
            },
            "type": "scattercarpet"
           }
          ],
          "scattergeo": [
           {
            "marker": {
             "colorbar": {
              "outlinewidth": 0,
              "ticks": ""
             }
            },
            "type": "scattergeo"
           }
          ],
          "scattergl": [
           {
            "marker": {
             "colorbar": {
              "outlinewidth": 0,
              "ticks": ""
             }
            },
            "type": "scattergl"
           }
          ],
          "scattermapbox": [
           {
            "marker": {
             "colorbar": {
              "outlinewidth": 0,
              "ticks": ""
             }
            },
            "type": "scattermapbox"
           }
          ],
          "scatterpolar": [
           {
            "marker": {
             "colorbar": {
              "outlinewidth": 0,
              "ticks": ""
             }
            },
            "type": "scatterpolar"
           }
          ],
          "scatterpolargl": [
           {
            "marker": {
             "colorbar": {
              "outlinewidth": 0,
              "ticks": ""
             }
            },
            "type": "scatterpolargl"
           }
          ],
          "scatterternary": [
           {
            "marker": {
             "colorbar": {
              "outlinewidth": 0,
              "ticks": ""
             }
            },
            "type": "scatterternary"
           }
          ],
          "surface": [
           {
            "colorbar": {
             "outlinewidth": 0,
             "ticks": ""
            },
            "colorscale": [
             [
              0,
              "#0d0887"
             ],
             [
              0.1111111111111111,
              "#46039f"
             ],
             [
              0.2222222222222222,
              "#7201a8"
             ],
             [
              0.3333333333333333,
              "#9c179e"
             ],
             [
              0.4444444444444444,
              "#bd3786"
             ],
             [
              0.5555555555555556,
              "#d8576b"
             ],
             [
              0.6666666666666666,
              "#ed7953"
             ],
             [
              0.7777777777777778,
              "#fb9f3a"
             ],
             [
              0.8888888888888888,
              "#fdca26"
             ],
             [
              1,
              "#f0f921"
             ]
            ],
            "type": "surface"
           }
          ],
          "table": [
           {
            "cells": {
             "fill": {
              "color": "#EBF0F8"
             },
             "line": {
              "color": "white"
             }
            },
            "header": {
             "fill": {
              "color": "#C8D4E3"
             },
             "line": {
              "color": "white"
             }
            },
            "type": "table"
           }
          ]
         },
         "layout": {
          "annotationdefaults": {
           "arrowcolor": "#2a3f5f",
           "arrowhead": 0,
           "arrowwidth": 1
          },
          "colorscale": {
           "diverging": [
            [
             0,
             "#8e0152"
            ],
            [
             0.1,
             "#c51b7d"
            ],
            [
             0.2,
             "#de77ae"
            ],
            [
             0.3,
             "#f1b6da"
            ],
            [
             0.4,
             "#fde0ef"
            ],
            [
             0.5,
             "#f7f7f7"
            ],
            [
             0.6,
             "#e6f5d0"
            ],
            [
             0.7,
             "#b8e186"
            ],
            [
             0.8,
             "#7fbc41"
            ],
            [
             0.9,
             "#4d9221"
            ],
            [
             1,
             "#276419"
            ]
           ],
           "sequential": [
            [
             0,
             "#0d0887"
            ],
            [
             0.1111111111111111,
             "#46039f"
            ],
            [
             0.2222222222222222,
             "#7201a8"
            ],
            [
             0.3333333333333333,
             "#9c179e"
            ],
            [
             0.4444444444444444,
             "#bd3786"
            ],
            [
             0.5555555555555556,
             "#d8576b"
            ],
            [
             0.6666666666666666,
             "#ed7953"
            ],
            [
             0.7777777777777778,
             "#fb9f3a"
            ],
            [
             0.8888888888888888,
             "#fdca26"
            ],
            [
             1,
             "#f0f921"
            ]
           ],
           "sequentialminus": [
            [
             0,
             "#0d0887"
            ],
            [
             0.1111111111111111,
             "#46039f"
            ],
            [
             0.2222222222222222,
             "#7201a8"
            ],
            [
             0.3333333333333333,
             "#9c179e"
            ],
            [
             0.4444444444444444,
             "#bd3786"
            ],
            [
             0.5555555555555556,
             "#d8576b"
            ],
            [
             0.6666666666666666,
             "#ed7953"
            ],
            [
             0.7777777777777778,
             "#fb9f3a"
            ],
            [
             0.8888888888888888,
             "#fdca26"
            ],
            [
             1,
             "#f0f921"
            ]
           ]
          },
          "colorway": [
           "#636efa",
           "#EF553B",
           "#00cc96",
           "#ab63fa",
           "#FFA15A",
           "#19d3f3",
           "#FF6692",
           "#B6E880",
           "#FF97FF",
           "#FECB52"
          ],
          "font": {
           "color": "#2a3f5f"
          },
          "geo": {
           "bgcolor": "white",
           "lakecolor": "white",
           "landcolor": "#E5ECF6",
           "showlakes": true,
           "showland": true,
           "subunitcolor": "white"
          },
          "hoverlabel": {
           "align": "left"
          },
          "hovermode": "closest",
          "mapbox": {
           "style": "light"
          },
          "paper_bgcolor": "white",
          "plot_bgcolor": "#E5ECF6",
          "polar": {
           "angularaxis": {
            "gridcolor": "white",
            "linecolor": "white",
            "ticks": ""
           },
           "bgcolor": "#E5ECF6",
           "radialaxis": {
            "gridcolor": "white",
            "linecolor": "white",
            "ticks": ""
           }
          },
          "scene": {
           "xaxis": {
            "backgroundcolor": "#E5ECF6",
            "gridcolor": "white",
            "gridwidth": 2,
            "linecolor": "white",
            "showbackground": true,
            "ticks": "",
            "zerolinecolor": "white"
           },
           "yaxis": {
            "backgroundcolor": "#E5ECF6",
            "gridcolor": "white",
            "gridwidth": 2,
            "linecolor": "white",
            "showbackground": true,
            "ticks": "",
            "zerolinecolor": "white"
           },
           "zaxis": {
            "backgroundcolor": "#E5ECF6",
            "gridcolor": "white",
            "gridwidth": 2,
            "linecolor": "white",
            "showbackground": true,
            "ticks": "",
            "zerolinecolor": "white"
           }
          },
          "shapedefaults": {
           "line": {
            "color": "#2a3f5f"
           }
          },
          "ternary": {
           "aaxis": {
            "gridcolor": "white",
            "linecolor": "white",
            "ticks": ""
           },
           "baxis": {
            "gridcolor": "white",
            "linecolor": "white",
            "ticks": ""
           },
           "bgcolor": "#E5ECF6",
           "caxis": {
            "gridcolor": "white",
            "linecolor": "white",
            "ticks": ""
           }
          },
          "title": {
           "x": 0.05
          },
          "xaxis": {
           "automargin": true,
           "gridcolor": "white",
           "linecolor": "white",
           "ticks": "",
           "zerolinecolor": "white",
           "zerolinewidth": 2
          },
          "yaxis": {
           "automargin": true,
           "gridcolor": "white",
           "linecolor": "white",
           "ticks": "",
           "zerolinecolor": "white",
           "zerolinewidth": 2
          }
         }
        },
        "title": {
         "font": {
          "color": "#4D5663"
         }
        },
        "xaxis": {
         "gridcolor": "#E1E5ED",
         "showgrid": true,
         "tickfont": {
          "color": "#4D5663"
         },
         "title": {
          "font": {
           "color": "#4D5663"
          },
          "text": ""
         },
         "zerolinecolor": "#E1E5ED"
        },
        "yaxis": {
         "gridcolor": "#E1E5ED",
         "showgrid": true,
         "tickfont": {
          "color": "#4D5663"
         },
         "title": {
          "font": {
           "color": "#4D5663"
          },
          "text": ""
         },
         "zerolinecolor": "#E1E5ED"
        }
       }
      },
      "text/html": [
       "<div>\n",
       "        \n",
       "        \n",
       "            <div id=\"e78543f9-530a-4b28-88ec-a8c5ae5e2d74\" class=\"plotly-graph-div\" style=\"height:525px; width:100%;\"></div>\n",
       "            <script type=\"text/javascript\">\n",
       "                require([\"plotly\"], function(Plotly) {\n",
       "                    window.PLOTLYENV=window.PLOTLYENV || {};\n",
       "                    window.PLOTLYENV.BASE_URL='https://plot.ly';\n",
       "                    \n",
       "                if (document.getElementById(\"e78543f9-530a-4b28-88ec-a8c5ae5e2d74\")) {\n",
       "                    Plotly.newPlot(\n",
       "                        'e78543f9-530a-4b28-88ec-a8c5ae5e2d74',\n",
       "                        [{\"histfunc\": \"count\", \"histnorm\": \"\", \"marker\": {\"color\": \"rgba(255, 153, 51, 1.0)\", \"line\": {\"color\": \"#4D5663\", \"width\": 1.3}}, \"name\": \"A\", \"opacity\": 0.8, \"orientation\": \"v\", \"type\": \"histogram\", \"x\": [2.069081317248437, -1.9586988201017066, 0.31687259557075065, 0.3163933211791377, -0.16623943248273207, 1.5497820365156982, -1.7297768914284835, 0.5697825774153621, -0.7032361365794662, -0.8268251660691491, 1.2467171956322265, -1.0757476486572177, -0.165999174967776, 0.42843672539742184, -0.25675899385138395, 0.22587079145601774, 1.9166425271506045, -0.640237220836307, -0.6861772522003287, -0.5586527440178088, -2.5054824095350603, 0.4409074736412183, -1.9900902601521533, -0.5210386202937979, -0.5080735923466261, -0.7618302051217163, 0.8385206587443153, 1.4112551979094434, -0.35899178289305833, -0.7583551270205274, 0.1801450370472393, -1.668881029521964, -0.7631515357140278, -0.6703114133478807, -1.4410620768665687, 0.8743716919027011, 1.3712437328971603, 1.8015066568239602, -1.3793914176363382, -0.310781082112185, 0.21539737058955025, 0.26100127321811867, -0.5720033350321432, 2.132914188699778, -1.6315266835701523, 0.6116058285290135, -1.375542976417157, 0.5516327908947728, -0.8291435228557643, -0.10741096952517305, 0.466848431170696, 0.8433508517657493, 0.11636175879694592, 0.5598366538046764, 0.24914272694522172, -0.06884643442780915, -0.4084858316707387, -1.4051726071742447, -0.30645623254003573, 1.7389939017633762, -1.069248683755255, 1.6834497814923641, 1.346355028489932, -0.6762454051862051, 0.9031060789060906, 1.1356794877473801, -0.40881973318811055, 0.7063794517678516, -0.4152686536633678, -0.996637064263391, -0.05603719295495405, 0.3267743031922197, -0.7097067062730879, 0.4433270622616412, 0.379617908590977, -0.43494427079199754, 1.7809685905508235, 1.6966147780256329, 1.4906595522423403, 0.4809146675204936, -1.3864972445511055, -0.6595869670593304, -0.5506363437289727, 0.5980724890985413, -1.1521791912703487, -0.3175929792191654, -1.8718075854411518, -0.27684143268620376, -1.6259350828226837, 1.2269730494900373, -0.048869330284592144, 1.5957901102313448, -0.040539979809508665, 1.3204254982305588, -0.035534127153365694, 0.9671163301831622, 0.5214914391803923, 0.9508548035963178, 0.05960270547188383, -0.01561286021245415]}],\n",
       "                        {\"barmode\": \"overlay\", \"legend\": {\"bgcolor\": \"#F5F6F9\", \"font\": {\"color\": \"#4D5663\"}}, \"paper_bgcolor\": \"#F5F6F9\", \"plot_bgcolor\": \"#F5F6F9\", \"template\": {\"data\": {\"bar\": [{\"error_x\": {\"color\": \"#2a3f5f\"}, \"error_y\": {\"color\": \"#2a3f5f\"}, \"marker\": {\"line\": {\"color\": \"#E5ECF6\", \"width\": 0.5}}, \"type\": \"bar\"}], \"barpolar\": [{\"marker\": {\"line\": {\"color\": \"#E5ECF6\", \"width\": 0.5}}, \"type\": \"barpolar\"}], \"carpet\": [{\"aaxis\": {\"endlinecolor\": \"#2a3f5f\", \"gridcolor\": \"white\", \"linecolor\": \"white\", \"minorgridcolor\": \"white\", \"startlinecolor\": \"#2a3f5f\"}, \"baxis\": {\"endlinecolor\": \"#2a3f5f\", \"gridcolor\": \"white\", \"linecolor\": \"white\", \"minorgridcolor\": \"white\", \"startlinecolor\": \"#2a3f5f\"}, \"type\": \"carpet\"}], \"choropleth\": [{\"colorbar\": {\"outlinewidth\": 0, \"ticks\": \"\"}, \"type\": \"choropleth\"}], \"contour\": [{\"colorbar\": {\"outlinewidth\": 0, \"ticks\": \"\"}, \"colorscale\": [[0.0, \"#0d0887\"], [0.1111111111111111, \"#46039f\"], [0.2222222222222222, \"#7201a8\"], [0.3333333333333333, \"#9c179e\"], [0.4444444444444444, \"#bd3786\"], [0.5555555555555556, \"#d8576b\"], [0.6666666666666666, \"#ed7953\"], [0.7777777777777778, \"#fb9f3a\"], [0.8888888888888888, \"#fdca26\"], [1.0, \"#f0f921\"]], \"type\": \"contour\"}], \"contourcarpet\": [{\"colorbar\": {\"outlinewidth\": 0, \"ticks\": \"\"}, \"type\": \"contourcarpet\"}], \"heatmap\": [{\"colorbar\": {\"outlinewidth\": 0, \"ticks\": \"\"}, \"colorscale\": [[0.0, \"#0d0887\"], [0.1111111111111111, \"#46039f\"], [0.2222222222222222, \"#7201a8\"], [0.3333333333333333, \"#9c179e\"], [0.4444444444444444, \"#bd3786\"], [0.5555555555555556, \"#d8576b\"], [0.6666666666666666, \"#ed7953\"], [0.7777777777777778, \"#fb9f3a\"], [0.8888888888888888, \"#fdca26\"], [1.0, \"#f0f921\"]], \"type\": \"heatmap\"}], \"heatmapgl\": [{\"colorbar\": {\"outlinewidth\": 0, \"ticks\": \"\"}, \"colorscale\": [[0.0, \"#0d0887\"], [0.1111111111111111, \"#46039f\"], [0.2222222222222222, \"#7201a8\"], [0.3333333333333333, \"#9c179e\"], [0.4444444444444444, \"#bd3786\"], [0.5555555555555556, \"#d8576b\"], [0.6666666666666666, \"#ed7953\"], [0.7777777777777778, \"#fb9f3a\"], [0.8888888888888888, \"#fdca26\"], [1.0, \"#f0f921\"]], \"type\": \"heatmapgl\"}], \"histogram\": [{\"marker\": {\"colorbar\": {\"outlinewidth\": 0, \"ticks\": \"\"}}, \"type\": \"histogram\"}], \"histogram2d\": [{\"colorbar\": {\"outlinewidth\": 0, \"ticks\": \"\"}, \"colorscale\": [[0.0, \"#0d0887\"], [0.1111111111111111, \"#46039f\"], [0.2222222222222222, \"#7201a8\"], [0.3333333333333333, \"#9c179e\"], [0.4444444444444444, \"#bd3786\"], [0.5555555555555556, \"#d8576b\"], [0.6666666666666666, \"#ed7953\"], [0.7777777777777778, \"#fb9f3a\"], [0.8888888888888888, \"#fdca26\"], [1.0, \"#f0f921\"]], \"type\": \"histogram2d\"}], \"histogram2dcontour\": [{\"colorbar\": {\"outlinewidth\": 0, \"ticks\": \"\"}, \"colorscale\": [[0.0, \"#0d0887\"], [0.1111111111111111, \"#46039f\"], [0.2222222222222222, \"#7201a8\"], [0.3333333333333333, \"#9c179e\"], [0.4444444444444444, \"#bd3786\"], [0.5555555555555556, \"#d8576b\"], [0.6666666666666666, \"#ed7953\"], [0.7777777777777778, \"#fb9f3a\"], [0.8888888888888888, \"#fdca26\"], [1.0, \"#f0f921\"]], \"type\": \"histogram2dcontour\"}], \"mesh3d\": [{\"colorbar\": {\"outlinewidth\": 0, \"ticks\": \"\"}, \"type\": \"mesh3d\"}], \"parcoords\": [{\"line\": {\"colorbar\": {\"outlinewidth\": 0, \"ticks\": \"\"}}, \"type\": \"parcoords\"}], \"scatter\": [{\"marker\": {\"colorbar\": {\"outlinewidth\": 0, \"ticks\": \"\"}}, \"type\": \"scatter\"}], \"scatter3d\": [{\"line\": {\"colorbar\": {\"outlinewidth\": 0, \"ticks\": \"\"}}, \"marker\": {\"colorbar\": {\"outlinewidth\": 0, \"ticks\": \"\"}}, \"type\": \"scatter3d\"}], \"scattercarpet\": [{\"marker\": {\"colorbar\": {\"outlinewidth\": 0, \"ticks\": \"\"}}, \"type\": \"scattercarpet\"}], \"scattergeo\": [{\"marker\": {\"colorbar\": {\"outlinewidth\": 0, \"ticks\": \"\"}}, \"type\": \"scattergeo\"}], \"scattergl\": [{\"marker\": {\"colorbar\": {\"outlinewidth\": 0, \"ticks\": \"\"}}, \"type\": \"scattergl\"}], \"scattermapbox\": [{\"marker\": {\"colorbar\": {\"outlinewidth\": 0, \"ticks\": \"\"}}, \"type\": \"scattermapbox\"}], \"scatterpolar\": [{\"marker\": {\"colorbar\": {\"outlinewidth\": 0, \"ticks\": \"\"}}, \"type\": \"scatterpolar\"}], \"scatterpolargl\": [{\"marker\": {\"colorbar\": {\"outlinewidth\": 0, \"ticks\": \"\"}}, \"type\": \"scatterpolargl\"}], \"scatterternary\": [{\"marker\": {\"colorbar\": {\"outlinewidth\": 0, \"ticks\": \"\"}}, \"type\": \"scatterternary\"}], \"surface\": [{\"colorbar\": {\"outlinewidth\": 0, \"ticks\": \"\"}, \"colorscale\": [[0.0, \"#0d0887\"], [0.1111111111111111, \"#46039f\"], [0.2222222222222222, \"#7201a8\"], [0.3333333333333333, \"#9c179e\"], [0.4444444444444444, \"#bd3786\"], [0.5555555555555556, \"#d8576b\"], [0.6666666666666666, \"#ed7953\"], [0.7777777777777778, \"#fb9f3a\"], [0.8888888888888888, \"#fdca26\"], [1.0, \"#f0f921\"]], \"type\": \"surface\"}], \"table\": [{\"cells\": {\"fill\": {\"color\": \"#EBF0F8\"}, \"line\": {\"color\": \"white\"}}, \"header\": {\"fill\": {\"color\": \"#C8D4E3\"}, \"line\": {\"color\": \"white\"}}, \"type\": \"table\"}]}, \"layout\": {\"annotationdefaults\": {\"arrowcolor\": \"#2a3f5f\", \"arrowhead\": 0, \"arrowwidth\": 1}, \"colorscale\": {\"diverging\": [[0, \"#8e0152\"], [0.1, \"#c51b7d\"], [0.2, \"#de77ae\"], [0.3, \"#f1b6da\"], [0.4, \"#fde0ef\"], [0.5, \"#f7f7f7\"], [0.6, \"#e6f5d0\"], [0.7, \"#b8e186\"], [0.8, \"#7fbc41\"], [0.9, \"#4d9221\"], [1, \"#276419\"]], \"sequential\": [[0.0, \"#0d0887\"], [0.1111111111111111, \"#46039f\"], [0.2222222222222222, \"#7201a8\"], [0.3333333333333333, \"#9c179e\"], [0.4444444444444444, \"#bd3786\"], [0.5555555555555556, \"#d8576b\"], [0.6666666666666666, \"#ed7953\"], [0.7777777777777778, \"#fb9f3a\"], [0.8888888888888888, \"#fdca26\"], [1.0, \"#f0f921\"]], \"sequentialminus\": [[0.0, \"#0d0887\"], [0.1111111111111111, \"#46039f\"], [0.2222222222222222, \"#7201a8\"], [0.3333333333333333, \"#9c179e\"], [0.4444444444444444, \"#bd3786\"], [0.5555555555555556, \"#d8576b\"], [0.6666666666666666, \"#ed7953\"], [0.7777777777777778, \"#fb9f3a\"], [0.8888888888888888, \"#fdca26\"], [1.0, \"#f0f921\"]]}, \"colorway\": [\"#636efa\", \"#EF553B\", \"#00cc96\", \"#ab63fa\", \"#FFA15A\", \"#19d3f3\", \"#FF6692\", \"#B6E880\", \"#FF97FF\", \"#FECB52\"], \"font\": {\"color\": \"#2a3f5f\"}, \"geo\": {\"bgcolor\": \"white\", \"lakecolor\": \"white\", \"landcolor\": \"#E5ECF6\", \"showlakes\": true, \"showland\": true, \"subunitcolor\": \"white\"}, \"hoverlabel\": {\"align\": \"left\"}, \"hovermode\": \"closest\", \"mapbox\": {\"style\": \"light\"}, \"paper_bgcolor\": \"white\", \"plot_bgcolor\": \"#E5ECF6\", \"polar\": {\"angularaxis\": {\"gridcolor\": \"white\", \"linecolor\": \"white\", \"ticks\": \"\"}, \"bgcolor\": \"#E5ECF6\", \"radialaxis\": {\"gridcolor\": \"white\", \"linecolor\": \"white\", \"ticks\": \"\"}}, \"scene\": {\"xaxis\": {\"backgroundcolor\": \"#E5ECF6\", \"gridcolor\": \"white\", \"gridwidth\": 2, \"linecolor\": \"white\", \"showbackground\": true, \"ticks\": \"\", \"zerolinecolor\": \"white\"}, \"yaxis\": {\"backgroundcolor\": \"#E5ECF6\", \"gridcolor\": \"white\", \"gridwidth\": 2, \"linecolor\": \"white\", \"showbackground\": true, \"ticks\": \"\", \"zerolinecolor\": \"white\"}, \"zaxis\": {\"backgroundcolor\": \"#E5ECF6\", \"gridcolor\": \"white\", \"gridwidth\": 2, \"linecolor\": \"white\", \"showbackground\": true, \"ticks\": \"\", \"zerolinecolor\": \"white\"}}, \"shapedefaults\": {\"line\": {\"color\": \"#2a3f5f\"}}, \"ternary\": {\"aaxis\": {\"gridcolor\": \"white\", \"linecolor\": \"white\", \"ticks\": \"\"}, \"baxis\": {\"gridcolor\": \"white\", \"linecolor\": \"white\", \"ticks\": \"\"}, \"bgcolor\": \"#E5ECF6\", \"caxis\": {\"gridcolor\": \"white\", \"linecolor\": \"white\", \"ticks\": \"\"}}, \"title\": {\"x\": 0.05}, \"xaxis\": {\"automargin\": true, \"gridcolor\": \"white\", \"linecolor\": \"white\", \"ticks\": \"\", \"zerolinecolor\": \"white\", \"zerolinewidth\": 2}, \"yaxis\": {\"automargin\": true, \"gridcolor\": \"white\", \"linecolor\": \"white\", \"ticks\": \"\", \"zerolinecolor\": \"white\", \"zerolinewidth\": 2}}}, \"title\": {\"font\": {\"color\": \"#4D5663\"}}, \"xaxis\": {\"gridcolor\": \"#E1E5ED\", \"showgrid\": true, \"tickfont\": {\"color\": \"#4D5663\"}, \"title\": {\"font\": {\"color\": \"#4D5663\"}, \"text\": \"\"}, \"zerolinecolor\": \"#E1E5ED\"}, \"yaxis\": {\"gridcolor\": \"#E1E5ED\", \"showgrid\": true, \"tickfont\": {\"color\": \"#4D5663\"}, \"title\": {\"font\": {\"color\": \"#4D5663\"}, \"text\": \"\"}, \"zerolinecolor\": \"#E1E5ED\"}},\n",
       "                        {\"showLink\": true, \"linkText\": \"Export to plot.ly\", \"plotlyServerURL\": \"https://plot.ly\", \"responsive\": true}\n",
       "                    ).then(function(){\n",
       "                            \n",
       "var gd = document.getElementById('e78543f9-530a-4b28-88ec-a8c5ae5e2d74');\n",
       "var x = new MutationObserver(function (mutations, observer) {{\n",
       "        var display = window.getComputedStyle(gd).display;\n",
       "        if (!display || display === 'none') {{\n",
       "            console.log([gd, 'removed!']);\n",
       "            Plotly.purge(gd);\n",
       "            observer.disconnect();\n",
       "        }}\n",
       "}});\n",
       "\n",
       "// Listen for the removal of the full notebook cells\n",
       "var notebookContainer = gd.closest('#notebook-container');\n",
       "if (notebookContainer) {{\n",
       "    x.observe(notebookContainer, {childList: true});\n",
       "}}\n",
       "\n",
       "// Listen for the clearing of the current output cell\n",
       "var outputEl = gd.closest('.output');\n",
       "if (outputEl) {{\n",
       "    x.observe(outputEl, {childList: true});\n",
       "}}\n",
       "\n",
       "                        })\n",
       "                };\n",
       "                });\n",
       "            </script>\n",
       "        </div>"
      ]
     },
     "metadata": {},
     "output_type": "display_data"
    }
   ],
   "source": [
    "# can specify the column \n",
    "\n",
    "df['A'].iplot(kind = 'hist')"
   ]
  },
  {
   "cell_type": "code",
   "execution_count": 30,
   "metadata": {},
   "outputs": [
    {
     "data": {
      "application/vnd.plotly.v1+json": {
       "config": {
        "linkText": "Export to plot.ly",
        "plotlyServerURL": "https://plot.ly",
        "showLink": true
       },
       "data": [
        {
         "histfunc": "count",
         "histnorm": "",
         "marker": {
          "color": "rgba(255, 153, 51, 1.0)",
          "line": {
           "color": "#4D5663",
           "width": 1.3
          }
         },
         "name": "A",
         "nbinsx": 50,
         "opacity": 0.8,
         "orientation": "v",
         "type": "histogram",
         "x": [
          2.069081317248437,
          -1.9586988201017066,
          0.31687259557075065,
          0.3163933211791377,
          -0.16623943248273207,
          1.5497820365156982,
          -1.7297768914284835,
          0.5697825774153621,
          -0.7032361365794662,
          -0.8268251660691491,
          1.2467171956322265,
          -1.0757476486572177,
          -0.165999174967776,
          0.42843672539742184,
          -0.25675899385138395,
          0.22587079145601774,
          1.9166425271506045,
          -0.640237220836307,
          -0.6861772522003287,
          -0.5586527440178088,
          -2.5054824095350603,
          0.4409074736412183,
          -1.9900902601521533,
          -0.5210386202937979,
          -0.5080735923466261,
          -0.7618302051217163,
          0.8385206587443153,
          1.4112551979094434,
          -0.35899178289305833,
          -0.7583551270205274,
          0.1801450370472393,
          -1.668881029521964,
          -0.7631515357140278,
          -0.6703114133478807,
          -1.4410620768665687,
          0.8743716919027011,
          1.3712437328971603,
          1.8015066568239602,
          -1.3793914176363382,
          -0.310781082112185,
          0.21539737058955025,
          0.26100127321811867,
          -0.5720033350321432,
          2.132914188699778,
          -1.6315266835701523,
          0.6116058285290135,
          -1.375542976417157,
          0.5516327908947728,
          -0.8291435228557643,
          -0.10741096952517305,
          0.466848431170696,
          0.8433508517657493,
          0.11636175879694592,
          0.5598366538046764,
          0.24914272694522172,
          -0.06884643442780915,
          -0.4084858316707387,
          -1.4051726071742447,
          -0.30645623254003573,
          1.7389939017633762,
          -1.069248683755255,
          1.6834497814923641,
          1.346355028489932,
          -0.6762454051862051,
          0.9031060789060906,
          1.1356794877473801,
          -0.40881973318811055,
          0.7063794517678516,
          -0.4152686536633678,
          -0.996637064263391,
          -0.05603719295495405,
          0.3267743031922197,
          -0.7097067062730879,
          0.4433270622616412,
          0.379617908590977,
          -0.43494427079199754,
          1.7809685905508235,
          1.6966147780256329,
          1.4906595522423403,
          0.4809146675204936,
          -1.3864972445511055,
          -0.6595869670593304,
          -0.5506363437289727,
          0.5980724890985413,
          -1.1521791912703487,
          -0.3175929792191654,
          -1.8718075854411518,
          -0.27684143268620376,
          -1.6259350828226837,
          1.2269730494900373,
          -0.048869330284592144,
          1.5957901102313448,
          -0.040539979809508665,
          1.3204254982305588,
          -0.035534127153365694,
          0.9671163301831622,
          0.5214914391803923,
          0.9508548035963178,
          0.05960270547188383,
          -0.01561286021245415
         ]
        }
       ],
       "layout": {
        "barmode": "overlay",
        "legend": {
         "bgcolor": "#F5F6F9",
         "font": {
          "color": "#4D5663"
         }
        },
        "paper_bgcolor": "#F5F6F9",
        "plot_bgcolor": "#F5F6F9",
        "template": {
         "data": {
          "bar": [
           {
            "error_x": {
             "color": "#2a3f5f"
            },
            "error_y": {
             "color": "#2a3f5f"
            },
            "marker": {
             "line": {
              "color": "#E5ECF6",
              "width": 0.5
             }
            },
            "type": "bar"
           }
          ],
          "barpolar": [
           {
            "marker": {
             "line": {
              "color": "#E5ECF6",
              "width": 0.5
             }
            },
            "type": "barpolar"
           }
          ],
          "carpet": [
           {
            "aaxis": {
             "endlinecolor": "#2a3f5f",
             "gridcolor": "white",
             "linecolor": "white",
             "minorgridcolor": "white",
             "startlinecolor": "#2a3f5f"
            },
            "baxis": {
             "endlinecolor": "#2a3f5f",
             "gridcolor": "white",
             "linecolor": "white",
             "minorgridcolor": "white",
             "startlinecolor": "#2a3f5f"
            },
            "type": "carpet"
           }
          ],
          "choropleth": [
           {
            "colorbar": {
             "outlinewidth": 0,
             "ticks": ""
            },
            "type": "choropleth"
           }
          ],
          "contour": [
           {
            "colorbar": {
             "outlinewidth": 0,
             "ticks": ""
            },
            "colorscale": [
             [
              0,
              "#0d0887"
             ],
             [
              0.1111111111111111,
              "#46039f"
             ],
             [
              0.2222222222222222,
              "#7201a8"
             ],
             [
              0.3333333333333333,
              "#9c179e"
             ],
             [
              0.4444444444444444,
              "#bd3786"
             ],
             [
              0.5555555555555556,
              "#d8576b"
             ],
             [
              0.6666666666666666,
              "#ed7953"
             ],
             [
              0.7777777777777778,
              "#fb9f3a"
             ],
             [
              0.8888888888888888,
              "#fdca26"
             ],
             [
              1,
              "#f0f921"
             ]
            ],
            "type": "contour"
           }
          ],
          "contourcarpet": [
           {
            "colorbar": {
             "outlinewidth": 0,
             "ticks": ""
            },
            "type": "contourcarpet"
           }
          ],
          "heatmap": [
           {
            "colorbar": {
             "outlinewidth": 0,
             "ticks": ""
            },
            "colorscale": [
             [
              0,
              "#0d0887"
             ],
             [
              0.1111111111111111,
              "#46039f"
             ],
             [
              0.2222222222222222,
              "#7201a8"
             ],
             [
              0.3333333333333333,
              "#9c179e"
             ],
             [
              0.4444444444444444,
              "#bd3786"
             ],
             [
              0.5555555555555556,
              "#d8576b"
             ],
             [
              0.6666666666666666,
              "#ed7953"
             ],
             [
              0.7777777777777778,
              "#fb9f3a"
             ],
             [
              0.8888888888888888,
              "#fdca26"
             ],
             [
              1,
              "#f0f921"
             ]
            ],
            "type": "heatmap"
           }
          ],
          "heatmapgl": [
           {
            "colorbar": {
             "outlinewidth": 0,
             "ticks": ""
            },
            "colorscale": [
             [
              0,
              "#0d0887"
             ],
             [
              0.1111111111111111,
              "#46039f"
             ],
             [
              0.2222222222222222,
              "#7201a8"
             ],
             [
              0.3333333333333333,
              "#9c179e"
             ],
             [
              0.4444444444444444,
              "#bd3786"
             ],
             [
              0.5555555555555556,
              "#d8576b"
             ],
             [
              0.6666666666666666,
              "#ed7953"
             ],
             [
              0.7777777777777778,
              "#fb9f3a"
             ],
             [
              0.8888888888888888,
              "#fdca26"
             ],
             [
              1,
              "#f0f921"
             ]
            ],
            "type": "heatmapgl"
           }
          ],
          "histogram": [
           {
            "marker": {
             "colorbar": {
              "outlinewidth": 0,
              "ticks": ""
             }
            },
            "type": "histogram"
           }
          ],
          "histogram2d": [
           {
            "colorbar": {
             "outlinewidth": 0,
             "ticks": ""
            },
            "colorscale": [
             [
              0,
              "#0d0887"
             ],
             [
              0.1111111111111111,
              "#46039f"
             ],
             [
              0.2222222222222222,
              "#7201a8"
             ],
             [
              0.3333333333333333,
              "#9c179e"
             ],
             [
              0.4444444444444444,
              "#bd3786"
             ],
             [
              0.5555555555555556,
              "#d8576b"
             ],
             [
              0.6666666666666666,
              "#ed7953"
             ],
             [
              0.7777777777777778,
              "#fb9f3a"
             ],
             [
              0.8888888888888888,
              "#fdca26"
             ],
             [
              1,
              "#f0f921"
             ]
            ],
            "type": "histogram2d"
           }
          ],
          "histogram2dcontour": [
           {
            "colorbar": {
             "outlinewidth": 0,
             "ticks": ""
            },
            "colorscale": [
             [
              0,
              "#0d0887"
             ],
             [
              0.1111111111111111,
              "#46039f"
             ],
             [
              0.2222222222222222,
              "#7201a8"
             ],
             [
              0.3333333333333333,
              "#9c179e"
             ],
             [
              0.4444444444444444,
              "#bd3786"
             ],
             [
              0.5555555555555556,
              "#d8576b"
             ],
             [
              0.6666666666666666,
              "#ed7953"
             ],
             [
              0.7777777777777778,
              "#fb9f3a"
             ],
             [
              0.8888888888888888,
              "#fdca26"
             ],
             [
              1,
              "#f0f921"
             ]
            ],
            "type": "histogram2dcontour"
           }
          ],
          "mesh3d": [
           {
            "colorbar": {
             "outlinewidth": 0,
             "ticks": ""
            },
            "type": "mesh3d"
           }
          ],
          "parcoords": [
           {
            "line": {
             "colorbar": {
              "outlinewidth": 0,
              "ticks": ""
             }
            },
            "type": "parcoords"
           }
          ],
          "scatter": [
           {
            "marker": {
             "colorbar": {
              "outlinewidth": 0,
              "ticks": ""
             }
            },
            "type": "scatter"
           }
          ],
          "scatter3d": [
           {
            "line": {
             "colorbar": {
              "outlinewidth": 0,
              "ticks": ""
             }
            },
            "marker": {
             "colorbar": {
              "outlinewidth": 0,
              "ticks": ""
             }
            },
            "type": "scatter3d"
           }
          ],
          "scattercarpet": [
           {
            "marker": {
             "colorbar": {
              "outlinewidth": 0,
              "ticks": ""
             }
            },
            "type": "scattercarpet"
           }
          ],
          "scattergeo": [
           {
            "marker": {
             "colorbar": {
              "outlinewidth": 0,
              "ticks": ""
             }
            },
            "type": "scattergeo"
           }
          ],
          "scattergl": [
           {
            "marker": {
             "colorbar": {
              "outlinewidth": 0,
              "ticks": ""
             }
            },
            "type": "scattergl"
           }
          ],
          "scattermapbox": [
           {
            "marker": {
             "colorbar": {
              "outlinewidth": 0,
              "ticks": ""
             }
            },
            "type": "scattermapbox"
           }
          ],
          "scatterpolar": [
           {
            "marker": {
             "colorbar": {
              "outlinewidth": 0,
              "ticks": ""
             }
            },
            "type": "scatterpolar"
           }
          ],
          "scatterpolargl": [
           {
            "marker": {
             "colorbar": {
              "outlinewidth": 0,
              "ticks": ""
             }
            },
            "type": "scatterpolargl"
           }
          ],
          "scatterternary": [
           {
            "marker": {
             "colorbar": {
              "outlinewidth": 0,
              "ticks": ""
             }
            },
            "type": "scatterternary"
           }
          ],
          "surface": [
           {
            "colorbar": {
             "outlinewidth": 0,
             "ticks": ""
            },
            "colorscale": [
             [
              0,
              "#0d0887"
             ],
             [
              0.1111111111111111,
              "#46039f"
             ],
             [
              0.2222222222222222,
              "#7201a8"
             ],
             [
              0.3333333333333333,
              "#9c179e"
             ],
             [
              0.4444444444444444,
              "#bd3786"
             ],
             [
              0.5555555555555556,
              "#d8576b"
             ],
             [
              0.6666666666666666,
              "#ed7953"
             ],
             [
              0.7777777777777778,
              "#fb9f3a"
             ],
             [
              0.8888888888888888,
              "#fdca26"
             ],
             [
              1,
              "#f0f921"
             ]
            ],
            "type": "surface"
           }
          ],
          "table": [
           {
            "cells": {
             "fill": {
              "color": "#EBF0F8"
             },
             "line": {
              "color": "white"
             }
            },
            "header": {
             "fill": {
              "color": "#C8D4E3"
             },
             "line": {
              "color": "white"
             }
            },
            "type": "table"
           }
          ]
         },
         "layout": {
          "annotationdefaults": {
           "arrowcolor": "#2a3f5f",
           "arrowhead": 0,
           "arrowwidth": 1
          },
          "colorscale": {
           "diverging": [
            [
             0,
             "#8e0152"
            ],
            [
             0.1,
             "#c51b7d"
            ],
            [
             0.2,
             "#de77ae"
            ],
            [
             0.3,
             "#f1b6da"
            ],
            [
             0.4,
             "#fde0ef"
            ],
            [
             0.5,
             "#f7f7f7"
            ],
            [
             0.6,
             "#e6f5d0"
            ],
            [
             0.7,
             "#b8e186"
            ],
            [
             0.8,
             "#7fbc41"
            ],
            [
             0.9,
             "#4d9221"
            ],
            [
             1,
             "#276419"
            ]
           ],
           "sequential": [
            [
             0,
             "#0d0887"
            ],
            [
             0.1111111111111111,
             "#46039f"
            ],
            [
             0.2222222222222222,
             "#7201a8"
            ],
            [
             0.3333333333333333,
             "#9c179e"
            ],
            [
             0.4444444444444444,
             "#bd3786"
            ],
            [
             0.5555555555555556,
             "#d8576b"
            ],
            [
             0.6666666666666666,
             "#ed7953"
            ],
            [
             0.7777777777777778,
             "#fb9f3a"
            ],
            [
             0.8888888888888888,
             "#fdca26"
            ],
            [
             1,
             "#f0f921"
            ]
           ],
           "sequentialminus": [
            [
             0,
             "#0d0887"
            ],
            [
             0.1111111111111111,
             "#46039f"
            ],
            [
             0.2222222222222222,
             "#7201a8"
            ],
            [
             0.3333333333333333,
             "#9c179e"
            ],
            [
             0.4444444444444444,
             "#bd3786"
            ],
            [
             0.5555555555555556,
             "#d8576b"
            ],
            [
             0.6666666666666666,
             "#ed7953"
            ],
            [
             0.7777777777777778,
             "#fb9f3a"
            ],
            [
             0.8888888888888888,
             "#fdca26"
            ],
            [
             1,
             "#f0f921"
            ]
           ]
          },
          "colorway": [
           "#636efa",
           "#EF553B",
           "#00cc96",
           "#ab63fa",
           "#FFA15A",
           "#19d3f3",
           "#FF6692",
           "#B6E880",
           "#FF97FF",
           "#FECB52"
          ],
          "font": {
           "color": "#2a3f5f"
          },
          "geo": {
           "bgcolor": "white",
           "lakecolor": "white",
           "landcolor": "#E5ECF6",
           "showlakes": true,
           "showland": true,
           "subunitcolor": "white"
          },
          "hoverlabel": {
           "align": "left"
          },
          "hovermode": "closest",
          "mapbox": {
           "style": "light"
          },
          "paper_bgcolor": "white",
          "plot_bgcolor": "#E5ECF6",
          "polar": {
           "angularaxis": {
            "gridcolor": "white",
            "linecolor": "white",
            "ticks": ""
           },
           "bgcolor": "#E5ECF6",
           "radialaxis": {
            "gridcolor": "white",
            "linecolor": "white",
            "ticks": ""
           }
          },
          "scene": {
           "xaxis": {
            "backgroundcolor": "#E5ECF6",
            "gridcolor": "white",
            "gridwidth": 2,
            "linecolor": "white",
            "showbackground": true,
            "ticks": "",
            "zerolinecolor": "white"
           },
           "yaxis": {
            "backgroundcolor": "#E5ECF6",
            "gridcolor": "white",
            "gridwidth": 2,
            "linecolor": "white",
            "showbackground": true,
            "ticks": "",
            "zerolinecolor": "white"
           },
           "zaxis": {
            "backgroundcolor": "#E5ECF6",
            "gridcolor": "white",
            "gridwidth": 2,
            "linecolor": "white",
            "showbackground": true,
            "ticks": "",
            "zerolinecolor": "white"
           }
          },
          "shapedefaults": {
           "line": {
            "color": "#2a3f5f"
           }
          },
          "ternary": {
           "aaxis": {
            "gridcolor": "white",
            "linecolor": "white",
            "ticks": ""
           },
           "baxis": {
            "gridcolor": "white",
            "linecolor": "white",
            "ticks": ""
           },
           "bgcolor": "#E5ECF6",
           "caxis": {
            "gridcolor": "white",
            "linecolor": "white",
            "ticks": ""
           }
          },
          "title": {
           "x": 0.05
          },
          "xaxis": {
           "automargin": true,
           "gridcolor": "white",
           "linecolor": "white",
           "ticks": "",
           "zerolinecolor": "white",
           "zerolinewidth": 2
          },
          "yaxis": {
           "automargin": true,
           "gridcolor": "white",
           "linecolor": "white",
           "ticks": "",
           "zerolinecolor": "white",
           "zerolinewidth": 2
          }
         }
        },
        "title": {
         "font": {
          "color": "#4D5663"
         }
        },
        "xaxis": {
         "gridcolor": "#E1E5ED",
         "showgrid": true,
         "tickfont": {
          "color": "#4D5663"
         },
         "title": {
          "font": {
           "color": "#4D5663"
          },
          "text": ""
         },
         "zerolinecolor": "#E1E5ED"
        },
        "yaxis": {
         "gridcolor": "#E1E5ED",
         "showgrid": true,
         "tickfont": {
          "color": "#4D5663"
         },
         "title": {
          "font": {
           "color": "#4D5663"
          },
          "text": ""
         },
         "zerolinecolor": "#E1E5ED"
        }
       }
      },
      "text/html": [
       "<div>\n",
       "        \n",
       "        \n",
       "            <div id=\"9140a9b2-241a-4505-bfec-d201bb75925e\" class=\"plotly-graph-div\" style=\"height:525px; width:100%;\"></div>\n",
       "            <script type=\"text/javascript\">\n",
       "                require([\"plotly\"], function(Plotly) {\n",
       "                    window.PLOTLYENV=window.PLOTLYENV || {};\n",
       "                    window.PLOTLYENV.BASE_URL='https://plot.ly';\n",
       "                    \n",
       "                if (document.getElementById(\"9140a9b2-241a-4505-bfec-d201bb75925e\")) {\n",
       "                    Plotly.newPlot(\n",
       "                        '9140a9b2-241a-4505-bfec-d201bb75925e',\n",
       "                        [{\"histfunc\": \"count\", \"histnorm\": \"\", \"marker\": {\"color\": \"rgba(255, 153, 51, 1.0)\", \"line\": {\"color\": \"#4D5663\", \"width\": 1.3}}, \"name\": \"A\", \"nbinsx\": 50, \"opacity\": 0.8, \"orientation\": \"v\", \"type\": \"histogram\", \"x\": [2.069081317248437, -1.9586988201017066, 0.31687259557075065, 0.3163933211791377, -0.16623943248273207, 1.5497820365156982, -1.7297768914284835, 0.5697825774153621, -0.7032361365794662, -0.8268251660691491, 1.2467171956322265, -1.0757476486572177, -0.165999174967776, 0.42843672539742184, -0.25675899385138395, 0.22587079145601774, 1.9166425271506045, -0.640237220836307, -0.6861772522003287, -0.5586527440178088, -2.5054824095350603, 0.4409074736412183, -1.9900902601521533, -0.5210386202937979, -0.5080735923466261, -0.7618302051217163, 0.8385206587443153, 1.4112551979094434, -0.35899178289305833, -0.7583551270205274, 0.1801450370472393, -1.668881029521964, -0.7631515357140278, -0.6703114133478807, -1.4410620768665687, 0.8743716919027011, 1.3712437328971603, 1.8015066568239602, -1.3793914176363382, -0.310781082112185, 0.21539737058955025, 0.26100127321811867, -0.5720033350321432, 2.132914188699778, -1.6315266835701523, 0.6116058285290135, -1.375542976417157, 0.5516327908947728, -0.8291435228557643, -0.10741096952517305, 0.466848431170696, 0.8433508517657493, 0.11636175879694592, 0.5598366538046764, 0.24914272694522172, -0.06884643442780915, -0.4084858316707387, -1.4051726071742447, -0.30645623254003573, 1.7389939017633762, -1.069248683755255, 1.6834497814923641, 1.346355028489932, -0.6762454051862051, 0.9031060789060906, 1.1356794877473801, -0.40881973318811055, 0.7063794517678516, -0.4152686536633678, -0.996637064263391, -0.05603719295495405, 0.3267743031922197, -0.7097067062730879, 0.4433270622616412, 0.379617908590977, -0.43494427079199754, 1.7809685905508235, 1.6966147780256329, 1.4906595522423403, 0.4809146675204936, -1.3864972445511055, -0.6595869670593304, -0.5506363437289727, 0.5980724890985413, -1.1521791912703487, -0.3175929792191654, -1.8718075854411518, -0.27684143268620376, -1.6259350828226837, 1.2269730494900373, -0.048869330284592144, 1.5957901102313448, -0.040539979809508665, 1.3204254982305588, -0.035534127153365694, 0.9671163301831622, 0.5214914391803923, 0.9508548035963178, 0.05960270547188383, -0.01561286021245415]}],\n",
       "                        {\"barmode\": \"overlay\", \"legend\": {\"bgcolor\": \"#F5F6F9\", \"font\": {\"color\": \"#4D5663\"}}, \"paper_bgcolor\": \"#F5F6F9\", \"plot_bgcolor\": \"#F5F6F9\", \"template\": {\"data\": {\"bar\": [{\"error_x\": {\"color\": \"#2a3f5f\"}, \"error_y\": {\"color\": \"#2a3f5f\"}, \"marker\": {\"line\": {\"color\": \"#E5ECF6\", \"width\": 0.5}}, \"type\": \"bar\"}], \"barpolar\": [{\"marker\": {\"line\": {\"color\": \"#E5ECF6\", \"width\": 0.5}}, \"type\": \"barpolar\"}], \"carpet\": [{\"aaxis\": {\"endlinecolor\": \"#2a3f5f\", \"gridcolor\": \"white\", \"linecolor\": \"white\", \"minorgridcolor\": \"white\", \"startlinecolor\": \"#2a3f5f\"}, \"baxis\": {\"endlinecolor\": \"#2a3f5f\", \"gridcolor\": \"white\", \"linecolor\": \"white\", \"minorgridcolor\": \"white\", \"startlinecolor\": \"#2a3f5f\"}, \"type\": \"carpet\"}], \"choropleth\": [{\"colorbar\": {\"outlinewidth\": 0, \"ticks\": \"\"}, \"type\": \"choropleth\"}], \"contour\": [{\"colorbar\": {\"outlinewidth\": 0, \"ticks\": \"\"}, \"colorscale\": [[0.0, \"#0d0887\"], [0.1111111111111111, \"#46039f\"], [0.2222222222222222, \"#7201a8\"], [0.3333333333333333, \"#9c179e\"], [0.4444444444444444, \"#bd3786\"], [0.5555555555555556, \"#d8576b\"], [0.6666666666666666, \"#ed7953\"], [0.7777777777777778, \"#fb9f3a\"], [0.8888888888888888, \"#fdca26\"], [1.0, \"#f0f921\"]], \"type\": \"contour\"}], \"contourcarpet\": [{\"colorbar\": {\"outlinewidth\": 0, \"ticks\": \"\"}, \"type\": \"contourcarpet\"}], \"heatmap\": [{\"colorbar\": {\"outlinewidth\": 0, \"ticks\": \"\"}, \"colorscale\": [[0.0, \"#0d0887\"], [0.1111111111111111, \"#46039f\"], [0.2222222222222222, \"#7201a8\"], [0.3333333333333333, \"#9c179e\"], [0.4444444444444444, \"#bd3786\"], [0.5555555555555556, \"#d8576b\"], [0.6666666666666666, \"#ed7953\"], [0.7777777777777778, \"#fb9f3a\"], [0.8888888888888888, \"#fdca26\"], [1.0, \"#f0f921\"]], \"type\": \"heatmap\"}], \"heatmapgl\": [{\"colorbar\": {\"outlinewidth\": 0, \"ticks\": \"\"}, \"colorscale\": [[0.0, \"#0d0887\"], [0.1111111111111111, \"#46039f\"], [0.2222222222222222, \"#7201a8\"], [0.3333333333333333, \"#9c179e\"], [0.4444444444444444, \"#bd3786\"], [0.5555555555555556, \"#d8576b\"], [0.6666666666666666, \"#ed7953\"], [0.7777777777777778, \"#fb9f3a\"], [0.8888888888888888, \"#fdca26\"], [1.0, \"#f0f921\"]], \"type\": \"heatmapgl\"}], \"histogram\": [{\"marker\": {\"colorbar\": {\"outlinewidth\": 0, \"ticks\": \"\"}}, \"type\": \"histogram\"}], \"histogram2d\": [{\"colorbar\": {\"outlinewidth\": 0, \"ticks\": \"\"}, \"colorscale\": [[0.0, \"#0d0887\"], [0.1111111111111111, \"#46039f\"], [0.2222222222222222, \"#7201a8\"], [0.3333333333333333, \"#9c179e\"], [0.4444444444444444, \"#bd3786\"], [0.5555555555555556, \"#d8576b\"], [0.6666666666666666, \"#ed7953\"], [0.7777777777777778, \"#fb9f3a\"], [0.8888888888888888, \"#fdca26\"], [1.0, \"#f0f921\"]], \"type\": \"histogram2d\"}], \"histogram2dcontour\": [{\"colorbar\": {\"outlinewidth\": 0, \"ticks\": \"\"}, \"colorscale\": [[0.0, \"#0d0887\"], [0.1111111111111111, \"#46039f\"], [0.2222222222222222, \"#7201a8\"], [0.3333333333333333, \"#9c179e\"], [0.4444444444444444, \"#bd3786\"], [0.5555555555555556, \"#d8576b\"], [0.6666666666666666, \"#ed7953\"], [0.7777777777777778, \"#fb9f3a\"], [0.8888888888888888, \"#fdca26\"], [1.0, \"#f0f921\"]], \"type\": \"histogram2dcontour\"}], \"mesh3d\": [{\"colorbar\": {\"outlinewidth\": 0, \"ticks\": \"\"}, \"type\": \"mesh3d\"}], \"parcoords\": [{\"line\": {\"colorbar\": {\"outlinewidth\": 0, \"ticks\": \"\"}}, \"type\": \"parcoords\"}], \"scatter\": [{\"marker\": {\"colorbar\": {\"outlinewidth\": 0, \"ticks\": \"\"}}, \"type\": \"scatter\"}], \"scatter3d\": [{\"line\": {\"colorbar\": {\"outlinewidth\": 0, \"ticks\": \"\"}}, \"marker\": {\"colorbar\": {\"outlinewidth\": 0, \"ticks\": \"\"}}, \"type\": \"scatter3d\"}], \"scattercarpet\": [{\"marker\": {\"colorbar\": {\"outlinewidth\": 0, \"ticks\": \"\"}}, \"type\": \"scattercarpet\"}], \"scattergeo\": [{\"marker\": {\"colorbar\": {\"outlinewidth\": 0, \"ticks\": \"\"}}, \"type\": \"scattergeo\"}], \"scattergl\": [{\"marker\": {\"colorbar\": {\"outlinewidth\": 0, \"ticks\": \"\"}}, \"type\": \"scattergl\"}], \"scattermapbox\": [{\"marker\": {\"colorbar\": {\"outlinewidth\": 0, \"ticks\": \"\"}}, \"type\": \"scattermapbox\"}], \"scatterpolar\": [{\"marker\": {\"colorbar\": {\"outlinewidth\": 0, \"ticks\": \"\"}}, \"type\": \"scatterpolar\"}], \"scatterpolargl\": [{\"marker\": {\"colorbar\": {\"outlinewidth\": 0, \"ticks\": \"\"}}, \"type\": \"scatterpolargl\"}], \"scatterternary\": [{\"marker\": {\"colorbar\": {\"outlinewidth\": 0, \"ticks\": \"\"}}, \"type\": \"scatterternary\"}], \"surface\": [{\"colorbar\": {\"outlinewidth\": 0, \"ticks\": \"\"}, \"colorscale\": [[0.0, \"#0d0887\"], [0.1111111111111111, \"#46039f\"], [0.2222222222222222, \"#7201a8\"], [0.3333333333333333, \"#9c179e\"], [0.4444444444444444, \"#bd3786\"], [0.5555555555555556, \"#d8576b\"], [0.6666666666666666, \"#ed7953\"], [0.7777777777777778, \"#fb9f3a\"], [0.8888888888888888, \"#fdca26\"], [1.0, \"#f0f921\"]], \"type\": \"surface\"}], \"table\": [{\"cells\": {\"fill\": {\"color\": \"#EBF0F8\"}, \"line\": {\"color\": \"white\"}}, \"header\": {\"fill\": {\"color\": \"#C8D4E3\"}, \"line\": {\"color\": \"white\"}}, \"type\": \"table\"}]}, \"layout\": {\"annotationdefaults\": {\"arrowcolor\": \"#2a3f5f\", \"arrowhead\": 0, \"arrowwidth\": 1}, \"colorscale\": {\"diverging\": [[0, \"#8e0152\"], [0.1, \"#c51b7d\"], [0.2, \"#de77ae\"], [0.3, \"#f1b6da\"], [0.4, \"#fde0ef\"], [0.5, \"#f7f7f7\"], [0.6, \"#e6f5d0\"], [0.7, \"#b8e186\"], [0.8, \"#7fbc41\"], [0.9, \"#4d9221\"], [1, \"#276419\"]], \"sequential\": [[0.0, \"#0d0887\"], [0.1111111111111111, \"#46039f\"], [0.2222222222222222, \"#7201a8\"], [0.3333333333333333, \"#9c179e\"], [0.4444444444444444, \"#bd3786\"], [0.5555555555555556, \"#d8576b\"], [0.6666666666666666, \"#ed7953\"], [0.7777777777777778, \"#fb9f3a\"], [0.8888888888888888, \"#fdca26\"], [1.0, \"#f0f921\"]], \"sequentialminus\": [[0.0, \"#0d0887\"], [0.1111111111111111, \"#46039f\"], [0.2222222222222222, \"#7201a8\"], [0.3333333333333333, \"#9c179e\"], [0.4444444444444444, \"#bd3786\"], [0.5555555555555556, \"#d8576b\"], [0.6666666666666666, \"#ed7953\"], [0.7777777777777778, \"#fb9f3a\"], [0.8888888888888888, \"#fdca26\"], [1.0, \"#f0f921\"]]}, \"colorway\": [\"#636efa\", \"#EF553B\", \"#00cc96\", \"#ab63fa\", \"#FFA15A\", \"#19d3f3\", \"#FF6692\", \"#B6E880\", \"#FF97FF\", \"#FECB52\"], \"font\": {\"color\": \"#2a3f5f\"}, \"geo\": {\"bgcolor\": \"white\", \"lakecolor\": \"white\", \"landcolor\": \"#E5ECF6\", \"showlakes\": true, \"showland\": true, \"subunitcolor\": \"white\"}, \"hoverlabel\": {\"align\": \"left\"}, \"hovermode\": \"closest\", \"mapbox\": {\"style\": \"light\"}, \"paper_bgcolor\": \"white\", \"plot_bgcolor\": \"#E5ECF6\", \"polar\": {\"angularaxis\": {\"gridcolor\": \"white\", \"linecolor\": \"white\", \"ticks\": \"\"}, \"bgcolor\": \"#E5ECF6\", \"radialaxis\": {\"gridcolor\": \"white\", \"linecolor\": \"white\", \"ticks\": \"\"}}, \"scene\": {\"xaxis\": {\"backgroundcolor\": \"#E5ECF6\", \"gridcolor\": \"white\", \"gridwidth\": 2, \"linecolor\": \"white\", \"showbackground\": true, \"ticks\": \"\", \"zerolinecolor\": \"white\"}, \"yaxis\": {\"backgroundcolor\": \"#E5ECF6\", \"gridcolor\": \"white\", \"gridwidth\": 2, \"linecolor\": \"white\", \"showbackground\": true, \"ticks\": \"\", \"zerolinecolor\": \"white\"}, \"zaxis\": {\"backgroundcolor\": \"#E5ECF6\", \"gridcolor\": \"white\", \"gridwidth\": 2, \"linecolor\": \"white\", \"showbackground\": true, \"ticks\": \"\", \"zerolinecolor\": \"white\"}}, \"shapedefaults\": {\"line\": {\"color\": \"#2a3f5f\"}}, \"ternary\": {\"aaxis\": {\"gridcolor\": \"white\", \"linecolor\": \"white\", \"ticks\": \"\"}, \"baxis\": {\"gridcolor\": \"white\", \"linecolor\": \"white\", \"ticks\": \"\"}, \"bgcolor\": \"#E5ECF6\", \"caxis\": {\"gridcolor\": \"white\", \"linecolor\": \"white\", \"ticks\": \"\"}}, \"title\": {\"x\": 0.05}, \"xaxis\": {\"automargin\": true, \"gridcolor\": \"white\", \"linecolor\": \"white\", \"ticks\": \"\", \"zerolinecolor\": \"white\", \"zerolinewidth\": 2}, \"yaxis\": {\"automargin\": true, \"gridcolor\": \"white\", \"linecolor\": \"white\", \"ticks\": \"\", \"zerolinecolor\": \"white\", \"zerolinewidth\": 2}}}, \"title\": {\"font\": {\"color\": \"#4D5663\"}}, \"xaxis\": {\"gridcolor\": \"#E1E5ED\", \"showgrid\": true, \"tickfont\": {\"color\": \"#4D5663\"}, \"title\": {\"font\": {\"color\": \"#4D5663\"}, \"text\": \"\"}, \"zerolinecolor\": \"#E1E5ED\"}, \"yaxis\": {\"gridcolor\": \"#E1E5ED\", \"showgrid\": true, \"tickfont\": {\"color\": \"#4D5663\"}, \"title\": {\"font\": {\"color\": \"#4D5663\"}, \"text\": \"\"}, \"zerolinecolor\": \"#E1E5ED\"}},\n",
       "                        {\"showLink\": true, \"linkText\": \"Export to plot.ly\", \"plotlyServerURL\": \"https://plot.ly\", \"responsive\": true}\n",
       "                    ).then(function(){\n",
       "                            \n",
       "var gd = document.getElementById('9140a9b2-241a-4505-bfec-d201bb75925e');\n",
       "var x = new MutationObserver(function (mutations, observer) {{\n",
       "        var display = window.getComputedStyle(gd).display;\n",
       "        if (!display || display === 'none') {{\n",
       "            console.log([gd, 'removed!']);\n",
       "            Plotly.purge(gd);\n",
       "            observer.disconnect();\n",
       "        }}\n",
       "}});\n",
       "\n",
       "// Listen for the removal of the full notebook cells\n",
       "var notebookContainer = gd.closest('#notebook-container');\n",
       "if (notebookContainer) {{\n",
       "    x.observe(notebookContainer, {childList: true});\n",
       "}}\n",
       "\n",
       "// Listen for the clearing of the current output cell\n",
       "var outputEl = gd.closest('.output');\n",
       "if (outputEl) {{\n",
       "    x.observe(outputEl, {childList: true});\n",
       "}}\n",
       "\n",
       "                        })\n",
       "                };\n",
       "                });\n",
       "            </script>\n",
       "        </div>"
      ]
     },
     "metadata": {},
     "output_type": "display_data"
    }
   ],
   "source": [
    "df['A'].iplot(kind = 'hist',bins = 50)"
   ]
  },
  {
   "cell_type": "code",
   "execution_count": 31,
   "metadata": {},
   "outputs": [
    {
     "data": {
      "application/vnd.plotly.v1+json": {
       "config": {
        "linkText": "Export to plot.ly",
        "plotlyServerURL": "https://plot.ly",
        "showLink": true
       },
       "data": [
        {
         "histfunc": "count",
         "histnorm": "",
         "marker": {
          "color": "rgba(255, 153, 51, 1.0)",
          "line": {
           "color": "#4D5663",
           "width": 1.3
          }
         },
         "name": "A",
         "opacity": 0.8,
         "orientation": "v",
         "type": "histogram",
         "x": [
          2.069081317248437,
          -1.9586988201017066,
          0.31687259557075065,
          0.3163933211791377,
          -0.16623943248273207,
          1.5497820365156982,
          -1.7297768914284835,
          0.5697825774153621,
          -0.7032361365794662,
          -0.8268251660691491,
          1.2467171956322265,
          -1.0757476486572177,
          -0.165999174967776,
          0.42843672539742184,
          -0.25675899385138395,
          0.22587079145601774,
          1.9166425271506045,
          -0.640237220836307,
          -0.6861772522003287,
          -0.5586527440178088,
          -2.5054824095350603,
          0.4409074736412183,
          -1.9900902601521533,
          -0.5210386202937979,
          -0.5080735923466261,
          -0.7618302051217163,
          0.8385206587443153,
          1.4112551979094434,
          -0.35899178289305833,
          -0.7583551270205274,
          0.1801450370472393,
          -1.668881029521964,
          -0.7631515357140278,
          -0.6703114133478807,
          -1.4410620768665687,
          0.8743716919027011,
          1.3712437328971603,
          1.8015066568239602,
          -1.3793914176363382,
          -0.310781082112185,
          0.21539737058955025,
          0.26100127321811867,
          -0.5720033350321432,
          2.132914188699778,
          -1.6315266835701523,
          0.6116058285290135,
          -1.375542976417157,
          0.5516327908947728,
          -0.8291435228557643,
          -0.10741096952517305,
          0.466848431170696,
          0.8433508517657493,
          0.11636175879694592,
          0.5598366538046764,
          0.24914272694522172,
          -0.06884643442780915,
          -0.4084858316707387,
          -1.4051726071742447,
          -0.30645623254003573,
          1.7389939017633762,
          -1.069248683755255,
          1.6834497814923641,
          1.346355028489932,
          -0.6762454051862051,
          0.9031060789060906,
          1.1356794877473801,
          -0.40881973318811055,
          0.7063794517678516,
          -0.4152686536633678,
          -0.996637064263391,
          -0.05603719295495405,
          0.3267743031922197,
          -0.7097067062730879,
          0.4433270622616412,
          0.379617908590977,
          -0.43494427079199754,
          1.7809685905508235,
          1.6966147780256329,
          1.4906595522423403,
          0.4809146675204936,
          -1.3864972445511055,
          -0.6595869670593304,
          -0.5506363437289727,
          0.5980724890985413,
          -1.1521791912703487,
          -0.3175929792191654,
          -1.8718075854411518,
          -0.27684143268620376,
          -1.6259350828226837,
          1.2269730494900373,
          -0.048869330284592144,
          1.5957901102313448,
          -0.040539979809508665,
          1.3204254982305588,
          -0.035534127153365694,
          0.9671163301831622,
          0.5214914391803923,
          0.9508548035963178,
          0.05960270547188383,
          -0.01561286021245415
         ]
        },
        {
         "histfunc": "count",
         "histnorm": "",
         "marker": {
          "color": "rgba(55, 128, 191, 1.0)",
          "line": {
           "color": "#4D5663",
           "width": 1.3
          }
         },
         "name": "B",
         "opacity": 0.8,
         "orientation": "v",
         "type": "histogram",
         "x": [
          0.5371406102484116,
          -0.7630355998932787,
          -2.4858162864857523,
          1.2592066808607159,
          0.9595436226520081,
          -0.8081156938171563,
          0.9958728377864831,
          -0.04591061914796954,
          0.6904010738181772,
          -0.5511142392207588,
          1.4402893831504124,
          0.35305376609086747,
          0.7972779169691322,
          0.34537746993804025,
          1.31874407327095,
          1.6969578374319672,
          -2.380558289248379,
          -0.42479170062544036,
          0.7611985790453921,
          -1.4523150254476245,
          0.587450547772239,
          0.15513270402904678,
          0.3816171930588017,
          -0.3485622560270526,
          -0.2233077072848466,
          -0.06657166845739156,
          -0.4699219481124245,
          1.2162365035510758,
          -0.08247111159833434,
          -0.26576094186048205,
          0.6287146222239482,
          0.5464995934949134,
          -1.0413503318774242,
          -0.6133269467314942,
          1.7897861110849156,
          -1.4636448182885142,
          -0.6082089722636107,
          -0.18944182747086188,
          1.1535409107981895,
          -0.2610438758985015,
          0.7607204950976051,
          0.8689659293485391,
          -1.0408678834637686,
          -1.8697259764998884,
          0.052957623660512085,
          -0.4752375307599897,
          -0.6894315405633875,
          0.20660004628802267,
          0.41587696940825136,
          0.11794519060016996,
          -0.5483109902790982,
          0.2204585387263463,
          -0.0814497894297341,
          -0.4261861035950627,
          -0.021917182184465037,
          0.35222734994579635,
          -0.24159158765078223,
          -1.245418117537442,
          1.0216068651998909,
          0.2639425680704423,
          0.9241230815489991,
          1.0987810469821897,
          -1.2581918632792053,
          -0.3047137245763503,
          0.60914107898099,
          -0.9152188042552775,
          -0.26765853410307033,
          -2.0075144589553195,
          0.8147844678127948,
          -0.13131685638323615,
          -1.311225180991742,
          -0.04852659651473337,
          -1.218931042803003,
          -1.024830966258147,
          0.12385012282058273,
          -0.20982791576190235,
          -0.24678271085565104,
          0.5154062122960229,
          0.1544833714506777,
          -0.41404378573783396,
          -1.2860894727014949,
          -1.437949062500608,
          2.4274363130615795,
          -0.4573332199984909,
          0.7826881088936185,
          -0.10934943159905164,
          -0.5949196074311865,
          0.03144939194326923,
          1.524309150436032,
          -0.23392802647924565,
          0.5361360451160111,
          -0.7495155351889765,
          -0.18096629842077092,
          1.558544319601368,
          1.7517499105114092,
          -0.39371248209055115,
          0.345362285426185,
          -0.7860338813922241,
          1.900836644872969,
          -0.6373552719220384
         ]
        },
        {
         "histfunc": "count",
         "histnorm": "",
         "marker": {
          "color": "rgba(50, 171, 96, 1.0)",
          "line": {
           "color": "#4D5663",
           "width": 1.3
          }
         },
         "name": "C",
         "opacity": 0.8,
         "orientation": "v",
         "type": "histogram",
         "x": [
          -0.6850215014043163,
          -1.2412518834652546,
          -0.3946676954847482,
          0.7651845615941001,
          0.8539049176742748,
          -0.37644014904789597,
          -0.32772970648204053,
          0.02834189527309373,
          -0.9504524445878754,
          0.8230972624100741,
          -1.7142178136821131,
          0.33112410774976675,
          0.016363052685521937,
          -0.43413069570491963,
          -1.5738282812386328,
          0.03489961725557421,
          -0.12246618896219813,
          -0.6146165254190183,
          0.43031162267834133,
          0.06397533316452905,
          -0.490651552827173,
          1.3735403366482595,
          0.8188391172357061,
          -0.02980846654887524,
          -0.31099894785936216,
          -0.2735335159583621,
          0.4179333738998075,
          -0.5715943544758427,
          0.1344414889806831,
          -1.521533327628918,
          -0.6689381159428938,
          0.15251369394908768,
          -0.36431107964479786,
          -0.10028586033516866,
          -2.6732007415098575,
          0.11324362012281179,
          -0.048704678642151784,
          1.4180214987115798,
          -0.8867526618791968,
          -1.5253768240139522,
          1.8287289167343548,
          -0.7592255448926566,
          -0.0671946927632733,
          0.1754235812981672,
          -1.0358340705530713,
          0.0019515411977063064,
          0.048488005484730506,
          -0.44430593841028115,
          -0.2331860016412143,
          1.1627105571515324,
          0.5660950651322101,
          -0.6786210624157247,
          -0.20721530694253,
          -0.07151740505683823,
          -0.6818973591112406,
          -1.324645088015891,
          -0.2310949839970945,
          -0.8492294245819209,
          0.210864914686496,
          -0.5009556142676546,
          1.1266769334653688,
          2.248449891487893,
          -1.9246130542716733,
          -1.1722170464527613,
          0.09141428654928084,
          1.1753076792060488,
          -0.43191016662870235,
          -1.1616224424459403,
          1.3823367200683663,
          -1.6837964741457006,
          -0.3211979035283138,
          0.10236534755693119,
          2.061701313426245,
          0.5473232701612604,
          -0.24896171576994267,
          0.6318260116940371,
          -0.8575144563857071,
          -0.06710741764459427,
          1.0667462425791259,
          1.2325174883238221,
          -1.2629602105446083,
          0.9494335560653758,
          1.413884715443827,
          0.5129628018179038,
          0.2560733737865519,
          -0.8923394405259693,
          0.8888377362062309,
          -0.688304615890909,
          1.1748715811398724,
          -0.7300124099889382,
          1.6207942045893935,
          0.07057876461498128,
          0.1381467197907667,
          -0.15809627739176416,
          -0.12616914469849583,
          -0.6426296324989368,
          -1.1256061558648365,
          -0.2819777712287155,
          0.25792572295089744,
          -1.3031790480572327
         ]
        },
        {
         "histfunc": "count",
         "histnorm": "",
         "marker": {
          "color": "rgba(128, 0, 128, 1.0)",
          "line": {
           "color": "#4D5663",
           "width": 1.3
          }
         },
         "name": "D",
         "opacity": 0.8,
         "orientation": "v",
         "type": "histogram",
         "x": [
          2.014247115270905,
          -0.7428208160857449,
          -1.309030944216816,
          -2.478092924371268,
          -0.6280100446363561,
          1.0291618666179578,
          -0.26691667588585155,
          1.313422842184512,
          -1.970495819360091,
          0.11411545090210919,
          0.9181163750127501,
          -0.29858708158689656,
          -0.26612821659138275,
          -0.973581285673536,
          -0.20814284985497686,
          -0.2558327791930005,
          0.37891920212858315,
          1.1085200274370157,
          -1.0002458133975058,
          -0.33242083339553374,
          -0.9749877501914137,
          1.15811018558237,
          0.5169718463650118,
          -1.274743874217198,
          2.006624857298406,
          0.25511767166704996,
          -0.30164693812853194,
          0.06354489502755675,
          -1.0197590712944298,
          0.3253988257390908,
          -0.7933307740387828,
          -0.8036699362969526,
          0.1043611568074112,
          1.3437747133382383,
          -0.5894175974959336,
          -0.49893973790798285,
          -0.47525780077383467,
          -0.9390740838969601,
          1.4442447945726926,
          -0.7540442676823031,
          1.5830342653142089,
          0.6438885132208334,
          0.2990209607177709,
          0.17577833233795892,
          1.4195280629117475,
          1.3131698831594645,
          1.0031714131683982,
          1.7632422224160416,
          0.11073442737923893,
          -0.5828009953990801,
          -0.486770021231336,
          -0.3839996428127627,
          -0.4391568257246189,
          -0.44417511214167693,
          -0.3318415514093242,
          0.11211566642523081,
          0.6104668682054902,
          -0.49044106556725764,
          -0.8714167589345827,
          -1.6880287466088721,
          1.3880439298208682,
          0.007243106345136585,
          -0.7003319230422439,
          0.9207544153619949,
          1.8122011583635331,
          0.21520079658506217,
          1.338945422952007,
          -1.3559156793828218,
          1.0675500203465638,
          0.22685073583400517,
          1.3147667676333779,
          -0.8512121329769073,
          -1.00825773280854,
          -0.05585947679402678,
          -1.9087662048270295,
          -1.1700986548099093,
          -0.14527278661267826,
          0.22093226813171887,
          1.624520241139117,
          1.508494359617955,
          0.6357187352707607,
          0.4533273679564344,
          0.07956108166066125,
          -0.8250424975633813,
          -1.6091491496953354,
          0.8742516509758052,
          -2.491823621271737,
          -0.042188676755759956,
          1.2969695278585485,
          0.42802263329645285,
          1.3549457569635972,
          0.011100810382680232,
          -0.5876763575631399,
          -0.34431210228354003,
          -0.6782744890719055,
          1.3916341438432032,
          -0.12101914607071254,
          -1.7419381441262538,
          0.3707115678108203,
          0.5024782457297611
         ]
        }
       ],
       "layout": {
        "barmode": "overlay",
        "legend": {
         "bgcolor": "#F5F6F9",
         "font": {
          "color": "#4D5663"
         }
        },
        "paper_bgcolor": "#F5F6F9",
        "plot_bgcolor": "#F5F6F9",
        "template": {
         "data": {
          "bar": [
           {
            "error_x": {
             "color": "#2a3f5f"
            },
            "error_y": {
             "color": "#2a3f5f"
            },
            "marker": {
             "line": {
              "color": "#E5ECF6",
              "width": 0.5
             }
            },
            "type": "bar"
           }
          ],
          "barpolar": [
           {
            "marker": {
             "line": {
              "color": "#E5ECF6",
              "width": 0.5
             }
            },
            "type": "barpolar"
           }
          ],
          "carpet": [
           {
            "aaxis": {
             "endlinecolor": "#2a3f5f",
             "gridcolor": "white",
             "linecolor": "white",
             "minorgridcolor": "white",
             "startlinecolor": "#2a3f5f"
            },
            "baxis": {
             "endlinecolor": "#2a3f5f",
             "gridcolor": "white",
             "linecolor": "white",
             "minorgridcolor": "white",
             "startlinecolor": "#2a3f5f"
            },
            "type": "carpet"
           }
          ],
          "choropleth": [
           {
            "colorbar": {
             "outlinewidth": 0,
             "ticks": ""
            },
            "type": "choropleth"
           }
          ],
          "contour": [
           {
            "colorbar": {
             "outlinewidth": 0,
             "ticks": ""
            },
            "colorscale": [
             [
              0,
              "#0d0887"
             ],
             [
              0.1111111111111111,
              "#46039f"
             ],
             [
              0.2222222222222222,
              "#7201a8"
             ],
             [
              0.3333333333333333,
              "#9c179e"
             ],
             [
              0.4444444444444444,
              "#bd3786"
             ],
             [
              0.5555555555555556,
              "#d8576b"
             ],
             [
              0.6666666666666666,
              "#ed7953"
             ],
             [
              0.7777777777777778,
              "#fb9f3a"
             ],
             [
              0.8888888888888888,
              "#fdca26"
             ],
             [
              1,
              "#f0f921"
             ]
            ],
            "type": "contour"
           }
          ],
          "contourcarpet": [
           {
            "colorbar": {
             "outlinewidth": 0,
             "ticks": ""
            },
            "type": "contourcarpet"
           }
          ],
          "heatmap": [
           {
            "colorbar": {
             "outlinewidth": 0,
             "ticks": ""
            },
            "colorscale": [
             [
              0,
              "#0d0887"
             ],
             [
              0.1111111111111111,
              "#46039f"
             ],
             [
              0.2222222222222222,
              "#7201a8"
             ],
             [
              0.3333333333333333,
              "#9c179e"
             ],
             [
              0.4444444444444444,
              "#bd3786"
             ],
             [
              0.5555555555555556,
              "#d8576b"
             ],
             [
              0.6666666666666666,
              "#ed7953"
             ],
             [
              0.7777777777777778,
              "#fb9f3a"
             ],
             [
              0.8888888888888888,
              "#fdca26"
             ],
             [
              1,
              "#f0f921"
             ]
            ],
            "type": "heatmap"
           }
          ],
          "heatmapgl": [
           {
            "colorbar": {
             "outlinewidth": 0,
             "ticks": ""
            },
            "colorscale": [
             [
              0,
              "#0d0887"
             ],
             [
              0.1111111111111111,
              "#46039f"
             ],
             [
              0.2222222222222222,
              "#7201a8"
             ],
             [
              0.3333333333333333,
              "#9c179e"
             ],
             [
              0.4444444444444444,
              "#bd3786"
             ],
             [
              0.5555555555555556,
              "#d8576b"
             ],
             [
              0.6666666666666666,
              "#ed7953"
             ],
             [
              0.7777777777777778,
              "#fb9f3a"
             ],
             [
              0.8888888888888888,
              "#fdca26"
             ],
             [
              1,
              "#f0f921"
             ]
            ],
            "type": "heatmapgl"
           }
          ],
          "histogram": [
           {
            "marker": {
             "colorbar": {
              "outlinewidth": 0,
              "ticks": ""
             }
            },
            "type": "histogram"
           }
          ],
          "histogram2d": [
           {
            "colorbar": {
             "outlinewidth": 0,
             "ticks": ""
            },
            "colorscale": [
             [
              0,
              "#0d0887"
             ],
             [
              0.1111111111111111,
              "#46039f"
             ],
             [
              0.2222222222222222,
              "#7201a8"
             ],
             [
              0.3333333333333333,
              "#9c179e"
             ],
             [
              0.4444444444444444,
              "#bd3786"
             ],
             [
              0.5555555555555556,
              "#d8576b"
             ],
             [
              0.6666666666666666,
              "#ed7953"
             ],
             [
              0.7777777777777778,
              "#fb9f3a"
             ],
             [
              0.8888888888888888,
              "#fdca26"
             ],
             [
              1,
              "#f0f921"
             ]
            ],
            "type": "histogram2d"
           }
          ],
          "histogram2dcontour": [
           {
            "colorbar": {
             "outlinewidth": 0,
             "ticks": ""
            },
            "colorscale": [
             [
              0,
              "#0d0887"
             ],
             [
              0.1111111111111111,
              "#46039f"
             ],
             [
              0.2222222222222222,
              "#7201a8"
             ],
             [
              0.3333333333333333,
              "#9c179e"
             ],
             [
              0.4444444444444444,
              "#bd3786"
             ],
             [
              0.5555555555555556,
              "#d8576b"
             ],
             [
              0.6666666666666666,
              "#ed7953"
             ],
             [
              0.7777777777777778,
              "#fb9f3a"
             ],
             [
              0.8888888888888888,
              "#fdca26"
             ],
             [
              1,
              "#f0f921"
             ]
            ],
            "type": "histogram2dcontour"
           }
          ],
          "mesh3d": [
           {
            "colorbar": {
             "outlinewidth": 0,
             "ticks": ""
            },
            "type": "mesh3d"
           }
          ],
          "parcoords": [
           {
            "line": {
             "colorbar": {
              "outlinewidth": 0,
              "ticks": ""
             }
            },
            "type": "parcoords"
           }
          ],
          "scatter": [
           {
            "marker": {
             "colorbar": {
              "outlinewidth": 0,
              "ticks": ""
             }
            },
            "type": "scatter"
           }
          ],
          "scatter3d": [
           {
            "line": {
             "colorbar": {
              "outlinewidth": 0,
              "ticks": ""
             }
            },
            "marker": {
             "colorbar": {
              "outlinewidth": 0,
              "ticks": ""
             }
            },
            "type": "scatter3d"
           }
          ],
          "scattercarpet": [
           {
            "marker": {
             "colorbar": {
              "outlinewidth": 0,
              "ticks": ""
             }
            },
            "type": "scattercarpet"
           }
          ],
          "scattergeo": [
           {
            "marker": {
             "colorbar": {
              "outlinewidth": 0,
              "ticks": ""
             }
            },
            "type": "scattergeo"
           }
          ],
          "scattergl": [
           {
            "marker": {
             "colorbar": {
              "outlinewidth": 0,
              "ticks": ""
             }
            },
            "type": "scattergl"
           }
          ],
          "scattermapbox": [
           {
            "marker": {
             "colorbar": {
              "outlinewidth": 0,
              "ticks": ""
             }
            },
            "type": "scattermapbox"
           }
          ],
          "scatterpolar": [
           {
            "marker": {
             "colorbar": {
              "outlinewidth": 0,
              "ticks": ""
             }
            },
            "type": "scatterpolar"
           }
          ],
          "scatterpolargl": [
           {
            "marker": {
             "colorbar": {
              "outlinewidth": 0,
              "ticks": ""
             }
            },
            "type": "scatterpolargl"
           }
          ],
          "scatterternary": [
           {
            "marker": {
             "colorbar": {
              "outlinewidth": 0,
              "ticks": ""
             }
            },
            "type": "scatterternary"
           }
          ],
          "surface": [
           {
            "colorbar": {
             "outlinewidth": 0,
             "ticks": ""
            },
            "colorscale": [
             [
              0,
              "#0d0887"
             ],
             [
              0.1111111111111111,
              "#46039f"
             ],
             [
              0.2222222222222222,
              "#7201a8"
             ],
             [
              0.3333333333333333,
              "#9c179e"
             ],
             [
              0.4444444444444444,
              "#bd3786"
             ],
             [
              0.5555555555555556,
              "#d8576b"
             ],
             [
              0.6666666666666666,
              "#ed7953"
             ],
             [
              0.7777777777777778,
              "#fb9f3a"
             ],
             [
              0.8888888888888888,
              "#fdca26"
             ],
             [
              1,
              "#f0f921"
             ]
            ],
            "type": "surface"
           }
          ],
          "table": [
           {
            "cells": {
             "fill": {
              "color": "#EBF0F8"
             },
             "line": {
              "color": "white"
             }
            },
            "header": {
             "fill": {
              "color": "#C8D4E3"
             },
             "line": {
              "color": "white"
             }
            },
            "type": "table"
           }
          ]
         },
         "layout": {
          "annotationdefaults": {
           "arrowcolor": "#2a3f5f",
           "arrowhead": 0,
           "arrowwidth": 1
          },
          "colorscale": {
           "diverging": [
            [
             0,
             "#8e0152"
            ],
            [
             0.1,
             "#c51b7d"
            ],
            [
             0.2,
             "#de77ae"
            ],
            [
             0.3,
             "#f1b6da"
            ],
            [
             0.4,
             "#fde0ef"
            ],
            [
             0.5,
             "#f7f7f7"
            ],
            [
             0.6,
             "#e6f5d0"
            ],
            [
             0.7,
             "#b8e186"
            ],
            [
             0.8,
             "#7fbc41"
            ],
            [
             0.9,
             "#4d9221"
            ],
            [
             1,
             "#276419"
            ]
           ],
           "sequential": [
            [
             0,
             "#0d0887"
            ],
            [
             0.1111111111111111,
             "#46039f"
            ],
            [
             0.2222222222222222,
             "#7201a8"
            ],
            [
             0.3333333333333333,
             "#9c179e"
            ],
            [
             0.4444444444444444,
             "#bd3786"
            ],
            [
             0.5555555555555556,
             "#d8576b"
            ],
            [
             0.6666666666666666,
             "#ed7953"
            ],
            [
             0.7777777777777778,
             "#fb9f3a"
            ],
            [
             0.8888888888888888,
             "#fdca26"
            ],
            [
             1,
             "#f0f921"
            ]
           ],
           "sequentialminus": [
            [
             0,
             "#0d0887"
            ],
            [
             0.1111111111111111,
             "#46039f"
            ],
            [
             0.2222222222222222,
             "#7201a8"
            ],
            [
             0.3333333333333333,
             "#9c179e"
            ],
            [
             0.4444444444444444,
             "#bd3786"
            ],
            [
             0.5555555555555556,
             "#d8576b"
            ],
            [
             0.6666666666666666,
             "#ed7953"
            ],
            [
             0.7777777777777778,
             "#fb9f3a"
            ],
            [
             0.8888888888888888,
             "#fdca26"
            ],
            [
             1,
             "#f0f921"
            ]
           ]
          },
          "colorway": [
           "#636efa",
           "#EF553B",
           "#00cc96",
           "#ab63fa",
           "#FFA15A",
           "#19d3f3",
           "#FF6692",
           "#B6E880",
           "#FF97FF",
           "#FECB52"
          ],
          "font": {
           "color": "#2a3f5f"
          },
          "geo": {
           "bgcolor": "white",
           "lakecolor": "white",
           "landcolor": "#E5ECF6",
           "showlakes": true,
           "showland": true,
           "subunitcolor": "white"
          },
          "hoverlabel": {
           "align": "left"
          },
          "hovermode": "closest",
          "mapbox": {
           "style": "light"
          },
          "paper_bgcolor": "white",
          "plot_bgcolor": "#E5ECF6",
          "polar": {
           "angularaxis": {
            "gridcolor": "white",
            "linecolor": "white",
            "ticks": ""
           },
           "bgcolor": "#E5ECF6",
           "radialaxis": {
            "gridcolor": "white",
            "linecolor": "white",
            "ticks": ""
           }
          },
          "scene": {
           "xaxis": {
            "backgroundcolor": "#E5ECF6",
            "gridcolor": "white",
            "gridwidth": 2,
            "linecolor": "white",
            "showbackground": true,
            "ticks": "",
            "zerolinecolor": "white"
           },
           "yaxis": {
            "backgroundcolor": "#E5ECF6",
            "gridcolor": "white",
            "gridwidth": 2,
            "linecolor": "white",
            "showbackground": true,
            "ticks": "",
            "zerolinecolor": "white"
           },
           "zaxis": {
            "backgroundcolor": "#E5ECF6",
            "gridcolor": "white",
            "gridwidth": 2,
            "linecolor": "white",
            "showbackground": true,
            "ticks": "",
            "zerolinecolor": "white"
           }
          },
          "shapedefaults": {
           "line": {
            "color": "#2a3f5f"
           }
          },
          "ternary": {
           "aaxis": {
            "gridcolor": "white",
            "linecolor": "white",
            "ticks": ""
           },
           "baxis": {
            "gridcolor": "white",
            "linecolor": "white",
            "ticks": ""
           },
           "bgcolor": "#E5ECF6",
           "caxis": {
            "gridcolor": "white",
            "linecolor": "white",
            "ticks": ""
           }
          },
          "title": {
           "x": 0.05
          },
          "xaxis": {
           "automargin": true,
           "gridcolor": "white",
           "linecolor": "white",
           "ticks": "",
           "zerolinecolor": "white",
           "zerolinewidth": 2
          },
          "yaxis": {
           "automargin": true,
           "gridcolor": "white",
           "linecolor": "white",
           "ticks": "",
           "zerolinecolor": "white",
           "zerolinewidth": 2
          }
         }
        },
        "title": {
         "font": {
          "color": "#4D5663"
         }
        },
        "xaxis": {
         "gridcolor": "#E1E5ED",
         "showgrid": true,
         "tickfont": {
          "color": "#4D5663"
         },
         "title": {
          "font": {
           "color": "#4D5663"
          },
          "text": ""
         },
         "zerolinecolor": "#E1E5ED"
        },
        "yaxis": {
         "gridcolor": "#E1E5ED",
         "showgrid": true,
         "tickfont": {
          "color": "#4D5663"
         },
         "title": {
          "font": {
           "color": "#4D5663"
          },
          "text": ""
         },
         "zerolinecolor": "#E1E5ED"
        }
       }
      },
      "text/html": [
       "<div>\n",
       "        \n",
       "        \n",
       "            <div id=\"c5fb7490-fc8f-46dd-92b5-91e596472da7\" class=\"plotly-graph-div\" style=\"height:525px; width:100%;\"></div>\n",
       "            <script type=\"text/javascript\">\n",
       "                require([\"plotly\"], function(Plotly) {\n",
       "                    window.PLOTLYENV=window.PLOTLYENV || {};\n",
       "                    window.PLOTLYENV.BASE_URL='https://plot.ly';\n",
       "                    \n",
       "                if (document.getElementById(\"c5fb7490-fc8f-46dd-92b5-91e596472da7\")) {\n",
       "                    Plotly.newPlot(\n",
       "                        'c5fb7490-fc8f-46dd-92b5-91e596472da7',\n",
       "                        [{\"histfunc\": \"count\", \"histnorm\": \"\", \"marker\": {\"color\": \"rgba(255, 153, 51, 1.0)\", \"line\": {\"color\": \"#4D5663\", \"width\": 1.3}}, \"name\": \"A\", \"opacity\": 0.8, \"orientation\": \"v\", \"type\": \"histogram\", \"x\": [2.069081317248437, -1.9586988201017066, 0.31687259557075065, 0.3163933211791377, -0.16623943248273207, 1.5497820365156982, -1.7297768914284835, 0.5697825774153621, -0.7032361365794662, -0.8268251660691491, 1.2467171956322265, -1.0757476486572177, -0.165999174967776, 0.42843672539742184, -0.25675899385138395, 0.22587079145601774, 1.9166425271506045, -0.640237220836307, -0.6861772522003287, -0.5586527440178088, -2.5054824095350603, 0.4409074736412183, -1.9900902601521533, -0.5210386202937979, -0.5080735923466261, -0.7618302051217163, 0.8385206587443153, 1.4112551979094434, -0.35899178289305833, -0.7583551270205274, 0.1801450370472393, -1.668881029521964, -0.7631515357140278, -0.6703114133478807, -1.4410620768665687, 0.8743716919027011, 1.3712437328971603, 1.8015066568239602, -1.3793914176363382, -0.310781082112185, 0.21539737058955025, 0.26100127321811867, -0.5720033350321432, 2.132914188699778, -1.6315266835701523, 0.6116058285290135, -1.375542976417157, 0.5516327908947728, -0.8291435228557643, -0.10741096952517305, 0.466848431170696, 0.8433508517657493, 0.11636175879694592, 0.5598366538046764, 0.24914272694522172, -0.06884643442780915, -0.4084858316707387, -1.4051726071742447, -0.30645623254003573, 1.7389939017633762, -1.069248683755255, 1.6834497814923641, 1.346355028489932, -0.6762454051862051, 0.9031060789060906, 1.1356794877473801, -0.40881973318811055, 0.7063794517678516, -0.4152686536633678, -0.996637064263391, -0.05603719295495405, 0.3267743031922197, -0.7097067062730879, 0.4433270622616412, 0.379617908590977, -0.43494427079199754, 1.7809685905508235, 1.6966147780256329, 1.4906595522423403, 0.4809146675204936, -1.3864972445511055, -0.6595869670593304, -0.5506363437289727, 0.5980724890985413, -1.1521791912703487, -0.3175929792191654, -1.8718075854411518, -0.27684143268620376, -1.6259350828226837, 1.2269730494900373, -0.048869330284592144, 1.5957901102313448, -0.040539979809508665, 1.3204254982305588, -0.035534127153365694, 0.9671163301831622, 0.5214914391803923, 0.9508548035963178, 0.05960270547188383, -0.01561286021245415]}, {\"histfunc\": \"count\", \"histnorm\": \"\", \"marker\": {\"color\": \"rgba(55, 128, 191, 1.0)\", \"line\": {\"color\": \"#4D5663\", \"width\": 1.3}}, \"name\": \"B\", \"opacity\": 0.8, \"orientation\": \"v\", \"type\": \"histogram\", \"x\": [0.5371406102484116, -0.7630355998932787, -2.4858162864857523, 1.2592066808607159, 0.9595436226520081, -0.8081156938171563, 0.9958728377864831, -0.04591061914796954, 0.6904010738181772, -0.5511142392207588, 1.4402893831504124, 0.35305376609086747, 0.7972779169691322, 0.34537746993804025, 1.31874407327095, 1.6969578374319672, -2.380558289248379, -0.42479170062544036, 0.7611985790453921, -1.4523150254476245, 0.587450547772239, 0.15513270402904678, 0.3816171930588017, -0.3485622560270526, -0.2233077072848466, -0.06657166845739156, -0.4699219481124245, 1.2162365035510758, -0.08247111159833434, -0.26576094186048205, 0.6287146222239482, 0.5464995934949134, -1.0413503318774242, -0.6133269467314942, 1.7897861110849156, -1.4636448182885142, -0.6082089722636107, -0.18944182747086188, 1.1535409107981895, -0.2610438758985015, 0.7607204950976051, 0.8689659293485391, -1.0408678834637686, -1.8697259764998884, 0.052957623660512085, -0.4752375307599897, -0.6894315405633875, 0.20660004628802267, 0.41587696940825136, 0.11794519060016996, -0.5483109902790982, 0.2204585387263463, -0.0814497894297341, -0.4261861035950627, -0.021917182184465037, 0.35222734994579635, -0.24159158765078223, -1.245418117537442, 1.0216068651998909, 0.2639425680704423, 0.9241230815489991, 1.0987810469821897, -1.2581918632792053, -0.3047137245763503, 0.60914107898099, -0.9152188042552775, -0.26765853410307033, -2.0075144589553195, 0.8147844678127948, -0.13131685638323615, -1.311225180991742, -0.04852659651473337, -1.218931042803003, -1.024830966258147, 0.12385012282058273, -0.20982791576190235, -0.24678271085565104, 0.5154062122960229, 0.1544833714506777, -0.41404378573783396, -1.2860894727014949, -1.437949062500608, 2.4274363130615795, -0.4573332199984909, 0.7826881088936185, -0.10934943159905164, -0.5949196074311865, 0.03144939194326923, 1.524309150436032, -0.23392802647924565, 0.5361360451160111, -0.7495155351889765, -0.18096629842077092, 1.558544319601368, 1.7517499105114092, -0.39371248209055115, 0.345362285426185, -0.7860338813922241, 1.900836644872969, -0.6373552719220384]}, {\"histfunc\": \"count\", \"histnorm\": \"\", \"marker\": {\"color\": \"rgba(50, 171, 96, 1.0)\", \"line\": {\"color\": \"#4D5663\", \"width\": 1.3}}, \"name\": \"C\", \"opacity\": 0.8, \"orientation\": \"v\", \"type\": \"histogram\", \"x\": [-0.6850215014043163, -1.2412518834652546, -0.3946676954847482, 0.7651845615941001, 0.8539049176742748, -0.37644014904789597, -0.32772970648204053, 0.02834189527309373, -0.9504524445878754, 0.8230972624100741, -1.7142178136821131, 0.33112410774976675, 0.016363052685521937, -0.43413069570491963, -1.5738282812386328, 0.03489961725557421, -0.12246618896219813, -0.6146165254190183, 0.43031162267834133, 0.06397533316452905, -0.490651552827173, 1.3735403366482595, 0.8188391172357061, -0.02980846654887524, -0.31099894785936216, -0.2735335159583621, 0.4179333738998075, -0.5715943544758427, 0.1344414889806831, -1.521533327628918, -0.6689381159428938, 0.15251369394908768, -0.36431107964479786, -0.10028586033516866, -2.6732007415098575, 0.11324362012281179, -0.048704678642151784, 1.4180214987115798, -0.8867526618791968, -1.5253768240139522, 1.8287289167343548, -0.7592255448926566, -0.0671946927632733, 0.1754235812981672, -1.0358340705530713, 0.0019515411977063064, 0.048488005484730506, -0.44430593841028115, -0.2331860016412143, 1.1627105571515324, 0.5660950651322101, -0.6786210624157247, -0.20721530694253, -0.07151740505683823, -0.6818973591112406, -1.324645088015891, -0.2310949839970945, -0.8492294245819209, 0.210864914686496, -0.5009556142676546, 1.1266769334653688, 2.248449891487893, -1.9246130542716733, -1.1722170464527613, 0.09141428654928084, 1.1753076792060488, -0.43191016662870235, -1.1616224424459403, 1.3823367200683663, -1.6837964741457006, -0.3211979035283138, 0.10236534755693119, 2.061701313426245, 0.5473232701612604, -0.24896171576994267, 0.6318260116940371, -0.8575144563857071, -0.06710741764459427, 1.0667462425791259, 1.2325174883238221, -1.2629602105446083, 0.9494335560653758, 1.413884715443827, 0.5129628018179038, 0.2560733737865519, -0.8923394405259693, 0.8888377362062309, -0.688304615890909, 1.1748715811398724, -0.7300124099889382, 1.6207942045893935, 0.07057876461498128, 0.1381467197907667, -0.15809627739176416, -0.12616914469849583, -0.6426296324989368, -1.1256061558648365, -0.2819777712287155, 0.25792572295089744, -1.3031790480572327]}, {\"histfunc\": \"count\", \"histnorm\": \"\", \"marker\": {\"color\": \"rgba(128, 0, 128, 1.0)\", \"line\": {\"color\": \"#4D5663\", \"width\": 1.3}}, \"name\": \"D\", \"opacity\": 0.8, \"orientation\": \"v\", \"type\": \"histogram\", \"x\": [2.014247115270905, -0.7428208160857449, -1.309030944216816, -2.478092924371268, -0.6280100446363561, 1.0291618666179578, -0.26691667588585155, 1.313422842184512, -1.970495819360091, 0.11411545090210919, 0.9181163750127501, -0.29858708158689656, -0.26612821659138275, -0.973581285673536, -0.20814284985497686, -0.2558327791930005, 0.37891920212858315, 1.1085200274370157, -1.0002458133975058, -0.33242083339553374, -0.9749877501914137, 1.15811018558237, 0.5169718463650118, -1.274743874217198, 2.006624857298406, 0.25511767166704996, -0.30164693812853194, 0.06354489502755675, -1.0197590712944298, 0.3253988257390908, -0.7933307740387828, -0.8036699362969526, 0.1043611568074112, 1.3437747133382383, -0.5894175974959336, -0.49893973790798285, -0.47525780077383467, -0.9390740838969601, 1.4442447945726926, -0.7540442676823031, 1.5830342653142089, 0.6438885132208334, 0.2990209607177709, 0.17577833233795892, 1.4195280629117475, 1.3131698831594645, 1.0031714131683982, 1.7632422224160416, 0.11073442737923893, -0.5828009953990801, -0.486770021231336, -0.3839996428127627, -0.4391568257246189, -0.44417511214167693, -0.3318415514093242, 0.11211566642523081, 0.6104668682054902, -0.49044106556725764, -0.8714167589345827, -1.6880287466088721, 1.3880439298208682, 0.007243106345136585, -0.7003319230422439, 0.9207544153619949, 1.8122011583635331, 0.21520079658506217, 1.338945422952007, -1.3559156793828218, 1.0675500203465638, 0.22685073583400517, 1.3147667676333779, -0.8512121329769073, -1.00825773280854, -0.05585947679402678, -1.9087662048270295, -1.1700986548099093, -0.14527278661267826, 0.22093226813171887, 1.624520241139117, 1.508494359617955, 0.6357187352707607, 0.4533273679564344, 0.07956108166066125, -0.8250424975633813, -1.6091491496953354, 0.8742516509758052, -2.491823621271737, -0.042188676755759956, 1.2969695278585485, 0.42802263329645285, 1.3549457569635972, 0.011100810382680232, -0.5876763575631399, -0.34431210228354003, -0.6782744890719055, 1.3916341438432032, -0.12101914607071254, -1.7419381441262538, 0.3707115678108203, 0.5024782457297611]}],\n",
       "                        {\"barmode\": \"overlay\", \"legend\": {\"bgcolor\": \"#F5F6F9\", \"font\": {\"color\": \"#4D5663\"}}, \"paper_bgcolor\": \"#F5F6F9\", \"plot_bgcolor\": \"#F5F6F9\", \"template\": {\"data\": {\"bar\": [{\"error_x\": {\"color\": \"#2a3f5f\"}, \"error_y\": {\"color\": \"#2a3f5f\"}, \"marker\": {\"line\": {\"color\": \"#E5ECF6\", \"width\": 0.5}}, \"type\": \"bar\"}], \"barpolar\": [{\"marker\": {\"line\": {\"color\": \"#E5ECF6\", \"width\": 0.5}}, \"type\": \"barpolar\"}], \"carpet\": [{\"aaxis\": {\"endlinecolor\": \"#2a3f5f\", \"gridcolor\": \"white\", \"linecolor\": \"white\", \"minorgridcolor\": \"white\", \"startlinecolor\": \"#2a3f5f\"}, \"baxis\": {\"endlinecolor\": \"#2a3f5f\", \"gridcolor\": \"white\", \"linecolor\": \"white\", \"minorgridcolor\": \"white\", \"startlinecolor\": \"#2a3f5f\"}, \"type\": \"carpet\"}], \"choropleth\": [{\"colorbar\": {\"outlinewidth\": 0, \"ticks\": \"\"}, \"type\": \"choropleth\"}], \"contour\": [{\"colorbar\": {\"outlinewidth\": 0, \"ticks\": \"\"}, \"colorscale\": [[0.0, \"#0d0887\"], [0.1111111111111111, \"#46039f\"], [0.2222222222222222, \"#7201a8\"], [0.3333333333333333, \"#9c179e\"], [0.4444444444444444, \"#bd3786\"], [0.5555555555555556, \"#d8576b\"], [0.6666666666666666, \"#ed7953\"], [0.7777777777777778, \"#fb9f3a\"], [0.8888888888888888, \"#fdca26\"], [1.0, \"#f0f921\"]], \"type\": \"contour\"}], \"contourcarpet\": [{\"colorbar\": {\"outlinewidth\": 0, \"ticks\": \"\"}, \"type\": \"contourcarpet\"}], \"heatmap\": [{\"colorbar\": {\"outlinewidth\": 0, \"ticks\": \"\"}, \"colorscale\": [[0.0, \"#0d0887\"], [0.1111111111111111, \"#46039f\"], [0.2222222222222222, \"#7201a8\"], [0.3333333333333333, \"#9c179e\"], [0.4444444444444444, \"#bd3786\"], [0.5555555555555556, \"#d8576b\"], [0.6666666666666666, \"#ed7953\"], [0.7777777777777778, \"#fb9f3a\"], [0.8888888888888888, \"#fdca26\"], [1.0, \"#f0f921\"]], \"type\": \"heatmap\"}], \"heatmapgl\": [{\"colorbar\": {\"outlinewidth\": 0, \"ticks\": \"\"}, \"colorscale\": [[0.0, \"#0d0887\"], [0.1111111111111111, \"#46039f\"], [0.2222222222222222, \"#7201a8\"], [0.3333333333333333, \"#9c179e\"], [0.4444444444444444, \"#bd3786\"], [0.5555555555555556, \"#d8576b\"], [0.6666666666666666, \"#ed7953\"], [0.7777777777777778, \"#fb9f3a\"], [0.8888888888888888, \"#fdca26\"], [1.0, \"#f0f921\"]], \"type\": \"heatmapgl\"}], \"histogram\": [{\"marker\": {\"colorbar\": {\"outlinewidth\": 0, \"ticks\": \"\"}}, \"type\": \"histogram\"}], \"histogram2d\": [{\"colorbar\": {\"outlinewidth\": 0, \"ticks\": \"\"}, \"colorscale\": [[0.0, \"#0d0887\"], [0.1111111111111111, \"#46039f\"], [0.2222222222222222, \"#7201a8\"], [0.3333333333333333, \"#9c179e\"], [0.4444444444444444, \"#bd3786\"], [0.5555555555555556, \"#d8576b\"], [0.6666666666666666, \"#ed7953\"], [0.7777777777777778, \"#fb9f3a\"], [0.8888888888888888, \"#fdca26\"], [1.0, \"#f0f921\"]], \"type\": \"histogram2d\"}], \"histogram2dcontour\": [{\"colorbar\": {\"outlinewidth\": 0, \"ticks\": \"\"}, \"colorscale\": [[0.0, \"#0d0887\"], [0.1111111111111111, \"#46039f\"], [0.2222222222222222, \"#7201a8\"], [0.3333333333333333, \"#9c179e\"], [0.4444444444444444, \"#bd3786\"], [0.5555555555555556, \"#d8576b\"], [0.6666666666666666, \"#ed7953\"], [0.7777777777777778, \"#fb9f3a\"], [0.8888888888888888, \"#fdca26\"], [1.0, \"#f0f921\"]], \"type\": \"histogram2dcontour\"}], \"mesh3d\": [{\"colorbar\": {\"outlinewidth\": 0, \"ticks\": \"\"}, \"type\": \"mesh3d\"}], \"parcoords\": [{\"line\": {\"colorbar\": {\"outlinewidth\": 0, \"ticks\": \"\"}}, \"type\": \"parcoords\"}], \"scatter\": [{\"marker\": {\"colorbar\": {\"outlinewidth\": 0, \"ticks\": \"\"}}, \"type\": \"scatter\"}], \"scatter3d\": [{\"line\": {\"colorbar\": {\"outlinewidth\": 0, \"ticks\": \"\"}}, \"marker\": {\"colorbar\": {\"outlinewidth\": 0, \"ticks\": \"\"}}, \"type\": \"scatter3d\"}], \"scattercarpet\": [{\"marker\": {\"colorbar\": {\"outlinewidth\": 0, \"ticks\": \"\"}}, \"type\": \"scattercarpet\"}], \"scattergeo\": [{\"marker\": {\"colorbar\": {\"outlinewidth\": 0, \"ticks\": \"\"}}, \"type\": \"scattergeo\"}], \"scattergl\": [{\"marker\": {\"colorbar\": {\"outlinewidth\": 0, \"ticks\": \"\"}}, \"type\": \"scattergl\"}], \"scattermapbox\": [{\"marker\": {\"colorbar\": {\"outlinewidth\": 0, \"ticks\": \"\"}}, \"type\": \"scattermapbox\"}], \"scatterpolar\": [{\"marker\": {\"colorbar\": {\"outlinewidth\": 0, \"ticks\": \"\"}}, \"type\": \"scatterpolar\"}], \"scatterpolargl\": [{\"marker\": {\"colorbar\": {\"outlinewidth\": 0, \"ticks\": \"\"}}, \"type\": \"scatterpolargl\"}], \"scatterternary\": [{\"marker\": {\"colorbar\": {\"outlinewidth\": 0, \"ticks\": \"\"}}, \"type\": \"scatterternary\"}], \"surface\": [{\"colorbar\": {\"outlinewidth\": 0, \"ticks\": \"\"}, \"colorscale\": [[0.0, \"#0d0887\"], [0.1111111111111111, \"#46039f\"], [0.2222222222222222, \"#7201a8\"], [0.3333333333333333, \"#9c179e\"], [0.4444444444444444, \"#bd3786\"], [0.5555555555555556, \"#d8576b\"], [0.6666666666666666, \"#ed7953\"], [0.7777777777777778, \"#fb9f3a\"], [0.8888888888888888, \"#fdca26\"], [1.0, \"#f0f921\"]], \"type\": \"surface\"}], \"table\": [{\"cells\": {\"fill\": {\"color\": \"#EBF0F8\"}, \"line\": {\"color\": \"white\"}}, \"header\": {\"fill\": {\"color\": \"#C8D4E3\"}, \"line\": {\"color\": \"white\"}}, \"type\": \"table\"}]}, \"layout\": {\"annotationdefaults\": {\"arrowcolor\": \"#2a3f5f\", \"arrowhead\": 0, \"arrowwidth\": 1}, \"colorscale\": {\"diverging\": [[0, \"#8e0152\"], [0.1, \"#c51b7d\"], [0.2, \"#de77ae\"], [0.3, \"#f1b6da\"], [0.4, \"#fde0ef\"], [0.5, \"#f7f7f7\"], [0.6, \"#e6f5d0\"], [0.7, \"#b8e186\"], [0.8, \"#7fbc41\"], [0.9, \"#4d9221\"], [1, \"#276419\"]], \"sequential\": [[0.0, \"#0d0887\"], [0.1111111111111111, \"#46039f\"], [0.2222222222222222, \"#7201a8\"], [0.3333333333333333, \"#9c179e\"], [0.4444444444444444, \"#bd3786\"], [0.5555555555555556, \"#d8576b\"], [0.6666666666666666, \"#ed7953\"], [0.7777777777777778, \"#fb9f3a\"], [0.8888888888888888, \"#fdca26\"], [1.0, \"#f0f921\"]], \"sequentialminus\": [[0.0, \"#0d0887\"], [0.1111111111111111, \"#46039f\"], [0.2222222222222222, \"#7201a8\"], [0.3333333333333333, \"#9c179e\"], [0.4444444444444444, \"#bd3786\"], [0.5555555555555556, \"#d8576b\"], [0.6666666666666666, \"#ed7953\"], [0.7777777777777778, \"#fb9f3a\"], [0.8888888888888888, \"#fdca26\"], [1.0, \"#f0f921\"]]}, \"colorway\": [\"#636efa\", \"#EF553B\", \"#00cc96\", \"#ab63fa\", \"#FFA15A\", \"#19d3f3\", \"#FF6692\", \"#B6E880\", \"#FF97FF\", \"#FECB52\"], \"font\": {\"color\": \"#2a3f5f\"}, \"geo\": {\"bgcolor\": \"white\", \"lakecolor\": \"white\", \"landcolor\": \"#E5ECF6\", \"showlakes\": true, \"showland\": true, \"subunitcolor\": \"white\"}, \"hoverlabel\": {\"align\": \"left\"}, \"hovermode\": \"closest\", \"mapbox\": {\"style\": \"light\"}, \"paper_bgcolor\": \"white\", \"plot_bgcolor\": \"#E5ECF6\", \"polar\": {\"angularaxis\": {\"gridcolor\": \"white\", \"linecolor\": \"white\", \"ticks\": \"\"}, \"bgcolor\": \"#E5ECF6\", \"radialaxis\": {\"gridcolor\": \"white\", \"linecolor\": \"white\", \"ticks\": \"\"}}, \"scene\": {\"xaxis\": {\"backgroundcolor\": \"#E5ECF6\", \"gridcolor\": \"white\", \"gridwidth\": 2, \"linecolor\": \"white\", \"showbackground\": true, \"ticks\": \"\", \"zerolinecolor\": \"white\"}, \"yaxis\": {\"backgroundcolor\": \"#E5ECF6\", \"gridcolor\": \"white\", \"gridwidth\": 2, \"linecolor\": \"white\", \"showbackground\": true, \"ticks\": \"\", \"zerolinecolor\": \"white\"}, \"zaxis\": {\"backgroundcolor\": \"#E5ECF6\", \"gridcolor\": \"white\", \"gridwidth\": 2, \"linecolor\": \"white\", \"showbackground\": true, \"ticks\": \"\", \"zerolinecolor\": \"white\"}}, \"shapedefaults\": {\"line\": {\"color\": \"#2a3f5f\"}}, \"ternary\": {\"aaxis\": {\"gridcolor\": \"white\", \"linecolor\": \"white\", \"ticks\": \"\"}, \"baxis\": {\"gridcolor\": \"white\", \"linecolor\": \"white\", \"ticks\": \"\"}, \"bgcolor\": \"#E5ECF6\", \"caxis\": {\"gridcolor\": \"white\", \"linecolor\": \"white\", \"ticks\": \"\"}}, \"title\": {\"x\": 0.05}, \"xaxis\": {\"automargin\": true, \"gridcolor\": \"white\", \"linecolor\": \"white\", \"ticks\": \"\", \"zerolinecolor\": \"white\", \"zerolinewidth\": 2}, \"yaxis\": {\"automargin\": true, \"gridcolor\": \"white\", \"linecolor\": \"white\", \"ticks\": \"\", \"zerolinecolor\": \"white\", \"zerolinewidth\": 2}}}, \"title\": {\"font\": {\"color\": \"#4D5663\"}}, \"xaxis\": {\"gridcolor\": \"#E1E5ED\", \"showgrid\": true, \"tickfont\": {\"color\": \"#4D5663\"}, \"title\": {\"font\": {\"color\": \"#4D5663\"}, \"text\": \"\"}, \"zerolinecolor\": \"#E1E5ED\"}, \"yaxis\": {\"gridcolor\": \"#E1E5ED\", \"showgrid\": true, \"tickfont\": {\"color\": \"#4D5663\"}, \"title\": {\"font\": {\"color\": \"#4D5663\"}, \"text\": \"\"}, \"zerolinecolor\": \"#E1E5ED\"}},\n",
       "                        {\"showLink\": true, \"linkText\": \"Export to plot.ly\", \"plotlyServerURL\": \"https://plot.ly\", \"responsive\": true}\n",
       "                    ).then(function(){\n",
       "                            \n",
       "var gd = document.getElementById('c5fb7490-fc8f-46dd-92b5-91e596472da7');\n",
       "var x = new MutationObserver(function (mutations, observer) {{\n",
       "        var display = window.getComputedStyle(gd).display;\n",
       "        if (!display || display === 'none') {{\n",
       "            console.log([gd, 'removed!']);\n",
       "            Plotly.purge(gd);\n",
       "            observer.disconnect();\n",
       "        }}\n",
       "}});\n",
       "\n",
       "// Listen for the removal of the full notebook cells\n",
       "var notebookContainer = gd.closest('#notebook-container');\n",
       "if (notebookContainer) {{\n",
       "    x.observe(notebookContainer, {childList: true});\n",
       "}}\n",
       "\n",
       "// Listen for the clearing of the current output cell\n",
       "var outputEl = gd.closest('.output');\n",
       "if (outputEl) {{\n",
       "    x.observe(outputEl, {childList: true});\n",
       "}}\n",
       "\n",
       "                        })\n",
       "                };\n",
       "                });\n",
       "            </script>\n",
       "        </div>"
      ]
     },
     "metadata": {},
     "output_type": "display_data"
    }
   ],
   "source": [
    "# if the whole dataframe \n",
    "# it will get a overlapping histgram of all the columns\n",
    "\n",
    "df.iplot(kind = 'hist')"
   ]
  },
  {
   "cell_type": "markdown",
   "metadata": {},
   "source": [
    "### 7. spreadplot"
   ]
  },
  {
   "cell_type": "code",
   "execution_count": 32,
   "metadata": {},
   "outputs": [
    {
     "data": {
      "application/vnd.plotly.v1+json": {
       "config": {
        "linkText": "Export to plot.ly",
        "plotlyServerURL": "https://plot.ly",
        "showLink": true
       },
       "data": [
        {
         "line": {
          "color": "rgba(255, 153, 51, 1.0)",
          "dash": "solid",
          "shape": "linear",
          "width": 1.3
         },
         "mode": "lines",
         "name": "A",
         "text": "",
         "type": "scatter",
         "x": [
          0,
          1,
          2,
          3,
          4,
          5,
          6,
          7,
          8,
          9,
          10,
          11,
          12,
          13,
          14,
          15,
          16,
          17,
          18,
          19,
          20,
          21,
          22,
          23,
          24,
          25,
          26,
          27,
          28,
          29,
          30,
          31,
          32,
          33,
          34,
          35,
          36,
          37,
          38,
          39,
          40,
          41,
          42,
          43,
          44,
          45,
          46,
          47,
          48,
          49,
          50,
          51,
          52,
          53,
          54,
          55,
          56,
          57,
          58,
          59,
          60,
          61,
          62,
          63,
          64,
          65,
          66,
          67,
          68,
          69,
          70,
          71,
          72,
          73,
          74,
          75,
          76,
          77,
          78,
          79,
          80,
          81,
          82,
          83,
          84,
          85,
          86,
          87,
          88,
          89,
          90,
          91,
          92,
          93,
          94,
          95,
          96,
          97,
          98,
          99
         ],
         "y": [
          2.069081317248437,
          -1.9586988201017066,
          0.31687259557075065,
          0.3163933211791377,
          -0.16623943248273207,
          1.5497820365156982,
          -1.7297768914284835,
          0.5697825774153621,
          -0.7032361365794662,
          -0.8268251660691491,
          1.2467171956322265,
          -1.0757476486572177,
          -0.165999174967776,
          0.42843672539742184,
          -0.25675899385138395,
          0.22587079145601774,
          1.9166425271506045,
          -0.640237220836307,
          -0.6861772522003287,
          -0.5586527440178088,
          -2.5054824095350603,
          0.4409074736412183,
          -1.9900902601521533,
          -0.5210386202937979,
          -0.5080735923466261,
          -0.7618302051217163,
          0.8385206587443153,
          1.4112551979094434,
          -0.35899178289305833,
          -0.7583551270205274,
          0.1801450370472393,
          -1.668881029521964,
          -0.7631515357140278,
          -0.6703114133478807,
          -1.4410620768665687,
          0.8743716919027011,
          1.3712437328971603,
          1.8015066568239602,
          -1.3793914176363382,
          -0.310781082112185,
          0.21539737058955025,
          0.26100127321811867,
          -0.5720033350321432,
          2.132914188699778,
          -1.6315266835701523,
          0.6116058285290135,
          -1.375542976417157,
          0.5516327908947728,
          -0.8291435228557643,
          -0.10741096952517305,
          0.466848431170696,
          0.8433508517657493,
          0.11636175879694592,
          0.5598366538046764,
          0.24914272694522172,
          -0.06884643442780915,
          -0.4084858316707387,
          -1.4051726071742447,
          -0.30645623254003573,
          1.7389939017633762,
          -1.069248683755255,
          1.6834497814923641,
          1.346355028489932,
          -0.6762454051862051,
          0.9031060789060906,
          1.1356794877473801,
          -0.40881973318811055,
          0.7063794517678516,
          -0.4152686536633678,
          -0.996637064263391,
          -0.05603719295495405,
          0.3267743031922197,
          -0.7097067062730879,
          0.4433270622616412,
          0.379617908590977,
          -0.43494427079199754,
          1.7809685905508235,
          1.6966147780256329,
          1.4906595522423403,
          0.4809146675204936,
          -1.3864972445511055,
          -0.6595869670593304,
          -0.5506363437289727,
          0.5980724890985413,
          -1.1521791912703487,
          -0.3175929792191654,
          -1.8718075854411518,
          -0.27684143268620376,
          -1.6259350828226837,
          1.2269730494900373,
          -0.048869330284592144,
          1.5957901102313448,
          -0.040539979809508665,
          1.3204254982305588,
          -0.035534127153365694,
          0.9671163301831622,
          0.5214914391803923,
          0.9508548035963178,
          0.05960270547188383,
          -0.01561286021245415
         ]
        },
        {
         "line": {
          "color": "rgba(55, 128, 191, 1.0)",
          "dash": "solid",
          "shape": "linear",
          "width": 1.3
         },
         "mode": "lines",
         "name": "B",
         "text": "",
         "type": "scatter",
         "x": [
          0,
          1,
          2,
          3,
          4,
          5,
          6,
          7,
          8,
          9,
          10,
          11,
          12,
          13,
          14,
          15,
          16,
          17,
          18,
          19,
          20,
          21,
          22,
          23,
          24,
          25,
          26,
          27,
          28,
          29,
          30,
          31,
          32,
          33,
          34,
          35,
          36,
          37,
          38,
          39,
          40,
          41,
          42,
          43,
          44,
          45,
          46,
          47,
          48,
          49,
          50,
          51,
          52,
          53,
          54,
          55,
          56,
          57,
          58,
          59,
          60,
          61,
          62,
          63,
          64,
          65,
          66,
          67,
          68,
          69,
          70,
          71,
          72,
          73,
          74,
          75,
          76,
          77,
          78,
          79,
          80,
          81,
          82,
          83,
          84,
          85,
          86,
          87,
          88,
          89,
          90,
          91,
          92,
          93,
          94,
          95,
          96,
          97,
          98,
          99
         ],
         "y": [
          0.5371406102484116,
          -0.7630355998932787,
          -2.4858162864857523,
          1.2592066808607159,
          0.9595436226520081,
          -0.8081156938171563,
          0.9958728377864831,
          -0.04591061914796954,
          0.6904010738181772,
          -0.5511142392207588,
          1.4402893831504124,
          0.35305376609086747,
          0.7972779169691322,
          0.34537746993804025,
          1.31874407327095,
          1.6969578374319672,
          -2.380558289248379,
          -0.42479170062544036,
          0.7611985790453921,
          -1.4523150254476245,
          0.587450547772239,
          0.15513270402904678,
          0.3816171930588017,
          -0.3485622560270526,
          -0.2233077072848466,
          -0.06657166845739156,
          -0.4699219481124245,
          1.2162365035510758,
          -0.08247111159833434,
          -0.26576094186048205,
          0.6287146222239482,
          0.5464995934949134,
          -1.0413503318774242,
          -0.6133269467314942,
          1.7897861110849156,
          -1.4636448182885142,
          -0.6082089722636107,
          -0.18944182747086188,
          1.1535409107981895,
          -0.2610438758985015,
          0.7607204950976051,
          0.8689659293485391,
          -1.0408678834637686,
          -1.8697259764998884,
          0.052957623660512085,
          -0.4752375307599897,
          -0.6894315405633875,
          0.20660004628802267,
          0.41587696940825136,
          0.11794519060016996,
          -0.5483109902790982,
          0.2204585387263463,
          -0.0814497894297341,
          -0.4261861035950627,
          -0.021917182184465037,
          0.35222734994579635,
          -0.24159158765078223,
          -1.245418117537442,
          1.0216068651998909,
          0.2639425680704423,
          0.9241230815489991,
          1.0987810469821897,
          -1.2581918632792053,
          -0.3047137245763503,
          0.60914107898099,
          -0.9152188042552775,
          -0.26765853410307033,
          -2.0075144589553195,
          0.8147844678127948,
          -0.13131685638323615,
          -1.311225180991742,
          -0.04852659651473337,
          -1.218931042803003,
          -1.024830966258147,
          0.12385012282058273,
          -0.20982791576190235,
          -0.24678271085565104,
          0.5154062122960229,
          0.1544833714506777,
          -0.41404378573783396,
          -1.2860894727014949,
          -1.437949062500608,
          2.4274363130615795,
          -0.4573332199984909,
          0.7826881088936185,
          -0.10934943159905164,
          -0.5949196074311865,
          0.03144939194326923,
          1.524309150436032,
          -0.23392802647924565,
          0.5361360451160111,
          -0.7495155351889765,
          -0.18096629842077092,
          1.558544319601368,
          1.7517499105114092,
          -0.39371248209055115,
          0.345362285426185,
          -0.7860338813922241,
          1.900836644872969,
          -0.6373552719220384
         ]
        },
        {
         "connectgaps": false,
         "fill": "tozeroy",
         "line": {
          "color": "green",
          "dash": "solid",
          "shape": "linear",
          "width": 0.5
         },
         "mode": "lines",
         "name": "Spread",
         "showlegend": false,
         "type": "scatter",
         "x": [
          0,
          1,
          2,
          3,
          4,
          5,
          6,
          7,
          8,
          9,
          10,
          11,
          12,
          13,
          14,
          15,
          16,
          17,
          18,
          19,
          20,
          21,
          22,
          23,
          24,
          25,
          26,
          27,
          28,
          29,
          30,
          31,
          32,
          33,
          34,
          35,
          36,
          37,
          38,
          39,
          40,
          41,
          42,
          43,
          44,
          45,
          46,
          47,
          48,
          49,
          50,
          51,
          52,
          53,
          54,
          55,
          56,
          57,
          58,
          59,
          60,
          61,
          62,
          63,
          64,
          65,
          66,
          67,
          68,
          69,
          70,
          71,
          72,
          73,
          74,
          75,
          76,
          77,
          78,
          79,
          80,
          81,
          82,
          83,
          84,
          85,
          86,
          87,
          88,
          89,
          90,
          91,
          92,
          93,
          94,
          95,
          96,
          97,
          98,
          99
         ],
         "xaxis": "x2",
         "y": [
          1.5319407070000253,
          "",
          2.802688882056503,
          "",
          "",
          2.3578977303328545,
          "",
          0.6156931965633317,
          "",
          "",
          "",
          "",
          "",
          0.08305925545938159,
          "",
          "",
          4.297200816398984,
          "",
          "",
          0.8936622814298156,
          "",
          0.2857747696121715,
          "",
          "",
          "",
          "",
          1.3084426068567399,
          0.1950186943583676,
          "",
          "",
          "",
          "",
          0.2781987961633964,
          "",
          "",
          2.338016510191215,
          1.9794527051607709,
          1.990948484294822,
          "",
          "",
          "",
          "",
          0.4688645484316254,
          4.002640165199667,
          "",
          1.0868433592890032,
          "",
          0.34503274460675015,
          "",
          "",
          1.0151594214497943,
          0.6228923130394031,
          0.19781154822668,
          0.9860227573997391,
          0.27105990912968675,
          "",
          "",
          "",
          "",
          1.4750513336929338,
          "",
          0.5846687345101744,
          2.6045468917691372,
          "",
          0.2939649999251006,
          2.0508982920026577,
          "",
          2.713893910723171,
          "",
          "",
          1.2551879880367878,
          0.375300899706953,
          0.5092243365299151,
          1.4681580285197882,
          0.2557677857703943,
          "",
          2.0277513014064743,
          1.18120856572961,
          1.3361761807916626,
          0.8949584532583276,
          "",
          0.7783620954412775,
          "",
          1.0554057090970321,
          "",
          "",
          "",
          "",
          "",
          1.4609010759692829,
          "",
          2.3453056454203214,
          0.14042631861126226,
          "",
          "",
          1.3608288122737133,
          0.1761291537542073,
          1.7368886849885419,
          "",
          0.6217424117095843
         ],
         "yaxis": "y2"
        },
        {
         "connectgaps": false,
         "fill": "tozeroy",
         "line": {
          "color": "red",
          "dash": "solid",
          "shape": "linear",
          "width": 0.5
         },
         "mode": "lines",
         "name": "Spread",
         "showlegend": false,
         "type": "scatter",
         "x": [
          0,
          1,
          2,
          3,
          4,
          5,
          6,
          7,
          8,
          9,
          10,
          11,
          12,
          13,
          14,
          15,
          16,
          17,
          18,
          19,
          20,
          21,
          22,
          23,
          24,
          25,
          26,
          27,
          28,
          29,
          30,
          31,
          32,
          33,
          34,
          35,
          36,
          37,
          38,
          39,
          40,
          41,
          42,
          43,
          44,
          45,
          46,
          47,
          48,
          49,
          50,
          51,
          52,
          53,
          54,
          55,
          56,
          57,
          58,
          59,
          60,
          61,
          62,
          63,
          64,
          65,
          66,
          67,
          68,
          69,
          70,
          71,
          72,
          73,
          74,
          75,
          76,
          77,
          78,
          79,
          80,
          81,
          82,
          83,
          84,
          85,
          86,
          87,
          88,
          89,
          90,
          91,
          92,
          93,
          94,
          95,
          96,
          97,
          98,
          99
         ],
         "xaxis": "x2",
         "y": [
          "",
          -1.1956632202084279,
          "",
          -0.9428133596815782,
          -1.12578305513474,
          "",
          -2.7256497292149664,
          "",
          -1.3936372103976433,
          -0.2757109268483904,
          -0.19357218751818595,
          -1.4288014147480852,
          -0.9632770919369082,
          "",
          -1.5755030671223338,
          -1.4710870459759495,
          "",
          -0.2154455202108666,
          -1.4473758312457208,
          "",
          -3.0929329573072994,
          "",
          -2.3717074532109548,
          -0.17247636426674529,
          -0.28476588506177947,
          -0.6952585366643247,
          "",
          "",
          -0.276520671294724,
          -0.4925941851600454,
          -0.448569585176709,
          -2.2153806230168773,
          "",
          -0.05698446661638645,
          -3.2308481879514845,
          "",
          "",
          "",
          -2.5329323284345278,
          -0.04973720621368355,
          -0.5453231245080549,
          -0.6079646561304204,
          "",
          "",
          -1.6844843072306643,
          "",
          -0.6861114358537694,
          "",
          -1.2450204922640156,
          -0.225356160125343,
          "",
          "",
          "",
          "",
          "",
          -0.4210737843736055,
          -0.16689424401995648,
          -0.15975448963680283,
          -1.3280630977399266,
          "",
          -1.9933717653042542,
          "",
          "",
          -0.3715316806098548,
          "",
          "",
          -0.1411611990850402,
          "",
          -1.2300531214761625,
          -0.865320207880155,
          "",
          "",
          "",
          "",
          "",
          -0.2251163550300952,
          "",
          "",
          "",
          "",
          -0.10040777184961058,
          "",
          -2.978072656790552,
          "",
          -1.9348673001639671,
          -0.20824354762011377,
          -1.2768879780099653,
          -0.308290824629473,
          -3.1502442332587157,
          "",
          -0.5850053754006033,
          "",
          "",
          -0.2381188213708092,
          -1.787284037664775,
          "",
          "",
          "",
          -1.8412339394010853,
          ""
         ],
         "yaxis": "y2"
        }
       ],
       "layout": {
        "hovermode": "x",
        "legend": {
         "bgcolor": "#F5F6F9",
         "font": {
          "color": "#4D5663"
         }
        },
        "paper_bgcolor": "#F5F6F9",
        "plot_bgcolor": "#F5F6F9",
        "template": {
         "data": {
          "bar": [
           {
            "error_x": {
             "color": "#2a3f5f"
            },
            "error_y": {
             "color": "#2a3f5f"
            },
            "marker": {
             "line": {
              "color": "#E5ECF6",
              "width": 0.5
             }
            },
            "type": "bar"
           }
          ],
          "barpolar": [
           {
            "marker": {
             "line": {
              "color": "#E5ECF6",
              "width": 0.5
             }
            },
            "type": "barpolar"
           }
          ],
          "carpet": [
           {
            "aaxis": {
             "endlinecolor": "#2a3f5f",
             "gridcolor": "white",
             "linecolor": "white",
             "minorgridcolor": "white",
             "startlinecolor": "#2a3f5f"
            },
            "baxis": {
             "endlinecolor": "#2a3f5f",
             "gridcolor": "white",
             "linecolor": "white",
             "minorgridcolor": "white",
             "startlinecolor": "#2a3f5f"
            },
            "type": "carpet"
           }
          ],
          "choropleth": [
           {
            "colorbar": {
             "outlinewidth": 0,
             "ticks": ""
            },
            "type": "choropleth"
           }
          ],
          "contour": [
           {
            "colorbar": {
             "outlinewidth": 0,
             "ticks": ""
            },
            "colorscale": [
             [
              0,
              "#0d0887"
             ],
             [
              0.1111111111111111,
              "#46039f"
             ],
             [
              0.2222222222222222,
              "#7201a8"
             ],
             [
              0.3333333333333333,
              "#9c179e"
             ],
             [
              0.4444444444444444,
              "#bd3786"
             ],
             [
              0.5555555555555556,
              "#d8576b"
             ],
             [
              0.6666666666666666,
              "#ed7953"
             ],
             [
              0.7777777777777778,
              "#fb9f3a"
             ],
             [
              0.8888888888888888,
              "#fdca26"
             ],
             [
              1,
              "#f0f921"
             ]
            ],
            "type": "contour"
           }
          ],
          "contourcarpet": [
           {
            "colorbar": {
             "outlinewidth": 0,
             "ticks": ""
            },
            "type": "contourcarpet"
           }
          ],
          "heatmap": [
           {
            "colorbar": {
             "outlinewidth": 0,
             "ticks": ""
            },
            "colorscale": [
             [
              0,
              "#0d0887"
             ],
             [
              0.1111111111111111,
              "#46039f"
             ],
             [
              0.2222222222222222,
              "#7201a8"
             ],
             [
              0.3333333333333333,
              "#9c179e"
             ],
             [
              0.4444444444444444,
              "#bd3786"
             ],
             [
              0.5555555555555556,
              "#d8576b"
             ],
             [
              0.6666666666666666,
              "#ed7953"
             ],
             [
              0.7777777777777778,
              "#fb9f3a"
             ],
             [
              0.8888888888888888,
              "#fdca26"
             ],
             [
              1,
              "#f0f921"
             ]
            ],
            "type": "heatmap"
           }
          ],
          "heatmapgl": [
           {
            "colorbar": {
             "outlinewidth": 0,
             "ticks": ""
            },
            "colorscale": [
             [
              0,
              "#0d0887"
             ],
             [
              0.1111111111111111,
              "#46039f"
             ],
             [
              0.2222222222222222,
              "#7201a8"
             ],
             [
              0.3333333333333333,
              "#9c179e"
             ],
             [
              0.4444444444444444,
              "#bd3786"
             ],
             [
              0.5555555555555556,
              "#d8576b"
             ],
             [
              0.6666666666666666,
              "#ed7953"
             ],
             [
              0.7777777777777778,
              "#fb9f3a"
             ],
             [
              0.8888888888888888,
              "#fdca26"
             ],
             [
              1,
              "#f0f921"
             ]
            ],
            "type": "heatmapgl"
           }
          ],
          "histogram": [
           {
            "marker": {
             "colorbar": {
              "outlinewidth": 0,
              "ticks": ""
             }
            },
            "type": "histogram"
           }
          ],
          "histogram2d": [
           {
            "colorbar": {
             "outlinewidth": 0,
             "ticks": ""
            },
            "colorscale": [
             [
              0,
              "#0d0887"
             ],
             [
              0.1111111111111111,
              "#46039f"
             ],
             [
              0.2222222222222222,
              "#7201a8"
             ],
             [
              0.3333333333333333,
              "#9c179e"
             ],
             [
              0.4444444444444444,
              "#bd3786"
             ],
             [
              0.5555555555555556,
              "#d8576b"
             ],
             [
              0.6666666666666666,
              "#ed7953"
             ],
             [
              0.7777777777777778,
              "#fb9f3a"
             ],
             [
              0.8888888888888888,
              "#fdca26"
             ],
             [
              1,
              "#f0f921"
             ]
            ],
            "type": "histogram2d"
           }
          ],
          "histogram2dcontour": [
           {
            "colorbar": {
             "outlinewidth": 0,
             "ticks": ""
            },
            "colorscale": [
             [
              0,
              "#0d0887"
             ],
             [
              0.1111111111111111,
              "#46039f"
             ],
             [
              0.2222222222222222,
              "#7201a8"
             ],
             [
              0.3333333333333333,
              "#9c179e"
             ],
             [
              0.4444444444444444,
              "#bd3786"
             ],
             [
              0.5555555555555556,
              "#d8576b"
             ],
             [
              0.6666666666666666,
              "#ed7953"
             ],
             [
              0.7777777777777778,
              "#fb9f3a"
             ],
             [
              0.8888888888888888,
              "#fdca26"
             ],
             [
              1,
              "#f0f921"
             ]
            ],
            "type": "histogram2dcontour"
           }
          ],
          "mesh3d": [
           {
            "colorbar": {
             "outlinewidth": 0,
             "ticks": ""
            },
            "type": "mesh3d"
           }
          ],
          "parcoords": [
           {
            "line": {
             "colorbar": {
              "outlinewidth": 0,
              "ticks": ""
             }
            },
            "type": "parcoords"
           }
          ],
          "scatter": [
           {
            "marker": {
             "colorbar": {
              "outlinewidth": 0,
              "ticks": ""
             }
            },
            "type": "scatter"
           }
          ],
          "scatter3d": [
           {
            "line": {
             "colorbar": {
              "outlinewidth": 0,
              "ticks": ""
             }
            },
            "marker": {
             "colorbar": {
              "outlinewidth": 0,
              "ticks": ""
             }
            },
            "type": "scatter3d"
           }
          ],
          "scattercarpet": [
           {
            "marker": {
             "colorbar": {
              "outlinewidth": 0,
              "ticks": ""
             }
            },
            "type": "scattercarpet"
           }
          ],
          "scattergeo": [
           {
            "marker": {
             "colorbar": {
              "outlinewidth": 0,
              "ticks": ""
             }
            },
            "type": "scattergeo"
           }
          ],
          "scattergl": [
           {
            "marker": {
             "colorbar": {
              "outlinewidth": 0,
              "ticks": ""
             }
            },
            "type": "scattergl"
           }
          ],
          "scattermapbox": [
           {
            "marker": {
             "colorbar": {
              "outlinewidth": 0,
              "ticks": ""
             }
            },
            "type": "scattermapbox"
           }
          ],
          "scatterpolar": [
           {
            "marker": {
             "colorbar": {
              "outlinewidth": 0,
              "ticks": ""
             }
            },
            "type": "scatterpolar"
           }
          ],
          "scatterpolargl": [
           {
            "marker": {
             "colorbar": {
              "outlinewidth": 0,
              "ticks": ""
             }
            },
            "type": "scatterpolargl"
           }
          ],
          "scatterternary": [
           {
            "marker": {
             "colorbar": {
              "outlinewidth": 0,
              "ticks": ""
             }
            },
            "type": "scatterternary"
           }
          ],
          "surface": [
           {
            "colorbar": {
             "outlinewidth": 0,
             "ticks": ""
            },
            "colorscale": [
             [
              0,
              "#0d0887"
             ],
             [
              0.1111111111111111,
              "#46039f"
             ],
             [
              0.2222222222222222,
              "#7201a8"
             ],
             [
              0.3333333333333333,
              "#9c179e"
             ],
             [
              0.4444444444444444,
              "#bd3786"
             ],
             [
              0.5555555555555556,
              "#d8576b"
             ],
             [
              0.6666666666666666,
              "#ed7953"
             ],
             [
              0.7777777777777778,
              "#fb9f3a"
             ],
             [
              0.8888888888888888,
              "#fdca26"
             ],
             [
              1,
              "#f0f921"
             ]
            ],
            "type": "surface"
           }
          ],
          "table": [
           {
            "cells": {
             "fill": {
              "color": "#EBF0F8"
             },
             "line": {
              "color": "white"
             }
            },
            "header": {
             "fill": {
              "color": "#C8D4E3"
             },
             "line": {
              "color": "white"
             }
            },
            "type": "table"
           }
          ]
         },
         "layout": {
          "annotationdefaults": {
           "arrowcolor": "#2a3f5f",
           "arrowhead": 0,
           "arrowwidth": 1
          },
          "colorscale": {
           "diverging": [
            [
             0,
             "#8e0152"
            ],
            [
             0.1,
             "#c51b7d"
            ],
            [
             0.2,
             "#de77ae"
            ],
            [
             0.3,
             "#f1b6da"
            ],
            [
             0.4,
             "#fde0ef"
            ],
            [
             0.5,
             "#f7f7f7"
            ],
            [
             0.6,
             "#e6f5d0"
            ],
            [
             0.7,
             "#b8e186"
            ],
            [
             0.8,
             "#7fbc41"
            ],
            [
             0.9,
             "#4d9221"
            ],
            [
             1,
             "#276419"
            ]
           ],
           "sequential": [
            [
             0,
             "#0d0887"
            ],
            [
             0.1111111111111111,
             "#46039f"
            ],
            [
             0.2222222222222222,
             "#7201a8"
            ],
            [
             0.3333333333333333,
             "#9c179e"
            ],
            [
             0.4444444444444444,
             "#bd3786"
            ],
            [
             0.5555555555555556,
             "#d8576b"
            ],
            [
             0.6666666666666666,
             "#ed7953"
            ],
            [
             0.7777777777777778,
             "#fb9f3a"
            ],
            [
             0.8888888888888888,
             "#fdca26"
            ],
            [
             1,
             "#f0f921"
            ]
           ],
           "sequentialminus": [
            [
             0,
             "#0d0887"
            ],
            [
             0.1111111111111111,
             "#46039f"
            ],
            [
             0.2222222222222222,
             "#7201a8"
            ],
            [
             0.3333333333333333,
             "#9c179e"
            ],
            [
             0.4444444444444444,
             "#bd3786"
            ],
            [
             0.5555555555555556,
             "#d8576b"
            ],
            [
             0.6666666666666666,
             "#ed7953"
            ],
            [
             0.7777777777777778,
             "#fb9f3a"
            ],
            [
             0.8888888888888888,
             "#fdca26"
            ],
            [
             1,
             "#f0f921"
            ]
           ]
          },
          "colorway": [
           "#636efa",
           "#EF553B",
           "#00cc96",
           "#ab63fa",
           "#FFA15A",
           "#19d3f3",
           "#FF6692",
           "#B6E880",
           "#FF97FF",
           "#FECB52"
          ],
          "font": {
           "color": "#2a3f5f"
          },
          "geo": {
           "bgcolor": "white",
           "lakecolor": "white",
           "landcolor": "#E5ECF6",
           "showlakes": true,
           "showland": true,
           "subunitcolor": "white"
          },
          "hoverlabel": {
           "align": "left"
          },
          "hovermode": "closest",
          "mapbox": {
           "style": "light"
          },
          "paper_bgcolor": "white",
          "plot_bgcolor": "#E5ECF6",
          "polar": {
           "angularaxis": {
            "gridcolor": "white",
            "linecolor": "white",
            "ticks": ""
           },
           "bgcolor": "#E5ECF6",
           "radialaxis": {
            "gridcolor": "white",
            "linecolor": "white",
            "ticks": ""
           }
          },
          "scene": {
           "xaxis": {
            "backgroundcolor": "#E5ECF6",
            "gridcolor": "white",
            "gridwidth": 2,
            "linecolor": "white",
            "showbackground": true,
            "ticks": "",
            "zerolinecolor": "white"
           },
           "yaxis": {
            "backgroundcolor": "#E5ECF6",
            "gridcolor": "white",
            "gridwidth": 2,
            "linecolor": "white",
            "showbackground": true,
            "ticks": "",
            "zerolinecolor": "white"
           },
           "zaxis": {
            "backgroundcolor": "#E5ECF6",
            "gridcolor": "white",
            "gridwidth": 2,
            "linecolor": "white",
            "showbackground": true,
            "ticks": "",
            "zerolinecolor": "white"
           }
          },
          "shapedefaults": {
           "line": {
            "color": "#2a3f5f"
           }
          },
          "ternary": {
           "aaxis": {
            "gridcolor": "white",
            "linecolor": "white",
            "ticks": ""
           },
           "baxis": {
            "gridcolor": "white",
            "linecolor": "white",
            "ticks": ""
           },
           "bgcolor": "#E5ECF6",
           "caxis": {
            "gridcolor": "white",
            "linecolor": "white",
            "ticks": ""
           }
          },
          "title": {
           "x": 0.05
          },
          "xaxis": {
           "automargin": true,
           "gridcolor": "white",
           "linecolor": "white",
           "ticks": "",
           "zerolinecolor": "white",
           "zerolinewidth": 2
          },
          "yaxis": {
           "automargin": true,
           "gridcolor": "white",
           "linecolor": "white",
           "ticks": "",
           "zerolinecolor": "white",
           "zerolinewidth": 2
          }
         }
        },
        "title": {
         "font": {
          "color": "#4D5663"
         }
        },
        "xaxis": {
         "gridcolor": "#E1E5ED",
         "showgrid": true,
         "tickfont": {
          "color": "#4D5663"
         },
         "title": {
          "font": {
           "color": "#4D5663"
          },
          "text": ""
         },
         "zerolinecolor": "#E1E5ED"
        },
        "xaxis2": {
         "anchor": "y2",
         "gridcolor": "#E1E5ED",
         "showgrid": true,
         "showticklabels": false,
         "tickfont": {
          "color": "#4D5663"
         },
         "title": {
          "font": {
           "color": "#4D5663"
          },
          "text": ""
         },
         "zerolinecolor": "#E1E5ED"
        },
        "yaxis": {
         "domain": [
          0.3,
          1
         ],
         "gridcolor": "#E1E5ED",
         "showgrid": true,
         "tickfont": {
          "color": "#4D5663"
         },
         "title": {
          "font": {
           "color": "#4D5663"
          },
          "text": ""
         },
         "zerolinecolor": "#E1E5ED"
        },
        "yaxis2": {
         "domain": [
          0,
          0.25
         ],
         "gridcolor": "#E1E5ED",
         "showgrid": true,
         "tickfont": {
          "color": "#4D5663"
         },
         "title": {
          "font": {
           "color": "#4D5663"
          },
          "text": "Spread"
         },
         "zerolinecolor": "#E1E5ED"
        }
       }
      },
      "text/html": [
       "<div>\n",
       "        \n",
       "        \n",
       "            <div id=\"7105b88c-7d39-4023-9c61-86143d07a1e3\" class=\"plotly-graph-div\" style=\"height:525px; width:100%;\"></div>\n",
       "            <script type=\"text/javascript\">\n",
       "                require([\"plotly\"], function(Plotly) {\n",
       "                    window.PLOTLYENV=window.PLOTLYENV || {};\n",
       "                    window.PLOTLYENV.BASE_URL='https://plot.ly';\n",
       "                    \n",
       "                if (document.getElementById(\"7105b88c-7d39-4023-9c61-86143d07a1e3\")) {\n",
       "                    Plotly.newPlot(\n",
       "                        '7105b88c-7d39-4023-9c61-86143d07a1e3',\n",
       "                        [{\"line\": {\"color\": \"rgba(255, 153, 51, 1.0)\", \"dash\": \"solid\", \"shape\": \"linear\", \"width\": 1.3}, \"mode\": \"lines\", \"name\": \"A\", \"text\": \"\", \"type\": \"scatter\", \"x\": [0, 1, 2, 3, 4, 5, 6, 7, 8, 9, 10, 11, 12, 13, 14, 15, 16, 17, 18, 19, 20, 21, 22, 23, 24, 25, 26, 27, 28, 29, 30, 31, 32, 33, 34, 35, 36, 37, 38, 39, 40, 41, 42, 43, 44, 45, 46, 47, 48, 49, 50, 51, 52, 53, 54, 55, 56, 57, 58, 59, 60, 61, 62, 63, 64, 65, 66, 67, 68, 69, 70, 71, 72, 73, 74, 75, 76, 77, 78, 79, 80, 81, 82, 83, 84, 85, 86, 87, 88, 89, 90, 91, 92, 93, 94, 95, 96, 97, 98, 99], \"y\": [2.069081317248437, -1.9586988201017066, 0.31687259557075065, 0.3163933211791377, -0.16623943248273207, 1.5497820365156982, -1.7297768914284835, 0.5697825774153621, -0.7032361365794662, -0.8268251660691491, 1.2467171956322265, -1.0757476486572177, -0.165999174967776, 0.42843672539742184, -0.25675899385138395, 0.22587079145601774, 1.9166425271506045, -0.640237220836307, -0.6861772522003287, -0.5586527440178088, -2.5054824095350603, 0.4409074736412183, -1.9900902601521533, -0.5210386202937979, -0.5080735923466261, -0.7618302051217163, 0.8385206587443153, 1.4112551979094434, -0.35899178289305833, -0.7583551270205274, 0.1801450370472393, -1.668881029521964, -0.7631515357140278, -0.6703114133478807, -1.4410620768665687, 0.8743716919027011, 1.3712437328971603, 1.8015066568239602, -1.3793914176363382, -0.310781082112185, 0.21539737058955025, 0.26100127321811867, -0.5720033350321432, 2.132914188699778, -1.6315266835701523, 0.6116058285290135, -1.375542976417157, 0.5516327908947728, -0.8291435228557643, -0.10741096952517305, 0.466848431170696, 0.8433508517657493, 0.11636175879694592, 0.5598366538046764, 0.24914272694522172, -0.06884643442780915, -0.4084858316707387, -1.4051726071742447, -0.30645623254003573, 1.7389939017633762, -1.069248683755255, 1.6834497814923641, 1.346355028489932, -0.6762454051862051, 0.9031060789060906, 1.1356794877473801, -0.40881973318811055, 0.7063794517678516, -0.4152686536633678, -0.996637064263391, -0.05603719295495405, 0.3267743031922197, -0.7097067062730879, 0.4433270622616412, 0.379617908590977, -0.43494427079199754, 1.7809685905508235, 1.6966147780256329, 1.4906595522423403, 0.4809146675204936, -1.3864972445511055, -0.6595869670593304, -0.5506363437289727, 0.5980724890985413, -1.1521791912703487, -0.3175929792191654, -1.8718075854411518, -0.27684143268620376, -1.6259350828226837, 1.2269730494900373, -0.048869330284592144, 1.5957901102313448, -0.040539979809508665, 1.3204254982305588, -0.035534127153365694, 0.9671163301831622, 0.5214914391803923, 0.9508548035963178, 0.05960270547188383, -0.01561286021245415]}, {\"line\": {\"color\": \"rgba(55, 128, 191, 1.0)\", \"dash\": \"solid\", \"shape\": \"linear\", \"width\": 1.3}, \"mode\": \"lines\", \"name\": \"B\", \"text\": \"\", \"type\": \"scatter\", \"x\": [0, 1, 2, 3, 4, 5, 6, 7, 8, 9, 10, 11, 12, 13, 14, 15, 16, 17, 18, 19, 20, 21, 22, 23, 24, 25, 26, 27, 28, 29, 30, 31, 32, 33, 34, 35, 36, 37, 38, 39, 40, 41, 42, 43, 44, 45, 46, 47, 48, 49, 50, 51, 52, 53, 54, 55, 56, 57, 58, 59, 60, 61, 62, 63, 64, 65, 66, 67, 68, 69, 70, 71, 72, 73, 74, 75, 76, 77, 78, 79, 80, 81, 82, 83, 84, 85, 86, 87, 88, 89, 90, 91, 92, 93, 94, 95, 96, 97, 98, 99], \"y\": [0.5371406102484116, -0.7630355998932787, -2.4858162864857523, 1.2592066808607159, 0.9595436226520081, -0.8081156938171563, 0.9958728377864831, -0.04591061914796954, 0.6904010738181772, -0.5511142392207588, 1.4402893831504124, 0.35305376609086747, 0.7972779169691322, 0.34537746993804025, 1.31874407327095, 1.6969578374319672, -2.380558289248379, -0.42479170062544036, 0.7611985790453921, -1.4523150254476245, 0.587450547772239, 0.15513270402904678, 0.3816171930588017, -0.3485622560270526, -0.2233077072848466, -0.06657166845739156, -0.4699219481124245, 1.2162365035510758, -0.08247111159833434, -0.26576094186048205, 0.6287146222239482, 0.5464995934949134, -1.0413503318774242, -0.6133269467314942, 1.7897861110849156, -1.4636448182885142, -0.6082089722636107, -0.18944182747086188, 1.1535409107981895, -0.2610438758985015, 0.7607204950976051, 0.8689659293485391, -1.0408678834637686, -1.8697259764998884, 0.052957623660512085, -0.4752375307599897, -0.6894315405633875, 0.20660004628802267, 0.41587696940825136, 0.11794519060016996, -0.5483109902790982, 0.2204585387263463, -0.0814497894297341, -0.4261861035950627, -0.021917182184465037, 0.35222734994579635, -0.24159158765078223, -1.245418117537442, 1.0216068651998909, 0.2639425680704423, 0.9241230815489991, 1.0987810469821897, -1.2581918632792053, -0.3047137245763503, 0.60914107898099, -0.9152188042552775, -0.26765853410307033, -2.0075144589553195, 0.8147844678127948, -0.13131685638323615, -1.311225180991742, -0.04852659651473337, -1.218931042803003, -1.024830966258147, 0.12385012282058273, -0.20982791576190235, -0.24678271085565104, 0.5154062122960229, 0.1544833714506777, -0.41404378573783396, -1.2860894727014949, -1.437949062500608, 2.4274363130615795, -0.4573332199984909, 0.7826881088936185, -0.10934943159905164, -0.5949196074311865, 0.03144939194326923, 1.524309150436032, -0.23392802647924565, 0.5361360451160111, -0.7495155351889765, -0.18096629842077092, 1.558544319601368, 1.7517499105114092, -0.39371248209055115, 0.345362285426185, -0.7860338813922241, 1.900836644872969, -0.6373552719220384]}, {\"connectgaps\": false, \"fill\": \"tozeroy\", \"line\": {\"color\": \"green\", \"dash\": \"solid\", \"shape\": \"linear\", \"width\": 0.5}, \"mode\": \"lines\", \"name\": \"Spread\", \"showlegend\": false, \"type\": \"scatter\", \"x\": [0, 1, 2, 3, 4, 5, 6, 7, 8, 9, 10, 11, 12, 13, 14, 15, 16, 17, 18, 19, 20, 21, 22, 23, 24, 25, 26, 27, 28, 29, 30, 31, 32, 33, 34, 35, 36, 37, 38, 39, 40, 41, 42, 43, 44, 45, 46, 47, 48, 49, 50, 51, 52, 53, 54, 55, 56, 57, 58, 59, 60, 61, 62, 63, 64, 65, 66, 67, 68, 69, 70, 71, 72, 73, 74, 75, 76, 77, 78, 79, 80, 81, 82, 83, 84, 85, 86, 87, 88, 89, 90, 91, 92, 93, 94, 95, 96, 97, 98, 99], \"xaxis\": \"x2\", \"y\": [1.5319407070000253, \"\", 2.802688882056503, \"\", \"\", 2.3578977303328545, \"\", 0.6156931965633317, \"\", \"\", \"\", \"\", \"\", 0.08305925545938159, \"\", \"\", 4.297200816398984, \"\", \"\", 0.8936622814298156, \"\", 0.2857747696121715, \"\", \"\", \"\", \"\", 1.3084426068567399, 0.1950186943583676, \"\", \"\", \"\", \"\", 0.2781987961633964, \"\", \"\", 2.338016510191215, 1.9794527051607709, 1.990948484294822, \"\", \"\", \"\", \"\", 0.4688645484316254, 4.002640165199667, \"\", 1.0868433592890032, \"\", 0.34503274460675015, \"\", \"\", 1.0151594214497943, 0.6228923130394031, 0.19781154822668, 0.9860227573997391, 0.27105990912968675, \"\", \"\", \"\", \"\", 1.4750513336929338, \"\", 0.5846687345101744, 2.6045468917691372, \"\", 0.2939649999251006, 2.0508982920026577, \"\", 2.713893910723171, \"\", \"\", 1.2551879880367878, 0.375300899706953, 0.5092243365299151, 1.4681580285197882, 0.2557677857703943, \"\", 2.0277513014064743, 1.18120856572961, 1.3361761807916626, 0.8949584532583276, \"\", 0.7783620954412775, \"\", 1.0554057090970321, \"\", \"\", \"\", \"\", \"\", 1.4609010759692829, \"\", 2.3453056454203214, 0.14042631861126226, \"\", \"\", 1.3608288122737133, 0.1761291537542073, 1.7368886849885419, \"\", 0.6217424117095843], \"yaxis\": \"y2\"}, {\"connectgaps\": false, \"fill\": \"tozeroy\", \"line\": {\"color\": \"red\", \"dash\": \"solid\", \"shape\": \"linear\", \"width\": 0.5}, \"mode\": \"lines\", \"name\": \"Spread\", \"showlegend\": false, \"type\": \"scatter\", \"x\": [0, 1, 2, 3, 4, 5, 6, 7, 8, 9, 10, 11, 12, 13, 14, 15, 16, 17, 18, 19, 20, 21, 22, 23, 24, 25, 26, 27, 28, 29, 30, 31, 32, 33, 34, 35, 36, 37, 38, 39, 40, 41, 42, 43, 44, 45, 46, 47, 48, 49, 50, 51, 52, 53, 54, 55, 56, 57, 58, 59, 60, 61, 62, 63, 64, 65, 66, 67, 68, 69, 70, 71, 72, 73, 74, 75, 76, 77, 78, 79, 80, 81, 82, 83, 84, 85, 86, 87, 88, 89, 90, 91, 92, 93, 94, 95, 96, 97, 98, 99], \"xaxis\": \"x2\", \"y\": [\"\", -1.1956632202084279, \"\", -0.9428133596815782, -1.12578305513474, \"\", -2.7256497292149664, \"\", -1.3936372103976433, -0.2757109268483904, -0.19357218751818595, -1.4288014147480852, -0.9632770919369082, \"\", -1.5755030671223338, -1.4710870459759495, \"\", -0.2154455202108666, -1.4473758312457208, \"\", -3.0929329573072994, \"\", -2.3717074532109548, -0.17247636426674529, -0.28476588506177947, -0.6952585366643247, \"\", \"\", -0.276520671294724, -0.4925941851600454, -0.448569585176709, -2.2153806230168773, \"\", -0.05698446661638645, -3.2308481879514845, \"\", \"\", \"\", -2.5329323284345278, -0.04973720621368355, -0.5453231245080549, -0.6079646561304204, \"\", \"\", -1.6844843072306643, \"\", -0.6861114358537694, \"\", -1.2450204922640156, -0.225356160125343, \"\", \"\", \"\", \"\", \"\", -0.4210737843736055, -0.16689424401995648, -0.15975448963680283, -1.3280630977399266, \"\", -1.9933717653042542, \"\", \"\", -0.3715316806098548, \"\", \"\", -0.1411611990850402, \"\", -1.2300531214761625, -0.865320207880155, \"\", \"\", \"\", \"\", \"\", -0.2251163550300952, \"\", \"\", \"\", \"\", -0.10040777184961058, \"\", -2.978072656790552, \"\", -1.9348673001639671, -0.20824354762011377, -1.2768879780099653, -0.308290824629473, -3.1502442332587157, \"\", -0.5850053754006033, \"\", \"\", -0.2381188213708092, -1.787284037664775, \"\", \"\", \"\", -1.8412339394010853, \"\"], \"yaxis\": \"y2\"}],\n",
       "                        {\"hovermode\": \"x\", \"legend\": {\"bgcolor\": \"#F5F6F9\", \"font\": {\"color\": \"#4D5663\"}}, \"paper_bgcolor\": \"#F5F6F9\", \"plot_bgcolor\": \"#F5F6F9\", \"template\": {\"data\": {\"bar\": [{\"error_x\": {\"color\": \"#2a3f5f\"}, \"error_y\": {\"color\": \"#2a3f5f\"}, \"marker\": {\"line\": {\"color\": \"#E5ECF6\", \"width\": 0.5}}, \"type\": \"bar\"}], \"barpolar\": [{\"marker\": {\"line\": {\"color\": \"#E5ECF6\", \"width\": 0.5}}, \"type\": \"barpolar\"}], \"carpet\": [{\"aaxis\": {\"endlinecolor\": \"#2a3f5f\", \"gridcolor\": \"white\", \"linecolor\": \"white\", \"minorgridcolor\": \"white\", \"startlinecolor\": \"#2a3f5f\"}, \"baxis\": {\"endlinecolor\": \"#2a3f5f\", \"gridcolor\": \"white\", \"linecolor\": \"white\", \"minorgridcolor\": \"white\", \"startlinecolor\": \"#2a3f5f\"}, \"type\": \"carpet\"}], \"choropleth\": [{\"colorbar\": {\"outlinewidth\": 0, \"ticks\": \"\"}, \"type\": \"choropleth\"}], \"contour\": [{\"colorbar\": {\"outlinewidth\": 0, \"ticks\": \"\"}, \"colorscale\": [[0.0, \"#0d0887\"], [0.1111111111111111, \"#46039f\"], [0.2222222222222222, \"#7201a8\"], [0.3333333333333333, \"#9c179e\"], [0.4444444444444444, \"#bd3786\"], [0.5555555555555556, \"#d8576b\"], [0.6666666666666666, \"#ed7953\"], [0.7777777777777778, \"#fb9f3a\"], [0.8888888888888888, \"#fdca26\"], [1.0, \"#f0f921\"]], \"type\": \"contour\"}], \"contourcarpet\": [{\"colorbar\": {\"outlinewidth\": 0, \"ticks\": \"\"}, \"type\": \"contourcarpet\"}], \"heatmap\": [{\"colorbar\": {\"outlinewidth\": 0, \"ticks\": \"\"}, \"colorscale\": [[0.0, \"#0d0887\"], [0.1111111111111111, \"#46039f\"], [0.2222222222222222, \"#7201a8\"], [0.3333333333333333, \"#9c179e\"], [0.4444444444444444, \"#bd3786\"], [0.5555555555555556, \"#d8576b\"], [0.6666666666666666, \"#ed7953\"], [0.7777777777777778, \"#fb9f3a\"], [0.8888888888888888, \"#fdca26\"], [1.0, \"#f0f921\"]], \"type\": \"heatmap\"}], \"heatmapgl\": [{\"colorbar\": {\"outlinewidth\": 0, \"ticks\": \"\"}, \"colorscale\": [[0.0, \"#0d0887\"], [0.1111111111111111, \"#46039f\"], [0.2222222222222222, \"#7201a8\"], [0.3333333333333333, \"#9c179e\"], [0.4444444444444444, \"#bd3786\"], [0.5555555555555556, \"#d8576b\"], [0.6666666666666666, \"#ed7953\"], [0.7777777777777778, \"#fb9f3a\"], [0.8888888888888888, \"#fdca26\"], [1.0, \"#f0f921\"]], \"type\": \"heatmapgl\"}], \"histogram\": [{\"marker\": {\"colorbar\": {\"outlinewidth\": 0, \"ticks\": \"\"}}, \"type\": \"histogram\"}], \"histogram2d\": [{\"colorbar\": {\"outlinewidth\": 0, \"ticks\": \"\"}, \"colorscale\": [[0.0, \"#0d0887\"], [0.1111111111111111, \"#46039f\"], [0.2222222222222222, \"#7201a8\"], [0.3333333333333333, \"#9c179e\"], [0.4444444444444444, \"#bd3786\"], [0.5555555555555556, \"#d8576b\"], [0.6666666666666666, \"#ed7953\"], [0.7777777777777778, \"#fb9f3a\"], [0.8888888888888888, \"#fdca26\"], [1.0, \"#f0f921\"]], \"type\": \"histogram2d\"}], \"histogram2dcontour\": [{\"colorbar\": {\"outlinewidth\": 0, \"ticks\": \"\"}, \"colorscale\": [[0.0, \"#0d0887\"], [0.1111111111111111, \"#46039f\"], [0.2222222222222222, \"#7201a8\"], [0.3333333333333333, \"#9c179e\"], [0.4444444444444444, \"#bd3786\"], [0.5555555555555556, \"#d8576b\"], [0.6666666666666666, \"#ed7953\"], [0.7777777777777778, \"#fb9f3a\"], [0.8888888888888888, \"#fdca26\"], [1.0, \"#f0f921\"]], \"type\": \"histogram2dcontour\"}], \"mesh3d\": [{\"colorbar\": {\"outlinewidth\": 0, \"ticks\": \"\"}, \"type\": \"mesh3d\"}], \"parcoords\": [{\"line\": {\"colorbar\": {\"outlinewidth\": 0, \"ticks\": \"\"}}, \"type\": \"parcoords\"}], \"scatter\": [{\"marker\": {\"colorbar\": {\"outlinewidth\": 0, \"ticks\": \"\"}}, \"type\": \"scatter\"}], \"scatter3d\": [{\"line\": {\"colorbar\": {\"outlinewidth\": 0, \"ticks\": \"\"}}, \"marker\": {\"colorbar\": {\"outlinewidth\": 0, \"ticks\": \"\"}}, \"type\": \"scatter3d\"}], \"scattercarpet\": [{\"marker\": {\"colorbar\": {\"outlinewidth\": 0, \"ticks\": \"\"}}, \"type\": \"scattercarpet\"}], \"scattergeo\": [{\"marker\": {\"colorbar\": {\"outlinewidth\": 0, \"ticks\": \"\"}}, \"type\": \"scattergeo\"}], \"scattergl\": [{\"marker\": {\"colorbar\": {\"outlinewidth\": 0, \"ticks\": \"\"}}, \"type\": \"scattergl\"}], \"scattermapbox\": [{\"marker\": {\"colorbar\": {\"outlinewidth\": 0, \"ticks\": \"\"}}, \"type\": \"scattermapbox\"}], \"scatterpolar\": [{\"marker\": {\"colorbar\": {\"outlinewidth\": 0, \"ticks\": \"\"}}, \"type\": \"scatterpolar\"}], \"scatterpolargl\": [{\"marker\": {\"colorbar\": {\"outlinewidth\": 0, \"ticks\": \"\"}}, \"type\": \"scatterpolargl\"}], \"scatterternary\": [{\"marker\": {\"colorbar\": {\"outlinewidth\": 0, \"ticks\": \"\"}}, \"type\": \"scatterternary\"}], \"surface\": [{\"colorbar\": {\"outlinewidth\": 0, \"ticks\": \"\"}, \"colorscale\": [[0.0, \"#0d0887\"], [0.1111111111111111, \"#46039f\"], [0.2222222222222222, \"#7201a8\"], [0.3333333333333333, \"#9c179e\"], [0.4444444444444444, \"#bd3786\"], [0.5555555555555556, \"#d8576b\"], [0.6666666666666666, \"#ed7953\"], [0.7777777777777778, \"#fb9f3a\"], [0.8888888888888888, \"#fdca26\"], [1.0, \"#f0f921\"]], \"type\": \"surface\"}], \"table\": [{\"cells\": {\"fill\": {\"color\": \"#EBF0F8\"}, \"line\": {\"color\": \"white\"}}, \"header\": {\"fill\": {\"color\": \"#C8D4E3\"}, \"line\": {\"color\": \"white\"}}, \"type\": \"table\"}]}, \"layout\": {\"annotationdefaults\": {\"arrowcolor\": \"#2a3f5f\", \"arrowhead\": 0, \"arrowwidth\": 1}, \"colorscale\": {\"diverging\": [[0, \"#8e0152\"], [0.1, \"#c51b7d\"], [0.2, \"#de77ae\"], [0.3, \"#f1b6da\"], [0.4, \"#fde0ef\"], [0.5, \"#f7f7f7\"], [0.6, \"#e6f5d0\"], [0.7, \"#b8e186\"], [0.8, \"#7fbc41\"], [0.9, \"#4d9221\"], [1, \"#276419\"]], \"sequential\": [[0.0, \"#0d0887\"], [0.1111111111111111, \"#46039f\"], [0.2222222222222222, \"#7201a8\"], [0.3333333333333333, \"#9c179e\"], [0.4444444444444444, \"#bd3786\"], [0.5555555555555556, \"#d8576b\"], [0.6666666666666666, \"#ed7953\"], [0.7777777777777778, \"#fb9f3a\"], [0.8888888888888888, \"#fdca26\"], [1.0, \"#f0f921\"]], \"sequentialminus\": [[0.0, \"#0d0887\"], [0.1111111111111111, \"#46039f\"], [0.2222222222222222, \"#7201a8\"], [0.3333333333333333, \"#9c179e\"], [0.4444444444444444, \"#bd3786\"], [0.5555555555555556, \"#d8576b\"], [0.6666666666666666, \"#ed7953\"], [0.7777777777777778, \"#fb9f3a\"], [0.8888888888888888, \"#fdca26\"], [1.0, \"#f0f921\"]]}, \"colorway\": [\"#636efa\", \"#EF553B\", \"#00cc96\", \"#ab63fa\", \"#FFA15A\", \"#19d3f3\", \"#FF6692\", \"#B6E880\", \"#FF97FF\", \"#FECB52\"], \"font\": {\"color\": \"#2a3f5f\"}, \"geo\": {\"bgcolor\": \"white\", \"lakecolor\": \"white\", \"landcolor\": \"#E5ECF6\", \"showlakes\": true, \"showland\": true, \"subunitcolor\": \"white\"}, \"hoverlabel\": {\"align\": \"left\"}, \"hovermode\": \"closest\", \"mapbox\": {\"style\": \"light\"}, \"paper_bgcolor\": \"white\", \"plot_bgcolor\": \"#E5ECF6\", \"polar\": {\"angularaxis\": {\"gridcolor\": \"white\", \"linecolor\": \"white\", \"ticks\": \"\"}, \"bgcolor\": \"#E5ECF6\", \"radialaxis\": {\"gridcolor\": \"white\", \"linecolor\": \"white\", \"ticks\": \"\"}}, \"scene\": {\"xaxis\": {\"backgroundcolor\": \"#E5ECF6\", \"gridcolor\": \"white\", \"gridwidth\": 2, \"linecolor\": \"white\", \"showbackground\": true, \"ticks\": \"\", \"zerolinecolor\": \"white\"}, \"yaxis\": {\"backgroundcolor\": \"#E5ECF6\", \"gridcolor\": \"white\", \"gridwidth\": 2, \"linecolor\": \"white\", \"showbackground\": true, \"ticks\": \"\", \"zerolinecolor\": \"white\"}, \"zaxis\": {\"backgroundcolor\": \"#E5ECF6\", \"gridcolor\": \"white\", \"gridwidth\": 2, \"linecolor\": \"white\", \"showbackground\": true, \"ticks\": \"\", \"zerolinecolor\": \"white\"}}, \"shapedefaults\": {\"line\": {\"color\": \"#2a3f5f\"}}, \"ternary\": {\"aaxis\": {\"gridcolor\": \"white\", \"linecolor\": \"white\", \"ticks\": \"\"}, \"baxis\": {\"gridcolor\": \"white\", \"linecolor\": \"white\", \"ticks\": \"\"}, \"bgcolor\": \"#E5ECF6\", \"caxis\": {\"gridcolor\": \"white\", \"linecolor\": \"white\", \"ticks\": \"\"}}, \"title\": {\"x\": 0.05}, \"xaxis\": {\"automargin\": true, \"gridcolor\": \"white\", \"linecolor\": \"white\", \"ticks\": \"\", \"zerolinecolor\": \"white\", \"zerolinewidth\": 2}, \"yaxis\": {\"automargin\": true, \"gridcolor\": \"white\", \"linecolor\": \"white\", \"ticks\": \"\", \"zerolinecolor\": \"white\", \"zerolinewidth\": 2}}}, \"title\": {\"font\": {\"color\": \"#4D5663\"}}, \"xaxis\": {\"gridcolor\": \"#E1E5ED\", \"showgrid\": true, \"tickfont\": {\"color\": \"#4D5663\"}, \"title\": {\"font\": {\"color\": \"#4D5663\"}, \"text\": \"\"}, \"zerolinecolor\": \"#E1E5ED\"}, \"xaxis2\": {\"anchor\": \"y2\", \"gridcolor\": \"#E1E5ED\", \"showgrid\": true, \"showticklabels\": false, \"tickfont\": {\"color\": \"#4D5663\"}, \"title\": {\"font\": {\"color\": \"#4D5663\"}, \"text\": \"\"}, \"zerolinecolor\": \"#E1E5ED\"}, \"yaxis\": {\"domain\": [0.3, 1], \"gridcolor\": \"#E1E5ED\", \"showgrid\": true, \"tickfont\": {\"color\": \"#4D5663\"}, \"title\": {\"font\": {\"color\": \"#4D5663\"}, \"text\": \"\"}, \"zerolinecolor\": \"#E1E5ED\"}, \"yaxis2\": {\"domain\": [0, 0.25], \"gridcolor\": \"#E1E5ED\", \"showgrid\": true, \"tickfont\": {\"color\": \"#4D5663\"}, \"title\": {\"font\": {\"color\": \"#4D5663\"}, \"text\": \"Spread\"}, \"zerolinecolor\": \"#E1E5ED\"}},\n",
       "                        {\"showLink\": true, \"linkText\": \"Export to plot.ly\", \"plotlyServerURL\": \"https://plot.ly\", \"responsive\": true}\n",
       "                    ).then(function(){\n",
       "                            \n",
       "var gd = document.getElementById('7105b88c-7d39-4023-9c61-86143d07a1e3');\n",
       "var x = new MutationObserver(function (mutations, observer) {{\n",
       "        var display = window.getComputedStyle(gd).display;\n",
       "        if (!display || display === 'none') {{\n",
       "            console.log([gd, 'removed!']);\n",
       "            Plotly.purge(gd);\n",
       "            observer.disconnect();\n",
       "        }}\n",
       "}});\n",
       "\n",
       "// Listen for the removal of the full notebook cells\n",
       "var notebookContainer = gd.closest('#notebook-container');\n",
       "if (notebookContainer) {{\n",
       "    x.observe(notebookContainer, {childList: true});\n",
       "}}\n",
       "\n",
       "// Listen for the clearing of the current output cell\n",
       "var outputEl = gd.closest('.output');\n",
       "if (outputEl) {{\n",
       "    x.observe(outputEl, {childList: true});\n",
       "}}\n",
       "\n",
       "                        })\n",
       "                };\n",
       "                });\n",
       "            </script>\n",
       "        </div>"
      ]
     },
     "metadata": {},
     "output_type": "display_data"
    }
   ],
   "source": [
    "# it will get the line plot\n",
    "# and the spread plot\n",
    "# the spread plot which shows the spread of them against each other\n",
    "\n",
    "df[['A','B']].iplot(kind = 'spread')"
   ]
  },
  {
   "cell_type": "markdown",
   "metadata": {},
   "source": [
    "### 8. bubbleplot"
   ]
  },
  {
   "cell_type": "code",
   "execution_count": 33,
   "metadata": {},
   "outputs": [
    {
     "data": {
      "application/vnd.plotly.v1+json": {
       "config": {
        "linkText": "Export to plot.ly",
        "plotlyServerURL": "https://plot.ly",
        "showLink": true
       },
       "data": [
        {
         "marker": {
          "color": [
           "rgb(255, 153, 51)",
           "rgb(55, 128, 191)",
           "rgb(50, 171, 96)",
           "rgb(128, 0, 128)",
           "rgb(219, 64, 82)",
           "rgb(0, 128, 128)",
           "rgb(255, 255, 51)",
           "rgb(128, 128, 0)",
           "rgb(251, 128, 114)",
           "rgb(128, 177, 211)"
          ],
          "line": {
           "width": 1.3
          },
          "size": [
           52,
           41,
           58,
           81,
           83,
           58,
           59,
           66,
           47,
           83,
           31,
           73,
           66,
           57,
           34,
           67,
           63,
           53,
           75,
           67,
           56,
           94,
           82,
           65,
           59,
           60,
           74,
           54,
           69,
           35,
           52,
           69,
           58,
           64,
           12,
           68,
           65,
           95,
           48,
           35,
           103,
           50,
           64,
           69,
           45,
           66,
           67,
           57,
           61,
           89,
           77,
           52,
           62,
           64,
           52,
           39,
           61,
           49,
           70,
           56,
           89,
           112,
           27,
           42,
           68,
           90,
           57,
           42,
           94,
           32,
           59,
           68,
           108,
           77,
           61,
           79,
           48,
           64,
           87,
           91,
           40,
           85,
           95,
           76,
           71,
           48,
           84,
           52,
           90,
           51,
           99,
           67,
           69,
           63,
           63,
           53,
           43,
           60,
           71,
           39
          ],
          "symbol": "circle"
         },
         "mode": "markers",
         "text": "",
         "type": "scatter",
         "x": [
          2.069081317248437,
          -1.9586988201017066,
          0.31687259557075065,
          0.3163933211791377,
          -0.16623943248273207,
          1.5497820365156982,
          -1.7297768914284835,
          0.5697825774153621,
          -0.7032361365794662,
          -0.8268251660691491,
          1.2467171956322265,
          -1.0757476486572177,
          -0.165999174967776,
          0.42843672539742184,
          -0.25675899385138395,
          0.22587079145601774,
          1.9166425271506045,
          -0.640237220836307,
          -0.6861772522003287,
          -0.5586527440178088,
          -2.5054824095350603,
          0.4409074736412183,
          -1.9900902601521533,
          -0.5210386202937979,
          -0.5080735923466261,
          -0.7618302051217163,
          0.8385206587443153,
          1.4112551979094434,
          -0.35899178289305833,
          -0.7583551270205274,
          0.1801450370472393,
          -1.668881029521964,
          -0.7631515357140278,
          -0.6703114133478807,
          -1.4410620768665687,
          0.8743716919027011,
          1.3712437328971603,
          1.8015066568239602,
          -1.3793914176363382,
          -0.310781082112185,
          0.21539737058955025,
          0.26100127321811867,
          -0.5720033350321432,
          2.132914188699778,
          -1.6315266835701523,
          0.6116058285290135,
          -1.375542976417157,
          0.5516327908947728,
          -0.8291435228557643,
          -0.10741096952517305,
          0.466848431170696,
          0.8433508517657493,
          0.11636175879694592,
          0.5598366538046764,
          0.24914272694522172,
          -0.06884643442780915,
          -0.4084858316707387,
          -1.4051726071742447,
          -0.30645623254003573,
          1.7389939017633762,
          -1.069248683755255,
          1.6834497814923641,
          1.346355028489932,
          -0.6762454051862051,
          0.9031060789060906,
          1.1356794877473801,
          -0.40881973318811055,
          0.7063794517678516,
          -0.4152686536633678,
          -0.996637064263391,
          -0.05603719295495405,
          0.3267743031922197,
          -0.7097067062730879,
          0.4433270622616412,
          0.379617908590977,
          -0.43494427079199754,
          1.7809685905508235,
          1.6966147780256329,
          1.4906595522423403,
          0.4809146675204936,
          -1.3864972445511055,
          -0.6595869670593304,
          -0.5506363437289727,
          0.5980724890985413,
          -1.1521791912703487,
          -0.3175929792191654,
          -1.8718075854411518,
          -0.27684143268620376,
          -1.6259350828226837,
          1.2269730494900373,
          -0.048869330284592144,
          1.5957901102313448,
          -0.040539979809508665,
          1.3204254982305588,
          -0.035534127153365694,
          0.9671163301831622,
          0.5214914391803923,
          0.9508548035963178,
          0.05960270547188383,
          -0.01561286021245415
         ],
         "y": [
          0.5371406102484116,
          -0.7630355998932787,
          -2.4858162864857523,
          1.2592066808607159,
          0.9595436226520081,
          -0.8081156938171563,
          0.9958728377864831,
          -0.04591061914796954,
          0.6904010738181772,
          -0.5511142392207588,
          1.4402893831504124,
          0.35305376609086747,
          0.7972779169691322,
          0.34537746993804025,
          1.31874407327095,
          1.6969578374319672,
          -2.380558289248379,
          -0.42479170062544036,
          0.7611985790453921,
          -1.4523150254476245,
          0.587450547772239,
          0.15513270402904678,
          0.3816171930588017,
          -0.3485622560270526,
          -0.2233077072848466,
          -0.06657166845739156,
          -0.4699219481124245,
          1.2162365035510758,
          -0.08247111159833434,
          -0.26576094186048205,
          0.6287146222239482,
          0.5464995934949134,
          -1.0413503318774242,
          -0.6133269467314942,
          1.7897861110849156,
          -1.4636448182885142,
          -0.6082089722636107,
          -0.18944182747086188,
          1.1535409107981895,
          -0.2610438758985015,
          0.7607204950976051,
          0.8689659293485391,
          -1.0408678834637686,
          -1.8697259764998884,
          0.052957623660512085,
          -0.4752375307599897,
          -0.6894315405633875,
          0.20660004628802267,
          0.41587696940825136,
          0.11794519060016996,
          -0.5483109902790982,
          0.2204585387263463,
          -0.0814497894297341,
          -0.4261861035950627,
          -0.021917182184465037,
          0.35222734994579635,
          -0.24159158765078223,
          -1.245418117537442,
          1.0216068651998909,
          0.2639425680704423,
          0.9241230815489991,
          1.0987810469821897,
          -1.2581918632792053,
          -0.3047137245763503,
          0.60914107898099,
          -0.9152188042552775,
          -0.26765853410307033,
          -2.0075144589553195,
          0.8147844678127948,
          -0.13131685638323615,
          -1.311225180991742,
          -0.04852659651473337,
          -1.218931042803003,
          -1.024830966258147,
          0.12385012282058273,
          -0.20982791576190235,
          -0.24678271085565104,
          0.5154062122960229,
          0.1544833714506777,
          -0.41404378573783396,
          -1.2860894727014949,
          -1.437949062500608,
          2.4274363130615795,
          -0.4573332199984909,
          0.7826881088936185,
          -0.10934943159905164,
          -0.5949196074311865,
          0.03144939194326923,
          1.524309150436032,
          -0.23392802647924565,
          0.5361360451160111,
          -0.7495155351889765,
          -0.18096629842077092,
          1.558544319601368,
          1.7517499105114092,
          -0.39371248209055115,
          0.345362285426185,
          -0.7860338813922241,
          1.900836644872969,
          -0.6373552719220384
         ]
        }
       ],
       "layout": {
        "legend": {
         "bgcolor": "#F5F6F9",
         "font": {
          "color": "#4D5663"
         }
        },
        "paper_bgcolor": "#F5F6F9",
        "plot_bgcolor": "#F5F6F9",
        "template": {
         "data": {
          "bar": [
           {
            "error_x": {
             "color": "#2a3f5f"
            },
            "error_y": {
             "color": "#2a3f5f"
            },
            "marker": {
             "line": {
              "color": "#E5ECF6",
              "width": 0.5
             }
            },
            "type": "bar"
           }
          ],
          "barpolar": [
           {
            "marker": {
             "line": {
              "color": "#E5ECF6",
              "width": 0.5
             }
            },
            "type": "barpolar"
           }
          ],
          "carpet": [
           {
            "aaxis": {
             "endlinecolor": "#2a3f5f",
             "gridcolor": "white",
             "linecolor": "white",
             "minorgridcolor": "white",
             "startlinecolor": "#2a3f5f"
            },
            "baxis": {
             "endlinecolor": "#2a3f5f",
             "gridcolor": "white",
             "linecolor": "white",
             "minorgridcolor": "white",
             "startlinecolor": "#2a3f5f"
            },
            "type": "carpet"
           }
          ],
          "choropleth": [
           {
            "colorbar": {
             "outlinewidth": 0,
             "ticks": ""
            },
            "type": "choropleth"
           }
          ],
          "contour": [
           {
            "colorbar": {
             "outlinewidth": 0,
             "ticks": ""
            },
            "colorscale": [
             [
              0,
              "#0d0887"
             ],
             [
              0.1111111111111111,
              "#46039f"
             ],
             [
              0.2222222222222222,
              "#7201a8"
             ],
             [
              0.3333333333333333,
              "#9c179e"
             ],
             [
              0.4444444444444444,
              "#bd3786"
             ],
             [
              0.5555555555555556,
              "#d8576b"
             ],
             [
              0.6666666666666666,
              "#ed7953"
             ],
             [
              0.7777777777777778,
              "#fb9f3a"
             ],
             [
              0.8888888888888888,
              "#fdca26"
             ],
             [
              1,
              "#f0f921"
             ]
            ],
            "type": "contour"
           }
          ],
          "contourcarpet": [
           {
            "colorbar": {
             "outlinewidth": 0,
             "ticks": ""
            },
            "type": "contourcarpet"
           }
          ],
          "heatmap": [
           {
            "colorbar": {
             "outlinewidth": 0,
             "ticks": ""
            },
            "colorscale": [
             [
              0,
              "#0d0887"
             ],
             [
              0.1111111111111111,
              "#46039f"
             ],
             [
              0.2222222222222222,
              "#7201a8"
             ],
             [
              0.3333333333333333,
              "#9c179e"
             ],
             [
              0.4444444444444444,
              "#bd3786"
             ],
             [
              0.5555555555555556,
              "#d8576b"
             ],
             [
              0.6666666666666666,
              "#ed7953"
             ],
             [
              0.7777777777777778,
              "#fb9f3a"
             ],
             [
              0.8888888888888888,
              "#fdca26"
             ],
             [
              1,
              "#f0f921"
             ]
            ],
            "type": "heatmap"
           }
          ],
          "heatmapgl": [
           {
            "colorbar": {
             "outlinewidth": 0,
             "ticks": ""
            },
            "colorscale": [
             [
              0,
              "#0d0887"
             ],
             [
              0.1111111111111111,
              "#46039f"
             ],
             [
              0.2222222222222222,
              "#7201a8"
             ],
             [
              0.3333333333333333,
              "#9c179e"
             ],
             [
              0.4444444444444444,
              "#bd3786"
             ],
             [
              0.5555555555555556,
              "#d8576b"
             ],
             [
              0.6666666666666666,
              "#ed7953"
             ],
             [
              0.7777777777777778,
              "#fb9f3a"
             ],
             [
              0.8888888888888888,
              "#fdca26"
             ],
             [
              1,
              "#f0f921"
             ]
            ],
            "type": "heatmapgl"
           }
          ],
          "histogram": [
           {
            "marker": {
             "colorbar": {
              "outlinewidth": 0,
              "ticks": ""
             }
            },
            "type": "histogram"
           }
          ],
          "histogram2d": [
           {
            "colorbar": {
             "outlinewidth": 0,
             "ticks": ""
            },
            "colorscale": [
             [
              0,
              "#0d0887"
             ],
             [
              0.1111111111111111,
              "#46039f"
             ],
             [
              0.2222222222222222,
              "#7201a8"
             ],
             [
              0.3333333333333333,
              "#9c179e"
             ],
             [
              0.4444444444444444,
              "#bd3786"
             ],
             [
              0.5555555555555556,
              "#d8576b"
             ],
             [
              0.6666666666666666,
              "#ed7953"
             ],
             [
              0.7777777777777778,
              "#fb9f3a"
             ],
             [
              0.8888888888888888,
              "#fdca26"
             ],
             [
              1,
              "#f0f921"
             ]
            ],
            "type": "histogram2d"
           }
          ],
          "histogram2dcontour": [
           {
            "colorbar": {
             "outlinewidth": 0,
             "ticks": ""
            },
            "colorscale": [
             [
              0,
              "#0d0887"
             ],
             [
              0.1111111111111111,
              "#46039f"
             ],
             [
              0.2222222222222222,
              "#7201a8"
             ],
             [
              0.3333333333333333,
              "#9c179e"
             ],
             [
              0.4444444444444444,
              "#bd3786"
             ],
             [
              0.5555555555555556,
              "#d8576b"
             ],
             [
              0.6666666666666666,
              "#ed7953"
             ],
             [
              0.7777777777777778,
              "#fb9f3a"
             ],
             [
              0.8888888888888888,
              "#fdca26"
             ],
             [
              1,
              "#f0f921"
             ]
            ],
            "type": "histogram2dcontour"
           }
          ],
          "mesh3d": [
           {
            "colorbar": {
             "outlinewidth": 0,
             "ticks": ""
            },
            "type": "mesh3d"
           }
          ],
          "parcoords": [
           {
            "line": {
             "colorbar": {
              "outlinewidth": 0,
              "ticks": ""
             }
            },
            "type": "parcoords"
           }
          ],
          "scatter": [
           {
            "marker": {
             "colorbar": {
              "outlinewidth": 0,
              "ticks": ""
             }
            },
            "type": "scatter"
           }
          ],
          "scatter3d": [
           {
            "line": {
             "colorbar": {
              "outlinewidth": 0,
              "ticks": ""
             }
            },
            "marker": {
             "colorbar": {
              "outlinewidth": 0,
              "ticks": ""
             }
            },
            "type": "scatter3d"
           }
          ],
          "scattercarpet": [
           {
            "marker": {
             "colorbar": {
              "outlinewidth": 0,
              "ticks": ""
             }
            },
            "type": "scattercarpet"
           }
          ],
          "scattergeo": [
           {
            "marker": {
             "colorbar": {
              "outlinewidth": 0,
              "ticks": ""
             }
            },
            "type": "scattergeo"
           }
          ],
          "scattergl": [
           {
            "marker": {
             "colorbar": {
              "outlinewidth": 0,
              "ticks": ""
             }
            },
            "type": "scattergl"
           }
          ],
          "scattermapbox": [
           {
            "marker": {
             "colorbar": {
              "outlinewidth": 0,
              "ticks": ""
             }
            },
            "type": "scattermapbox"
           }
          ],
          "scatterpolar": [
           {
            "marker": {
             "colorbar": {
              "outlinewidth": 0,
              "ticks": ""
             }
            },
            "type": "scatterpolar"
           }
          ],
          "scatterpolargl": [
           {
            "marker": {
             "colorbar": {
              "outlinewidth": 0,
              "ticks": ""
             }
            },
            "type": "scatterpolargl"
           }
          ],
          "scatterternary": [
           {
            "marker": {
             "colorbar": {
              "outlinewidth": 0,
              "ticks": ""
             }
            },
            "type": "scatterternary"
           }
          ],
          "surface": [
           {
            "colorbar": {
             "outlinewidth": 0,
             "ticks": ""
            },
            "colorscale": [
             [
              0,
              "#0d0887"
             ],
             [
              0.1111111111111111,
              "#46039f"
             ],
             [
              0.2222222222222222,
              "#7201a8"
             ],
             [
              0.3333333333333333,
              "#9c179e"
             ],
             [
              0.4444444444444444,
              "#bd3786"
             ],
             [
              0.5555555555555556,
              "#d8576b"
             ],
             [
              0.6666666666666666,
              "#ed7953"
             ],
             [
              0.7777777777777778,
              "#fb9f3a"
             ],
             [
              0.8888888888888888,
              "#fdca26"
             ],
             [
              1,
              "#f0f921"
             ]
            ],
            "type": "surface"
           }
          ],
          "table": [
           {
            "cells": {
             "fill": {
              "color": "#EBF0F8"
             },
             "line": {
              "color": "white"
             }
            },
            "header": {
             "fill": {
              "color": "#C8D4E3"
             },
             "line": {
              "color": "white"
             }
            },
            "type": "table"
           }
          ]
         },
         "layout": {
          "annotationdefaults": {
           "arrowcolor": "#2a3f5f",
           "arrowhead": 0,
           "arrowwidth": 1
          },
          "colorscale": {
           "diverging": [
            [
             0,
             "#8e0152"
            ],
            [
             0.1,
             "#c51b7d"
            ],
            [
             0.2,
             "#de77ae"
            ],
            [
             0.3,
             "#f1b6da"
            ],
            [
             0.4,
             "#fde0ef"
            ],
            [
             0.5,
             "#f7f7f7"
            ],
            [
             0.6,
             "#e6f5d0"
            ],
            [
             0.7,
             "#b8e186"
            ],
            [
             0.8,
             "#7fbc41"
            ],
            [
             0.9,
             "#4d9221"
            ],
            [
             1,
             "#276419"
            ]
           ],
           "sequential": [
            [
             0,
             "#0d0887"
            ],
            [
             0.1111111111111111,
             "#46039f"
            ],
            [
             0.2222222222222222,
             "#7201a8"
            ],
            [
             0.3333333333333333,
             "#9c179e"
            ],
            [
             0.4444444444444444,
             "#bd3786"
            ],
            [
             0.5555555555555556,
             "#d8576b"
            ],
            [
             0.6666666666666666,
             "#ed7953"
            ],
            [
             0.7777777777777778,
             "#fb9f3a"
            ],
            [
             0.8888888888888888,
             "#fdca26"
            ],
            [
             1,
             "#f0f921"
            ]
           ],
           "sequentialminus": [
            [
             0,
             "#0d0887"
            ],
            [
             0.1111111111111111,
             "#46039f"
            ],
            [
             0.2222222222222222,
             "#7201a8"
            ],
            [
             0.3333333333333333,
             "#9c179e"
            ],
            [
             0.4444444444444444,
             "#bd3786"
            ],
            [
             0.5555555555555556,
             "#d8576b"
            ],
            [
             0.6666666666666666,
             "#ed7953"
            ],
            [
             0.7777777777777778,
             "#fb9f3a"
            ],
            [
             0.8888888888888888,
             "#fdca26"
            ],
            [
             1,
             "#f0f921"
            ]
           ]
          },
          "colorway": [
           "#636efa",
           "#EF553B",
           "#00cc96",
           "#ab63fa",
           "#FFA15A",
           "#19d3f3",
           "#FF6692",
           "#B6E880",
           "#FF97FF",
           "#FECB52"
          ],
          "font": {
           "color": "#2a3f5f"
          },
          "geo": {
           "bgcolor": "white",
           "lakecolor": "white",
           "landcolor": "#E5ECF6",
           "showlakes": true,
           "showland": true,
           "subunitcolor": "white"
          },
          "hoverlabel": {
           "align": "left"
          },
          "hovermode": "closest",
          "mapbox": {
           "style": "light"
          },
          "paper_bgcolor": "white",
          "plot_bgcolor": "#E5ECF6",
          "polar": {
           "angularaxis": {
            "gridcolor": "white",
            "linecolor": "white",
            "ticks": ""
           },
           "bgcolor": "#E5ECF6",
           "radialaxis": {
            "gridcolor": "white",
            "linecolor": "white",
            "ticks": ""
           }
          },
          "scene": {
           "xaxis": {
            "backgroundcolor": "#E5ECF6",
            "gridcolor": "white",
            "gridwidth": 2,
            "linecolor": "white",
            "showbackground": true,
            "ticks": "",
            "zerolinecolor": "white"
           },
           "yaxis": {
            "backgroundcolor": "#E5ECF6",
            "gridcolor": "white",
            "gridwidth": 2,
            "linecolor": "white",
            "showbackground": true,
            "ticks": "",
            "zerolinecolor": "white"
           },
           "zaxis": {
            "backgroundcolor": "#E5ECF6",
            "gridcolor": "white",
            "gridwidth": 2,
            "linecolor": "white",
            "showbackground": true,
            "ticks": "",
            "zerolinecolor": "white"
           }
          },
          "shapedefaults": {
           "line": {
            "color": "#2a3f5f"
           }
          },
          "ternary": {
           "aaxis": {
            "gridcolor": "white",
            "linecolor": "white",
            "ticks": ""
           },
           "baxis": {
            "gridcolor": "white",
            "linecolor": "white",
            "ticks": ""
           },
           "bgcolor": "#E5ECF6",
           "caxis": {
            "gridcolor": "white",
            "linecolor": "white",
            "ticks": ""
           }
          },
          "title": {
           "x": 0.05
          },
          "xaxis": {
           "automargin": true,
           "gridcolor": "white",
           "linecolor": "white",
           "ticks": "",
           "zerolinecolor": "white",
           "zerolinewidth": 2
          },
          "yaxis": {
           "automargin": true,
           "gridcolor": "white",
           "linecolor": "white",
           "ticks": "",
           "zerolinecolor": "white",
           "zerolinewidth": 2
          }
         }
        },
        "title": {
         "font": {
          "color": "#4D5663"
         }
        },
        "xaxis": {
         "gridcolor": "#E1E5ED",
         "showgrid": true,
         "tickfont": {
          "color": "#4D5663"
         },
         "title": {
          "font": {
           "color": "#4D5663"
          },
          "text": ""
         },
         "zerolinecolor": "#E1E5ED"
        },
        "yaxis": {
         "gridcolor": "#E1E5ED",
         "showgrid": true,
         "tickfont": {
          "color": "#4D5663"
         },
         "title": {
          "font": {
           "color": "#4D5663"
          },
          "text": ""
         },
         "zerolinecolor": "#E1E5ED"
        }
       }
      },
      "text/html": [
       "<div>\n",
       "        \n",
       "        \n",
       "            <div id=\"32eb8ffc-7338-4230-b738-dcef924183bf\" class=\"plotly-graph-div\" style=\"height:525px; width:100%;\"></div>\n",
       "            <script type=\"text/javascript\">\n",
       "                require([\"plotly\"], function(Plotly) {\n",
       "                    window.PLOTLYENV=window.PLOTLYENV || {};\n",
       "                    window.PLOTLYENV.BASE_URL='https://plot.ly';\n",
       "                    \n",
       "                if (document.getElementById(\"32eb8ffc-7338-4230-b738-dcef924183bf\")) {\n",
       "                    Plotly.newPlot(\n",
       "                        '32eb8ffc-7338-4230-b738-dcef924183bf',\n",
       "                        [{\"marker\": {\"color\": [\"rgb(255, 153, 51)\", \"rgb(55, 128, 191)\", \"rgb(50, 171, 96)\", \"rgb(128, 0, 128)\", \"rgb(219, 64, 82)\", \"rgb(0, 128, 128)\", \"rgb(255, 255, 51)\", \"rgb(128, 128, 0)\", \"rgb(251, 128, 114)\", \"rgb(128, 177, 211)\"], \"line\": {\"width\": 1.3}, \"size\": [52, 41, 58, 81, 83, 58, 59, 66, 47, 83, 31, 73, 66, 57, 34, 67, 63, 53, 75, 67, 56, 94, 82, 65, 59, 60, 74, 54, 69, 35, 52, 69, 58, 64, 12, 68, 65, 95, 48, 35, 103, 50, 64, 69, 45, 66, 67, 57, 61, 89, 77, 52, 62, 64, 52, 39, 61, 49, 70, 56, 89, 112, 27, 42, 68, 90, 57, 42, 94, 32, 59, 68, 108, 77, 61, 79, 48, 64, 87, 91, 40, 85, 95, 76, 71, 48, 84, 52, 90, 51, 99, 67, 69, 63, 63, 53, 43, 60, 71, 39], \"symbol\": \"circle\"}, \"mode\": \"markers\", \"text\": \"\", \"type\": \"scatter\", \"x\": [2.069081317248437, -1.9586988201017066, 0.31687259557075065, 0.3163933211791377, -0.16623943248273207, 1.5497820365156982, -1.7297768914284835, 0.5697825774153621, -0.7032361365794662, -0.8268251660691491, 1.2467171956322265, -1.0757476486572177, -0.165999174967776, 0.42843672539742184, -0.25675899385138395, 0.22587079145601774, 1.9166425271506045, -0.640237220836307, -0.6861772522003287, -0.5586527440178088, -2.5054824095350603, 0.4409074736412183, -1.9900902601521533, -0.5210386202937979, -0.5080735923466261, -0.7618302051217163, 0.8385206587443153, 1.4112551979094434, -0.35899178289305833, -0.7583551270205274, 0.1801450370472393, -1.668881029521964, -0.7631515357140278, -0.6703114133478807, -1.4410620768665687, 0.8743716919027011, 1.3712437328971603, 1.8015066568239602, -1.3793914176363382, -0.310781082112185, 0.21539737058955025, 0.26100127321811867, -0.5720033350321432, 2.132914188699778, -1.6315266835701523, 0.6116058285290135, -1.375542976417157, 0.5516327908947728, -0.8291435228557643, -0.10741096952517305, 0.466848431170696, 0.8433508517657493, 0.11636175879694592, 0.5598366538046764, 0.24914272694522172, -0.06884643442780915, -0.4084858316707387, -1.4051726071742447, -0.30645623254003573, 1.7389939017633762, -1.069248683755255, 1.6834497814923641, 1.346355028489932, -0.6762454051862051, 0.9031060789060906, 1.1356794877473801, -0.40881973318811055, 0.7063794517678516, -0.4152686536633678, -0.996637064263391, -0.05603719295495405, 0.3267743031922197, -0.7097067062730879, 0.4433270622616412, 0.379617908590977, -0.43494427079199754, 1.7809685905508235, 1.6966147780256329, 1.4906595522423403, 0.4809146675204936, -1.3864972445511055, -0.6595869670593304, -0.5506363437289727, 0.5980724890985413, -1.1521791912703487, -0.3175929792191654, -1.8718075854411518, -0.27684143268620376, -1.6259350828226837, 1.2269730494900373, -0.048869330284592144, 1.5957901102313448, -0.040539979809508665, 1.3204254982305588, -0.035534127153365694, 0.9671163301831622, 0.5214914391803923, 0.9508548035963178, 0.05960270547188383, -0.01561286021245415], \"y\": [0.5371406102484116, -0.7630355998932787, -2.4858162864857523, 1.2592066808607159, 0.9595436226520081, -0.8081156938171563, 0.9958728377864831, -0.04591061914796954, 0.6904010738181772, -0.5511142392207588, 1.4402893831504124, 0.35305376609086747, 0.7972779169691322, 0.34537746993804025, 1.31874407327095, 1.6969578374319672, -2.380558289248379, -0.42479170062544036, 0.7611985790453921, -1.4523150254476245, 0.587450547772239, 0.15513270402904678, 0.3816171930588017, -0.3485622560270526, -0.2233077072848466, -0.06657166845739156, -0.4699219481124245, 1.2162365035510758, -0.08247111159833434, -0.26576094186048205, 0.6287146222239482, 0.5464995934949134, -1.0413503318774242, -0.6133269467314942, 1.7897861110849156, -1.4636448182885142, -0.6082089722636107, -0.18944182747086188, 1.1535409107981895, -0.2610438758985015, 0.7607204950976051, 0.8689659293485391, -1.0408678834637686, -1.8697259764998884, 0.052957623660512085, -0.4752375307599897, -0.6894315405633875, 0.20660004628802267, 0.41587696940825136, 0.11794519060016996, -0.5483109902790982, 0.2204585387263463, -0.0814497894297341, -0.4261861035950627, -0.021917182184465037, 0.35222734994579635, -0.24159158765078223, -1.245418117537442, 1.0216068651998909, 0.2639425680704423, 0.9241230815489991, 1.0987810469821897, -1.2581918632792053, -0.3047137245763503, 0.60914107898099, -0.9152188042552775, -0.26765853410307033, -2.0075144589553195, 0.8147844678127948, -0.13131685638323615, -1.311225180991742, -0.04852659651473337, -1.218931042803003, -1.024830966258147, 0.12385012282058273, -0.20982791576190235, -0.24678271085565104, 0.5154062122960229, 0.1544833714506777, -0.41404378573783396, -1.2860894727014949, -1.437949062500608, 2.4274363130615795, -0.4573332199984909, 0.7826881088936185, -0.10934943159905164, -0.5949196074311865, 0.03144939194326923, 1.524309150436032, -0.23392802647924565, 0.5361360451160111, -0.7495155351889765, -0.18096629842077092, 1.558544319601368, 1.7517499105114092, -0.39371248209055115, 0.345362285426185, -0.7860338813922241, 1.900836644872969, -0.6373552719220384]}],\n",
       "                        {\"legend\": {\"bgcolor\": \"#F5F6F9\", \"font\": {\"color\": \"#4D5663\"}}, \"paper_bgcolor\": \"#F5F6F9\", \"plot_bgcolor\": \"#F5F6F9\", \"template\": {\"data\": {\"bar\": [{\"error_x\": {\"color\": \"#2a3f5f\"}, \"error_y\": {\"color\": \"#2a3f5f\"}, \"marker\": {\"line\": {\"color\": \"#E5ECF6\", \"width\": 0.5}}, \"type\": \"bar\"}], \"barpolar\": [{\"marker\": {\"line\": {\"color\": \"#E5ECF6\", \"width\": 0.5}}, \"type\": \"barpolar\"}], \"carpet\": [{\"aaxis\": {\"endlinecolor\": \"#2a3f5f\", \"gridcolor\": \"white\", \"linecolor\": \"white\", \"minorgridcolor\": \"white\", \"startlinecolor\": \"#2a3f5f\"}, \"baxis\": {\"endlinecolor\": \"#2a3f5f\", \"gridcolor\": \"white\", \"linecolor\": \"white\", \"minorgridcolor\": \"white\", \"startlinecolor\": \"#2a3f5f\"}, \"type\": \"carpet\"}], \"choropleth\": [{\"colorbar\": {\"outlinewidth\": 0, \"ticks\": \"\"}, \"type\": \"choropleth\"}], \"contour\": [{\"colorbar\": {\"outlinewidth\": 0, \"ticks\": \"\"}, \"colorscale\": [[0.0, \"#0d0887\"], [0.1111111111111111, \"#46039f\"], [0.2222222222222222, \"#7201a8\"], [0.3333333333333333, \"#9c179e\"], [0.4444444444444444, \"#bd3786\"], [0.5555555555555556, \"#d8576b\"], [0.6666666666666666, \"#ed7953\"], [0.7777777777777778, \"#fb9f3a\"], [0.8888888888888888, \"#fdca26\"], [1.0, \"#f0f921\"]], \"type\": \"contour\"}], \"contourcarpet\": [{\"colorbar\": {\"outlinewidth\": 0, \"ticks\": \"\"}, \"type\": \"contourcarpet\"}], \"heatmap\": [{\"colorbar\": {\"outlinewidth\": 0, \"ticks\": \"\"}, \"colorscale\": [[0.0, \"#0d0887\"], [0.1111111111111111, \"#46039f\"], [0.2222222222222222, \"#7201a8\"], [0.3333333333333333, \"#9c179e\"], [0.4444444444444444, \"#bd3786\"], [0.5555555555555556, \"#d8576b\"], [0.6666666666666666, \"#ed7953\"], [0.7777777777777778, \"#fb9f3a\"], [0.8888888888888888, \"#fdca26\"], [1.0, \"#f0f921\"]], \"type\": \"heatmap\"}], \"heatmapgl\": [{\"colorbar\": {\"outlinewidth\": 0, \"ticks\": \"\"}, \"colorscale\": [[0.0, \"#0d0887\"], [0.1111111111111111, \"#46039f\"], [0.2222222222222222, \"#7201a8\"], [0.3333333333333333, \"#9c179e\"], [0.4444444444444444, \"#bd3786\"], [0.5555555555555556, \"#d8576b\"], [0.6666666666666666, \"#ed7953\"], [0.7777777777777778, \"#fb9f3a\"], [0.8888888888888888, \"#fdca26\"], [1.0, \"#f0f921\"]], \"type\": \"heatmapgl\"}], \"histogram\": [{\"marker\": {\"colorbar\": {\"outlinewidth\": 0, \"ticks\": \"\"}}, \"type\": \"histogram\"}], \"histogram2d\": [{\"colorbar\": {\"outlinewidth\": 0, \"ticks\": \"\"}, \"colorscale\": [[0.0, \"#0d0887\"], [0.1111111111111111, \"#46039f\"], [0.2222222222222222, \"#7201a8\"], [0.3333333333333333, \"#9c179e\"], [0.4444444444444444, \"#bd3786\"], [0.5555555555555556, \"#d8576b\"], [0.6666666666666666, \"#ed7953\"], [0.7777777777777778, \"#fb9f3a\"], [0.8888888888888888, \"#fdca26\"], [1.0, \"#f0f921\"]], \"type\": \"histogram2d\"}], \"histogram2dcontour\": [{\"colorbar\": {\"outlinewidth\": 0, \"ticks\": \"\"}, \"colorscale\": [[0.0, \"#0d0887\"], [0.1111111111111111, \"#46039f\"], [0.2222222222222222, \"#7201a8\"], [0.3333333333333333, \"#9c179e\"], [0.4444444444444444, \"#bd3786\"], [0.5555555555555556, \"#d8576b\"], [0.6666666666666666, \"#ed7953\"], [0.7777777777777778, \"#fb9f3a\"], [0.8888888888888888, \"#fdca26\"], [1.0, \"#f0f921\"]], \"type\": \"histogram2dcontour\"}], \"mesh3d\": [{\"colorbar\": {\"outlinewidth\": 0, \"ticks\": \"\"}, \"type\": \"mesh3d\"}], \"parcoords\": [{\"line\": {\"colorbar\": {\"outlinewidth\": 0, \"ticks\": \"\"}}, \"type\": \"parcoords\"}], \"scatter\": [{\"marker\": {\"colorbar\": {\"outlinewidth\": 0, \"ticks\": \"\"}}, \"type\": \"scatter\"}], \"scatter3d\": [{\"line\": {\"colorbar\": {\"outlinewidth\": 0, \"ticks\": \"\"}}, \"marker\": {\"colorbar\": {\"outlinewidth\": 0, \"ticks\": \"\"}}, \"type\": \"scatter3d\"}], \"scattercarpet\": [{\"marker\": {\"colorbar\": {\"outlinewidth\": 0, \"ticks\": \"\"}}, \"type\": \"scattercarpet\"}], \"scattergeo\": [{\"marker\": {\"colorbar\": {\"outlinewidth\": 0, \"ticks\": \"\"}}, \"type\": \"scattergeo\"}], \"scattergl\": [{\"marker\": {\"colorbar\": {\"outlinewidth\": 0, \"ticks\": \"\"}}, \"type\": \"scattergl\"}], \"scattermapbox\": [{\"marker\": {\"colorbar\": {\"outlinewidth\": 0, \"ticks\": \"\"}}, \"type\": \"scattermapbox\"}], \"scatterpolar\": [{\"marker\": {\"colorbar\": {\"outlinewidth\": 0, \"ticks\": \"\"}}, \"type\": \"scatterpolar\"}], \"scatterpolargl\": [{\"marker\": {\"colorbar\": {\"outlinewidth\": 0, \"ticks\": \"\"}}, \"type\": \"scatterpolargl\"}], \"scatterternary\": [{\"marker\": {\"colorbar\": {\"outlinewidth\": 0, \"ticks\": \"\"}}, \"type\": \"scatterternary\"}], \"surface\": [{\"colorbar\": {\"outlinewidth\": 0, \"ticks\": \"\"}, \"colorscale\": [[0.0, \"#0d0887\"], [0.1111111111111111, \"#46039f\"], [0.2222222222222222, \"#7201a8\"], [0.3333333333333333, \"#9c179e\"], [0.4444444444444444, \"#bd3786\"], [0.5555555555555556, \"#d8576b\"], [0.6666666666666666, \"#ed7953\"], [0.7777777777777778, \"#fb9f3a\"], [0.8888888888888888, \"#fdca26\"], [1.0, \"#f0f921\"]], \"type\": \"surface\"}], \"table\": [{\"cells\": {\"fill\": {\"color\": \"#EBF0F8\"}, \"line\": {\"color\": \"white\"}}, \"header\": {\"fill\": {\"color\": \"#C8D4E3\"}, \"line\": {\"color\": \"white\"}}, \"type\": \"table\"}]}, \"layout\": {\"annotationdefaults\": {\"arrowcolor\": \"#2a3f5f\", \"arrowhead\": 0, \"arrowwidth\": 1}, \"colorscale\": {\"diverging\": [[0, \"#8e0152\"], [0.1, \"#c51b7d\"], [0.2, \"#de77ae\"], [0.3, \"#f1b6da\"], [0.4, \"#fde0ef\"], [0.5, \"#f7f7f7\"], [0.6, \"#e6f5d0\"], [0.7, \"#b8e186\"], [0.8, \"#7fbc41\"], [0.9, \"#4d9221\"], [1, \"#276419\"]], \"sequential\": [[0.0, \"#0d0887\"], [0.1111111111111111, \"#46039f\"], [0.2222222222222222, \"#7201a8\"], [0.3333333333333333, \"#9c179e\"], [0.4444444444444444, \"#bd3786\"], [0.5555555555555556, \"#d8576b\"], [0.6666666666666666, \"#ed7953\"], [0.7777777777777778, \"#fb9f3a\"], [0.8888888888888888, \"#fdca26\"], [1.0, \"#f0f921\"]], \"sequentialminus\": [[0.0, \"#0d0887\"], [0.1111111111111111, \"#46039f\"], [0.2222222222222222, \"#7201a8\"], [0.3333333333333333, \"#9c179e\"], [0.4444444444444444, \"#bd3786\"], [0.5555555555555556, \"#d8576b\"], [0.6666666666666666, \"#ed7953\"], [0.7777777777777778, \"#fb9f3a\"], [0.8888888888888888, \"#fdca26\"], [1.0, \"#f0f921\"]]}, \"colorway\": [\"#636efa\", \"#EF553B\", \"#00cc96\", \"#ab63fa\", \"#FFA15A\", \"#19d3f3\", \"#FF6692\", \"#B6E880\", \"#FF97FF\", \"#FECB52\"], \"font\": {\"color\": \"#2a3f5f\"}, \"geo\": {\"bgcolor\": \"white\", \"lakecolor\": \"white\", \"landcolor\": \"#E5ECF6\", \"showlakes\": true, \"showland\": true, \"subunitcolor\": \"white\"}, \"hoverlabel\": {\"align\": \"left\"}, \"hovermode\": \"closest\", \"mapbox\": {\"style\": \"light\"}, \"paper_bgcolor\": \"white\", \"plot_bgcolor\": \"#E5ECF6\", \"polar\": {\"angularaxis\": {\"gridcolor\": \"white\", \"linecolor\": \"white\", \"ticks\": \"\"}, \"bgcolor\": \"#E5ECF6\", \"radialaxis\": {\"gridcolor\": \"white\", \"linecolor\": \"white\", \"ticks\": \"\"}}, \"scene\": {\"xaxis\": {\"backgroundcolor\": \"#E5ECF6\", \"gridcolor\": \"white\", \"gridwidth\": 2, \"linecolor\": \"white\", \"showbackground\": true, \"ticks\": \"\", \"zerolinecolor\": \"white\"}, \"yaxis\": {\"backgroundcolor\": \"#E5ECF6\", \"gridcolor\": \"white\", \"gridwidth\": 2, \"linecolor\": \"white\", \"showbackground\": true, \"ticks\": \"\", \"zerolinecolor\": \"white\"}, \"zaxis\": {\"backgroundcolor\": \"#E5ECF6\", \"gridcolor\": \"white\", \"gridwidth\": 2, \"linecolor\": \"white\", \"showbackground\": true, \"ticks\": \"\", \"zerolinecolor\": \"white\"}}, \"shapedefaults\": {\"line\": {\"color\": \"#2a3f5f\"}}, \"ternary\": {\"aaxis\": {\"gridcolor\": \"white\", \"linecolor\": \"white\", \"ticks\": \"\"}, \"baxis\": {\"gridcolor\": \"white\", \"linecolor\": \"white\", \"ticks\": \"\"}, \"bgcolor\": \"#E5ECF6\", \"caxis\": {\"gridcolor\": \"white\", \"linecolor\": \"white\", \"ticks\": \"\"}}, \"title\": {\"x\": 0.05}, \"xaxis\": {\"automargin\": true, \"gridcolor\": \"white\", \"linecolor\": \"white\", \"ticks\": \"\", \"zerolinecolor\": \"white\", \"zerolinewidth\": 2}, \"yaxis\": {\"automargin\": true, \"gridcolor\": \"white\", \"linecolor\": \"white\", \"ticks\": \"\", \"zerolinecolor\": \"white\", \"zerolinewidth\": 2}}}, \"title\": {\"font\": {\"color\": \"#4D5663\"}}, \"xaxis\": {\"gridcolor\": \"#E1E5ED\", \"showgrid\": true, \"tickfont\": {\"color\": \"#4D5663\"}, \"title\": {\"font\": {\"color\": \"#4D5663\"}, \"text\": \"\"}, \"zerolinecolor\": \"#E1E5ED\"}, \"yaxis\": {\"gridcolor\": \"#E1E5ED\", \"showgrid\": true, \"tickfont\": {\"color\": \"#4D5663\"}, \"title\": {\"font\": {\"color\": \"#4D5663\"}, \"text\": \"\"}, \"zerolinecolor\": \"#E1E5ED\"}},\n",
       "                        {\"showLink\": true, \"linkText\": \"Export to plot.ly\", \"plotlyServerURL\": \"https://plot.ly\", \"responsive\": true}\n",
       "                    ).then(function(){\n",
       "                            \n",
       "var gd = document.getElementById('32eb8ffc-7338-4230-b738-dcef924183bf');\n",
       "var x = new MutationObserver(function (mutations, observer) {{\n",
       "        var display = window.getComputedStyle(gd).display;\n",
       "        if (!display || display === 'none') {{\n",
       "            console.log([gd, 'removed!']);\n",
       "            Plotly.purge(gd);\n",
       "            observer.disconnect();\n",
       "        }}\n",
       "}});\n",
       "\n",
       "// Listen for the removal of the full notebook cells\n",
       "var notebookContainer = gd.closest('#notebook-container');\n",
       "if (notebookContainer) {{\n",
       "    x.observe(notebookContainer, {childList: true});\n",
       "}}\n",
       "\n",
       "// Listen for the clearing of the current output cell\n",
       "var outputEl = gd.closest('.output');\n",
       "if (outputEl) {{\n",
       "    x.observe(outputEl, {childList: true});\n",
       "}}\n",
       "\n",
       "                        })\n",
       "                };\n",
       "                });\n",
       "            </script>\n",
       "        </div>"
      ]
     },
     "metadata": {},
     "output_type": "display_data"
    }
   ],
   "source": [
    "# bubble plot is similar to a scatterplot except that is will change the size of the points based off variable\n",
    "\n",
    "df.iplot(kind = 'bubble', x = 'A', y = 'B', size = 'C')"
   ]
  },
  {
   "cell_type": "markdown",
   "metadata": {},
   "source": [
    "### 9. matirxplot"
   ]
  },
  {
   "cell_type": "code",
   "execution_count": 34,
   "metadata": {},
   "outputs": [
    {
     "data": {
      "application/vnd.plotly.v1+json": {
       "config": {
        "linkText": "Export to plot.ly",
        "plotlyServerURL": "https://plot.ly",
        "showLink": true
       },
       "data": [
        {
         "histfunc": "count",
         "histnorm": "",
         "marker": {
          "color": "rgba(255, 153, 51, 1.0)",
          "line": {
           "color": "#4D5663",
           "width": 1.3
          }
         },
         "name": "A",
         "nbinsx": 10,
         "opacity": 0.8,
         "orientation": "v",
         "type": "histogram",
         "x": [
          2.069081317248437,
          -1.9586988201017066,
          0.31687259557075065,
          0.3163933211791377,
          -0.16623943248273207,
          1.5497820365156982,
          -1.7297768914284835,
          0.5697825774153621,
          -0.7032361365794662,
          -0.8268251660691491,
          1.2467171956322265,
          -1.0757476486572177,
          -0.165999174967776,
          0.42843672539742184,
          -0.25675899385138395,
          0.22587079145601774,
          1.9166425271506045,
          -0.640237220836307,
          -0.6861772522003287,
          -0.5586527440178088,
          -2.5054824095350603,
          0.4409074736412183,
          -1.9900902601521533,
          -0.5210386202937979,
          -0.5080735923466261,
          -0.7618302051217163,
          0.8385206587443153,
          1.4112551979094434,
          -0.35899178289305833,
          -0.7583551270205274,
          0.1801450370472393,
          -1.668881029521964,
          -0.7631515357140278,
          -0.6703114133478807,
          -1.4410620768665687,
          0.8743716919027011,
          1.3712437328971603,
          1.8015066568239602,
          -1.3793914176363382,
          -0.310781082112185,
          0.21539737058955025,
          0.26100127321811867,
          -0.5720033350321432,
          2.132914188699778,
          -1.6315266835701523,
          0.6116058285290135,
          -1.375542976417157,
          0.5516327908947728,
          -0.8291435228557643,
          -0.10741096952517305,
          0.466848431170696,
          0.8433508517657493,
          0.11636175879694592,
          0.5598366538046764,
          0.24914272694522172,
          -0.06884643442780915,
          -0.4084858316707387,
          -1.4051726071742447,
          -0.30645623254003573,
          1.7389939017633762,
          -1.069248683755255,
          1.6834497814923641,
          1.346355028489932,
          -0.6762454051862051,
          0.9031060789060906,
          1.1356794877473801,
          -0.40881973318811055,
          0.7063794517678516,
          -0.4152686536633678,
          -0.996637064263391,
          -0.05603719295495405,
          0.3267743031922197,
          -0.7097067062730879,
          0.4433270622616412,
          0.379617908590977,
          -0.43494427079199754,
          1.7809685905508235,
          1.6966147780256329,
          1.4906595522423403,
          0.4809146675204936,
          -1.3864972445511055,
          -0.6595869670593304,
          -0.5506363437289727,
          0.5980724890985413,
          -1.1521791912703487,
          -0.3175929792191654,
          -1.8718075854411518,
          -0.27684143268620376,
          -1.6259350828226837,
          1.2269730494900373,
          -0.048869330284592144,
          1.5957901102313448,
          -0.040539979809508665,
          1.3204254982305588,
          -0.035534127153365694,
          0.9671163301831622,
          0.5214914391803923,
          0.9508548035963178,
          0.05960270547188383,
          -0.01561286021245415
         ],
         "xaxis": "x",
         "yaxis": "y"
        },
        {
         "line": {
          "color": "rgba(128, 128, 128, 1.0)",
          "dash": "solid",
          "shape": "linear",
          "width": 1.3
         },
         "marker": {
          "size": 2,
          "symbol": "circle"
         },
         "mode": "markers",
         "name": "A",
         "text": "",
         "type": "scatter",
         "x": [
          0.5371406102484116,
          -0.7630355998932787,
          -2.4858162864857523,
          1.2592066808607159,
          0.9595436226520081,
          -0.8081156938171563,
          0.9958728377864831,
          -0.04591061914796954,
          0.6904010738181772,
          -0.5511142392207588,
          1.4402893831504124,
          0.35305376609086747,
          0.7972779169691322,
          0.34537746993804025,
          1.31874407327095,
          1.6969578374319672,
          -2.380558289248379,
          -0.42479170062544036,
          0.7611985790453921,
          -1.4523150254476245,
          0.587450547772239,
          0.15513270402904678,
          0.3816171930588017,
          -0.3485622560270526,
          -0.2233077072848466,
          -0.06657166845739156,
          -0.4699219481124245,
          1.2162365035510758,
          -0.08247111159833434,
          -0.26576094186048205,
          0.6287146222239482,
          0.5464995934949134,
          -1.0413503318774242,
          -0.6133269467314942,
          1.7897861110849156,
          -1.4636448182885142,
          -0.6082089722636107,
          -0.18944182747086188,
          1.1535409107981895,
          -0.2610438758985015,
          0.7607204950976051,
          0.8689659293485391,
          -1.0408678834637686,
          -1.8697259764998884,
          0.052957623660512085,
          -0.4752375307599897,
          -0.6894315405633875,
          0.20660004628802267,
          0.41587696940825136,
          0.11794519060016996,
          -0.5483109902790982,
          0.2204585387263463,
          -0.0814497894297341,
          -0.4261861035950627,
          -0.021917182184465037,
          0.35222734994579635,
          -0.24159158765078223,
          -1.245418117537442,
          1.0216068651998909,
          0.2639425680704423,
          0.9241230815489991,
          1.0987810469821897,
          -1.2581918632792053,
          -0.3047137245763503,
          0.60914107898099,
          -0.9152188042552775,
          -0.26765853410307033,
          -2.0075144589553195,
          0.8147844678127948,
          -0.13131685638323615,
          -1.311225180991742,
          -0.04852659651473337,
          -1.218931042803003,
          -1.024830966258147,
          0.12385012282058273,
          -0.20982791576190235,
          -0.24678271085565104,
          0.5154062122960229,
          0.1544833714506777,
          -0.41404378573783396,
          -1.2860894727014949,
          -1.437949062500608,
          2.4274363130615795,
          -0.4573332199984909,
          0.7826881088936185,
          -0.10934943159905164,
          -0.5949196074311865,
          0.03144939194326923,
          1.524309150436032,
          -0.23392802647924565,
          0.5361360451160111,
          -0.7495155351889765,
          -0.18096629842077092,
          1.558544319601368,
          1.7517499105114092,
          -0.39371248209055115,
          0.345362285426185,
          -0.7860338813922241,
          1.900836644872969,
          -0.6373552719220384
         ],
         "xaxis": "x2",
         "y": [
          2.069081317248437,
          -1.9586988201017066,
          0.31687259557075065,
          0.3163933211791377,
          -0.16623943248273207,
          1.5497820365156982,
          -1.7297768914284835,
          0.5697825774153621,
          -0.7032361365794662,
          -0.8268251660691491,
          1.2467171956322265,
          -1.0757476486572177,
          -0.165999174967776,
          0.42843672539742184,
          -0.25675899385138395,
          0.22587079145601774,
          1.9166425271506045,
          -0.640237220836307,
          -0.6861772522003287,
          -0.5586527440178088,
          -2.5054824095350603,
          0.4409074736412183,
          -1.9900902601521533,
          -0.5210386202937979,
          -0.5080735923466261,
          -0.7618302051217163,
          0.8385206587443153,
          1.4112551979094434,
          -0.35899178289305833,
          -0.7583551270205274,
          0.1801450370472393,
          -1.668881029521964,
          -0.7631515357140278,
          -0.6703114133478807,
          -1.4410620768665687,
          0.8743716919027011,
          1.3712437328971603,
          1.8015066568239602,
          -1.3793914176363382,
          -0.310781082112185,
          0.21539737058955025,
          0.26100127321811867,
          -0.5720033350321432,
          2.132914188699778,
          -1.6315266835701523,
          0.6116058285290135,
          -1.375542976417157,
          0.5516327908947728,
          -0.8291435228557643,
          -0.10741096952517305,
          0.466848431170696,
          0.8433508517657493,
          0.11636175879694592,
          0.5598366538046764,
          0.24914272694522172,
          -0.06884643442780915,
          -0.4084858316707387,
          -1.4051726071742447,
          -0.30645623254003573,
          1.7389939017633762,
          -1.069248683755255,
          1.6834497814923641,
          1.346355028489932,
          -0.6762454051862051,
          0.9031060789060906,
          1.1356794877473801,
          -0.40881973318811055,
          0.7063794517678516,
          -0.4152686536633678,
          -0.996637064263391,
          -0.05603719295495405,
          0.3267743031922197,
          -0.7097067062730879,
          0.4433270622616412,
          0.379617908590977,
          -0.43494427079199754,
          1.7809685905508235,
          1.6966147780256329,
          1.4906595522423403,
          0.4809146675204936,
          -1.3864972445511055,
          -0.6595869670593304,
          -0.5506363437289727,
          0.5980724890985413,
          -1.1521791912703487,
          -0.3175929792191654,
          -1.8718075854411518,
          -0.27684143268620376,
          -1.6259350828226837,
          1.2269730494900373,
          -0.048869330284592144,
          1.5957901102313448,
          -0.040539979809508665,
          1.3204254982305588,
          -0.035534127153365694,
          0.9671163301831622,
          0.5214914391803923,
          0.9508548035963178,
          0.05960270547188383,
          -0.01561286021245415
         ],
         "yaxis": "y2"
        },
        {
         "line": {
          "color": "rgba(128, 128, 128, 1.0)",
          "dash": "solid",
          "shape": "linear",
          "width": 1.3
         },
         "marker": {
          "size": 2,
          "symbol": "circle"
         },
         "mode": "markers",
         "name": "A",
         "text": "",
         "type": "scatter",
         "x": [
          -0.6850215014043163,
          -1.2412518834652546,
          -0.3946676954847482,
          0.7651845615941001,
          0.8539049176742748,
          -0.37644014904789597,
          -0.32772970648204053,
          0.02834189527309373,
          -0.9504524445878754,
          0.8230972624100741,
          -1.7142178136821131,
          0.33112410774976675,
          0.016363052685521937,
          -0.43413069570491963,
          -1.5738282812386328,
          0.03489961725557421,
          -0.12246618896219813,
          -0.6146165254190183,
          0.43031162267834133,
          0.06397533316452905,
          -0.490651552827173,
          1.3735403366482595,
          0.8188391172357061,
          -0.02980846654887524,
          -0.31099894785936216,
          -0.2735335159583621,
          0.4179333738998075,
          -0.5715943544758427,
          0.1344414889806831,
          -1.521533327628918,
          -0.6689381159428938,
          0.15251369394908768,
          -0.36431107964479786,
          -0.10028586033516866,
          -2.6732007415098575,
          0.11324362012281179,
          -0.048704678642151784,
          1.4180214987115798,
          -0.8867526618791968,
          -1.5253768240139522,
          1.8287289167343548,
          -0.7592255448926566,
          -0.0671946927632733,
          0.1754235812981672,
          -1.0358340705530713,
          0.0019515411977063064,
          0.048488005484730506,
          -0.44430593841028115,
          -0.2331860016412143,
          1.1627105571515324,
          0.5660950651322101,
          -0.6786210624157247,
          -0.20721530694253,
          -0.07151740505683823,
          -0.6818973591112406,
          -1.324645088015891,
          -0.2310949839970945,
          -0.8492294245819209,
          0.210864914686496,
          -0.5009556142676546,
          1.1266769334653688,
          2.248449891487893,
          -1.9246130542716733,
          -1.1722170464527613,
          0.09141428654928084,
          1.1753076792060488,
          -0.43191016662870235,
          -1.1616224424459403,
          1.3823367200683663,
          -1.6837964741457006,
          -0.3211979035283138,
          0.10236534755693119,
          2.061701313426245,
          0.5473232701612604,
          -0.24896171576994267,
          0.6318260116940371,
          -0.8575144563857071,
          -0.06710741764459427,
          1.0667462425791259,
          1.2325174883238221,
          -1.2629602105446083,
          0.9494335560653758,
          1.413884715443827,
          0.5129628018179038,
          0.2560733737865519,
          -0.8923394405259693,
          0.8888377362062309,
          -0.688304615890909,
          1.1748715811398724,
          -0.7300124099889382,
          1.6207942045893935,
          0.07057876461498128,
          0.1381467197907667,
          -0.15809627739176416,
          -0.12616914469849583,
          -0.6426296324989368,
          -1.1256061558648365,
          -0.2819777712287155,
          0.25792572295089744,
          -1.3031790480572327
         ],
         "xaxis": "x3",
         "y": [
          2.069081317248437,
          -1.9586988201017066,
          0.31687259557075065,
          0.3163933211791377,
          -0.16623943248273207,
          1.5497820365156982,
          -1.7297768914284835,
          0.5697825774153621,
          -0.7032361365794662,
          -0.8268251660691491,
          1.2467171956322265,
          -1.0757476486572177,
          -0.165999174967776,
          0.42843672539742184,
          -0.25675899385138395,
          0.22587079145601774,
          1.9166425271506045,
          -0.640237220836307,
          -0.6861772522003287,
          -0.5586527440178088,
          -2.5054824095350603,
          0.4409074736412183,
          -1.9900902601521533,
          -0.5210386202937979,
          -0.5080735923466261,
          -0.7618302051217163,
          0.8385206587443153,
          1.4112551979094434,
          -0.35899178289305833,
          -0.7583551270205274,
          0.1801450370472393,
          -1.668881029521964,
          -0.7631515357140278,
          -0.6703114133478807,
          -1.4410620768665687,
          0.8743716919027011,
          1.3712437328971603,
          1.8015066568239602,
          -1.3793914176363382,
          -0.310781082112185,
          0.21539737058955025,
          0.26100127321811867,
          -0.5720033350321432,
          2.132914188699778,
          -1.6315266835701523,
          0.6116058285290135,
          -1.375542976417157,
          0.5516327908947728,
          -0.8291435228557643,
          -0.10741096952517305,
          0.466848431170696,
          0.8433508517657493,
          0.11636175879694592,
          0.5598366538046764,
          0.24914272694522172,
          -0.06884643442780915,
          -0.4084858316707387,
          -1.4051726071742447,
          -0.30645623254003573,
          1.7389939017633762,
          -1.069248683755255,
          1.6834497814923641,
          1.346355028489932,
          -0.6762454051862051,
          0.9031060789060906,
          1.1356794877473801,
          -0.40881973318811055,
          0.7063794517678516,
          -0.4152686536633678,
          -0.996637064263391,
          -0.05603719295495405,
          0.3267743031922197,
          -0.7097067062730879,
          0.4433270622616412,
          0.379617908590977,
          -0.43494427079199754,
          1.7809685905508235,
          1.6966147780256329,
          1.4906595522423403,
          0.4809146675204936,
          -1.3864972445511055,
          -0.6595869670593304,
          -0.5506363437289727,
          0.5980724890985413,
          -1.1521791912703487,
          -0.3175929792191654,
          -1.8718075854411518,
          -0.27684143268620376,
          -1.6259350828226837,
          1.2269730494900373,
          -0.048869330284592144,
          1.5957901102313448,
          -0.040539979809508665,
          1.3204254982305588,
          -0.035534127153365694,
          0.9671163301831622,
          0.5214914391803923,
          0.9508548035963178,
          0.05960270547188383,
          -0.01561286021245415
         ],
         "yaxis": "y3"
        },
        {
         "line": {
          "color": "rgba(128, 128, 128, 1.0)",
          "dash": "solid",
          "shape": "linear",
          "width": 1.3
         },
         "marker": {
          "size": 2,
          "symbol": "circle"
         },
         "mode": "markers",
         "name": "A",
         "text": "",
         "type": "scatter",
         "x": [
          2.014247115270905,
          -0.7428208160857449,
          -1.309030944216816,
          -2.478092924371268,
          -0.6280100446363561,
          1.0291618666179578,
          -0.26691667588585155,
          1.313422842184512,
          -1.970495819360091,
          0.11411545090210919,
          0.9181163750127501,
          -0.29858708158689656,
          -0.26612821659138275,
          -0.973581285673536,
          -0.20814284985497686,
          -0.2558327791930005,
          0.37891920212858315,
          1.1085200274370157,
          -1.0002458133975058,
          -0.33242083339553374,
          -0.9749877501914137,
          1.15811018558237,
          0.5169718463650118,
          -1.274743874217198,
          2.006624857298406,
          0.25511767166704996,
          -0.30164693812853194,
          0.06354489502755675,
          -1.0197590712944298,
          0.3253988257390908,
          -0.7933307740387828,
          -0.8036699362969526,
          0.1043611568074112,
          1.3437747133382383,
          -0.5894175974959336,
          -0.49893973790798285,
          -0.47525780077383467,
          -0.9390740838969601,
          1.4442447945726926,
          -0.7540442676823031,
          1.5830342653142089,
          0.6438885132208334,
          0.2990209607177709,
          0.17577833233795892,
          1.4195280629117475,
          1.3131698831594645,
          1.0031714131683982,
          1.7632422224160416,
          0.11073442737923893,
          -0.5828009953990801,
          -0.486770021231336,
          -0.3839996428127627,
          -0.4391568257246189,
          -0.44417511214167693,
          -0.3318415514093242,
          0.11211566642523081,
          0.6104668682054902,
          -0.49044106556725764,
          -0.8714167589345827,
          -1.6880287466088721,
          1.3880439298208682,
          0.007243106345136585,
          -0.7003319230422439,
          0.9207544153619949,
          1.8122011583635331,
          0.21520079658506217,
          1.338945422952007,
          -1.3559156793828218,
          1.0675500203465638,
          0.22685073583400517,
          1.3147667676333779,
          -0.8512121329769073,
          -1.00825773280854,
          -0.05585947679402678,
          -1.9087662048270295,
          -1.1700986548099093,
          -0.14527278661267826,
          0.22093226813171887,
          1.624520241139117,
          1.508494359617955,
          0.6357187352707607,
          0.4533273679564344,
          0.07956108166066125,
          -0.8250424975633813,
          -1.6091491496953354,
          0.8742516509758052,
          -2.491823621271737,
          -0.042188676755759956,
          1.2969695278585485,
          0.42802263329645285,
          1.3549457569635972,
          0.011100810382680232,
          -0.5876763575631399,
          -0.34431210228354003,
          -0.6782744890719055,
          1.3916341438432032,
          -0.12101914607071254,
          -1.7419381441262538,
          0.3707115678108203,
          0.5024782457297611
         ],
         "xaxis": "x4",
         "y": [
          2.069081317248437,
          -1.9586988201017066,
          0.31687259557075065,
          0.3163933211791377,
          -0.16623943248273207,
          1.5497820365156982,
          -1.7297768914284835,
          0.5697825774153621,
          -0.7032361365794662,
          -0.8268251660691491,
          1.2467171956322265,
          -1.0757476486572177,
          -0.165999174967776,
          0.42843672539742184,
          -0.25675899385138395,
          0.22587079145601774,
          1.9166425271506045,
          -0.640237220836307,
          -0.6861772522003287,
          -0.5586527440178088,
          -2.5054824095350603,
          0.4409074736412183,
          -1.9900902601521533,
          -0.5210386202937979,
          -0.5080735923466261,
          -0.7618302051217163,
          0.8385206587443153,
          1.4112551979094434,
          -0.35899178289305833,
          -0.7583551270205274,
          0.1801450370472393,
          -1.668881029521964,
          -0.7631515357140278,
          -0.6703114133478807,
          -1.4410620768665687,
          0.8743716919027011,
          1.3712437328971603,
          1.8015066568239602,
          -1.3793914176363382,
          -0.310781082112185,
          0.21539737058955025,
          0.26100127321811867,
          -0.5720033350321432,
          2.132914188699778,
          -1.6315266835701523,
          0.6116058285290135,
          -1.375542976417157,
          0.5516327908947728,
          -0.8291435228557643,
          -0.10741096952517305,
          0.466848431170696,
          0.8433508517657493,
          0.11636175879694592,
          0.5598366538046764,
          0.24914272694522172,
          -0.06884643442780915,
          -0.4084858316707387,
          -1.4051726071742447,
          -0.30645623254003573,
          1.7389939017633762,
          -1.069248683755255,
          1.6834497814923641,
          1.346355028489932,
          -0.6762454051862051,
          0.9031060789060906,
          1.1356794877473801,
          -0.40881973318811055,
          0.7063794517678516,
          -0.4152686536633678,
          -0.996637064263391,
          -0.05603719295495405,
          0.3267743031922197,
          -0.7097067062730879,
          0.4433270622616412,
          0.379617908590977,
          -0.43494427079199754,
          1.7809685905508235,
          1.6966147780256329,
          1.4906595522423403,
          0.4809146675204936,
          -1.3864972445511055,
          -0.6595869670593304,
          -0.5506363437289727,
          0.5980724890985413,
          -1.1521791912703487,
          -0.3175929792191654,
          -1.8718075854411518,
          -0.27684143268620376,
          -1.6259350828226837,
          1.2269730494900373,
          -0.048869330284592144,
          1.5957901102313448,
          -0.040539979809508665,
          1.3204254982305588,
          -0.035534127153365694,
          0.9671163301831622,
          0.5214914391803923,
          0.9508548035963178,
          0.05960270547188383,
          -0.01561286021245415
         ],
         "yaxis": "y4"
        },
        {
         "line": {
          "color": "rgba(128, 128, 128, 1.0)",
          "dash": "solid",
          "shape": "linear",
          "width": 1.3
         },
         "marker": {
          "size": 2,
          "symbol": "circle"
         },
         "mode": "markers",
         "name": "B",
         "text": "",
         "type": "scatter",
         "x": [
          2.069081317248437,
          -1.9586988201017066,
          0.31687259557075065,
          0.3163933211791377,
          -0.16623943248273207,
          1.5497820365156982,
          -1.7297768914284835,
          0.5697825774153621,
          -0.7032361365794662,
          -0.8268251660691491,
          1.2467171956322265,
          -1.0757476486572177,
          -0.165999174967776,
          0.42843672539742184,
          -0.25675899385138395,
          0.22587079145601774,
          1.9166425271506045,
          -0.640237220836307,
          -0.6861772522003287,
          -0.5586527440178088,
          -2.5054824095350603,
          0.4409074736412183,
          -1.9900902601521533,
          -0.5210386202937979,
          -0.5080735923466261,
          -0.7618302051217163,
          0.8385206587443153,
          1.4112551979094434,
          -0.35899178289305833,
          -0.7583551270205274,
          0.1801450370472393,
          -1.668881029521964,
          -0.7631515357140278,
          -0.6703114133478807,
          -1.4410620768665687,
          0.8743716919027011,
          1.3712437328971603,
          1.8015066568239602,
          -1.3793914176363382,
          -0.310781082112185,
          0.21539737058955025,
          0.26100127321811867,
          -0.5720033350321432,
          2.132914188699778,
          -1.6315266835701523,
          0.6116058285290135,
          -1.375542976417157,
          0.5516327908947728,
          -0.8291435228557643,
          -0.10741096952517305,
          0.466848431170696,
          0.8433508517657493,
          0.11636175879694592,
          0.5598366538046764,
          0.24914272694522172,
          -0.06884643442780915,
          -0.4084858316707387,
          -1.4051726071742447,
          -0.30645623254003573,
          1.7389939017633762,
          -1.069248683755255,
          1.6834497814923641,
          1.346355028489932,
          -0.6762454051862051,
          0.9031060789060906,
          1.1356794877473801,
          -0.40881973318811055,
          0.7063794517678516,
          -0.4152686536633678,
          -0.996637064263391,
          -0.05603719295495405,
          0.3267743031922197,
          -0.7097067062730879,
          0.4433270622616412,
          0.379617908590977,
          -0.43494427079199754,
          1.7809685905508235,
          1.6966147780256329,
          1.4906595522423403,
          0.4809146675204936,
          -1.3864972445511055,
          -0.6595869670593304,
          -0.5506363437289727,
          0.5980724890985413,
          -1.1521791912703487,
          -0.3175929792191654,
          -1.8718075854411518,
          -0.27684143268620376,
          -1.6259350828226837,
          1.2269730494900373,
          -0.048869330284592144,
          1.5957901102313448,
          -0.040539979809508665,
          1.3204254982305588,
          -0.035534127153365694,
          0.9671163301831622,
          0.5214914391803923,
          0.9508548035963178,
          0.05960270547188383,
          -0.01561286021245415
         ],
         "xaxis": "x5",
         "y": [
          0.5371406102484116,
          -0.7630355998932787,
          -2.4858162864857523,
          1.2592066808607159,
          0.9595436226520081,
          -0.8081156938171563,
          0.9958728377864831,
          -0.04591061914796954,
          0.6904010738181772,
          -0.5511142392207588,
          1.4402893831504124,
          0.35305376609086747,
          0.7972779169691322,
          0.34537746993804025,
          1.31874407327095,
          1.6969578374319672,
          -2.380558289248379,
          -0.42479170062544036,
          0.7611985790453921,
          -1.4523150254476245,
          0.587450547772239,
          0.15513270402904678,
          0.3816171930588017,
          -0.3485622560270526,
          -0.2233077072848466,
          -0.06657166845739156,
          -0.4699219481124245,
          1.2162365035510758,
          -0.08247111159833434,
          -0.26576094186048205,
          0.6287146222239482,
          0.5464995934949134,
          -1.0413503318774242,
          -0.6133269467314942,
          1.7897861110849156,
          -1.4636448182885142,
          -0.6082089722636107,
          -0.18944182747086188,
          1.1535409107981895,
          -0.2610438758985015,
          0.7607204950976051,
          0.8689659293485391,
          -1.0408678834637686,
          -1.8697259764998884,
          0.052957623660512085,
          -0.4752375307599897,
          -0.6894315405633875,
          0.20660004628802267,
          0.41587696940825136,
          0.11794519060016996,
          -0.5483109902790982,
          0.2204585387263463,
          -0.0814497894297341,
          -0.4261861035950627,
          -0.021917182184465037,
          0.35222734994579635,
          -0.24159158765078223,
          -1.245418117537442,
          1.0216068651998909,
          0.2639425680704423,
          0.9241230815489991,
          1.0987810469821897,
          -1.2581918632792053,
          -0.3047137245763503,
          0.60914107898099,
          -0.9152188042552775,
          -0.26765853410307033,
          -2.0075144589553195,
          0.8147844678127948,
          -0.13131685638323615,
          -1.311225180991742,
          -0.04852659651473337,
          -1.218931042803003,
          -1.024830966258147,
          0.12385012282058273,
          -0.20982791576190235,
          -0.24678271085565104,
          0.5154062122960229,
          0.1544833714506777,
          -0.41404378573783396,
          -1.2860894727014949,
          -1.437949062500608,
          2.4274363130615795,
          -0.4573332199984909,
          0.7826881088936185,
          -0.10934943159905164,
          -0.5949196074311865,
          0.03144939194326923,
          1.524309150436032,
          -0.23392802647924565,
          0.5361360451160111,
          -0.7495155351889765,
          -0.18096629842077092,
          1.558544319601368,
          1.7517499105114092,
          -0.39371248209055115,
          0.345362285426185,
          -0.7860338813922241,
          1.900836644872969,
          -0.6373552719220384
         ],
         "yaxis": "y5"
        },
        {
         "histfunc": "count",
         "histnorm": "",
         "marker": {
          "color": "rgba(55, 128, 191, 1.0)",
          "line": {
           "color": "#4D5663",
           "width": 1.3
          }
         },
         "name": "B",
         "nbinsx": 10,
         "opacity": 0.8,
         "orientation": "v",
         "type": "histogram",
         "x": [
          0.5371406102484116,
          -0.7630355998932787,
          -2.4858162864857523,
          1.2592066808607159,
          0.9595436226520081,
          -0.8081156938171563,
          0.9958728377864831,
          -0.04591061914796954,
          0.6904010738181772,
          -0.5511142392207588,
          1.4402893831504124,
          0.35305376609086747,
          0.7972779169691322,
          0.34537746993804025,
          1.31874407327095,
          1.6969578374319672,
          -2.380558289248379,
          -0.42479170062544036,
          0.7611985790453921,
          -1.4523150254476245,
          0.587450547772239,
          0.15513270402904678,
          0.3816171930588017,
          -0.3485622560270526,
          -0.2233077072848466,
          -0.06657166845739156,
          -0.4699219481124245,
          1.2162365035510758,
          -0.08247111159833434,
          -0.26576094186048205,
          0.6287146222239482,
          0.5464995934949134,
          -1.0413503318774242,
          -0.6133269467314942,
          1.7897861110849156,
          -1.4636448182885142,
          -0.6082089722636107,
          -0.18944182747086188,
          1.1535409107981895,
          -0.2610438758985015,
          0.7607204950976051,
          0.8689659293485391,
          -1.0408678834637686,
          -1.8697259764998884,
          0.052957623660512085,
          -0.4752375307599897,
          -0.6894315405633875,
          0.20660004628802267,
          0.41587696940825136,
          0.11794519060016996,
          -0.5483109902790982,
          0.2204585387263463,
          -0.0814497894297341,
          -0.4261861035950627,
          -0.021917182184465037,
          0.35222734994579635,
          -0.24159158765078223,
          -1.245418117537442,
          1.0216068651998909,
          0.2639425680704423,
          0.9241230815489991,
          1.0987810469821897,
          -1.2581918632792053,
          -0.3047137245763503,
          0.60914107898099,
          -0.9152188042552775,
          -0.26765853410307033,
          -2.0075144589553195,
          0.8147844678127948,
          -0.13131685638323615,
          -1.311225180991742,
          -0.04852659651473337,
          -1.218931042803003,
          -1.024830966258147,
          0.12385012282058273,
          -0.20982791576190235,
          -0.24678271085565104,
          0.5154062122960229,
          0.1544833714506777,
          -0.41404378573783396,
          -1.2860894727014949,
          -1.437949062500608,
          2.4274363130615795,
          -0.4573332199984909,
          0.7826881088936185,
          -0.10934943159905164,
          -0.5949196074311865,
          0.03144939194326923,
          1.524309150436032,
          -0.23392802647924565,
          0.5361360451160111,
          -0.7495155351889765,
          -0.18096629842077092,
          1.558544319601368,
          1.7517499105114092,
          -0.39371248209055115,
          0.345362285426185,
          -0.7860338813922241,
          1.900836644872969,
          -0.6373552719220384
         ],
         "xaxis": "x6",
         "yaxis": "y6"
        },
        {
         "line": {
          "color": "rgba(128, 128, 128, 1.0)",
          "dash": "solid",
          "shape": "linear",
          "width": 1.3
         },
         "marker": {
          "size": 2,
          "symbol": "circle"
         },
         "mode": "markers",
         "name": "B",
         "text": "",
         "type": "scatter",
         "x": [
          -0.6850215014043163,
          -1.2412518834652546,
          -0.3946676954847482,
          0.7651845615941001,
          0.8539049176742748,
          -0.37644014904789597,
          -0.32772970648204053,
          0.02834189527309373,
          -0.9504524445878754,
          0.8230972624100741,
          -1.7142178136821131,
          0.33112410774976675,
          0.016363052685521937,
          -0.43413069570491963,
          -1.5738282812386328,
          0.03489961725557421,
          -0.12246618896219813,
          -0.6146165254190183,
          0.43031162267834133,
          0.06397533316452905,
          -0.490651552827173,
          1.3735403366482595,
          0.8188391172357061,
          -0.02980846654887524,
          -0.31099894785936216,
          -0.2735335159583621,
          0.4179333738998075,
          -0.5715943544758427,
          0.1344414889806831,
          -1.521533327628918,
          -0.6689381159428938,
          0.15251369394908768,
          -0.36431107964479786,
          -0.10028586033516866,
          -2.6732007415098575,
          0.11324362012281179,
          -0.048704678642151784,
          1.4180214987115798,
          -0.8867526618791968,
          -1.5253768240139522,
          1.8287289167343548,
          -0.7592255448926566,
          -0.0671946927632733,
          0.1754235812981672,
          -1.0358340705530713,
          0.0019515411977063064,
          0.048488005484730506,
          -0.44430593841028115,
          -0.2331860016412143,
          1.1627105571515324,
          0.5660950651322101,
          -0.6786210624157247,
          -0.20721530694253,
          -0.07151740505683823,
          -0.6818973591112406,
          -1.324645088015891,
          -0.2310949839970945,
          -0.8492294245819209,
          0.210864914686496,
          -0.5009556142676546,
          1.1266769334653688,
          2.248449891487893,
          -1.9246130542716733,
          -1.1722170464527613,
          0.09141428654928084,
          1.1753076792060488,
          -0.43191016662870235,
          -1.1616224424459403,
          1.3823367200683663,
          -1.6837964741457006,
          -0.3211979035283138,
          0.10236534755693119,
          2.061701313426245,
          0.5473232701612604,
          -0.24896171576994267,
          0.6318260116940371,
          -0.8575144563857071,
          -0.06710741764459427,
          1.0667462425791259,
          1.2325174883238221,
          -1.2629602105446083,
          0.9494335560653758,
          1.413884715443827,
          0.5129628018179038,
          0.2560733737865519,
          -0.8923394405259693,
          0.8888377362062309,
          -0.688304615890909,
          1.1748715811398724,
          -0.7300124099889382,
          1.6207942045893935,
          0.07057876461498128,
          0.1381467197907667,
          -0.15809627739176416,
          -0.12616914469849583,
          -0.6426296324989368,
          -1.1256061558648365,
          -0.2819777712287155,
          0.25792572295089744,
          -1.3031790480572327
         ],
         "xaxis": "x7",
         "y": [
          0.5371406102484116,
          -0.7630355998932787,
          -2.4858162864857523,
          1.2592066808607159,
          0.9595436226520081,
          -0.8081156938171563,
          0.9958728377864831,
          -0.04591061914796954,
          0.6904010738181772,
          -0.5511142392207588,
          1.4402893831504124,
          0.35305376609086747,
          0.7972779169691322,
          0.34537746993804025,
          1.31874407327095,
          1.6969578374319672,
          -2.380558289248379,
          -0.42479170062544036,
          0.7611985790453921,
          -1.4523150254476245,
          0.587450547772239,
          0.15513270402904678,
          0.3816171930588017,
          -0.3485622560270526,
          -0.2233077072848466,
          -0.06657166845739156,
          -0.4699219481124245,
          1.2162365035510758,
          -0.08247111159833434,
          -0.26576094186048205,
          0.6287146222239482,
          0.5464995934949134,
          -1.0413503318774242,
          -0.6133269467314942,
          1.7897861110849156,
          -1.4636448182885142,
          -0.6082089722636107,
          -0.18944182747086188,
          1.1535409107981895,
          -0.2610438758985015,
          0.7607204950976051,
          0.8689659293485391,
          -1.0408678834637686,
          -1.8697259764998884,
          0.052957623660512085,
          -0.4752375307599897,
          -0.6894315405633875,
          0.20660004628802267,
          0.41587696940825136,
          0.11794519060016996,
          -0.5483109902790982,
          0.2204585387263463,
          -0.0814497894297341,
          -0.4261861035950627,
          -0.021917182184465037,
          0.35222734994579635,
          -0.24159158765078223,
          -1.245418117537442,
          1.0216068651998909,
          0.2639425680704423,
          0.9241230815489991,
          1.0987810469821897,
          -1.2581918632792053,
          -0.3047137245763503,
          0.60914107898099,
          -0.9152188042552775,
          -0.26765853410307033,
          -2.0075144589553195,
          0.8147844678127948,
          -0.13131685638323615,
          -1.311225180991742,
          -0.04852659651473337,
          -1.218931042803003,
          -1.024830966258147,
          0.12385012282058273,
          -0.20982791576190235,
          -0.24678271085565104,
          0.5154062122960229,
          0.1544833714506777,
          -0.41404378573783396,
          -1.2860894727014949,
          -1.437949062500608,
          2.4274363130615795,
          -0.4573332199984909,
          0.7826881088936185,
          -0.10934943159905164,
          -0.5949196074311865,
          0.03144939194326923,
          1.524309150436032,
          -0.23392802647924565,
          0.5361360451160111,
          -0.7495155351889765,
          -0.18096629842077092,
          1.558544319601368,
          1.7517499105114092,
          -0.39371248209055115,
          0.345362285426185,
          -0.7860338813922241,
          1.900836644872969,
          -0.6373552719220384
         ],
         "yaxis": "y7"
        },
        {
         "line": {
          "color": "rgba(128, 128, 128, 1.0)",
          "dash": "solid",
          "shape": "linear",
          "width": 1.3
         },
         "marker": {
          "size": 2,
          "symbol": "circle"
         },
         "mode": "markers",
         "name": "B",
         "text": "",
         "type": "scatter",
         "x": [
          2.014247115270905,
          -0.7428208160857449,
          -1.309030944216816,
          -2.478092924371268,
          -0.6280100446363561,
          1.0291618666179578,
          -0.26691667588585155,
          1.313422842184512,
          -1.970495819360091,
          0.11411545090210919,
          0.9181163750127501,
          -0.29858708158689656,
          -0.26612821659138275,
          -0.973581285673536,
          -0.20814284985497686,
          -0.2558327791930005,
          0.37891920212858315,
          1.1085200274370157,
          -1.0002458133975058,
          -0.33242083339553374,
          -0.9749877501914137,
          1.15811018558237,
          0.5169718463650118,
          -1.274743874217198,
          2.006624857298406,
          0.25511767166704996,
          -0.30164693812853194,
          0.06354489502755675,
          -1.0197590712944298,
          0.3253988257390908,
          -0.7933307740387828,
          -0.8036699362969526,
          0.1043611568074112,
          1.3437747133382383,
          -0.5894175974959336,
          -0.49893973790798285,
          -0.47525780077383467,
          -0.9390740838969601,
          1.4442447945726926,
          -0.7540442676823031,
          1.5830342653142089,
          0.6438885132208334,
          0.2990209607177709,
          0.17577833233795892,
          1.4195280629117475,
          1.3131698831594645,
          1.0031714131683982,
          1.7632422224160416,
          0.11073442737923893,
          -0.5828009953990801,
          -0.486770021231336,
          -0.3839996428127627,
          -0.4391568257246189,
          -0.44417511214167693,
          -0.3318415514093242,
          0.11211566642523081,
          0.6104668682054902,
          -0.49044106556725764,
          -0.8714167589345827,
          -1.6880287466088721,
          1.3880439298208682,
          0.007243106345136585,
          -0.7003319230422439,
          0.9207544153619949,
          1.8122011583635331,
          0.21520079658506217,
          1.338945422952007,
          -1.3559156793828218,
          1.0675500203465638,
          0.22685073583400517,
          1.3147667676333779,
          -0.8512121329769073,
          -1.00825773280854,
          -0.05585947679402678,
          -1.9087662048270295,
          -1.1700986548099093,
          -0.14527278661267826,
          0.22093226813171887,
          1.624520241139117,
          1.508494359617955,
          0.6357187352707607,
          0.4533273679564344,
          0.07956108166066125,
          -0.8250424975633813,
          -1.6091491496953354,
          0.8742516509758052,
          -2.491823621271737,
          -0.042188676755759956,
          1.2969695278585485,
          0.42802263329645285,
          1.3549457569635972,
          0.011100810382680232,
          -0.5876763575631399,
          -0.34431210228354003,
          -0.6782744890719055,
          1.3916341438432032,
          -0.12101914607071254,
          -1.7419381441262538,
          0.3707115678108203,
          0.5024782457297611
         ],
         "xaxis": "x8",
         "y": [
          0.5371406102484116,
          -0.7630355998932787,
          -2.4858162864857523,
          1.2592066808607159,
          0.9595436226520081,
          -0.8081156938171563,
          0.9958728377864831,
          -0.04591061914796954,
          0.6904010738181772,
          -0.5511142392207588,
          1.4402893831504124,
          0.35305376609086747,
          0.7972779169691322,
          0.34537746993804025,
          1.31874407327095,
          1.6969578374319672,
          -2.380558289248379,
          -0.42479170062544036,
          0.7611985790453921,
          -1.4523150254476245,
          0.587450547772239,
          0.15513270402904678,
          0.3816171930588017,
          -0.3485622560270526,
          -0.2233077072848466,
          -0.06657166845739156,
          -0.4699219481124245,
          1.2162365035510758,
          -0.08247111159833434,
          -0.26576094186048205,
          0.6287146222239482,
          0.5464995934949134,
          -1.0413503318774242,
          -0.6133269467314942,
          1.7897861110849156,
          -1.4636448182885142,
          -0.6082089722636107,
          -0.18944182747086188,
          1.1535409107981895,
          -0.2610438758985015,
          0.7607204950976051,
          0.8689659293485391,
          -1.0408678834637686,
          -1.8697259764998884,
          0.052957623660512085,
          -0.4752375307599897,
          -0.6894315405633875,
          0.20660004628802267,
          0.41587696940825136,
          0.11794519060016996,
          -0.5483109902790982,
          0.2204585387263463,
          -0.0814497894297341,
          -0.4261861035950627,
          -0.021917182184465037,
          0.35222734994579635,
          -0.24159158765078223,
          -1.245418117537442,
          1.0216068651998909,
          0.2639425680704423,
          0.9241230815489991,
          1.0987810469821897,
          -1.2581918632792053,
          -0.3047137245763503,
          0.60914107898099,
          -0.9152188042552775,
          -0.26765853410307033,
          -2.0075144589553195,
          0.8147844678127948,
          -0.13131685638323615,
          -1.311225180991742,
          -0.04852659651473337,
          -1.218931042803003,
          -1.024830966258147,
          0.12385012282058273,
          -0.20982791576190235,
          -0.24678271085565104,
          0.5154062122960229,
          0.1544833714506777,
          -0.41404378573783396,
          -1.2860894727014949,
          -1.437949062500608,
          2.4274363130615795,
          -0.4573332199984909,
          0.7826881088936185,
          -0.10934943159905164,
          -0.5949196074311865,
          0.03144939194326923,
          1.524309150436032,
          -0.23392802647924565,
          0.5361360451160111,
          -0.7495155351889765,
          -0.18096629842077092,
          1.558544319601368,
          1.7517499105114092,
          -0.39371248209055115,
          0.345362285426185,
          -0.7860338813922241,
          1.900836644872969,
          -0.6373552719220384
         ],
         "yaxis": "y8"
        },
        {
         "line": {
          "color": "rgba(128, 128, 128, 1.0)",
          "dash": "solid",
          "shape": "linear",
          "width": 1.3
         },
         "marker": {
          "size": 2,
          "symbol": "circle"
         },
         "mode": "markers",
         "name": "C",
         "text": "",
         "type": "scatter",
         "x": [
          2.069081317248437,
          -1.9586988201017066,
          0.31687259557075065,
          0.3163933211791377,
          -0.16623943248273207,
          1.5497820365156982,
          -1.7297768914284835,
          0.5697825774153621,
          -0.7032361365794662,
          -0.8268251660691491,
          1.2467171956322265,
          -1.0757476486572177,
          -0.165999174967776,
          0.42843672539742184,
          -0.25675899385138395,
          0.22587079145601774,
          1.9166425271506045,
          -0.640237220836307,
          -0.6861772522003287,
          -0.5586527440178088,
          -2.5054824095350603,
          0.4409074736412183,
          -1.9900902601521533,
          -0.5210386202937979,
          -0.5080735923466261,
          -0.7618302051217163,
          0.8385206587443153,
          1.4112551979094434,
          -0.35899178289305833,
          -0.7583551270205274,
          0.1801450370472393,
          -1.668881029521964,
          -0.7631515357140278,
          -0.6703114133478807,
          -1.4410620768665687,
          0.8743716919027011,
          1.3712437328971603,
          1.8015066568239602,
          -1.3793914176363382,
          -0.310781082112185,
          0.21539737058955025,
          0.26100127321811867,
          -0.5720033350321432,
          2.132914188699778,
          -1.6315266835701523,
          0.6116058285290135,
          -1.375542976417157,
          0.5516327908947728,
          -0.8291435228557643,
          -0.10741096952517305,
          0.466848431170696,
          0.8433508517657493,
          0.11636175879694592,
          0.5598366538046764,
          0.24914272694522172,
          -0.06884643442780915,
          -0.4084858316707387,
          -1.4051726071742447,
          -0.30645623254003573,
          1.7389939017633762,
          -1.069248683755255,
          1.6834497814923641,
          1.346355028489932,
          -0.6762454051862051,
          0.9031060789060906,
          1.1356794877473801,
          -0.40881973318811055,
          0.7063794517678516,
          -0.4152686536633678,
          -0.996637064263391,
          -0.05603719295495405,
          0.3267743031922197,
          -0.7097067062730879,
          0.4433270622616412,
          0.379617908590977,
          -0.43494427079199754,
          1.7809685905508235,
          1.6966147780256329,
          1.4906595522423403,
          0.4809146675204936,
          -1.3864972445511055,
          -0.6595869670593304,
          -0.5506363437289727,
          0.5980724890985413,
          -1.1521791912703487,
          -0.3175929792191654,
          -1.8718075854411518,
          -0.27684143268620376,
          -1.6259350828226837,
          1.2269730494900373,
          -0.048869330284592144,
          1.5957901102313448,
          -0.040539979809508665,
          1.3204254982305588,
          -0.035534127153365694,
          0.9671163301831622,
          0.5214914391803923,
          0.9508548035963178,
          0.05960270547188383,
          -0.01561286021245415
         ],
         "xaxis": "x9",
         "y": [
          -0.6850215014043163,
          -1.2412518834652546,
          -0.3946676954847482,
          0.7651845615941001,
          0.8539049176742748,
          -0.37644014904789597,
          -0.32772970648204053,
          0.02834189527309373,
          -0.9504524445878754,
          0.8230972624100741,
          -1.7142178136821131,
          0.33112410774976675,
          0.016363052685521937,
          -0.43413069570491963,
          -1.5738282812386328,
          0.03489961725557421,
          -0.12246618896219813,
          -0.6146165254190183,
          0.43031162267834133,
          0.06397533316452905,
          -0.490651552827173,
          1.3735403366482595,
          0.8188391172357061,
          -0.02980846654887524,
          -0.31099894785936216,
          -0.2735335159583621,
          0.4179333738998075,
          -0.5715943544758427,
          0.1344414889806831,
          -1.521533327628918,
          -0.6689381159428938,
          0.15251369394908768,
          -0.36431107964479786,
          -0.10028586033516866,
          -2.6732007415098575,
          0.11324362012281179,
          -0.048704678642151784,
          1.4180214987115798,
          -0.8867526618791968,
          -1.5253768240139522,
          1.8287289167343548,
          -0.7592255448926566,
          -0.0671946927632733,
          0.1754235812981672,
          -1.0358340705530713,
          0.0019515411977063064,
          0.048488005484730506,
          -0.44430593841028115,
          -0.2331860016412143,
          1.1627105571515324,
          0.5660950651322101,
          -0.6786210624157247,
          -0.20721530694253,
          -0.07151740505683823,
          -0.6818973591112406,
          -1.324645088015891,
          -0.2310949839970945,
          -0.8492294245819209,
          0.210864914686496,
          -0.5009556142676546,
          1.1266769334653688,
          2.248449891487893,
          -1.9246130542716733,
          -1.1722170464527613,
          0.09141428654928084,
          1.1753076792060488,
          -0.43191016662870235,
          -1.1616224424459403,
          1.3823367200683663,
          -1.6837964741457006,
          -0.3211979035283138,
          0.10236534755693119,
          2.061701313426245,
          0.5473232701612604,
          -0.24896171576994267,
          0.6318260116940371,
          -0.8575144563857071,
          -0.06710741764459427,
          1.0667462425791259,
          1.2325174883238221,
          -1.2629602105446083,
          0.9494335560653758,
          1.413884715443827,
          0.5129628018179038,
          0.2560733737865519,
          -0.8923394405259693,
          0.8888377362062309,
          -0.688304615890909,
          1.1748715811398724,
          -0.7300124099889382,
          1.6207942045893935,
          0.07057876461498128,
          0.1381467197907667,
          -0.15809627739176416,
          -0.12616914469849583,
          -0.6426296324989368,
          -1.1256061558648365,
          -0.2819777712287155,
          0.25792572295089744,
          -1.3031790480572327
         ],
         "yaxis": "y9"
        },
        {
         "line": {
          "color": "rgba(128, 128, 128, 1.0)",
          "dash": "solid",
          "shape": "linear",
          "width": 1.3
         },
         "marker": {
          "size": 2,
          "symbol": "circle"
         },
         "mode": "markers",
         "name": "C",
         "text": "",
         "type": "scatter",
         "x": [
          0.5371406102484116,
          -0.7630355998932787,
          -2.4858162864857523,
          1.2592066808607159,
          0.9595436226520081,
          -0.8081156938171563,
          0.9958728377864831,
          -0.04591061914796954,
          0.6904010738181772,
          -0.5511142392207588,
          1.4402893831504124,
          0.35305376609086747,
          0.7972779169691322,
          0.34537746993804025,
          1.31874407327095,
          1.6969578374319672,
          -2.380558289248379,
          -0.42479170062544036,
          0.7611985790453921,
          -1.4523150254476245,
          0.587450547772239,
          0.15513270402904678,
          0.3816171930588017,
          -0.3485622560270526,
          -0.2233077072848466,
          -0.06657166845739156,
          -0.4699219481124245,
          1.2162365035510758,
          -0.08247111159833434,
          -0.26576094186048205,
          0.6287146222239482,
          0.5464995934949134,
          -1.0413503318774242,
          -0.6133269467314942,
          1.7897861110849156,
          -1.4636448182885142,
          -0.6082089722636107,
          -0.18944182747086188,
          1.1535409107981895,
          -0.2610438758985015,
          0.7607204950976051,
          0.8689659293485391,
          -1.0408678834637686,
          -1.8697259764998884,
          0.052957623660512085,
          -0.4752375307599897,
          -0.6894315405633875,
          0.20660004628802267,
          0.41587696940825136,
          0.11794519060016996,
          -0.5483109902790982,
          0.2204585387263463,
          -0.0814497894297341,
          -0.4261861035950627,
          -0.021917182184465037,
          0.35222734994579635,
          -0.24159158765078223,
          -1.245418117537442,
          1.0216068651998909,
          0.2639425680704423,
          0.9241230815489991,
          1.0987810469821897,
          -1.2581918632792053,
          -0.3047137245763503,
          0.60914107898099,
          -0.9152188042552775,
          -0.26765853410307033,
          -2.0075144589553195,
          0.8147844678127948,
          -0.13131685638323615,
          -1.311225180991742,
          -0.04852659651473337,
          -1.218931042803003,
          -1.024830966258147,
          0.12385012282058273,
          -0.20982791576190235,
          -0.24678271085565104,
          0.5154062122960229,
          0.1544833714506777,
          -0.41404378573783396,
          -1.2860894727014949,
          -1.437949062500608,
          2.4274363130615795,
          -0.4573332199984909,
          0.7826881088936185,
          -0.10934943159905164,
          -0.5949196074311865,
          0.03144939194326923,
          1.524309150436032,
          -0.23392802647924565,
          0.5361360451160111,
          -0.7495155351889765,
          -0.18096629842077092,
          1.558544319601368,
          1.7517499105114092,
          -0.39371248209055115,
          0.345362285426185,
          -0.7860338813922241,
          1.900836644872969,
          -0.6373552719220384
         ],
         "xaxis": "x10",
         "y": [
          -0.6850215014043163,
          -1.2412518834652546,
          -0.3946676954847482,
          0.7651845615941001,
          0.8539049176742748,
          -0.37644014904789597,
          -0.32772970648204053,
          0.02834189527309373,
          -0.9504524445878754,
          0.8230972624100741,
          -1.7142178136821131,
          0.33112410774976675,
          0.016363052685521937,
          -0.43413069570491963,
          -1.5738282812386328,
          0.03489961725557421,
          -0.12246618896219813,
          -0.6146165254190183,
          0.43031162267834133,
          0.06397533316452905,
          -0.490651552827173,
          1.3735403366482595,
          0.8188391172357061,
          -0.02980846654887524,
          -0.31099894785936216,
          -0.2735335159583621,
          0.4179333738998075,
          -0.5715943544758427,
          0.1344414889806831,
          -1.521533327628918,
          -0.6689381159428938,
          0.15251369394908768,
          -0.36431107964479786,
          -0.10028586033516866,
          -2.6732007415098575,
          0.11324362012281179,
          -0.048704678642151784,
          1.4180214987115798,
          -0.8867526618791968,
          -1.5253768240139522,
          1.8287289167343548,
          -0.7592255448926566,
          -0.0671946927632733,
          0.1754235812981672,
          -1.0358340705530713,
          0.0019515411977063064,
          0.048488005484730506,
          -0.44430593841028115,
          -0.2331860016412143,
          1.1627105571515324,
          0.5660950651322101,
          -0.6786210624157247,
          -0.20721530694253,
          -0.07151740505683823,
          -0.6818973591112406,
          -1.324645088015891,
          -0.2310949839970945,
          -0.8492294245819209,
          0.210864914686496,
          -0.5009556142676546,
          1.1266769334653688,
          2.248449891487893,
          -1.9246130542716733,
          -1.1722170464527613,
          0.09141428654928084,
          1.1753076792060488,
          -0.43191016662870235,
          -1.1616224424459403,
          1.3823367200683663,
          -1.6837964741457006,
          -0.3211979035283138,
          0.10236534755693119,
          2.061701313426245,
          0.5473232701612604,
          -0.24896171576994267,
          0.6318260116940371,
          -0.8575144563857071,
          -0.06710741764459427,
          1.0667462425791259,
          1.2325174883238221,
          -1.2629602105446083,
          0.9494335560653758,
          1.413884715443827,
          0.5129628018179038,
          0.2560733737865519,
          -0.8923394405259693,
          0.8888377362062309,
          -0.688304615890909,
          1.1748715811398724,
          -0.7300124099889382,
          1.6207942045893935,
          0.07057876461498128,
          0.1381467197907667,
          -0.15809627739176416,
          -0.12616914469849583,
          -0.6426296324989368,
          -1.1256061558648365,
          -0.2819777712287155,
          0.25792572295089744,
          -1.3031790480572327
         ],
         "yaxis": "y10"
        },
        {
         "histfunc": "count",
         "histnorm": "",
         "marker": {
          "color": "rgba(50, 171, 96, 1.0)",
          "line": {
           "color": "#4D5663",
           "width": 1.3
          }
         },
         "name": "C",
         "nbinsx": 10,
         "opacity": 0.8,
         "orientation": "v",
         "type": "histogram",
         "x": [
          -0.6850215014043163,
          -1.2412518834652546,
          -0.3946676954847482,
          0.7651845615941001,
          0.8539049176742748,
          -0.37644014904789597,
          -0.32772970648204053,
          0.02834189527309373,
          -0.9504524445878754,
          0.8230972624100741,
          -1.7142178136821131,
          0.33112410774976675,
          0.016363052685521937,
          -0.43413069570491963,
          -1.5738282812386328,
          0.03489961725557421,
          -0.12246618896219813,
          -0.6146165254190183,
          0.43031162267834133,
          0.06397533316452905,
          -0.490651552827173,
          1.3735403366482595,
          0.8188391172357061,
          -0.02980846654887524,
          -0.31099894785936216,
          -0.2735335159583621,
          0.4179333738998075,
          -0.5715943544758427,
          0.1344414889806831,
          -1.521533327628918,
          -0.6689381159428938,
          0.15251369394908768,
          -0.36431107964479786,
          -0.10028586033516866,
          -2.6732007415098575,
          0.11324362012281179,
          -0.048704678642151784,
          1.4180214987115798,
          -0.8867526618791968,
          -1.5253768240139522,
          1.8287289167343548,
          -0.7592255448926566,
          -0.0671946927632733,
          0.1754235812981672,
          -1.0358340705530713,
          0.0019515411977063064,
          0.048488005484730506,
          -0.44430593841028115,
          -0.2331860016412143,
          1.1627105571515324,
          0.5660950651322101,
          -0.6786210624157247,
          -0.20721530694253,
          -0.07151740505683823,
          -0.6818973591112406,
          -1.324645088015891,
          -0.2310949839970945,
          -0.8492294245819209,
          0.210864914686496,
          -0.5009556142676546,
          1.1266769334653688,
          2.248449891487893,
          -1.9246130542716733,
          -1.1722170464527613,
          0.09141428654928084,
          1.1753076792060488,
          -0.43191016662870235,
          -1.1616224424459403,
          1.3823367200683663,
          -1.6837964741457006,
          -0.3211979035283138,
          0.10236534755693119,
          2.061701313426245,
          0.5473232701612604,
          -0.24896171576994267,
          0.6318260116940371,
          -0.8575144563857071,
          -0.06710741764459427,
          1.0667462425791259,
          1.2325174883238221,
          -1.2629602105446083,
          0.9494335560653758,
          1.413884715443827,
          0.5129628018179038,
          0.2560733737865519,
          -0.8923394405259693,
          0.8888377362062309,
          -0.688304615890909,
          1.1748715811398724,
          -0.7300124099889382,
          1.6207942045893935,
          0.07057876461498128,
          0.1381467197907667,
          -0.15809627739176416,
          -0.12616914469849583,
          -0.6426296324989368,
          -1.1256061558648365,
          -0.2819777712287155,
          0.25792572295089744,
          -1.3031790480572327
         ],
         "xaxis": "x11",
         "yaxis": "y11"
        },
        {
         "line": {
          "color": "rgba(128, 128, 128, 1.0)",
          "dash": "solid",
          "shape": "linear",
          "width": 1.3
         },
         "marker": {
          "size": 2,
          "symbol": "circle"
         },
         "mode": "markers",
         "name": "C",
         "text": "",
         "type": "scatter",
         "x": [
          2.014247115270905,
          -0.7428208160857449,
          -1.309030944216816,
          -2.478092924371268,
          -0.6280100446363561,
          1.0291618666179578,
          -0.26691667588585155,
          1.313422842184512,
          -1.970495819360091,
          0.11411545090210919,
          0.9181163750127501,
          -0.29858708158689656,
          -0.26612821659138275,
          -0.973581285673536,
          -0.20814284985497686,
          -0.2558327791930005,
          0.37891920212858315,
          1.1085200274370157,
          -1.0002458133975058,
          -0.33242083339553374,
          -0.9749877501914137,
          1.15811018558237,
          0.5169718463650118,
          -1.274743874217198,
          2.006624857298406,
          0.25511767166704996,
          -0.30164693812853194,
          0.06354489502755675,
          -1.0197590712944298,
          0.3253988257390908,
          -0.7933307740387828,
          -0.8036699362969526,
          0.1043611568074112,
          1.3437747133382383,
          -0.5894175974959336,
          -0.49893973790798285,
          -0.47525780077383467,
          -0.9390740838969601,
          1.4442447945726926,
          -0.7540442676823031,
          1.5830342653142089,
          0.6438885132208334,
          0.2990209607177709,
          0.17577833233795892,
          1.4195280629117475,
          1.3131698831594645,
          1.0031714131683982,
          1.7632422224160416,
          0.11073442737923893,
          -0.5828009953990801,
          -0.486770021231336,
          -0.3839996428127627,
          -0.4391568257246189,
          -0.44417511214167693,
          -0.3318415514093242,
          0.11211566642523081,
          0.6104668682054902,
          -0.49044106556725764,
          -0.8714167589345827,
          -1.6880287466088721,
          1.3880439298208682,
          0.007243106345136585,
          -0.7003319230422439,
          0.9207544153619949,
          1.8122011583635331,
          0.21520079658506217,
          1.338945422952007,
          -1.3559156793828218,
          1.0675500203465638,
          0.22685073583400517,
          1.3147667676333779,
          -0.8512121329769073,
          -1.00825773280854,
          -0.05585947679402678,
          -1.9087662048270295,
          -1.1700986548099093,
          -0.14527278661267826,
          0.22093226813171887,
          1.624520241139117,
          1.508494359617955,
          0.6357187352707607,
          0.4533273679564344,
          0.07956108166066125,
          -0.8250424975633813,
          -1.6091491496953354,
          0.8742516509758052,
          -2.491823621271737,
          -0.042188676755759956,
          1.2969695278585485,
          0.42802263329645285,
          1.3549457569635972,
          0.011100810382680232,
          -0.5876763575631399,
          -0.34431210228354003,
          -0.6782744890719055,
          1.3916341438432032,
          -0.12101914607071254,
          -1.7419381441262538,
          0.3707115678108203,
          0.5024782457297611
         ],
         "xaxis": "x12",
         "y": [
          -0.6850215014043163,
          -1.2412518834652546,
          -0.3946676954847482,
          0.7651845615941001,
          0.8539049176742748,
          -0.37644014904789597,
          -0.32772970648204053,
          0.02834189527309373,
          -0.9504524445878754,
          0.8230972624100741,
          -1.7142178136821131,
          0.33112410774976675,
          0.016363052685521937,
          -0.43413069570491963,
          -1.5738282812386328,
          0.03489961725557421,
          -0.12246618896219813,
          -0.6146165254190183,
          0.43031162267834133,
          0.06397533316452905,
          -0.490651552827173,
          1.3735403366482595,
          0.8188391172357061,
          -0.02980846654887524,
          -0.31099894785936216,
          -0.2735335159583621,
          0.4179333738998075,
          -0.5715943544758427,
          0.1344414889806831,
          -1.521533327628918,
          -0.6689381159428938,
          0.15251369394908768,
          -0.36431107964479786,
          -0.10028586033516866,
          -2.6732007415098575,
          0.11324362012281179,
          -0.048704678642151784,
          1.4180214987115798,
          -0.8867526618791968,
          -1.5253768240139522,
          1.8287289167343548,
          -0.7592255448926566,
          -0.0671946927632733,
          0.1754235812981672,
          -1.0358340705530713,
          0.0019515411977063064,
          0.048488005484730506,
          -0.44430593841028115,
          -0.2331860016412143,
          1.1627105571515324,
          0.5660950651322101,
          -0.6786210624157247,
          -0.20721530694253,
          -0.07151740505683823,
          -0.6818973591112406,
          -1.324645088015891,
          -0.2310949839970945,
          -0.8492294245819209,
          0.210864914686496,
          -0.5009556142676546,
          1.1266769334653688,
          2.248449891487893,
          -1.9246130542716733,
          -1.1722170464527613,
          0.09141428654928084,
          1.1753076792060488,
          -0.43191016662870235,
          -1.1616224424459403,
          1.3823367200683663,
          -1.6837964741457006,
          -0.3211979035283138,
          0.10236534755693119,
          2.061701313426245,
          0.5473232701612604,
          -0.24896171576994267,
          0.6318260116940371,
          -0.8575144563857071,
          -0.06710741764459427,
          1.0667462425791259,
          1.2325174883238221,
          -1.2629602105446083,
          0.9494335560653758,
          1.413884715443827,
          0.5129628018179038,
          0.2560733737865519,
          -0.8923394405259693,
          0.8888377362062309,
          -0.688304615890909,
          1.1748715811398724,
          -0.7300124099889382,
          1.6207942045893935,
          0.07057876461498128,
          0.1381467197907667,
          -0.15809627739176416,
          -0.12616914469849583,
          -0.6426296324989368,
          -1.1256061558648365,
          -0.2819777712287155,
          0.25792572295089744,
          -1.3031790480572327
         ],
         "yaxis": "y12"
        },
        {
         "line": {
          "color": "rgba(128, 128, 128, 1.0)",
          "dash": "solid",
          "shape": "linear",
          "width": 1.3
         },
         "marker": {
          "size": 2,
          "symbol": "circle"
         },
         "mode": "markers",
         "name": "D",
         "text": "",
         "type": "scatter",
         "x": [
          2.069081317248437,
          -1.9586988201017066,
          0.31687259557075065,
          0.3163933211791377,
          -0.16623943248273207,
          1.5497820365156982,
          -1.7297768914284835,
          0.5697825774153621,
          -0.7032361365794662,
          -0.8268251660691491,
          1.2467171956322265,
          -1.0757476486572177,
          -0.165999174967776,
          0.42843672539742184,
          -0.25675899385138395,
          0.22587079145601774,
          1.9166425271506045,
          -0.640237220836307,
          -0.6861772522003287,
          -0.5586527440178088,
          -2.5054824095350603,
          0.4409074736412183,
          -1.9900902601521533,
          -0.5210386202937979,
          -0.5080735923466261,
          -0.7618302051217163,
          0.8385206587443153,
          1.4112551979094434,
          -0.35899178289305833,
          -0.7583551270205274,
          0.1801450370472393,
          -1.668881029521964,
          -0.7631515357140278,
          -0.6703114133478807,
          -1.4410620768665687,
          0.8743716919027011,
          1.3712437328971603,
          1.8015066568239602,
          -1.3793914176363382,
          -0.310781082112185,
          0.21539737058955025,
          0.26100127321811867,
          -0.5720033350321432,
          2.132914188699778,
          -1.6315266835701523,
          0.6116058285290135,
          -1.375542976417157,
          0.5516327908947728,
          -0.8291435228557643,
          -0.10741096952517305,
          0.466848431170696,
          0.8433508517657493,
          0.11636175879694592,
          0.5598366538046764,
          0.24914272694522172,
          -0.06884643442780915,
          -0.4084858316707387,
          -1.4051726071742447,
          -0.30645623254003573,
          1.7389939017633762,
          -1.069248683755255,
          1.6834497814923641,
          1.346355028489932,
          -0.6762454051862051,
          0.9031060789060906,
          1.1356794877473801,
          -0.40881973318811055,
          0.7063794517678516,
          -0.4152686536633678,
          -0.996637064263391,
          -0.05603719295495405,
          0.3267743031922197,
          -0.7097067062730879,
          0.4433270622616412,
          0.379617908590977,
          -0.43494427079199754,
          1.7809685905508235,
          1.6966147780256329,
          1.4906595522423403,
          0.4809146675204936,
          -1.3864972445511055,
          -0.6595869670593304,
          -0.5506363437289727,
          0.5980724890985413,
          -1.1521791912703487,
          -0.3175929792191654,
          -1.8718075854411518,
          -0.27684143268620376,
          -1.6259350828226837,
          1.2269730494900373,
          -0.048869330284592144,
          1.5957901102313448,
          -0.040539979809508665,
          1.3204254982305588,
          -0.035534127153365694,
          0.9671163301831622,
          0.5214914391803923,
          0.9508548035963178,
          0.05960270547188383,
          -0.01561286021245415
         ],
         "xaxis": "x13",
         "y": [
          2.014247115270905,
          -0.7428208160857449,
          -1.309030944216816,
          -2.478092924371268,
          -0.6280100446363561,
          1.0291618666179578,
          -0.26691667588585155,
          1.313422842184512,
          -1.970495819360091,
          0.11411545090210919,
          0.9181163750127501,
          -0.29858708158689656,
          -0.26612821659138275,
          -0.973581285673536,
          -0.20814284985497686,
          -0.2558327791930005,
          0.37891920212858315,
          1.1085200274370157,
          -1.0002458133975058,
          -0.33242083339553374,
          -0.9749877501914137,
          1.15811018558237,
          0.5169718463650118,
          -1.274743874217198,
          2.006624857298406,
          0.25511767166704996,
          -0.30164693812853194,
          0.06354489502755675,
          -1.0197590712944298,
          0.3253988257390908,
          -0.7933307740387828,
          -0.8036699362969526,
          0.1043611568074112,
          1.3437747133382383,
          -0.5894175974959336,
          -0.49893973790798285,
          -0.47525780077383467,
          -0.9390740838969601,
          1.4442447945726926,
          -0.7540442676823031,
          1.5830342653142089,
          0.6438885132208334,
          0.2990209607177709,
          0.17577833233795892,
          1.4195280629117475,
          1.3131698831594645,
          1.0031714131683982,
          1.7632422224160416,
          0.11073442737923893,
          -0.5828009953990801,
          -0.486770021231336,
          -0.3839996428127627,
          -0.4391568257246189,
          -0.44417511214167693,
          -0.3318415514093242,
          0.11211566642523081,
          0.6104668682054902,
          -0.49044106556725764,
          -0.8714167589345827,
          -1.6880287466088721,
          1.3880439298208682,
          0.007243106345136585,
          -0.7003319230422439,
          0.9207544153619949,
          1.8122011583635331,
          0.21520079658506217,
          1.338945422952007,
          -1.3559156793828218,
          1.0675500203465638,
          0.22685073583400517,
          1.3147667676333779,
          -0.8512121329769073,
          -1.00825773280854,
          -0.05585947679402678,
          -1.9087662048270295,
          -1.1700986548099093,
          -0.14527278661267826,
          0.22093226813171887,
          1.624520241139117,
          1.508494359617955,
          0.6357187352707607,
          0.4533273679564344,
          0.07956108166066125,
          -0.8250424975633813,
          -1.6091491496953354,
          0.8742516509758052,
          -2.491823621271737,
          -0.042188676755759956,
          1.2969695278585485,
          0.42802263329645285,
          1.3549457569635972,
          0.011100810382680232,
          -0.5876763575631399,
          -0.34431210228354003,
          -0.6782744890719055,
          1.3916341438432032,
          -0.12101914607071254,
          -1.7419381441262538,
          0.3707115678108203,
          0.5024782457297611
         ],
         "yaxis": "y13"
        },
        {
         "line": {
          "color": "rgba(128, 128, 128, 1.0)",
          "dash": "solid",
          "shape": "linear",
          "width": 1.3
         },
         "marker": {
          "size": 2,
          "symbol": "circle"
         },
         "mode": "markers",
         "name": "D",
         "text": "",
         "type": "scatter",
         "x": [
          0.5371406102484116,
          -0.7630355998932787,
          -2.4858162864857523,
          1.2592066808607159,
          0.9595436226520081,
          -0.8081156938171563,
          0.9958728377864831,
          -0.04591061914796954,
          0.6904010738181772,
          -0.5511142392207588,
          1.4402893831504124,
          0.35305376609086747,
          0.7972779169691322,
          0.34537746993804025,
          1.31874407327095,
          1.6969578374319672,
          -2.380558289248379,
          -0.42479170062544036,
          0.7611985790453921,
          -1.4523150254476245,
          0.587450547772239,
          0.15513270402904678,
          0.3816171930588017,
          -0.3485622560270526,
          -0.2233077072848466,
          -0.06657166845739156,
          -0.4699219481124245,
          1.2162365035510758,
          -0.08247111159833434,
          -0.26576094186048205,
          0.6287146222239482,
          0.5464995934949134,
          -1.0413503318774242,
          -0.6133269467314942,
          1.7897861110849156,
          -1.4636448182885142,
          -0.6082089722636107,
          -0.18944182747086188,
          1.1535409107981895,
          -0.2610438758985015,
          0.7607204950976051,
          0.8689659293485391,
          -1.0408678834637686,
          -1.8697259764998884,
          0.052957623660512085,
          -0.4752375307599897,
          -0.6894315405633875,
          0.20660004628802267,
          0.41587696940825136,
          0.11794519060016996,
          -0.5483109902790982,
          0.2204585387263463,
          -0.0814497894297341,
          -0.4261861035950627,
          -0.021917182184465037,
          0.35222734994579635,
          -0.24159158765078223,
          -1.245418117537442,
          1.0216068651998909,
          0.2639425680704423,
          0.9241230815489991,
          1.0987810469821897,
          -1.2581918632792053,
          -0.3047137245763503,
          0.60914107898099,
          -0.9152188042552775,
          -0.26765853410307033,
          -2.0075144589553195,
          0.8147844678127948,
          -0.13131685638323615,
          -1.311225180991742,
          -0.04852659651473337,
          -1.218931042803003,
          -1.024830966258147,
          0.12385012282058273,
          -0.20982791576190235,
          -0.24678271085565104,
          0.5154062122960229,
          0.1544833714506777,
          -0.41404378573783396,
          -1.2860894727014949,
          -1.437949062500608,
          2.4274363130615795,
          -0.4573332199984909,
          0.7826881088936185,
          -0.10934943159905164,
          -0.5949196074311865,
          0.03144939194326923,
          1.524309150436032,
          -0.23392802647924565,
          0.5361360451160111,
          -0.7495155351889765,
          -0.18096629842077092,
          1.558544319601368,
          1.7517499105114092,
          -0.39371248209055115,
          0.345362285426185,
          -0.7860338813922241,
          1.900836644872969,
          -0.6373552719220384
         ],
         "xaxis": "x14",
         "y": [
          2.014247115270905,
          -0.7428208160857449,
          -1.309030944216816,
          -2.478092924371268,
          -0.6280100446363561,
          1.0291618666179578,
          -0.26691667588585155,
          1.313422842184512,
          -1.970495819360091,
          0.11411545090210919,
          0.9181163750127501,
          -0.29858708158689656,
          -0.26612821659138275,
          -0.973581285673536,
          -0.20814284985497686,
          -0.2558327791930005,
          0.37891920212858315,
          1.1085200274370157,
          -1.0002458133975058,
          -0.33242083339553374,
          -0.9749877501914137,
          1.15811018558237,
          0.5169718463650118,
          -1.274743874217198,
          2.006624857298406,
          0.25511767166704996,
          -0.30164693812853194,
          0.06354489502755675,
          -1.0197590712944298,
          0.3253988257390908,
          -0.7933307740387828,
          -0.8036699362969526,
          0.1043611568074112,
          1.3437747133382383,
          -0.5894175974959336,
          -0.49893973790798285,
          -0.47525780077383467,
          -0.9390740838969601,
          1.4442447945726926,
          -0.7540442676823031,
          1.5830342653142089,
          0.6438885132208334,
          0.2990209607177709,
          0.17577833233795892,
          1.4195280629117475,
          1.3131698831594645,
          1.0031714131683982,
          1.7632422224160416,
          0.11073442737923893,
          -0.5828009953990801,
          -0.486770021231336,
          -0.3839996428127627,
          -0.4391568257246189,
          -0.44417511214167693,
          -0.3318415514093242,
          0.11211566642523081,
          0.6104668682054902,
          -0.49044106556725764,
          -0.8714167589345827,
          -1.6880287466088721,
          1.3880439298208682,
          0.007243106345136585,
          -0.7003319230422439,
          0.9207544153619949,
          1.8122011583635331,
          0.21520079658506217,
          1.338945422952007,
          -1.3559156793828218,
          1.0675500203465638,
          0.22685073583400517,
          1.3147667676333779,
          -0.8512121329769073,
          -1.00825773280854,
          -0.05585947679402678,
          -1.9087662048270295,
          -1.1700986548099093,
          -0.14527278661267826,
          0.22093226813171887,
          1.624520241139117,
          1.508494359617955,
          0.6357187352707607,
          0.4533273679564344,
          0.07956108166066125,
          -0.8250424975633813,
          -1.6091491496953354,
          0.8742516509758052,
          -2.491823621271737,
          -0.042188676755759956,
          1.2969695278585485,
          0.42802263329645285,
          1.3549457569635972,
          0.011100810382680232,
          -0.5876763575631399,
          -0.34431210228354003,
          -0.6782744890719055,
          1.3916341438432032,
          -0.12101914607071254,
          -1.7419381441262538,
          0.3707115678108203,
          0.5024782457297611
         ],
         "yaxis": "y14"
        },
        {
         "line": {
          "color": "rgba(128, 128, 128, 1.0)",
          "dash": "solid",
          "shape": "linear",
          "width": 1.3
         },
         "marker": {
          "size": 2,
          "symbol": "circle"
         },
         "mode": "markers",
         "name": "D",
         "text": "",
         "type": "scatter",
         "x": [
          -0.6850215014043163,
          -1.2412518834652546,
          -0.3946676954847482,
          0.7651845615941001,
          0.8539049176742748,
          -0.37644014904789597,
          -0.32772970648204053,
          0.02834189527309373,
          -0.9504524445878754,
          0.8230972624100741,
          -1.7142178136821131,
          0.33112410774976675,
          0.016363052685521937,
          -0.43413069570491963,
          -1.5738282812386328,
          0.03489961725557421,
          -0.12246618896219813,
          -0.6146165254190183,
          0.43031162267834133,
          0.06397533316452905,
          -0.490651552827173,
          1.3735403366482595,
          0.8188391172357061,
          -0.02980846654887524,
          -0.31099894785936216,
          -0.2735335159583621,
          0.4179333738998075,
          -0.5715943544758427,
          0.1344414889806831,
          -1.521533327628918,
          -0.6689381159428938,
          0.15251369394908768,
          -0.36431107964479786,
          -0.10028586033516866,
          -2.6732007415098575,
          0.11324362012281179,
          -0.048704678642151784,
          1.4180214987115798,
          -0.8867526618791968,
          -1.5253768240139522,
          1.8287289167343548,
          -0.7592255448926566,
          -0.0671946927632733,
          0.1754235812981672,
          -1.0358340705530713,
          0.0019515411977063064,
          0.048488005484730506,
          -0.44430593841028115,
          -0.2331860016412143,
          1.1627105571515324,
          0.5660950651322101,
          -0.6786210624157247,
          -0.20721530694253,
          -0.07151740505683823,
          -0.6818973591112406,
          -1.324645088015891,
          -0.2310949839970945,
          -0.8492294245819209,
          0.210864914686496,
          -0.5009556142676546,
          1.1266769334653688,
          2.248449891487893,
          -1.9246130542716733,
          -1.1722170464527613,
          0.09141428654928084,
          1.1753076792060488,
          -0.43191016662870235,
          -1.1616224424459403,
          1.3823367200683663,
          -1.6837964741457006,
          -0.3211979035283138,
          0.10236534755693119,
          2.061701313426245,
          0.5473232701612604,
          -0.24896171576994267,
          0.6318260116940371,
          -0.8575144563857071,
          -0.06710741764459427,
          1.0667462425791259,
          1.2325174883238221,
          -1.2629602105446083,
          0.9494335560653758,
          1.413884715443827,
          0.5129628018179038,
          0.2560733737865519,
          -0.8923394405259693,
          0.8888377362062309,
          -0.688304615890909,
          1.1748715811398724,
          -0.7300124099889382,
          1.6207942045893935,
          0.07057876461498128,
          0.1381467197907667,
          -0.15809627739176416,
          -0.12616914469849583,
          -0.6426296324989368,
          -1.1256061558648365,
          -0.2819777712287155,
          0.25792572295089744,
          -1.3031790480572327
         ],
         "xaxis": "x15",
         "y": [
          2.014247115270905,
          -0.7428208160857449,
          -1.309030944216816,
          -2.478092924371268,
          -0.6280100446363561,
          1.0291618666179578,
          -0.26691667588585155,
          1.313422842184512,
          -1.970495819360091,
          0.11411545090210919,
          0.9181163750127501,
          -0.29858708158689656,
          -0.26612821659138275,
          -0.973581285673536,
          -0.20814284985497686,
          -0.2558327791930005,
          0.37891920212858315,
          1.1085200274370157,
          -1.0002458133975058,
          -0.33242083339553374,
          -0.9749877501914137,
          1.15811018558237,
          0.5169718463650118,
          -1.274743874217198,
          2.006624857298406,
          0.25511767166704996,
          -0.30164693812853194,
          0.06354489502755675,
          -1.0197590712944298,
          0.3253988257390908,
          -0.7933307740387828,
          -0.8036699362969526,
          0.1043611568074112,
          1.3437747133382383,
          -0.5894175974959336,
          -0.49893973790798285,
          -0.47525780077383467,
          -0.9390740838969601,
          1.4442447945726926,
          -0.7540442676823031,
          1.5830342653142089,
          0.6438885132208334,
          0.2990209607177709,
          0.17577833233795892,
          1.4195280629117475,
          1.3131698831594645,
          1.0031714131683982,
          1.7632422224160416,
          0.11073442737923893,
          -0.5828009953990801,
          -0.486770021231336,
          -0.3839996428127627,
          -0.4391568257246189,
          -0.44417511214167693,
          -0.3318415514093242,
          0.11211566642523081,
          0.6104668682054902,
          -0.49044106556725764,
          -0.8714167589345827,
          -1.6880287466088721,
          1.3880439298208682,
          0.007243106345136585,
          -0.7003319230422439,
          0.9207544153619949,
          1.8122011583635331,
          0.21520079658506217,
          1.338945422952007,
          -1.3559156793828218,
          1.0675500203465638,
          0.22685073583400517,
          1.3147667676333779,
          -0.8512121329769073,
          -1.00825773280854,
          -0.05585947679402678,
          -1.9087662048270295,
          -1.1700986548099093,
          -0.14527278661267826,
          0.22093226813171887,
          1.624520241139117,
          1.508494359617955,
          0.6357187352707607,
          0.4533273679564344,
          0.07956108166066125,
          -0.8250424975633813,
          -1.6091491496953354,
          0.8742516509758052,
          -2.491823621271737,
          -0.042188676755759956,
          1.2969695278585485,
          0.42802263329645285,
          1.3549457569635972,
          0.011100810382680232,
          -0.5876763575631399,
          -0.34431210228354003,
          -0.6782744890719055,
          1.3916341438432032,
          -0.12101914607071254,
          -1.7419381441262538,
          0.3707115678108203,
          0.5024782457297611
         ],
         "yaxis": "y15"
        },
        {
         "histfunc": "count",
         "histnorm": "",
         "marker": {
          "color": "rgba(128, 0, 128, 1.0)",
          "line": {
           "color": "#4D5663",
           "width": 1.3
          }
         },
         "name": "D",
         "nbinsx": 10,
         "opacity": 0.8,
         "orientation": "v",
         "type": "histogram",
         "x": [
          2.014247115270905,
          -0.7428208160857449,
          -1.309030944216816,
          -2.478092924371268,
          -0.6280100446363561,
          1.0291618666179578,
          -0.26691667588585155,
          1.313422842184512,
          -1.970495819360091,
          0.11411545090210919,
          0.9181163750127501,
          -0.29858708158689656,
          -0.26612821659138275,
          -0.973581285673536,
          -0.20814284985497686,
          -0.2558327791930005,
          0.37891920212858315,
          1.1085200274370157,
          -1.0002458133975058,
          -0.33242083339553374,
          -0.9749877501914137,
          1.15811018558237,
          0.5169718463650118,
          -1.274743874217198,
          2.006624857298406,
          0.25511767166704996,
          -0.30164693812853194,
          0.06354489502755675,
          -1.0197590712944298,
          0.3253988257390908,
          -0.7933307740387828,
          -0.8036699362969526,
          0.1043611568074112,
          1.3437747133382383,
          -0.5894175974959336,
          -0.49893973790798285,
          -0.47525780077383467,
          -0.9390740838969601,
          1.4442447945726926,
          -0.7540442676823031,
          1.5830342653142089,
          0.6438885132208334,
          0.2990209607177709,
          0.17577833233795892,
          1.4195280629117475,
          1.3131698831594645,
          1.0031714131683982,
          1.7632422224160416,
          0.11073442737923893,
          -0.5828009953990801,
          -0.486770021231336,
          -0.3839996428127627,
          -0.4391568257246189,
          -0.44417511214167693,
          -0.3318415514093242,
          0.11211566642523081,
          0.6104668682054902,
          -0.49044106556725764,
          -0.8714167589345827,
          -1.6880287466088721,
          1.3880439298208682,
          0.007243106345136585,
          -0.7003319230422439,
          0.9207544153619949,
          1.8122011583635331,
          0.21520079658506217,
          1.338945422952007,
          -1.3559156793828218,
          1.0675500203465638,
          0.22685073583400517,
          1.3147667676333779,
          -0.8512121329769073,
          -1.00825773280854,
          -0.05585947679402678,
          -1.9087662048270295,
          -1.1700986548099093,
          -0.14527278661267826,
          0.22093226813171887,
          1.624520241139117,
          1.508494359617955,
          0.6357187352707607,
          0.4533273679564344,
          0.07956108166066125,
          -0.8250424975633813,
          -1.6091491496953354,
          0.8742516509758052,
          -2.491823621271737,
          -0.042188676755759956,
          1.2969695278585485,
          0.42802263329645285,
          1.3549457569635972,
          0.011100810382680232,
          -0.5876763575631399,
          -0.34431210228354003,
          -0.6782744890719055,
          1.3916341438432032,
          -0.12101914607071254,
          -1.7419381441262538,
          0.3707115678108203,
          0.5024782457297611
         ],
         "xaxis": "x16",
         "yaxis": "y16"
        }
       ],
       "layout": {
        "bargap": 0.02,
        "legend": {
         "bgcolor": "#F5F6F9",
         "font": {
          "color": "#4D5663"
         }
        },
        "paper_bgcolor": "#F5F6F9",
        "plot_bgcolor": "#F5F6F9",
        "showlegend": false,
        "template": {
         "data": {
          "bar": [
           {
            "error_x": {
             "color": "#2a3f5f"
            },
            "error_y": {
             "color": "#2a3f5f"
            },
            "marker": {
             "line": {
              "color": "#E5ECF6",
              "width": 0.5
             }
            },
            "type": "bar"
           }
          ],
          "barpolar": [
           {
            "marker": {
             "line": {
              "color": "#E5ECF6",
              "width": 0.5
             }
            },
            "type": "barpolar"
           }
          ],
          "carpet": [
           {
            "aaxis": {
             "endlinecolor": "#2a3f5f",
             "gridcolor": "white",
             "linecolor": "white",
             "minorgridcolor": "white",
             "startlinecolor": "#2a3f5f"
            },
            "baxis": {
             "endlinecolor": "#2a3f5f",
             "gridcolor": "white",
             "linecolor": "white",
             "minorgridcolor": "white",
             "startlinecolor": "#2a3f5f"
            },
            "type": "carpet"
           }
          ],
          "choropleth": [
           {
            "colorbar": {
             "outlinewidth": 0,
             "ticks": ""
            },
            "type": "choropleth"
           }
          ],
          "contour": [
           {
            "colorbar": {
             "outlinewidth": 0,
             "ticks": ""
            },
            "colorscale": [
             [
              0,
              "#0d0887"
             ],
             [
              0.1111111111111111,
              "#46039f"
             ],
             [
              0.2222222222222222,
              "#7201a8"
             ],
             [
              0.3333333333333333,
              "#9c179e"
             ],
             [
              0.4444444444444444,
              "#bd3786"
             ],
             [
              0.5555555555555556,
              "#d8576b"
             ],
             [
              0.6666666666666666,
              "#ed7953"
             ],
             [
              0.7777777777777778,
              "#fb9f3a"
             ],
             [
              0.8888888888888888,
              "#fdca26"
             ],
             [
              1,
              "#f0f921"
             ]
            ],
            "type": "contour"
           }
          ],
          "contourcarpet": [
           {
            "colorbar": {
             "outlinewidth": 0,
             "ticks": ""
            },
            "type": "contourcarpet"
           }
          ],
          "heatmap": [
           {
            "colorbar": {
             "outlinewidth": 0,
             "ticks": ""
            },
            "colorscale": [
             [
              0,
              "#0d0887"
             ],
             [
              0.1111111111111111,
              "#46039f"
             ],
             [
              0.2222222222222222,
              "#7201a8"
             ],
             [
              0.3333333333333333,
              "#9c179e"
             ],
             [
              0.4444444444444444,
              "#bd3786"
             ],
             [
              0.5555555555555556,
              "#d8576b"
             ],
             [
              0.6666666666666666,
              "#ed7953"
             ],
             [
              0.7777777777777778,
              "#fb9f3a"
             ],
             [
              0.8888888888888888,
              "#fdca26"
             ],
             [
              1,
              "#f0f921"
             ]
            ],
            "type": "heatmap"
           }
          ],
          "heatmapgl": [
           {
            "colorbar": {
             "outlinewidth": 0,
             "ticks": ""
            },
            "colorscale": [
             [
              0,
              "#0d0887"
             ],
             [
              0.1111111111111111,
              "#46039f"
             ],
             [
              0.2222222222222222,
              "#7201a8"
             ],
             [
              0.3333333333333333,
              "#9c179e"
             ],
             [
              0.4444444444444444,
              "#bd3786"
             ],
             [
              0.5555555555555556,
              "#d8576b"
             ],
             [
              0.6666666666666666,
              "#ed7953"
             ],
             [
              0.7777777777777778,
              "#fb9f3a"
             ],
             [
              0.8888888888888888,
              "#fdca26"
             ],
             [
              1,
              "#f0f921"
             ]
            ],
            "type": "heatmapgl"
           }
          ],
          "histogram": [
           {
            "marker": {
             "colorbar": {
              "outlinewidth": 0,
              "ticks": ""
             }
            },
            "type": "histogram"
           }
          ],
          "histogram2d": [
           {
            "colorbar": {
             "outlinewidth": 0,
             "ticks": ""
            },
            "colorscale": [
             [
              0,
              "#0d0887"
             ],
             [
              0.1111111111111111,
              "#46039f"
             ],
             [
              0.2222222222222222,
              "#7201a8"
             ],
             [
              0.3333333333333333,
              "#9c179e"
             ],
             [
              0.4444444444444444,
              "#bd3786"
             ],
             [
              0.5555555555555556,
              "#d8576b"
             ],
             [
              0.6666666666666666,
              "#ed7953"
             ],
             [
              0.7777777777777778,
              "#fb9f3a"
             ],
             [
              0.8888888888888888,
              "#fdca26"
             ],
             [
              1,
              "#f0f921"
             ]
            ],
            "type": "histogram2d"
           }
          ],
          "histogram2dcontour": [
           {
            "colorbar": {
             "outlinewidth": 0,
             "ticks": ""
            },
            "colorscale": [
             [
              0,
              "#0d0887"
             ],
             [
              0.1111111111111111,
              "#46039f"
             ],
             [
              0.2222222222222222,
              "#7201a8"
             ],
             [
              0.3333333333333333,
              "#9c179e"
             ],
             [
              0.4444444444444444,
              "#bd3786"
             ],
             [
              0.5555555555555556,
              "#d8576b"
             ],
             [
              0.6666666666666666,
              "#ed7953"
             ],
             [
              0.7777777777777778,
              "#fb9f3a"
             ],
             [
              0.8888888888888888,
              "#fdca26"
             ],
             [
              1,
              "#f0f921"
             ]
            ],
            "type": "histogram2dcontour"
           }
          ],
          "mesh3d": [
           {
            "colorbar": {
             "outlinewidth": 0,
             "ticks": ""
            },
            "type": "mesh3d"
           }
          ],
          "parcoords": [
           {
            "line": {
             "colorbar": {
              "outlinewidth": 0,
              "ticks": ""
             }
            },
            "type": "parcoords"
           }
          ],
          "scatter": [
           {
            "marker": {
             "colorbar": {
              "outlinewidth": 0,
              "ticks": ""
             }
            },
            "type": "scatter"
           }
          ],
          "scatter3d": [
           {
            "line": {
             "colorbar": {
              "outlinewidth": 0,
              "ticks": ""
             }
            },
            "marker": {
             "colorbar": {
              "outlinewidth": 0,
              "ticks": ""
             }
            },
            "type": "scatter3d"
           }
          ],
          "scattercarpet": [
           {
            "marker": {
             "colorbar": {
              "outlinewidth": 0,
              "ticks": ""
             }
            },
            "type": "scattercarpet"
           }
          ],
          "scattergeo": [
           {
            "marker": {
             "colorbar": {
              "outlinewidth": 0,
              "ticks": ""
             }
            },
            "type": "scattergeo"
           }
          ],
          "scattergl": [
           {
            "marker": {
             "colorbar": {
              "outlinewidth": 0,
              "ticks": ""
             }
            },
            "type": "scattergl"
           }
          ],
          "scattermapbox": [
           {
            "marker": {
             "colorbar": {
              "outlinewidth": 0,
              "ticks": ""
             }
            },
            "type": "scattermapbox"
           }
          ],
          "scatterpolar": [
           {
            "marker": {
             "colorbar": {
              "outlinewidth": 0,
              "ticks": ""
             }
            },
            "type": "scatterpolar"
           }
          ],
          "scatterpolargl": [
           {
            "marker": {
             "colorbar": {
              "outlinewidth": 0,
              "ticks": ""
             }
            },
            "type": "scatterpolargl"
           }
          ],
          "scatterternary": [
           {
            "marker": {
             "colorbar": {
              "outlinewidth": 0,
              "ticks": ""
             }
            },
            "type": "scatterternary"
           }
          ],
          "surface": [
           {
            "colorbar": {
             "outlinewidth": 0,
             "ticks": ""
            },
            "colorscale": [
             [
              0,
              "#0d0887"
             ],
             [
              0.1111111111111111,
              "#46039f"
             ],
             [
              0.2222222222222222,
              "#7201a8"
             ],
             [
              0.3333333333333333,
              "#9c179e"
             ],
             [
              0.4444444444444444,
              "#bd3786"
             ],
             [
              0.5555555555555556,
              "#d8576b"
             ],
             [
              0.6666666666666666,
              "#ed7953"
             ],
             [
              0.7777777777777778,
              "#fb9f3a"
             ],
             [
              0.8888888888888888,
              "#fdca26"
             ],
             [
              1,
              "#f0f921"
             ]
            ],
            "type": "surface"
           }
          ],
          "table": [
           {
            "cells": {
             "fill": {
              "color": "#EBF0F8"
             },
             "line": {
              "color": "white"
             }
            },
            "header": {
             "fill": {
              "color": "#C8D4E3"
             },
             "line": {
              "color": "white"
             }
            },
            "type": "table"
           }
          ]
         },
         "layout": {
          "annotationdefaults": {
           "arrowcolor": "#2a3f5f",
           "arrowhead": 0,
           "arrowwidth": 1
          },
          "colorscale": {
           "diverging": [
            [
             0,
             "#8e0152"
            ],
            [
             0.1,
             "#c51b7d"
            ],
            [
             0.2,
             "#de77ae"
            ],
            [
             0.3,
             "#f1b6da"
            ],
            [
             0.4,
             "#fde0ef"
            ],
            [
             0.5,
             "#f7f7f7"
            ],
            [
             0.6,
             "#e6f5d0"
            ],
            [
             0.7,
             "#b8e186"
            ],
            [
             0.8,
             "#7fbc41"
            ],
            [
             0.9,
             "#4d9221"
            ],
            [
             1,
             "#276419"
            ]
           ],
           "sequential": [
            [
             0,
             "#0d0887"
            ],
            [
             0.1111111111111111,
             "#46039f"
            ],
            [
             0.2222222222222222,
             "#7201a8"
            ],
            [
             0.3333333333333333,
             "#9c179e"
            ],
            [
             0.4444444444444444,
             "#bd3786"
            ],
            [
             0.5555555555555556,
             "#d8576b"
            ],
            [
             0.6666666666666666,
             "#ed7953"
            ],
            [
             0.7777777777777778,
             "#fb9f3a"
            ],
            [
             0.8888888888888888,
             "#fdca26"
            ],
            [
             1,
             "#f0f921"
            ]
           ],
           "sequentialminus": [
            [
             0,
             "#0d0887"
            ],
            [
             0.1111111111111111,
             "#46039f"
            ],
            [
             0.2222222222222222,
             "#7201a8"
            ],
            [
             0.3333333333333333,
             "#9c179e"
            ],
            [
             0.4444444444444444,
             "#bd3786"
            ],
            [
             0.5555555555555556,
             "#d8576b"
            ],
            [
             0.6666666666666666,
             "#ed7953"
            ],
            [
             0.7777777777777778,
             "#fb9f3a"
            ],
            [
             0.8888888888888888,
             "#fdca26"
            ],
            [
             1,
             "#f0f921"
            ]
           ]
          },
          "colorway": [
           "#636efa",
           "#EF553B",
           "#00cc96",
           "#ab63fa",
           "#FFA15A",
           "#19d3f3",
           "#FF6692",
           "#B6E880",
           "#FF97FF",
           "#FECB52"
          ],
          "font": {
           "color": "#2a3f5f"
          },
          "geo": {
           "bgcolor": "white",
           "lakecolor": "white",
           "landcolor": "#E5ECF6",
           "showlakes": true,
           "showland": true,
           "subunitcolor": "white"
          },
          "hoverlabel": {
           "align": "left"
          },
          "hovermode": "closest",
          "mapbox": {
           "style": "light"
          },
          "paper_bgcolor": "white",
          "plot_bgcolor": "#E5ECF6",
          "polar": {
           "angularaxis": {
            "gridcolor": "white",
            "linecolor": "white",
            "ticks": ""
           },
           "bgcolor": "#E5ECF6",
           "radialaxis": {
            "gridcolor": "white",
            "linecolor": "white",
            "ticks": ""
           }
          },
          "scene": {
           "xaxis": {
            "backgroundcolor": "#E5ECF6",
            "gridcolor": "white",
            "gridwidth": 2,
            "linecolor": "white",
            "showbackground": true,
            "ticks": "",
            "zerolinecolor": "white"
           },
           "yaxis": {
            "backgroundcolor": "#E5ECF6",
            "gridcolor": "white",
            "gridwidth": 2,
            "linecolor": "white",
            "showbackground": true,
            "ticks": "",
            "zerolinecolor": "white"
           },
           "zaxis": {
            "backgroundcolor": "#E5ECF6",
            "gridcolor": "white",
            "gridwidth": 2,
            "linecolor": "white",
            "showbackground": true,
            "ticks": "",
            "zerolinecolor": "white"
           }
          },
          "shapedefaults": {
           "line": {
            "color": "#2a3f5f"
           }
          },
          "ternary": {
           "aaxis": {
            "gridcolor": "white",
            "linecolor": "white",
            "ticks": ""
           },
           "baxis": {
            "gridcolor": "white",
            "linecolor": "white",
            "ticks": ""
           },
           "bgcolor": "#E5ECF6",
           "caxis": {
            "gridcolor": "white",
            "linecolor": "white",
            "ticks": ""
           }
          },
          "title": {
           "x": 0.05
          },
          "xaxis": {
           "automargin": true,
           "gridcolor": "white",
           "linecolor": "white",
           "ticks": "",
           "zerolinecolor": "white",
           "zerolinewidth": 2
          },
          "yaxis": {
           "automargin": true,
           "gridcolor": "white",
           "linecolor": "white",
           "ticks": "",
           "zerolinecolor": "white",
           "zerolinewidth": 2
          }
         }
        },
        "title": {
         "font": {
          "color": "#4D5663"
         }
        },
        "xaxis": {
         "anchor": "y",
         "domain": [
          0,
          0.2125
         ],
         "gridcolor": "#E1E5ED",
         "showgrid": false,
         "tickfont": {
          "color": "#4D5663"
         },
         "title": {
          "font": {
           "color": "#4D5663"
          },
          "text": ""
         },
         "zerolinecolor": "#E1E5ED"
        },
        "xaxis10": {
         "anchor": "y10",
         "domain": [
          0.2625,
          0.475
         ],
         "gridcolor": "#E1E5ED",
         "showgrid": false,
         "tickfont": {
          "color": "#4D5663"
         },
         "title": {
          "font": {
           "color": "#4D5663"
          },
          "text": ""
         },
         "zerolinecolor": "#E1E5ED"
        },
        "xaxis11": {
         "anchor": "y11",
         "domain": [
          0.525,
          0.7375
         ],
         "gridcolor": "#E1E5ED",
         "showgrid": false,
         "tickfont": {
          "color": "#4D5663"
         },
         "title": {
          "font": {
           "color": "#4D5663"
          },
          "text": ""
         },
         "zerolinecolor": "#E1E5ED"
        },
        "xaxis12": {
         "anchor": "y12",
         "domain": [
          0.7875,
          1
         ],
         "gridcolor": "#E1E5ED",
         "showgrid": false,
         "tickfont": {
          "color": "#4D5663"
         },
         "title": {
          "font": {
           "color": "#4D5663"
          },
          "text": ""
         },
         "zerolinecolor": "#E1E5ED"
        },
        "xaxis13": {
         "anchor": "y13",
         "domain": [
          0,
          0.2125
         ],
         "gridcolor": "#E1E5ED",
         "showgrid": false,
         "tickfont": {
          "color": "#4D5663"
         },
         "title": {
          "font": {
           "color": "#4D5663"
          },
          "text": ""
         },
         "zerolinecolor": "#E1E5ED"
        },
        "xaxis14": {
         "anchor": "y14",
         "domain": [
          0.2625,
          0.475
         ],
         "gridcolor": "#E1E5ED",
         "showgrid": false,
         "tickfont": {
          "color": "#4D5663"
         },
         "title": {
          "font": {
           "color": "#4D5663"
          },
          "text": ""
         },
         "zerolinecolor": "#E1E5ED"
        },
        "xaxis15": {
         "anchor": "y15",
         "domain": [
          0.525,
          0.7375
         ],
         "gridcolor": "#E1E5ED",
         "showgrid": false,
         "tickfont": {
          "color": "#4D5663"
         },
         "title": {
          "font": {
           "color": "#4D5663"
          },
          "text": ""
         },
         "zerolinecolor": "#E1E5ED"
        },
        "xaxis16": {
         "anchor": "y16",
         "domain": [
          0.7875,
          1
         ],
         "gridcolor": "#E1E5ED",
         "showgrid": false,
         "tickfont": {
          "color": "#4D5663"
         },
         "title": {
          "font": {
           "color": "#4D5663"
          },
          "text": ""
         },
         "zerolinecolor": "#E1E5ED"
        },
        "xaxis2": {
         "anchor": "y2",
         "domain": [
          0.2625,
          0.475
         ],
         "gridcolor": "#E1E5ED",
         "showgrid": false,
         "tickfont": {
          "color": "#4D5663"
         },
         "title": {
          "font": {
           "color": "#4D5663"
          },
          "text": ""
         },
         "zerolinecolor": "#E1E5ED"
        },
        "xaxis3": {
         "anchor": "y3",
         "domain": [
          0.525,
          0.7375
         ],
         "gridcolor": "#E1E5ED",
         "showgrid": false,
         "tickfont": {
          "color": "#4D5663"
         },
         "title": {
          "font": {
           "color": "#4D5663"
          },
          "text": ""
         },
         "zerolinecolor": "#E1E5ED"
        },
        "xaxis4": {
         "anchor": "y4",
         "domain": [
          0.7875,
          1
         ],
         "gridcolor": "#E1E5ED",
         "showgrid": false,
         "tickfont": {
          "color": "#4D5663"
         },
         "title": {
          "font": {
           "color": "#4D5663"
          },
          "text": ""
         },
         "zerolinecolor": "#E1E5ED"
        },
        "xaxis5": {
         "anchor": "y5",
         "domain": [
          0,
          0.2125
         ],
         "gridcolor": "#E1E5ED",
         "showgrid": false,
         "tickfont": {
          "color": "#4D5663"
         },
         "title": {
          "font": {
           "color": "#4D5663"
          },
          "text": ""
         },
         "zerolinecolor": "#E1E5ED"
        },
        "xaxis6": {
         "anchor": "y6",
         "domain": [
          0.2625,
          0.475
         ],
         "gridcolor": "#E1E5ED",
         "showgrid": false,
         "tickfont": {
          "color": "#4D5663"
         },
         "title": {
          "font": {
           "color": "#4D5663"
          },
          "text": ""
         },
         "zerolinecolor": "#E1E5ED"
        },
        "xaxis7": {
         "anchor": "y7",
         "domain": [
          0.525,
          0.7375
         ],
         "gridcolor": "#E1E5ED",
         "showgrid": false,
         "tickfont": {
          "color": "#4D5663"
         },
         "title": {
          "font": {
           "color": "#4D5663"
          },
          "text": ""
         },
         "zerolinecolor": "#E1E5ED"
        },
        "xaxis8": {
         "anchor": "y8",
         "domain": [
          0.7875,
          1
         ],
         "gridcolor": "#E1E5ED",
         "showgrid": false,
         "tickfont": {
          "color": "#4D5663"
         },
         "title": {
          "font": {
           "color": "#4D5663"
          },
          "text": ""
         },
         "zerolinecolor": "#E1E5ED"
        },
        "xaxis9": {
         "anchor": "y9",
         "domain": [
          0,
          0.2125
         ],
         "gridcolor": "#E1E5ED",
         "showgrid": false,
         "tickfont": {
          "color": "#4D5663"
         },
         "title": {
          "font": {
           "color": "#4D5663"
          },
          "text": ""
         },
         "zerolinecolor": "#E1E5ED"
        },
        "yaxis": {
         "anchor": "x",
         "domain": [
          0.8025,
          1
         ],
         "gridcolor": "#E1E5ED",
         "showgrid": false,
         "tickfont": {
          "color": "#4D5663"
         },
         "title": {
          "font": {
           "color": "#4D5663"
          },
          "text": ""
         },
         "zerolinecolor": "#E1E5ED"
        },
        "yaxis10": {
         "anchor": "x10",
         "domain": [
          0.2675,
          0.465
         ],
         "gridcolor": "#E1E5ED",
         "showgrid": false,
         "tickfont": {
          "color": "#4D5663"
         },
         "title": {
          "font": {
           "color": "#4D5663"
          },
          "text": ""
         },
         "zerolinecolor": "#E1E5ED"
        },
        "yaxis11": {
         "anchor": "x11",
         "domain": [
          0.2675,
          0.465
         ],
         "gridcolor": "#E1E5ED",
         "showgrid": false,
         "tickfont": {
          "color": "#4D5663"
         },
         "title": {
          "font": {
           "color": "#4D5663"
          },
          "text": ""
         },
         "zerolinecolor": "#E1E5ED"
        },
        "yaxis12": {
         "anchor": "x12",
         "domain": [
          0.2675,
          0.465
         ],
         "gridcolor": "#E1E5ED",
         "showgrid": false,
         "tickfont": {
          "color": "#4D5663"
         },
         "title": {
          "font": {
           "color": "#4D5663"
          },
          "text": ""
         },
         "zerolinecolor": "#E1E5ED"
        },
        "yaxis13": {
         "anchor": "x13",
         "domain": [
          0,
          0.1975
         ],
         "gridcolor": "#E1E5ED",
         "showgrid": false,
         "tickfont": {
          "color": "#4D5663"
         },
         "title": {
          "font": {
           "color": "#4D5663"
          },
          "text": ""
         },
         "zerolinecolor": "#E1E5ED"
        },
        "yaxis14": {
         "anchor": "x14",
         "domain": [
          0,
          0.1975
         ],
         "gridcolor": "#E1E5ED",
         "showgrid": false,
         "tickfont": {
          "color": "#4D5663"
         },
         "title": {
          "font": {
           "color": "#4D5663"
          },
          "text": ""
         },
         "zerolinecolor": "#E1E5ED"
        },
        "yaxis15": {
         "anchor": "x15",
         "domain": [
          0,
          0.1975
         ],
         "gridcolor": "#E1E5ED",
         "showgrid": false,
         "tickfont": {
          "color": "#4D5663"
         },
         "title": {
          "font": {
           "color": "#4D5663"
          },
          "text": ""
         },
         "zerolinecolor": "#E1E5ED"
        },
        "yaxis16": {
         "anchor": "x16",
         "domain": [
          0,
          0.1975
         ],
         "gridcolor": "#E1E5ED",
         "showgrid": false,
         "tickfont": {
          "color": "#4D5663"
         },
         "title": {
          "font": {
           "color": "#4D5663"
          },
          "text": ""
         },
         "zerolinecolor": "#E1E5ED"
        },
        "yaxis2": {
         "anchor": "x2",
         "domain": [
          0.8025,
          1
         ],
         "gridcolor": "#E1E5ED",
         "showgrid": false,
         "tickfont": {
          "color": "#4D5663"
         },
         "title": {
          "font": {
           "color": "#4D5663"
          },
          "text": ""
         },
         "zerolinecolor": "#E1E5ED"
        },
        "yaxis3": {
         "anchor": "x3",
         "domain": [
          0.8025,
          1
         ],
         "gridcolor": "#E1E5ED",
         "showgrid": false,
         "tickfont": {
          "color": "#4D5663"
         },
         "title": {
          "font": {
           "color": "#4D5663"
          },
          "text": ""
         },
         "zerolinecolor": "#E1E5ED"
        },
        "yaxis4": {
         "anchor": "x4",
         "domain": [
          0.8025,
          1
         ],
         "gridcolor": "#E1E5ED",
         "showgrid": false,
         "tickfont": {
          "color": "#4D5663"
         },
         "title": {
          "font": {
           "color": "#4D5663"
          },
          "text": ""
         },
         "zerolinecolor": "#E1E5ED"
        },
        "yaxis5": {
         "anchor": "x5",
         "domain": [
          0.535,
          0.7325
         ],
         "gridcolor": "#E1E5ED",
         "showgrid": false,
         "tickfont": {
          "color": "#4D5663"
         },
         "title": {
          "font": {
           "color": "#4D5663"
          },
          "text": ""
         },
         "zerolinecolor": "#E1E5ED"
        },
        "yaxis6": {
         "anchor": "x6",
         "domain": [
          0.535,
          0.7325
         ],
         "gridcolor": "#E1E5ED",
         "showgrid": false,
         "tickfont": {
          "color": "#4D5663"
         },
         "title": {
          "font": {
           "color": "#4D5663"
          },
          "text": ""
         },
         "zerolinecolor": "#E1E5ED"
        },
        "yaxis7": {
         "anchor": "x7",
         "domain": [
          0.535,
          0.7325
         ],
         "gridcolor": "#E1E5ED",
         "showgrid": false,
         "tickfont": {
          "color": "#4D5663"
         },
         "title": {
          "font": {
           "color": "#4D5663"
          },
          "text": ""
         },
         "zerolinecolor": "#E1E5ED"
        },
        "yaxis8": {
         "anchor": "x8",
         "domain": [
          0.535,
          0.7325
         ],
         "gridcolor": "#E1E5ED",
         "showgrid": false,
         "tickfont": {
          "color": "#4D5663"
         },
         "title": {
          "font": {
           "color": "#4D5663"
          },
          "text": ""
         },
         "zerolinecolor": "#E1E5ED"
        },
        "yaxis9": {
         "anchor": "x9",
         "domain": [
          0.2675,
          0.465
         ],
         "gridcolor": "#E1E5ED",
         "showgrid": false,
         "tickfont": {
          "color": "#4D5663"
         },
         "title": {
          "font": {
           "color": "#4D5663"
          },
          "text": ""
         },
         "zerolinecolor": "#E1E5ED"
        }
       }
      },
      "text/html": [
       "<div>\n",
       "        \n",
       "        \n",
       "            <div id=\"883b50ec-88f3-44dd-90c4-74aacd87baa6\" class=\"plotly-graph-div\" style=\"height:525px; width:100%;\"></div>\n",
       "            <script type=\"text/javascript\">\n",
       "                require([\"plotly\"], function(Plotly) {\n",
       "                    window.PLOTLYENV=window.PLOTLYENV || {};\n",
       "                    window.PLOTLYENV.BASE_URL='https://plot.ly';\n",
       "                    \n",
       "                if (document.getElementById(\"883b50ec-88f3-44dd-90c4-74aacd87baa6\")) {\n",
       "                    Plotly.newPlot(\n",
       "                        '883b50ec-88f3-44dd-90c4-74aacd87baa6',\n",
       "                        [{\"histfunc\": \"count\", \"histnorm\": \"\", \"marker\": {\"color\": \"rgba(255, 153, 51, 1.0)\", \"line\": {\"color\": \"#4D5663\", \"width\": 1.3}}, \"name\": \"A\", \"nbinsx\": 10, \"opacity\": 0.8, \"orientation\": \"v\", \"type\": \"histogram\", \"x\": [2.069081317248437, -1.9586988201017066, 0.31687259557075065, 0.3163933211791377, -0.16623943248273207, 1.5497820365156982, -1.7297768914284835, 0.5697825774153621, -0.7032361365794662, -0.8268251660691491, 1.2467171956322265, -1.0757476486572177, -0.165999174967776, 0.42843672539742184, -0.25675899385138395, 0.22587079145601774, 1.9166425271506045, -0.640237220836307, -0.6861772522003287, -0.5586527440178088, -2.5054824095350603, 0.4409074736412183, -1.9900902601521533, -0.5210386202937979, -0.5080735923466261, -0.7618302051217163, 0.8385206587443153, 1.4112551979094434, -0.35899178289305833, -0.7583551270205274, 0.1801450370472393, -1.668881029521964, -0.7631515357140278, -0.6703114133478807, -1.4410620768665687, 0.8743716919027011, 1.3712437328971603, 1.8015066568239602, -1.3793914176363382, -0.310781082112185, 0.21539737058955025, 0.26100127321811867, -0.5720033350321432, 2.132914188699778, -1.6315266835701523, 0.6116058285290135, -1.375542976417157, 0.5516327908947728, -0.8291435228557643, -0.10741096952517305, 0.466848431170696, 0.8433508517657493, 0.11636175879694592, 0.5598366538046764, 0.24914272694522172, -0.06884643442780915, -0.4084858316707387, -1.4051726071742447, -0.30645623254003573, 1.7389939017633762, -1.069248683755255, 1.6834497814923641, 1.346355028489932, -0.6762454051862051, 0.9031060789060906, 1.1356794877473801, -0.40881973318811055, 0.7063794517678516, -0.4152686536633678, -0.996637064263391, -0.05603719295495405, 0.3267743031922197, -0.7097067062730879, 0.4433270622616412, 0.379617908590977, -0.43494427079199754, 1.7809685905508235, 1.6966147780256329, 1.4906595522423403, 0.4809146675204936, -1.3864972445511055, -0.6595869670593304, -0.5506363437289727, 0.5980724890985413, -1.1521791912703487, -0.3175929792191654, -1.8718075854411518, -0.27684143268620376, -1.6259350828226837, 1.2269730494900373, -0.048869330284592144, 1.5957901102313448, -0.040539979809508665, 1.3204254982305588, -0.035534127153365694, 0.9671163301831622, 0.5214914391803923, 0.9508548035963178, 0.05960270547188383, -0.01561286021245415], \"xaxis\": \"x\", \"yaxis\": \"y\"}, {\"line\": {\"color\": \"rgba(128, 128, 128, 1.0)\", \"dash\": \"solid\", \"shape\": \"linear\", \"width\": 1.3}, \"marker\": {\"size\": 2, \"symbol\": \"circle\"}, \"mode\": \"markers\", \"name\": \"A\", \"text\": \"\", \"type\": \"scatter\", \"x\": [0.5371406102484116, -0.7630355998932787, -2.4858162864857523, 1.2592066808607159, 0.9595436226520081, -0.8081156938171563, 0.9958728377864831, -0.04591061914796954, 0.6904010738181772, -0.5511142392207588, 1.4402893831504124, 0.35305376609086747, 0.7972779169691322, 0.34537746993804025, 1.31874407327095, 1.6969578374319672, -2.380558289248379, -0.42479170062544036, 0.7611985790453921, -1.4523150254476245, 0.587450547772239, 0.15513270402904678, 0.3816171930588017, -0.3485622560270526, -0.2233077072848466, -0.06657166845739156, -0.4699219481124245, 1.2162365035510758, -0.08247111159833434, -0.26576094186048205, 0.6287146222239482, 0.5464995934949134, -1.0413503318774242, -0.6133269467314942, 1.7897861110849156, -1.4636448182885142, -0.6082089722636107, -0.18944182747086188, 1.1535409107981895, -0.2610438758985015, 0.7607204950976051, 0.8689659293485391, -1.0408678834637686, -1.8697259764998884, 0.052957623660512085, -0.4752375307599897, -0.6894315405633875, 0.20660004628802267, 0.41587696940825136, 0.11794519060016996, -0.5483109902790982, 0.2204585387263463, -0.0814497894297341, -0.4261861035950627, -0.021917182184465037, 0.35222734994579635, -0.24159158765078223, -1.245418117537442, 1.0216068651998909, 0.2639425680704423, 0.9241230815489991, 1.0987810469821897, -1.2581918632792053, -0.3047137245763503, 0.60914107898099, -0.9152188042552775, -0.26765853410307033, -2.0075144589553195, 0.8147844678127948, -0.13131685638323615, -1.311225180991742, -0.04852659651473337, -1.218931042803003, -1.024830966258147, 0.12385012282058273, -0.20982791576190235, -0.24678271085565104, 0.5154062122960229, 0.1544833714506777, -0.41404378573783396, -1.2860894727014949, -1.437949062500608, 2.4274363130615795, -0.4573332199984909, 0.7826881088936185, -0.10934943159905164, -0.5949196074311865, 0.03144939194326923, 1.524309150436032, -0.23392802647924565, 0.5361360451160111, -0.7495155351889765, -0.18096629842077092, 1.558544319601368, 1.7517499105114092, -0.39371248209055115, 0.345362285426185, -0.7860338813922241, 1.900836644872969, -0.6373552719220384], \"xaxis\": \"x2\", \"y\": [2.069081317248437, -1.9586988201017066, 0.31687259557075065, 0.3163933211791377, -0.16623943248273207, 1.5497820365156982, -1.7297768914284835, 0.5697825774153621, -0.7032361365794662, -0.8268251660691491, 1.2467171956322265, -1.0757476486572177, -0.165999174967776, 0.42843672539742184, -0.25675899385138395, 0.22587079145601774, 1.9166425271506045, -0.640237220836307, -0.6861772522003287, -0.5586527440178088, -2.5054824095350603, 0.4409074736412183, -1.9900902601521533, -0.5210386202937979, -0.5080735923466261, -0.7618302051217163, 0.8385206587443153, 1.4112551979094434, -0.35899178289305833, -0.7583551270205274, 0.1801450370472393, -1.668881029521964, -0.7631515357140278, -0.6703114133478807, -1.4410620768665687, 0.8743716919027011, 1.3712437328971603, 1.8015066568239602, -1.3793914176363382, -0.310781082112185, 0.21539737058955025, 0.26100127321811867, -0.5720033350321432, 2.132914188699778, -1.6315266835701523, 0.6116058285290135, -1.375542976417157, 0.5516327908947728, -0.8291435228557643, -0.10741096952517305, 0.466848431170696, 0.8433508517657493, 0.11636175879694592, 0.5598366538046764, 0.24914272694522172, -0.06884643442780915, -0.4084858316707387, -1.4051726071742447, -0.30645623254003573, 1.7389939017633762, -1.069248683755255, 1.6834497814923641, 1.346355028489932, -0.6762454051862051, 0.9031060789060906, 1.1356794877473801, -0.40881973318811055, 0.7063794517678516, -0.4152686536633678, -0.996637064263391, -0.05603719295495405, 0.3267743031922197, -0.7097067062730879, 0.4433270622616412, 0.379617908590977, -0.43494427079199754, 1.7809685905508235, 1.6966147780256329, 1.4906595522423403, 0.4809146675204936, -1.3864972445511055, -0.6595869670593304, -0.5506363437289727, 0.5980724890985413, -1.1521791912703487, -0.3175929792191654, -1.8718075854411518, -0.27684143268620376, -1.6259350828226837, 1.2269730494900373, -0.048869330284592144, 1.5957901102313448, -0.040539979809508665, 1.3204254982305588, -0.035534127153365694, 0.9671163301831622, 0.5214914391803923, 0.9508548035963178, 0.05960270547188383, -0.01561286021245415], \"yaxis\": \"y2\"}, {\"line\": {\"color\": \"rgba(128, 128, 128, 1.0)\", \"dash\": \"solid\", \"shape\": \"linear\", \"width\": 1.3}, \"marker\": {\"size\": 2, \"symbol\": \"circle\"}, \"mode\": \"markers\", \"name\": \"A\", \"text\": \"\", \"type\": \"scatter\", \"x\": [-0.6850215014043163, -1.2412518834652546, -0.3946676954847482, 0.7651845615941001, 0.8539049176742748, -0.37644014904789597, -0.32772970648204053, 0.02834189527309373, -0.9504524445878754, 0.8230972624100741, -1.7142178136821131, 0.33112410774976675, 0.016363052685521937, -0.43413069570491963, -1.5738282812386328, 0.03489961725557421, -0.12246618896219813, -0.6146165254190183, 0.43031162267834133, 0.06397533316452905, -0.490651552827173, 1.3735403366482595, 0.8188391172357061, -0.02980846654887524, -0.31099894785936216, -0.2735335159583621, 0.4179333738998075, -0.5715943544758427, 0.1344414889806831, -1.521533327628918, -0.6689381159428938, 0.15251369394908768, -0.36431107964479786, -0.10028586033516866, -2.6732007415098575, 0.11324362012281179, -0.048704678642151784, 1.4180214987115798, -0.8867526618791968, -1.5253768240139522, 1.8287289167343548, -0.7592255448926566, -0.0671946927632733, 0.1754235812981672, -1.0358340705530713, 0.0019515411977063064, 0.048488005484730506, -0.44430593841028115, -0.2331860016412143, 1.1627105571515324, 0.5660950651322101, -0.6786210624157247, -0.20721530694253, -0.07151740505683823, -0.6818973591112406, -1.324645088015891, -0.2310949839970945, -0.8492294245819209, 0.210864914686496, -0.5009556142676546, 1.1266769334653688, 2.248449891487893, -1.9246130542716733, -1.1722170464527613, 0.09141428654928084, 1.1753076792060488, -0.43191016662870235, -1.1616224424459403, 1.3823367200683663, -1.6837964741457006, -0.3211979035283138, 0.10236534755693119, 2.061701313426245, 0.5473232701612604, -0.24896171576994267, 0.6318260116940371, -0.8575144563857071, -0.06710741764459427, 1.0667462425791259, 1.2325174883238221, -1.2629602105446083, 0.9494335560653758, 1.413884715443827, 0.5129628018179038, 0.2560733737865519, -0.8923394405259693, 0.8888377362062309, -0.688304615890909, 1.1748715811398724, -0.7300124099889382, 1.6207942045893935, 0.07057876461498128, 0.1381467197907667, -0.15809627739176416, -0.12616914469849583, -0.6426296324989368, -1.1256061558648365, -0.2819777712287155, 0.25792572295089744, -1.3031790480572327], \"xaxis\": \"x3\", \"y\": [2.069081317248437, -1.9586988201017066, 0.31687259557075065, 0.3163933211791377, -0.16623943248273207, 1.5497820365156982, -1.7297768914284835, 0.5697825774153621, -0.7032361365794662, -0.8268251660691491, 1.2467171956322265, -1.0757476486572177, -0.165999174967776, 0.42843672539742184, -0.25675899385138395, 0.22587079145601774, 1.9166425271506045, -0.640237220836307, -0.6861772522003287, -0.5586527440178088, -2.5054824095350603, 0.4409074736412183, -1.9900902601521533, -0.5210386202937979, -0.5080735923466261, -0.7618302051217163, 0.8385206587443153, 1.4112551979094434, -0.35899178289305833, -0.7583551270205274, 0.1801450370472393, -1.668881029521964, -0.7631515357140278, -0.6703114133478807, -1.4410620768665687, 0.8743716919027011, 1.3712437328971603, 1.8015066568239602, -1.3793914176363382, -0.310781082112185, 0.21539737058955025, 0.26100127321811867, -0.5720033350321432, 2.132914188699778, -1.6315266835701523, 0.6116058285290135, -1.375542976417157, 0.5516327908947728, -0.8291435228557643, -0.10741096952517305, 0.466848431170696, 0.8433508517657493, 0.11636175879694592, 0.5598366538046764, 0.24914272694522172, -0.06884643442780915, -0.4084858316707387, -1.4051726071742447, -0.30645623254003573, 1.7389939017633762, -1.069248683755255, 1.6834497814923641, 1.346355028489932, -0.6762454051862051, 0.9031060789060906, 1.1356794877473801, -0.40881973318811055, 0.7063794517678516, -0.4152686536633678, -0.996637064263391, -0.05603719295495405, 0.3267743031922197, -0.7097067062730879, 0.4433270622616412, 0.379617908590977, -0.43494427079199754, 1.7809685905508235, 1.6966147780256329, 1.4906595522423403, 0.4809146675204936, -1.3864972445511055, -0.6595869670593304, -0.5506363437289727, 0.5980724890985413, -1.1521791912703487, -0.3175929792191654, -1.8718075854411518, -0.27684143268620376, -1.6259350828226837, 1.2269730494900373, -0.048869330284592144, 1.5957901102313448, -0.040539979809508665, 1.3204254982305588, -0.035534127153365694, 0.9671163301831622, 0.5214914391803923, 0.9508548035963178, 0.05960270547188383, -0.01561286021245415], \"yaxis\": \"y3\"}, {\"line\": {\"color\": \"rgba(128, 128, 128, 1.0)\", \"dash\": \"solid\", \"shape\": \"linear\", \"width\": 1.3}, \"marker\": {\"size\": 2, \"symbol\": \"circle\"}, \"mode\": \"markers\", \"name\": \"A\", \"text\": \"\", \"type\": \"scatter\", \"x\": [2.014247115270905, -0.7428208160857449, -1.309030944216816, -2.478092924371268, -0.6280100446363561, 1.0291618666179578, -0.26691667588585155, 1.313422842184512, -1.970495819360091, 0.11411545090210919, 0.9181163750127501, -0.29858708158689656, -0.26612821659138275, -0.973581285673536, -0.20814284985497686, -0.2558327791930005, 0.37891920212858315, 1.1085200274370157, -1.0002458133975058, -0.33242083339553374, -0.9749877501914137, 1.15811018558237, 0.5169718463650118, -1.274743874217198, 2.006624857298406, 0.25511767166704996, -0.30164693812853194, 0.06354489502755675, -1.0197590712944298, 0.3253988257390908, -0.7933307740387828, -0.8036699362969526, 0.1043611568074112, 1.3437747133382383, -0.5894175974959336, -0.49893973790798285, -0.47525780077383467, -0.9390740838969601, 1.4442447945726926, -0.7540442676823031, 1.5830342653142089, 0.6438885132208334, 0.2990209607177709, 0.17577833233795892, 1.4195280629117475, 1.3131698831594645, 1.0031714131683982, 1.7632422224160416, 0.11073442737923893, -0.5828009953990801, -0.486770021231336, -0.3839996428127627, -0.4391568257246189, -0.44417511214167693, -0.3318415514093242, 0.11211566642523081, 0.6104668682054902, -0.49044106556725764, -0.8714167589345827, -1.6880287466088721, 1.3880439298208682, 0.007243106345136585, -0.7003319230422439, 0.9207544153619949, 1.8122011583635331, 0.21520079658506217, 1.338945422952007, -1.3559156793828218, 1.0675500203465638, 0.22685073583400517, 1.3147667676333779, -0.8512121329769073, -1.00825773280854, -0.05585947679402678, -1.9087662048270295, -1.1700986548099093, -0.14527278661267826, 0.22093226813171887, 1.624520241139117, 1.508494359617955, 0.6357187352707607, 0.4533273679564344, 0.07956108166066125, -0.8250424975633813, -1.6091491496953354, 0.8742516509758052, -2.491823621271737, -0.042188676755759956, 1.2969695278585485, 0.42802263329645285, 1.3549457569635972, 0.011100810382680232, -0.5876763575631399, -0.34431210228354003, -0.6782744890719055, 1.3916341438432032, -0.12101914607071254, -1.7419381441262538, 0.3707115678108203, 0.5024782457297611], \"xaxis\": \"x4\", \"y\": [2.069081317248437, -1.9586988201017066, 0.31687259557075065, 0.3163933211791377, -0.16623943248273207, 1.5497820365156982, -1.7297768914284835, 0.5697825774153621, -0.7032361365794662, -0.8268251660691491, 1.2467171956322265, -1.0757476486572177, -0.165999174967776, 0.42843672539742184, -0.25675899385138395, 0.22587079145601774, 1.9166425271506045, -0.640237220836307, -0.6861772522003287, -0.5586527440178088, -2.5054824095350603, 0.4409074736412183, -1.9900902601521533, -0.5210386202937979, -0.5080735923466261, -0.7618302051217163, 0.8385206587443153, 1.4112551979094434, -0.35899178289305833, -0.7583551270205274, 0.1801450370472393, -1.668881029521964, -0.7631515357140278, -0.6703114133478807, -1.4410620768665687, 0.8743716919027011, 1.3712437328971603, 1.8015066568239602, -1.3793914176363382, -0.310781082112185, 0.21539737058955025, 0.26100127321811867, -0.5720033350321432, 2.132914188699778, -1.6315266835701523, 0.6116058285290135, -1.375542976417157, 0.5516327908947728, -0.8291435228557643, -0.10741096952517305, 0.466848431170696, 0.8433508517657493, 0.11636175879694592, 0.5598366538046764, 0.24914272694522172, -0.06884643442780915, -0.4084858316707387, -1.4051726071742447, -0.30645623254003573, 1.7389939017633762, -1.069248683755255, 1.6834497814923641, 1.346355028489932, -0.6762454051862051, 0.9031060789060906, 1.1356794877473801, -0.40881973318811055, 0.7063794517678516, -0.4152686536633678, -0.996637064263391, -0.05603719295495405, 0.3267743031922197, -0.7097067062730879, 0.4433270622616412, 0.379617908590977, -0.43494427079199754, 1.7809685905508235, 1.6966147780256329, 1.4906595522423403, 0.4809146675204936, -1.3864972445511055, -0.6595869670593304, -0.5506363437289727, 0.5980724890985413, -1.1521791912703487, -0.3175929792191654, -1.8718075854411518, -0.27684143268620376, -1.6259350828226837, 1.2269730494900373, -0.048869330284592144, 1.5957901102313448, -0.040539979809508665, 1.3204254982305588, -0.035534127153365694, 0.9671163301831622, 0.5214914391803923, 0.9508548035963178, 0.05960270547188383, -0.01561286021245415], \"yaxis\": \"y4\"}, {\"line\": {\"color\": \"rgba(128, 128, 128, 1.0)\", \"dash\": \"solid\", \"shape\": \"linear\", \"width\": 1.3}, \"marker\": {\"size\": 2, \"symbol\": \"circle\"}, \"mode\": \"markers\", \"name\": \"B\", \"text\": \"\", \"type\": \"scatter\", \"x\": [2.069081317248437, -1.9586988201017066, 0.31687259557075065, 0.3163933211791377, -0.16623943248273207, 1.5497820365156982, -1.7297768914284835, 0.5697825774153621, -0.7032361365794662, -0.8268251660691491, 1.2467171956322265, -1.0757476486572177, -0.165999174967776, 0.42843672539742184, -0.25675899385138395, 0.22587079145601774, 1.9166425271506045, -0.640237220836307, -0.6861772522003287, -0.5586527440178088, -2.5054824095350603, 0.4409074736412183, -1.9900902601521533, -0.5210386202937979, -0.5080735923466261, -0.7618302051217163, 0.8385206587443153, 1.4112551979094434, -0.35899178289305833, -0.7583551270205274, 0.1801450370472393, -1.668881029521964, -0.7631515357140278, -0.6703114133478807, -1.4410620768665687, 0.8743716919027011, 1.3712437328971603, 1.8015066568239602, -1.3793914176363382, -0.310781082112185, 0.21539737058955025, 0.26100127321811867, -0.5720033350321432, 2.132914188699778, -1.6315266835701523, 0.6116058285290135, -1.375542976417157, 0.5516327908947728, -0.8291435228557643, -0.10741096952517305, 0.466848431170696, 0.8433508517657493, 0.11636175879694592, 0.5598366538046764, 0.24914272694522172, -0.06884643442780915, -0.4084858316707387, -1.4051726071742447, -0.30645623254003573, 1.7389939017633762, -1.069248683755255, 1.6834497814923641, 1.346355028489932, -0.6762454051862051, 0.9031060789060906, 1.1356794877473801, -0.40881973318811055, 0.7063794517678516, -0.4152686536633678, -0.996637064263391, -0.05603719295495405, 0.3267743031922197, -0.7097067062730879, 0.4433270622616412, 0.379617908590977, -0.43494427079199754, 1.7809685905508235, 1.6966147780256329, 1.4906595522423403, 0.4809146675204936, -1.3864972445511055, -0.6595869670593304, -0.5506363437289727, 0.5980724890985413, -1.1521791912703487, -0.3175929792191654, -1.8718075854411518, -0.27684143268620376, -1.6259350828226837, 1.2269730494900373, -0.048869330284592144, 1.5957901102313448, -0.040539979809508665, 1.3204254982305588, -0.035534127153365694, 0.9671163301831622, 0.5214914391803923, 0.9508548035963178, 0.05960270547188383, -0.01561286021245415], \"xaxis\": \"x5\", \"y\": [0.5371406102484116, -0.7630355998932787, -2.4858162864857523, 1.2592066808607159, 0.9595436226520081, -0.8081156938171563, 0.9958728377864831, -0.04591061914796954, 0.6904010738181772, -0.5511142392207588, 1.4402893831504124, 0.35305376609086747, 0.7972779169691322, 0.34537746993804025, 1.31874407327095, 1.6969578374319672, -2.380558289248379, -0.42479170062544036, 0.7611985790453921, -1.4523150254476245, 0.587450547772239, 0.15513270402904678, 0.3816171930588017, -0.3485622560270526, -0.2233077072848466, -0.06657166845739156, -0.4699219481124245, 1.2162365035510758, -0.08247111159833434, -0.26576094186048205, 0.6287146222239482, 0.5464995934949134, -1.0413503318774242, -0.6133269467314942, 1.7897861110849156, -1.4636448182885142, -0.6082089722636107, -0.18944182747086188, 1.1535409107981895, -0.2610438758985015, 0.7607204950976051, 0.8689659293485391, -1.0408678834637686, -1.8697259764998884, 0.052957623660512085, -0.4752375307599897, -0.6894315405633875, 0.20660004628802267, 0.41587696940825136, 0.11794519060016996, -0.5483109902790982, 0.2204585387263463, -0.0814497894297341, -0.4261861035950627, -0.021917182184465037, 0.35222734994579635, -0.24159158765078223, -1.245418117537442, 1.0216068651998909, 0.2639425680704423, 0.9241230815489991, 1.0987810469821897, -1.2581918632792053, -0.3047137245763503, 0.60914107898099, -0.9152188042552775, -0.26765853410307033, -2.0075144589553195, 0.8147844678127948, -0.13131685638323615, -1.311225180991742, -0.04852659651473337, -1.218931042803003, -1.024830966258147, 0.12385012282058273, -0.20982791576190235, -0.24678271085565104, 0.5154062122960229, 0.1544833714506777, -0.41404378573783396, -1.2860894727014949, -1.437949062500608, 2.4274363130615795, -0.4573332199984909, 0.7826881088936185, -0.10934943159905164, -0.5949196074311865, 0.03144939194326923, 1.524309150436032, -0.23392802647924565, 0.5361360451160111, -0.7495155351889765, -0.18096629842077092, 1.558544319601368, 1.7517499105114092, -0.39371248209055115, 0.345362285426185, -0.7860338813922241, 1.900836644872969, -0.6373552719220384], \"yaxis\": \"y5\"}, {\"histfunc\": \"count\", \"histnorm\": \"\", \"marker\": {\"color\": \"rgba(55, 128, 191, 1.0)\", \"line\": {\"color\": \"#4D5663\", \"width\": 1.3}}, \"name\": \"B\", \"nbinsx\": 10, \"opacity\": 0.8, \"orientation\": \"v\", \"type\": \"histogram\", \"x\": [0.5371406102484116, -0.7630355998932787, -2.4858162864857523, 1.2592066808607159, 0.9595436226520081, -0.8081156938171563, 0.9958728377864831, -0.04591061914796954, 0.6904010738181772, -0.5511142392207588, 1.4402893831504124, 0.35305376609086747, 0.7972779169691322, 0.34537746993804025, 1.31874407327095, 1.6969578374319672, -2.380558289248379, -0.42479170062544036, 0.7611985790453921, -1.4523150254476245, 0.587450547772239, 0.15513270402904678, 0.3816171930588017, -0.3485622560270526, -0.2233077072848466, -0.06657166845739156, -0.4699219481124245, 1.2162365035510758, -0.08247111159833434, -0.26576094186048205, 0.6287146222239482, 0.5464995934949134, -1.0413503318774242, -0.6133269467314942, 1.7897861110849156, -1.4636448182885142, -0.6082089722636107, -0.18944182747086188, 1.1535409107981895, -0.2610438758985015, 0.7607204950976051, 0.8689659293485391, -1.0408678834637686, -1.8697259764998884, 0.052957623660512085, -0.4752375307599897, -0.6894315405633875, 0.20660004628802267, 0.41587696940825136, 0.11794519060016996, -0.5483109902790982, 0.2204585387263463, -0.0814497894297341, -0.4261861035950627, -0.021917182184465037, 0.35222734994579635, -0.24159158765078223, -1.245418117537442, 1.0216068651998909, 0.2639425680704423, 0.9241230815489991, 1.0987810469821897, -1.2581918632792053, -0.3047137245763503, 0.60914107898099, -0.9152188042552775, -0.26765853410307033, -2.0075144589553195, 0.8147844678127948, -0.13131685638323615, -1.311225180991742, -0.04852659651473337, -1.218931042803003, -1.024830966258147, 0.12385012282058273, -0.20982791576190235, -0.24678271085565104, 0.5154062122960229, 0.1544833714506777, -0.41404378573783396, -1.2860894727014949, -1.437949062500608, 2.4274363130615795, -0.4573332199984909, 0.7826881088936185, -0.10934943159905164, -0.5949196074311865, 0.03144939194326923, 1.524309150436032, -0.23392802647924565, 0.5361360451160111, -0.7495155351889765, -0.18096629842077092, 1.558544319601368, 1.7517499105114092, -0.39371248209055115, 0.345362285426185, -0.7860338813922241, 1.900836644872969, -0.6373552719220384], \"xaxis\": \"x6\", \"yaxis\": \"y6\"}, {\"line\": {\"color\": \"rgba(128, 128, 128, 1.0)\", \"dash\": \"solid\", \"shape\": \"linear\", \"width\": 1.3}, \"marker\": {\"size\": 2, \"symbol\": \"circle\"}, \"mode\": \"markers\", \"name\": \"B\", \"text\": \"\", \"type\": \"scatter\", \"x\": [-0.6850215014043163, -1.2412518834652546, -0.3946676954847482, 0.7651845615941001, 0.8539049176742748, -0.37644014904789597, -0.32772970648204053, 0.02834189527309373, -0.9504524445878754, 0.8230972624100741, -1.7142178136821131, 0.33112410774976675, 0.016363052685521937, -0.43413069570491963, -1.5738282812386328, 0.03489961725557421, -0.12246618896219813, -0.6146165254190183, 0.43031162267834133, 0.06397533316452905, -0.490651552827173, 1.3735403366482595, 0.8188391172357061, -0.02980846654887524, -0.31099894785936216, -0.2735335159583621, 0.4179333738998075, -0.5715943544758427, 0.1344414889806831, -1.521533327628918, -0.6689381159428938, 0.15251369394908768, -0.36431107964479786, -0.10028586033516866, -2.6732007415098575, 0.11324362012281179, -0.048704678642151784, 1.4180214987115798, -0.8867526618791968, -1.5253768240139522, 1.8287289167343548, -0.7592255448926566, -0.0671946927632733, 0.1754235812981672, -1.0358340705530713, 0.0019515411977063064, 0.048488005484730506, -0.44430593841028115, -0.2331860016412143, 1.1627105571515324, 0.5660950651322101, -0.6786210624157247, -0.20721530694253, -0.07151740505683823, -0.6818973591112406, -1.324645088015891, -0.2310949839970945, -0.8492294245819209, 0.210864914686496, -0.5009556142676546, 1.1266769334653688, 2.248449891487893, -1.9246130542716733, -1.1722170464527613, 0.09141428654928084, 1.1753076792060488, -0.43191016662870235, -1.1616224424459403, 1.3823367200683663, -1.6837964741457006, -0.3211979035283138, 0.10236534755693119, 2.061701313426245, 0.5473232701612604, -0.24896171576994267, 0.6318260116940371, -0.8575144563857071, -0.06710741764459427, 1.0667462425791259, 1.2325174883238221, -1.2629602105446083, 0.9494335560653758, 1.413884715443827, 0.5129628018179038, 0.2560733737865519, -0.8923394405259693, 0.8888377362062309, -0.688304615890909, 1.1748715811398724, -0.7300124099889382, 1.6207942045893935, 0.07057876461498128, 0.1381467197907667, -0.15809627739176416, -0.12616914469849583, -0.6426296324989368, -1.1256061558648365, -0.2819777712287155, 0.25792572295089744, -1.3031790480572327], \"xaxis\": \"x7\", \"y\": [0.5371406102484116, -0.7630355998932787, -2.4858162864857523, 1.2592066808607159, 0.9595436226520081, -0.8081156938171563, 0.9958728377864831, -0.04591061914796954, 0.6904010738181772, -0.5511142392207588, 1.4402893831504124, 0.35305376609086747, 0.7972779169691322, 0.34537746993804025, 1.31874407327095, 1.6969578374319672, -2.380558289248379, -0.42479170062544036, 0.7611985790453921, -1.4523150254476245, 0.587450547772239, 0.15513270402904678, 0.3816171930588017, -0.3485622560270526, -0.2233077072848466, -0.06657166845739156, -0.4699219481124245, 1.2162365035510758, -0.08247111159833434, -0.26576094186048205, 0.6287146222239482, 0.5464995934949134, -1.0413503318774242, -0.6133269467314942, 1.7897861110849156, -1.4636448182885142, -0.6082089722636107, -0.18944182747086188, 1.1535409107981895, -0.2610438758985015, 0.7607204950976051, 0.8689659293485391, -1.0408678834637686, -1.8697259764998884, 0.052957623660512085, -0.4752375307599897, -0.6894315405633875, 0.20660004628802267, 0.41587696940825136, 0.11794519060016996, -0.5483109902790982, 0.2204585387263463, -0.0814497894297341, -0.4261861035950627, -0.021917182184465037, 0.35222734994579635, -0.24159158765078223, -1.245418117537442, 1.0216068651998909, 0.2639425680704423, 0.9241230815489991, 1.0987810469821897, -1.2581918632792053, -0.3047137245763503, 0.60914107898099, -0.9152188042552775, -0.26765853410307033, -2.0075144589553195, 0.8147844678127948, -0.13131685638323615, -1.311225180991742, -0.04852659651473337, -1.218931042803003, -1.024830966258147, 0.12385012282058273, -0.20982791576190235, -0.24678271085565104, 0.5154062122960229, 0.1544833714506777, -0.41404378573783396, -1.2860894727014949, -1.437949062500608, 2.4274363130615795, -0.4573332199984909, 0.7826881088936185, -0.10934943159905164, -0.5949196074311865, 0.03144939194326923, 1.524309150436032, -0.23392802647924565, 0.5361360451160111, -0.7495155351889765, -0.18096629842077092, 1.558544319601368, 1.7517499105114092, -0.39371248209055115, 0.345362285426185, -0.7860338813922241, 1.900836644872969, -0.6373552719220384], \"yaxis\": \"y7\"}, {\"line\": {\"color\": \"rgba(128, 128, 128, 1.0)\", \"dash\": \"solid\", \"shape\": \"linear\", \"width\": 1.3}, \"marker\": {\"size\": 2, \"symbol\": \"circle\"}, \"mode\": \"markers\", \"name\": \"B\", \"text\": \"\", \"type\": \"scatter\", \"x\": [2.014247115270905, -0.7428208160857449, -1.309030944216816, -2.478092924371268, -0.6280100446363561, 1.0291618666179578, -0.26691667588585155, 1.313422842184512, -1.970495819360091, 0.11411545090210919, 0.9181163750127501, -0.29858708158689656, -0.26612821659138275, -0.973581285673536, -0.20814284985497686, -0.2558327791930005, 0.37891920212858315, 1.1085200274370157, -1.0002458133975058, -0.33242083339553374, -0.9749877501914137, 1.15811018558237, 0.5169718463650118, -1.274743874217198, 2.006624857298406, 0.25511767166704996, -0.30164693812853194, 0.06354489502755675, -1.0197590712944298, 0.3253988257390908, -0.7933307740387828, -0.8036699362969526, 0.1043611568074112, 1.3437747133382383, -0.5894175974959336, -0.49893973790798285, -0.47525780077383467, -0.9390740838969601, 1.4442447945726926, -0.7540442676823031, 1.5830342653142089, 0.6438885132208334, 0.2990209607177709, 0.17577833233795892, 1.4195280629117475, 1.3131698831594645, 1.0031714131683982, 1.7632422224160416, 0.11073442737923893, -0.5828009953990801, -0.486770021231336, -0.3839996428127627, -0.4391568257246189, -0.44417511214167693, -0.3318415514093242, 0.11211566642523081, 0.6104668682054902, -0.49044106556725764, -0.8714167589345827, -1.6880287466088721, 1.3880439298208682, 0.007243106345136585, -0.7003319230422439, 0.9207544153619949, 1.8122011583635331, 0.21520079658506217, 1.338945422952007, -1.3559156793828218, 1.0675500203465638, 0.22685073583400517, 1.3147667676333779, -0.8512121329769073, -1.00825773280854, -0.05585947679402678, -1.9087662048270295, -1.1700986548099093, -0.14527278661267826, 0.22093226813171887, 1.624520241139117, 1.508494359617955, 0.6357187352707607, 0.4533273679564344, 0.07956108166066125, -0.8250424975633813, -1.6091491496953354, 0.8742516509758052, -2.491823621271737, -0.042188676755759956, 1.2969695278585485, 0.42802263329645285, 1.3549457569635972, 0.011100810382680232, -0.5876763575631399, -0.34431210228354003, -0.6782744890719055, 1.3916341438432032, -0.12101914607071254, -1.7419381441262538, 0.3707115678108203, 0.5024782457297611], \"xaxis\": \"x8\", \"y\": [0.5371406102484116, -0.7630355998932787, -2.4858162864857523, 1.2592066808607159, 0.9595436226520081, -0.8081156938171563, 0.9958728377864831, -0.04591061914796954, 0.6904010738181772, -0.5511142392207588, 1.4402893831504124, 0.35305376609086747, 0.7972779169691322, 0.34537746993804025, 1.31874407327095, 1.6969578374319672, -2.380558289248379, -0.42479170062544036, 0.7611985790453921, -1.4523150254476245, 0.587450547772239, 0.15513270402904678, 0.3816171930588017, -0.3485622560270526, -0.2233077072848466, -0.06657166845739156, -0.4699219481124245, 1.2162365035510758, -0.08247111159833434, -0.26576094186048205, 0.6287146222239482, 0.5464995934949134, -1.0413503318774242, -0.6133269467314942, 1.7897861110849156, -1.4636448182885142, -0.6082089722636107, -0.18944182747086188, 1.1535409107981895, -0.2610438758985015, 0.7607204950976051, 0.8689659293485391, -1.0408678834637686, -1.8697259764998884, 0.052957623660512085, -0.4752375307599897, -0.6894315405633875, 0.20660004628802267, 0.41587696940825136, 0.11794519060016996, -0.5483109902790982, 0.2204585387263463, -0.0814497894297341, -0.4261861035950627, -0.021917182184465037, 0.35222734994579635, -0.24159158765078223, -1.245418117537442, 1.0216068651998909, 0.2639425680704423, 0.9241230815489991, 1.0987810469821897, -1.2581918632792053, -0.3047137245763503, 0.60914107898099, -0.9152188042552775, -0.26765853410307033, -2.0075144589553195, 0.8147844678127948, -0.13131685638323615, -1.311225180991742, -0.04852659651473337, -1.218931042803003, -1.024830966258147, 0.12385012282058273, -0.20982791576190235, -0.24678271085565104, 0.5154062122960229, 0.1544833714506777, -0.41404378573783396, -1.2860894727014949, -1.437949062500608, 2.4274363130615795, -0.4573332199984909, 0.7826881088936185, -0.10934943159905164, -0.5949196074311865, 0.03144939194326923, 1.524309150436032, -0.23392802647924565, 0.5361360451160111, -0.7495155351889765, -0.18096629842077092, 1.558544319601368, 1.7517499105114092, -0.39371248209055115, 0.345362285426185, -0.7860338813922241, 1.900836644872969, -0.6373552719220384], \"yaxis\": \"y8\"}, {\"line\": {\"color\": \"rgba(128, 128, 128, 1.0)\", \"dash\": \"solid\", \"shape\": \"linear\", \"width\": 1.3}, \"marker\": {\"size\": 2, \"symbol\": \"circle\"}, \"mode\": \"markers\", \"name\": \"C\", \"text\": \"\", \"type\": \"scatter\", \"x\": [2.069081317248437, -1.9586988201017066, 0.31687259557075065, 0.3163933211791377, -0.16623943248273207, 1.5497820365156982, -1.7297768914284835, 0.5697825774153621, -0.7032361365794662, -0.8268251660691491, 1.2467171956322265, -1.0757476486572177, -0.165999174967776, 0.42843672539742184, -0.25675899385138395, 0.22587079145601774, 1.9166425271506045, -0.640237220836307, -0.6861772522003287, -0.5586527440178088, -2.5054824095350603, 0.4409074736412183, -1.9900902601521533, -0.5210386202937979, -0.5080735923466261, -0.7618302051217163, 0.8385206587443153, 1.4112551979094434, -0.35899178289305833, -0.7583551270205274, 0.1801450370472393, -1.668881029521964, -0.7631515357140278, -0.6703114133478807, -1.4410620768665687, 0.8743716919027011, 1.3712437328971603, 1.8015066568239602, -1.3793914176363382, -0.310781082112185, 0.21539737058955025, 0.26100127321811867, -0.5720033350321432, 2.132914188699778, -1.6315266835701523, 0.6116058285290135, -1.375542976417157, 0.5516327908947728, -0.8291435228557643, -0.10741096952517305, 0.466848431170696, 0.8433508517657493, 0.11636175879694592, 0.5598366538046764, 0.24914272694522172, -0.06884643442780915, -0.4084858316707387, -1.4051726071742447, -0.30645623254003573, 1.7389939017633762, -1.069248683755255, 1.6834497814923641, 1.346355028489932, -0.6762454051862051, 0.9031060789060906, 1.1356794877473801, -0.40881973318811055, 0.7063794517678516, -0.4152686536633678, -0.996637064263391, -0.05603719295495405, 0.3267743031922197, -0.7097067062730879, 0.4433270622616412, 0.379617908590977, -0.43494427079199754, 1.7809685905508235, 1.6966147780256329, 1.4906595522423403, 0.4809146675204936, -1.3864972445511055, -0.6595869670593304, -0.5506363437289727, 0.5980724890985413, -1.1521791912703487, -0.3175929792191654, -1.8718075854411518, -0.27684143268620376, -1.6259350828226837, 1.2269730494900373, -0.048869330284592144, 1.5957901102313448, -0.040539979809508665, 1.3204254982305588, -0.035534127153365694, 0.9671163301831622, 0.5214914391803923, 0.9508548035963178, 0.05960270547188383, -0.01561286021245415], \"xaxis\": \"x9\", \"y\": [-0.6850215014043163, -1.2412518834652546, -0.3946676954847482, 0.7651845615941001, 0.8539049176742748, -0.37644014904789597, -0.32772970648204053, 0.02834189527309373, -0.9504524445878754, 0.8230972624100741, -1.7142178136821131, 0.33112410774976675, 0.016363052685521937, -0.43413069570491963, -1.5738282812386328, 0.03489961725557421, -0.12246618896219813, -0.6146165254190183, 0.43031162267834133, 0.06397533316452905, -0.490651552827173, 1.3735403366482595, 0.8188391172357061, -0.02980846654887524, -0.31099894785936216, -0.2735335159583621, 0.4179333738998075, -0.5715943544758427, 0.1344414889806831, -1.521533327628918, -0.6689381159428938, 0.15251369394908768, -0.36431107964479786, -0.10028586033516866, -2.6732007415098575, 0.11324362012281179, -0.048704678642151784, 1.4180214987115798, -0.8867526618791968, -1.5253768240139522, 1.8287289167343548, -0.7592255448926566, -0.0671946927632733, 0.1754235812981672, -1.0358340705530713, 0.0019515411977063064, 0.048488005484730506, -0.44430593841028115, -0.2331860016412143, 1.1627105571515324, 0.5660950651322101, -0.6786210624157247, -0.20721530694253, -0.07151740505683823, -0.6818973591112406, -1.324645088015891, -0.2310949839970945, -0.8492294245819209, 0.210864914686496, -0.5009556142676546, 1.1266769334653688, 2.248449891487893, -1.9246130542716733, -1.1722170464527613, 0.09141428654928084, 1.1753076792060488, -0.43191016662870235, -1.1616224424459403, 1.3823367200683663, -1.6837964741457006, -0.3211979035283138, 0.10236534755693119, 2.061701313426245, 0.5473232701612604, -0.24896171576994267, 0.6318260116940371, -0.8575144563857071, -0.06710741764459427, 1.0667462425791259, 1.2325174883238221, -1.2629602105446083, 0.9494335560653758, 1.413884715443827, 0.5129628018179038, 0.2560733737865519, -0.8923394405259693, 0.8888377362062309, -0.688304615890909, 1.1748715811398724, -0.7300124099889382, 1.6207942045893935, 0.07057876461498128, 0.1381467197907667, -0.15809627739176416, -0.12616914469849583, -0.6426296324989368, -1.1256061558648365, -0.2819777712287155, 0.25792572295089744, -1.3031790480572327], \"yaxis\": \"y9\"}, {\"line\": {\"color\": \"rgba(128, 128, 128, 1.0)\", \"dash\": \"solid\", \"shape\": \"linear\", \"width\": 1.3}, \"marker\": {\"size\": 2, \"symbol\": \"circle\"}, \"mode\": \"markers\", \"name\": \"C\", \"text\": \"\", \"type\": \"scatter\", \"x\": [0.5371406102484116, -0.7630355998932787, -2.4858162864857523, 1.2592066808607159, 0.9595436226520081, -0.8081156938171563, 0.9958728377864831, -0.04591061914796954, 0.6904010738181772, -0.5511142392207588, 1.4402893831504124, 0.35305376609086747, 0.7972779169691322, 0.34537746993804025, 1.31874407327095, 1.6969578374319672, -2.380558289248379, -0.42479170062544036, 0.7611985790453921, -1.4523150254476245, 0.587450547772239, 0.15513270402904678, 0.3816171930588017, -0.3485622560270526, -0.2233077072848466, -0.06657166845739156, -0.4699219481124245, 1.2162365035510758, -0.08247111159833434, -0.26576094186048205, 0.6287146222239482, 0.5464995934949134, -1.0413503318774242, -0.6133269467314942, 1.7897861110849156, -1.4636448182885142, -0.6082089722636107, -0.18944182747086188, 1.1535409107981895, -0.2610438758985015, 0.7607204950976051, 0.8689659293485391, -1.0408678834637686, -1.8697259764998884, 0.052957623660512085, -0.4752375307599897, -0.6894315405633875, 0.20660004628802267, 0.41587696940825136, 0.11794519060016996, -0.5483109902790982, 0.2204585387263463, -0.0814497894297341, -0.4261861035950627, -0.021917182184465037, 0.35222734994579635, -0.24159158765078223, -1.245418117537442, 1.0216068651998909, 0.2639425680704423, 0.9241230815489991, 1.0987810469821897, -1.2581918632792053, -0.3047137245763503, 0.60914107898099, -0.9152188042552775, -0.26765853410307033, -2.0075144589553195, 0.8147844678127948, -0.13131685638323615, -1.311225180991742, -0.04852659651473337, -1.218931042803003, -1.024830966258147, 0.12385012282058273, -0.20982791576190235, -0.24678271085565104, 0.5154062122960229, 0.1544833714506777, -0.41404378573783396, -1.2860894727014949, -1.437949062500608, 2.4274363130615795, -0.4573332199984909, 0.7826881088936185, -0.10934943159905164, -0.5949196074311865, 0.03144939194326923, 1.524309150436032, -0.23392802647924565, 0.5361360451160111, -0.7495155351889765, -0.18096629842077092, 1.558544319601368, 1.7517499105114092, -0.39371248209055115, 0.345362285426185, -0.7860338813922241, 1.900836644872969, -0.6373552719220384], \"xaxis\": \"x10\", \"y\": [-0.6850215014043163, -1.2412518834652546, -0.3946676954847482, 0.7651845615941001, 0.8539049176742748, -0.37644014904789597, -0.32772970648204053, 0.02834189527309373, -0.9504524445878754, 0.8230972624100741, -1.7142178136821131, 0.33112410774976675, 0.016363052685521937, -0.43413069570491963, -1.5738282812386328, 0.03489961725557421, -0.12246618896219813, -0.6146165254190183, 0.43031162267834133, 0.06397533316452905, -0.490651552827173, 1.3735403366482595, 0.8188391172357061, -0.02980846654887524, -0.31099894785936216, -0.2735335159583621, 0.4179333738998075, -0.5715943544758427, 0.1344414889806831, -1.521533327628918, -0.6689381159428938, 0.15251369394908768, -0.36431107964479786, -0.10028586033516866, -2.6732007415098575, 0.11324362012281179, -0.048704678642151784, 1.4180214987115798, -0.8867526618791968, -1.5253768240139522, 1.8287289167343548, -0.7592255448926566, -0.0671946927632733, 0.1754235812981672, -1.0358340705530713, 0.0019515411977063064, 0.048488005484730506, -0.44430593841028115, -0.2331860016412143, 1.1627105571515324, 0.5660950651322101, -0.6786210624157247, -0.20721530694253, -0.07151740505683823, -0.6818973591112406, -1.324645088015891, -0.2310949839970945, -0.8492294245819209, 0.210864914686496, -0.5009556142676546, 1.1266769334653688, 2.248449891487893, -1.9246130542716733, -1.1722170464527613, 0.09141428654928084, 1.1753076792060488, -0.43191016662870235, -1.1616224424459403, 1.3823367200683663, -1.6837964741457006, -0.3211979035283138, 0.10236534755693119, 2.061701313426245, 0.5473232701612604, -0.24896171576994267, 0.6318260116940371, -0.8575144563857071, -0.06710741764459427, 1.0667462425791259, 1.2325174883238221, -1.2629602105446083, 0.9494335560653758, 1.413884715443827, 0.5129628018179038, 0.2560733737865519, -0.8923394405259693, 0.8888377362062309, -0.688304615890909, 1.1748715811398724, -0.7300124099889382, 1.6207942045893935, 0.07057876461498128, 0.1381467197907667, -0.15809627739176416, -0.12616914469849583, -0.6426296324989368, -1.1256061558648365, -0.2819777712287155, 0.25792572295089744, -1.3031790480572327], \"yaxis\": \"y10\"}, {\"histfunc\": \"count\", \"histnorm\": \"\", \"marker\": {\"color\": \"rgba(50, 171, 96, 1.0)\", \"line\": {\"color\": \"#4D5663\", \"width\": 1.3}}, \"name\": \"C\", \"nbinsx\": 10, \"opacity\": 0.8, \"orientation\": \"v\", \"type\": \"histogram\", \"x\": [-0.6850215014043163, -1.2412518834652546, -0.3946676954847482, 0.7651845615941001, 0.8539049176742748, -0.37644014904789597, -0.32772970648204053, 0.02834189527309373, -0.9504524445878754, 0.8230972624100741, -1.7142178136821131, 0.33112410774976675, 0.016363052685521937, -0.43413069570491963, -1.5738282812386328, 0.03489961725557421, -0.12246618896219813, -0.6146165254190183, 0.43031162267834133, 0.06397533316452905, -0.490651552827173, 1.3735403366482595, 0.8188391172357061, -0.02980846654887524, -0.31099894785936216, -0.2735335159583621, 0.4179333738998075, -0.5715943544758427, 0.1344414889806831, -1.521533327628918, -0.6689381159428938, 0.15251369394908768, -0.36431107964479786, -0.10028586033516866, -2.6732007415098575, 0.11324362012281179, -0.048704678642151784, 1.4180214987115798, -0.8867526618791968, -1.5253768240139522, 1.8287289167343548, -0.7592255448926566, -0.0671946927632733, 0.1754235812981672, -1.0358340705530713, 0.0019515411977063064, 0.048488005484730506, -0.44430593841028115, -0.2331860016412143, 1.1627105571515324, 0.5660950651322101, -0.6786210624157247, -0.20721530694253, -0.07151740505683823, -0.6818973591112406, -1.324645088015891, -0.2310949839970945, -0.8492294245819209, 0.210864914686496, -0.5009556142676546, 1.1266769334653688, 2.248449891487893, -1.9246130542716733, -1.1722170464527613, 0.09141428654928084, 1.1753076792060488, -0.43191016662870235, -1.1616224424459403, 1.3823367200683663, -1.6837964741457006, -0.3211979035283138, 0.10236534755693119, 2.061701313426245, 0.5473232701612604, -0.24896171576994267, 0.6318260116940371, -0.8575144563857071, -0.06710741764459427, 1.0667462425791259, 1.2325174883238221, -1.2629602105446083, 0.9494335560653758, 1.413884715443827, 0.5129628018179038, 0.2560733737865519, -0.8923394405259693, 0.8888377362062309, -0.688304615890909, 1.1748715811398724, -0.7300124099889382, 1.6207942045893935, 0.07057876461498128, 0.1381467197907667, -0.15809627739176416, -0.12616914469849583, -0.6426296324989368, -1.1256061558648365, -0.2819777712287155, 0.25792572295089744, -1.3031790480572327], \"xaxis\": \"x11\", \"yaxis\": \"y11\"}, {\"line\": {\"color\": \"rgba(128, 128, 128, 1.0)\", \"dash\": \"solid\", \"shape\": \"linear\", \"width\": 1.3}, \"marker\": {\"size\": 2, \"symbol\": \"circle\"}, \"mode\": \"markers\", \"name\": \"C\", \"text\": \"\", \"type\": \"scatter\", \"x\": [2.014247115270905, -0.7428208160857449, -1.309030944216816, -2.478092924371268, -0.6280100446363561, 1.0291618666179578, -0.26691667588585155, 1.313422842184512, -1.970495819360091, 0.11411545090210919, 0.9181163750127501, -0.29858708158689656, -0.26612821659138275, -0.973581285673536, -0.20814284985497686, -0.2558327791930005, 0.37891920212858315, 1.1085200274370157, -1.0002458133975058, -0.33242083339553374, -0.9749877501914137, 1.15811018558237, 0.5169718463650118, -1.274743874217198, 2.006624857298406, 0.25511767166704996, -0.30164693812853194, 0.06354489502755675, -1.0197590712944298, 0.3253988257390908, -0.7933307740387828, -0.8036699362969526, 0.1043611568074112, 1.3437747133382383, -0.5894175974959336, -0.49893973790798285, -0.47525780077383467, -0.9390740838969601, 1.4442447945726926, -0.7540442676823031, 1.5830342653142089, 0.6438885132208334, 0.2990209607177709, 0.17577833233795892, 1.4195280629117475, 1.3131698831594645, 1.0031714131683982, 1.7632422224160416, 0.11073442737923893, -0.5828009953990801, -0.486770021231336, -0.3839996428127627, -0.4391568257246189, -0.44417511214167693, -0.3318415514093242, 0.11211566642523081, 0.6104668682054902, -0.49044106556725764, -0.8714167589345827, -1.6880287466088721, 1.3880439298208682, 0.007243106345136585, -0.7003319230422439, 0.9207544153619949, 1.8122011583635331, 0.21520079658506217, 1.338945422952007, -1.3559156793828218, 1.0675500203465638, 0.22685073583400517, 1.3147667676333779, -0.8512121329769073, -1.00825773280854, -0.05585947679402678, -1.9087662048270295, -1.1700986548099093, -0.14527278661267826, 0.22093226813171887, 1.624520241139117, 1.508494359617955, 0.6357187352707607, 0.4533273679564344, 0.07956108166066125, -0.8250424975633813, -1.6091491496953354, 0.8742516509758052, -2.491823621271737, -0.042188676755759956, 1.2969695278585485, 0.42802263329645285, 1.3549457569635972, 0.011100810382680232, -0.5876763575631399, -0.34431210228354003, -0.6782744890719055, 1.3916341438432032, -0.12101914607071254, -1.7419381441262538, 0.3707115678108203, 0.5024782457297611], \"xaxis\": \"x12\", \"y\": [-0.6850215014043163, -1.2412518834652546, -0.3946676954847482, 0.7651845615941001, 0.8539049176742748, -0.37644014904789597, -0.32772970648204053, 0.02834189527309373, -0.9504524445878754, 0.8230972624100741, -1.7142178136821131, 0.33112410774976675, 0.016363052685521937, -0.43413069570491963, -1.5738282812386328, 0.03489961725557421, -0.12246618896219813, -0.6146165254190183, 0.43031162267834133, 0.06397533316452905, -0.490651552827173, 1.3735403366482595, 0.8188391172357061, -0.02980846654887524, -0.31099894785936216, -0.2735335159583621, 0.4179333738998075, -0.5715943544758427, 0.1344414889806831, -1.521533327628918, -0.6689381159428938, 0.15251369394908768, -0.36431107964479786, -0.10028586033516866, -2.6732007415098575, 0.11324362012281179, -0.048704678642151784, 1.4180214987115798, -0.8867526618791968, -1.5253768240139522, 1.8287289167343548, -0.7592255448926566, -0.0671946927632733, 0.1754235812981672, -1.0358340705530713, 0.0019515411977063064, 0.048488005484730506, -0.44430593841028115, -0.2331860016412143, 1.1627105571515324, 0.5660950651322101, -0.6786210624157247, -0.20721530694253, -0.07151740505683823, -0.6818973591112406, -1.324645088015891, -0.2310949839970945, -0.8492294245819209, 0.210864914686496, -0.5009556142676546, 1.1266769334653688, 2.248449891487893, -1.9246130542716733, -1.1722170464527613, 0.09141428654928084, 1.1753076792060488, -0.43191016662870235, -1.1616224424459403, 1.3823367200683663, -1.6837964741457006, -0.3211979035283138, 0.10236534755693119, 2.061701313426245, 0.5473232701612604, -0.24896171576994267, 0.6318260116940371, -0.8575144563857071, -0.06710741764459427, 1.0667462425791259, 1.2325174883238221, -1.2629602105446083, 0.9494335560653758, 1.413884715443827, 0.5129628018179038, 0.2560733737865519, -0.8923394405259693, 0.8888377362062309, -0.688304615890909, 1.1748715811398724, -0.7300124099889382, 1.6207942045893935, 0.07057876461498128, 0.1381467197907667, -0.15809627739176416, -0.12616914469849583, -0.6426296324989368, -1.1256061558648365, -0.2819777712287155, 0.25792572295089744, -1.3031790480572327], \"yaxis\": \"y12\"}, {\"line\": {\"color\": \"rgba(128, 128, 128, 1.0)\", \"dash\": \"solid\", \"shape\": \"linear\", \"width\": 1.3}, \"marker\": {\"size\": 2, \"symbol\": \"circle\"}, \"mode\": \"markers\", \"name\": \"D\", \"text\": \"\", \"type\": \"scatter\", \"x\": [2.069081317248437, -1.9586988201017066, 0.31687259557075065, 0.3163933211791377, -0.16623943248273207, 1.5497820365156982, -1.7297768914284835, 0.5697825774153621, -0.7032361365794662, -0.8268251660691491, 1.2467171956322265, -1.0757476486572177, -0.165999174967776, 0.42843672539742184, -0.25675899385138395, 0.22587079145601774, 1.9166425271506045, -0.640237220836307, -0.6861772522003287, -0.5586527440178088, -2.5054824095350603, 0.4409074736412183, -1.9900902601521533, -0.5210386202937979, -0.5080735923466261, -0.7618302051217163, 0.8385206587443153, 1.4112551979094434, -0.35899178289305833, -0.7583551270205274, 0.1801450370472393, -1.668881029521964, -0.7631515357140278, -0.6703114133478807, -1.4410620768665687, 0.8743716919027011, 1.3712437328971603, 1.8015066568239602, -1.3793914176363382, -0.310781082112185, 0.21539737058955025, 0.26100127321811867, -0.5720033350321432, 2.132914188699778, -1.6315266835701523, 0.6116058285290135, -1.375542976417157, 0.5516327908947728, -0.8291435228557643, -0.10741096952517305, 0.466848431170696, 0.8433508517657493, 0.11636175879694592, 0.5598366538046764, 0.24914272694522172, -0.06884643442780915, -0.4084858316707387, -1.4051726071742447, -0.30645623254003573, 1.7389939017633762, -1.069248683755255, 1.6834497814923641, 1.346355028489932, -0.6762454051862051, 0.9031060789060906, 1.1356794877473801, -0.40881973318811055, 0.7063794517678516, -0.4152686536633678, -0.996637064263391, -0.05603719295495405, 0.3267743031922197, -0.7097067062730879, 0.4433270622616412, 0.379617908590977, -0.43494427079199754, 1.7809685905508235, 1.6966147780256329, 1.4906595522423403, 0.4809146675204936, -1.3864972445511055, -0.6595869670593304, -0.5506363437289727, 0.5980724890985413, -1.1521791912703487, -0.3175929792191654, -1.8718075854411518, -0.27684143268620376, -1.6259350828226837, 1.2269730494900373, -0.048869330284592144, 1.5957901102313448, -0.040539979809508665, 1.3204254982305588, -0.035534127153365694, 0.9671163301831622, 0.5214914391803923, 0.9508548035963178, 0.05960270547188383, -0.01561286021245415], \"xaxis\": \"x13\", \"y\": [2.014247115270905, -0.7428208160857449, -1.309030944216816, -2.478092924371268, -0.6280100446363561, 1.0291618666179578, -0.26691667588585155, 1.313422842184512, -1.970495819360091, 0.11411545090210919, 0.9181163750127501, -0.29858708158689656, -0.26612821659138275, -0.973581285673536, -0.20814284985497686, -0.2558327791930005, 0.37891920212858315, 1.1085200274370157, -1.0002458133975058, -0.33242083339553374, -0.9749877501914137, 1.15811018558237, 0.5169718463650118, -1.274743874217198, 2.006624857298406, 0.25511767166704996, -0.30164693812853194, 0.06354489502755675, -1.0197590712944298, 0.3253988257390908, -0.7933307740387828, -0.8036699362969526, 0.1043611568074112, 1.3437747133382383, -0.5894175974959336, -0.49893973790798285, -0.47525780077383467, -0.9390740838969601, 1.4442447945726926, -0.7540442676823031, 1.5830342653142089, 0.6438885132208334, 0.2990209607177709, 0.17577833233795892, 1.4195280629117475, 1.3131698831594645, 1.0031714131683982, 1.7632422224160416, 0.11073442737923893, -0.5828009953990801, -0.486770021231336, -0.3839996428127627, -0.4391568257246189, -0.44417511214167693, -0.3318415514093242, 0.11211566642523081, 0.6104668682054902, -0.49044106556725764, -0.8714167589345827, -1.6880287466088721, 1.3880439298208682, 0.007243106345136585, -0.7003319230422439, 0.9207544153619949, 1.8122011583635331, 0.21520079658506217, 1.338945422952007, -1.3559156793828218, 1.0675500203465638, 0.22685073583400517, 1.3147667676333779, -0.8512121329769073, -1.00825773280854, -0.05585947679402678, -1.9087662048270295, -1.1700986548099093, -0.14527278661267826, 0.22093226813171887, 1.624520241139117, 1.508494359617955, 0.6357187352707607, 0.4533273679564344, 0.07956108166066125, -0.8250424975633813, -1.6091491496953354, 0.8742516509758052, -2.491823621271737, -0.042188676755759956, 1.2969695278585485, 0.42802263329645285, 1.3549457569635972, 0.011100810382680232, -0.5876763575631399, -0.34431210228354003, -0.6782744890719055, 1.3916341438432032, -0.12101914607071254, -1.7419381441262538, 0.3707115678108203, 0.5024782457297611], \"yaxis\": \"y13\"}, {\"line\": {\"color\": \"rgba(128, 128, 128, 1.0)\", \"dash\": \"solid\", \"shape\": \"linear\", \"width\": 1.3}, \"marker\": {\"size\": 2, \"symbol\": \"circle\"}, \"mode\": \"markers\", \"name\": \"D\", \"text\": \"\", \"type\": \"scatter\", \"x\": [0.5371406102484116, -0.7630355998932787, -2.4858162864857523, 1.2592066808607159, 0.9595436226520081, -0.8081156938171563, 0.9958728377864831, -0.04591061914796954, 0.6904010738181772, -0.5511142392207588, 1.4402893831504124, 0.35305376609086747, 0.7972779169691322, 0.34537746993804025, 1.31874407327095, 1.6969578374319672, -2.380558289248379, -0.42479170062544036, 0.7611985790453921, -1.4523150254476245, 0.587450547772239, 0.15513270402904678, 0.3816171930588017, -0.3485622560270526, -0.2233077072848466, -0.06657166845739156, -0.4699219481124245, 1.2162365035510758, -0.08247111159833434, -0.26576094186048205, 0.6287146222239482, 0.5464995934949134, -1.0413503318774242, -0.6133269467314942, 1.7897861110849156, -1.4636448182885142, -0.6082089722636107, -0.18944182747086188, 1.1535409107981895, -0.2610438758985015, 0.7607204950976051, 0.8689659293485391, -1.0408678834637686, -1.8697259764998884, 0.052957623660512085, -0.4752375307599897, -0.6894315405633875, 0.20660004628802267, 0.41587696940825136, 0.11794519060016996, -0.5483109902790982, 0.2204585387263463, -0.0814497894297341, -0.4261861035950627, -0.021917182184465037, 0.35222734994579635, -0.24159158765078223, -1.245418117537442, 1.0216068651998909, 0.2639425680704423, 0.9241230815489991, 1.0987810469821897, -1.2581918632792053, -0.3047137245763503, 0.60914107898099, -0.9152188042552775, -0.26765853410307033, -2.0075144589553195, 0.8147844678127948, -0.13131685638323615, -1.311225180991742, -0.04852659651473337, -1.218931042803003, -1.024830966258147, 0.12385012282058273, -0.20982791576190235, -0.24678271085565104, 0.5154062122960229, 0.1544833714506777, -0.41404378573783396, -1.2860894727014949, -1.437949062500608, 2.4274363130615795, -0.4573332199984909, 0.7826881088936185, -0.10934943159905164, -0.5949196074311865, 0.03144939194326923, 1.524309150436032, -0.23392802647924565, 0.5361360451160111, -0.7495155351889765, -0.18096629842077092, 1.558544319601368, 1.7517499105114092, -0.39371248209055115, 0.345362285426185, -0.7860338813922241, 1.900836644872969, -0.6373552719220384], \"xaxis\": \"x14\", \"y\": [2.014247115270905, -0.7428208160857449, -1.309030944216816, -2.478092924371268, -0.6280100446363561, 1.0291618666179578, -0.26691667588585155, 1.313422842184512, -1.970495819360091, 0.11411545090210919, 0.9181163750127501, -0.29858708158689656, -0.26612821659138275, -0.973581285673536, -0.20814284985497686, -0.2558327791930005, 0.37891920212858315, 1.1085200274370157, -1.0002458133975058, -0.33242083339553374, -0.9749877501914137, 1.15811018558237, 0.5169718463650118, -1.274743874217198, 2.006624857298406, 0.25511767166704996, -0.30164693812853194, 0.06354489502755675, -1.0197590712944298, 0.3253988257390908, -0.7933307740387828, -0.8036699362969526, 0.1043611568074112, 1.3437747133382383, -0.5894175974959336, -0.49893973790798285, -0.47525780077383467, -0.9390740838969601, 1.4442447945726926, -0.7540442676823031, 1.5830342653142089, 0.6438885132208334, 0.2990209607177709, 0.17577833233795892, 1.4195280629117475, 1.3131698831594645, 1.0031714131683982, 1.7632422224160416, 0.11073442737923893, -0.5828009953990801, -0.486770021231336, -0.3839996428127627, -0.4391568257246189, -0.44417511214167693, -0.3318415514093242, 0.11211566642523081, 0.6104668682054902, -0.49044106556725764, -0.8714167589345827, -1.6880287466088721, 1.3880439298208682, 0.007243106345136585, -0.7003319230422439, 0.9207544153619949, 1.8122011583635331, 0.21520079658506217, 1.338945422952007, -1.3559156793828218, 1.0675500203465638, 0.22685073583400517, 1.3147667676333779, -0.8512121329769073, -1.00825773280854, -0.05585947679402678, -1.9087662048270295, -1.1700986548099093, -0.14527278661267826, 0.22093226813171887, 1.624520241139117, 1.508494359617955, 0.6357187352707607, 0.4533273679564344, 0.07956108166066125, -0.8250424975633813, -1.6091491496953354, 0.8742516509758052, -2.491823621271737, -0.042188676755759956, 1.2969695278585485, 0.42802263329645285, 1.3549457569635972, 0.011100810382680232, -0.5876763575631399, -0.34431210228354003, -0.6782744890719055, 1.3916341438432032, -0.12101914607071254, -1.7419381441262538, 0.3707115678108203, 0.5024782457297611], \"yaxis\": \"y14\"}, {\"line\": {\"color\": \"rgba(128, 128, 128, 1.0)\", \"dash\": \"solid\", \"shape\": \"linear\", \"width\": 1.3}, \"marker\": {\"size\": 2, \"symbol\": \"circle\"}, \"mode\": \"markers\", \"name\": \"D\", \"text\": \"\", \"type\": \"scatter\", \"x\": [-0.6850215014043163, -1.2412518834652546, -0.3946676954847482, 0.7651845615941001, 0.8539049176742748, -0.37644014904789597, -0.32772970648204053, 0.02834189527309373, -0.9504524445878754, 0.8230972624100741, -1.7142178136821131, 0.33112410774976675, 0.016363052685521937, -0.43413069570491963, -1.5738282812386328, 0.03489961725557421, -0.12246618896219813, -0.6146165254190183, 0.43031162267834133, 0.06397533316452905, -0.490651552827173, 1.3735403366482595, 0.8188391172357061, -0.02980846654887524, -0.31099894785936216, -0.2735335159583621, 0.4179333738998075, -0.5715943544758427, 0.1344414889806831, -1.521533327628918, -0.6689381159428938, 0.15251369394908768, -0.36431107964479786, -0.10028586033516866, -2.6732007415098575, 0.11324362012281179, -0.048704678642151784, 1.4180214987115798, -0.8867526618791968, -1.5253768240139522, 1.8287289167343548, -0.7592255448926566, -0.0671946927632733, 0.1754235812981672, -1.0358340705530713, 0.0019515411977063064, 0.048488005484730506, -0.44430593841028115, -0.2331860016412143, 1.1627105571515324, 0.5660950651322101, -0.6786210624157247, -0.20721530694253, -0.07151740505683823, -0.6818973591112406, -1.324645088015891, -0.2310949839970945, -0.8492294245819209, 0.210864914686496, -0.5009556142676546, 1.1266769334653688, 2.248449891487893, -1.9246130542716733, -1.1722170464527613, 0.09141428654928084, 1.1753076792060488, -0.43191016662870235, -1.1616224424459403, 1.3823367200683663, -1.6837964741457006, -0.3211979035283138, 0.10236534755693119, 2.061701313426245, 0.5473232701612604, -0.24896171576994267, 0.6318260116940371, -0.8575144563857071, -0.06710741764459427, 1.0667462425791259, 1.2325174883238221, -1.2629602105446083, 0.9494335560653758, 1.413884715443827, 0.5129628018179038, 0.2560733737865519, -0.8923394405259693, 0.8888377362062309, -0.688304615890909, 1.1748715811398724, -0.7300124099889382, 1.6207942045893935, 0.07057876461498128, 0.1381467197907667, -0.15809627739176416, -0.12616914469849583, -0.6426296324989368, -1.1256061558648365, -0.2819777712287155, 0.25792572295089744, -1.3031790480572327], \"xaxis\": \"x15\", \"y\": [2.014247115270905, -0.7428208160857449, -1.309030944216816, -2.478092924371268, -0.6280100446363561, 1.0291618666179578, -0.26691667588585155, 1.313422842184512, -1.970495819360091, 0.11411545090210919, 0.9181163750127501, -0.29858708158689656, -0.26612821659138275, -0.973581285673536, -0.20814284985497686, -0.2558327791930005, 0.37891920212858315, 1.1085200274370157, -1.0002458133975058, -0.33242083339553374, -0.9749877501914137, 1.15811018558237, 0.5169718463650118, -1.274743874217198, 2.006624857298406, 0.25511767166704996, -0.30164693812853194, 0.06354489502755675, -1.0197590712944298, 0.3253988257390908, -0.7933307740387828, -0.8036699362969526, 0.1043611568074112, 1.3437747133382383, -0.5894175974959336, -0.49893973790798285, -0.47525780077383467, -0.9390740838969601, 1.4442447945726926, -0.7540442676823031, 1.5830342653142089, 0.6438885132208334, 0.2990209607177709, 0.17577833233795892, 1.4195280629117475, 1.3131698831594645, 1.0031714131683982, 1.7632422224160416, 0.11073442737923893, -0.5828009953990801, -0.486770021231336, -0.3839996428127627, -0.4391568257246189, -0.44417511214167693, -0.3318415514093242, 0.11211566642523081, 0.6104668682054902, -0.49044106556725764, -0.8714167589345827, -1.6880287466088721, 1.3880439298208682, 0.007243106345136585, -0.7003319230422439, 0.9207544153619949, 1.8122011583635331, 0.21520079658506217, 1.338945422952007, -1.3559156793828218, 1.0675500203465638, 0.22685073583400517, 1.3147667676333779, -0.8512121329769073, -1.00825773280854, -0.05585947679402678, -1.9087662048270295, -1.1700986548099093, -0.14527278661267826, 0.22093226813171887, 1.624520241139117, 1.508494359617955, 0.6357187352707607, 0.4533273679564344, 0.07956108166066125, -0.8250424975633813, -1.6091491496953354, 0.8742516509758052, -2.491823621271737, -0.042188676755759956, 1.2969695278585485, 0.42802263329645285, 1.3549457569635972, 0.011100810382680232, -0.5876763575631399, -0.34431210228354003, -0.6782744890719055, 1.3916341438432032, -0.12101914607071254, -1.7419381441262538, 0.3707115678108203, 0.5024782457297611], \"yaxis\": \"y15\"}, {\"histfunc\": \"count\", \"histnorm\": \"\", \"marker\": {\"color\": \"rgba(128, 0, 128, 1.0)\", \"line\": {\"color\": \"#4D5663\", \"width\": 1.3}}, \"name\": \"D\", \"nbinsx\": 10, \"opacity\": 0.8, \"orientation\": \"v\", \"type\": \"histogram\", \"x\": [2.014247115270905, -0.7428208160857449, -1.309030944216816, -2.478092924371268, -0.6280100446363561, 1.0291618666179578, -0.26691667588585155, 1.313422842184512, -1.970495819360091, 0.11411545090210919, 0.9181163750127501, -0.29858708158689656, -0.26612821659138275, -0.973581285673536, -0.20814284985497686, -0.2558327791930005, 0.37891920212858315, 1.1085200274370157, -1.0002458133975058, -0.33242083339553374, -0.9749877501914137, 1.15811018558237, 0.5169718463650118, -1.274743874217198, 2.006624857298406, 0.25511767166704996, -0.30164693812853194, 0.06354489502755675, -1.0197590712944298, 0.3253988257390908, -0.7933307740387828, -0.8036699362969526, 0.1043611568074112, 1.3437747133382383, -0.5894175974959336, -0.49893973790798285, -0.47525780077383467, -0.9390740838969601, 1.4442447945726926, -0.7540442676823031, 1.5830342653142089, 0.6438885132208334, 0.2990209607177709, 0.17577833233795892, 1.4195280629117475, 1.3131698831594645, 1.0031714131683982, 1.7632422224160416, 0.11073442737923893, -0.5828009953990801, -0.486770021231336, -0.3839996428127627, -0.4391568257246189, -0.44417511214167693, -0.3318415514093242, 0.11211566642523081, 0.6104668682054902, -0.49044106556725764, -0.8714167589345827, -1.6880287466088721, 1.3880439298208682, 0.007243106345136585, -0.7003319230422439, 0.9207544153619949, 1.8122011583635331, 0.21520079658506217, 1.338945422952007, -1.3559156793828218, 1.0675500203465638, 0.22685073583400517, 1.3147667676333779, -0.8512121329769073, -1.00825773280854, -0.05585947679402678, -1.9087662048270295, -1.1700986548099093, -0.14527278661267826, 0.22093226813171887, 1.624520241139117, 1.508494359617955, 0.6357187352707607, 0.4533273679564344, 0.07956108166066125, -0.8250424975633813, -1.6091491496953354, 0.8742516509758052, -2.491823621271737, -0.042188676755759956, 1.2969695278585485, 0.42802263329645285, 1.3549457569635972, 0.011100810382680232, -0.5876763575631399, -0.34431210228354003, -0.6782744890719055, 1.3916341438432032, -0.12101914607071254, -1.7419381441262538, 0.3707115678108203, 0.5024782457297611], \"xaxis\": \"x16\", \"yaxis\": \"y16\"}],\n",
       "                        {\"bargap\": 0.02, \"legend\": {\"bgcolor\": \"#F5F6F9\", \"font\": {\"color\": \"#4D5663\"}}, \"paper_bgcolor\": \"#F5F6F9\", \"plot_bgcolor\": \"#F5F6F9\", \"showlegend\": false, \"template\": {\"data\": {\"bar\": [{\"error_x\": {\"color\": \"#2a3f5f\"}, \"error_y\": {\"color\": \"#2a3f5f\"}, \"marker\": {\"line\": {\"color\": \"#E5ECF6\", \"width\": 0.5}}, \"type\": \"bar\"}], \"barpolar\": [{\"marker\": {\"line\": {\"color\": \"#E5ECF6\", \"width\": 0.5}}, \"type\": \"barpolar\"}], \"carpet\": [{\"aaxis\": {\"endlinecolor\": \"#2a3f5f\", \"gridcolor\": \"white\", \"linecolor\": \"white\", \"minorgridcolor\": \"white\", \"startlinecolor\": \"#2a3f5f\"}, \"baxis\": {\"endlinecolor\": \"#2a3f5f\", \"gridcolor\": \"white\", \"linecolor\": \"white\", \"minorgridcolor\": \"white\", \"startlinecolor\": \"#2a3f5f\"}, \"type\": \"carpet\"}], \"choropleth\": [{\"colorbar\": {\"outlinewidth\": 0, \"ticks\": \"\"}, \"type\": \"choropleth\"}], \"contour\": [{\"colorbar\": {\"outlinewidth\": 0, \"ticks\": \"\"}, \"colorscale\": [[0.0, \"#0d0887\"], [0.1111111111111111, \"#46039f\"], [0.2222222222222222, \"#7201a8\"], [0.3333333333333333, \"#9c179e\"], [0.4444444444444444, \"#bd3786\"], [0.5555555555555556, \"#d8576b\"], [0.6666666666666666, \"#ed7953\"], [0.7777777777777778, \"#fb9f3a\"], [0.8888888888888888, \"#fdca26\"], [1.0, \"#f0f921\"]], \"type\": \"contour\"}], \"contourcarpet\": [{\"colorbar\": {\"outlinewidth\": 0, \"ticks\": \"\"}, \"type\": \"contourcarpet\"}], \"heatmap\": [{\"colorbar\": {\"outlinewidth\": 0, \"ticks\": \"\"}, \"colorscale\": [[0.0, \"#0d0887\"], [0.1111111111111111, \"#46039f\"], [0.2222222222222222, \"#7201a8\"], [0.3333333333333333, \"#9c179e\"], [0.4444444444444444, \"#bd3786\"], [0.5555555555555556, \"#d8576b\"], [0.6666666666666666, \"#ed7953\"], [0.7777777777777778, \"#fb9f3a\"], [0.8888888888888888, \"#fdca26\"], [1.0, \"#f0f921\"]], \"type\": \"heatmap\"}], \"heatmapgl\": [{\"colorbar\": {\"outlinewidth\": 0, \"ticks\": \"\"}, \"colorscale\": [[0.0, \"#0d0887\"], [0.1111111111111111, \"#46039f\"], [0.2222222222222222, \"#7201a8\"], [0.3333333333333333, \"#9c179e\"], [0.4444444444444444, \"#bd3786\"], [0.5555555555555556, \"#d8576b\"], [0.6666666666666666, \"#ed7953\"], [0.7777777777777778, \"#fb9f3a\"], [0.8888888888888888, \"#fdca26\"], [1.0, \"#f0f921\"]], \"type\": \"heatmapgl\"}], \"histogram\": [{\"marker\": {\"colorbar\": {\"outlinewidth\": 0, \"ticks\": \"\"}}, \"type\": \"histogram\"}], \"histogram2d\": [{\"colorbar\": {\"outlinewidth\": 0, \"ticks\": \"\"}, \"colorscale\": [[0.0, \"#0d0887\"], [0.1111111111111111, \"#46039f\"], [0.2222222222222222, \"#7201a8\"], [0.3333333333333333, \"#9c179e\"], [0.4444444444444444, \"#bd3786\"], [0.5555555555555556, \"#d8576b\"], [0.6666666666666666, \"#ed7953\"], [0.7777777777777778, \"#fb9f3a\"], [0.8888888888888888, \"#fdca26\"], [1.0, \"#f0f921\"]], \"type\": \"histogram2d\"}], \"histogram2dcontour\": [{\"colorbar\": {\"outlinewidth\": 0, \"ticks\": \"\"}, \"colorscale\": [[0.0, \"#0d0887\"], [0.1111111111111111, \"#46039f\"], [0.2222222222222222, \"#7201a8\"], [0.3333333333333333, \"#9c179e\"], [0.4444444444444444, \"#bd3786\"], [0.5555555555555556, \"#d8576b\"], [0.6666666666666666, \"#ed7953\"], [0.7777777777777778, \"#fb9f3a\"], [0.8888888888888888, \"#fdca26\"], [1.0, \"#f0f921\"]], \"type\": \"histogram2dcontour\"}], \"mesh3d\": [{\"colorbar\": {\"outlinewidth\": 0, \"ticks\": \"\"}, \"type\": \"mesh3d\"}], \"parcoords\": [{\"line\": {\"colorbar\": {\"outlinewidth\": 0, \"ticks\": \"\"}}, \"type\": \"parcoords\"}], \"scatter\": [{\"marker\": {\"colorbar\": {\"outlinewidth\": 0, \"ticks\": \"\"}}, \"type\": \"scatter\"}], \"scatter3d\": [{\"line\": {\"colorbar\": {\"outlinewidth\": 0, \"ticks\": \"\"}}, \"marker\": {\"colorbar\": {\"outlinewidth\": 0, \"ticks\": \"\"}}, \"type\": \"scatter3d\"}], \"scattercarpet\": [{\"marker\": {\"colorbar\": {\"outlinewidth\": 0, \"ticks\": \"\"}}, \"type\": \"scattercarpet\"}], \"scattergeo\": [{\"marker\": {\"colorbar\": {\"outlinewidth\": 0, \"ticks\": \"\"}}, \"type\": \"scattergeo\"}], \"scattergl\": [{\"marker\": {\"colorbar\": {\"outlinewidth\": 0, \"ticks\": \"\"}}, \"type\": \"scattergl\"}], \"scattermapbox\": [{\"marker\": {\"colorbar\": {\"outlinewidth\": 0, \"ticks\": \"\"}}, \"type\": \"scattermapbox\"}], \"scatterpolar\": [{\"marker\": {\"colorbar\": {\"outlinewidth\": 0, \"ticks\": \"\"}}, \"type\": \"scatterpolar\"}], \"scatterpolargl\": [{\"marker\": {\"colorbar\": {\"outlinewidth\": 0, \"ticks\": \"\"}}, \"type\": \"scatterpolargl\"}], \"scatterternary\": [{\"marker\": {\"colorbar\": {\"outlinewidth\": 0, \"ticks\": \"\"}}, \"type\": \"scatterternary\"}], \"surface\": [{\"colorbar\": {\"outlinewidth\": 0, \"ticks\": \"\"}, \"colorscale\": [[0.0, \"#0d0887\"], [0.1111111111111111, \"#46039f\"], [0.2222222222222222, \"#7201a8\"], [0.3333333333333333, \"#9c179e\"], [0.4444444444444444, \"#bd3786\"], [0.5555555555555556, \"#d8576b\"], [0.6666666666666666, \"#ed7953\"], [0.7777777777777778, \"#fb9f3a\"], [0.8888888888888888, \"#fdca26\"], [1.0, \"#f0f921\"]], \"type\": \"surface\"}], \"table\": [{\"cells\": {\"fill\": {\"color\": \"#EBF0F8\"}, \"line\": {\"color\": \"white\"}}, \"header\": {\"fill\": {\"color\": \"#C8D4E3\"}, \"line\": {\"color\": \"white\"}}, \"type\": \"table\"}]}, \"layout\": {\"annotationdefaults\": {\"arrowcolor\": \"#2a3f5f\", \"arrowhead\": 0, \"arrowwidth\": 1}, \"colorscale\": {\"diverging\": [[0, \"#8e0152\"], [0.1, \"#c51b7d\"], [0.2, \"#de77ae\"], [0.3, \"#f1b6da\"], [0.4, \"#fde0ef\"], [0.5, \"#f7f7f7\"], [0.6, \"#e6f5d0\"], [0.7, \"#b8e186\"], [0.8, \"#7fbc41\"], [0.9, \"#4d9221\"], [1, \"#276419\"]], \"sequential\": [[0.0, \"#0d0887\"], [0.1111111111111111, \"#46039f\"], [0.2222222222222222, \"#7201a8\"], [0.3333333333333333, \"#9c179e\"], [0.4444444444444444, \"#bd3786\"], [0.5555555555555556, \"#d8576b\"], [0.6666666666666666, \"#ed7953\"], [0.7777777777777778, \"#fb9f3a\"], [0.8888888888888888, \"#fdca26\"], [1.0, \"#f0f921\"]], \"sequentialminus\": [[0.0, \"#0d0887\"], [0.1111111111111111, \"#46039f\"], [0.2222222222222222, \"#7201a8\"], [0.3333333333333333, \"#9c179e\"], [0.4444444444444444, \"#bd3786\"], [0.5555555555555556, \"#d8576b\"], [0.6666666666666666, \"#ed7953\"], [0.7777777777777778, \"#fb9f3a\"], [0.8888888888888888, \"#fdca26\"], [1.0, \"#f0f921\"]]}, \"colorway\": [\"#636efa\", \"#EF553B\", \"#00cc96\", \"#ab63fa\", \"#FFA15A\", \"#19d3f3\", \"#FF6692\", \"#B6E880\", \"#FF97FF\", \"#FECB52\"], \"font\": {\"color\": \"#2a3f5f\"}, \"geo\": {\"bgcolor\": \"white\", \"lakecolor\": \"white\", \"landcolor\": \"#E5ECF6\", \"showlakes\": true, \"showland\": true, \"subunitcolor\": \"white\"}, \"hoverlabel\": {\"align\": \"left\"}, \"hovermode\": \"closest\", \"mapbox\": {\"style\": \"light\"}, \"paper_bgcolor\": \"white\", \"plot_bgcolor\": \"#E5ECF6\", \"polar\": {\"angularaxis\": {\"gridcolor\": \"white\", \"linecolor\": \"white\", \"ticks\": \"\"}, \"bgcolor\": \"#E5ECF6\", \"radialaxis\": {\"gridcolor\": \"white\", \"linecolor\": \"white\", \"ticks\": \"\"}}, \"scene\": {\"xaxis\": {\"backgroundcolor\": \"#E5ECF6\", \"gridcolor\": \"white\", \"gridwidth\": 2, \"linecolor\": \"white\", \"showbackground\": true, \"ticks\": \"\", \"zerolinecolor\": \"white\"}, \"yaxis\": {\"backgroundcolor\": \"#E5ECF6\", \"gridcolor\": \"white\", \"gridwidth\": 2, \"linecolor\": \"white\", \"showbackground\": true, \"ticks\": \"\", \"zerolinecolor\": \"white\"}, \"zaxis\": {\"backgroundcolor\": \"#E5ECF6\", \"gridcolor\": \"white\", \"gridwidth\": 2, \"linecolor\": \"white\", \"showbackground\": true, \"ticks\": \"\", \"zerolinecolor\": \"white\"}}, \"shapedefaults\": {\"line\": {\"color\": \"#2a3f5f\"}}, \"ternary\": {\"aaxis\": {\"gridcolor\": \"white\", \"linecolor\": \"white\", \"ticks\": \"\"}, \"baxis\": {\"gridcolor\": \"white\", \"linecolor\": \"white\", \"ticks\": \"\"}, \"bgcolor\": \"#E5ECF6\", \"caxis\": {\"gridcolor\": \"white\", \"linecolor\": \"white\", \"ticks\": \"\"}}, \"title\": {\"x\": 0.05}, \"xaxis\": {\"automargin\": true, \"gridcolor\": \"white\", \"linecolor\": \"white\", \"ticks\": \"\", \"zerolinecolor\": \"white\", \"zerolinewidth\": 2}, \"yaxis\": {\"automargin\": true, \"gridcolor\": \"white\", \"linecolor\": \"white\", \"ticks\": \"\", \"zerolinecolor\": \"white\", \"zerolinewidth\": 2}}}, \"title\": {\"font\": {\"color\": \"#4D5663\"}}, \"xaxis\": {\"anchor\": \"y\", \"domain\": [0.0, 0.2125], \"gridcolor\": \"#E1E5ED\", \"showgrid\": false, \"tickfont\": {\"color\": \"#4D5663\"}, \"title\": {\"font\": {\"color\": \"#4D5663\"}, \"text\": \"\"}, \"zerolinecolor\": \"#E1E5ED\"}, \"xaxis10\": {\"anchor\": \"y10\", \"domain\": [0.2625, 0.475], \"gridcolor\": \"#E1E5ED\", \"showgrid\": false, \"tickfont\": {\"color\": \"#4D5663\"}, \"title\": {\"font\": {\"color\": \"#4D5663\"}, \"text\": \"\"}, \"zerolinecolor\": \"#E1E5ED\"}, \"xaxis11\": {\"anchor\": \"y11\", \"domain\": [0.525, 0.7375], \"gridcolor\": \"#E1E5ED\", \"showgrid\": false, \"tickfont\": {\"color\": \"#4D5663\"}, \"title\": {\"font\": {\"color\": \"#4D5663\"}, \"text\": \"\"}, \"zerolinecolor\": \"#E1E5ED\"}, \"xaxis12\": {\"anchor\": \"y12\", \"domain\": [0.7875, 1.0], \"gridcolor\": \"#E1E5ED\", \"showgrid\": false, \"tickfont\": {\"color\": \"#4D5663\"}, \"title\": {\"font\": {\"color\": \"#4D5663\"}, \"text\": \"\"}, \"zerolinecolor\": \"#E1E5ED\"}, \"xaxis13\": {\"anchor\": \"y13\", \"domain\": [0.0, 0.2125], \"gridcolor\": \"#E1E5ED\", \"showgrid\": false, \"tickfont\": {\"color\": \"#4D5663\"}, \"title\": {\"font\": {\"color\": \"#4D5663\"}, \"text\": \"\"}, \"zerolinecolor\": \"#E1E5ED\"}, \"xaxis14\": {\"anchor\": \"y14\", \"domain\": [0.2625, 0.475], \"gridcolor\": \"#E1E5ED\", \"showgrid\": false, \"tickfont\": {\"color\": \"#4D5663\"}, \"title\": {\"font\": {\"color\": \"#4D5663\"}, \"text\": \"\"}, \"zerolinecolor\": \"#E1E5ED\"}, \"xaxis15\": {\"anchor\": \"y15\", \"domain\": [0.525, 0.7375], \"gridcolor\": \"#E1E5ED\", \"showgrid\": false, \"tickfont\": {\"color\": \"#4D5663\"}, \"title\": {\"font\": {\"color\": \"#4D5663\"}, \"text\": \"\"}, \"zerolinecolor\": \"#E1E5ED\"}, \"xaxis16\": {\"anchor\": \"y16\", \"domain\": [0.7875, 1.0], \"gridcolor\": \"#E1E5ED\", \"showgrid\": false, \"tickfont\": {\"color\": \"#4D5663\"}, \"title\": {\"font\": {\"color\": \"#4D5663\"}, \"text\": \"\"}, \"zerolinecolor\": \"#E1E5ED\"}, \"xaxis2\": {\"anchor\": \"y2\", \"domain\": [0.2625, 0.475], \"gridcolor\": \"#E1E5ED\", \"showgrid\": false, \"tickfont\": {\"color\": \"#4D5663\"}, \"title\": {\"font\": {\"color\": \"#4D5663\"}, \"text\": \"\"}, \"zerolinecolor\": \"#E1E5ED\"}, \"xaxis3\": {\"anchor\": \"y3\", \"domain\": [0.525, 0.7375], \"gridcolor\": \"#E1E5ED\", \"showgrid\": false, \"tickfont\": {\"color\": \"#4D5663\"}, \"title\": {\"font\": {\"color\": \"#4D5663\"}, \"text\": \"\"}, \"zerolinecolor\": \"#E1E5ED\"}, \"xaxis4\": {\"anchor\": \"y4\", \"domain\": [0.7875, 1.0], \"gridcolor\": \"#E1E5ED\", \"showgrid\": false, \"tickfont\": {\"color\": \"#4D5663\"}, \"title\": {\"font\": {\"color\": \"#4D5663\"}, \"text\": \"\"}, \"zerolinecolor\": \"#E1E5ED\"}, \"xaxis5\": {\"anchor\": \"y5\", \"domain\": [0.0, 0.2125], \"gridcolor\": \"#E1E5ED\", \"showgrid\": false, \"tickfont\": {\"color\": \"#4D5663\"}, \"title\": {\"font\": {\"color\": \"#4D5663\"}, \"text\": \"\"}, \"zerolinecolor\": \"#E1E5ED\"}, \"xaxis6\": {\"anchor\": \"y6\", \"domain\": [0.2625, 0.475], \"gridcolor\": \"#E1E5ED\", \"showgrid\": false, \"tickfont\": {\"color\": \"#4D5663\"}, \"title\": {\"font\": {\"color\": \"#4D5663\"}, \"text\": \"\"}, \"zerolinecolor\": \"#E1E5ED\"}, \"xaxis7\": {\"anchor\": \"y7\", \"domain\": [0.525, 0.7375], \"gridcolor\": \"#E1E5ED\", \"showgrid\": false, \"tickfont\": {\"color\": \"#4D5663\"}, \"title\": {\"font\": {\"color\": \"#4D5663\"}, \"text\": \"\"}, \"zerolinecolor\": \"#E1E5ED\"}, \"xaxis8\": {\"anchor\": \"y8\", \"domain\": [0.7875, 1.0], \"gridcolor\": \"#E1E5ED\", \"showgrid\": false, \"tickfont\": {\"color\": \"#4D5663\"}, \"title\": {\"font\": {\"color\": \"#4D5663\"}, \"text\": \"\"}, \"zerolinecolor\": \"#E1E5ED\"}, \"xaxis9\": {\"anchor\": \"y9\", \"domain\": [0.0, 0.2125], \"gridcolor\": \"#E1E5ED\", \"showgrid\": false, \"tickfont\": {\"color\": \"#4D5663\"}, \"title\": {\"font\": {\"color\": \"#4D5663\"}, \"text\": \"\"}, \"zerolinecolor\": \"#E1E5ED\"}, \"yaxis\": {\"anchor\": \"x\", \"domain\": [0.8025, 1.0], \"gridcolor\": \"#E1E5ED\", \"showgrid\": false, \"tickfont\": {\"color\": \"#4D5663\"}, \"title\": {\"font\": {\"color\": \"#4D5663\"}, \"text\": \"\"}, \"zerolinecolor\": \"#E1E5ED\"}, \"yaxis10\": {\"anchor\": \"x10\", \"domain\": [0.2675, 0.465], \"gridcolor\": \"#E1E5ED\", \"showgrid\": false, \"tickfont\": {\"color\": \"#4D5663\"}, \"title\": {\"font\": {\"color\": \"#4D5663\"}, \"text\": \"\"}, \"zerolinecolor\": \"#E1E5ED\"}, \"yaxis11\": {\"anchor\": \"x11\", \"domain\": [0.2675, 0.465], \"gridcolor\": \"#E1E5ED\", \"showgrid\": false, \"tickfont\": {\"color\": \"#4D5663\"}, \"title\": {\"font\": {\"color\": \"#4D5663\"}, \"text\": \"\"}, \"zerolinecolor\": \"#E1E5ED\"}, \"yaxis12\": {\"anchor\": \"x12\", \"domain\": [0.2675, 0.465], \"gridcolor\": \"#E1E5ED\", \"showgrid\": false, \"tickfont\": {\"color\": \"#4D5663\"}, \"title\": {\"font\": {\"color\": \"#4D5663\"}, \"text\": \"\"}, \"zerolinecolor\": \"#E1E5ED\"}, \"yaxis13\": {\"anchor\": \"x13\", \"domain\": [0.0, 0.1975], \"gridcolor\": \"#E1E5ED\", \"showgrid\": false, \"tickfont\": {\"color\": \"#4D5663\"}, \"title\": {\"font\": {\"color\": \"#4D5663\"}, \"text\": \"\"}, \"zerolinecolor\": \"#E1E5ED\"}, \"yaxis14\": {\"anchor\": \"x14\", \"domain\": [0.0, 0.1975], \"gridcolor\": \"#E1E5ED\", \"showgrid\": false, \"tickfont\": {\"color\": \"#4D5663\"}, \"title\": {\"font\": {\"color\": \"#4D5663\"}, \"text\": \"\"}, \"zerolinecolor\": \"#E1E5ED\"}, \"yaxis15\": {\"anchor\": \"x15\", \"domain\": [0.0, 0.1975], \"gridcolor\": \"#E1E5ED\", \"showgrid\": false, \"tickfont\": {\"color\": \"#4D5663\"}, \"title\": {\"font\": {\"color\": \"#4D5663\"}, \"text\": \"\"}, \"zerolinecolor\": \"#E1E5ED\"}, \"yaxis16\": {\"anchor\": \"x16\", \"domain\": [0.0, 0.1975], \"gridcolor\": \"#E1E5ED\", \"showgrid\": false, \"tickfont\": {\"color\": \"#4D5663\"}, \"title\": {\"font\": {\"color\": \"#4D5663\"}, \"text\": \"\"}, \"zerolinecolor\": \"#E1E5ED\"}, \"yaxis2\": {\"anchor\": \"x2\", \"domain\": [0.8025, 1.0], \"gridcolor\": \"#E1E5ED\", \"showgrid\": false, \"tickfont\": {\"color\": \"#4D5663\"}, \"title\": {\"font\": {\"color\": \"#4D5663\"}, \"text\": \"\"}, \"zerolinecolor\": \"#E1E5ED\"}, \"yaxis3\": {\"anchor\": \"x3\", \"domain\": [0.8025, 1.0], \"gridcolor\": \"#E1E5ED\", \"showgrid\": false, \"tickfont\": {\"color\": \"#4D5663\"}, \"title\": {\"font\": {\"color\": \"#4D5663\"}, \"text\": \"\"}, \"zerolinecolor\": \"#E1E5ED\"}, \"yaxis4\": {\"anchor\": \"x4\", \"domain\": [0.8025, 1.0], \"gridcolor\": \"#E1E5ED\", \"showgrid\": false, \"tickfont\": {\"color\": \"#4D5663\"}, \"title\": {\"font\": {\"color\": \"#4D5663\"}, \"text\": \"\"}, \"zerolinecolor\": \"#E1E5ED\"}, \"yaxis5\": {\"anchor\": \"x5\", \"domain\": [0.535, 0.7325], \"gridcolor\": \"#E1E5ED\", \"showgrid\": false, \"tickfont\": {\"color\": \"#4D5663\"}, \"title\": {\"font\": {\"color\": \"#4D5663\"}, \"text\": \"\"}, \"zerolinecolor\": \"#E1E5ED\"}, \"yaxis6\": {\"anchor\": \"x6\", \"domain\": [0.535, 0.7325], \"gridcolor\": \"#E1E5ED\", \"showgrid\": false, \"tickfont\": {\"color\": \"#4D5663\"}, \"title\": {\"font\": {\"color\": \"#4D5663\"}, \"text\": \"\"}, \"zerolinecolor\": \"#E1E5ED\"}, \"yaxis7\": {\"anchor\": \"x7\", \"domain\": [0.535, 0.7325], \"gridcolor\": \"#E1E5ED\", \"showgrid\": false, \"tickfont\": {\"color\": \"#4D5663\"}, \"title\": {\"font\": {\"color\": \"#4D5663\"}, \"text\": \"\"}, \"zerolinecolor\": \"#E1E5ED\"}, \"yaxis8\": {\"anchor\": \"x8\", \"domain\": [0.535, 0.7325], \"gridcolor\": \"#E1E5ED\", \"showgrid\": false, \"tickfont\": {\"color\": \"#4D5663\"}, \"title\": {\"font\": {\"color\": \"#4D5663\"}, \"text\": \"\"}, \"zerolinecolor\": \"#E1E5ED\"}, \"yaxis9\": {\"anchor\": \"x9\", \"domain\": [0.2675, 0.465], \"gridcolor\": \"#E1E5ED\", \"showgrid\": false, \"tickfont\": {\"color\": \"#4D5663\"}, \"title\": {\"font\": {\"color\": \"#4D5663\"}, \"text\": \"\"}, \"zerolinecolor\": \"#E1E5ED\"}},\n",
       "                        {\"showLink\": true, \"linkText\": \"Export to plot.ly\", \"plotlyServerURL\": \"https://plot.ly\", \"responsive\": true}\n",
       "                    ).then(function(){\n",
       "                            \n",
       "var gd = document.getElementById('883b50ec-88f3-44dd-90c4-74aacd87baa6');\n",
       "var x = new MutationObserver(function (mutations, observer) {{\n",
       "        var display = window.getComputedStyle(gd).display;\n",
       "        if (!display || display === 'none') {{\n",
       "            console.log([gd, 'removed!']);\n",
       "            Plotly.purge(gd);\n",
       "            observer.disconnect();\n",
       "        }}\n",
       "}});\n",
       "\n",
       "// Listen for the removal of the full notebook cells\n",
       "var notebookContainer = gd.closest('#notebook-container');\n",
       "if (notebookContainer) {{\n",
       "    x.observe(notebookContainer, {childList: true});\n",
       "}}\n",
       "\n",
       "// Listen for the clearing of the current output cell\n",
       "var outputEl = gd.closest('.output');\n",
       "if (outputEl) {{\n",
       "    x.observe(outputEl, {childList: true});\n",
       "}}\n",
       "\n",
       "                        })\n",
       "                };\n",
       "                });\n",
       "            </script>\n",
       "        </div>"
      ]
     },
     "metadata": {},
     "output_type": "display_data"
    }
   ],
   "source": [
    "# matrix plot is similar to seaborn pair plot\n",
    "# the all columns need to numerical\n",
    "\n",
    "df.scatter_matrix()"
   ]
  },
  {
   "cell_type": "code",
   "execution_count": null,
   "metadata": {},
   "outputs": [],
   "source": []
  }
 ],
 "metadata": {
  "kernelspec": {
   "display_name": "Python 3",
   "language": "python",
   "name": "python3"
  },
  "language_info": {
   "codemirror_mode": {
    "name": "ipython",
    "version": 3
   },
   "file_extension": ".py",
   "mimetype": "text/x-python",
   "name": "python",
   "nbconvert_exporter": "python",
   "pygments_lexer": "ipython3",
   "version": "3.7.4"
  }
 },
 "nbformat": 4,
 "nbformat_minor": 2
}
