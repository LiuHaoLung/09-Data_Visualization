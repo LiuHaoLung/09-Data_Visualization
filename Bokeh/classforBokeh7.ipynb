{
 "cells": [
  {
   "cell_type": "code",
   "execution_count": 1,
   "metadata": {},
   "outputs": [],
   "source": [
    "from bokeh.plotting import figure,output_file,show\n",
    "\n",
    "# 設定資料，也可以是匯入資料\n",
    "x = [10,20,30,40,50,60,70,80,90]\n",
    "y = [11,12,13,14,15,16,17,18,19]\n",
    "\n",
    "# 將檔案存為html，然後()裡面的就是html的檔名\n",
    "output_file('line.html')\n",
    "\n",
    "# 設定圖表變數p，且圖表表名(title)為Basic Line Plot，x軸是x_axis，y軸是y_axis\n",
    "p = figure(title = 'Basic Line Plot',x_axis_label = 'x_axis',y_axis_label = 'y_axis')\n",
    "\n",
    "# 顯示出來的線名(legend)為Price，線(width)的寬度為3\n",
    "p.line(x,y,legend = 'Price',line_width = 3)\n",
    "\n",
    "show(p)"
   ]
  },
  {
   "cell_type": "code",
   "execution_count": null,
   "metadata": {},
   "outputs": [],
   "source": []
  }
 ],
 "metadata": {
  "kernelspec": {
   "display_name": "Python 3",
   "language": "python",
   "name": "python3"
  },
  "language_info": {
   "codemirror_mode": {
    "name": "ipython",
    "version": 3
   },
   "file_extension": ".py",
   "mimetype": "text/x-python",
   "name": "python",
   "nbconvert_exporter": "python",
   "pygments_lexer": "ipython3",
   "version": "3.7.4"
  }
 },
 "nbformat": 4,
 "nbformat_minor": 2
}
